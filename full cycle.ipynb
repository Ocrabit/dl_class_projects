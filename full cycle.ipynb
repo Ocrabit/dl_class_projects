{
 "cells": [
  {
   "cell_type": "code",
   "execution_count": 68,
   "id": "1ee462f7003a232b",
   "metadata": {
    "ExecuteTime": {
     "end_time": "2025-10-12T17:54:06.242477Z",
     "start_time": "2025-10-12T17:54:03.236146Z"
    }
   },
   "outputs": [],
   "source": [
    "import os.path\n",
    "\n",
    "import torch\n",
    "import wandb\n",
    "import torchvision\n",
    "from torchvision.transforms import ToTensor, RandomAffine, RandomErasing\n",
    "from torch import nn, optim, utils\n",
    "from torch.utils.data import DataLoader\n",
    "from torch.nn.utils import clip_grad_norm_\n",
    "from torchvision.datasets import MNIST\n",
    "import torch.nn.functional as F\n",
    "from torch_ema import ExponentialMovingAverage\n",
    "from tqdm import tqdm\n",
    "from safetensors.torch import save_file, load_file\n",
    "\n",
    "\n",
    "# Customs\n",
    "from helpers import load_encoded_dataset, encode_dataset\n",
    "from helpers import rk4_step, integrate_path, warp_time, BasicModel\n",
    "from helpers import plot_latent_space, comparative_generate_samples, plot_generated, create_model_suffix, load_checkpoint\n",
    "\n",
    "from models import ResNetVAE, log_example_images, InspoResNetVAE\n",
    "from models import SimpleFlowModel, FlatVelocityNet, ConvFlowNet\n",
    "from models import test_inference, test_inference_spatial\n",
    "\n",
    "from flow_train.train import train as flow_train"
   ]
  },
  {
   "cell_type": "code",
   "execution_count": 13,
   "id": "538eef30a1284b44",
   "metadata": {
    "ExecuteTime": {
     "end_time": "2025-10-12T01:48:00.122539Z",
     "start_time": "2025-10-12T01:47:59.793355Z"
    }
   },
   "outputs": [],
   "source": [
    "device = torch.device('cuda' if torch.cuda.is_available() else 'mps' if torch.backends.mps.is_available() else 'cpu')\n",
    "\n",
    "model_save_path = 'models/safetensors/'\n",
    "\n",
    "wandb.login()\n",
    "wandb.finish()"
   ]
  },
  {
   "cell_type": "code",
   "execution_count": 14,
   "id": "7b5ecd97e0199247",
   "metadata": {
    "ExecuteTime": {
     "end_time": "2025-10-12T01:48:04.856832Z",
     "start_time": "2025-10-12T01:48:04.824201Z"
    }
   },
   "outputs": [
    {
     "name": "stdout",
     "output_type": "stream",
     "text": [
      "Data set lengths: train: 60000, test: 10000\n"
     ]
    }
   ],
   "source": [
    "train_transforms = torchvision.transforms.Compose([\n",
    "    ToTensor(),\n",
    "    # uncomment next lines for extra augmentations\n",
    "    #RandomAffine(degrees=15, translate=(0.1, 0.1)),\n",
    "    #RandomErasing(p=0.2, scale=(0.02, 0.1))\n",
    "])\n",
    "train_ds = MNIST(root='./data', train=True,  download=True, transform=train_transforms)\n",
    "test_ds  = MNIST(root='./data', train=False, download=True, transform=ToTensor())\n",
    "print(f\"Data set lengths: train: {len(train_ds)}, test: {len(test_ds)}\")\n",
    "\n",
    "batch_size = 128\n",
    "train_dl = DataLoader(train_ds, batch_size=batch_size, num_workers=2, shuffle=True, persistent_workers=True)\n",
    "test_dl = DataLoader(test_ds, batch_size=batch_size, num_workers=2, shuffle=False, persistent_workers=True)"
   ]
  },
  {
   "cell_type": "markdown",
   "id": "5cc2dfa4996952b",
   "metadata": {
    "jp-MarkdownHeadingCollapsed": true
   },
   "source": [
    "### VAE"
   ]
  },
  {
   "cell_type": "code",
   "execution_count": 4,
   "id": "5bd3586ab63181b5",
   "metadata": {
    "ExecuteTime": {
     "end_time": "2025-10-12T01:48:06.126044Z",
     "start_time": "2025-10-12T01:48:06.119618Z"
    }
   },
   "outputs": [],
   "source": [
    "project = \"vae_conv_testing\"\n",
    "recon_criterion = F.binary_cross_entropy_with_logits\n",
    "\n",
    "def train_vae_old(\n",
    "    model, train_loader, val_loader, name=None,\n",
    "    epochs=20, lr=2e-3, weight_decay=5e-5,\n",
    "    beta_final=0.005, warmup_epochs=10, grad_clip=5.0, ema=0.97, spatial=False\n",
    "):\n",
    "    device = next(model.parameters()).device\n",
    "\n",
    "    # ---- W&B ----\n",
    "    wandb.finish()\n",
    "    wandb.init(project=project, name=name, reinit='finish_previous')\n",
    "    wandb.config.update({\n",
    "        \"epochs\": epochs,\n",
    "        \"batch_size\": batch_size,\n",
    "        \"learning_rate\": lr,\n",
    "        \"model\": model.__class__.__name__,\n",
    "        \"optimizer\": \"Adam\",\n",
    "        \"device\": str(device),\n",
    "    })\n",
    "\n",
    "    optimizer = optim.Adam(model.parameters(), lr=lr, weight_decay=weight_decay)\n",
    "    global_step = 0\n",
    "    train_loss_avg = None\n",
    "\n",
    "    for epoch in range(epochs):\n",
    "        model.train()\n",
    "\n",
    "        beta = beta_final * min((epoch + 1) / warmup_epochs, 1.0)\n",
    "\n",
    "        pbar = tqdm(train_loader, desc=f\"Epoch {epoch+1}/{epochs}\")\n",
    "        for batch_idx, (data, _) in enumerate(pbar):\n",
    "            data = data.to(device)\n",
    "            optimizer.zero_grad()\n",
    "\n",
    "            z, x_hat, mu, log_var, z_hat = model(data)\n",
    "\n",
    "            recon_loss = recon_criterion(x_hat, data, reduction=\"sum\") / data.size(0)\n",
    "            \n",
    "            kl = -0.5 * (1 + log_var - mu.pow(2) - log_var.exp())\n",
    "            kl = kl.view(kl.size(0), -1).sum(dim=1).mean()\n",
    "            \n",
    "            loss = recon_loss + beta * kl\n",
    "\n",
    "            # loss, recon_loss, kl = vae_loss(data, x_hat, mu, log_var, beta)\n",
    "\n",
    "            loss.backward()\n",
    "            # if grad_clip is not None:\n",
    "            #     clip_grad_norm_(model.parameters(), grad_clip)\n",
    "            optimizer.step()\n",
    "\n",
    "            train_loss_avg = loss.item() if train_loss_avg is None else ema * train_loss_avg + (1 - ema) * loss.item()\n",
    "\n",
    "            wandb.log({\n",
    "                \"step\": global_step,\n",
    "                \"train_loss_ema\": train_loss_avg,\n",
    "                \"train_loss\": loss.item(),\n",
    "                \"recon_loss\": recon_loss.item(),\n",
    "                \"kl_loss\": kl.item(),\n",
    "                \"beta\": beta,\n",
    "                \"beta*kl\": (beta * kl).item(),\n",
    "            })\n",
    "            global_step += 1\n",
    "            pbar.set_postfix(Loss=f\"{train_loss_avg:.4f}\", Recon=f\"{recon_loss.item():.4f}\", KLw=f\"{(beta*kl).item():.5f}\")\n",
    "\n",
    "        # ---- validation ----\n",
    "        model.eval()\n",
    "        val_loss = val_recon = val_kl = 0.0\n",
    "        mu_stats = []\n",
    "\n",
    "        with torch.no_grad():\n",
    "            for data, _ in val_loader:\n",
    "                data = data.to(device)\n",
    "                z, x_hat, mu, log_var, z_hat = model(data)\n",
    "\n",
    "                recon = recon_criterion(x_hat, data)\n",
    "                kl = -0.5 * torch.mean(1 + log_var - mu.pow(2) - log_var.exp())\n",
    "                loss = recon + beta * kl\n",
    "\n",
    "                val_loss += loss.item(); val_recon += recon.item(); val_kl += kl.item()\n",
    "                mu_stats.append(mu)\n",
    "\n",
    "        n = len(val_loader)\n",
    "        val_loss /= n; val_recon /= n; val_kl /= n\n",
    "\n",
    "        mu_all = torch.cat(mu_stats, dim=0)\n",
    "        mu_mean = mu_all.mean().item(); mu_std = mu_all.std().item()\n",
    "\n",
    "        wandb.log({\n",
    "            \"epoch\": epoch + 1,\n",
    "            \"val_loss\": val_loss,\n",
    "            \"val_recon_loss\": val_recon,\n",
    "            \"val_kl_loss\": val_kl,\n",
    "            \"mu_mean\": mu_mean,\n",
    "            \"mu_std\": mu_std,\n",
    "        })\n",
    "        # print(f\"Epoch {epoch+1:02d} | beta {beta:.3f} | val {val_loss:.4f} | recon {val_recon:.4f} | KL {val_kl:.4f} | μ_mean {mu_mean:.3f} μ_std {mu_std:.3f}\")\n",
    "\n",
    "        # visualize with sigmoid at eval-time only\n",
    "        log_example_images(model, val_loader.dataset, epoch + 1, spatial=spatial, n=5)\n",
    "\n",
    "    wandb.finish()\n",
    "    return val_loss"
   ]
  },
  {
   "cell_type": "code",
   "execution_count": 5,
   "id": "211b46fa1bff21cf",
   "metadata": {
    "ExecuteTime": {
     "end_time": "2025-10-12T01:51:11.438913Z",
     "start_time": "2025-10-12T01:51:11.431088Z"
    }
   },
   "outputs": [],
   "source": [
    "def train_vae(\n",
    "    model, train_loader, val_loader, name=None,\n",
    "    epochs=20, lr=2e-3, weight_decay=5e-5,\n",
    "    beta_final=1.0, warmup_epochs=5, param_ema_decay=0.9999\n",
    "):\n",
    "    device = next(model.parameters()).device\n",
    "    \n",
    "    # Count parameters\n",
    "    total_params = sum(p.numel() for p in model.parameters())\n",
    "    latent_dim = model.latent_dim\n",
    "\n",
    "    spatial = len(model.latent_shape) > 1 if hasattr(model, 'latent_shape') else False\n",
    "\n",
    "    # W&B setup\n",
    "    wandb.finish()\n",
    "    wandb.init(project=project, name=name, reinit='finish_previous')\n",
    "\n",
    "    config_dict = {\n",
    "        \"epochs\": epochs,\n",
    "        \"batch_size\": train_loader.batch_size,\n",
    "        \"learning_rate\": lr,\n",
    "        \"model\": model.__class__.__name__,\n",
    "        \"optimizer\": \"Adam\",\n",
    "        \"device\": str(device),\n",
    "        \"total_params\": total_params,\n",
    "        \"latent_dim\": latent_dim,\n",
    "        \"latent_shape\": model.latent_shape,\n",
    "        \"param_ema_decay\": param_ema_decay,\n",
    "    }\n",
    "    if hasattr(model, 'config'):  # Add model config if avail\n",
    "        config_dict[\"model_config\"] = model.config\n",
    "    wandb.config.update(config_dict)\n",
    "    \n",
    "    recon_criterion = F.binary_cross_entropy_with_logits\n",
    "    optimizer = optim.Adam(model.parameters(), lr=lr, weight_decay=weight_decay)\n",
    "    ema = ExponentialMovingAverage(model.parameters(), decay=param_ema_decay)\n",
    "    \n",
    "    global_step = 0\n",
    "\n",
    "    for epoch in range(epochs):\n",
    "        model.train()\n",
    "        beta = beta_final * min((epoch + 1) / warmup_epochs, 1.0)\n",
    "        \n",
    "        pbar = tqdm(train_loader, desc=f\"Epoch {epoch+1}/{epochs}\")\n",
    "        for batch_idx, (data, _) in enumerate(pbar):\n",
    "            data = data.to(device)\n",
    "            optimizer.zero_grad()\n",
    "            \n",
    "            z, x_hat, mu, log_var, z_hat = model(data)\n",
    "            \n",
    "            recon_loss = recon_criterion(x_hat, data, reduction=\"sum\") / data.size(0)\n",
    "            kl = -0.5 * (1 + log_var - mu.pow(2) - log_var.exp())\n",
    "            kl = kl.view(kl.size(0), -1).sum(dim=1).mean()\n",
    "            loss = recon_loss + beta * kl\n",
    "            \n",
    "            loss.backward()\n",
    "            optimizer.step()\n",
    "            ema.update()\n",
    "            \n",
    "            wandb.log({\n",
    "                \"step\": global_step,\n",
    "                \"epoch\": epoch + 1,\n",
    "                \"val_mode\": False,\n",
    "                \"train_loss\": loss.item(),\n",
    "                \"recon_loss\": recon_loss.item(),\n",
    "                \"kl_loss\": kl.item(),\n",
    "                \"beta\": beta,\n",
    "                \"beta*kl\": (beta * kl).item(),\n",
    "            })\n",
    "            global_step += 1\n",
    "            pbar.set_postfix(Loss=f\"{loss.item():.4f}\", Recon=f\"{recon_loss.item():.4f}\", KLw=f\"{(beta*kl).item():.5f}\")\n",
    "        \n",
    "        # Validation with EMA parameters\n",
    "        model.eval()\n",
    "        val_loss = val_recon = val_kl = 0.0\n",
    "        mu_stats = []\n",
    "        mse_total = mae_total = ssim_total = psnr_total = 0.0\n",
    "        num_samples = 0\n",
    "        \n",
    "        with ema.average_parameters():\n",
    "            with torch.no_grad():\n",
    "                for data, _ in val_loader:\n",
    "                    data = data.to(device)\n",
    "                    z, x_hat, mu, log_var, z_hat = model(data)\n",
    "                    \n",
    "                    recon = recon_criterion(x_hat, data)\n",
    "                    kl = -0.5 * torch.mean(1 + log_var - mu.pow(2) - log_var.exp())\n",
    "                    loss = recon + beta * kl\n",
    "                    \n",
    "                    val_loss += loss.item()\n",
    "                    val_recon += recon.item()\n",
    "                    val_kl += kl.item()\n",
    "                    mu_stats.append(mu)\n",
    "                    \n",
    "                    # Reconstruction quality metrics\n",
    "                    x_hat_sigmoid = torch.sigmoid(x_hat)\n",
    "                    \n",
    "                    mse = F.mse_loss(x_hat_sigmoid, data, reduction='sum')\n",
    "                    mse_total += mse.item()\n",
    "                    \n",
    "                    mae = F.l1_loss(x_hat_sigmoid, data, reduction='sum')\n",
    "                    mae_total += mae.item()\n",
    "                    \n",
    "                    psnr = 10 * torch.log10(1.0 / (F.mse_loss(x_hat_sigmoid, data) + 1e-8))\n",
    "                    psnr_total += psnr.item() * data.size(0)\n",
    "                    \n",
    "                    # Correlation coefficient\n",
    "                    data_flat = data.view(data.size(0), -1)\n",
    "                    recon_flat = x_hat_sigmoid.view(data.size(0), -1)\n",
    "                    \n",
    "                    data_mean = data_flat.mean(dim=1, keepdim=True)\n",
    "                    recon_mean = recon_flat.mean(dim=1, keepdim=True)\n",
    "                    data_centered = data_flat - data_mean\n",
    "                    recon_centered = recon_flat - recon_mean\n",
    "                    correlation = (data_centered * recon_centered).sum(dim=1) / (\n",
    "                        torch.sqrt((data_centered**2).sum(dim=1)) * torch.sqrt((recon_centered**2).sum(dim=1)) + 1e-8\n",
    "                    )\n",
    "                    ssim_total += correlation.sum().item()\n",
    "                    \n",
    "                    num_samples += data.size(0)\n",
    "        \n",
    "        n = len(val_loader)\n",
    "        val_loss /= n\n",
    "        val_recon /= n\n",
    "        val_kl /= n\n",
    "        \n",
    "        mse_avg = mse_total / num_samples\n",
    "        mae_avg = mae_total / num_samples\n",
    "        psnr_avg = psnr_total / num_samples\n",
    "        ssim_avg = ssim_total / num_samples\n",
    "        \n",
    "        mu_all = torch.cat(mu_stats, dim=0)\n",
    "        mu_mean = mu_all.mean().item()\n",
    "        mu_std = mu_all.std().item()\n",
    "        \n",
    "        # Composite loss with complexity penalties\n",
    "        param_penalty = total_params / 1e6 * 0.1\n",
    "        latent_penalty = latent_dim / 100 * 0.05\n",
    "        composite_loss = val_loss + param_penalty + latent_penalty\n",
    "        \n",
    "        wandb.log({\n",
    "            \"epoch\": epoch + 1,\n",
    "            \"val_mode\": True,\n",
    "            \"val_loss\": val_loss,\n",
    "            \"composite_loss\": composite_loss,\n",
    "            \"param_penalty\": param_penalty,\n",
    "            \"latent_penalty\": latent_penalty,\n",
    "            \"val_recon_loss\": val_recon,\n",
    "            \"val_kl_loss\": val_kl,\n",
    "            \"mu_mean\": mu_mean,\n",
    "            \"mu_std\": mu_std,\n",
    "            \"val_mse\": mse_avg,\n",
    "            \"val_mae\": mae_avg,\n",
    "            \"val_psnr\": psnr_avg,\n",
    "            \"val_correlation\": ssim_avg,\n",
    "        })\n",
    "\n",
    "        with ema.average_parameters():\n",
    "            log_example_images(model, val_loader.dataset, epoch + 1, spatial=spatial, n=5)\n",
    "    \n",
    "    wandb.finish()\n",
    "    return model, ema"
   ]
  },
  {
   "cell_type": "code",
   "execution_count": 10,
   "id": "e7a735ba08de6ec9",
   "metadata": {
    "ExecuteTime": {
     "end_time": "2025-10-12T01:51:13.638515Z",
     "start_time": "2025-10-12T01:51:13.624853Z"
    }
   },
   "outputs": [],
   "source": [
    "specifications = {\n",
    "    \"base_channels\": 16, \n",
    "    \"blocks_per_level\": 2, \n",
    "    \"groups\": 1\n",
    "}\n",
    "latent_shape = (1,7,7)\n",
    "vae = InspoResNetVAE(latent_shape=latent_shape, **specifications).to(device)\n",
    "# latent_dim=3, act=nn.GELU, use_skips=True, use_bn=True, base_channels=32, blocks_per_level=3, groups=1, dropout=0.4"
   ]
  },
  {
   "cell_type": "code",
   "execution_count": 11,
   "id": "e5336126-9fb2-497c-8acc-7c8e0867138d",
   "metadata": {
    "ExecuteTime": {
     "end_time": "2025-10-12T01:51:15.234462Z",
     "start_time": "2025-10-12T01:51:15.230730Z"
    }
   },
   "outputs": [
    {
     "name": "stdout",
     "output_type": "stream",
     "text": [
      "Total parameters: 394563\n",
      "Trainable parameters: 394563\n"
     ]
    }
   ],
   "source": [
    "total_params = sum(p.numel() for p in vae.parameters())\n",
    "trainable_params = sum(p.numel() for p in vae.parameters() if p.requires_grad)\n",
    "print(f\"Total parameters: {total_params}\")\n",
    "print(f\"Trainable parameters: {trainable_params}\")"
   ]
  },
  {
   "cell_type": "code",
   "execution_count": 12,
   "id": "e9bb5a39acd45894",
   "metadata": {
    "ExecuteTime": {
     "end_time": "2025-10-12T01:52:23.772245Z",
     "start_time": "2025-10-12T01:51:20.465644Z"
    }
   },
   "outputs": [
    {
     "data": {
      "text/html": [],
      "text/plain": [
       "<IPython.core.display.HTML object>"
      ]
     },
     "metadata": {},
     "output_type": "display_data"
    },
    {
     "data": {
      "text/html": [
       "Tracking run with wandb version 0.22.2"
      ],
      "text/plain": [
       "<IPython.core.display.HTML object>"
      ]
     },
     "metadata": {},
     "output_type": "display_data"
    },
    {
     "data": {
      "text/html": [
       "Run data is saved locally in <code>E:\\Pycharm\\dl_class_projects\\dl_experimentation\\wandb\\run-20251011_205120-yq6zshhe</code>"
      ],
      "text/plain": [
       "<IPython.core.display.HTML object>"
      ]
     },
     "metadata": {},
     "output_type": "display_data"
    },
    {
     "data": {
      "text/html": [
       "Syncing run <strong><a href='https://wandb.ai/marcocassar-belmont-university/vae_conv_testing/runs/yq6zshhe' target=\"_blank\">vae_test_l7x7_ba16_bl2_gr1</a></strong> to <a href='https://wandb.ai/marcocassar-belmont-university/vae_conv_testing' target=\"_blank\">Weights & Biases</a> (<a href='https://wandb.me/developer-guide' target=\"_blank\">docs</a>)<br>"
      ],
      "text/plain": [
       "<IPython.core.display.HTML object>"
      ]
     },
     "metadata": {},
     "output_type": "display_data"
    },
    {
     "data": {
      "text/html": [
       " View project at <a href='https://wandb.ai/marcocassar-belmont-university/vae_conv_testing' target=\"_blank\">https://wandb.ai/marcocassar-belmont-university/vae_conv_testing</a>"
      ],
      "text/plain": [
       "<IPython.core.display.HTML object>"
      ]
     },
     "metadata": {},
     "output_type": "display_data"
    },
    {
     "data": {
      "text/html": [
       " View run at <a href='https://wandb.ai/marcocassar-belmont-university/vae_conv_testing/runs/yq6zshhe' target=\"_blank\">https://wandb.ai/marcocassar-belmont-university/vae_conv_testing/runs/yq6zshhe</a>"
      ],
      "text/plain": [
       "<IPython.core.display.HTML object>"
      ]
     },
     "metadata": {},
     "output_type": "display_data"
    },
    {
     "name": "stderr",
     "output_type": "stream",
     "text": [
      "Epoch 1/5: 100%|██████████| 469/469 [00:08<00:00, 56.26it/s, KLw=13.26149, Loss=78.4214, Recon=65.1599] \n",
      "Epoch 2/5: 100%|██████████| 469/469 [00:06<00:00, 74.96it/s, KLw=20.15932, Loss=87.0532, Recon=66.8938]\n",
      "Epoch 3/5: 100%|██████████| 469/469 [00:06<00:00, 74.03it/s, KLw=25.59144, Loss=94.9093, Recon=69.3179] \n",
      "Epoch 4/5: 100%|██████████| 469/469 [00:06<00:00, 72.52it/s, KLw=29.44088, Loss=102.0469, Recon=72.6060]\n",
      "Epoch 5/5: 100%|██████████| 469/469 [00:06<00:00, 74.85it/s, KLw=31.26113, Loss=105.9496, Recon=74.6884]\n"
     ]
    },
    {
     "data": {
      "text/html": [],
      "text/plain": [
       "<IPython.core.display.HTML object>"
      ]
     },
     "metadata": {},
     "output_type": "display_data"
    },
    {
     "data": {
      "text/html": [
       "<br>    <style><br>        .wandb-row {<br>            display: flex;<br>            flex-direction: row;<br>            flex-wrap: wrap;<br>            justify-content: flex-start;<br>            width: 100%;<br>        }<br>        .wandb-col {<br>            display: flex;<br>            flex-direction: column;<br>            flex-basis: 100%;<br>            flex: 1;<br>            padding: 10px;<br>        }<br>    </style><br><div class=\"wandb-row\"><div class=\"wandb-col\"><h3>Run history:</h3><br/><table class=\"wandb\"><tr><td>beta</td><td>▁▁▁▁▁▁▁▁▁▁▃▃▃▃▃▅▅▅▅▅▅▅▅▅▆▆▆▆▆▆▆█████████</td></tr><tr><td>beta*kl</td><td>▁▁▃▃▃▃▃▃▅▅▅▅▅▅▅▄▄▅▆▆▆▆▆▆▆▇▇▇▇▇▇▇█████▇▇█</td></tr><tr><td>composite_loss</td><td>▁▄▅▇█</td></tr><tr><td>epoch</td><td>▁▁▁▁▁▁▁▁▁▁▃▃▃▃▃▅▅▅▅▅▅▅▅▅▅▆▆▆▆▆▆▆▆███████</td></tr><tr><td>kl_loss</td><td>▂▇██████▅▅▅▅▅▃▃▃▃▃▃▃▃▃▂▂▂▂▂▂▂▂▂▂▁▁▁▁▁▁▁▁</td></tr><tr><td>latent_penalty</td><td>▁▁▁▁▁</td></tr><tr><td>mu_mean</td><td>█▅▆▅▁</td></tr><tr><td>mu_std</td><td>█▄▃▂▁</td></tr><tr><td>param_penalty</td><td>▁▁▁▁▁</td></tr><tr><td>recon_loss</td><td>█▄▄▂▂▁▂▁▁▁▂▂▂▂▂▂▂▂▂▂▂▂▂▂▂▃▃▂▃▂▂▂▂▃▂▃▂▃▃▃</td></tr><tr><td>+9</td><td>...</td></tr></table><br/></div><div class=\"wandb-col\"><h3>Run summary:</h3><br/><table class=\"wandb\"><tr><td>beta</td><td>1</td></tr><tr><td>beta*kl</td><td>31.26113</td></tr><tr><td>composite_loss</td><td>0.81693</td></tr><tr><td>epoch</td><td>5</td></tr><tr><td>kl_loss</td><td>31.26113</td></tr><tr><td>latent_penalty</td><td>0.0245</td></tr><tr><td>mu_mean</td><td>-0.03881</td></tr><tr><td>mu_std</td><td>0.73185</td></tr><tr><td>param_penalty</td><td>0.03946</td></tr><tr><td>recon_loss</td><td>74.68845</td></tr><tr><td>+10</td><td>...</td></tr></table><br/></div></div>"
      ],
      "text/plain": [
       "<IPython.core.display.HTML object>"
      ]
     },
     "metadata": {},
     "output_type": "display_data"
    },
    {
     "data": {
      "text/html": [
       " View run <strong style=\"color:#cdcd00\">vae_test_l7x7_ba16_bl2_gr1</strong> at: <a href='https://wandb.ai/marcocassar-belmont-university/vae_conv_testing/runs/yq6zshhe' target=\"_blank\">https://wandb.ai/marcocassar-belmont-university/vae_conv_testing/runs/yq6zshhe</a><br> View project at: <a href='https://wandb.ai/marcocassar-belmont-university/vae_conv_testing' target=\"_blank\">https://wandb.ai/marcocassar-belmont-university/vae_conv_testing</a><br>Synced 5 W&B file(s), 5 media file(s), 0 artifact file(s) and 0 other file(s)"
      ],
      "text/plain": [
       "<IPython.core.display.HTML object>"
      ]
     },
     "metadata": {},
     "output_type": "display_data"
    },
    {
     "data": {
      "text/html": [
       "Find logs at: <code>.\\wandb\\run-20251011_205120-yq6zshhe\\logs</code>"
      ],
      "text/plain": [
       "<IPython.core.display.HTML object>"
      ]
     },
     "metadata": {},
     "output_type": "display_data"
    }
   ],
   "source": [
    "suffix = create_model_suffix(latent_shape, specifications)\n",
    "run_name = f\"vae_test_{suffix}\"\n",
    "vae, ema = train_vae(vae, train_dl, test_dl, name=run_name, epochs=5, warmup_epochs=5, beta_final=1)"
   ]
  },
  {
   "cell_type": "code",
   "execution_count": null,
   "id": "60e472d7a0183bbb",
   "metadata": {
    "ExecuteTime": {
     "end_time": "2025-10-12T01:26:20.452182Z",
     "start_time": "2025-10-12T01:26:15.458492Z"
    }
   },
   "outputs": [],
   "source": [
    "plot_latent_space(vae, test_dl, use_3d=False, reducer='tsne')"
   ]
  },
  {
   "cell_type": "code",
   "execution_count": null,
   "id": "3f2c6a6b91636c46",
   "metadata": {
    "ExecuteTime": {
     "end_time": "2025-10-10T15:28:01.490162Z",
     "start_time": "2025-10-10T15:28:01.488179Z"
    }
   },
   "outputs": [],
   "source": [
    "vae_save_name =  f'{vae.__class__.__name__}_{run_name}'\n",
    "vae_path = os.path.join(model_save_path, f'vae/{vae_save_name}.safetensors')\n",
    "if os.path.exists(vae_path):\n",
    "    print(f\"Path: {vae_path} \\n already exists! Appending run_id to make unique\")\n",
    "    vae_path = vae_path.split('.safetensors')[0] + str(wandb.run.id) + '.safetensors'\n",
    "print(f\"Saving to: {vae_path}\")"
   ]
  },
  {
   "cell_type": "code",
   "execution_count": 33,
   "id": "bbed106df9ed1c6c",
   "metadata": {},
   "outputs": [],
   "source": [
    "save_file(vae.state_dict(), vae_path)"
   ]
  },
  {
   "cell_type": "markdown",
   "id": "c6880ab42c71b1d6",
   "metadata": {
    "jp-MarkdownHeadingCollapsed": true
   },
   "source": [
    "### Encode VAE"
   ]
  },
  {
   "cell_type": "code",
   "execution_count": 34,
   "id": "e7e1403e47e6ed12",
   "metadata": {},
   "outputs": [
    {
     "name": "stdout",
     "output_type": "stream",
     "text": [
      "Processing train split...\n",
      "\n"
     ]
    },
    {
     "name": "stderr",
     "output_type": "stream",
     "text": [
      "Loader: MNIST train Batch 469/469: 100%|██████████████████████████████████████████████████████████████████████████████████████████████████████████████████████████████████████| 469/469 [00:01<00:00, 251.02it/s]\n"
     ]
    },
    {
     "name": "stdout",
     "output_type": "stream",
     "text": [
      "Processing test split...\n",
      "\n"
     ]
    },
    {
     "name": "stderr",
     "output_type": "stream",
     "text": [
      "Loader: MNIST test Batch 79/79: 100%|███████████████████████████████████████████████████████████████████████████████████████████████████████████████████████████████████████████| 79/79 [00:00<00:00, 243.78it/s]\n"
     ]
    }
   ],
   "source": [
    "vae.eval()\n",
    "encode_dataset(vae, train_dl, test_dl, suffix=suffix)"
   ]
  },
  {
   "cell_type": "markdown",
   "id": "509476dd47161936",
   "metadata": {},
   "source": [
    "### Flow Matching"
   ]
  },
  {
   "cell_type": "code",
   "execution_count": null,
   "id": "cd32228ccbf3786a",
   "metadata": {},
   "outputs": [],
   "source": []
  },
  {
   "cell_type": "code",
   "execution_count": null,
   "id": "b83bad509a4198d4",
   "metadata": {},
   "outputs": [],
   "source": [
    "# load vae if needed\n",
    "name_of_vae_tensor = 'sp_vae.safetensors'\n",
    "path_to_vae = os.path.join(model_save_path, '/vae/', name_of_vae_tensor)\n",
    "vae = ResNetVAE().to(device)\n",
    "vae.load_state_dict(load_file(vae_path))\n",
    "vae.eval()"
   ]
  },
  {
   "cell_type": "code",
   "execution_count": 35,
   "id": "83ee395949645a8e",
   "metadata": {},
   "outputs": [],
   "source": [
    "# load latent encoded data\n",
    "latent_data_path = os.path.join('data', vae.encoder.__class__.__name__ + '_' + suffix + '/MNIST/')\n",
    "latent_train_ds, latent_test_ds = load_encoded_dataset(latent_data_path)\n",
    "latent_train_dl = DataLoader(latent_train_ds, batch_size=batch_size, shuffle=True)\n",
    "latent_test_dl  = DataLoader(latent_test_ds, batch_size=batch_size, shuffle=False)"
   ]
  },
  {
   "cell_type": "code",
   "execution_count": 56,
   "id": "8217fb04fa0b57c3",
   "metadata": {},
   "outputs": [],
   "source": [
    "project = 'flow_experimentation'\n",
    "def train_flow(model, train_loader, test_loader, name='flow_model', pretrained_model=None, epochs=20, lr=0.001, warp_fn=None, new_points_every=1, spatial=True):\n",
    "    wandb.finish()\n",
    "    wandb.init(project=project, name=name, reinit='finish_previous')\n",
    "    wandb.config.update({\n",
    "        \"epochs\": epochs,\n",
    "        \"batch_size\": train_loader.batch_size,\n",
    "        \"learning_rate\": lr,\n",
    "        \"model\": model.__class__.__name__,\n",
    "        \"optimizer\": \"Adam\"\n",
    "    })\n",
    "\n",
    "    criterion = nn.MSELoss()\n",
    "    optimizer = optim.Adam(model.parameters(), lr=lr)\n",
    "\n",
    "    global_step = 1\n",
    "\n",
    "    for epoch in range(epochs):\n",
    "        # Training phase\n",
    "        model.train()\n",
    "        pbar = tqdm(train_loader, desc=f'Epoch {epoch+1}/{epochs}', leave=False)\n",
    "\n",
    "        for batch_idx, (data, _) in enumerate(pbar):\n",
    "            optimizer.zero_grad()\n",
    "\n",
    "            # Get data and create a sample from it to calc movement\n",
    "            target_x = data.to(device)\n",
    "            sampled_x = torch.randn_like(target_x)\n",
    "            B = sampled_x.size(0)\n",
    "\n",
    "            if global_step % new_points_every == 0:\n",
    "                if pretrained_model:   # ReFlow\n",
    "                    target_x = integrate_path(pretrained_model, sampled_x, step_fn=rk4_step, warp_fn=warp_time, n_steps=20)\n",
    "\n",
    "            t  = torch.rand(B, 1, device=sampled_x.device, dtype=sampled_x.dtype)\n",
    "\n",
    "            if warp_fn: t = warp_fn(t)\n",
    "            \n",
    "            if spatial: \n",
    "                # t4 = torch.zeros_like(sampled_x) + t\n",
    "                t4 = t.view(B, 1, 1, 1)\n",
    "                interpolated_x = sampled_x * (1 - t4) + target_x * t4\n",
    "            else:\n",
    "                interpolated_x = sampled_x * (1-t) + target_x * t\n",
    "\n",
    "            \n",
    "            line_directions = target_x - sampled_x\n",
    "            \n",
    "            drift = model(interpolated_x, t)\n",
    "            loss = criterion(drift, line_directions)\n",
    "\n",
    "            loss.backward()\n",
    "            optimizer.step()\n",
    "\n",
    "            with torch.no_grad():\n",
    "                cos_sim = F.cosine_similarity(drift, line_directions, dim=1).mean()\n",
    "\n",
    "            wandb.log({\n",
    "                \"step\": global_step,\n",
    "                \"train_loss\": loss.item(),\n",
    "                \"cos_sim\": cos_sim.item(),\n",
    "                \"drift\": drift.norm(dim=1).mean().item(),\n",
    "            })\n",
    "            global_step += 1\n",
    "\n",
    "    return model"
   ]
  },
  {
   "cell_type": "code",
   "execution_count": 37,
   "id": "83c5f120e74e7280",
   "metadata": {},
   "outputs": [],
   "source": [
    "flow = FlatVelocityNet(13).to(device)"
   ]
  },
  {
   "cell_type": "code",
   "execution_count": 40,
   "id": "261bd767b0b677b5",
   "metadata": {},
   "outputs": [],
   "source": [
    "flow_name = f'flow_{suffix}'\n",
    "train_flow(flow, latent_train_dl, latent_test_dl, name=flow_name, epochs=100, spatial=False)"
   ]
  },
  {
   "cell_type": "code",
   "execution_count": 41,
   "id": "4c608b35e32cef3b",
   "metadata": {},
   "outputs": [
    {
     "name": "stdout",
     "output_type": "stream",
     "text": [
      "Saving to: models/safetensors/flow/FlatVelocityNet_flow_l13_base_16_block_2.safetensors\n"
     ]
    }
   ],
   "source": [
    "flow_save_name =  f'{flow.__class__.__name__}_{flow_name}'\n",
    "flow_path = os.path.join(model_save_path, f'flow/{flow_save_name}.safetensors')\n",
    "if os.path.exists(flow_path):\n",
    "    print(f\"Path: {flow_path} \\n already exists! Appending run_id to make unique\")\n",
    "    flow_path = flow_path.split('.safetensors')[0] + str(wandb.run.id) + '.safetensors'\n",
    "print(f\"Saving to: {flow_path}\")"
   ]
  },
  {
   "cell_type": "code",
   "execution_count": 42,
   "id": "3804733a85e8cdbb",
   "metadata": {},
   "outputs": [],
   "source": [
    "save_file(flow.state_dict(), flow_path)"
   ]
  },
  {
   "cell_type": "markdown",
   "id": "5d6ddb4d062f4e6e",
   "metadata": {
    "jp-MarkdownHeadingCollapsed": true
   },
   "source": [
    "#### Pretrained Model"
   ]
  },
  {
   "cell_type": "code",
   "execution_count": null,
   "id": "797c9dc82fdd7b02",
   "metadata": {},
   "outputs": [],
   "source": [
    "name_of_flow_tensor = 'flow_2.safetensors'\n",
    "path_to_flow = os.path.join(model_save_path, '/flow/', name_of_flow_tensor)"
   ]
  },
  {
   "cell_type": "code",
   "execution_count": null,
   "id": "6a06dab455c20304",
   "metadata": {},
   "outputs": [],
   "source": [
    "teacher_flow = ConvFlowNet(1).to(device)\n",
    "teacher_flow.load_state_dict(load_file())"
   ]
  },
  {
   "cell_type": "code",
   "execution_count": null,
   "id": "61af454d337d167a",
   "metadata": {},
   "outputs": [],
   "source": []
  },
  {
   "cell_type": "markdown",
   "id": "a540bd159320cb82",
   "metadata": {},
   "source": [
    "#### Visualize Flow"
   ]
  },
  {
   "cell_type": "code",
   "execution_count": 43,
   "id": "27512484e35889f",
   "metadata": {},
   "outputs": [],
   "source": [
    "basic = BasicModel(vae, flow, (13,)).to(device)"
   ]
  },
  {
   "cell_type": "code",
   "execution_count": 70,
   "id": "595f758d44013b8b",
   "metadata": {},
   "outputs": [
    {
     "data": {
      "image/png": "[encoded data removed]",
      "text/plain": [
       "<Figure size 1000x400 with 10 Axes>"
      ]
     },
     "metadata": {},
     "output_type": "display_data"
    }
   ],
   "source": [
    "samples = basic.generate_samples(10, 15)\n",
    "plot_generated(samples)"
   ]
  },
  {
   "cell_type": "code",
   "execution_count": null,
   "id": "eb6675544e083e46",
   "metadata": {},
   "outputs": [],
   "source": [
    "## For comparing two flows\n",
    "x1, x2 = comparative_generate_samples(flow1, flow2, vae, 5, 10)\n",
    "print(\"Normal Flow\")\n",
    "plot_generated(x1)\n",
    "print(\"Re Flow\")\n",
    "plot_generated(x2)"
   ]
  },
  {
   "cell_type": "code",
   "execution_count": null,
   "id": "198c5570-76f9-4b9e-b59f-8d6cfe6a2562",
   "metadata": {},
   "outputs": [],
   "source": []
  },
  {
   "cell_type": "markdown",
   "id": "f20bdfb3ff17d653",
   "metadata": {},
   "source": [
    "### Play Eval Time"
   ]
  },
  {
   "cell_type": "markdown",
   "id": "9a0c0e28d2178433",
   "metadata": {},
   "source": [
    "#### Train flow for final models"
   ]
  },
  {
   "cell_type": "markdown",
   "id": "1b6dcd2f-6f42-4364-8232-e86617661456",
   "metadata": {
    "jp-MarkdownHeadingCollapsed": true
   },
   "source": [
    "##### Vae load + minor analysis / data encode"
   ]
  },
  {
   "cell_type": "code",
   "execution_count": 36,
   "id": "11df7f8df06ea563",
   "metadata": {},
   "outputs": [
    {
     "name": "stdout",
     "output_type": "stream",
     "text": [
      "Checkpoint loaded: /Users/marcocassar/Projects/DLAIE/self/dl_experimentation/models/7x7_epoch_2000.pt (epoch 2000)\n",
      "Checkpoint loaded: /Users/marcocassar/Projects/DLAIE/self/dl_experimentation/models/49_epoch_2000.pt (epoch 2000)\n"
     ]
    }
   ],
   "source": [
    "path_to_7x7 = '/Users/marcocassar/Projects/DLAIE/self/dl_experimentation/models/7x7_epoch_2000.pt'\n",
    "path_to_49 = '/Users/marcocassar/Projects/DLAIE/self/dl_experimentation/models/49_epoch_2000.pt'\n",
    "\n",
    "vae_7x7_config = dict(\n",
    "    latent_shape=(1, 7, 7),\n",
    "    base_channels=32,\n",
    "    blocks_per_level=1,\n",
    "    groups=4,\n",
    "    dropout=0.294905,\n",
    "    act=nn.SiLU\n",
    ")\n",
    "\n",
    "vae_49_config = dict(\n",
    "    latent_shape=49,\n",
    "    base_channels=32,\n",
    "    blocks_per_level=1,\n",
    "    groups=4,\n",
    "    dropout=0.294905,\n",
    "    act=nn.SiLU,\n",
    ")\n",
    "\n",
    "\n",
    "# Load models, emas, and checkpoints\n",
    "vae_7x7 = InspoResNetVAE(**vae_7x7_config).to(device)\n",
    "ema_7x7 = ExponentialMovingAverage(vae_7x7.parameters(), decay=0.9999).to(device)\n",
    "checkpoint_7x7 = load_checkpoint(path_to_7x7, vae_7x7, ema=ema_7x7, device=device)\n",
    "\n",
    "vae_49 = InspoResNetVAE(**vae_49_config).to(device)\n",
    "ema_49 = ExponentialMovingAverage(vae_49.parameters(), decay=0.9999).to(device)\n",
    "checkpoint_49 = load_checkpoint(path_to_49, vae_49, ema=ema_49, device=device)"
   ]
  },
  {
   "cell_type": "code",
   "execution_count": 27,
   "id": "fbeeba60-392e-4e46-89f7-6343e613517c",
   "metadata": {},
   "outputs": [
    {
     "name": "stdout",
     "output_type": "stream",
     "text": [
      "vae for 7x7\n"
     ]
    },
    {
     "data": {
      "image/png": "[encoded data removed]",
      "text/plain": [
       "<Figure size 1500x600 with 15 Axes>"
      ]
     },
     "metadata": {},
     "output_type": "display_data"
    },
    {
     "name": "stdout",
     "output_type": "stream",
     "text": [
      "\n",
      "vae for 49\n"
     ]
    },
    {
     "data": {
      "image/png": "[encoded data removed]",
      "text/plain": [
       "<Figure size 1500x400 with 10 Axes>"
      ]
     },
     "metadata": {},
     "output_type": "display_data"
    }
   ],
   "source": [
    "print('vae for 7x7')\n",
    "test_inference_spatial(vae_7x7, train_ds, range(5))\n",
    "# plot_latent_space(vae_7x7, test_dl, use_3d=False, reducer='tsne')\n",
    "\n",
    "print('\\nvae for 49')\n",
    "test_inference(vae_49, train_ds, range(5))\n",
    "# plot_latent_space(vae_49, test_dl, use_3d=False, reducer='tsne')\n"
   ]
  },
  {
   "cell_type": "code",
   "execution_count": null,
   "id": "81348b6d-5a66-4ce0-893c-20375e26b557",
   "metadata": {},
   "outputs": [],
   "source": [
    "encode_dataset(vae_7x7, train_dl, test_dl, suffix='final', ema=ema_7x7)\n",
    "encode_dataset(vae_49, train_dl, test_dl, suffix='final', ema=ema_49)"
   ]
  },
  {
   "cell_type": "markdown",
   "id": "7a4fcd4d-681d-478b-b190-58be585bedd8",
   "metadata": {},
   "source": [
    "##### Now for flow training"
   ]
  },
  {
   "cell_type": "code",
   "execution_count": 54,
   "id": "f3701806-c8fc-4c40-a1a5-e774ab9008e2",
   "metadata": {},
   "outputs": [
    {
     "name": "stdout",
     "output_type": "stream",
     "text": [
      "7x7 Shape: (60000, 7, 7)\n",
      "49 Shape: (60000, 49)\n"
     ]
    }
   ],
   "source": [
    "# load latent encoded data lets start with 49\n",
    "latent_data_path_49 = os.path.join('data', vae_49.encoder.__class__.__name__ + '_' + 'final' + '/MNIST/')\n",
    "train_ds_49, test_ds_49 = load_encoded_dataset(latent_data_path_49)\n",
    "train_dl_49 = DataLoader(train_ds_49, batch_size=batch_size, shuffle=True)\n",
    "test_dl_49  = DataLoader(test_ds_49, batch_size=batch_size, shuffle=False)\n",
    "\n",
    "# Now 7x7\n",
    "latent_data_path_7x7 = os.path.join('data', vae_7x7.encoder.__class__.__name__ + '_' + 'final' + '/MNIST/')\n",
    "train_ds_7x7, test_ds_7x7 = load_encoded_dataset(latent_data_path_7x7)\n",
    "train_dl_7x7 = DataLoader(train_ds_7x7, batch_size=batch_size, shuffle=True)\n",
    "test_dl_7x7  = DataLoader(test_ds_7x7, batch_size=batch_size, shuffle=False)\n",
    "\n",
    "print(f\"Loaded 7x7 latent data with shape: {train_dl_7x7.dataset.data.shape}\")\n",
    "print(f\"Loaded 49 latent data with shape: {train_dl_49.dataset.data.shape}\")"
   ]
  },
  {
   "cell_type": "code",
   "execution_count": 55,
   "id": "1f28dd5c-cdf5-4d7e-a5b7-2d6909aa243a",
   "metadata": {},
   "outputs": [],
   "source": [
    "class FlatVelocityNet(nn.Module):\n",
    "    def __init__(self, input_dim, h_dim=64):\n",
    "        super().__init__()\n",
    "        self.fc_in = nn.Linear(input_dim + 1, h_dim)\n",
    "        self.fc2 = nn.Linear(h_dim, h_dim)\n",
    "        self.fc3 = nn.Linear(h_dim, h_dim)\n",
    "        self.fc_out = nn.Linear(h_dim, input_dim)\n",
    "\n",
    "    def forward(self, x, t, act=F.gelu):\n",
    "        t = t.expand(x.size(0), 1)  # Ensure t has the correct dimensions\n",
    "        x = torch.cat([x, t], dim=1)\n",
    "        x = act(self.fc_in(x))\n",
    "        x = act(self.fc2(x))\n",
    "        x = act(self.fc3(x))\n",
    "        return self.fc_out(x)"
   ]
  },
  {
   "cell_type": "code",
   "execution_count": 57,
   "id": "e33e98f5-b73b-42c9-b0d6-f7092b8bf5b7",
   "metadata": {},
   "outputs": [],
   "source": [
    "flow_49 = FlatVelocityNet(49)"
   ]
  },
  {
   "cell_type": "code",
   "execution_count": null,
   "id": "11492cd3-4a67-4aec-8d11-a0b4c0eef70f",
   "metadata": {},
   "outputs": [],
   "source": [
    "flow_train(flow_49, train_dl_49, test_dl_49, config=config={'reflow_every': 5. 'epochs': 20})"
   ]
  },
  {
   "cell_type": "code",
   "execution_count": null,
   "id": "90d23c34-dec6-4c0b-ab52-3c7e3911820c",
   "metadata": {},
   "outputs": [
    {
     "data": {
      "text/html": [],
      "text/plain": [
       "<IPython.core.display.HTML object>"
      ]
     },
     "metadata": {},
     "output_type": "display_data"
    },
    {
     "data": {
      "text/html": [
       "Tracking run with wandb version 0.22.2"
      ],
      "text/plain": [
       "<IPython.core.display.HTML object>"
      ]
     },
     "metadata": {},
     "output_type": "display_data"
    },
    {
     "data": {
      "text/html": [
       "Run data is saved locally in <code>/Users/marcocassar/Projects/DLAIE/self/dl_experimentation/wandb/run-20251012_135424-qf3nu6oh</code>"
      ],
      "text/plain": [
       "<IPython.core.display.HTML object>"
      ]
     },
     "metadata": {},
     "output_type": "display_data"
    },
    {
     "data": {
      "text/html": [
       "Syncing run <strong><a href='https://wandb.ai/marcocassar-belmont-university/flow_experimentation/runs/qf3nu6oh' target=\"_blank\">fragrant-silence-24</a></strong> to <a href='https://wandb.ai/marcocassar-belmont-university/flow_experimentation' target=\"_blank\">Weights & Biases</a> (<a href='https://wandb.me/developer-guide' target=\"_blank\">docs</a>)<br>"
      ],
      "text/plain": [
       "<IPython.core.display.HTML object>"
      ]
     },
     "metadata": {},
     "output_type": "display_data"
    },
    {
     "data": {
      "text/html": [
       " View project at <a href='https://wandb.ai/marcocassar-belmont-university/flow_experimentation' target=\"_blank\">https://wandb.ai/marcocassar-belmont-university/flow_experimentation</a>"
      ],
      "text/plain": [
       "<IPython.core.display.HTML object>"
      ]
     },
     "metadata": {},
     "output_type": "display_data"
    },
    {
     "data": {
      "text/html": [
       " View run at <a href='https://wandb.ai/marcocassar-belmont-university/flow_experimentation/runs/qf3nu6oh' target=\"_blank\">https://wandb.ai/marcocassar-belmont-university/flow_experimentation/runs/qf3nu6oh</a>"
      ],
      "text/plain": [
       "<IPython.core.display.HTML object>"
      ]
     },
     "metadata": {},
     "output_type": "display_data"
    },
    {
     "name": "stdout",
     "output_type": "stream",
     "text": [
      "Using device: mps\n",
      "Training FlatVelocityNet with 14,769 parameters\n",
      "Latent data shape: torch.Size([128, 49]), spatial: False\n"
     ]
    },
    {
     "name": "stderr",
     "output_type": "stream",
     "text": [
      "\n",
      "Epoch 1/50:   0%|          | 0/469 [00:00<?, ?it/s]\u001b[A\n",
      "Epoch 1/50:   0%|          | 0/469 [00:00<?, ?it/s, CosSim=-0.010, Loss=1.7221]\u001b[A\n",
      "Epoch 1/50:   0%|          | 0/469 [00:00<?, ?it/s, CosSim=0.010, Loss=1.7590] \u001b[A\n",
      "Epoch 1/50:   0%|          | 0/469 [00:00<?, ?it/s, CosSim=0.010, Loss=1.6812]\u001b[A\n",
      "Epoch 1/50:   0%|          | 0/469 [00:00<?, ?it/s, CosSim=0.014, Loss=1.6800]\u001b[A\n",
      "Epoch 1/50:   1%|          | 4/469 [00:00<00:11, 39.63it/s, CosSim=0.014, Loss=1.6800]\u001b[A\n",
      "Epoch 1/50:   1%|          | 4/469 [00:00<00:11, 39.63it/s, CosSim=0.041, Loss=1.6838]\u001b[A\n",
      "Epoch 1/50:   1%|          | 4/469 [00:00<00:11, 39.63it/s, CosSim=0.015, Loss=1.6020]\u001b[A\n",
      "Epoch 1/50:   1%|          | 4/469 [00:00<00:11, 39.63it/s, CosSim=0.025, Loss=1.6514]\u001b[A\n",
      "Epoch 1/50:   1%|          | 4/469 [00:00<00:11, 39.63it/s, CosSim=0.035, Loss=1.6279]\u001b[A\n",
      "Epoch 1/50:   1%|          | 4/469 [00:00<00:11, 39.63it/s, CosSim=0.017, Loss=1.6171]\u001b[A\n",
      "Epoch 1/50:   1%|          | 4/469 [00:00<00:11, 39.63it/s, CosSim=0.017, Loss=1.6710]\u001b[A\n",
      "Epoch 1/50:   1%|          | 4/469 [00:00<00:11, 39.63it/s, CosSim=-0.003, Loss=1.6637]\u001b[A\n",
      "Epoch 1/50:   1%|          | 4/469 [00:00<00:11, 39.63it/s, CosSim=0.042, Loss=1.7151] \u001b[A\n",
      "Epoch 1/50:   1%|          | 4/469 [00:00<00:11, 39.63it/s, CosSim=0.041, Loss=1.6443]\u001b[A\n",
      "Epoch 1/50:   1%|          | 4/469 [00:00<00:11, 39.63it/s, CosSim=0.050, Loss=1.6577]\u001b[A\n",
      "Epoch 1/50:   1%|          | 4/469 [00:00<00:11, 39.63it/s, CosSim=0.010, Loss=1.6474]\u001b[A\n",
      "Epoch 1/50:   1%|          | 4/469 [00:00<00:11, 39.63it/s, CosSim=0.014, Loss=1.6667]\u001b[A\n",
      "Epoch 1/50:   1%|          | 4/469 [00:00<00:11, 39.63it/s, CosSim=0.039, Loss=1.6532]\u001b[A\n",
      "Epoch 1/50:   1%|          | 4/469 [00:00<00:11, 39.63it/s, CosSim=0.059, Loss=1.6569]\u001b[A\n",
      "Epoch 1/50:   1%|          | 4/469 [00:00<00:11, 39.63it/s, CosSim=0.025, Loss=1.6366]\u001b[A\n",
      "Epoch 1/50:   4%|▍         | 19/469 [00:00<00:04, 100.34it/s, CosSim=0.025, Loss=1.6366]\u001b[A\n",
      "Epoch 1/50:   4%|▍         | 19/469 [00:00<00:04, 100.34it/s, CosSim=0.059, Loss=1.6375]\u001b[A\n",
      "Epoch 1/50:   4%|▍         | 19/469 [00:00<00:04, 100.34it/s, CosSim=0.057, Loss=1.6523]\u001b[A\n",
      "Epoch 1/50:   4%|▍         | 19/469 [00:00<00:04, 100.34it/s, CosSim=0.056, Loss=1.6627]\u001b[A\n",
      "Epoch 1/50:   4%|▍         | 19/469 [00:00<00:04, 100.34it/s, CosSim=0.043, Loss=1.7259]\u001b[A\n",
      "Epoch 1/50:   4%|▍         | 19/469 [00:00<00:04, 100.34it/s, CosSim=0.070, Loss=1.6465]\u001b[A\n",
      "Epoch 1/50:   4%|▍         | 19/469 [00:00<00:04, 100.34it/s, CosSim=0.067, Loss=1.6831]\u001b[A\n",
      "Epoch 1/50:   4%|▍         | 19/469 [00:00<00:04, 100.34it/s, CosSim=0.074, Loss=1.6922]\u001b[A\n",
      "Epoch 1/50:   4%|▍         | 19/469 [00:00<00:04, 100.34it/s, CosSim=0.065, Loss=1.5844]\u001b[A\n",
      "Epoch 1/50:   4%|▍         | 19/469 [00:00<00:04, 100.34it/s, CosSim=0.076, Loss=1.6848]\u001b[A\n",
      "Epoch 1/50:   4%|▍         | 19/469 [00:00<00:04, 100.34it/s, CosSim=0.082, Loss=1.7053]\u001b[A\n",
      "Epoch 1/50:   4%|▍         | 19/469 [00:00<00:04, 100.34it/s, CosSim=0.071, Loss=1.6647]\u001b[A\n",
      "Epoch 1/50:   4%|▍         | 19/469 [00:00<00:04, 100.34it/s, CosSim=0.089, Loss=1.6744]\u001b[A\n",
      "Epoch 1/50:   4%|▍         | 19/469 [00:00<00:04, 100.34it/s, CosSim=0.085, Loss=1.6520]\u001b[A\n",
      "Epoch 1/50:   4%|▍         | 19/469 [00:00<00:04, 100.34it/s, CosSim=0.078, Loss=1.6210]\u001b[A\n",
      "Epoch 1/50:   7%|▋         | 33/469 [00:00<00:03, 116.40it/s, CosSim=0.078, Loss=1.6210]\u001b[A\n",
      "Epoch 1/50:   7%|▋         | 33/469 [00:00<00:03, 116.40it/s, CosSim=0.055, Loss=1.6907]\u001b[A\n",
      "Epoch 1/50:   7%|▋         | 33/469 [00:00<00:03, 116.40it/s, CosSim=0.098, Loss=1.6502]\u001b[A\n",
      "Epoch 1/50:   7%|▋         | 33/469 [00:00<00:03, 116.40it/s, CosSim=0.103, Loss=1.5723]\u001b[A\n",
      "Epoch 1/50:   7%|▋         | 33/469 [00:00<00:03, 116.40it/s, CosSim=0.071, Loss=1.7011]\u001b[A\n",
      "Epoch 1/50:   7%|▋         | 33/469 [00:00<00:03, 116.40it/s, CosSim=0.111, Loss=1.6352]\u001b[A\n",
      "Epoch 1/50:   7%|▋         | 33/469 [00:00<00:03, 116.40it/s, CosSim=0.066, Loss=1.6317]\u001b[A\n",
      "Epoch 1/50:   7%|▋         | 33/469 [00:00<00:03, 116.40it/s, CosSim=0.123, Loss=1.6105]\u001b[A\n",
      "Epoch 1/50:   7%|▋         | 33/469 [00:00<00:03, 116.40it/s, CosSim=0.105, Loss=1.6597]\u001b[A\n",
      "Epoch 1/50:   7%|▋         | 33/469 [00:00<00:03, 116.40it/s, CosSim=0.120, Loss=1.6372]\u001b[A\n",
      "Epoch 1/50:   7%|▋         | 33/469 [00:00<00:03, 116.40it/s, CosSim=0.098, Loss=1.6940]\u001b[A\n",
      "Epoch 1/50:   7%|▋         | 33/469 [00:00<00:03, 116.40it/s, CosSim=0.122, Loss=1.5735]\u001b[A\n",
      "Epoch 1/50:   7%|▋         | 33/469 [00:00<00:03, 116.40it/s, CosSim=0.103, Loss=1.6539]\u001b[A\n",
      "Epoch 1/50:   7%|▋         | 33/469 [00:00<00:03, 116.40it/s, CosSim=0.099, Loss=1.6094]\u001b[A\n",
      "Epoch 1/50:   7%|▋         | 33/469 [00:00<00:03, 116.40it/s, CosSim=0.113, Loss=1.6476]\u001b[A\n",
      "Epoch 1/50:  10%|█         | 47/469 [00:00<00:03, 122.73it/s, CosSim=0.113, Loss=1.6476]\u001b[A\n",
      "Epoch 1/50:  10%|█         | 47/469 [00:00<00:03, 122.73it/s, CosSim=0.125, Loss=1.7356]\u001b[A\n",
      "Epoch 1/50:  10%|█         | 47/469 [00:00<00:03, 122.73it/s, CosSim=0.130, Loss=1.6003]\u001b[A\n",
      "Epoch 1/50:  10%|█         | 47/469 [00:00<00:03, 122.73it/s, CosSim=0.121, Loss=1.6698]\u001b[A\n",
      "Epoch 1/50:  10%|█         | 47/469 [00:00<00:03, 122.73it/s, CosSim=0.098, Loss=1.6484]\u001b[A\n",
      "Epoch 1/50:  10%|█         | 47/469 [00:00<00:03, 122.73it/s, CosSim=0.104, Loss=1.6055]\u001b[A\n",
      "Epoch 1/50:  10%|█         | 47/469 [00:00<00:03, 122.73it/s, CosSim=0.147, Loss=1.6407]\u001b[A\n",
      "Epoch 1/50:  10%|█         | 47/469 [00:00<00:03, 122.73it/s, CosSim=0.116, Loss=1.6366]\u001b[A\n",
      "Epoch 1/50:  10%|█         | 47/469 [00:00<00:03, 122.73it/s, CosSim=0.141, Loss=1.6715]\u001b[A\n",
      "Epoch 1/50:  10%|█         | 47/469 [00:00<00:03, 122.73it/s, CosSim=0.104, Loss=1.6109]\u001b[A\n",
      "Epoch 1/50:  10%|█         | 47/469 [00:00<00:03, 122.73it/s, CosSim=0.112, Loss=1.6135]\u001b[A\n",
      "Epoch 1/50:  10%|█         | 47/469 [00:00<00:03, 122.73it/s, CosSim=0.134, Loss=1.6357]\u001b[A\n",
      "Epoch 1/50:  10%|█         | 47/469 [00:00<00:03, 122.73it/s, CosSim=0.127, Loss=1.6758]\u001b[A\n",
      "Epoch 1/50:  10%|█         | 47/469 [00:00<00:03, 122.73it/s, CosSim=0.140, Loss=1.5859]\u001b[A\n",
      "Epoch 1/50:  13%|█▎        | 60/469 [00:00<00:03, 122.59it/s, CosSim=0.140, Loss=1.5859]\u001b[A\n",
      "Epoch 1/50:  13%|█▎        | 60/469 [00:00<00:03, 122.59it/s, CosSim=0.136, Loss=1.6362]\u001b[A\n",
      "Epoch 1/50:  13%|█▎        | 60/469 [00:00<00:03, 122.59it/s, CosSim=0.141, Loss=1.6525]\u001b[A\n",
      "Epoch 1/50:  13%|█▎        | 60/469 [00:00<00:03, 122.59it/s, CosSim=0.150, Loss=1.6713]\u001b[A\n",
      "Epoch 1/50:  13%|█▎        | 60/469 [00:00<00:03, 122.59it/s, CosSim=0.137, Loss=1.6800]\u001b[A\n",
      "Epoch 1/50:  13%|█▎        | 60/469 [00:00<00:03, 122.59it/s, CosSim=0.127, Loss=1.6574]\u001b[A\n",
      "Epoch 1/50:  13%|█▎        | 60/469 [00:00<00:03, 122.59it/s, CosSim=0.152, Loss=1.6588]\u001b[A\n",
      "Epoch 1/50:  13%|█▎        | 60/469 [00:00<00:03, 122.59it/s, CosSim=0.121, Loss=1.7474]\u001b[A\n",
      "Epoch 1/50:  13%|█▎        | 60/469 [00:00<00:03, 122.59it/s, CosSim=0.148, Loss=1.6293]\u001b[A\n",
      "Epoch 1/50:  13%|█▎        | 60/469 [00:00<00:03, 122.59it/s, CosSim=0.158, Loss=1.5907]\u001b[A\n",
      "Epoch 1/50:  13%|█▎        | 60/469 [00:00<00:03, 122.59it/s, CosSim=0.141, Loss=1.6565]\u001b[A\n",
      "Epoch 1/50:  13%|█▎        | 60/469 [00:00<00:03, 122.59it/s, CosSim=0.175, Loss=1.6012]\u001b[A\n",
      "Epoch 1/50:  13%|█▎        | 60/469 [00:00<00:03, 122.59it/s, CosSim=0.144, Loss=1.5821]\u001b[A\n",
      "Epoch 1/50:  13%|█▎        | 60/469 [00:00<00:03, 122.59it/s, CosSim=0.162, Loss=1.6549]\u001b[A\n",
      "Epoch 1/50:  13%|█▎        | 60/469 [00:00<00:03, 122.59it/s, CosSim=0.145, Loss=1.6749]\u001b[A\n",
      "Epoch 1/50:  13%|█▎        | 60/469 [00:00<00:03, 122.59it/s, CosSim=0.167, Loss=1.5938]\u001b[A\n",
      "Epoch 1/50:  16%|█▌        | 75/469 [00:00<00:03, 128.93it/s, CosSim=0.167, Loss=1.5938]\u001b[A\n",
      "Epoch 1/50:  16%|█▌        | 75/469 [00:00<00:03, 128.93it/s, CosSim=0.170, Loss=1.6280]\u001b[A\n",
      "Epoch 1/50:  16%|█▌        | 75/469 [00:00<00:03, 128.93it/s, CosSim=0.180, Loss=1.6525]\u001b[A\n",
      "Epoch 1/50:  16%|█▌        | 75/469 [00:00<00:03, 128.93it/s, CosSim=0.158, Loss=1.6506]\u001b[A\n",
      "Epoch 1/50:  16%|█▌        | 75/469 [00:00<00:03, 128.93it/s, CosSim=0.184, Loss=1.6101]\u001b[A\n",
      "Epoch 1/50:  16%|█▌        | 75/469 [00:00<00:03, 128.93it/s, CosSim=0.193, Loss=1.6105]\u001b[A\n",
      "Epoch 1/50:  16%|█▌        | 75/469 [00:00<00:03, 128.93it/s, CosSim=0.217, Loss=1.6448]\u001b[A\n",
      "Epoch 1/50:  16%|█▌        | 75/469 [00:00<00:03, 128.93it/s, CosSim=0.180, Loss=1.6069]\u001b[A\n",
      "Epoch 1/50:  16%|█▌        | 75/469 [00:00<00:03, 128.93it/s, CosSim=0.157, Loss=1.6027]\u001b[A\n",
      "Epoch 1/50:  16%|█▌        | 75/469 [00:00<00:03, 128.93it/s, CosSim=0.180, Loss=1.6382]\u001b[A\n",
      "Epoch 1/50:  16%|█▌        | 75/469 [00:00<00:03, 128.93it/s, CosSim=0.204, Loss=1.6348]\u001b[A\n",
      "Epoch 1/50:  16%|█▌        | 75/469 [00:00<00:03, 128.93it/s, CosSim=0.185, Loss=1.6252]\u001b[A\n",
      "Epoch 1/50:  16%|█▌        | 75/469 [00:00<00:03, 128.93it/s, CosSim=0.186, Loss=1.6056]\u001b[A\n",
      "Epoch 1/50:  16%|█▌        | 75/469 [00:00<00:03, 128.93it/s, CosSim=0.188, Loss=1.6544]\u001b[A\n",
      "Epoch 1/50:  19%|█▉        | 88/469 [00:00<00:02, 128.69it/s, CosSim=0.188, Loss=1.6544]\u001b[A\n",
      "Epoch 1/50:  19%|█▉        | 88/469 [00:00<00:02, 128.69it/s, CosSim=0.187, Loss=1.5708]\u001b[A\n",
      "Epoch 1/50:  19%|█▉        | 88/469 [00:00<00:02, 128.69it/s, CosSim=0.175, Loss=1.6136]\u001b[A\n",
      "Epoch 1/50:  19%|█▉        | 88/469 [00:00<00:02, 128.69it/s, CosSim=0.211, Loss=1.5955]\u001b[A\n",
      "Epoch 1/50:  19%|█▉        | 88/469 [00:00<00:02, 128.69it/s, CosSim=0.204, Loss=1.6111]\u001b[A\n",
      "Epoch 1/50:  19%|█▉        | 88/469 [00:00<00:02, 128.69it/s, CosSim=0.202, Loss=1.5836]\u001b[A\n",
      "Epoch 1/50:  19%|█▉        | 88/469 [00:00<00:02, 128.69it/s, CosSim=0.216, Loss=1.6072]\u001b[A\n",
      "Epoch 1/50:  19%|█▉        | 88/469 [00:00<00:02, 128.69it/s, CosSim=0.220, Loss=1.5907]\u001b[A\n",
      "Epoch 1/50:  19%|█▉        | 88/469 [00:00<00:02, 128.69it/s, CosSim=0.202, Loss=1.5748]\u001b[A\n",
      "Epoch 1/50:  19%|█▉        | 88/469 [00:00<00:02, 128.69it/s, CosSim=0.193, Loss=1.5916]\u001b[A\n",
      "Epoch 1/50:  19%|█▉        | 88/469 [00:00<00:02, 128.69it/s, CosSim=0.205, Loss=1.6200]\u001b[A\n",
      "Epoch 1/50:  19%|█▉        | 88/469 [00:00<00:02, 128.69it/s, CosSim=0.206, Loss=1.6436]\u001b[A\n",
      "Epoch 1/50:  19%|█▉        | 88/469 [00:00<00:02, 128.69it/s, CosSim=0.223, Loss=1.6020]\u001b[A\n",
      "Epoch 1/50:  19%|█▉        | 88/469 [00:00<00:02, 128.69it/s, CosSim=0.207, Loss=1.5950]\u001b[A\n",
      "Epoch 1/50:  19%|█▉        | 88/469 [00:00<00:02, 128.69it/s, CosSim=0.226, Loss=1.5195]\u001b[A\n",
      "Epoch 1/50:  19%|█▉        | 88/469 [00:00<00:02, 128.69it/s, CosSim=0.239, Loss=1.5301]\u001b[A\n",
      "Epoch 1/50:  22%|██▏       | 103/469 [00:00<00:02, 133.37it/s, CosSim=0.239, Loss=1.5301]\u001b[A\n",
      "Epoch 1/50:  22%|██▏       | 103/469 [00:00<00:02, 133.37it/s, CosSim=0.240, Loss=1.5785]\u001b[A\n",
      "Epoch 1/50:  22%|██▏       | 103/469 [00:00<00:02, 133.37it/s, CosSim=0.213, Loss=1.5854]\u001b[A\n",
      "Epoch 1/50:  22%|██▏       | 103/469 [00:00<00:02, 133.37it/s, CosSim=0.234, Loss=1.5708]\u001b[A\n",
      "Epoch 1/50:  22%|██▏       | 103/469 [00:00<00:02, 133.37it/s, CosSim=0.235, Loss=1.5524]\u001b[A\n",
      "Epoch 1/50:  22%|██▏       | 103/469 [00:00<00:02, 133.37it/s, CosSim=0.229, Loss=1.5596]\u001b[A\n",
      "Epoch 1/50:  22%|██▏       | 103/469 [00:00<00:02, 133.37it/s, CosSim=0.244, Loss=1.5603]\u001b[A\n",
      "Epoch 1/50:  22%|██▏       | 103/469 [00:00<00:02, 133.37it/s, CosSim=0.238, Loss=1.6247]\u001b[A\n",
      "Epoch 1/50:  22%|██▏       | 103/469 [00:00<00:02, 133.37it/s, CosSim=0.213, Loss=1.5967]\u001b[A\n",
      "Epoch 1/50:  22%|██▏       | 103/469 [00:00<00:02, 133.37it/s, CosSim=0.246, Loss=1.6003]\u001b[A\n",
      "Epoch 1/50:  22%|██▏       | 103/469 [00:00<00:02, 133.37it/s, CosSim=0.238, Loss=1.5273]\u001b[A\n",
      "Epoch 1/50:  22%|██▏       | 103/469 [00:00<00:02, 133.37it/s, CosSim=0.240, Loss=1.5417]\u001b[A\n",
      "Epoch 1/50:  22%|██▏       | 103/469 [00:00<00:02, 133.37it/s, CosSim=0.233, Loss=1.6110]\u001b[A\n",
      "Epoch 1/50:  22%|██▏       | 103/469 [00:00<00:02, 133.37it/s, CosSim=0.241, Loss=1.5031]\u001b[A\n",
      "Epoch 1/50:  22%|██▏       | 103/469 [00:00<00:02, 133.37it/s, CosSim=0.242, Loss=1.5564]\u001b[A\n",
      "Epoch 1/50:  22%|██▏       | 103/469 [00:00<00:02, 133.37it/s, CosSim=0.256, Loss=1.5413]\u001b[A\n",
      "Epoch 1/50:  22%|██▏       | 103/469 [00:00<00:02, 133.37it/s, CosSim=0.250, Loss=1.5272]\u001b[A\n",
      "Epoch 1/50:  25%|██▌       | 119/469 [00:00<00:02, 141.20it/s, CosSim=0.250, Loss=1.5272]\u001b[A\n",
      "Epoch 1/50:  25%|██▌       | 119/469 [00:00<00:02, 141.20it/s, CosSim=0.250, Loss=1.5689]\u001b[A\n",
      "Epoch 1/50:  25%|██▌       | 119/469 [00:00<00:02, 141.20it/s, CosSim=0.255, Loss=1.5880]\u001b[A\n",
      "Epoch 1/50:  25%|██▌       | 119/469 [00:00<00:02, 141.20it/s, CosSim=0.245, Loss=1.5427]\u001b[A\n",
      "Epoch 1/50:  25%|██▌       | 119/469 [00:00<00:02, 141.20it/s, CosSim=0.250, Loss=1.5524]\u001b[A\n",
      "Epoch 1/50:  25%|██▌       | 119/469 [00:00<00:02, 141.20it/s, CosSim=0.261, Loss=1.5915]\u001b[A\n",
      "Epoch 1/50:  25%|██▌       | 119/469 [00:00<00:02, 141.20it/s, CosSim=0.257, Loss=1.5153]\u001b[A\n",
      "Epoch 1/50:  25%|██▌       | 119/469 [00:00<00:02, 141.20it/s, CosSim=0.264, Loss=1.4329]\u001b[A\n",
      "Epoch 1/50:  25%|██▌       | 119/469 [00:01<00:02, 141.20it/s, CosSim=0.261, Loss=1.5979]\u001b[A\n",
      "Epoch 1/50:  25%|██▌       | 119/469 [00:01<00:02, 141.20it/s, CosSim=0.262, Loss=1.5609]\u001b[A\n",
      "Epoch 1/50:  25%|██▌       | 119/469 [00:01<00:02, 141.20it/s, CosSim=0.270, Loss=1.5480]\u001b[A\n",
      "Epoch 1/50:  25%|██▌       | 119/469 [00:01<00:02, 141.20it/s, CosSim=0.247, Loss=1.4673]\u001b[A\n",
      "Epoch 1/50:  25%|██▌       | 119/469 [00:01<00:02, 141.20it/s, CosSim=0.264, Loss=1.5329]\u001b[A\n",
      "Epoch 1/50:  25%|██▌       | 119/469 [00:01<00:02, 141.20it/s, CosSim=0.269, Loss=1.5021]\u001b[A\n",
      "Epoch 1/50:  25%|██▌       | 119/469 [00:01<00:02, 141.20it/s, CosSim=0.290, Loss=1.4941]\u001b[A\n",
      "Epoch 1/50:  25%|██▌       | 119/469 [00:01<00:02, 141.20it/s, CosSim=0.275, Loss=1.5484]\u001b[A\n",
      "Epoch 1/50:  29%|██▊       | 134/469 [00:01<00:02, 138.69it/s, CosSim=0.275, Loss=1.5484]\u001b[A\n",
      "Epoch 1/50:  29%|██▊       | 134/469 [00:01<00:02, 138.69it/s, CosSim=0.278, Loss=1.5776]\u001b[A\n",
      "Epoch 1/50:  29%|██▊       | 134/469 [00:01<00:02, 138.69it/s, CosSim=0.283, Loss=1.5184]\u001b[A\n",
      "Epoch 1/50:  29%|██▊       | 134/469 [00:01<00:02, 138.69it/s, CosSim=0.272, Loss=1.5812]\u001b[A\n",
      "Epoch 1/50:  29%|██▊       | 134/469 [00:01<00:02, 138.69it/s, CosSim=0.264, Loss=1.5689]\u001b[A\n",
      "Epoch 1/50:  29%|██▊       | 134/469 [00:01<00:02, 138.69it/s, CosSim=0.284, Loss=1.4654]\u001b[A\n",
      "Epoch 1/50:  29%|██▊       | 134/469 [00:01<00:02, 138.69it/s, CosSim=0.277, Loss=1.5251]\u001b[A\n",
      "Epoch 1/50:  29%|██▊       | 134/469 [00:01<00:02, 138.69it/s, CosSim=0.268, Loss=1.5110]\u001b[A\n",
      "Epoch 1/50:  29%|██▊       | 134/469 [00:01<00:02, 138.69it/s, CosSim=0.268, Loss=1.5715]\u001b[A\n",
      "Epoch 1/50:  29%|██▊       | 134/469 [00:01<00:02, 138.69it/s, CosSim=0.278, Loss=1.5279]\u001b[A\n",
      "Epoch 1/50:  29%|██▊       | 134/469 [00:01<00:02, 138.69it/s, CosSim=0.307, Loss=1.5069]\u001b[A\n",
      "Epoch 1/50:  29%|██▊       | 134/469 [00:01<00:02, 138.69it/s, CosSim=0.271, Loss=1.5494]\u001b[A\n",
      "Epoch 1/50:  29%|██▊       | 134/469 [00:01<00:02, 138.69it/s, CosSim=0.285, Loss=1.4926]\u001b[A\n",
      "Epoch 1/50:  29%|██▊       | 134/469 [00:01<00:02, 138.69it/s, CosSim=0.275, Loss=1.5714]\u001b[A\n",
      "Epoch 1/50:  29%|██▊       | 134/469 [00:01<00:02, 138.69it/s, CosSim=0.300, Loss=1.5403]\u001b[A\n",
      "Epoch 1/50:  29%|██▊       | 134/469 [00:01<00:02, 138.69it/s, CosSim=0.280, Loss=1.5514]\u001b[A\n",
      "Epoch 1/50:  32%|███▏      | 149/469 [00:01<00:02, 140.98it/s, CosSim=0.280, Loss=1.5514]\u001b[A\n",
      "Epoch 1/50:  32%|███▏      | 149/469 [00:01<00:02, 140.98it/s, CosSim=0.277, Loss=1.5341]\u001b[A\n",
      "Epoch 1/50:  32%|███▏      | 149/469 [00:01<00:02, 140.98it/s, CosSim=0.287, Loss=1.4796]\u001b[A\n",
      "Epoch 1/50:  32%|███▏      | 149/469 [00:01<00:02, 140.98it/s, CosSim=0.292, Loss=1.4906]\u001b[A\n",
      "Epoch 1/50:  32%|███▏      | 149/469 [00:01<00:02, 140.98it/s, CosSim=0.291, Loss=1.5179]\u001b[A\n",
      "Epoch 1/50:  32%|███▏      | 149/469 [00:01<00:02, 140.98it/s, CosSim=0.270, Loss=1.5840]\u001b[A\n",
      "Epoch 1/50:  32%|███▏      | 149/469 [00:01<00:02, 140.98it/s, CosSim=0.280, Loss=1.5569]\u001b[A\n",
      "Epoch 1/50:  32%|███▏      | 149/469 [00:01<00:02, 140.98it/s, CosSim=0.315, Loss=1.4258]\u001b[A\n",
      "Epoch 1/50:  32%|███▏      | 149/469 [00:01<00:02, 140.98it/s, CosSim=0.277, Loss=1.4941]\u001b[A\n",
      "Epoch 1/50:  32%|███▏      | 149/469 [00:01<00:02, 140.98it/s, CosSim=0.289, Loss=1.5517]\u001b[A\n",
      "Epoch 1/50:  32%|███▏      | 149/469 [00:01<00:02, 140.98it/s, CosSim=0.282, Loss=1.5181]\u001b[A\n",
      "Epoch 1/50:  32%|███▏      | 149/469 [00:01<00:02, 140.98it/s, CosSim=0.293, Loss=1.5498]\u001b[A\n",
      "Epoch 1/50:  32%|███▏      | 149/469 [00:01<00:02, 140.98it/s, CosSim=0.285, Loss=1.5682]\u001b[A\n",
      "Epoch 1/50:  32%|███▏      | 149/469 [00:01<00:02, 140.98it/s, CosSim=0.294, Loss=1.4664]\u001b[A\n",
      "Epoch 1/50:  32%|███▏      | 149/469 [00:01<00:02, 140.98it/s, CosSim=0.300, Loss=1.5233]\u001b[A\n",
      "Epoch 1/50:  32%|███▏      | 149/469 [00:01<00:02, 140.98it/s, CosSim=0.285, Loss=1.5436]\u001b[A\n",
      "Epoch 1/50:  35%|███▍      | 164/469 [00:01<00:02, 138.08it/s, CosSim=0.285, Loss=1.5436]\u001b[A\n",
      "Epoch 1/50:  35%|███▍      | 164/469 [00:01<00:02, 138.08it/s, CosSim=0.312, Loss=1.5057]\u001b[A\n",
      "Epoch 1/50:  35%|███▍      | 164/469 [00:01<00:02, 138.08it/s, CosSim=0.298, Loss=1.5026]\u001b[A\n",
      "Epoch 1/50:  35%|███▍      | 164/469 [00:01<00:02, 138.08it/s, CosSim=0.304, Loss=1.4610]\u001b[A\n",
      "Epoch 1/50:  35%|███▍      | 164/469 [00:01<00:02, 138.08it/s, CosSim=0.301, Loss=1.5401]\u001b[A\n",
      "Epoch 1/50:  35%|███▍      | 164/469 [00:01<00:02, 138.08it/s, CosSim=0.301, Loss=1.4997]\u001b[A\n",
      "Epoch 1/50:  35%|███▍      | 164/469 [00:01<00:02, 138.08it/s, CosSim=0.280, Loss=1.4777]\u001b[A\n",
      "Epoch 1/50:  35%|███▍      | 164/469 [00:01<00:02, 138.08it/s, CosSim=0.297, Loss=1.5162]\u001b[A\n",
      "Epoch 1/50:  35%|███▍      | 164/469 [00:01<00:02, 138.08it/s, CosSim=0.314, Loss=1.4712]\u001b[A\n",
      "Epoch 1/50:  35%|███▍      | 164/469 [00:01<00:02, 138.08it/s, CosSim=0.314, Loss=1.4638]\u001b[A\n",
      "Epoch 1/50:  35%|███▍      | 164/469 [00:01<00:02, 138.08it/s, CosSim=0.276, Loss=1.5324]\u001b[A\n",
      "Epoch 1/50:  35%|███▍      | 164/469 [00:01<00:02, 138.08it/s, CosSim=0.307, Loss=1.5188]\u001b[A\n",
      "Epoch 1/50:  35%|███▍      | 164/469 [00:01<00:02, 138.08it/s, CosSim=0.293, Loss=1.5454]\u001b[A\n",
      "Epoch 1/50:  35%|███▍      | 164/469 [00:01<00:02, 138.08it/s, CosSim=0.311, Loss=1.4926]\u001b[A\n",
      "Epoch 1/50:  35%|███▍      | 164/469 [00:01<00:02, 138.08it/s, CosSim=0.297, Loss=1.5236]\u001b[A\n",
      "Epoch 1/50:  35%|███▍      | 164/469 [00:01<00:02, 138.08it/s, CosSim=0.308, Loss=1.5446]\u001b[A\n",
      "Epoch 1/50:  35%|███▍      | 164/469 [00:01<00:02, 138.08it/s, CosSim=0.316, Loss=1.5008]\u001b[A\n",
      "Epoch 1/50:  38%|███▊      | 180/469 [00:01<00:02, 142.13it/s, CosSim=0.316, Loss=1.5008]\u001b[A\n",
      "Epoch 1/50:  38%|███▊      | 180/469 [00:01<00:02, 142.13it/s, CosSim=0.305, Loss=1.5223]\u001b[A\n",
      "Epoch 1/50:  38%|███▊      | 180/469 [00:01<00:02, 142.13it/s, CosSim=0.325, Loss=1.4455]\u001b[A\n",
      "Epoch 1/50:  38%|███▊      | 180/469 [00:01<00:02, 142.13it/s, CosSim=0.312, Loss=1.5152]\u001b[A\n",
      "Epoch 1/50:  38%|███▊      | 180/469 [00:01<00:02, 142.13it/s, CosSim=0.315, Loss=1.4823]\u001b[A\n",
      "Epoch 1/50:  38%|███▊      | 180/469 [00:01<00:02, 142.13it/s, CosSim=0.309, Loss=1.5209]\u001b[A\n",
      "Epoch 1/50:  38%|███▊      | 180/469 [00:01<00:02, 142.13it/s, CosSim=0.311, Loss=1.5177]\u001b[A\n",
      "Epoch 1/50:  38%|███▊      | 180/469 [00:01<00:02, 142.13it/s, CosSim=0.324, Loss=1.4889]\u001b[A\n",
      "Epoch 1/50:  38%|███▊      | 180/469 [00:01<00:02, 142.13it/s, CosSim=0.339, Loss=1.4849]\u001b[A\n",
      "Epoch 1/50:  38%|███▊      | 180/469 [00:01<00:02, 142.13it/s, CosSim=0.319, Loss=1.4926]\u001b[A\n",
      "Epoch 1/50:  38%|███▊      | 180/469 [00:01<00:02, 142.13it/s, CosSim=0.305, Loss=1.5613]\u001b[A\n",
      "Epoch 1/50:  38%|███▊      | 180/469 [00:01<00:02, 142.13it/s, CosSim=0.331, Loss=1.4441]\u001b[A\n",
      "Epoch 1/50:  38%|███▊      | 180/469 [00:01<00:02, 142.13it/s, CosSim=0.323, Loss=1.4797]\u001b[A\n",
      "Epoch 1/50:  38%|███▊      | 180/469 [00:01<00:02, 142.13it/s, CosSim=0.341, Loss=1.4956]\u001b[A\n",
      "Epoch 1/50:  38%|███▊      | 180/469 [00:01<00:02, 142.13it/s, CosSim=0.324, Loss=1.5009]\u001b[A\n",
      "Epoch 1/50:  38%|███▊      | 180/469 [00:01<00:02, 142.13it/s, CosSim=0.314, Loss=1.5263]\u001b[A\n",
      "Epoch 1/50:  38%|███▊      | 180/469 [00:01<00:02, 142.13it/s, CosSim=0.326, Loss=1.5061]\u001b[A\n",
      "Epoch 1/50:  38%|███▊      | 180/469 [00:01<00:02, 142.13it/s, CosSim=0.304, Loss=1.4531]\u001b[A\n",
      "Epoch 1/50:  42%|████▏     | 197/469 [00:01<00:01, 148.33it/s, CosSim=0.304, Loss=1.4531]\u001b[A\n",
      "Epoch 1/50:  42%|████▏     | 197/469 [00:01<00:01, 148.33it/s, CosSim=0.318, Loss=1.5866]\u001b[A\n",
      "Epoch 1/50:  42%|████▏     | 197/469 [00:01<00:01, 148.33it/s, CosSim=0.308, Loss=1.4571]\u001b[A\n",
      "Epoch 1/50:  42%|████▏     | 197/469 [00:01<00:01, 148.33it/s, CosSim=0.331, Loss=1.4563]\u001b[A\n",
      "Epoch 1/50:  42%|████▏     | 197/469 [00:01<00:01, 148.33it/s, CosSim=0.326, Loss=1.4749]\u001b[A\n",
      "Epoch 1/50:  42%|████▏     | 197/469 [00:01<00:01, 148.33it/s, CosSim=0.339, Loss=1.4166]\u001b[A\n",
      "Epoch 1/50:  42%|████▏     | 197/469 [00:01<00:01, 148.33it/s, CosSim=0.343, Loss=1.4173]\u001b[A\n",
      "Epoch 1/50:  42%|████▏     | 197/469 [00:01<00:01, 148.33it/s, CosSim=0.319, Loss=1.4879]\u001b[A\n",
      "Epoch 1/50:  42%|████▏     | 197/469 [00:01<00:01, 148.33it/s, CosSim=0.342, Loss=1.4543]\u001b[A\n",
      "Epoch 1/50:  42%|████▏     | 197/469 [00:01<00:01, 148.33it/s, CosSim=0.327, Loss=1.5094]\u001b[A\n",
      "Epoch 1/50:  42%|████▏     | 197/469 [00:01<00:01, 148.33it/s, CosSim=0.334, Loss=1.4632]\u001b[A\n",
      "Epoch 1/50:  42%|████▏     | 197/469 [00:01<00:01, 148.33it/s, CosSim=0.313, Loss=1.5287]\u001b[A\n",
      "Epoch 1/50:  42%|████▏     | 197/469 [00:01<00:01, 148.33it/s, CosSim=0.328, Loss=1.4539]\u001b[A\n",
      "Epoch 1/50:  42%|████▏     | 197/469 [00:01<00:01, 148.33it/s, CosSim=0.306, Loss=1.5210]\u001b[A\n",
      "Epoch 1/50:  42%|████▏     | 197/469 [00:01<00:01, 148.33it/s, CosSim=0.340, Loss=1.4830]\u001b[A\n",
      "Epoch 1/50:  42%|████▏     | 197/469 [00:01<00:01, 148.33it/s, CosSim=0.348, Loss=1.4863]\u001b[A\n",
      "Epoch 1/50:  45%|████▌     | 212/469 [00:01<00:01, 143.18it/s, CosSim=0.348, Loss=1.4863]\u001b[A\n",
      "Epoch 1/50:  45%|████▌     | 212/469 [00:01<00:01, 143.18it/s, CosSim=0.336, Loss=1.4839]\u001b[A\n",
      "Epoch 1/50:  45%|████▌     | 212/469 [00:01<00:01, 143.18it/s, CosSim=0.332, Loss=1.5378]\u001b[A\n",
      "Epoch 1/50:  45%|████▌     | 212/469 [00:01<00:01, 143.18it/s, CosSim=0.333, Loss=1.4579]\u001b[A\n",
      "Epoch 1/50:  45%|████▌     | 212/469 [00:01<00:01, 143.18it/s, CosSim=0.327, Loss=1.4384]\u001b[A\n",
      "Epoch 1/50:  45%|████▌     | 212/469 [00:01<00:01, 143.18it/s, CosSim=0.345, Loss=1.4723]\u001b[A\n",
      "Epoch 1/50:  45%|████▌     | 212/469 [00:01<00:01, 143.18it/s, CosSim=0.309, Loss=1.4684]\u001b[A\n",
      "Epoch 1/50:  45%|████▌     | 212/469 [00:01<00:01, 143.18it/s, CosSim=0.347, Loss=1.4773]\u001b[A\n",
      "Epoch 1/50:  45%|████▌     | 212/469 [00:01<00:01, 143.18it/s, CosSim=0.334, Loss=1.4621]\u001b[A\n",
      "Epoch 1/50:  45%|████▌     | 212/469 [00:01<00:01, 143.18it/s, CosSim=0.320, Loss=1.5025]\u001b[A\n",
      "Epoch 1/50:  45%|████▌     | 212/469 [00:01<00:01, 143.18it/s, CosSim=0.335, Loss=1.4838]\u001b[A\n",
      "Epoch 1/50:  45%|████▌     | 212/469 [00:01<00:01, 143.18it/s, CosSim=0.325, Loss=1.5000]\u001b[A\n",
      "Epoch 1/50:  45%|████▌     | 212/469 [00:01<00:01, 143.18it/s, CosSim=0.320, Loss=1.4873]\u001b[A\n",
      "Epoch 1/50:  45%|████▌     | 212/469 [00:01<00:01, 143.18it/s, CosSim=0.324, Loss=1.5228]\u001b[A\n",
      "Epoch 1/50:  45%|████▌     | 212/469 [00:01<00:01, 143.18it/s, CosSim=0.325, Loss=1.4944]\u001b[A\n",
      "Epoch 1/50:  45%|████▌     | 212/469 [00:01<00:01, 143.18it/s, CosSim=0.357, Loss=1.4241]\u001b[A\n",
      "Epoch 1/50:  48%|████▊     | 227/469 [00:01<00:01, 144.83it/s, CosSim=0.357, Loss=1.4241]\u001b[A\n",
      "Epoch 1/50:  48%|████▊     | 227/469 [00:01<00:01, 144.83it/s, CosSim=0.342, Loss=1.4372]\u001b[A\n",
      "Epoch 1/50:  48%|████▊     | 227/469 [00:01<00:01, 144.83it/s, CosSim=0.333, Loss=1.4531]\u001b[A\n",
      "Epoch 1/50:  48%|████▊     | 227/469 [00:01<00:01, 144.83it/s, CosSim=0.325, Loss=1.5135]\u001b[A\n",
      "Epoch 1/50:  48%|████▊     | 227/469 [00:01<00:01, 144.83it/s, CosSim=0.347, Loss=1.4410]\u001b[A\n",
      "Epoch 1/50:  48%|████▊     | 227/469 [00:01<00:01, 144.83it/s, CosSim=0.334, Loss=1.5103]\u001b[A\n",
      "Epoch 1/50:  48%|████▊     | 227/469 [00:01<00:01, 144.83it/s, CosSim=0.325, Loss=1.5184]\u001b[A\n",
      "Epoch 1/50:  48%|████▊     | 227/469 [00:01<00:01, 144.83it/s, CosSim=0.312, Loss=1.5271]\u001b[A\n",
      "Epoch 1/50:  48%|████▊     | 227/469 [00:01<00:01, 144.83it/s, CosSim=0.348, Loss=1.4907]\u001b[A\n",
      "Epoch 1/50:  48%|████▊     | 227/469 [00:01<00:01, 144.83it/s, CosSim=0.334, Loss=1.4376]\u001b[A\n",
      "Epoch 1/50:  48%|████▊     | 227/469 [00:01<00:01, 144.83it/s, CosSim=0.318, Loss=1.5156]\u001b[A\n",
      "Epoch 1/50:  48%|████▊     | 227/469 [00:01<00:01, 144.83it/s, CosSim=0.329, Loss=1.4561]\u001b[A\n",
      "Epoch 1/50:  48%|████▊     | 227/469 [00:01<00:01, 144.83it/s, CosSim=0.351, Loss=1.4723]\u001b[A\n",
      "Epoch 1/50:  48%|████▊     | 227/469 [00:01<00:01, 144.83it/s, CosSim=0.343, Loss=1.4842]\u001b[A\n",
      "Epoch 1/50:  48%|████▊     | 227/469 [00:01<00:01, 144.83it/s, CosSim=0.344, Loss=1.4972]\u001b[A\n",
      "Epoch 1/50:  48%|████▊     | 227/469 [00:01<00:01, 144.83it/s, CosSim=0.328, Loss=1.4947]\u001b[A\n",
      "Epoch 1/50:  48%|████▊     | 227/469 [00:01<00:01, 144.83it/s, CosSim=0.340, Loss=1.4651]\u001b[A\n",
      "Epoch 1/50:  52%|█████▏    | 243/469 [00:01<00:01, 148.86it/s, CosSim=0.340, Loss=1.4651]\u001b[A\n",
      "Epoch 1/50:  52%|█████▏    | 243/469 [00:01<00:01, 148.86it/s, CosSim=0.346, Loss=1.5005]\u001b[A\n",
      "Epoch 1/50:  52%|█████▏    | 243/469 [00:01<00:01, 148.86it/s, CosSim=0.326, Loss=1.4650]\u001b[A\n",
      "Epoch 1/50:  52%|█████▏    | 243/469 [00:01<00:01, 148.86it/s, CosSim=0.355, Loss=1.4616]\u001b[A\n",
      "Epoch 1/50:  52%|█████▏    | 243/469 [00:01<00:01, 148.86it/s, CosSim=0.330, Loss=1.4878]\u001b[A\n",
      "Epoch 1/50:  52%|█████▏    | 243/469 [00:01<00:01, 148.86it/s, CosSim=0.324, Loss=1.5336]\u001b[A\n",
      "Epoch 1/50:  52%|█████▏    | 243/469 [00:01<00:01, 148.86it/s, CosSim=0.348, Loss=1.4593]\u001b[A\n",
      "Epoch 1/50:  52%|█████▏    | 243/469 [00:01<00:01, 148.86it/s, CosSim=0.337, Loss=1.4605]\u001b[A\n",
      "Epoch 1/50:  52%|█████▏    | 243/469 [00:01<00:01, 148.86it/s, CosSim=0.323, Loss=1.4936]\u001b[A\n",
      "Epoch 1/50:  52%|█████▏    | 243/469 [00:01<00:01, 148.86it/s, CosSim=0.320, Loss=1.5173]\u001b[A\n",
      "Epoch 1/50:  52%|█████▏    | 243/469 [00:01<00:01, 148.86it/s, CosSim=0.326, Loss=1.5781]\u001b[A\n",
      "Epoch 1/50:  52%|█████▏    | 243/469 [00:01<00:01, 148.86it/s, CosSim=0.358, Loss=1.4909]\u001b[A\n",
      "Epoch 1/50:  52%|█████▏    | 243/469 [00:01<00:01, 148.86it/s, CosSim=0.355, Loss=1.4691]\u001b[A\n",
      "Epoch 1/50:  52%|█████▏    | 243/469 [00:01<00:01, 148.86it/s, CosSim=0.348, Loss=1.4359]\u001b[A\n",
      "Epoch 1/50:  52%|█████▏    | 243/469 [00:01<00:01, 148.86it/s, CosSim=0.345, Loss=1.4354]\u001b[A\n",
      "Epoch 1/50:  52%|█████▏    | 243/469 [00:01<00:01, 148.86it/s, CosSim=0.342, Loss=1.4556]\u001b[A\n",
      "Epoch 1/50:  55%|█████▌    | 258/469 [00:01<00:01, 143.17it/s, CosSim=0.342, Loss=1.4556]\u001b[A\n",
      "Epoch 1/50:  55%|█████▌    | 258/469 [00:01<00:01, 143.17it/s, CosSim=0.327, Loss=1.4718]\u001b[A\n",
      "Epoch 1/50:  55%|█████▌    | 258/469 [00:01<00:01, 143.17it/s, CosSim=0.348, Loss=1.4798]\u001b[A\n",
      "Epoch 1/50:  55%|█████▌    | 258/469 [00:01<00:01, 143.17it/s, CosSim=0.338, Loss=1.4502]\u001b[A\n",
      "Epoch 1/50:  55%|█████▌    | 258/469 [00:01<00:01, 143.17it/s, CosSim=0.339, Loss=1.4665]\u001b[A\n",
      "Epoch 1/50:  55%|█████▌    | 258/469 [00:01<00:01, 143.17it/s, CosSim=0.344, Loss=1.5464]\u001b[A\n",
      "Epoch 1/50:  55%|█████▌    | 258/469 [00:01<00:01, 143.17it/s, CosSim=0.343, Loss=1.4658]\u001b[A\n",
      "Epoch 1/50:  55%|█████▌    | 258/469 [00:01<00:01, 143.17it/s, CosSim=0.358, Loss=1.4353]\u001b[A\n",
      "Epoch 1/50:  55%|█████▌    | 258/469 [00:01<00:01, 143.17it/s, CosSim=0.360, Loss=1.4538]\u001b[A\n",
      "Epoch 1/50:  55%|█████▌    | 258/469 [00:01<00:01, 143.17it/s, CosSim=0.351, Loss=1.4801]\u001b[A\n",
      "Epoch 1/50:  55%|█████▌    | 258/469 [00:01<00:01, 143.17it/s, CosSim=0.335, Loss=1.4876]\u001b[A\n",
      "Epoch 1/50:  55%|█████▌    | 258/469 [00:01<00:01, 143.17it/s, CosSim=0.350, Loss=1.5063]\u001b[A\n",
      "Epoch 1/50:  55%|█████▌    | 258/469 [00:01<00:01, 143.17it/s, CosSim=0.350, Loss=1.4283]\u001b[A\n",
      "Epoch 1/50:  55%|█████▌    | 258/469 [00:01<00:01, 143.17it/s, CosSim=0.350, Loss=1.4838]\u001b[A\n",
      "Epoch 1/50:  55%|█████▌    | 258/469 [00:01<00:01, 143.17it/s, CosSim=0.346, Loss=1.4654]\u001b[A\n",
      "Epoch 1/50:  55%|█████▌    | 258/469 [00:01<00:01, 143.17it/s, CosSim=0.345, Loss=1.4806]\u001b[A\n",
      "Epoch 1/50:  55%|█████▌    | 258/469 [00:02<00:01, 143.17it/s, CosSim=0.349, Loss=1.4765]\u001b[A\n",
      "Epoch 1/50:  55%|█████▌    | 258/469 [00:02<00:01, 143.17it/s, CosSim=0.318, Loss=1.4855]\u001b[A\n",
      "Epoch 1/50:  59%|█████▊    | 275/469 [00:02<00:01, 148.60it/s, CosSim=0.318, Loss=1.4855]\u001b[A\n",
      "Epoch 1/50:  59%|█████▊    | 275/469 [00:02<00:01, 148.60it/s, CosSim=0.330, Loss=1.4604]\u001b[A\n",
      "Epoch 1/50:  59%|█████▊    | 275/469 [00:02<00:01, 148.60it/s, CosSim=0.348, Loss=1.4314]\u001b[A\n",
      "Epoch 1/50:  59%|█████▊    | 275/469 [00:02<00:01, 148.60it/s, CosSim=0.344, Loss=1.4898]\u001b[A\n",
      "Epoch 1/50:  59%|█████▊    | 275/469 [00:02<00:01, 148.60it/s, CosSim=0.343, Loss=1.4616]\u001b[A\n",
      "Epoch 1/50:  59%|█████▊    | 275/469 [00:02<00:01, 148.60it/s, CosSim=0.342, Loss=1.4356]\u001b[A\n",
      "Epoch 1/50:  59%|█████▊    | 275/469 [00:02<00:01, 148.60it/s, CosSim=0.343, Loss=1.4945]\u001b[A\n",
      "Epoch 1/50:  59%|█████▊    | 275/469 [00:02<00:01, 148.60it/s, CosSim=0.355, Loss=1.4250]\u001b[A\n",
      "Epoch 1/50:  59%|█████▊    | 275/469 [00:02<00:01, 148.60it/s, CosSim=0.353, Loss=1.4118]\u001b[A\n",
      "Epoch 1/50:  59%|█████▊    | 275/469 [00:02<00:01, 148.60it/s, CosSim=0.338, Loss=1.4760]\u001b[A\n",
      "Epoch 1/50:  59%|█████▊    | 275/469 [00:02<00:01, 148.60it/s, CosSim=0.340, Loss=1.4719]\u001b[A\n",
      "Epoch 1/50:  59%|█████▊    | 275/469 [00:02<00:01, 148.60it/s, CosSim=0.336, Loss=1.4511]\u001b[A\n",
      "Epoch 1/50:  59%|█████▊    | 275/469 [00:02<00:01, 148.60it/s, CosSim=0.352, Loss=1.4365]\u001b[A\n",
      "Epoch 1/50:  59%|█████▊    | 275/469 [00:02<00:01, 148.60it/s, CosSim=0.348, Loss=1.4438]\u001b[A\n",
      "Epoch 1/50:  59%|█████▊    | 275/469 [00:02<00:01, 148.60it/s, CosSim=0.353, Loss=1.4287]\u001b[A\n",
      "Epoch 1/50:  59%|█████▊    | 275/469 [00:02<00:01, 148.60it/s, CosSim=0.350, Loss=1.4470]\u001b[A\n",
      "Epoch 1/50:  59%|█████▊    | 275/469 [00:02<00:01, 148.60it/s, CosSim=0.340, Loss=1.4620]\u001b[A\n",
      "Epoch 1/50:  62%|██████▏   | 291/469 [00:02<00:01, 149.11it/s, CosSim=0.340, Loss=1.4620]\u001b[A\n",
      "Epoch 1/50:  62%|██████▏   | 291/469 [00:02<00:01, 149.11it/s, CosSim=0.335, Loss=1.4783]\u001b[A\n",
      "Epoch 1/50:  62%|██████▏   | 291/469 [00:02<00:01, 149.11it/s, CosSim=0.343, Loss=1.4659]\u001b[A\n",
      "Epoch 1/50:  62%|██████▏   | 291/469 [00:02<00:01, 149.11it/s, CosSim=0.373, Loss=1.4596]\u001b[A\n",
      "Epoch 1/50:  62%|██████▏   | 291/469 [00:02<00:01, 149.11it/s, CosSim=0.339, Loss=1.5166]\u001b[A\n",
      "Epoch 1/50:  62%|██████▏   | 291/469 [00:02<00:01, 149.11it/s, CosSim=0.361, Loss=1.4236]\u001b[A\n",
      "Epoch 1/50:  62%|██████▏   | 291/469 [00:02<00:01, 149.11it/s, CosSim=0.348, Loss=1.3843]\u001b[A\n",
      "Epoch 1/50:  62%|██████▏   | 291/469 [00:02<00:01, 149.11it/s, CosSim=0.365, Loss=1.4234]\u001b[A\n",
      "Epoch 1/50:  62%|██████▏   | 291/469 [00:02<00:01, 149.11it/s, CosSim=0.364, Loss=1.5532]\u001b[A\n",
      "Epoch 1/50:  62%|██████▏   | 291/469 [00:02<00:01, 149.11it/s, CosSim=0.358, Loss=1.5051]\u001b[A\n",
      "Epoch 1/50:  62%|██████▏   | 291/469 [00:02<00:01, 149.11it/s, CosSim=0.344, Loss=1.5470]\u001b[A\n",
      "Epoch 1/50:  62%|██████▏   | 291/469 [00:02<00:01, 149.11it/s, CosSim=0.334, Loss=1.4955]\u001b[A\n",
      "Epoch 1/50:  62%|██████▏   | 291/469 [00:02<00:01, 149.11it/s, CosSim=0.319, Loss=1.4959]\u001b[A\n",
      "Epoch 1/50:  62%|██████▏   | 291/469 [00:02<00:01, 149.11it/s, CosSim=0.355, Loss=1.4948]\u001b[A\n",
      "Epoch 1/50:  62%|██████▏   | 291/469 [00:02<00:01, 149.11it/s, CosSim=0.350, Loss=1.4311]\u001b[A\n",
      "Epoch 1/50:  62%|██████▏   | 291/469 [00:02<00:01, 149.11it/s, CosSim=0.328, Loss=1.5086]\u001b[A\n",
      "Epoch 1/50:  65%|██████▌   | 306/469 [00:02<00:01, 146.19it/s, CosSim=0.328, Loss=1.5086]\u001b[A\n",
      "Epoch 1/50:  65%|██████▌   | 306/469 [00:02<00:01, 146.19it/s, CosSim=0.346, Loss=1.4895]\u001b[A\n",
      "Epoch 1/50:  65%|██████▌   | 306/469 [00:02<00:01, 146.19it/s, CosSim=0.349, Loss=1.5099]\u001b[A\n",
      "Epoch 1/50:  65%|██████▌   | 306/469 [00:02<00:01, 146.19it/s, CosSim=0.357, Loss=1.4876]\u001b[A\n",
      "Epoch 1/50:  65%|██████▌   | 306/469 [00:02<00:01, 146.19it/s, CosSim=0.353, Loss=1.4716]\u001b[A\n",
      "Epoch 1/50:  65%|██████▌   | 306/469 [00:02<00:01, 146.19it/s, CosSim=0.360, Loss=1.4859]\u001b[A\n",
      "Epoch 1/50:  65%|██████▌   | 306/469 [00:02<00:01, 146.19it/s, CosSim=0.345, Loss=1.4421]\u001b[A\n",
      "Epoch 1/50:  65%|██████▌   | 306/469 [00:02<00:01, 146.19it/s, CosSim=0.336, Loss=1.4755]\u001b[A\n",
      "Epoch 1/50:  65%|██████▌   | 306/469 [00:02<00:01, 146.19it/s, CosSim=0.341, Loss=1.4810]\u001b[A\n",
      "Epoch 1/50:  65%|██████▌   | 306/469 [00:02<00:01, 146.19it/s, CosSim=0.339, Loss=1.5166]\u001b[A\n",
      "Epoch 1/50:  65%|██████▌   | 306/469 [00:02<00:01, 146.19it/s, CosSim=0.350, Loss=1.4271]\u001b[A\n",
      "Epoch 1/50:  65%|██████▌   | 306/469 [00:02<00:01, 146.19it/s, CosSim=0.349, Loss=1.4877]\u001b[A\n",
      "Epoch 1/50:  65%|██████▌   | 306/469 [00:02<00:01, 146.19it/s, CosSim=0.355, Loss=1.4459]\u001b[A\n",
      "Epoch 1/50:  65%|██████▌   | 306/469 [00:02<00:01, 146.19it/s, CosSim=0.362, Loss=1.4369]\u001b[A\n",
      "Epoch 1/50:  65%|██████▌   | 306/469 [00:02<00:01, 146.19it/s, CosSim=0.345, Loss=1.4948]\u001b[A\n",
      "Epoch 1/50:  65%|██████▌   | 306/469 [00:02<00:01, 146.19it/s, CosSim=0.356, Loss=1.4111]\u001b[A\n",
      "Epoch 1/50:  65%|██████▌   | 306/469 [00:02<00:01, 146.19it/s, CosSim=0.351, Loss=1.4762]\u001b[A\n",
      "Epoch 1/50:  65%|██████▌   | 306/469 [00:02<00:01, 146.19it/s, CosSim=0.336, Loss=1.5333]\u001b[A\n",
      "Epoch 1/50:  69%|██████▉   | 323/469 [00:02<00:00, 150.76it/s, CosSim=0.336, Loss=1.5333]\u001b[A\n",
      "Epoch 1/50:  69%|██████▉   | 323/469 [00:02<00:00, 150.76it/s, CosSim=0.355, Loss=1.4138]\u001b[A\n",
      "Epoch 1/50:  69%|██████▉   | 323/469 [00:02<00:00, 150.76it/s, CosSim=0.350, Loss=1.4084]\u001b[A\n",
      "Epoch 1/50:  69%|██████▉   | 323/469 [00:02<00:00, 150.76it/s, CosSim=0.365, Loss=1.4403]\u001b[A\n",
      "Epoch 1/50:  69%|██████▉   | 323/469 [00:02<00:00, 150.76it/s, CosSim=0.344, Loss=1.4341]\u001b[A\n",
      "Epoch 1/50:  69%|██████▉   | 323/469 [00:02<00:00, 150.76it/s, CosSim=0.354, Loss=1.4832]\u001b[A\n",
      "Epoch 1/50:  69%|██████▉   | 323/469 [00:02<00:00, 150.76it/s, CosSim=0.358, Loss=1.4766]\u001b[A\n",
      "Epoch 1/50:  69%|██████▉   | 323/469 [00:02<00:00, 150.76it/s, CosSim=0.344, Loss=1.4266]\u001b[A\n",
      "Epoch 1/50:  69%|██████▉   | 323/469 [00:02<00:00, 150.76it/s, CosSim=0.351, Loss=1.4310]\u001b[A\n",
      "Epoch 1/50:  69%|██████▉   | 323/469 [00:02<00:00, 150.76it/s, CosSim=0.375, Loss=1.4485]\u001b[A\n",
      "Epoch 1/50:  69%|██████▉   | 323/469 [00:02<00:00, 150.76it/s, CosSim=0.334, Loss=1.5305]\u001b[A\n",
      "Epoch 1/50:  69%|██████▉   | 323/469 [00:02<00:00, 150.76it/s, CosSim=0.337, Loss=1.4685]\u001b[A\n",
      "Epoch 1/50:  69%|██████▉   | 323/469 [00:02<00:00, 150.76it/s, CosSim=0.360, Loss=1.4075]\u001b[A\n",
      "Epoch 1/50:  69%|██████▉   | 323/469 [00:02<00:00, 150.76it/s, CosSim=0.364, Loss=1.4399]\u001b[A\n",
      "Epoch 1/50:  69%|██████▉   | 323/469 [00:02<00:00, 150.76it/s, CosSim=0.365, Loss=1.3667]\u001b[A\n",
      "Epoch 1/50:  69%|██████▉   | 323/469 [00:02<00:00, 150.76it/s, CosSim=0.375, Loss=1.3922]\u001b[A\n",
      "Epoch 1/50:  69%|██████▉   | 323/469 [00:02<00:00, 150.76it/s, CosSim=0.342, Loss=1.4532]\u001b[A\n",
      "Epoch 1/50:  72%|███████▏  | 339/469 [00:02<00:00, 149.57it/s, CosSim=0.342, Loss=1.4532]\u001b[A\n",
      "Epoch 1/50:  72%|███████▏  | 339/469 [00:02<00:00, 149.57it/s, CosSim=0.351, Loss=1.4963]\u001b[A\n",
      "Epoch 1/50:  72%|███████▏  | 339/469 [00:02<00:00, 149.57it/s, CosSim=0.360, Loss=1.4620]\u001b[A\n",
      "Epoch 1/50:  72%|███████▏  | 339/469 [00:02<00:00, 149.57it/s, CosSim=0.367, Loss=1.3991]\u001b[A\n",
      "Epoch 1/50:  72%|███████▏  | 339/469 [00:02<00:00, 149.57it/s, CosSim=0.353, Loss=1.4736]\u001b[A\n",
      "Epoch 1/50:  72%|███████▏  | 339/469 [00:02<00:00, 149.57it/s, CosSim=0.353, Loss=1.4973]\u001b[A\n",
      "Epoch 1/50:  72%|███████▏  | 339/469 [00:02<00:00, 149.57it/s, CosSim=0.378, Loss=1.4124]\u001b[A\n",
      "Epoch 1/50:  72%|███████▏  | 339/469 [00:02<00:00, 149.57it/s, CosSim=0.358, Loss=1.4419]\u001b[A\n",
      "Epoch 1/50:  72%|███████▏  | 339/469 [00:02<00:00, 149.57it/s, CosSim=0.346, Loss=1.5032]\u001b[A\n",
      "Epoch 1/50:  72%|███████▏  | 339/469 [00:02<00:00, 149.57it/s, CosSim=0.350, Loss=1.4789]\u001b[A\n",
      "Epoch 1/50:  72%|███████▏  | 339/469 [00:02<00:00, 149.57it/s, CosSim=0.338, Loss=1.4718]\u001b[A\n",
      "Epoch 1/50:  72%|███████▏  | 339/469 [00:02<00:00, 149.57it/s, CosSim=0.338, Loss=1.4598]\u001b[A\n",
      "Epoch 1/50:  72%|███████▏  | 339/469 [00:02<00:00, 149.57it/s, CosSim=0.354, Loss=1.5117]\u001b[A\n",
      "Epoch 1/50:  72%|███████▏  | 339/469 [00:02<00:00, 149.57it/s, CosSim=0.357, Loss=1.4641]\u001b[A\n",
      "Epoch 1/50:  72%|███████▏  | 339/469 [00:02<00:00, 149.57it/s, CosSim=0.353, Loss=1.4682]\u001b[A\n",
      "Epoch 1/50:  72%|███████▏  | 339/469 [00:02<00:00, 149.57it/s, CosSim=0.372, Loss=1.4617]\u001b[A\n",
      "Epoch 1/50:  75%|███████▌  | 354/469 [00:02<00:00, 143.53it/s, CosSim=0.372, Loss=1.4617]\u001b[A\n",
      "Epoch 1/50:  75%|███████▌  | 354/469 [00:02<00:00, 143.53it/s, CosSim=0.359, Loss=1.4750]\u001b[A\n",
      "Epoch 1/50:  75%|███████▌  | 354/469 [00:02<00:00, 143.53it/s, CosSim=0.370, Loss=1.4100]\u001b[A\n",
      "Epoch 1/50:  75%|███████▌  | 354/469 [00:02<00:00, 143.53it/s, CosSim=0.354, Loss=1.4538]\u001b[A\n",
      "Epoch 1/50:  75%|███████▌  | 354/469 [00:02<00:00, 143.53it/s, CosSim=0.337, Loss=1.4931]\u001b[A\n",
      "Epoch 1/50:  75%|███████▌  | 354/469 [00:02<00:00, 143.53it/s, CosSim=0.354, Loss=1.4377]\u001b[A\n",
      "Epoch 1/50:  75%|███████▌  | 354/469 [00:02<00:00, 143.53it/s, CosSim=0.365, Loss=1.3645]\u001b[A\n",
      "Epoch 1/50:  75%|███████▌  | 354/469 [00:02<00:00, 143.53it/s, CosSim=0.352, Loss=1.4945]\u001b[A\n",
      "Epoch 1/50:  75%|███████▌  | 354/469 [00:02<00:00, 143.53it/s, CosSim=0.358, Loss=1.4403]\u001b[A\n",
      "Epoch 1/50:  75%|███████▌  | 354/469 [00:02<00:00, 143.53it/s, CosSim=0.347, Loss=1.5082]\u001b[A\n",
      "Epoch 1/50:  75%|███████▌  | 354/469 [00:02<00:00, 143.53it/s, CosSim=0.341, Loss=1.4275]\u001b[A\n",
      "Epoch 1/50:  75%|███████▌  | 354/469 [00:02<00:00, 143.53it/s, CosSim=0.363, Loss=1.4168]\u001b[A\n",
      "Epoch 1/50:  75%|███████▌  | 354/469 [00:02<00:00, 143.53it/s, CosSim=0.351, Loss=1.4633]\u001b[A\n",
      "Epoch 1/50:  75%|███████▌  | 354/469 [00:02<00:00, 143.53it/s, CosSim=0.365, Loss=1.4344]\u001b[A\n",
      "Epoch 1/50:  75%|███████▌  | 354/469 [00:02<00:00, 143.53it/s, CosSim=0.351, Loss=1.5203]\u001b[A\n",
      "Epoch 1/50:  75%|███████▌  | 354/469 [00:02<00:00, 143.53it/s, CosSim=0.349, Loss=1.4870]\u001b[A\n",
      "Epoch 1/50:  75%|███████▌  | 354/469 [00:02<00:00, 143.53it/s, CosSim=0.347, Loss=1.4601]\u001b[A\n",
      "Epoch 1/50:  75%|███████▌  | 354/469 [00:02<00:00, 143.53it/s, CosSim=0.351, Loss=1.4965]\u001b[A\n",
      "Epoch 1/50:  79%|███████▉  | 371/469 [00:02<00:00, 150.80it/s, CosSim=0.351, Loss=1.4965]\u001b[A\n",
      "Epoch 1/50:  79%|███████▉  | 371/469 [00:02<00:00, 150.80it/s, CosSim=0.348, Loss=1.4744]\u001b[A\n",
      "Epoch 1/50:  79%|███████▉  | 371/469 [00:02<00:00, 150.80it/s, CosSim=0.352, Loss=1.4787]\u001b[A\n",
      "Epoch 1/50:  79%|███████▉  | 371/469 [00:02<00:00, 150.80it/s, CosSim=0.345, Loss=1.4971]\u001b[A\n",
      "Epoch 1/50:  79%|███████▉  | 371/469 [00:02<00:00, 150.80it/s, CosSim=0.352, Loss=1.4634]\u001b[A\n",
      "Epoch 1/50:  79%|███████▉  | 371/469 [00:02<00:00, 150.80it/s, CosSim=0.351, Loss=1.4647]\u001b[A\n",
      "Epoch 1/50:  79%|███████▉  | 371/469 [00:02<00:00, 150.80it/s, CosSim=0.353, Loss=1.4748]\u001b[A\n",
      "Epoch 1/50:  79%|███████▉  | 371/469 [00:02<00:00, 150.80it/s, CosSim=0.346, Loss=1.4803]\u001b[A\n",
      "Epoch 1/50:  79%|███████▉  | 371/469 [00:02<00:00, 150.80it/s, CosSim=0.367, Loss=1.4508]\u001b[A\n",
      "Epoch 1/50:  79%|███████▉  | 371/469 [00:02<00:00, 150.80it/s, CosSim=0.372, Loss=1.4322]\u001b[A\n",
      "Epoch 1/50:  79%|███████▉  | 371/469 [00:02<00:00, 150.80it/s, CosSim=0.356, Loss=1.4339]\u001b[A\n",
      "Epoch 1/50:  79%|███████▉  | 371/469 [00:02<00:00, 150.80it/s, CosSim=0.352, Loss=1.5097]\u001b[A\n",
      "Epoch 1/50:  79%|███████▉  | 371/469 [00:02<00:00, 150.80it/s, CosSim=0.375, Loss=1.3984]\u001b[A\n",
      "Epoch 1/50:  79%|███████▉  | 371/469 [00:02<00:00, 150.80it/s, CosSim=0.356, Loss=1.4502]\u001b[A\n",
      "Epoch 1/50:  79%|███████▉  | 371/469 [00:02<00:00, 150.80it/s, CosSim=0.343, Loss=1.4245]\u001b[A\n",
      "Epoch 1/50:  79%|███████▉  | 371/469 [00:02<00:00, 150.80it/s, CosSim=0.374, Loss=1.3965]\u001b[A\n",
      "Epoch 1/50:  79%|███████▉  | 371/469 [00:02<00:00, 150.80it/s, CosSim=0.360, Loss=1.4306]\u001b[A\n",
      "Epoch 1/50:  79%|███████▉  | 371/469 [00:02<00:00, 150.80it/s, CosSim=0.375, Loss=1.3851]\u001b[A\n",
      "Epoch 1/50:  83%|████████▎ | 388/469 [00:02<00:00, 156.25it/s, CosSim=0.375, Loss=1.3851]\u001b[A\n",
      "Epoch 1/50:  83%|████████▎ | 388/469 [00:02<00:00, 156.25it/s, CosSim=0.360, Loss=1.4015]\u001b[A\n",
      "Epoch 1/50:  83%|████████▎ | 388/469 [00:02<00:00, 156.25it/s, CosSim=0.357, Loss=1.4492]\u001b[A\n",
      "Epoch 1/50:  83%|████████▎ | 388/469 [00:02<00:00, 156.25it/s, CosSim=0.364, Loss=1.3992]\u001b[A\n",
      "Epoch 1/50:  83%|████████▎ | 388/469 [00:02<00:00, 156.25it/s, CosSim=0.367, Loss=1.4035]\u001b[A\n",
      "Epoch 1/50:  83%|████████▎ | 388/469 [00:02<00:00, 156.25it/s, CosSim=0.340, Loss=1.5318]\u001b[A\n",
      "Epoch 1/50:  83%|████████▎ | 388/469 [00:02<00:00, 156.25it/s, CosSim=0.377, Loss=1.4214]\u001b[A\n",
      "Epoch 1/50:  83%|████████▎ | 388/469 [00:02<00:00, 156.25it/s, CosSim=0.360, Loss=1.4602]\u001b[A\n",
      "Epoch 1/50:  83%|████████▎ | 388/469 [00:02<00:00, 156.25it/s, CosSim=0.360, Loss=1.4068]\u001b[A\n",
      "Epoch 1/50:  83%|████████▎ | 388/469 [00:02<00:00, 156.25it/s, CosSim=0.336, Loss=1.5075]\u001b[A\n",
      "Epoch 1/50:  83%|████████▎ | 388/469 [00:02<00:00, 156.25it/s, CosSim=0.360, Loss=1.4169]\u001b[A\n",
      "Epoch 1/50:  83%|████████▎ | 388/469 [00:02<00:00, 156.25it/s, CosSim=0.350, Loss=1.4659]\u001b[A\n",
      "Epoch 1/50:  83%|████████▎ | 388/469 [00:02<00:00, 156.25it/s, CosSim=0.351, Loss=1.4412]\u001b[A\n",
      "Epoch 1/50:  83%|████████▎ | 388/469 [00:02<00:00, 156.25it/s, CosSim=0.359, Loss=1.4658]\u001b[A\n",
      "Epoch 1/50:  83%|████████▎ | 388/469 [00:02<00:00, 156.25it/s, CosSim=0.345, Loss=1.4726]\u001b[A\n",
      "Epoch 1/50:  83%|████████▎ | 388/469 [00:02<00:00, 156.25it/s, CosSim=0.351, Loss=1.4403]\u001b[A\n",
      "Epoch 1/50:  83%|████████▎ | 388/469 [00:02<00:00, 156.25it/s, CosSim=0.353, Loss=1.4851]\u001b[A\n",
      "Epoch 1/50:  86%|████████▌ | 404/469 [00:02<00:00, 151.40it/s, CosSim=0.353, Loss=1.4851]\u001b[A\n",
      "Epoch 1/50:  86%|████████▌ | 404/469 [00:02<00:00, 151.40it/s, CosSim=0.343, Loss=1.5544]\u001b[A\n",
      "Epoch 1/50:  86%|████████▌ | 404/469 [00:02<00:00, 151.40it/s, CosSim=0.358, Loss=1.3942]\u001b[A\n",
      "Epoch 1/50:  86%|████████▌ | 404/469 [00:02<00:00, 151.40it/s, CosSim=0.363, Loss=1.4559]\u001b[A\n",
      "Epoch 1/50:  86%|████████▌ | 404/469 [00:02<00:00, 151.40it/s, CosSim=0.360, Loss=1.4980]\u001b[A\n",
      "Epoch 1/50:  86%|████████▌ | 404/469 [00:02<00:00, 151.40it/s, CosSim=0.336, Loss=1.4838]\u001b[A\n",
      "Epoch 1/50:  86%|████████▌ | 404/469 [00:02<00:00, 151.40it/s, CosSim=0.358, Loss=1.4446]\u001b[A\n",
      "Epoch 1/50:  86%|████████▌ | 404/469 [00:02<00:00, 151.40it/s, CosSim=0.380, Loss=1.3698]\u001b[A\n",
      "Epoch 1/50:  86%|████████▌ | 404/469 [00:02<00:00, 151.40it/s, CosSim=0.358, Loss=1.4481]\u001b[A\n",
      "Epoch 1/50:  86%|████████▌ | 404/469 [00:02<00:00, 151.40it/s, CosSim=0.373, Loss=1.3615]\u001b[A\n",
      "Epoch 1/50:  86%|████████▌ | 404/469 [00:02<00:00, 151.40it/s, CosSim=0.371, Loss=1.4537]\u001b[A\n",
      "Epoch 1/50:  86%|████████▌ | 404/469 [00:02<00:00, 151.40it/s, CosSim=0.361, Loss=1.4288]\u001b[A\n",
      "Epoch 1/50:  86%|████████▌ | 404/469 [00:02<00:00, 151.40it/s, CosSim=0.366, Loss=1.4614]\u001b[A\n",
      "Epoch 1/50:  86%|████████▌ | 404/469 [00:02<00:00, 151.40it/s, CosSim=0.361, Loss=1.4216]\u001b[A\n",
      "Epoch 1/50:  86%|████████▌ | 404/469 [00:02<00:00, 151.40it/s, CosSim=0.354, Loss=1.4472]\u001b[A\n",
      "Epoch 1/50:  86%|████████▌ | 404/469 [00:02<00:00, 151.40it/s, CosSim=0.376, Loss=1.3923]\u001b[A\n",
      "Epoch 1/50:  86%|████████▌ | 404/469 [00:02<00:00, 151.40it/s, CosSim=0.367, Loss=1.3901]\u001b[A\n",
      "Epoch 1/50:  86%|████████▌ | 404/469 [00:02<00:00, 151.40it/s, CosSim=0.370, Loss=1.4423]\u001b[A\n",
      "Epoch 1/50:  90%|████████▉ | 421/469 [00:02<00:00, 154.54it/s, CosSim=0.370, Loss=1.4423]\u001b[A\n",
      "Epoch 1/50:  90%|████████▉ | 421/469 [00:02<00:00, 154.54it/s, CosSim=0.376, Loss=1.4433]\u001b[A\n",
      "Epoch 1/50:  90%|████████▉ | 421/469 [00:02<00:00, 154.54it/s, CosSim=0.349, Loss=1.4644]\u001b[A\n",
      "Epoch 1/50:  90%|████████▉ | 421/469 [00:02<00:00, 154.54it/s, CosSim=0.347, Loss=1.4390]\u001b[A\n",
      "Epoch 1/50:  90%|████████▉ | 421/469 [00:02<00:00, 154.54it/s, CosSim=0.364, Loss=1.4500]\u001b[A\n",
      "Epoch 1/50:  90%|████████▉ | 421/469 [00:03<00:00, 154.54it/s, CosSim=0.351, Loss=1.4430]\u001b[A\n",
      "Epoch 1/50:  90%|████████▉ | 421/469 [00:03<00:00, 154.54it/s, CosSim=0.363, Loss=1.4385]\u001b[A\n",
      "Epoch 1/50:  90%|████████▉ | 421/469 [00:03<00:00, 154.54it/s, CosSim=0.359, Loss=1.4529]\u001b[A\n",
      "Epoch 1/50:  90%|████████▉ | 421/469 [00:03<00:00, 154.54it/s, CosSim=0.349, Loss=1.4272]\u001b[A\n",
      "Epoch 1/50:  90%|████████▉ | 421/469 [00:03<00:00, 154.54it/s, CosSim=0.336, Loss=1.4852]\u001b[A\n",
      "Epoch 1/50:  90%|████████▉ | 421/469 [00:03<00:00, 154.54it/s, CosSim=0.360, Loss=1.4448]\u001b[A\n",
      "Epoch 1/50:  90%|████████▉ | 421/469 [00:03<00:00, 154.54it/s, CosSim=0.344, Loss=1.4612]\u001b[A\n",
      "Epoch 1/50:  90%|████████▉ | 421/469 [00:03<00:00, 154.54it/s, CosSim=0.350, Loss=1.4433]\u001b[A\n",
      "Epoch 1/50:  90%|████████▉ | 421/469 [00:03<00:00, 154.54it/s, CosSim=0.361, Loss=1.4347]\u001b[A\n",
      "Epoch 1/50:  90%|████████▉ | 421/469 [00:03<00:00, 154.54it/s, CosSim=0.349, Loss=1.4503]\u001b[A\n",
      "Epoch 1/50:  90%|████████▉ | 421/469 [00:03<00:00, 154.54it/s, CosSim=0.359, Loss=1.3614]\u001b[A\n",
      "Epoch 1/50:  90%|████████▉ | 421/469 [00:03<00:00, 154.54it/s, CosSim=0.353, Loss=1.4421]\u001b[A\n",
      "Epoch 1/50:  90%|████████▉ | 421/469 [00:03<00:00, 154.54it/s, CosSim=0.372, Loss=1.4299]\u001b[A\n",
      "Epoch 1/50:  93%|█████████▎| 438/469 [00:03<00:00, 157.96it/s, CosSim=0.372, Loss=1.4299]\u001b[A\n",
      "Epoch 1/50:  93%|█████████▎| 438/469 [00:03<00:00, 157.96it/s, CosSim=0.367, Loss=1.4391]\u001b[A\n",
      "Epoch 1/50:  93%|█████████▎| 438/469 [00:03<00:00, 157.96it/s, CosSim=0.349, Loss=1.5251]\u001b[A\n",
      "Epoch 1/50:  93%|█████████▎| 438/469 [00:03<00:00, 157.96it/s, CosSim=0.355, Loss=1.4391]\u001b[A\n",
      "Epoch 1/50:  93%|█████████▎| 438/469 [00:03<00:00, 157.96it/s, CosSim=0.344, Loss=1.3969]\u001b[A\n",
      "Epoch 1/50:  93%|█████████▎| 438/469 [00:03<00:00, 157.96it/s, CosSim=0.363, Loss=1.4542]\u001b[A\n",
      "Epoch 1/50:  93%|█████████▎| 438/469 [00:03<00:00, 157.96it/s, CosSim=0.359, Loss=1.4663]\u001b[A\n",
      "Epoch 1/50:  93%|█████████▎| 438/469 [00:03<00:00, 157.96it/s, CosSim=0.373, Loss=1.4270]\u001b[A\n",
      "Epoch 1/50:  93%|█████████▎| 438/469 [00:03<00:00, 157.96it/s, CosSim=0.365, Loss=1.4375]\u001b[A\n",
      "Epoch 1/50:  93%|█████████▎| 438/469 [00:03<00:00, 157.96it/s, CosSim=0.365, Loss=1.4443]\u001b[A\n",
      "Epoch 1/50:  93%|█████████▎| 438/469 [00:03<00:00, 157.96it/s, CosSim=0.365, Loss=1.4186]\u001b[A\n",
      "Epoch 1/50:  93%|█████████▎| 438/469 [00:03<00:00, 157.96it/s, CosSim=0.359, Loss=1.4809]\u001b[A\n",
      "Epoch 1/50:  93%|█████████▎| 438/469 [00:03<00:00, 157.96it/s, CosSim=0.357, Loss=1.4604]\u001b[A\n",
      "Epoch 1/50:  93%|█████████▎| 438/469 [00:03<00:00, 157.96it/s, CosSim=0.376, Loss=1.4243]\u001b[A\n",
      "Epoch 1/50:  93%|█████████▎| 438/469 [00:03<00:00, 157.96it/s, CosSim=0.364, Loss=1.4456]\u001b[A\n",
      "Epoch 1/50:  93%|█████████▎| 438/469 [00:03<00:00, 157.96it/s, CosSim=0.362, Loss=1.4705]\u001b[A\n",
      "Epoch 1/50:  93%|█████████▎| 438/469 [00:03<00:00, 157.96it/s, CosSim=0.355, Loss=1.4624]\u001b[A\n",
      "Epoch 1/50:  93%|█████████▎| 438/469 [00:03<00:00, 157.96it/s, CosSim=0.356, Loss=1.4537]\u001b[A\n",
      "Epoch 1/50:  97%|█████████▋| 455/469 [00:03<00:00, 160.40it/s, CosSim=0.356, Loss=1.4537]\u001b[A\n",
      "Epoch 1/50:  97%|█████████▋| 455/469 [00:03<00:00, 160.40it/s, CosSim=0.376, Loss=1.4898]\u001b[A\n",
      "Epoch 1/50:  97%|█████████▋| 455/469 [00:03<00:00, 160.40it/s, CosSim=0.350, Loss=1.4986]\u001b[A\n",
      "Epoch 1/50:  97%|█████████▋| 455/469 [00:03<00:00, 160.40it/s, CosSim=0.382, Loss=1.3921]\u001b[A\n",
      "Epoch 1/50:  97%|█████████▋| 455/469 [00:03<00:00, 160.40it/s, CosSim=0.364, Loss=1.4640]\u001b[A\n",
      "Epoch 1/50:  97%|█████████▋| 455/469 [00:03<00:00, 160.40it/s, CosSim=0.359, Loss=1.4444]\u001b[A\n",
      "Epoch 1/50:  97%|█████████▋| 455/469 [00:03<00:00, 160.40it/s, CosSim=0.349, Loss=1.4439]\u001b[A\n",
      "Epoch 1/50:  97%|█████████▋| 455/469 [00:03<00:00, 160.40it/s, CosSim=0.360, Loss=1.4566]\u001b[A\n",
      "Epoch 1/50:  97%|█████████▋| 455/469 [00:03<00:00, 160.40it/s, CosSim=0.384, Loss=1.4628]\u001b[A\n",
      "Epoch 1/50:  97%|█████████▋| 455/469 [00:03<00:00, 160.40it/s, CosSim=0.378, Loss=1.4034]\u001b[A\n",
      "Epoch 1/50:  97%|█████████▋| 455/469 [00:03<00:00, 160.40it/s, CosSim=0.367, Loss=1.3810]\u001b[A\n",
      "Epoch 1/50:  97%|█████████▋| 455/469 [00:03<00:00, 160.40it/s, CosSim=0.366, Loss=1.4082]\u001b[A\n",
      "Epoch 1/50:  97%|█████████▋| 455/469 [00:03<00:00, 160.40it/s, CosSim=0.362, Loss=1.4630]\u001b[A\n",
      "Epoch 1/50:  97%|█████████▋| 455/469 [00:03<00:00, 160.40it/s, CosSim=0.361, Loss=1.4455]\u001b[A\n",
      "Epoch 1/50: 100%|██████████| 469/469 [00:03<00:00, 141.24it/s, CosSim=0.344, Loss=1.4830]\u001b[A\n",
      "\n",
      "Epoch 2/50:   0%|          | 0/469 [00:00<?, ?it/s]\u001b[A\n",
      "Epoch 2/50:   0%|          | 0/469 [00:00<?, ?it/s, CosSim=0.372, Loss=1.4352]\u001b[A\n",
      "Epoch 2/50:   0%|          | 0/469 [00:00<?, ?it/s, CosSim=0.362, Loss=1.4108]\u001b[A\n",
      "Epoch 2/50:   0%|          | 0/469 [00:00<?, ?it/s, CosSim=0.357, Loss=1.4828]\u001b[A\n",
      "Epoch 2/50:   0%|          | 0/469 [00:00<?, ?it/s, CosSim=0.366, Loss=1.4573]\u001b[A\n",
      "Epoch 2/50:   0%|          | 0/469 [00:00<?, ?it/s, CosSim=0.385, Loss=1.4068]\u001b[A\n",
      "Epoch 2/50:   0%|          | 0/469 [00:00<?, ?it/s, CosSim=0.353, Loss=1.5044]\u001b[A\n",
      "Epoch 2/50:   0%|          | 0/469 [00:00<?, ?it/s, CosSim=0.353, Loss=1.4572]\u001b[A\n",
      "Epoch 2/50:   0%|          | 0/469 [00:00<?, ?it/s, CosSim=0.369, Loss=1.4197]\u001b[A\n",
      "Epoch 2/50:   0%|          | 0/469 [00:00<?, ?it/s, CosSim=0.366, Loss=1.4351]\u001b[A\n",
      "Epoch 2/50:   0%|          | 0/469 [00:00<?, ?it/s, CosSim=0.369, Loss=1.4826]\u001b[A\n",
      "Epoch 2/50:   0%|          | 0/469 [00:00<?, ?it/s, CosSim=0.358, Loss=1.4545]\u001b[A\n",
      "Epoch 2/50:   0%|          | 0/469 [00:00<?, ?it/s, CosSim=0.347, Loss=1.4682]\u001b[A\n",
      "Epoch 2/50:   0%|          | 0/469 [00:00<?, ?it/s, CosSim=0.357, Loss=1.4553]\u001b[A\n",
      "Epoch 2/50:   0%|          | 0/469 [00:00<?, ?it/s, CosSim=0.352, Loss=1.4814]\u001b[A\n",
      "Epoch 2/50:   0%|          | 0/469 [00:00<?, ?it/s, CosSim=0.337, Loss=1.5096]\u001b[A\n",
      "Epoch 2/50:   0%|          | 0/469 [00:00<?, ?it/s, CosSim=0.369, Loss=1.4456]\u001b[A\n",
      "Epoch 2/50:   3%|▎         | 16/469 [00:00<00:02, 157.89it/s, CosSim=0.369, Loss=1.4456]\u001b[A\n",
      "Epoch 2/50:   3%|▎         | 16/469 [00:00<00:02, 157.89it/s, CosSim=0.364, Loss=1.4484]\u001b[A\n",
      "Epoch 2/50:   3%|▎         | 16/469 [00:00<00:02, 157.89it/s, CosSim=0.341, Loss=1.5406]\u001b[A\n",
      "Epoch 2/50:   3%|▎         | 16/469 [00:00<00:02, 157.89it/s, CosSim=0.367, Loss=1.4735]\u001b[A\n",
      "Epoch 2/50:   3%|▎         | 16/469 [00:00<00:02, 157.89it/s, CosSim=0.374, Loss=1.4146]\u001b[A\n",
      "Epoch 2/50:   3%|▎         | 16/469 [00:00<00:02, 157.89it/s, CosSim=0.374, Loss=1.3887]\u001b[A\n",
      "Epoch 2/50:   3%|▎         | 16/469 [00:00<00:02, 157.89it/s, CosSim=0.357, Loss=1.4402]\u001b[A\n",
      "Epoch 2/50:   3%|▎         | 16/469 [00:00<00:02, 157.89it/s, CosSim=0.367, Loss=1.4409]\u001b[A\n",
      "Epoch 2/50:   3%|▎         | 16/469 [00:00<00:02, 157.89it/s, CosSim=0.379, Loss=1.4036]\u001b[A\n",
      "Epoch 2/50:   3%|▎         | 16/469 [00:00<00:02, 157.89it/s, CosSim=0.380, Loss=1.4468]\u001b[A\n",
      "Epoch 2/50:   3%|▎         | 16/469 [00:00<00:02, 157.89it/s, CosSim=0.350, Loss=1.4388]\u001b[A\n",
      "Epoch 2/50:   3%|▎         | 16/469 [00:00<00:02, 157.89it/s, CosSim=0.353, Loss=1.4898]\u001b[A\n",
      "Epoch 2/50:   3%|▎         | 16/469 [00:00<00:02, 157.89it/s, CosSim=0.371, Loss=1.4179]\u001b[A\n",
      "Epoch 2/50:   3%|▎         | 16/469 [00:00<00:02, 157.89it/s, CosSim=0.372, Loss=1.3999]\u001b[A\n",
      "Epoch 2/50:   3%|▎         | 16/469 [00:00<00:02, 157.89it/s, CosSim=0.379, Loss=1.4681]\u001b[A\n",
      "Epoch 2/50:   3%|▎         | 16/469 [00:00<00:02, 157.89it/s, CosSim=0.352, Loss=1.4936]\u001b[A\n",
      "Epoch 2/50:   3%|▎         | 16/469 [00:00<00:02, 157.89it/s, CosSim=0.379, Loss=1.4254]\u001b[A\n",
      "Epoch 2/50:   3%|▎         | 16/469 [00:00<00:02, 157.89it/s, CosSim=0.381, Loss=1.4271]\u001b[A\n",
      "Epoch 2/50:   7%|▋         | 33/469 [00:00<00:02, 161.84it/s, CosSim=0.381, Loss=1.4271]\u001b[A\n",
      "Epoch 2/50:   7%|▋         | 33/469 [00:00<00:02, 161.84it/s, CosSim=0.380, Loss=1.4397]\u001b[A\n",
      "Epoch 2/50:   7%|▋         | 33/469 [00:00<00:02, 161.84it/s, CosSim=0.362, Loss=1.4666]\u001b[A\n",
      "Epoch 2/50:   7%|▋         | 33/469 [00:00<00:02, 161.84it/s, CosSim=0.369, Loss=1.4715]\u001b[A\n",
      "Epoch 2/50:   7%|▋         | 33/469 [00:00<00:02, 161.84it/s, CosSim=0.366, Loss=1.4634]\u001b[A\n",
      "Epoch 2/50:   7%|▋         | 33/469 [00:00<00:02, 161.84it/s, CosSim=0.356, Loss=1.5195]\u001b[A\n",
      "Epoch 2/50:   7%|▋         | 33/469 [00:00<00:02, 161.84it/s, CosSim=0.347, Loss=1.4843]\u001b[A\n",
      "Epoch 2/50:   7%|▋         | 33/469 [00:00<00:02, 161.84it/s, CosSim=0.384, Loss=1.4187]\u001b[A\n",
      "Epoch 2/50:   7%|▋         | 33/469 [00:00<00:02, 161.84it/s, CosSim=0.369, Loss=1.4234]\u001b[A\n",
      "Epoch 2/50:   7%|▋         | 33/469 [00:00<00:02, 161.84it/s, CosSim=0.371, Loss=1.4195]\u001b[A\n",
      "Epoch 2/50:   7%|▋         | 33/469 [00:00<00:02, 161.84it/s, CosSim=0.347, Loss=1.4137]\u001b[A\n",
      "Epoch 2/50:   7%|▋         | 33/469 [00:00<00:02, 161.84it/s, CosSim=0.369, Loss=1.5118]\u001b[A\n",
      "Epoch 2/50:   7%|▋         | 33/469 [00:00<00:02, 161.84it/s, CosSim=0.370, Loss=1.4255]\u001b[A\n",
      "Epoch 2/50:   7%|▋         | 33/469 [00:00<00:02, 161.84it/s, CosSim=0.362, Loss=1.4779]\u001b[A\n",
      "Epoch 2/50:   7%|▋         | 33/469 [00:00<00:02, 161.84it/s, CosSim=0.370, Loss=1.4545]\u001b[A\n",
      "Epoch 2/50:   7%|▋         | 33/469 [00:00<00:02, 161.84it/s, CosSim=0.349, Loss=1.4716]\u001b[A\n",
      "Epoch 2/50:   7%|▋         | 33/469 [00:00<00:02, 161.84it/s, CosSim=0.358, Loss=1.4718]\u001b[A\n",
      "Epoch 2/50:   7%|▋         | 33/469 [00:00<00:02, 161.84it/s, CosSim=0.349, Loss=1.4554]\u001b[A\n",
      "Epoch 2/50:  11%|█         | 50/469 [00:00<00:02, 151.53it/s, CosSim=0.349, Loss=1.4554]\u001b[A\n",
      "Epoch 2/50:  11%|█         | 50/469 [00:00<00:02, 151.53it/s, CosSim=0.365, Loss=1.4408]\u001b[A\n",
      "Epoch 2/50:  11%|█         | 50/469 [00:00<00:02, 151.53it/s, CosSim=0.349, Loss=1.4721]\u001b[A\n",
      "Epoch 2/50:  11%|█         | 50/469 [00:00<00:02, 151.53it/s, CosSim=0.354, Loss=1.4472]\u001b[A\n",
      "Epoch 2/50:  11%|█         | 50/469 [00:00<00:02, 151.53it/s, CosSim=0.366, Loss=1.4205]\u001b[A\n",
      "Epoch 2/50:  11%|█         | 50/469 [00:00<00:02, 151.53it/s, CosSim=0.349, Loss=1.5081]\u001b[A\n",
      "Epoch 2/50:  11%|█         | 50/469 [00:00<00:02, 151.53it/s, CosSim=0.366, Loss=1.4213]\u001b[A\n",
      "Epoch 2/50:  11%|█         | 50/469 [00:00<00:02, 151.53it/s, CosSim=0.372, Loss=1.4316]\u001b[A\n",
      "Epoch 2/50:  11%|█         | 50/469 [00:00<00:02, 151.53it/s, CosSim=0.370, Loss=1.4611]\u001b[A\n",
      "Epoch 2/50:  11%|█         | 50/469 [00:00<00:02, 151.53it/s, CosSim=0.374, Loss=1.4508]\u001b[A\n",
      "Epoch 2/50:  11%|█         | 50/469 [00:00<00:02, 151.53it/s, CosSim=0.363, Loss=1.4204]\u001b[A\n",
      "Epoch 2/50:  11%|█         | 50/469 [00:00<00:02, 151.53it/s, CosSim=0.365, Loss=1.4113]\u001b[A\n",
      "Epoch 2/50:  11%|█         | 50/469 [00:00<00:02, 151.53it/s, CosSim=0.368, Loss=1.4284]\u001b[A\n",
      "Epoch 2/50:  11%|█         | 50/469 [00:00<00:02, 151.53it/s, CosSim=0.385, Loss=1.4202]\u001b[A\n",
      "Epoch 2/50:  11%|█         | 50/469 [00:00<00:02, 151.53it/s, CosSim=0.374, Loss=1.4315]\u001b[A\n",
      "Epoch 2/50:  11%|█         | 50/469 [00:00<00:02, 151.53it/s, CosSim=0.360, Loss=1.4354]\u001b[A\n",
      "Epoch 2/50:  11%|█         | 50/469 [00:00<00:02, 151.53it/s, CosSim=0.367, Loss=1.4083]\u001b[A\n",
      "Epoch 2/50:  11%|█         | 50/469 [00:00<00:02, 151.53it/s, CosSim=0.379, Loss=1.4227]\u001b[A\n",
      "Epoch 2/50:  14%|█▍        | 67/469 [00:00<00:02, 156.36it/s, CosSim=0.379, Loss=1.4227]\u001b[A\n",
      "Epoch 2/50:  14%|█▍        | 67/469 [00:00<00:02, 156.36it/s, CosSim=0.364, Loss=1.4285]\u001b[A\n",
      "Epoch 2/50:  14%|█▍        | 67/469 [00:00<00:02, 156.36it/s, CosSim=0.364, Loss=1.4263]\u001b[A\n",
      "Epoch 2/50:  14%|█▍        | 67/469 [00:00<00:02, 156.36it/s, CosSim=0.359, Loss=1.4222]\u001b[A\n",
      "Epoch 2/50:  14%|█▍        | 67/469 [00:00<00:02, 156.36it/s, CosSim=0.353, Loss=1.4931]\u001b[A\n",
      "Epoch 2/50:  14%|█▍        | 67/469 [00:00<00:02, 156.36it/s, CosSim=0.378, Loss=1.3876]\u001b[A\n",
      "Epoch 2/50:  14%|█▍        | 67/469 [00:00<00:02, 156.36it/s, CosSim=0.388, Loss=1.3763]\u001b[A\n",
      "Epoch 2/50:  14%|█▍        | 67/469 [00:00<00:02, 156.36it/s, CosSim=0.379, Loss=1.4118]\u001b[A\n",
      "Epoch 2/50:  14%|█▍        | 67/469 [00:00<00:02, 156.36it/s, CosSim=0.385, Loss=1.4063]\u001b[A\n",
      "Epoch 2/50:  14%|█▍        | 67/469 [00:00<00:02, 156.36it/s, CosSim=0.363, Loss=1.4633]\u001b[A\n",
      "Epoch 2/50:  14%|█▍        | 67/469 [00:00<00:02, 156.36it/s, CosSim=0.354, Loss=1.4587]\u001b[A\n",
      "Epoch 2/50:  14%|█▍        | 67/469 [00:00<00:02, 156.36it/s, CosSim=0.366, Loss=1.4793]\u001b[A\n",
      "Epoch 2/50:  14%|█▍        | 67/469 [00:00<00:02, 156.36it/s, CosSim=0.370, Loss=1.4388]\u001b[A\n",
      "Epoch 2/50:  14%|█▍        | 67/469 [00:00<00:02, 156.36it/s, CosSim=0.377, Loss=1.3680]\u001b[A\n",
      "Epoch 2/50:  14%|█▍        | 67/469 [00:00<00:02, 156.36it/s, CosSim=0.375, Loss=1.4140]\u001b[A\n",
      "Epoch 2/50:  14%|█▍        | 67/469 [00:00<00:02, 156.36it/s, CosSim=0.357, Loss=1.4343]\u001b[A\n",
      "Epoch 2/50:  14%|█▍        | 67/469 [00:00<00:02, 156.36it/s, CosSim=0.375, Loss=1.4473]\u001b[A\n",
      "Epoch 2/50:  14%|█▍        | 67/469 [00:00<00:02, 156.36it/s, CosSim=0.338, Loss=1.4889]\u001b[A\n",
      "Epoch 2/50:  18%|█▊        | 84/469 [00:00<00:02, 158.07it/s, CosSim=0.338, Loss=1.4889]\u001b[A\n",
      "Epoch 2/50:  18%|█▊        | 84/469 [00:00<00:02, 158.07it/s, CosSim=0.358, Loss=1.4589]\u001b[A\n",
      "Epoch 2/50:  18%|█▊        | 84/469 [00:00<00:02, 158.07it/s, CosSim=0.372, Loss=1.4158]\u001b[A\n",
      "Epoch 2/50:  18%|█▊        | 84/469 [00:00<00:02, 158.07it/s, CosSim=0.384, Loss=1.3677]\u001b[A\n",
      "Epoch 2/50:  18%|█▊        | 84/469 [00:00<00:02, 158.07it/s, CosSim=0.368, Loss=1.4152]\u001b[A\n",
      "Epoch 2/50:  18%|█▊        | 84/469 [00:00<00:02, 158.07it/s, CosSim=0.365, Loss=1.4737]\u001b[A\n",
      "Epoch 2/50:  18%|█▊        | 84/469 [00:00<00:02, 158.07it/s, CosSim=0.367, Loss=1.3906]\u001b[A\n",
      "Epoch 2/50:  18%|█▊        | 84/469 [00:00<00:02, 158.07it/s, CosSim=0.363, Loss=1.4436]\u001b[A\n",
      "Epoch 2/50:  18%|█▊        | 84/469 [00:00<00:02, 158.07it/s, CosSim=0.363, Loss=1.4657]\u001b[A\n",
      "Epoch 2/50:  18%|█▊        | 84/469 [00:00<00:02, 158.07it/s, CosSim=0.354, Loss=1.4908]\u001b[A\n",
      "Epoch 2/50:  18%|█▊        | 84/469 [00:00<00:02, 158.07it/s, CosSim=0.376, Loss=1.4283]\u001b[A\n",
      "Epoch 2/50:  18%|█▊        | 84/469 [00:00<00:02, 158.07it/s, CosSim=0.347, Loss=1.4863]\u001b[A\n",
      "Epoch 2/50:  18%|█▊        | 84/469 [00:00<00:02, 158.07it/s, CosSim=0.363, Loss=1.3774]\u001b[A\n",
      "Epoch 2/50:  18%|█▊        | 84/469 [00:00<00:02, 158.07it/s, CosSim=0.360, Loss=1.4226]\u001b[A\n",
      "Epoch 2/50:  18%|█▊        | 84/469 [00:00<00:02, 158.07it/s, CosSim=0.361, Loss=1.3973]\u001b[A\n",
      "Epoch 2/50:  18%|█▊        | 84/469 [00:00<00:02, 158.07it/s, CosSim=0.377, Loss=1.4229]\u001b[A\n",
      "Epoch 2/50:  18%|█▊        | 84/469 [00:00<00:02, 158.07it/s, CosSim=0.397, Loss=1.3590]\u001b[A\n",
      "Epoch 2/50:  21%|██▏       | 100/469 [00:00<00:02, 152.32it/s, CosSim=0.397, Loss=1.3590]\u001b[A\n",
      "Epoch 2/50:  21%|██▏       | 100/469 [00:00<00:02, 152.32it/s, CosSim=0.363, Loss=1.3822]\u001b[A\n",
      "Epoch 2/50:  21%|██▏       | 100/469 [00:00<00:02, 152.32it/s, CosSim=0.348, Loss=1.4777]\u001b[A\n",
      "Epoch 2/50:  21%|██▏       | 100/469 [00:00<00:02, 152.32it/s, CosSim=0.367, Loss=1.4675]\u001b[A\n",
      "Epoch 2/50:  21%|██▏       | 100/469 [00:00<00:02, 152.32it/s, CosSim=0.346, Loss=1.4473]\u001b[A\n",
      "Epoch 2/50:  21%|██▏       | 100/469 [00:00<00:02, 152.32it/s, CosSim=0.372, Loss=1.3983]\u001b[A\n",
      "Epoch 2/50:  21%|██▏       | 100/469 [00:00<00:02, 152.32it/s, CosSim=0.363, Loss=1.5080]\u001b[A\n",
      "Epoch 2/50:  21%|██▏       | 100/469 [00:00<00:02, 152.32it/s, CosSim=0.358, Loss=1.4772]\u001b[A\n",
      "Epoch 2/50:  21%|██▏       | 100/469 [00:00<00:02, 152.32it/s, CosSim=0.378, Loss=1.4020]\u001b[A\n",
      "Epoch 2/50:  21%|██▏       | 100/469 [00:00<00:02, 152.32it/s, CosSim=0.359, Loss=1.4156]\u001b[A\n",
      "Epoch 2/50:  21%|██▏       | 100/469 [00:00<00:02, 152.32it/s, CosSim=0.372, Loss=1.4263]\u001b[A\n",
      "Epoch 2/50:  21%|██▏       | 100/469 [00:00<00:02, 152.32it/s, CosSim=0.358, Loss=1.4602]\u001b[A\n",
      "Epoch 2/50:  21%|██▏       | 100/469 [00:00<00:02, 152.32it/s, CosSim=0.372, Loss=1.4302]\u001b[A\n",
      "Epoch 2/50:  21%|██▏       | 100/469 [00:00<00:02, 152.32it/s, CosSim=0.388, Loss=1.3700]\u001b[A\n",
      "Epoch 2/50:  21%|██▏       | 100/469 [00:00<00:02, 152.32it/s, CosSim=0.370, Loss=1.4134]\u001b[A\n",
      "Epoch 2/50:  21%|██▏       | 100/469 [00:00<00:02, 152.32it/s, CosSim=0.363, Loss=1.4531]\u001b[A\n",
      "Epoch 2/50:  21%|██▏       | 100/469 [00:00<00:02, 152.32it/s, CosSim=0.368, Loss=1.4402]\u001b[A\n",
      "Epoch 2/50:  21%|██▏       | 100/469 [00:00<00:02, 152.32it/s, CosSim=0.355, Loss=1.4071]\u001b[A\n",
      "Epoch 2/50:  25%|██▍       | 117/469 [00:00<00:02, 157.71it/s, CosSim=0.355, Loss=1.4071]\u001b[A\n",
      "Epoch 2/50:  25%|██▍       | 117/469 [00:00<00:02, 157.71it/s, CosSim=0.360, Loss=1.4663]\u001b[A\n",
      "Epoch 2/50:  25%|██▍       | 117/469 [00:00<00:02, 157.71it/s, CosSim=0.382, Loss=1.3851]\u001b[A\n",
      "Epoch 2/50:  25%|██▍       | 117/469 [00:00<00:02, 157.71it/s, CosSim=0.364, Loss=1.4332]\u001b[A\n",
      "Epoch 2/50:  25%|██▍       | 117/469 [00:00<00:02, 157.71it/s, CosSim=0.374, Loss=1.4057]\u001b[A\n",
      "Epoch 2/50:  25%|██▍       | 117/469 [00:00<00:02, 157.71it/s, CosSim=0.373, Loss=1.4316]\u001b[A\n",
      "Epoch 2/50:  25%|██▍       | 117/469 [00:00<00:02, 157.71it/s, CosSim=0.373, Loss=1.5000]\u001b[A\n",
      "Epoch 2/50:  25%|██▍       | 117/469 [00:00<00:02, 157.71it/s, CosSim=0.384, Loss=1.4175]\u001b[A\n",
      "Epoch 2/50:  25%|██▍       | 117/469 [00:00<00:02, 157.71it/s, CosSim=0.360, Loss=1.4668]\u001b[A\n",
      "Epoch 2/50:  25%|██▍       | 117/469 [00:00<00:02, 157.71it/s, CosSim=0.368, Loss=1.4648]\u001b[A\n",
      "Epoch 2/50:  25%|██▍       | 117/469 [00:00<00:02, 157.71it/s, CosSim=0.384, Loss=1.4367]\u001b[A\n",
      "Epoch 2/50:  25%|██▍       | 117/469 [00:00<00:02, 157.71it/s, CosSim=0.372, Loss=1.3746]\u001b[A\n",
      "Epoch 2/50:  25%|██▍       | 117/469 [00:00<00:02, 157.71it/s, CosSim=0.379, Loss=1.4118]\u001b[A\n",
      "Epoch 2/50:  25%|██▍       | 117/469 [00:00<00:02, 157.71it/s, CosSim=0.366, Loss=1.4125]\u001b[A\n",
      "Epoch 2/50:  25%|██▍       | 117/469 [00:00<00:02, 157.71it/s, CosSim=0.356, Loss=1.4457]\u001b[A\n",
      "Epoch 2/50:  25%|██▍       | 117/469 [00:00<00:02, 157.71it/s, CosSim=0.374, Loss=1.4306]\u001b[A\n",
      "Epoch 2/50:  25%|██▍       | 117/469 [00:00<00:02, 157.71it/s, CosSim=0.366, Loss=1.4485]\u001b[A\n",
      "Epoch 2/50:  25%|██▍       | 117/469 [00:00<00:02, 157.71it/s, CosSim=0.391, Loss=1.3719]\u001b[A\n",
      "Epoch 2/50:  29%|██▊       | 134/469 [00:00<00:02, 153.59it/s, CosSim=0.391, Loss=1.3719]\u001b[A\n",
      "Epoch 2/50:  29%|██▊       | 134/469 [00:00<00:02, 153.59it/s, CosSim=0.380, Loss=1.3816]\u001b[A\n",
      "Epoch 2/50:  29%|██▊       | 134/469 [00:00<00:02, 153.59it/s, CosSim=0.358, Loss=1.4603]\u001b[A\n",
      "Epoch 2/50:  29%|██▊       | 134/469 [00:00<00:02, 153.59it/s, CosSim=0.348, Loss=1.4564]\u001b[A\n",
      "Epoch 2/50:  29%|██▊       | 134/469 [00:00<00:02, 153.59it/s, CosSim=0.370, Loss=1.4959]\u001b[A\n",
      "Epoch 2/50:  29%|██▊       | 134/469 [00:00<00:02, 153.59it/s, CosSim=0.367, Loss=1.4498]\u001b[A\n",
      "Epoch 2/50:  29%|██▊       | 134/469 [00:00<00:02, 153.59it/s, CosSim=0.371, Loss=1.4752]\u001b[A\n",
      "Epoch 2/50:  29%|██▊       | 134/469 [00:00<00:02, 153.59it/s, CosSim=0.382, Loss=1.4422]\u001b[A\n",
      "Epoch 2/50:  29%|██▊       | 134/469 [00:00<00:02, 153.59it/s, CosSim=0.364, Loss=1.4263]\u001b[A\n",
      "Epoch 2/50:  29%|██▊       | 134/469 [00:00<00:02, 153.59it/s, CosSim=0.365, Loss=1.4794]\u001b[A\n",
      "Epoch 2/50:  29%|██▊       | 134/469 [00:00<00:02, 153.59it/s, CosSim=0.378, Loss=1.4228]\u001b[A\n",
      "Epoch 2/50:  29%|██▊       | 134/469 [00:00<00:02, 153.59it/s, CosSim=0.378, Loss=1.4365]\u001b[A\n",
      "Epoch 2/50:  29%|██▊       | 134/469 [00:00<00:02, 153.59it/s, CosSim=0.370, Loss=1.4128]\u001b[A\n",
      "Epoch 2/50:  29%|██▊       | 134/469 [00:00<00:02, 153.59it/s, CosSim=0.373, Loss=1.4405]\u001b[A\n",
      "Epoch 2/50:  29%|██▊       | 134/469 [00:00<00:02, 153.59it/s, CosSim=0.360, Loss=1.4923]\u001b[A\n",
      "Epoch 2/50:  29%|██▊       | 134/469 [00:00<00:02, 153.59it/s, CosSim=0.377, Loss=1.3799]\u001b[A\n",
      "Epoch 2/50:  29%|██▊       | 134/469 [00:00<00:02, 153.59it/s, CosSim=0.388, Loss=1.4122]\u001b[A\n",
      "Epoch 2/50:  32%|███▏      | 150/469 [00:00<00:02, 153.56it/s, CosSim=0.388, Loss=1.4122]\u001b[A\n",
      "Epoch 2/50:  32%|███▏      | 150/469 [00:00<00:02, 153.56it/s, CosSim=0.352, Loss=1.4300]\u001b[A\n",
      "Epoch 2/50:  32%|███▏      | 150/469 [00:00<00:02, 153.56it/s, CosSim=0.365, Loss=1.4134]\u001b[A\n",
      "Epoch 2/50:  32%|███▏      | 150/469 [00:00<00:02, 153.56it/s, CosSim=0.365, Loss=1.4147]\u001b[A\n",
      "Epoch 2/50:  32%|███▏      | 150/469 [00:00<00:02, 153.56it/s, CosSim=0.349, Loss=1.5215]\u001b[A\n",
      "Epoch 2/50:  32%|███▏      | 150/469 [00:00<00:02, 153.56it/s, CosSim=0.375, Loss=1.4103]\u001b[A\n",
      "Epoch 2/50:  32%|███▏      | 150/469 [00:01<00:02, 153.56it/s, CosSim=0.369, Loss=1.4035]\u001b[A\n",
      "Epoch 2/50:  32%|███▏      | 150/469 [00:01<00:02, 153.56it/s, CosSim=0.364, Loss=1.4297]\u001b[A\n",
      "Epoch 2/50:  32%|███▏      | 150/469 [00:01<00:02, 153.56it/s, CosSim=0.366, Loss=1.4617]\u001b[A\n",
      "Epoch 2/50:  32%|███▏      | 150/469 [00:01<00:02, 153.56it/s, CosSim=0.361, Loss=1.4370]\u001b[A\n",
      "Epoch 2/50:  32%|███▏      | 150/469 [00:01<00:02, 153.56it/s, CosSim=0.361, Loss=1.4566]\u001b[A\n",
      "Epoch 2/50:  32%|███▏      | 150/469 [00:01<00:02, 153.56it/s, CosSim=0.371, Loss=1.4104]\u001b[A\n",
      "Epoch 2/50:  32%|███▏      | 150/469 [00:01<00:02, 153.56it/s, CosSim=0.367, Loss=1.4781]\u001b[A\n",
      "Epoch 2/50:  32%|███▏      | 150/469 [00:01<00:02, 153.56it/s, CosSim=0.369, Loss=1.4662]\u001b[A\n",
      "Epoch 2/50:  32%|███▏      | 150/469 [00:01<00:02, 153.56it/s, CosSim=0.369, Loss=1.4456]\u001b[A\n",
      "Epoch 2/50:  32%|███▏      | 150/469 [00:01<00:02, 153.56it/s, CosSim=0.366, Loss=1.4255]\u001b[A\n",
      "Epoch 2/50:  32%|███▏      | 150/469 [00:01<00:02, 153.56it/s, CosSim=0.366, Loss=1.4655]\u001b[A\n",
      "Epoch 2/50:  32%|███▏      | 150/469 [00:01<00:02, 153.56it/s, CosSim=0.357, Loss=1.4914]\u001b[A\n",
      "Epoch 2/50:  32%|███▏      | 150/469 [00:01<00:02, 153.56it/s, CosSim=0.381, Loss=1.4406]\u001b[A\n",
      "Epoch 2/50:  36%|███▌      | 168/469 [00:01<00:01, 159.49it/s, CosSim=0.381, Loss=1.4406]\u001b[A\n",
      "Epoch 2/50:  36%|███▌      | 168/469 [00:01<00:01, 159.49it/s, CosSim=0.386, Loss=1.4276]\u001b[A\n",
      "Epoch 2/50:  36%|███▌      | 168/469 [00:01<00:01, 159.49it/s, CosSim=0.388, Loss=1.4482]\u001b[A\n",
      "Epoch 2/50:  36%|███▌      | 168/469 [00:01<00:01, 159.49it/s, CosSim=0.376, Loss=1.4192]\u001b[A\n",
      "Epoch 2/50:  36%|███▌      | 168/469 [00:01<00:01, 159.49it/s, CosSim=0.363, Loss=1.5089]\u001b[A\n",
      "Epoch 2/50:  36%|███▌      | 168/469 [00:01<00:01, 159.49it/s, CosSim=0.382, Loss=1.4416]\u001b[A\n",
      "Epoch 2/50:  36%|███▌      | 168/469 [00:01<00:01, 159.49it/s, CosSim=0.368, Loss=1.4815]\u001b[A\n",
      "Epoch 2/50:  36%|███▌      | 168/469 [00:01<00:01, 159.49it/s, CosSim=0.377, Loss=1.4215]\u001b[A\n",
      "Epoch 2/50:  36%|███▌      | 168/469 [00:01<00:01, 159.49it/s, CosSim=0.372, Loss=1.4208]\u001b[A\n",
      "Epoch 2/50:  36%|███▌      | 168/469 [00:01<00:01, 159.49it/s, CosSim=0.382, Loss=1.3458]\u001b[A\n",
      "Epoch 2/50:  36%|███▌      | 168/469 [00:01<00:01, 159.49it/s, CosSim=0.378, Loss=1.4321]\u001b[A\n",
      "Epoch 2/50:  36%|███▌      | 168/469 [00:01<00:01, 159.49it/s, CosSim=0.391, Loss=1.3918]\u001b[A\n",
      "Epoch 2/50:  36%|███▌      | 168/469 [00:01<00:01, 159.49it/s, CosSim=0.376, Loss=1.3992]\u001b[A\n",
      "Epoch 2/50:  36%|███▌      | 168/469 [00:01<00:01, 159.49it/s, CosSim=0.368, Loss=1.4110]\u001b[A\n",
      "Epoch 2/50:  36%|███▌      | 168/469 [00:01<00:01, 159.49it/s, CosSim=0.372, Loss=1.4311]\u001b[A\n",
      "Epoch 2/50:  36%|███▌      | 168/469 [00:01<00:01, 159.49it/s, CosSim=0.377, Loss=1.3958]\u001b[A\n",
      "Epoch 2/50:  36%|███▌      | 168/469 [00:01<00:01, 159.49it/s, CosSim=0.381, Loss=1.4453]\u001b[A\n",
      "Epoch 2/50:  39%|███▉      | 184/469 [00:01<00:01, 157.88it/s, CosSim=0.381, Loss=1.4453]\u001b[A\n",
      "Epoch 2/50:  39%|███▉      | 184/469 [00:01<00:01, 157.88it/s, CosSim=0.364, Loss=1.4666]\u001b[A\n",
      "Epoch 2/50:  39%|███▉      | 184/469 [00:01<00:01, 157.88it/s, CosSim=0.381, Loss=1.4193]\u001b[A\n",
      "Epoch 2/50:  39%|███▉      | 184/469 [00:01<00:01, 157.88it/s, CosSim=0.369, Loss=1.4221]\u001b[A\n",
      "Epoch 2/50:  39%|███▉      | 184/469 [00:01<00:01, 157.88it/s, CosSim=0.376, Loss=1.4135]\u001b[A\n",
      "Epoch 2/50:  39%|███▉      | 184/469 [00:01<00:01, 157.88it/s, CosSim=0.370, Loss=1.4877]\u001b[A\n",
      "Epoch 2/50:  39%|███▉      | 184/469 [00:01<00:01, 157.88it/s, CosSim=0.368, Loss=1.4086]\u001b[A\n",
      "Epoch 2/50:  39%|███▉      | 184/469 [00:01<00:01, 157.88it/s, CosSim=0.379, Loss=1.4047]\u001b[A\n",
      "Epoch 2/50:  39%|███▉      | 184/469 [00:01<00:01, 157.88it/s, CosSim=0.371, Loss=1.4421]\u001b[A\n",
      "Epoch 2/50:  39%|███▉      | 184/469 [00:01<00:01, 157.88it/s, CosSim=0.368, Loss=1.3798]\u001b[A\n",
      "Epoch 2/50:  39%|███▉      | 184/469 [00:01<00:01, 157.88it/s, CosSim=0.388, Loss=1.4715]\u001b[A\n",
      "Epoch 2/50:  39%|███▉      | 184/469 [00:01<00:01, 157.88it/s, CosSim=0.374, Loss=1.4032]\u001b[A\n",
      "Epoch 2/50:  39%|███▉      | 184/469 [00:01<00:01, 157.88it/s, CosSim=0.376, Loss=1.4223]\u001b[A\n",
      "Epoch 2/50:  39%|███▉      | 184/469 [00:01<00:01, 157.88it/s, CosSim=0.356, Loss=1.4866]\u001b[A\n",
      "Epoch 2/50:  39%|███▉      | 184/469 [00:01<00:01, 157.88it/s, CosSim=0.363, Loss=1.4671]\u001b[A\n",
      "Epoch 2/50:  39%|███▉      | 184/469 [00:01<00:01, 157.88it/s, CosSim=0.375, Loss=1.4218]\u001b[A\n",
      "Epoch 2/50:  39%|███▉      | 184/469 [00:01<00:01, 157.88it/s, CosSim=0.355, Loss=1.4581]\u001b[A\n",
      "Epoch 2/50:  43%|████▎     | 200/469 [00:01<00:01, 150.97it/s, CosSim=0.355, Loss=1.4581]\u001b[A\n",
      "Epoch 2/50:  43%|████▎     | 200/469 [00:01<00:01, 150.97it/s, CosSim=0.378, Loss=1.4516]\u001b[A\n",
      "Epoch 2/50:  43%|████▎     | 200/469 [00:01<00:01, 150.97it/s, CosSim=0.359, Loss=1.4428]\u001b[A\n",
      "Epoch 2/50:  43%|████▎     | 200/469 [00:01<00:01, 150.97it/s, CosSim=0.370, Loss=1.4375]\u001b[A\n",
      "Epoch 2/50:  43%|████▎     | 200/469 [00:01<00:01, 150.97it/s, CosSim=0.384, Loss=1.4076]\u001b[A\n",
      "Epoch 2/50:  43%|████▎     | 200/469 [00:01<00:01, 150.97it/s, CosSim=0.367, Loss=1.4794]\u001b[A\n",
      "Epoch 2/50:  43%|████▎     | 200/469 [00:01<00:01, 150.97it/s, CosSim=0.372, Loss=1.4324]\u001b[A\n",
      "Epoch 2/50:  43%|████▎     | 200/469 [00:01<00:01, 150.97it/s, CosSim=0.378, Loss=1.4452]\u001b[A\n",
      "Epoch 2/50:  43%|████▎     | 200/469 [00:01<00:01, 150.97it/s, CosSim=0.356, Loss=1.4615]\u001b[A\n",
      "Epoch 2/50:  43%|████▎     | 200/469 [00:01<00:01, 150.97it/s, CosSim=0.360, Loss=1.4753]\u001b[A\n",
      "Epoch 2/50:  43%|████▎     | 200/469 [00:01<00:01, 150.97it/s, CosSim=0.366, Loss=1.4688]\u001b[A\n",
      "Epoch 2/50:  43%|████▎     | 200/469 [00:01<00:01, 150.97it/s, CosSim=0.375, Loss=1.4237]\u001b[A\n",
      "Epoch 2/50:  43%|████▎     | 200/469 [00:01<00:01, 150.97it/s, CosSim=0.367, Loss=1.4556]\u001b[A\n",
      "Epoch 2/50:  43%|████▎     | 200/469 [00:01<00:01, 150.97it/s, CosSim=0.390, Loss=1.4439]\u001b[A\n",
      "Epoch 2/50:  43%|████▎     | 200/469 [00:01<00:01, 150.97it/s, CosSim=0.375, Loss=1.4123]\u001b[A\n",
      "Epoch 2/50:  43%|████▎     | 200/469 [00:01<00:01, 150.97it/s, CosSim=0.357, Loss=1.4596]\u001b[A\n",
      "Epoch 2/50:  43%|████▎     | 200/469 [00:01<00:01, 150.97it/s, CosSim=0.377, Loss=1.3865]\u001b[A\n",
      "Epoch 2/50:  46%|████▌     | 216/469 [00:01<00:01, 152.89it/s, CosSim=0.377, Loss=1.3865]\u001b[A\n",
      "Epoch 2/50:  46%|████▌     | 216/469 [00:01<00:01, 152.89it/s, CosSim=0.392, Loss=1.3631]\u001b[A\n",
      "Epoch 2/50:  46%|████▌     | 216/469 [00:01<00:01, 152.89it/s, CosSim=0.370, Loss=1.4355]\u001b[A\n",
      "Epoch 2/50:  46%|████▌     | 216/469 [00:01<00:01, 152.89it/s, CosSim=0.374, Loss=1.4100]\u001b[A\n",
      "Epoch 2/50:  46%|████▌     | 216/469 [00:01<00:01, 152.89it/s, CosSim=0.374, Loss=1.4408]\u001b[A\n",
      "Epoch 2/50:  46%|████▌     | 216/469 [00:01<00:01, 152.89it/s, CosSim=0.377, Loss=1.4396]\u001b[A\n",
      "Epoch 2/50:  46%|████▌     | 216/469 [00:01<00:01, 152.89it/s, CosSim=0.375, Loss=1.3616]\u001b[A\n",
      "Epoch 2/50:  46%|████▌     | 216/469 [00:01<00:01, 152.89it/s, CosSim=0.362, Loss=1.4206]\u001b[A\n",
      "Epoch 2/50:  46%|████▌     | 216/469 [00:01<00:01, 152.89it/s, CosSim=0.388, Loss=1.3598]\u001b[A\n",
      "Epoch 2/50:  46%|████▌     | 216/469 [00:01<00:01, 152.89it/s, CosSim=0.380, Loss=1.3889]\u001b[A\n",
      "Epoch 2/50:  46%|████▌     | 216/469 [00:01<00:01, 152.89it/s, CosSim=0.376, Loss=1.4708]\u001b[A\n",
      "Epoch 2/50:  46%|████▌     | 216/469 [00:01<00:01, 152.89it/s, CosSim=0.368, Loss=1.4344]\u001b[A\n",
      "Epoch 2/50:  46%|████▌     | 216/469 [00:01<00:01, 152.89it/s, CosSim=0.369, Loss=1.4397]\u001b[A\n",
      "Epoch 2/50:  46%|████▌     | 216/469 [00:01<00:01, 152.89it/s, CosSim=0.370, Loss=1.4658]\u001b[A\n",
      "Epoch 2/50:  46%|████▌     | 216/469 [00:01<00:01, 152.89it/s, CosSim=0.376, Loss=1.4628]\u001b[A\n",
      "Epoch 2/50:  46%|████▌     | 216/469 [00:01<00:01, 152.89it/s, CosSim=0.359, Loss=1.4727]\u001b[A\n",
      "Epoch 2/50:  46%|████▌     | 216/469 [00:01<00:01, 152.89it/s, CosSim=0.384, Loss=1.4267]\u001b[A\n",
      "Epoch 2/50:  46%|████▌     | 216/469 [00:01<00:01, 152.89it/s, CosSim=0.395, Loss=1.3328]\u001b[A\n",
      "Epoch 2/50:  46%|████▌     | 216/469 [00:01<00:01, 152.89it/s, CosSim=0.378, Loss=1.4079]\u001b[A\n",
      "Epoch 2/50:  50%|████▉     | 234/469 [00:01<00:01, 158.15it/s, CosSim=0.378, Loss=1.4079]\u001b[A\n",
      "Epoch 2/50:  50%|████▉     | 234/469 [00:01<00:01, 158.15it/s, CosSim=0.374, Loss=1.4414]\u001b[A\n",
      "Epoch 2/50:  50%|████▉     | 234/469 [00:01<00:01, 158.15it/s, CosSim=0.368, Loss=1.4544]\u001b[A\n",
      "Epoch 2/50:  50%|████▉     | 234/469 [00:01<00:01, 158.15it/s, CosSim=0.351, Loss=1.4282]\u001b[A\n",
      "Epoch 2/50:  50%|████▉     | 234/469 [00:01<00:01, 158.15it/s, CosSim=0.361, Loss=1.4737]\u001b[A\n",
      "Epoch 2/50:  50%|████▉     | 234/469 [00:01<00:01, 158.15it/s, CosSim=0.383, Loss=1.3489]\u001b[A\n",
      "Epoch 2/50:  50%|████▉     | 234/469 [00:01<00:01, 158.15it/s, CosSim=0.373, Loss=1.4587]\u001b[A\n",
      "Epoch 2/50:  50%|████▉     | 234/469 [00:01<00:01, 158.15it/s, CosSim=0.362, Loss=1.4903]\u001b[A\n",
      "Epoch 2/50:  50%|████▉     | 234/469 [00:01<00:01, 158.15it/s, CosSim=0.375, Loss=1.4098]\u001b[A\n",
      "Epoch 2/50:  50%|████▉     | 234/469 [00:01<00:01, 158.15it/s, CosSim=0.378, Loss=1.4670]\u001b[A\n",
      "Epoch 2/50:  50%|████▉     | 234/469 [00:01<00:01, 158.15it/s, CosSim=0.362, Loss=1.4657]\u001b[A\n",
      "Epoch 2/50:  50%|████▉     | 234/469 [00:01<00:01, 158.15it/s, CosSim=0.375, Loss=1.4597]\u001b[A\n",
      "Epoch 2/50:  50%|████▉     | 234/469 [00:01<00:01, 158.15it/s, CosSim=0.388, Loss=1.4211]\u001b[A\n",
      "Epoch 2/50:  50%|████▉     | 234/469 [00:01<00:01, 158.15it/s, CosSim=0.384, Loss=1.4177]\u001b[A\n",
      "Epoch 2/50:  50%|████▉     | 234/469 [00:01<00:01, 158.15it/s, CosSim=0.387, Loss=1.3897]\u001b[A\n",
      "Epoch 2/50:  50%|████▉     | 234/469 [00:01<00:01, 158.15it/s, CosSim=0.396, Loss=1.3580]\u001b[A\n",
      "Epoch 2/50:  50%|████▉     | 234/469 [00:01<00:01, 158.15it/s, CosSim=0.361, Loss=1.4383]\u001b[A\n",
      "Epoch 2/50:  53%|█████▎    | 250/469 [00:01<00:01, 156.43it/s, CosSim=0.361, Loss=1.4383]\u001b[A\n",
      "Epoch 2/50:  53%|█████▎    | 250/469 [00:01<00:01, 156.43it/s, CosSim=0.381, Loss=1.3812]\u001b[A\n",
      "Epoch 2/50:  53%|█████▎    | 250/469 [00:01<00:01, 156.43it/s, CosSim=0.390, Loss=1.4245]\u001b[A\n",
      "Epoch 2/50:  53%|█████▎    | 250/469 [00:01<00:01, 156.43it/s, CosSim=0.380, Loss=1.4300]\u001b[A\n",
      "Epoch 2/50:  53%|█████▎    | 250/469 [00:01<00:01, 156.43it/s, CosSim=0.392, Loss=1.3494]\u001b[A\n",
      "Epoch 2/50:  53%|█████▎    | 250/469 [00:01<00:01, 156.43it/s, CosSim=0.378, Loss=1.4368]\u001b[A\n",
      "Epoch 2/50:  53%|█████▎    | 250/469 [00:01<00:01, 156.43it/s, CosSim=0.375, Loss=1.4663]\u001b[A\n",
      "Epoch 2/50:  53%|█████▎    | 250/469 [00:01<00:01, 156.43it/s, CosSim=0.378, Loss=1.4282]\u001b[A\n",
      "Epoch 2/50:  53%|█████▎    | 250/469 [00:01<00:01, 156.43it/s, CosSim=0.395, Loss=1.3510]\u001b[A\n",
      "Epoch 2/50:  53%|█████▎    | 250/469 [00:01<00:01, 156.43it/s, CosSim=0.384, Loss=1.3814]\u001b[A\n",
      "Epoch 2/50:  53%|█████▎    | 250/469 [00:01<00:01, 156.43it/s, CosSim=0.381, Loss=1.4266]\u001b[A\n",
      "Epoch 2/50:  53%|█████▎    | 250/469 [00:01<00:01, 156.43it/s, CosSim=0.382, Loss=1.3685]\u001b[A\n",
      "Epoch 2/50:  53%|█████▎    | 250/469 [00:01<00:01, 156.43it/s, CosSim=0.385, Loss=1.4100]\u001b[A\n",
      "Epoch 2/50:  53%|█████▎    | 250/469 [00:01<00:01, 156.43it/s, CosSim=0.381, Loss=1.4299]\u001b[A\n",
      "Epoch 2/50:  53%|█████▎    | 250/469 [00:01<00:01, 156.43it/s, CosSim=0.371, Loss=1.4265]\u001b[A\n",
      "Epoch 2/50:  53%|█████▎    | 250/469 [00:01<00:01, 156.43it/s, CosSim=0.396, Loss=1.3720]\u001b[A\n",
      "Epoch 2/50:  53%|█████▎    | 250/469 [00:01<00:01, 156.43it/s, CosSim=0.367, Loss=1.3949]\u001b[A\n",
      "Epoch 2/50:  57%|█████▋    | 266/469 [00:01<00:01, 145.17it/s, CosSim=0.367, Loss=1.3949]\u001b[A\n",
      "Epoch 2/50:  57%|█████▋    | 266/469 [00:01<00:01, 145.17it/s, CosSim=0.365, Loss=1.4436]\u001b[A\n",
      "Epoch 2/50:  57%|█████▋    | 266/469 [00:01<00:01, 145.17it/s, CosSim=0.382, Loss=1.3615]\u001b[A\n",
      "Epoch 2/50:  57%|█████▋    | 266/469 [00:01<00:01, 145.17it/s, CosSim=0.385, Loss=1.4495]\u001b[A\n",
      "Epoch 2/50:  57%|█████▋    | 266/469 [00:01<00:01, 145.17it/s, CosSim=0.379, Loss=1.4525]\u001b[A\n",
      "Epoch 2/50:  57%|█████▋    | 266/469 [00:01<00:01, 145.17it/s, CosSim=0.367, Loss=1.4665]\u001b[A\n",
      "Epoch 2/50:  57%|█████▋    | 266/469 [00:01<00:01, 145.17it/s, CosSim=0.387, Loss=1.3952]\u001b[A\n",
      "Epoch 2/50:  57%|█████▋    | 266/469 [00:01<00:01, 145.17it/s, CosSim=0.374, Loss=1.4349]\u001b[A\n",
      "Epoch 2/50:  57%|█████▋    | 266/469 [00:01<00:01, 145.17it/s, CosSim=0.377, Loss=1.4658]\u001b[A\n",
      "Epoch 2/50:  57%|█████▋    | 266/469 [00:01<00:01, 145.17it/s, CosSim=0.380, Loss=1.4315]\u001b[A\n",
      "Epoch 2/50:  57%|█████▋    | 266/469 [00:01<00:01, 145.17it/s, CosSim=0.378, Loss=1.4056]\u001b[A\n",
      "Epoch 2/50:  57%|█████▋    | 266/469 [00:01<00:01, 145.17it/s, CosSim=0.385, Loss=1.4131]\u001b[A\n",
      "Epoch 2/50:  57%|█████▋    | 266/469 [00:01<00:01, 145.17it/s, CosSim=0.368, Loss=1.4104]\u001b[A\n",
      "Epoch 2/50:  57%|█████▋    | 266/469 [00:01<00:01, 145.17it/s, CosSim=0.368, Loss=1.4506]\u001b[A\n",
      "Epoch 2/50:  57%|█████▋    | 266/469 [00:01<00:01, 145.17it/s, CosSim=0.368, Loss=1.4287]\u001b[A\n",
      "Epoch 2/50:  57%|█████▋    | 266/469 [00:01<00:01, 145.17it/s, CosSim=0.375, Loss=1.4230]\u001b[A\n",
      "Epoch 2/50:  57%|█████▋    | 266/469 [00:01<00:01, 145.17it/s, CosSim=0.376, Loss=1.4752]\u001b[A\n",
      "Epoch 2/50:  60%|██████    | 282/469 [00:01<00:01, 148.42it/s, CosSim=0.376, Loss=1.4752]\u001b[A\n",
      "Epoch 2/50:  60%|██████    | 282/469 [00:01<00:01, 148.42it/s, CosSim=0.391, Loss=1.3379]\u001b[A\n",
      "Epoch 2/50:  60%|██████    | 282/469 [00:01<00:01, 148.42it/s, CosSim=0.375, Loss=1.4288]\u001b[A\n",
      "Epoch 2/50:  60%|██████    | 282/469 [00:01<00:01, 148.42it/s, CosSim=0.366, Loss=1.4963]\u001b[A\n",
      "Epoch 2/50:  60%|██████    | 282/469 [00:01<00:01, 148.42it/s, CosSim=0.378, Loss=1.4175]\u001b[A\n",
      "Epoch 2/50:  60%|██████    | 282/469 [00:01<00:01, 148.42it/s, CosSim=0.382, Loss=1.4081]\u001b[A\n",
      "Epoch 2/50:  60%|██████    | 282/469 [00:01<00:01, 148.42it/s, CosSim=0.386, Loss=1.4225]\u001b[A\n",
      "Epoch 2/50:  60%|██████    | 282/469 [00:01<00:01, 148.42it/s, CosSim=0.387, Loss=1.3891]\u001b[A\n",
      "Epoch 2/50:  60%|██████    | 282/469 [00:01<00:01, 148.42it/s, CosSim=0.399, Loss=1.3736]\u001b[A\n",
      "Epoch 2/50:  60%|██████    | 282/469 [00:01<00:01, 148.42it/s, CosSim=0.374, Loss=1.3940]\u001b[A\n",
      "Epoch 2/50:  60%|██████    | 282/469 [00:01<00:01, 148.42it/s, CosSim=0.369, Loss=1.4360]\u001b[A\n",
      "Epoch 2/50:  60%|██████    | 282/469 [00:01<00:01, 148.42it/s, CosSim=0.374, Loss=1.4262]\u001b[A\n",
      "Epoch 2/50:  60%|██████    | 282/469 [00:01<00:01, 148.42it/s, CosSim=0.374, Loss=1.4566]\u001b[A\n",
      "Epoch 2/50:  60%|██████    | 282/469 [00:02<00:01, 148.42it/s, CosSim=0.361, Loss=1.4561]\u001b[A\n",
      "Epoch 2/50:  60%|██████    | 282/469 [00:02<00:01, 148.42it/s, CosSim=0.386, Loss=1.4265]\u001b[A\n",
      "Epoch 2/50:  60%|██████    | 282/469 [00:02<00:01, 148.42it/s, CosSim=0.383, Loss=1.4409]\u001b[A\n",
      "Epoch 2/50:  63%|██████▎   | 297/469 [00:02<00:01, 110.24it/s, CosSim=0.383, Loss=1.4409]\u001b[A\n",
      "Epoch 2/50:  63%|██████▎   | 297/469 [00:02<00:01, 110.24it/s, CosSim=0.394, Loss=1.3921]\u001b[A\n",
      "Epoch 2/50:  63%|██████▎   | 297/469 [00:02<00:01, 110.24it/s, CosSim=0.394, Loss=1.4237]\u001b[A\n",
      "Epoch 2/50:  63%|██████▎   | 297/469 [00:02<00:01, 110.24it/s, CosSim=0.367, Loss=1.4472]\u001b[A\n",
      "Epoch 2/50:  63%|██████▎   | 297/469 [00:02<00:01, 110.24it/s, CosSim=0.376, Loss=1.4599]\u001b[A\n",
      "Epoch 2/50:  63%|██████▎   | 297/469 [00:02<00:01, 110.24it/s, CosSim=0.373, Loss=1.4093]\u001b[A\n",
      "Epoch 2/50:  63%|██████▎   | 297/469 [00:02<00:01, 110.24it/s, CosSim=0.373, Loss=1.4912]\u001b[A\n",
      "Epoch 2/50:  63%|██████▎   | 297/469 [00:02<00:01, 110.24it/s, CosSim=0.368, Loss=1.4398]\u001b[A\n",
      "Epoch 2/50:  63%|██████▎   | 297/469 [00:02<00:01, 110.24it/s, CosSim=0.387, Loss=1.4198]\u001b[A\n",
      "Epoch 2/50:  63%|██████▎   | 297/469 [00:02<00:01, 110.24it/s, CosSim=0.387, Loss=1.3955]\u001b[A\n",
      "Epoch 2/50:  63%|██████▎   | 297/469 [00:02<00:01, 110.24it/s, CosSim=0.393, Loss=1.3769]\u001b[A\n",
      "Epoch 2/50:  63%|██████▎   | 297/469 [00:02<00:01, 110.24it/s, CosSim=0.373, Loss=1.3812]\u001b[A\n",
      "Epoch 2/50:  63%|██████▎   | 297/469 [00:02<00:01, 110.24it/s, CosSim=0.368, Loss=1.3587]\u001b[A\n",
      "Epoch 2/50:  63%|██████▎   | 297/469 [00:02<00:01, 110.24it/s, CosSim=0.363, Loss=1.4239]\u001b[A\n",
      "Epoch 2/50:  66%|██████▌   | 310/469 [00:02<00:01, 101.95it/s, CosSim=0.363, Loss=1.4239]\u001b[A\n",
      "Epoch 2/50:  66%|██████▌   | 310/469 [00:02<00:01, 101.95it/s, CosSim=0.392, Loss=1.4347]\u001b[A\n",
      "Epoch 2/50:  66%|██████▌   | 310/469 [00:02<00:01, 101.95it/s, CosSim=0.386, Loss=1.3965]\u001b[A\n",
      "Epoch 2/50:  66%|██████▌   | 310/469 [00:02<00:01, 101.95it/s, CosSim=0.401, Loss=1.3710]\u001b[A\n",
      "Epoch 2/50:  66%|██████▌   | 310/469 [00:02<00:01, 101.95it/s, CosSim=0.392, Loss=1.3896]\u001b[A\n",
      "Epoch 2/50:  66%|██████▌   | 310/469 [00:02<00:01, 101.95it/s, CosSim=0.358, Loss=1.4731]\u001b[A\n",
      "Epoch 2/50:  66%|██████▌   | 310/469 [00:02<00:01, 101.95it/s, CosSim=0.366, Loss=1.3561]\u001b[A\n",
      "Epoch 2/50:  66%|██████▌   | 310/469 [00:02<00:01, 101.95it/s, CosSim=0.393, Loss=1.4305]\u001b[A\n",
      "Epoch 2/50:  66%|██████▌   | 310/469 [00:02<00:01, 101.95it/s, CosSim=0.384, Loss=1.4549]\u001b[A\n",
      "Epoch 2/50:  66%|██████▌   | 310/469 [00:02<00:01, 101.95it/s, CosSim=0.383, Loss=1.4394]\u001b[A\n",
      "Epoch 2/50:  66%|██████▌   | 310/469 [00:02<00:01, 101.95it/s, CosSim=0.377, Loss=1.4229]\u001b[A\n",
      "Epoch 2/50:  66%|██████▌   | 310/469 [00:02<00:01, 101.95it/s, CosSim=0.378, Loss=1.4392]\u001b[A\n",
      "Epoch 2/50:  66%|██████▌   | 310/469 [00:02<00:01, 101.95it/s, CosSim=0.371, Loss=1.4185]\u001b[A\n",
      "Epoch 2/50:  66%|██████▌   | 310/469 [00:02<00:01, 101.95it/s, CosSim=0.383, Loss=1.4596]\u001b[A\n",
      "Epoch 2/50:  66%|██████▌   | 310/469 [00:02<00:01, 101.95it/s, CosSim=0.341, Loss=1.5002]\u001b[A\n",
      "Epoch 2/50:  66%|██████▌   | 310/469 [00:02<00:01, 101.95it/s, CosSim=0.378, Loss=1.4866]\u001b[A\n",
      "Epoch 2/50:  66%|██████▌   | 310/469 [00:02<00:01, 101.95it/s, CosSim=0.389, Loss=1.3808]\u001b[A\n",
      "Epoch 2/50:  66%|██████▌   | 310/469 [00:02<00:01, 101.95it/s, CosSim=0.379, Loss=1.4394]\u001b[A\n",
      "Epoch 2/50:  70%|██████▉   | 327/469 [00:02<00:01, 116.91it/s, CosSim=0.379, Loss=1.4394]\u001b[A\n",
      "Epoch 2/50:  70%|██████▉   | 327/469 [00:02<00:01, 116.91it/s, CosSim=0.380, Loss=1.3838]\u001b[A\n",
      "Epoch 2/50:  70%|██████▉   | 327/469 [00:02<00:01, 116.91it/s, CosSim=0.377, Loss=1.4924]\u001b[A\n",
      "Epoch 2/50:  70%|██████▉   | 327/469 [00:02<00:01, 116.91it/s, CosSim=0.379, Loss=1.4446]\u001b[A\n",
      "Epoch 2/50:  70%|██████▉   | 327/469 [00:02<00:01, 116.91it/s, CosSim=0.380, Loss=1.4470]\u001b[A\n",
      "Epoch 2/50:  70%|██████▉   | 327/469 [00:02<00:01, 116.91it/s, CosSim=0.390, Loss=1.3852]\u001b[A\n",
      "Epoch 2/50:  70%|██████▉   | 327/469 [00:02<00:01, 116.91it/s, CosSim=0.388, Loss=1.4286]\u001b[A\n",
      "Epoch 2/50:  70%|██████▉   | 327/469 [00:02<00:01, 116.91it/s, CosSim=0.382, Loss=1.4138]\u001b[A\n",
      "Epoch 2/50:  70%|██████▉   | 327/469 [00:02<00:01, 116.91it/s, CosSim=0.408, Loss=1.3811]\u001b[A\n",
      "Epoch 2/50:  70%|██████▉   | 327/469 [00:02<00:01, 116.91it/s, CosSim=0.385, Loss=1.4155]\u001b[A\n",
      "Epoch 2/50:  70%|██████▉   | 327/469 [00:02<00:01, 116.91it/s, CosSim=0.397, Loss=1.4177]\u001b[A\n",
      "Epoch 2/50:  70%|██████▉   | 327/469 [00:02<00:01, 116.91it/s, CosSim=0.387, Loss=1.4061]\u001b[A\n",
      "Epoch 2/50:  70%|██████▉   | 327/469 [00:02<00:01, 116.91it/s, CosSim=0.375, Loss=1.4140]\u001b[A\n",
      "Epoch 2/50:  70%|██████▉   | 327/469 [00:02<00:01, 116.91it/s, CosSim=0.374, Loss=1.4607]\u001b[A\n",
      "Epoch 2/50:  70%|██████▉   | 327/469 [00:02<00:01, 116.91it/s, CosSim=0.355, Loss=1.4605]\u001b[A\n",
      "Epoch 2/50:  70%|██████▉   | 327/469 [00:02<00:01, 116.91it/s, CosSim=0.385, Loss=1.4251]\u001b[A\n",
      "Epoch 2/50:  70%|██████▉   | 327/469 [00:02<00:01, 116.91it/s, CosSim=0.377, Loss=1.4276]\u001b[A\n",
      "Epoch 2/50:  73%|███████▎  | 343/469 [00:02<00:00, 126.07it/s, CosSim=0.377, Loss=1.4276]\u001b[A\n",
      "Epoch 2/50:  73%|███████▎  | 343/469 [00:02<00:00, 126.07it/s, CosSim=0.410, Loss=1.3245]\u001b[A\n",
      "Epoch 2/50:  73%|███████▎  | 343/469 [00:02<00:00, 126.07it/s, CosSim=0.397, Loss=1.4190]\u001b[A\n",
      "Epoch 2/50:  73%|███████▎  | 343/469 [00:02<00:00, 126.07it/s, CosSim=0.385, Loss=1.3921]\u001b[A\n",
      "Epoch 2/50:  73%|███████▎  | 343/469 [00:02<00:00, 126.07it/s, CosSim=0.381, Loss=1.4176]\u001b[A\n",
      "Epoch 2/50:  73%|███████▎  | 343/469 [00:02<00:00, 126.07it/s, CosSim=0.407, Loss=1.3647]\u001b[A\n",
      "Epoch 2/50:  73%|███████▎  | 343/469 [00:02<00:00, 126.07it/s, CosSim=0.373, Loss=1.4677]\u001b[A\n",
      "Epoch 2/50:  73%|███████▎  | 343/469 [00:02<00:00, 126.07it/s, CosSim=0.385, Loss=1.4188]\u001b[A\n",
      "Epoch 2/50:  73%|███████▎  | 343/469 [00:02<00:00, 126.07it/s, CosSim=0.382, Loss=1.4048]\u001b[A\n",
      "Epoch 2/50:  73%|███████▎  | 343/469 [00:02<00:00, 126.07it/s, CosSim=0.377, Loss=1.5039]\u001b[A\n",
      "Epoch 2/50:  73%|███████▎  | 343/469 [00:02<00:00, 126.07it/s, CosSim=0.384, Loss=1.4110]\u001b[A\n",
      "Epoch 2/50:  73%|███████▎  | 343/469 [00:02<00:00, 126.07it/s, CosSim=0.374, Loss=1.4222]\u001b[A\n",
      "Epoch 2/50:  73%|███████▎  | 343/469 [00:02<00:00, 126.07it/s, CosSim=0.362, Loss=1.4613]\u001b[A\n",
      "Epoch 2/50:  73%|███████▎  | 343/469 [00:02<00:00, 126.07it/s, CosSim=0.383, Loss=1.4276]\u001b[A\n",
      "Epoch 2/50:  73%|███████▎  | 343/469 [00:02<00:00, 126.07it/s, CosSim=0.383, Loss=1.4522]\u001b[A\n",
      "Epoch 2/50:  73%|███████▎  | 343/469 [00:02<00:00, 126.07it/s, CosSim=0.369, Loss=1.4229]\u001b[A\n",
      "Epoch 2/50:  73%|███████▎  | 343/469 [00:02<00:00, 126.07it/s, CosSim=0.380, Loss=1.3733]\u001b[A\n",
      "Epoch 2/50:  73%|███████▎  | 343/469 [00:02<00:00, 126.07it/s, CosSim=0.378, Loss=1.4268]\u001b[A\n",
      "Epoch 2/50:  77%|███████▋  | 360/469 [00:02<00:00, 136.68it/s, CosSim=0.378, Loss=1.4268]\u001b[A\n",
      "Epoch 2/50:  77%|███████▋  | 360/469 [00:02<00:00, 136.68it/s, CosSim=0.390, Loss=1.3942]\u001b[A\n",
      "Epoch 2/50:  77%|███████▋  | 360/469 [00:02<00:00, 136.68it/s, CosSim=0.394, Loss=1.3490]\u001b[A\n",
      "Epoch 2/50:  77%|███████▋  | 360/469 [00:02<00:00, 136.68it/s, CosSim=0.394, Loss=1.4017]\u001b[A\n",
      "Epoch 2/50:  77%|███████▋  | 360/469 [00:02<00:00, 136.68it/s, CosSim=0.383, Loss=1.3821]\u001b[A\n",
      "Epoch 2/50:  77%|███████▋  | 360/469 [00:02<00:00, 136.68it/s, CosSim=0.377, Loss=1.4206]\u001b[A\n",
      "Epoch 2/50:  77%|███████▋  | 360/469 [00:02<00:00, 136.68it/s, CosSim=0.391, Loss=1.4267]\u001b[A\n",
      "Epoch 2/50:  77%|███████▋  | 360/469 [00:02<00:00, 136.68it/s, CosSim=0.374, Loss=1.4451]\u001b[A\n",
      "Epoch 2/50:  77%|███████▋  | 360/469 [00:02<00:00, 136.68it/s, CosSim=0.382, Loss=1.3833]\u001b[A\n",
      "Epoch 2/50:  77%|███████▋  | 360/469 [00:02<00:00, 136.68it/s, CosSim=0.385, Loss=1.3901]\u001b[A\n",
      "Epoch 2/50:  77%|███████▋  | 360/469 [00:02<00:00, 136.68it/s, CosSim=0.377, Loss=1.4567]\u001b[A\n",
      "Epoch 2/50:  77%|███████▋  | 360/469 [00:02<00:00, 136.68it/s, CosSim=0.387, Loss=1.4324]\u001b[A\n",
      "Epoch 2/50:  77%|███████▋  | 360/469 [00:02<00:00, 136.68it/s, CosSim=0.380, Loss=1.3984]\u001b[A\n",
      "Epoch 2/50:  77%|███████▋  | 360/469 [00:02<00:00, 136.68it/s, CosSim=0.400, Loss=1.3554]\u001b[A\n",
      "Epoch 2/50:  77%|███████▋  | 360/469 [00:02<00:00, 136.68it/s, CosSim=0.386, Loss=1.4320]\u001b[A\n",
      "Epoch 2/50:  77%|███████▋  | 360/469 [00:02<00:00, 136.68it/s, CosSim=0.359, Loss=1.4887]\u001b[A\n",
      "Epoch 2/50:  80%|███████▉  | 375/469 [00:02<00:00, 136.36it/s, CosSim=0.359, Loss=1.4887]\u001b[A\n",
      "Epoch 2/50:  80%|███████▉  | 375/469 [00:02<00:00, 136.36it/s, CosSim=0.400, Loss=1.3590]\u001b[A\n",
      "Epoch 2/50:  80%|███████▉  | 375/469 [00:02<00:00, 136.36it/s, CosSim=0.397, Loss=1.4021]\u001b[A\n",
      "Epoch 2/50:  80%|███████▉  | 375/469 [00:02<00:00, 136.36it/s, CosSim=0.387, Loss=1.4388]\u001b[A\n",
      "Epoch 2/50:  80%|███████▉  | 375/469 [00:02<00:00, 136.36it/s, CosSim=0.385, Loss=1.4235]\u001b[A\n",
      "Epoch 2/50:  80%|███████▉  | 375/469 [00:02<00:00, 136.36it/s, CosSim=0.388, Loss=1.3975]\u001b[A\n",
      "Epoch 2/50:  80%|███████▉  | 375/469 [00:02<00:00, 136.36it/s, CosSim=0.375, Loss=1.4179]\u001b[A\n",
      "Epoch 2/50:  80%|███████▉  | 375/469 [00:02<00:00, 136.36it/s, CosSim=0.383, Loss=1.3772]\u001b[A\n",
      "Epoch 2/50:  80%|███████▉  | 375/469 [00:02<00:00, 136.36it/s, CosSim=0.401, Loss=1.4190]\u001b[A\n",
      "Epoch 2/50:  80%|███████▉  | 375/469 [00:02<00:00, 136.36it/s, CosSim=0.372, Loss=1.4565]\u001b[A\n",
      "Epoch 2/50:  80%|███████▉  | 375/469 [00:02<00:00, 136.36it/s, CosSim=0.383, Loss=1.4485]"
     ]
    }
   ],
   "source": [
    "flow_train(flow_49, train_dl_49, test_dl_49)"
   ]
  },
  {
   "cell_type": "markdown",
   "id": "546fd9f2097cee11",
   "metadata": {
    "jp-MarkdownHeadingCollapsed": true
   },
   "source": [
    "#### Old Play"
   ]
  },
  {
   "cell_type": "code",
   "execution_count": 4,
   "id": "3ae343321fbd1f76",
   "metadata": {},
   "outputs": [],
   "source": [
    "# dainty-sweep-158 (cjugxj69)\n",
    "dainty_sweep = dict(\n",
    "    latent_shape=(49,),\n",
    "    base_channels=32,\n",
    "    blocks_per_level=1,\n",
    "    groups=4,\n",
    "    dropout=0.294905,\n",
    "    act=nn.SiLU,\n",
    "\n",
    "    # batch_size=128,\n",
    "    # learning_rate=0.004303,\n",
    "    # weight_decay=0.000039,\n",
    "    # epochs=25,\n",
    "\n",
    "    # beta_final=0.105,\n",
    "    # warmup_epochs=5,\n",
    "    # ema=0.97,\n",
    ")\n",
    "\n",
    "# silver-sweep-152 (yd9u1vxj)\n",
    "silver_sweep = dict(\n",
    "    latent_shape=(49,),\n",
    "    base_channels=32,\n",
    "    blocks_per_level=2,\n",
    "    groups=1,\n",
    "    dropout=0.235134,\n",
    "    act=nn.SiLU,\n",
    "\n",
    "    # batch_size=128,\n",
    "    # learning_rate=0.000764,\n",
    "    # weight_decay=0.000085,\n",
    "    # epochs=25,\n",
    "\n",
    "    # beta_final=0.105,\n",
    "    # warmup_epochs=5,\n",
    "    # ema=0.97,\n",
    ")\n",
    "\n",
    "# stoic-sweep-74 (k8btel7f)\n",
    "stoic_sweep = dict(\n",
    "    latent_shape=(49,),\n",
    "    base_channels=32,\n",
    "    blocks_per_level=3,\n",
    "    groups=1,\n",
    "    dropout=0.218544,\n",
    "    act=nn.GELU,\n",
    "\n",
    "    # batch_size=128,\n",
    "    # learning_rate=0.000595,\n",
    "    # weight_decay=0.000041,\n",
    "    # epochs=25,\n",
    "\n",
    "    # beta_final=0.105,\n",
    "    # warmup_epochs=5,\n",
    "    # ema=0.97,\n",
    ")\n",
    "\n",
    "# earthy-sweep-151 (bzkr37oe)\n",
    "earthy_sweep = dict(\n",
    "    latent_shape=(49,),\n",
    "    base_channels=24,\n",
    "    blocks_per_level=1,\n",
    "    groups=4,\n",
    "    dropout=0.327277,\n",
    "    act=nn.GELU,\n",
    "\n",
    "    # batch_size=128,\n",
    "    # learning_rate=0.009207,\n",
    "    # weight_decay=0.000002,\n",
    "    # epochs=25,\n",
    "\n",
    "    # beta_final=0.105,\n",
    "    # warmup_epochs=5,\n",
    "    # ema=0.97,\n",
    ")\n",
    "\n",
    "# glowing-sweep-110 (zf81gxm4)\n",
    "glowing_sweep = dict(\n",
    "    latent_shape=(49,),\n",
    "    base_channels=16,\n",
    "    blocks_per_level=3,\n",
    "    groups=4,\n",
    "    dropout=0.432183,\n",
    "    act=nn.ReLU,\n",
    "\n",
    "    # batch_size=128,\n",
    "    # learning_rate=0.007816,\n",
    "    # weight_decay=0.000016,\n",
    "    # epochs=25,\n",
    "\n",
    "    # beta_final=0.105,\n",
    "    # warmup_epochs=5,\n",
    "    # ema=0.97,\n",
    ")"
   ]
  },
  {
   "cell_type": "code",
   "execution_count": 5,
   "id": "8ac8b6335503a015",
   "metadata": {},
   "outputs": [],
   "source": [
    "loaded_vaes = []\n",
    "configs_to_load = [dainty_sweep, silver_sweep, stoic_sweep, earthy_sweep, glowing_sweep]\n",
    "names = ['dainty-sweep','silver-sweep', 'stoic-sweep', 'earthy-sweep', 'glowing-sweep']\n",
    "\n",
    "for i, config in enumerate(configs_to_load):\n",
    "    loaded_vae = InspoResNetVAE(**configs_to_load[i]).to(device)\n",
    "    vae_path = f'/Users/marcocassar/Projects/DLAIE/self/dl_experimentation/models/safetensors/vae/6_trained/standalone_{names[i]}.safetensors'\n",
    "    loaded_vae.load_state_dict(load_file(vae_path))\n",
    "    loaded_vaes.append(loaded_vae)"
   ]
  },
  {
   "cell_type": "code",
   "execution_count": null,
   "id": "303d74f56ab2115c",
   "metadata": {},
   "outputs": [],
   "source": [
    "for i, vae_ in enumerate(loaded_vaes):\n",
    "    print(f\"Vae: {names[i]}\")\n",
    "    display(plot_latent_space(vae_, test_dl, use_3d=False, reducer='tsne'))\n",
    "\n",
    "# Encode each\n",
    "for i, vae_ in enumerate(loaded_vaes):\n",
    "    print(f\"Vae: {names[i]}\")\n",
    "    vae_.eval()\n",
    "    suffix = create_model_suffix(configs_to_load[i])\n",
    "    print(f\"Using suffix: {suffix}\")\n",
    "    encode_dataset(vae_, train_dl, test_dl, suffix=suffix)\n",
    "\n",
    "def load_and_train(vae_model, flow_model, suffix, flow_name=None, pretrained_flow_model=None, epochs=5):\n",
    "    latent_data_path = os.path.join('data', vae_model.encoder.__class__.__name__ + '_' + suffix + '/MNIST/')\n",
    "    latent_train_ds, latent_test_ds = load_encoded_dataset(latent_data_path)\n",
    "    latent_train_dl = DataLoader(latent_train_ds, batch_size=batch_size, shuffle=True)\n",
    "    latent_test_dl  = DataLoader(latent_test_ds, batch_size=batch_size, shuffle=False)\n",
    "\n",
    "    if not flow_name: flow_name = suffix\n",
    "\n",
    "    train_flow(flow_model, latent_train_dl, latent_test_dl, name=flow_name, pretrained_model=pretrained_flow_model, epochs=epochs, spatial=False)"
   ]
  },
  {
   "cell_type": "code",
   "execution_count": 41,
   "id": "b513e65674cee951",
   "metadata": {
    "scrolled": true
   },
   "outputs": [
    {
     "data": {
      "text/html": [],
      "text/plain": [
       "<IPython.core.display.HTML object>"
      ]
     },
     "metadata": {},
     "output_type": "display_data"
    },
    {
     "data": {
      "text/html": [
       "Tracking run with wandb version 0.22.2"
      ],
      "text/plain": [
       "<IPython.core.display.HTML object>"
      ]
     },
     "metadata": {},
     "output_type": "display_data"
    },
    {
     "data": {
      "text/html": [
       "Run data is saved locally in <code>/Users/marcocassar/Projects/DLAIE/self/dl_experimentation/wandb/run-20251012_115757-tgvurqrd</code>"
      ],
      "text/plain": [
       "<IPython.core.display.HTML object>"
      ]
     },
     "metadata": {},
     "output_type": "display_data"
    },
    {
     "data": {
      "text/html": [
       "Syncing run <strong><a href='https://wandb.ai/marcocassar-belmont-university/flow_experimentation/runs/tgvurqrd' target=\"_blank\">dainty-sweep</a></strong> to <a href='https://wandb.ai/marcocassar-belmont-university/flow_experimentation' target=\"_blank\">Weights & Biases</a> (<a href='https://wandb.me/developer-guide' target=\"_blank\">docs</a>)<br>"
      ],
      "text/plain": [
       "<IPython.core.display.HTML object>"
      ]
     },
     "metadata": {},
     "output_type": "display_data"
    },
    {
     "data": {
      "text/html": [
       " View project at <a href='https://wandb.ai/marcocassar-belmont-university/flow_experimentation' target=\"_blank\">https://wandb.ai/marcocassar-belmont-university/flow_experimentation</a>"
      ],
      "text/plain": [
       "<IPython.core.display.HTML object>"
      ]
     },
     "metadata": {},
     "output_type": "display_data"
    },
    {
     "data": {
      "text/html": [
       " View run at <a href='https://wandb.ai/marcocassar-belmont-university/flow_experimentation/runs/tgvurqrd' target=\"_blank\">https://wandb.ai/marcocassar-belmont-university/flow_experimentation/runs/tgvurqrd</a>"
      ],
      "text/plain": [
       "<IPython.core.display.HTML object>"
      ]
     },
     "metadata": {},
     "output_type": "display_data"
    },
    {
     "name": "stderr",
     "output_type": "stream",
     "text": [
      "                                                                                                                                                                       "
     ]
    },
    {
     "data": {
      "text/html": [],
      "text/plain": [
       "<IPython.core.display.HTML object>"
      ]
     },
     "metadata": {},
     "output_type": "display_data"
    },
    {
     "data": {
      "text/html": [
       "<br>    <style><br>        .wandb-row {<br>            display: flex;<br>            flex-direction: row;<br>            flex-wrap: wrap;<br>            justify-content: flex-start;<br>            width: 100%;<br>        }<br>        .wandb-col {<br>            display: flex;<br>            flex-direction: column;<br>            flex-basis: 100%;<br>            flex: 1;<br>            padding: 10px;<br>        }<br>    </style><br><div class=\"wandb-row\"><div class=\"wandb-col\"><h3>Run history:</h3><br/><table class=\"wandb\"><tr><td>cos_sim</td><td>▁▃▃▃▃▄▃▄▆▆▅▆▆▆▆▇▆▆▆█▇▇▇▇▇▇▇▇▇▇███▇█▇▇▇▇█</td></tr><tr><td>drift</td><td>▁▂▃▂▃▃▄▄▅▅▅▆▆▇▆▆▇▇▇▇▇▇▇▇▇▇▇▇▇███████████</td></tr><tr><td>step</td><td>▁▁▁▁▁▂▂▃▃▃▃▃▄▄▄▄▄▄▄▄▅▅▅▅▅▅▆▆▆▆▇▇▇▇▇▇████</td></tr><tr><td>train_loss</td><td>█▇▇█▆▅▄▄▄▄▃▃▃▃▂▃▃▁▃▃▂▂▂▂▃▃▄▃▂▃▂▂▂▂▂▁▄▃▂▂</td></tr></table><br/></div><div class=\"wandb-col\"><h3>Run summary:</h3><br/><table class=\"wandb\"><tr><td>cos_sim</td><td>0.58586</td></tr><tr><td>drift</td><td>5.12682</td></tr><tr><td>step</td><td>46900</td></tr><tr><td>train_loss</td><td>1.08055</td></tr></table><br/></div></div>"
      ],
      "text/plain": [
       "<IPython.core.display.HTML object>"
      ]
     },
     "metadata": {},
     "output_type": "display_data"
    },
    {
     "data": {
      "text/html": [
       " View run <strong style=\"color:#cdcd00\">dainty-sweep</strong> at: <a href='https://wandb.ai/marcocassar-belmont-university/flow_experimentation/runs/tgvurqrd' target=\"_blank\">https://wandb.ai/marcocassar-belmont-university/flow_experimentation/runs/tgvurqrd</a><br> View project at: <a href='https://wandb.ai/marcocassar-belmont-university/flow_experimentation' target=\"_blank\">https://wandb.ai/marcocassar-belmont-university/flow_experimentation</a><br>Synced 5 W&B file(s), 0 media file(s), 0 artifact file(s) and 0 other file(s)"
      ],
      "text/plain": [
       "<IPython.core.display.HTML object>"
      ]
     },
     "metadata": {},
     "output_type": "display_data"
    },
    {
     "data": {
      "text/html": [
       "Find logs at: <code>./wandb/run-20251012_115757-tgvurqrd/logs</code>"
      ],
      "text/plain": [
       "<IPython.core.display.HTML object>"
      ]
     },
     "metadata": {},
     "output_type": "display_data"
    },
    {
     "data": {
      "text/html": [],
      "text/plain": [
       "<IPython.core.display.HTML object>"
      ]
     },
     "metadata": {},
     "output_type": "display_data"
    },
    {
     "data": {
      "text/html": [
       "Tracking run with wandb version 0.22.2"
      ],
      "text/plain": [
       "<IPython.core.display.HTML object>"
      ]
     },
     "metadata": {},
     "output_type": "display_data"
    },
    {
     "data": {
      "text/html": [
       "Run data is saved locally in <code>/Users/marcocassar/Projects/DLAIE/self/dl_experimentation/wandb/run-20251012_120018-ia27bmxg</code>"
      ],
      "text/plain": [
       "<IPython.core.display.HTML object>"
      ]
     },
     "metadata": {},
     "output_type": "display_data"
    },
    {
     "data": {
      "text/html": [
       "Syncing run <strong><a href='https://wandb.ai/marcocassar-belmont-university/flow_experimentation/runs/ia27bmxg' target=\"_blank\">silver-sweep</a></strong> to <a href='https://wandb.ai/marcocassar-belmont-university/flow_experimentation' target=\"_blank\">Weights & Biases</a> (<a href='https://wandb.me/developer-guide' target=\"_blank\">docs</a>)<br>"
      ],
      "text/plain": [
       "<IPython.core.display.HTML object>"
      ]
     },
     "metadata": {},
     "output_type": "display_data"
    },
    {
     "data": {
      "text/html": [
       " View project at <a href='https://wandb.ai/marcocassar-belmont-university/flow_experimentation' target=\"_blank\">https://wandb.ai/marcocassar-belmont-university/flow_experimentation</a>"
      ],
      "text/plain": [
       "<IPython.core.display.HTML object>"
      ]
     },
     "metadata": {},
     "output_type": "display_data"
    },
    {
     "data": {
      "text/html": [
       " View run at <a href='https://wandb.ai/marcocassar-belmont-university/flow_experimentation/runs/ia27bmxg' target=\"_blank\">https://wandb.ai/marcocassar-belmont-university/flow_experimentation/runs/ia27bmxg</a>"
      ],
      "text/plain": [
       "<IPython.core.display.HTML object>"
      ]
     },
     "metadata": {},
     "output_type": "display_data"
    },
    {
     "name": "stderr",
     "output_type": "stream",
     "text": [
      "                                                                                                                                                                       "
     ]
    },
    {
     "data": {
      "text/html": [],
      "text/plain": [
       "<IPython.core.display.HTML object>"
      ]
     },
     "metadata": {},
     "output_type": "display_data"
    },
    {
     "data": {
      "text/html": [
       "<br>    <style><br>        .wandb-row {<br>            display: flex;<br>            flex-direction: row;<br>            flex-wrap: wrap;<br>            justify-content: flex-start;<br>            width: 100%;<br>        }<br>        .wandb-col {<br>            display: flex;<br>            flex-direction: column;<br>            flex-basis: 100%;<br>            flex: 1;<br>            padding: 10px;<br>        }<br>    </style><br><div class=\"wandb-row\"><div class=\"wandb-col\"><h3>Run history:</h3><br/><table class=\"wandb\"><tr><td>cos_sim</td><td>▁▃▃▄▄▅▅▅▆▅▆▅▅▅▆▆▆▆▆▆▆▆▇▅▆▇▆▇▇▆██▇▆▇▆▆█▆▇</td></tr><tr><td>drift</td><td>▁▂▃▄▄▄▅▆▆▆▆▆▆▆▆▆▇▆▇▇▇▇▇▇▇▇▇▇▇▇▇▇█▇▇██▇██</td></tr><tr><td>step</td><td>▁▁▁▁▁▂▂▂▂▂▃▃▃▃▃▃▄▄▄▄▄▅▅▅▆▆▆▆▆▆▆▆▆▇▇▇▇▇██</td></tr><tr><td>train_loss</td><td>█▇▇▅▆▆▅▅▃▄▄▆▆▃▄▃▃▃▃▃▄▂▁▃▃▂▃▃▂▃▃▂▂▃▂▂▁▄▂▁</td></tr></table><br/></div><div class=\"wandb-col\"><h3>Run summary:</h3><br/><table class=\"wandb\"><tr><td>cos_sim</td><td>0.59158</td></tr><tr><td>drift</td><td>5.27407</td></tr><tr><td>step</td><td>46900</td></tr><tr><td>train_loss</td><td>1.0518</td></tr></table><br/></div></div>"
      ],
      "text/plain": [
       "<IPython.core.display.HTML object>"
      ]
     },
     "metadata": {},
     "output_type": "display_data"
    },
    {
     "data": {
      "text/html": [
       " View run <strong style=\"color:#cdcd00\">silver-sweep</strong> at: <a href='https://wandb.ai/marcocassar-belmont-university/flow_experimentation/runs/ia27bmxg' target=\"_blank\">https://wandb.ai/marcocassar-belmont-university/flow_experimentation/runs/ia27bmxg</a><br> View project at: <a href='https://wandb.ai/marcocassar-belmont-university/flow_experimentation' target=\"_blank\">https://wandb.ai/marcocassar-belmont-university/flow_experimentation</a><br>Synced 5 W&B file(s), 0 media file(s), 0 artifact file(s) and 0 other file(s)"
      ],
      "text/plain": [
       "<IPython.core.display.HTML object>"
      ]
     },
     "metadata": {},
     "output_type": "display_data"
    },
    {
     "data": {
      "text/html": [
       "Find logs at: <code>./wandb/run-20251012_120018-ia27bmxg/logs</code>"
      ],
      "text/plain": [
       "<IPython.core.display.HTML object>"
      ]
     },
     "metadata": {},
     "output_type": "display_data"
    },
    {
     "data": {
      "text/html": [],
      "text/plain": [
       "<IPython.core.display.HTML object>"
      ]
     },
     "metadata": {},
     "output_type": "display_data"
    },
    {
     "data": {
      "text/html": [
       "Tracking run with wandb version 0.22.2"
      ],
      "text/plain": [
       "<IPython.core.display.HTML object>"
      ]
     },
     "metadata": {},
     "output_type": "display_data"
    },
    {
     "data": {
      "text/html": [
       "Run data is saved locally in <code>/Users/marcocassar/Projects/DLAIE/self/dl_experimentation/wandb/run-20251012_120237-wujukmvl</code>"
      ],
      "text/plain": [
       "<IPython.core.display.HTML object>"
      ]
     },
     "metadata": {},
     "output_type": "display_data"
    },
    {
     "data": {
      "text/html": [
       "Syncing run <strong><a href='https://wandb.ai/marcocassar-belmont-university/flow_experimentation/runs/wujukmvl' target=\"_blank\">stoic-sweep</a></strong> to <a href='https://wandb.ai/marcocassar-belmont-university/flow_experimentation' target=\"_blank\">Weights & Biases</a> (<a href='https://wandb.me/developer-guide' target=\"_blank\">docs</a>)<br>"
      ],
      "text/plain": [
       "<IPython.core.display.HTML object>"
      ]
     },
     "metadata": {},
     "output_type": "display_data"
    },
    {
     "data": {
      "text/html": [
       " View project at <a href='https://wandb.ai/marcocassar-belmont-university/flow_experimentation' target=\"_blank\">https://wandb.ai/marcocassar-belmont-university/flow_experimentation</a>"
      ],
      "text/plain": [
       "<IPython.core.display.HTML object>"
      ]
     },
     "metadata": {},
     "output_type": "display_data"
    },
    {
     "data": {
      "text/html": [
       " View run at <a href='https://wandb.ai/marcocassar-belmont-university/flow_experimentation/runs/wujukmvl' target=\"_blank\">https://wandb.ai/marcocassar-belmont-university/flow_experimentation/runs/wujukmvl</a>"
      ],
      "text/plain": [
       "<IPython.core.display.HTML object>"
      ]
     },
     "metadata": {},
     "output_type": "display_data"
    },
    {
     "name": "stderr",
     "output_type": "stream",
     "text": [
      "                                                                                                                                                                       "
     ]
    },
    {
     "data": {
      "text/html": [],
      "text/plain": [
       "<IPython.core.display.HTML object>"
      ]
     },
     "metadata": {},
     "output_type": "display_data"
    },
    {
     "data": {
      "text/html": [
       "<br>    <style><br>        .wandb-row {<br>            display: flex;<br>            flex-direction: row;<br>            flex-wrap: wrap;<br>            justify-content: flex-start;<br>            width: 100%;<br>        }<br>        .wandb-col {<br>            display: flex;<br>            flex-direction: column;<br>            flex-basis: 100%;<br>            flex: 1;<br>            padding: 10px;<br>        }<br>    </style><br><div class=\"wandb-row\"><div class=\"wandb-col\"><h3>Run history:</h3><br/><table class=\"wandb\"><tr><td>cos_sim</td><td>▁▂▂▄▃▄▄▃▆▆▅▆▅▅▅▅▆▆▆▅▇▆▆▆█▆▇▇▆▆█▆▆▇▅▆▇██▆</td></tr><tr><td>drift</td><td>▁▂▄▄▄▅▅▅▅▆▆▆▇▆▆▆▆▇▆▆▆▇▇▆▆▇▇▇▇▇██▇▇▇▇▇▇▇▇</td></tr><tr><td>step</td><td>▁▁▁▁▁▁▂▂▃▃▃▃▃▃▃▃▄▄▄▄▄▅▅▅▅▅▅▅▅▆▆▇▇▇▇▇▇▇██</td></tr><tr><td>train_loss</td><td>█▄▃▄▃▃▃▃▂▃▂▂▂▂▂▂▂▂▂▁▂▁▂▁▂▂▁▂▂▁▂▁▁▁▂▁▁▁▁▂</td></tr></table><br/></div><div class=\"wandb-col\"><h3>Run summary:</h3><br/><table class=\"wandb\"><tr><td>cos_sim</td><td>0.60802</td></tr><tr><td>drift</td><td>5.23447</td></tr><tr><td>step</td><td>46900</td></tr><tr><td>train_loss</td><td>0.98634</td></tr></table><br/></div></div>"
      ],
      "text/plain": [
       "<IPython.core.display.HTML object>"
      ]
     },
     "metadata": {},
     "output_type": "display_data"
    },
    {
     "data": {
      "text/html": [
       " View run <strong style=\"color:#cdcd00\">stoic-sweep</strong> at: <a href='https://wandb.ai/marcocassar-belmont-university/flow_experimentation/runs/wujukmvl' target=\"_blank\">https://wandb.ai/marcocassar-belmont-university/flow_experimentation/runs/wujukmvl</a><br> View project at: <a href='https://wandb.ai/marcocassar-belmont-university/flow_experimentation' target=\"_blank\">https://wandb.ai/marcocassar-belmont-university/flow_experimentation</a><br>Synced 5 W&B file(s), 0 media file(s), 0 artifact file(s) and 0 other file(s)"
      ],
      "text/plain": [
       "<IPython.core.display.HTML object>"
      ]
     },
     "metadata": {},
     "output_type": "display_data"
    },
    {
     "data": {
      "text/html": [
       "Find logs at: <code>./wandb/run-20251012_120237-wujukmvl/logs</code>"
      ],
      "text/plain": [
       "<IPython.core.display.HTML object>"
      ]
     },
     "metadata": {},
     "output_type": "display_data"
    },
    {
     "data": {
      "text/html": [],
      "text/plain": [
       "<IPython.core.display.HTML object>"
      ]
     },
     "metadata": {},
     "output_type": "display_data"
    },
    {
     "data": {
      "text/html": [
       "Tracking run with wandb version 0.22.2"
      ],
      "text/plain": [
       "<IPython.core.display.HTML object>"
      ]
     },
     "metadata": {},
     "output_type": "display_data"
    },
    {
     "data": {
      "text/html": [
       "Run data is saved locally in <code>/Users/marcocassar/Projects/DLAIE/self/dl_experimentation/wandb/run-20251012_120501-4fxwko0k</code>"
      ],
      "text/plain": [
       "<IPython.core.display.HTML object>"
      ]
     },
     "metadata": {},
     "output_type": "display_data"
    },
    {
     "data": {
      "text/html": [
       "Syncing run <strong><a href='https://wandb.ai/marcocassar-belmont-university/flow_experimentation/runs/4fxwko0k' target=\"_blank\">earthy-sweep</a></strong> to <a href='https://wandb.ai/marcocassar-belmont-university/flow_experimentation' target=\"_blank\">Weights & Biases</a> (<a href='https://wandb.me/developer-guide' target=\"_blank\">docs</a>)<br>"
      ],
      "text/plain": [
       "<IPython.core.display.HTML object>"
      ]
     },
     "metadata": {},
     "output_type": "display_data"
    },
    {
     "data": {
      "text/html": [
       " View project at <a href='https://wandb.ai/marcocassar-belmont-university/flow_experimentation' target=\"_blank\">https://wandb.ai/marcocassar-belmont-university/flow_experimentation</a>"
      ],
      "text/plain": [
       "<IPython.core.display.HTML object>"
      ]
     },
     "metadata": {},
     "output_type": "display_data"
    },
    {
     "data": {
      "text/html": [
       " View run at <a href='https://wandb.ai/marcocassar-belmont-university/flow_experimentation/runs/4fxwko0k' target=\"_blank\">https://wandb.ai/marcocassar-belmont-university/flow_experimentation/runs/4fxwko0k</a>"
      ],
      "text/plain": [
       "<IPython.core.display.HTML object>"
      ]
     },
     "metadata": {},
     "output_type": "display_data"
    },
    {
     "name": "stderr",
     "output_type": "stream",
     "text": [
      "                                                                                                                                                                       "
     ]
    },
    {
     "data": {
      "text/html": [],
      "text/plain": [
       "<IPython.core.display.HTML object>"
      ]
     },
     "metadata": {},
     "output_type": "display_data"
    },
    {
     "data": {
      "text/html": [
       "<br>    <style><br>        .wandb-row {<br>            display: flex;<br>            flex-direction: row;<br>            flex-wrap: wrap;<br>            justify-content: flex-start;<br>            width: 100%;<br>        }<br>        .wandb-col {<br>            display: flex;<br>            flex-direction: column;<br>            flex-basis: 100%;<br>            flex: 1;<br>            padding: 10px;<br>        }<br>    </style><br><div class=\"wandb-row\"><div class=\"wandb-col\"><h3>Run history:</h3><br/><table class=\"wandb\"><tr><td>cos_sim</td><td>▁▅▅▆▆▆▇▇▇▇▇▇▇▇▇▇▇▇▇▇▇▇▇▇█▇▇▇▇█▇█▇█████▇█</td></tr><tr><td>drift</td><td>▁▂▃▄▅▆▆▇▆▇▇▆▇▆▇▇▇▇▇▇███▇█▇█▇██▇▇▇█▇██▇██</td></tr><tr><td>step</td><td>▁▁▁▁▁▂▂▂▂▂▃▃▃▃▃▄▄▄▄▄▄▄▄▄▅▅▅▅▆▆▆▇▇▇▇▇████</td></tr><tr><td>train_loss</td><td>▇█▆▆▆▅▅▄▆▄▄▄▅▃▃▄▃▄▂▄▃▃▄▂▃▂▃▃▂▃▄▃▃▄▃▁▂▃▁▂</td></tr></table><br/></div><div class=\"wandb-col\"><h3>Run summary:</h3><br/><table class=\"wandb\"><tr><td>cos_sim</td><td>0.579</td></tr><tr><td>drift</td><td>5.19974</td></tr><tr><td>step</td><td>46900</td></tr><tr><td>train_loss</td><td>1.12348</td></tr></table><br/></div></div>"
      ],
      "text/plain": [
       "<IPython.core.display.HTML object>"
      ]
     },
     "metadata": {},
     "output_type": "display_data"
    },
    {
     "data": {
      "text/html": [
       " View run <strong style=\"color:#cdcd00\">earthy-sweep</strong> at: <a href='https://wandb.ai/marcocassar-belmont-university/flow_experimentation/runs/4fxwko0k' target=\"_blank\">https://wandb.ai/marcocassar-belmont-university/flow_experimentation/runs/4fxwko0k</a><br> View project at: <a href='https://wandb.ai/marcocassar-belmont-university/flow_experimentation' target=\"_blank\">https://wandb.ai/marcocassar-belmont-university/flow_experimentation</a><br>Synced 5 W&B file(s), 0 media file(s), 0 artifact file(s) and 0 other file(s)"
      ],
      "text/plain": [
       "<IPython.core.display.HTML object>"
      ]
     },
     "metadata": {},
     "output_type": "display_data"
    },
    {
     "data": {
      "text/html": [
       "Find logs at: <code>./wandb/run-20251012_120501-4fxwko0k/logs</code>"
      ],
      "text/plain": [
       "<IPython.core.display.HTML object>"
      ]
     },
     "metadata": {},
     "output_type": "display_data"
    },
    {
     "data": {
      "text/html": [],
      "text/plain": [
       "<IPython.core.display.HTML object>"
      ]
     },
     "metadata": {},
     "output_type": "display_data"
    },
    {
     "data": {
      "text/html": [
       "Tracking run with wandb version 0.22.2"
      ],
      "text/plain": [
       "<IPython.core.display.HTML object>"
      ]
     },
     "metadata": {},
     "output_type": "display_data"
    },
    {
     "data": {
      "text/html": [
       "Run data is saved locally in <code>/Users/marcocassar/Projects/DLAIE/self/dl_experimentation/wandb/run-20251012_120723-ryx28vd5</code>"
      ],
      "text/plain": [
       "<IPython.core.display.HTML object>"
      ]
     },
     "metadata": {},
     "output_type": "display_data"
    },
    {
     "data": {
      "text/html": [
       "Syncing run <strong><a href='https://wandb.ai/marcocassar-belmont-university/flow_experimentation/runs/ryx28vd5' target=\"_blank\">glowing-sweep</a></strong> to <a href='https://wandb.ai/marcocassar-belmont-university/flow_experimentation' target=\"_blank\">Weights & Biases</a> (<a href='https://wandb.me/developer-guide' target=\"_blank\">docs</a>)<br>"
      ],
      "text/plain": [
       "<IPython.core.display.HTML object>"
      ]
     },
     "metadata": {},
     "output_type": "display_data"
    },
    {
     "data": {
      "text/html": [
       " View project at <a href='https://wandb.ai/marcocassar-belmont-university/flow_experimentation' target=\"_blank\">https://wandb.ai/marcocassar-belmont-university/flow_experimentation</a>"
      ],
      "text/plain": [
       "<IPython.core.display.HTML object>"
      ]
     },
     "metadata": {},
     "output_type": "display_data"
    },
    {
     "data": {
      "text/html": [
       " View run at <a href='https://wandb.ai/marcocassar-belmont-university/flow_experimentation/runs/ryx28vd5' target=\"_blank\">https://wandb.ai/marcocassar-belmont-university/flow_experimentation/runs/ryx28vd5</a>"
      ],
      "text/plain": [
       "<IPython.core.display.HTML object>"
      ]
     },
     "metadata": {},
     "output_type": "display_data"
    },
    {
     "name": "stderr",
     "output_type": "stream",
     "text": [
      "                                                                                                                                                                       "
     ]
    }
   ],
   "source": [
    "flow_models = []\n",
    "for i, vae_ in enumerate(loaded_vaes):\n",
    "    suffix = create_model_suffix(configs_to_load[i])\n",
    "    name = names[i]\n",
    "    flow_models.append(FlatVelocityNet(vae_.latent_dim).to(device))\n",
    "    load_and_train(vae_, flow_models[i], suffix, flow_name=name, epochs=100)"
   ]
  },
  {
   "cell_type": "code",
   "execution_count": 42,
   "id": "77f04cf914b7e5b2",
   "metadata": {},
   "outputs": [
    {
     "name": "stdout",
     "output_type": "stream",
     "text": [
      "Saving to: models/safetensors/flow/FlatVelocityNet_dainty-sweep.safetensors\n",
      "Saving to: models/safetensors/flow/FlatVelocityNet_silver-sweep.safetensors\n",
      "Saving to: models/safetensors/flow/FlatVelocityNet_stoic-sweep.safetensors\n",
      "Saving to: models/safetensors/flow/FlatVelocityNet_earthy-sweep.safetensors\n",
      "Saving to: models/safetensors/flow/FlatVelocityNet_glowing-sweep.safetensors\n"
     ]
    }
   ],
   "source": [
    "for i, flow_ in enumerate(flow_models):\n",
    "    flow_name = names[i]\n",
    "    flow_save_name =  f'{flow_.__class__.__name__}_{flow_name}'\n",
    "    flow_path = os.path.join(model_save_path, f'flow/{flow_save_name}.safetensors')\n",
    "    if os.path.exists(flow_path):\n",
    "        print(f\"Path: {flow_path} \\n already exists! Breaking!\")\n",
    "        break\n",
    "        # flow_path = flow_path.split('.safetensors')[0] + str(wandb.run.id) + '.safetensors'\n",
    "    print(f\"Saving to: {flow_path}\")\n",
    "    save_file(flow_.state_dict(), flow_path)"
   ]
  }
 ],
 "metadata": {
  "kernelspec": {
   "display_name": "Python 3 (ipykernel)",
   "language": "python",
   "name": "python3"
  },
  "language_info": {
   "codemirror_mode": {
    "name": "ipython",
    "version": 3
   },
   "file_extension": ".py",
   "mimetype": "text/x-python",
   "name": "python",
   "nbconvert_exporter": "python",
   "pygments_lexer": "ipython3",
   "version": "3.13.7"
  }
 },
 "nbformat": 4,
 "nbformat_minor": 5
}
