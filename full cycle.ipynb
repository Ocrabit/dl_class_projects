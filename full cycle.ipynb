{
 "cells": [
  {
   "cell_type": "code",
   "execution_count": 1,
   "id": "1ee462f7003a232b",
   "metadata": {
    "ExecuteTime": {
     "end_time": "2025-10-10T15:54:48.420328Z",
     "start_time": "2025-10-10T15:25:03.582799Z"
    }
   },
   "outputs": [],
   "source": [
    "import os.path\n",
    "\n",
    "import torch\n",
    "import wandb\n",
    "import torchvision\n",
    "from torchvision.transforms import ToTensor, RandomAffine, RandomErasing\n",
    "from torch import nn, optim, utils\n",
    "from torch.utils.data import DataLoader\n",
    "from torch.nn.utils import clip_grad_norm_\n",
    "from torchvision.datasets import MNIST\n",
    "import torch.nn.functional as F\n",
    "from tqdm import tqdm\n",
    "from safetensors.torch import save_file, load_file\n",
    "\n",
    "\n",
    "# Customs\n",
    "from helpers import load_encoded_dataset, encode_dataset\n",
    "from helpers import rk4_step, integrate_path, warp_time, BasicModel\n",
    "from helpers import plot_latent_space, comparative_generate_samples, plot_generated\n",
    "\n",
    "from models import ResNetVAE, log_example_images, InspoResNetVAE\n",
    "from models import SimpleFlowModel, FlatVelocityNet, ConvFlowNet"
   ]
  },
  {
   "cell_type": "code",
   "execution_count": 2,
   "id": "538eef30a1284b44",
   "metadata": {
    "ExecuteTime": {
     "end_time": "2025-10-10T15:26:08.565330Z",
     "start_time": "2025-10-10T15:26:08.563162Z"
    }
   },
   "outputs": [
    {
     "name": "stderr",
     "output_type": "stream",
     "text": [
      "\u001B[34m\u001B[1mwandb\u001B[0m: Currently logged in as: \u001B[33mmarcocassar\u001B[0m (\u001B[33mmarcocassar-belmont-university\u001B[0m) to \u001B[32mhttps://api.wandb.ai\u001B[0m. Use \u001B[1m`wandb login --relogin`\u001B[0m to force relogin\n"
     ]
    }
   ],
   "source": [
    "device = torch.device('cuda' if torch.cuda.is_available() else 'mps' if torch.backends.mps.is_available() else 'cpu')\n",
    "\n",
    "model_save_path = 'models/safetensors/'\n",
    "\n",
    "wandb.login()\n",
    "wandb.finish()"
   ]
  },
  {
   "cell_type": "code",
   "execution_count": 3,
   "id": "7b5ecd97e0199247",
   "metadata": {
    "ExecuteTime": {
     "end_time": "2025-10-10T15:21:21.502144Z",
     "start_time": "2025-10-10T15:21:21.489779Z"
    }
   },
   "outputs": [
    {
     "name": "stdout",
     "output_type": "stream",
     "text": [
      "Data set lengths: train: 60000, test: 10000\n"
     ]
    }
   ],
   "source": [
    "train_transforms = torchvision.transforms.Compose([\n",
    "    ToTensor(),\n",
    "    # uncomment next lines for extra augmentations\n",
    "    #RandomAffine(degrees=15, translate=(0.1, 0.1)),\n",
    "    #RandomErasing(p=0.2, scale=(0.02, 0.1))\n",
    "])\n",
    "train_ds = MNIST(root='./data', train=True,  download=True, transform=train_transforms)\n",
    "test_ds  = MNIST(root='./data', train=False, download=True, transform=ToTensor())\n",
    "print(f\"Data set lengths: train: {len(train_ds)}, test: {len(test_ds)}\")\n",
    "\n",
    "batch_size = 128\n",
    "train_dl = DataLoader(train_ds, batch_size=batch_size, num_workers=2, shuffle=True, persistent_workers=True)\n",
    "test_dl = DataLoader(test_ds, batch_size=batch_size, num_workers=2, shuffle=False, persistent_workers=True)"
   ]
  },
  {
   "cell_type": "markdown",
   "id": "5cc2dfa4996952b",
   "metadata": {},
   "source": [
    "### VAE"
   ]
  },
  {
   "cell_type": "code",
   "execution_count": 29,
   "id": "5bd3586ab63181b5",
   "metadata": {
    "ExecuteTime": {
     "end_time": "2025-10-10T15:29:10.235989Z",
     "start_time": "2025-10-10T15:29:10.231214Z"
    }
   },
   "outputs": [],
   "source": [
    "project = \"vae_conv_testing\"\n",
    "recon_criterion = F.binary_cross_entropy_with_logits\n",
    "\n",
    "def train_vae(\n",
    "    model, train_loader, val_loader, name=None,\n",
    "    epochs=20, lr=2e-3, weight_decay=5e-5,\n",
    "    beta_final=0.005, warmup_epochs=10, grad_clip=5.0, ema=0.97, spatial=False\n",
    "):\n",
    "    device = next(model.parameters()).device\n",
    "\n",
    "    # ---- W&B ----\n",
    "    wandb.finish()\n",
    "    wandb.init(project=project, name=name, reinit='finish_previous')\n",
    "    wandb.config.update({\n",
    "        \"epochs\": epochs,\n",
    "        \"batch_size\": batch_size,\n",
    "        \"learning_rate\": lr,\n",
    "        \"model\": model.__class__.__name__,\n",
    "        \"optimizer\": \"Adam\",\n",
    "        \"device\": str(device),\n",
    "    })\n",
    "\n",
    "    optimizer = optim.Adam(model.parameters(), lr=lr, weight_decay=weight_decay)\n",
    "    global_step = 0\n",
    "    train_loss_avg = None\n",
    "\n",
    "    for epoch in range(epochs):\n",
    "        model.train()\n",
    "\n",
    "        beta = beta_final * min((epoch + 1) / warmup_epochs, 1.0)\n",
    "\n",
    "        pbar = tqdm(train_loader, desc=f\"Epoch {epoch+1}/{epochs}\")\n",
    "        for batch_idx, (data, _) in enumerate(pbar):\n",
    "            data = data.to(device)\n",
    "            optimizer.zero_grad()\n",
    "\n",
    "            z, x_hat, mu, log_var, z_hat = model(data)\n",
    "\n",
    "            recon_loss = recon_criterion(x_hat, data, reduction=\"sum\") / data.size(0)\n",
    "            \n",
    "            kl = -0.5 * (1 + log_var - mu.pow(2) - log_var.exp())\n",
    "            kl = kl.view(kl.size(0), -1).sum(dim=1).mean()\n",
    "            \n",
    "            loss = recon_loss + beta * kl\n",
    "\n",
    "            # loss, recon_loss, kl = vae_loss(data, x_hat, mu, log_var, beta)\n",
    "\n",
    "            loss.backward()\n",
    "            # if grad_clip is not None:\n",
    "            #     clip_grad_norm_(model.parameters(), grad_clip)\n",
    "            optimizer.step()\n",
    "\n",
    "            train_loss_avg = loss.item() if train_loss_avg is None else ema * train_loss_avg + (1 - ema) * loss.item()\n",
    "\n",
    "            wandb.log({\n",
    "                \"step\": global_step,\n",
    "                \"train_loss_ema\": train_loss_avg,\n",
    "                \"train_loss\": loss.item(),\n",
    "                \"recon_loss\": recon_loss.item(),\n",
    "                \"kl_loss\": kl.item(),\n",
    "                \"beta\": beta,\n",
    "                \"beta*kl\": (beta * kl).item(),\n",
    "            })\n",
    "            global_step += 1\n",
    "            pbar.set_postfix(Loss=f\"{train_loss_avg:.4f}\", Recon=f\"{recon_loss.item():.4f}\", KLw=f\"{(beta*kl).item():.5f}\")\n",
    "\n",
    "        # ---- validation ----\n",
    "        model.eval()\n",
    "        val_loss = val_recon = val_kl = 0.0\n",
    "        mu_stats = []\n",
    "\n",
    "        with torch.no_grad():\n",
    "            for data, _ in val_loader:\n",
    "                data = data.to(device)\n",
    "                z, x_hat, mu, log_var, z_hat = model(data)\n",
    "\n",
    "                recon = recon_criterion(x_hat, data)\n",
    "                kl = -0.5 * torch.mean(1 + log_var - mu.pow(2) - log_var.exp())\n",
    "                loss = recon + beta * kl\n",
    "\n",
    "                val_loss += loss.item(); val_recon += recon.item(); val_kl += kl.item()\n",
    "                mu_stats.append(mu)\n",
    "\n",
    "        n = len(val_loader)\n",
    "        val_loss /= n; val_recon /= n; val_kl /= n\n",
    "\n",
    "        mu_all = torch.cat(mu_stats, dim=0)\n",
    "        mu_mean = mu_all.mean().item(); mu_std = mu_all.std().item()\n",
    "\n",
    "        wandb.log({\n",
    "            \"epoch\": epoch + 1,\n",
    "            \"val_loss\": val_loss,\n",
    "            \"val_recon_loss\": val_recon,\n",
    "            \"val_kl_loss\": val_kl,\n",
    "            \"mu_mean\": mu_mean,\n",
    "            \"mu_std\": mu_std,\n",
    "        })\n",
    "        # print(f\"Epoch {epoch+1:02d} | beta {beta:.3f} | val {val_loss:.4f} | recon {val_recon:.4f} | KL {val_kl:.4f} | μ_mean {mu_mean:.3f} μ_std {mu_std:.3f}\")\n",
    "\n",
    "        # visualize with sigmoid at eval-time only\n",
    "        log_example_images(model, val_loader.dataset, epoch + 1, spatial=spatial, n=5)\n",
    "\n",
    "    wandb.finish()\n",
    "    return val_loss"
   ]
  },
  {
   "cell_type": "code",
   "execution_count": 25,
   "id": "e7a735ba08de6ec9",
   "metadata": {
    "ExecuteTime": {
     "end_time": "2025-10-10T15:29:10.947727Z",
     "start_time": "2025-10-10T15:29:10.935650Z"
    }
   },
   "outputs": [],
   "source": [
    "specifications = {\n",
    "    \"base_channels\": 16, \n",
    "    \"blocks_per_level\": 2, \n",
    "    \"groups\": 1\n",
    "}\n",
    "vae = InspoResNetVAE(latent_dim=13, **specifications).to(device)\n",
    "# latent_dim=3, act=nn.GELU, use_skips=True, use_bn=True, base_channels=32, blocks_per_level=3, groups=1, dropout=0.4"
   ]
  },
  {
   "cell_type": "code",
   "execution_count": 74,
   "id": "e51d3622-21bd-4184-9094-18615f5da024",
   "metadata": {},
   "outputs": [
    {
     "ename": "AttributeError",
     "evalue": "'function' object has no attribute 'name'",
     "output_type": "error",
     "traceback": [
      "\u001B[31m---------------------------------------------------------------------------\u001B[39m",
      "\u001B[31mAttributeError\u001B[39m                            Traceback (most recent call last)",
      "\u001B[36mCell\u001B[39m\u001B[36m \u001B[39m\u001B[32mIn[74]\u001B[39m\u001B[32m, line 1\u001B[39m\n\u001B[32m----> \u001B[39m\u001B[32m1\u001B[39m \u001B[43mwandb\u001B[49m\u001B[43m.\u001B[49m\u001B[43msweep\u001B[49m\u001B[43m.\u001B[49m\u001B[43mname\u001B[49m\n",
      "\u001B[31mAttributeError\u001B[39m: 'function' object has no attribute 'name'"
     ]
    }
   ],
   "source": []
  },
  {
   "cell_type": "code",
   "execution_count": 27,
   "id": "e5336126-9fb2-497c-8acc-7c8e0867138d",
   "metadata": {},
   "outputs": [
    {
     "name": "stdout",
     "output_type": "stream",
     "text": [
      "Total parameters: 439,899\n",
      "Trainable parameters: 439,899\n"
     ]
    }
   ],
   "source": [
    "total_params = sum(p.numel() for p in vae.parameters())\n",
    "trainable_params = sum(p.numel() for p in vae.parameters() if p.requires_grad)\n",
    "print(f\"Total parameters: {total_params:,}\")\n",
    "print(f\"Trainable parameters: {trainable_params:,}\")"
   ]
  },
  {
   "cell_type": "code",
   "execution_count": 28,
   "id": "e9bb5a39acd45894",
   "metadata": {
    "ExecuteTime": {
     "end_time": "2025-10-10T15:54:48.412408Z",
     "start_time": "2025-10-10T15:29:12.178764Z"
    }
   },
   "outputs": [
    {
     "data": {
      "text/html": [],
      "text/plain": [
       "<IPython.core.display.HTML object>"
      ]
     },
     "metadata": {},
     "output_type": "display_data"
    },
    {
     "data": {
      "text/html": [
       "Tracking run with wandb version 0.22.1"
      ],
      "text/plain": [
       "<IPython.core.display.HTML object>"
      ]
     },
     "metadata": {},
     "output_type": "display_data"
    },
    {
     "data": {
      "text/html": [
       "Run data is saved locally in <code>/Users/marcocassar/Projects/DLAIE/self/flow_experimentation/wandb/run-20251010_184738-i7hvbgid</code>"
      ],
      "text/plain": [
       "<IPython.core.display.HTML object>"
      ]
     },
     "metadata": {},
     "output_type": "display_data"
    },
    {
     "data": {
      "text/html": [
       "Syncing run <strong><a href='https://wandb.ai/marcocassar-belmont-university/vae_conv_testing/runs/i7hvbgid' target=\"_blank\">vae_test_l13_base_16_block_2</a></strong> to <a href='https://wandb.ai/marcocassar-belmont-university/vae_conv_testing' target=\"_blank\">Weights & Biases</a> (<a href='https://wandb.me/developer-guide' target=\"_blank\">docs</a>)<br>"
      ],
      "text/plain": [
       "<IPython.core.display.HTML object>"
      ]
     },
     "metadata": {},
     "output_type": "display_data"
    },
    {
     "data": {
      "text/html": [
       " View project at <a href='https://wandb.ai/marcocassar-belmont-university/vae_conv_testing' target=\"_blank\">https://wandb.ai/marcocassar-belmont-university/vae_conv_testing</a>"
      ],
      "text/plain": [
       "<IPython.core.display.HTML object>"
      ]
     },
     "metadata": {},
     "output_type": "display_data"
    },
    {
     "data": {
      "text/html": [
       " View run at <a href='https://wandb.ai/marcocassar-belmont-university/vae_conv_testing/runs/i7hvbgid' target=\"_blank\">https://wandb.ai/marcocassar-belmont-university/vae_conv_testing/runs/i7hvbgid</a>"
      ],
      "text/plain": [
       "<IPython.core.display.HTML object>"
      ]
     },
     "metadata": {},
     "output_type": "display_data"
    },
    {
     "name": "stderr",
     "output_type": "stream",
     "text": [
      "Epoch 1/20: 100%|██████████████████████████████████████████████████████████████████████████████████████████████████████████████████| 469/469 [00:12<00:00, 37.48it/s, KLw=5.44539, Loss=116.9236, Recon=108.9607]\n"
     ]
    },
    {
     "name": "stdout",
     "output_type": "stream",
     "text": [
      "Epoch 01 | beta 0.200 | val 0.5429 | recon 0.1315 | KL 2.0568 | μ_mean 0.009 μ_std 0.963\n"
     ]
    },
    {
     "name": "stderr",
     "output_type": "stream",
     "text": [
      "Epoch 2/20: 100%|███████████████████████████████████████████████████████████████████████████████████████████████████████████████████| 469/469 [00:10<00:00, 44.81it/s, KLw=9.79559, Loss=106.5275, Recon=97.9514]\n"
     ]
    },
    {
     "name": "stdout",
     "output_type": "stream",
     "text": [
      "Epoch 02 | beta 0.400 | val 0.8736 | recon 0.1177 | KL 1.8897 | μ_mean 0.070 μ_std 0.984\n"
     ]
    },
    {
     "name": "stderr",
     "output_type": "stream",
     "text": [
      "Epoch 3/20: 100%|██████████████████████████████████████████████████████████████████████████████████████████████████████████████████| 469/469 [00:10<00:00, 45.50it/s, KLw=13.57133, Loss=106.0327, Recon=95.5519]\n"
     ]
    },
    {
     "name": "stdout",
     "output_type": "stream",
     "text": [
      "Epoch 03 | beta 0.600 | val 1.1313 | recon 0.1113 | KL 1.6999 | μ_mean 0.075 μ_std 0.971\n"
     ]
    },
    {
     "name": "stderr",
     "output_type": "stream",
     "text": [
      "Epoch 4/20: 100%|██████████████████████████████████████████████████████████████████████████████████████████████████████████████████| 469/469 [00:10<00:00, 44.85it/s, KLw=16.65706, Loss=108.3612, Recon=90.8125]\n"
     ]
    },
    {
     "name": "stdout",
     "output_type": "stream",
     "text": [
      "Epoch 04 | beta 0.800 | val 1.3945 | recon 0.1101 | KL 1.6055 | μ_mean 0.026 μ_std 0.977\n"
     ]
    },
    {
     "name": "stderr",
     "output_type": "stream",
     "text": [
      "Epoch 5/20: 100%|██████████████████████████████████████████████████████████████████████████████████████████████████████████████████| 469/469 [00:10<00:00, 45.15it/s, KLw=19.11637, Loss=109.6420, Recon=89.8283]\n"
     ]
    },
    {
     "name": "stdout",
     "output_type": "stream",
     "text": [
      "Epoch 05 | beta 1.000 | val 1.5754 | recon 0.1080 | KL 1.4674 | μ_mean 0.028 μ_std 0.954\n"
     ]
    },
    {
     "name": "stderr",
     "output_type": "stream",
     "text": [
      "Epoch 6/20: 100%|██████████████████████████████████████████████████████████████████████████████████████████████████████████████████| 469/469 [00:10<00:00, 45.48it/s, KLw=19.41297, Loss=109.7993, Recon=89.7370]\n"
     ]
    },
    {
     "name": "stdout",
     "output_type": "stream",
     "text": [
      "Epoch 06 | beta 1.000 | val 1.6048 | recon 0.1103 | KL 1.4945 | μ_mean 0.060 μ_std 0.965\n"
     ]
    },
    {
     "name": "stderr",
     "output_type": "stream",
     "text": [
      "Epoch 7/20: 100%|█████████████████████████████████████████████████████████████████████████████████████████████████████████████████| 469/469 [00:10<00:00, 46.05it/s, KLw=18.83092, Loss=109.2517, Recon=101.4777]\n"
     ]
    },
    {
     "name": "stdout",
     "output_type": "stream",
     "text": [
      "Epoch 07 | beta 1.000 | val 1.5527 | recon 0.1086 | KL 1.4441 | μ_mean 0.062 μ_std 0.956\n"
     ]
    },
    {
     "name": "stderr",
     "output_type": "stream",
     "text": [
      "Epoch 8/20: 100%|██████████████████████████████████████████████████████████████████████████████████████████████████████████████████| 469/469 [00:10<00:00, 45.92it/s, KLw=19.03676, Loss=106.3567, Recon=83.9062]\n"
     ]
    },
    {
     "name": "stdout",
     "output_type": "stream",
     "text": [
      "Epoch 08 | beta 1.000 | val 1.6047 | recon 0.1050 | KL 1.4997 | μ_mean 0.072 μ_std 0.955\n"
     ]
    },
    {
     "name": "stderr",
     "output_type": "stream",
     "text": [
      "Epoch 9/20: 100%|██████████████████████████████████████████████████████████████████████████████████████████████████████████████████| 469/469 [00:10<00:00, 45.38it/s, KLw=19.50803, Loss=106.1072, Recon=84.4654]\n"
     ]
    },
    {
     "name": "stdout",
     "output_type": "stream",
     "text": [
      "Epoch 09 | beta 1.000 | val 1.5973 | recon 0.1026 | KL 1.4947 | μ_mean 0.056 μ_std 0.942\n"
     ]
    },
    {
     "name": "stderr",
     "output_type": "stream",
     "text": [
      "Epoch 10/20: 100%|█████████████████████████████████████████████████████████████████████████████████████████████████████████████████| 469/469 [00:10<00:00, 46.04it/s, KLw=19.21808, Loss=105.0795, Recon=83.6706]\n"
     ]
    },
    {
     "name": "stdout",
     "output_type": "stream",
     "text": [
      "Epoch 10 | beta 1.000 | val 1.5726 | recon 0.1035 | KL 1.4691 | μ_mean 0.016 μ_std 0.931\n"
     ]
    },
    {
     "name": "stderr",
     "output_type": "stream",
     "text": [
      "Epoch 11/20: 100%|█████████████████████████████████████████████████████████████████████████████████████████████████████████████████| 469/469 [00:10<00:00, 44.60it/s, KLw=19.76348, Loss=104.3175, Recon=82.0055]\n"
     ]
    },
    {
     "name": "stdout",
     "output_type": "stream",
     "text": [
      "Epoch 11 | beta 1.000 | val 1.6110 | recon 0.1017 | KL 1.5093 | μ_mean 0.048 μ_std 0.937\n"
     ]
    },
    {
     "name": "stderr",
     "output_type": "stream",
     "text": [
      "Epoch 12/20: 100%|█████████████████████████████████████████████████████████████████████████████████████████████████████████████████| 469/469 [00:10<00:00, 44.65it/s, KLw=20.07477, Loss=104.4900, Recon=84.7824]\n"
     ]
    },
    {
     "name": "stdout",
     "output_type": "stream",
     "text": [
      "Epoch 12 | beta 1.000 | val 1.6049 | recon 0.1040 | KL 1.5009 | μ_mean 0.050 μ_std 0.935\n"
     ]
    },
    {
     "name": "stderr",
     "output_type": "stream",
     "text": [
      "Epoch 13/20: 100%|█████████████████████████████████████████████████████████████████████████████████████████████████████████████████| 469/469 [00:10<00:00, 44.98it/s, KLw=19.84205, Loss=104.2154, Recon=83.5435]\n"
     ]
    },
    {
     "name": "stdout",
     "output_type": "stream",
     "text": [
      "Epoch 13 | beta 1.000 | val 1.6137 | recon 0.1046 | KL 1.5091 | μ_mean 0.055 μ_std 0.957\n"
     ]
    },
    {
     "name": "stderr",
     "output_type": "stream",
     "text": [
      "Epoch 14/20: 100%|█████████████████████████████████████████████████████████████████████████████████████████████████████████████████| 469/469 [00:10<00:00, 46.30it/s, KLw=19.45408, Loss=103.2643, Recon=81.8969]\n"
     ]
    },
    {
     "name": "stdout",
     "output_type": "stream",
     "text": [
      "Epoch 14 | beta 1.000 | val 1.5938 | recon 0.1019 | KL 1.4919 | μ_mean 0.017 μ_std 0.927\n"
     ]
    },
    {
     "name": "stderr",
     "output_type": "stream",
     "text": [
      "Epoch 15/20: 100%|█████████████████████████████████████████████████████████████████████████████████████████████████████████████████| 469/469 [00:10<00:00, 45.49it/s, KLw=19.23122, Loss=102.4357, Recon=80.6137]\n"
     ]
    },
    {
     "name": "stdout",
     "output_type": "stream",
     "text": [
      "Epoch 15 | beta 1.000 | val 1.6036 | recon 0.1005 | KL 1.5031 | μ_mean 0.042 μ_std 0.935\n"
     ]
    },
    {
     "name": "stderr",
     "output_type": "stream",
     "text": [
      "Epoch 16/20: 100%|█████████████████████████████████████████████████████████████████████████████████████████████████████████████████| 469/469 [00:10<00:00, 45.20it/s, KLw=20.41448, Loss=102.1048, Recon=88.4168]\n"
     ]
    },
    {
     "name": "stdout",
     "output_type": "stream",
     "text": [
      "Epoch 16 | beta 1.000 | val 1.6151 | recon 0.0993 | KL 1.5158 | μ_mean 0.051 μ_std 0.942\n"
     ]
    },
    {
     "name": "stderr",
     "output_type": "stream",
     "text": [
      "Epoch 17/20: 100%|█████████████████████████████████████████████████████████████████████████████████████████████████████████████████| 469/469 [00:11<00:00, 42.01it/s, KLw=19.97803, Loss=100.9263, Recon=77.9758]\n"
     ]
    },
    {
     "name": "stdout",
     "output_type": "stream",
     "text": [
      "Epoch 17 | beta 1.000 | val 1.6286 | recon 0.0998 | KL 1.5288 | μ_mean 0.048 μ_std 0.940\n"
     ]
    },
    {
     "name": "stderr",
     "output_type": "stream",
     "text": [
      "Epoch 18/20: 100%|█████████████████████████████████████████████████████████████████████████████████████████████████████████████████| 469/469 [00:10<00:00, 43.81it/s, KLw=20.60246, Loss=100.9268, Recon=81.2446]\n"
     ]
    },
    {
     "name": "stdout",
     "output_type": "stream",
     "text": [
      "Epoch 18 | beta 1.000 | val 1.6508 | recon 0.0987 | KL 1.5520 | μ_mean 0.039 μ_std 0.945\n"
     ]
    },
    {
     "name": "stderr",
     "output_type": "stream",
     "text": [
      "Epoch 19/20: 100%|█████████████████████████████████████████████████████████████████████████████████████████████████████████████████| 469/469 [00:12<00:00, 37.31it/s, KLw=20.90116, Loss=101.3603, Recon=82.2595]\n"
     ]
    },
    {
     "name": "stdout",
     "output_type": "stream",
     "text": [
      "Epoch 19 | beta 1.000 | val 1.6466 | recon 0.0974 | KL 1.5492 | μ_mean 0.043 μ_std 0.946\n"
     ]
    },
    {
     "name": "stderr",
     "output_type": "stream",
     "text": [
      "Epoch 20/20: 100%|█████████████████████████████████████████████████████████████████████████████████████████████████████████████████| 469/469 [00:13<00:00, 34.12it/s, KLw=20.53725, Loss=100.6253, Recon=77.9656]\n"
     ]
    },
    {
     "name": "stdout",
     "output_type": "stream",
     "text": [
      "Epoch 20 | beta 1.000 | val 1.6417 | recon 0.0984 | KL 1.5434 | μ_mean 0.025 μ_std 0.940\n"
     ]
    },
    {
     "data": {
      "text/html": [],
      "text/plain": [
       "<IPython.core.display.HTML object>"
      ]
     },
     "metadata": {},
     "output_type": "display_data"
    },
    {
     "data": {
      "text/html": [
       "<br>    <style><br>        .wandb-row {<br>            display: flex;<br>            flex-direction: row;<br>            flex-wrap: wrap;<br>            justify-content: flex-start;<br>            width: 100%;<br>        }<br>        .wandb-col {<br>            display: flex;<br>            flex-direction: column;<br>            flex-basis: 100%;<br>            flex: 1;<br>            padding: 10px;<br>        }<br>    </style><br><div class=\"wandb-row\"><div class=\"wandb-col\"><h3>Run history:</h3><br/><table class=\"wandb\"><tr><td>beta</td><td>▁▁▁▃▅▅▆▆████████████████████████████████</td></tr><tr><td>beta*kl</td><td>▁▄▄▄▄▇▇▇▇▇████▇█████████████████████████</td></tr><tr><td>epoch</td><td>▁▁▁▁▂▂▂▂▂▂▃▃▃▃▄▄▄▄▄▄▅▅▅▅▅▅▆▆▆▆▇▇▇▇▇▇████</td></tr><tr><td>kl_loss</td><td>▁▅██▆▅▅▅▅▅▄▅▅▅▅▅▅▅▅▅▅▅▅▅▅▅▅▅▅▅▅▅▅▅▅▅▅▅▅▅</td></tr><tr><td>mu_mean</td><td>▁▇█▃▃▆▇█▆▂▅▅▆▂▄▅▅▄▅▃</td></tr><tr><td>mu_std</td><td>▅█▆▇▄▆▅▄▃▂▂▂▅▁▂▃▃▃▃▃</td></tr><tr><td>recon_loss</td><td>█▅▃▄▃▃▂▃▂▂▂▂▂▂▂▂▂▂▂▂▂▁▂▁▁▂▂▂▂▁▁▁▁▂▁▁▁▁▂▁</td></tr><tr><td>step</td><td>▁▁▁▁▁▂▂▃▃▃▃▃▃▃▃▃▄▄▄▄▄▄▅▅▅▅▅▅▅▅▆▆▆▆▆▆▇▇▇█</td></tr><tr><td>train_loss</td><td>█▃▄▂▃▃▄▄▃▃▂▂▃▂▂▂▂▁▂▂▂▂▂▁▂▂▂▁▃▂▂▁▂▁▁▁▂▁▂▁</td></tr><tr><td>train_loss_ema</td><td>█▇▅▃▅▃▅▅▅▅▅▄▅▅▄▄▄▄▄▄▄▃▄▃▃▃▃▃▂▂▂▂▂▂▁▁▁▁▁▁</td></tr><tr><td>+3</td><td>...</td></tr></table><br/></div><div class=\"wandb-col\"><h3>Run summary:</h3><br/><table class=\"wandb\"><tr><td>beta</td><td>1</td></tr><tr><td>beta*kl</td><td>20.53725</td></tr><tr><td>epoch</td><td>20</td></tr><tr><td>kl_loss</td><td>20.53725</td></tr><tr><td>mu_mean</td><td>0.02533</td></tr><tr><td>mu_std</td><td>0.93969</td></tr><tr><td>recon_loss</td><td>77.96563</td></tr><tr><td>step</td><td>9379</td></tr><tr><td>train_loss</td><td>98.50288</td></tr><tr><td>train_loss_ema</td><td>100.62531</td></tr><tr><td>+3</td><td>...</td></tr></table><br/></div></div>"
      ],
      "text/plain": [
       "<IPython.core.display.HTML object>"
      ]
     },
     "metadata": {},
     "output_type": "display_data"
    },
    {
     "data": {
      "text/html": [
       " View run <strong style=\"color:#cdcd00\">vae_test_l13_base_16_block_2</strong> at: <a href='https://wandb.ai/marcocassar-belmont-university/vae_conv_testing/runs/i7hvbgid' target=\"_blank\">https://wandb.ai/marcocassar-belmont-university/vae_conv_testing/runs/i7hvbgid</a><br> View project at: <a href='https://wandb.ai/marcocassar-belmont-university/vae_conv_testing' target=\"_blank\">https://wandb.ai/marcocassar-belmont-university/vae_conv_testing</a><br>Synced 5 W&B file(s), 20 media file(s), 0 artifact file(s) and 0 other file(s)"
      ],
      "text/plain": [
       "<IPython.core.display.HTML object>"
      ]
     },
     "metadata": {},
     "output_type": "display_data"
    },
    {
     "data": {
      "text/html": [
       "Find logs at: <code>./wandb/run-20251010_184738-i7hvbgid/logs</code>"
      ],
      "text/plain": [
       "<IPython.core.display.HTML object>"
      ]
     },
     "metadata": {},
     "output_type": "display_data"
    },
    {
     "data": {
      "text/plain": [
       "1.6417367926126794"
      ]
     },
     "execution_count": 28,
     "metadata": {},
     "output_type": "execute_result"
    }
   ],
   "source": [
    "suffix = 'l13_base_16_block_2'\n",
    "run_name = f\"vae_test_{suffix}\"\n",
    "train_vae(vae, train_dl, test_dl, name=run_name, epochs=20, warmup_epochs=5, beta_final=1, spatial=False)"
   ]
  },
  {
   "cell_type": "code",
   "execution_count": 31,
   "id": "60e472d7a0183bbb",
   "metadata": {},
   "outputs": [
    {
     "data": {
      "application/vnd.plotly.v1+json": {
       "config": {
        "plotlyServerURL": "https://plot.ly"
       },
       "data": [
        {
         "hovertemplate": "color=7<br>x=%{x}<br>y=%{y}<extra></extra>",
         "legendgroup": "7",
         "marker": {
          "color": "#636efa",
          "line": {
           "width": 0
          },
          "opacity": 0.7,
          "size": 4,
          "symbol": "circle"
         },
         "mode": "markers",
         "name": "7",
         "showlegend": true,
         "type": "scattergl",
         "x": {
          "bdata": "tsmwwTDisMFvvwjCzMmMwR3Zg8GUPdPBrSG9wZ3NIcG6WLPBD+RrwU0pusHg8PjBVRv3wdN4ncHIoFrBQzOawdtZYsGSDrPBcSWTwfP8TsEYKOXBSEdNwb3mXMHHysfBC3YHwoaUxMGBLO7BIqLNwdECLcGvyffBs3XEwZHQBMKvDPvB0XDlwXvnVsEMUUzBXIF4wVsj88FyoQLChUjOwSSyysFN2gTCg7bdwV5Xw8EHO93BhPfzwfoANsH0NcPBneCqwUlNScHC5jjBc4qqwaNIqkB87aPB1kf0waLphMEWosjBX/tKwcbHLcHyponBWiiywR2B9sEsJ/LB6l0TwjW94cGzIsXB+8+dwdo6wsGCKRvBlYvkwd68f8GYvD/Bh7IBwrxHhcH/TpDBglz0wUSSusEPZQbCHb6BwY7Ws8HT+/PBiJ9RwcbmQMGWiMHBNsjGwQkWAsJSq4/B4Lr8wbz6dsEmMUbBcsYKwrjPj8GqofzBVEUdweScw8FFgfnBD98+wYR3asGKu4/BEAXgweM0UcHpz5XB+x6mwLdnKMIGsdzBC6ZBwU86V8FvzLzBb2LKwbAd+8HMbYjBVhopwRZHrsEDfbzBhlTXweM8ysG8fVXBHaGPwRXwA8LkEeDBr/tbwaPB5MFM7a3BUsdFwSNuT8F2Cu7B/LSnv+NHrME2/+nBnnVJwowmVsFEYCnBmGPVwfVAQ8FfNNPBPl3ewWRxC8JIbIXBtITAwakLm8GfqWzBCmmqwd3nssGKsLbBKdTmwUeBdsEXjYbBQY8CwjA0t8FF1sPBQ7dOQWbOyMF3/NrBvASWwUi35cE9ogrCcPSrwWQA38FgpMjBJRHbwUXW4cExD9PBG35JwcAwjcGDA77BesMIwlqoysFchr3BXPICwrAkx8F+1svBLkf/wcvP3MEVxszBOgIgwVIM9sFYHr3BUTuLwfKeNMHQ8jTBR+KVwbqIacHVTrLBsi0LwvGAtcE3MD7B7hjZwUgtCMIbO7jBeXnlwSsQp8GyK4/BMTXowYIxC8LC1wLCsQ4rwRON0sESQebB+wc7wWW20cFl5iPBNwjNwdYF/8FjNrPB4EYFwg==",
          "dtype": "f4"
         },
         "xaxis": "x",
         "y": {
          "bdata": "HO/7Qc3p70GIefNBPAgCQnL4rUFwEdpBzMDuQVTxvEFrReRBRlOdQWFnt0HUobhBiNe8QYOs6UEWcqZBv1sHQtILc0E0PAhCbIOYQZCwVkHtFg9Cwe+0QXXD2kEOmhpCCarHQfrO3EF4XgBCLYAPQq2EjkHQrQBCI3gHQsVc/EFKzOpBNZUFQqtdaEHWxJhByjahQYRU8kEKRAlCG90GQrZKE0Ijr/hBXJcBQuLAxEGg5sRBUD31QR91vkEegflBSLfxQX1R00EqoX9BXho3QaB040F7W6pBvQHRQVOm0kHMTwFCeae/QXSGnUFWT/pB3k/TQcnZBEJyBtBBOF3TQVWL90FTfBlCdyT1QRvnCEJkCQ3C74mwQS1Z3EFH5opBJNjuQbOuIEK23/RAVDLfQU9zCULOVsZBIEusQXm33UE/99dB7nCWQUHieUHa8BRCsrLUQTjlAkJW0P1B0KbiQWAD3UEl96JB6AICQt3PC0L9ufdBadOZQX0I6EF5ZAZCKgfTQV4CkkHzkHpB0SnRQaFbkEG/vbRBH+vcwV1sWMHnTMpBoZaZQTMk9r1+ab9BpjESQvT7+0HWngBCAMXDQVPtD0KynKRBPCf7Qa+5B0JbHqhB8Kx7QXdRLUHcxgtC36wNQJiS6kEYn85B82u1QUez2UFZ2/5BkGYDwrAhtkHCRN5ByWOSQSpzZ0FErKxBLf/oQV8o5UEflBPBZ1fjQW2Z2EEAtNFBS88OQlXBBUJlMXNB1T//QWw+7UFj37NBAUPBQXqhckFKX5jBpmvFQQTT1kEIKrdBpBcCQvCkDEIyJANCalS0QR1WmsD3ffFBCumVQdQaDkL0NbhBdVjyQS2atUHBt/1ByOfDQWeTC0Lr4BFC6CXjQMtB50FcNhtCxQ2RQWxp/kHW/htClKvrQUJD5EHEOx9CeJiMQeksM0ERoKJBXaIJQhnVkkHttqRBWngCQgR0J0EAUQ9CXkfeQZH9/kEnmItBPevrQZcd8EEu3glCoy4BQvBavEGi+/ZBuoAQQhlcw0ENH9pBmxljQUl5CkLqKu5BaZKiQcHs7kFWehlB+6TSQanm90Eh5sxBJvfnQQ==",
          "dtype": "f4"
         },
         "yaxis": "y"
        },
        {
         "hovertemplate": "color=2<br>x=%{x}<br>y=%{y}<extra></extra>",
         "legendgroup": "2",
         "marker": {
          "color": "#EF553B",
          "line": {
           "width": 0
          },
          "opacity": 0.7,
          "size": 4,
          "symbol": "circle"
         },
         "mode": "markers",
         "name": "2",
         "showlegend": true,
         "type": "scattergl",
         "x": {
          "bdata": "9oESQUore0Dsh3FAjaFuQfdCCkBCb4RAvSeGwILki0A/yttAWtLyQCIiYkDrfX3B0q73QBcbiD9bZAxB67ciQa9EwEDPHyFB4bJ+QUgypT8Y1gHAcoUAQL048kAkJJhAwCbFQCKtB8BWaWpA+kbtQCr6Jb0feAFBZ9ftwCvn/UB85gXAit+CQFppTEHd88M++yEoQUNbwz9QEaRA9zCKQLM1HkF2b2PA3lONQcgwFUGq991Awn8rQGIu20BHEYNAxGO0v02Z2T+nvpNA2QWzQNuQrb76f7M/rHK9QEiU8D90vXRA51QDwS72PUEnBI/AUygqQSPaJ0C9atFABBstwQoCir+SiAPBZLGPP+hZ4j9OEzxBa46YQJ+Wj0Dmr65AeP5sQCrSbEEBg5PAPN+awGdHsD/KScC/IgP5vJ95BEBxihlAjhwywDoU7kCT9PdAoAYjQTd3KEGqA/c/M2euvzDGsECETsY/WXweQdCjr0CtWdFAR25IQS1Ol0Ct+Ze+v7GvQMj1REErnN9AbjuJQEctQECzgs49iKO0v6dUEEG8tzZArHznP+wuEEG9jN5AcFDev3Mmw74ks0lBOuwLQELc2EDGZ0G/0CV+wOEf80AKzKRAFHGfQEys+sDcEha+iNeMQLe2N0HSaiNBOohOwHf4976lY7C/wIqev0aOzkB/WIbA4SuWQLJZBEHrNwO/9wDFQFXo7UB5w0Q/QsrxP264V0ESCzfAw0nOQEUnP0BCKzxBB2mjQJFXBcBuZ0S/98IkQaZyJD8IG1hA048oQS0Nl8CSWPjAsuRswNg6sEABO2dBH0KYwOfE1sBnBD6/s0ojQZjWsEDMBfJAVLs6Qc6wK78dQ0dAotVxwG8FPr9UvYVAtJTSv6JwBUGi6AVBIThvQCt528CpLCRBD5Pjv4ijh0DNYvI/PvhwQLE1SEDPhyNB3FQrQK/G/z/KFfC+pysDQRJyPEHfSytB2IYXP8DopEDBsQvByVZXQCQchkCm4KtBSGK8v4FFl0ABsInAm0vEQMH+4cC1EaW/I3vnv+g8ScG7O7M+PN0tO/7fJUGaXpNAv6lFvywsOL+mjFlAZ43Lv1ejPUExLYc/felNP9CQwcAQ8hzA56mRQByJPkHkH2O/wOyvvV4BvT7tWhhBecGFwCHJoUFbuV0+",
          "dtype": "f4"
         },
         "xaxis": "x",
         "y": {
          "bdata": "Jpqnwbk8KcIJyq7BJh6rwfAUE8Lv0CTCuB/ZwQxR/MFCDBPCrbsewTBU/sFMqqDAVR2gwSZxGsICPpLBZcCCwUOQ/cG0XfbBaDvnwcN7kMFi2wjCpn8Xwnc038EMMXTBBeuXwRxXFMLtO/PBDn1jwRVnB8IY7arBmC4TwshjfcFnDuPBNu6YwYVz/sGcsk7Bg/KuwYiYm8FJTjLC0SCnwfPelcGEaeDB9ZMywnigCsKTLwvC6UKvwbzdBcLDYifCSO8JwuENN8E0G8jBsCC8wcOkvMFBYCjCSE+CweZmAMK825nBsygTwmf/FsJdU6TBmt0KwrqXWcHSlRLC/ciyQfuuhsFmNhLChJxQwZ8ZXMHKXxvCOE8PwvZy9sGeZIjBgVPBwZCrqsH6iqXBbBm6wMtAKML6TrHBeQmFwV2F/cEYQojB/v6RwXjfGcLDugDC1auKwbMnCcKSaQbCnL9swT5N7cF1TpzB45QhwjJbtcHSwAbCr1wIwhNossGFmRPCcu0BwsxbBsKP2P7BiEiRwTBs7cGZdQHCjQ3HwdPvCcLx/aTBg2Owwb+EHMEfSBfB9M9cwan0rcG1//3BzewPwvKDssH7wLxBBf4awvCsbMGe4XDBJKUFwtBDycFJ+onB7/gNwil7HsKcAQDCdiaYwRDSzcFSq2jBPlazwRcRBsLUSQXC6lMawsLzocEBB6fBconwwd5dtsHrZhfCnJIIwvHcqMEcHdXB6paqwcFzDMIMMJ3BLgEywhB0DcK7yxnCIVf4wYBlyMFLZrjBnFClwaIjFsJmAsjBh2EbwmgahcF6AAPCvQpwwZREDsIAXcbBpckgwmxUs8F6wHnBcTjnwZUNwsHqsgXCN4CMwWDdvEEaH8jB9fGOwffCm8FhfJPBqOUNwrE0EMJJ8CDCHeviwYOm9sF5LYfBrbDawdjaGcL0HebBuDvnwVhPKMLk5A7C5TtpwdSlEMLcJojBGdcWwq3woMHG5Q7CrrbDwY3jwcHIcwjCtSoVwtSJGsJ2gtbBC+SWwYXuwcEBGI/ByUKBwRylPMHLBw/Cex8gwiRm+cGoZJLBN7GDwdRSl8EEBJDBQtjuwYKVgsG1IQXCOfsBwvRgF8Irq4XBlLVwwa66FsI2ANbBJ6z8wZiL2sFtng7C0WAFwtNYI8L0ognC",
          "dtype": "f4"
         },
         "yaxis": "y"
        },
        {
         "hovertemplate": "color=1<br>x=%{x}<br>y=%{y}<extra></extra>",
         "legendgroup": "1",
         "marker": {
          "color": "#00cc96",
          "line": {
           "width": 0
          },
          "opacity": 0.7,
          "size": 4,
          "symbol": "circle"
         },
         "mode": "markers",
         "name": "1",
         "showlegend": true,
         "type": "scattergl",
         "x": {
          "bdata": "f1+OwmHxicLcXGbCoydSwkbxb8L8vlXCtahvwnidUMJZ9V/CT8yNws7pWMKrYIDC2qxdwo1pbcLdzIPCMmdwwmKKd8J6Hl/CONJSwuz8i8J+RmTCe+RSwtFGhMIm+InC7th3wrX6gMIZ0V7CXzNqwgi2iMLSuIPCGpWMwpdJkcJ1N2XC8S+FwlY+YcKhyHDC5b2AwtUNgsKRoWXCH0SJwiS/eMK0TmrC27p+wo03gcIC8obCWuuEwg9ldcL6THrCRNd/ws4gY8KebInCCC2Qwm4UV8IE2oTCn6GGwtssaMJL+FXC+QR/wtpdf8IjfYfCQRd/wguDgsI/doHCHnVOwp+mYMIz6YvCqx2Nwqq+jsI19mrCZy5qwgE5ecIJvWfCjs1mwjOqg8LcpVfCHXliwjOta8KRaHfCwzN7wkjlhsJB9nrCNeuJwrzfi8JOOYLCTuRawl35RMKyaYrCoudnwn/tgsInl1PC2duLwkqYe8LyUmLC4kJ7wg6Ji8JNz1XCJcF+wl9IdMJYdFbCYyhPwlTocMIxPlnCt6d8wpl3hcI45Y3CR09iwmpcesL9I4bC4iFlwt6mhcKkgMJBayWRwkr9gsJUJY7CxguOwqXdhsJGxWrCKPTxQYoxkcK3j5HCK1Bdwn8keMLbk1rCz+CCwiBuTcJs6lnCvbxUwudRZsIxQ2rCs7yKwp4JaMLkqlrC0LNbwhFQXcLDs0zCm0JVwi9wbMJNuobCvqB+wjX9gcJrwH/CN/R4wq8zhsIww3zCC7dUwgS+b8KqaEvCvaGHwujeecKYpIPC0PGEwghVdcJnJIjCCx6FwuPvesLrcH7Cmo+OwoMvjcIRPY3CEr5owoT4g8Ic0GHCKOKBwnXQW8LdSXbCg/GFwuc7ecLUXojCqBeIwgveTcJu74/CBfJ3wra+jcL6iXPCAIJiwiRVdsLQwIrC76VSwtr3hMII93bCkfrxQXyTYsLojUzCpe1ewoHwgMLFLWDCTiJbwlUKZsIYxGfCA3uGwk02gsLSOIzCj050wtc8csIi4lfClV5Zwss1j8I9mnbCtzxXwsWmicIBrXXCMPWBwpvOfsIeHXbCTnCJwl3ngsJJlVjCL8BbwgvxbcJ22YfC+CiNwqNTi8LGKXvCvUVUwpcai8KrQWPCj/mIwmdOWcJuO4fC3DI+wXpqh8IJMXbCopmMwrpHi8I4goPCRDp2wrPDiMKiKlnCUoZjwiFQe8JgN3XCcHlwwgaGh8IZ6HLC",
          "dtype": "f4"
         },
         "xaxis": "x",
         "y": {
          "bdata": "9W60QQBIlkFiqalBVXaPQZ87CEHt3INB+rGhQVz6vEHboixBri2bQRkWlEHToNtBsmdMQcegBEG4vchBkmGXQVtZ30GkXchBEsqWQStyTUFMNX5BSNC5Qd7pcUHa53dBmuYDQY9/7UH1QBdBgA+cQSOozUF3sCpBTza1QSXLukGTLtZBJ+FMQXE0j0HP/4xB22KCQWi+QEFIdLlBkOM3QTQwsUEpq2pB1C2PQdySg0ECXV1Bsuh5QT35oEH7OoJBjNK3QfgHLkGqWuFBjHt1QbcR1UFy26BBd1ynQdFm4kG0ZNhBIBtiQUt9mkEkEzpBX4QyQbnftkE2NdxBUWamQdA6rkG4J8dBZAeuQRl+c0G22N5BLcnrQZHfl0EXmMJBrmMYQfjo0UFkfzZBc6Y7QXMYHUGH4FxB9g2VQbYhsUFCGlVB0CFKQXytjkExExZBiFNhQWs3skGE7K5B0KpwQX646UGqC8JBujKmQW5DKUGbtttBEm+aQUGkY0FQjllBKRw/QW5XrEF4hF5BbzqzQa82bkH0HsRB7myeQXf4iEEHjqpBLx7QQUsw6EHed89BIei0QZYDYEF/DPFBvNmzQTfLLEGSNYdBK+yXQVZaPUFFz3dBZ8n/QS6ykEFJzbdBa2vAQdt53UHTMXVBShI0QYrZnUGiLERBy5t3QZAih0G/KplBnwPVQZUU00GbNddB+9vRQQMSr0HxnqpB2AS1QVRtsEE04J1BSuwVQTTIrEFbsd9BovS6QRPhMUEooNRBj1GhQbYIiEGly65BOBdrQcZpfEElhexB7TSEQWtewEEYFkVBM9tyQaJ/0UHDJkhBKsW/QdTxpUEeD7FBbB4tQUCBzkFj1MJB3afrQfxhrUFZ/S5B8PBqQd66y0H1caZBGFknQY9frkF2MGhBdthHQQHL20EXRqpBIWF3QeliYEE6jI1BTJyJQRr7qkFuRolB68f/QQlGoEGGvJJBNRfTQYGYtkG+M2dBazK9Qeeyv0G53btBUXXaQXytq0HGh5FBCXJoQVVsKEF6ZJJBSl02QUeakkFMYQ1Bn+GsQTLCQEHRH+RBLg0yQQ5VIkFzE4VBidHVQUqPwUFzf79Btz06QQ85sEFaJ9pB7rxhQRUPrUFh2YZBGfOnQfuIkkEtFehBJ6qFQatmZEFBF4lBpVUDwZdPiEGErLtBp4XaQZbRoEECIfxBb8vzQf+cskF3LYJBWm6LQeqw3kG+5y5BNZ9JQdpb6kFtXElB",
          "dtype": "f4"
         },
         "yaxis": "y"
        },
        {
         "hovertemplate": "color=0<br>x=%{x}<br>y=%{y}<extra></extra>",
         "legendgroup": "0",
         "marker": {
          "color": "#ab63fa",
          "line": {
           "width": 0
          },
          "opacity": 0.7,
          "size": 4,
          "symbol": "circle"
         },
         "mode": "markers",
         "name": "0",
         "showlegend": true,
         "type": "scattergl",
         "x": {
          "bdata": "58naQTb28EEmGghCmQ6sQX6ZDUJ6+gdCR2i5QW4j0kHb/AhCDzbVQbDg80EP8ABCXGv4QaqT/EGzsRRCVScLQqNXC0LTk7hB25reQYhIx0Fk/b1BV2YMQuTyxEEC0rxB8drwQbUesUEoDt1BdaQdQlfA2EGpif5BcYsEQuxiDkJyCO9BrcMXQutz8EG+i7VBpADxQdXNBUKaivZBONTDQa+6qEECLOZBHFzxQUQUBkK5kOpBBF2mQWLqvkH7HARCnmYFQoT+HkI+0gtCi/nLQWzcn0HThQRCh/PZQd4EDUJ8r6FBOCTrQTp/FULL4O9Bc6HGQXm0C0KLnw5CMJKdQZSu3UHWz7BB/I4TQlaA8UEcKsdBxK/1QS17vkF2R/BBN9wOQmQIBEJqrPpBGeHSQfe0+EEbyRZC1mftQSqQ3EGQ6QRCKIASQojm5UGys/1BSc/GQW8n9kEIBw1C2HsGQodltEGJOh5CIG67QZJO6UHkLedBzm3fQaQZ3UGIicZB4GMBQowOn0HmcwVCUVfpQYQluUG0xAxCleP4QZixzUEJ4MNBKfMbQi567EFM0+VBsXXgQQGaxkEqpexBtYf3QZd5yEEAkw9CxxLXQUm7GkJfsvxBtjyfQbSWDUJ1uuxBNAm+QTJm8UGP4gdCypq4QUyJxEH9+OVBN67xQWIi7UHDVaxBSlq9QdWFvUFMWOdB2enhQaLm30G9gO1B9pHQQWo4BkI1n7lBxTgCQmUBAkI0LAxCgS3IQZGL60HRSfxBmowUQkV31UF0dANCQfgQQtiY10H2CNJBBOfiQcdUoMBHG7RB2jjvQe2o2UGeKBBCc0r7QWZZ+kG2awVCBiHsQWJhzkE/caJBT5cDQpr6tkEskLNBEjEWQp4q20G8Ph1CzIMMQplhukEAt7dB9nXCQZSHxEFbFbRB9hsGQg==",
          "dtype": "f4"
         },
         "xaxis": "x",
         "y": {
          "bdata": "Vsb7wdw+IsI8JhbCiy8awofHAsJYmgXCDQA+wqkuH8J0EBjCEG8/whf0EcIEjQnCr6wIwqJJP8LYLRTCqR4iwhOhDsKSXwTCfEExwsSOQMLzaA7Cit8JwonRMcLBkT/CDvQ3wmdQGMLDzg/CjB8wwtofGcLnM/rBMV0HwkWoOML+4TfCuSoswnxpI8KU9hrCGpQKwmlsCsLo3ijCU8UJwkBOQMJMpQ7Cd3chwvAbKcLK5CzCm8D/wahkQcIgzhHCoE0QwoyNE8IjFDHC5vUTwqyfRsLmdDfCqD4lwkYrEMKvi0HCvQUTwg4kIMJrq/fB1aIdwkigI8L7gDLCb+9Iwu5rOMKK0QjCxqkdwqV/J8K0WUHC5dgNwkgqO8IgTyvCLVYnwrsmA8K1WCjCKK8awugFFMIotwTCBVhHwpLpJcKDvDfCM44fwh82IMJ9RALCT7wcwtkaCMK5BDbCxugowlIaO8IRbxjCRzY1wrb7AcI6SPnBiHsVwpB7BcKsEenBiF8Dwqg8R8KZXwHCd5b4wbLKGsIEmTTCmbguwqN2KMJRTAvCvk8vwrSZC8KT6zHCvY70wV/2AMJMQg/CAHUbwnTSFcLuoSfCYZAbwkkEMMK1f/jBGMJAwhyCBMKmEwDCP64IwsU7G8J3OvvBU+gfwq4QRcKSTS7C17QTwlDzG8JF1LVALqkGwjwBAMIkiAbCMfADwvzrCsIaT0fCEaIqwhsN+sEzMCjCtLsOwifeGcLtIivCW58Awre9HsIqYj/CmG0zwkTmNsIVpDrCiOgxwucNEsKiTDnC1UYSwucy30GWGwXCk0MFwhDxCsLRAQvCOXUtwuXRIMJu1iDChFIxwg6sPcKQoUPCOPQtwkgPJ8KJxP/BV3cZwkeBM8KrbBvCV28KwpSCA8KgwUPCa3LxwXlkGsLIhUTCEM40wg==",
          "dtype": "f4"
         },
         "yaxis": "y"
        },
        {
         "hovertemplate": "color=4<br>x=%{x}<br>y=%{y}<extra></extra>",
         "legendgroup": "4",
         "marker": {
          "color": "#FFA15A",
          "line": {
           "width": 0
          },
          "opacity": 0.7,
          "size": 4,
          "symbol": "circle"
         },
         "mode": "markers",
         "name": "4",
         "showlegend": true,
         "type": "scattergl",
         "x": {
          "bdata": "I0vawUFZMsIlXhvCoIS/wdo87cEBeNRBXb0VwpDfDcI6pg3CyH8LwnehAcL7jwPCbgMiwr7+BsF4Ng/CtjPRwbMBzsHzlQXCUKswwss7CcHa+VTB2XhMwTk1AsI+xRTCjmjav4JiHsLL4+7BRL33wWsIG8K5ryjBOf8TwoleT8DDkAXC+e0Mwo0C7sHa1yvC9nYbwnfo3cBmyx7CbbI3wnEPA8EMUCfCGaPqwch8CMJm2gnC1mPkwfKSGMJ1MSrB0KkEwhvsJcApc/7BI0aewOaJHsLjuw3CXpADwlf1MsKokBbCHyOWwTrWA8K/9AnCLnYEwrAkC8Jood/BMQAWwtRCHsLjbVLBcyETwhY6P8CraOPBbc7cwf4jA8JyPS3CO9gMwn++M8LgqxPCpZkjwkO7W8EyqiXCGWkVwt+kFcIa9evBMDNYwVPP6sH9ZPnBddskwZmYFsKoXfzBBf3vwe0HAsKIaRzCyZgJwmdovcESCCHC507vwXfaNMJKfq3BqcwOwjwoDMLjLQbCj+MrwiDULMK4mCXC0ZUfwpdi5UFb0gbCTzwlwlkU7sGn9wbCD5c0wm4ZDcJklDXCV0MrwkE39cEM2jDCWdATwhw8MsKWSfvBa0LjwaNqG8KUPhHC4PPZwU+VIMJDlPzBOkgeQoxzEsIlNiHCTVLrwTC8L8JySizCa4cUws6wCMJvG7XB43GsweyML8Js1iLChiHlwN4WG8JCWRjCM9OKwTa3ykG3pxjC6+IGwqDy4cHJ69nBopoBwlpKIsG+M9TBYBf7weElEsKUiiXC084CwvU/E8IytDjCN/MZwuOqpME5HwPCLcQdwrZbE8LUCCTCbWj7wXHt+8HmCxDCaoAZwdcj7cEdKBbCFifewOQn/MGxfifCoukywsqWucHVXg7CSuYOwuozFsIA50bA4ObHwb+NIsGQx9nBTwrywXZB7cFW6iXCDbcQwsughcFp5fLBWgotwpASJ8JLPQTCqx21waXrFcIK+yrCLTUjwizgDsKMHi/C/nYhwoRlCMJrmeLBiRBPwf/dU8GswNnB3kUWwmflEsIG9PDBin82wZ1JIcKushzCx/udwF2uFMIvP03BLgATwgzPysEl0KnBmw9XweS8F8LtwvbBuConwsPQHMI3fRLC6upqwQ==",
          "dtype": "f4"
         },
         "xaxis": "x",
         "y": {
          "bdata": "FN9owZ5Id8HbpGXBNGcvwR3qMMHhQpvBCYt4wWkKgUDfj2LB/kZVwWtBnsA+mbbBCQOcwauUeMDCTqPBFKtVwRbYUsHIvgXBiUKQwRqzwUC+SH9AkSOgwDraF8Gh6Z3Bz4iQQAU9gsFjehzBVv8pwTEOR8FzRdY/fEaRwZ9dBkLGGajBHNeDQJtTT8Hew6nBFLKQwVzpCUJQLs2/WV6GwZmkvUD3+7XBfEqJP+llcMEQrmXBg7WrwXTXrsHLnApB/pmFwb3/5sBAIhLAoTXqQXSfvMFCrQ3AIgYOwUIG5MALknfB2NlgwXy9l8HYHbvBSW+pwW36QcEMMzvB8yOnweWRyb/1vKXAtqEkwQcsBEI4IH7BfpmBwe8eg8GzVsTAsziBwY6zOcE214k/iWV7wX8R0MDYXaPBWraZwZAHwcHbrXxAPmbBwAAGV8FxtSnB0pYtQKH5xsGPDjvBxRmKwRZhmsCz3cXB+j8zwYmDV8HDto3BFgd3wU5zEsHPs3hB3T+Uwdg8YMEwSD1Ad1KYwYgxcsGsZTvBTQ8qwUHdrMFpkn7AjkpBwS3GeMAY5g7BgAEqwYFNRcFj1G7BnkX0wNkMn8HnnfLAlYXmwKVDPcEFP1XBDItkwal4pcGKg8DAN8KGwdapXMEI9E/BFBuVwT8Ygr/bCWvBZAdcwX2zmsHH7KbBwoo7P4gspcGSGGxBtm9DwZmL+sAlvojBdrC4P7WtOcEQYYXB7ZAzwSoeisGNWrTBlGz3wKP4ckHOeTLBbP+ewM6ICEEBl5XBQe8XwOltTcEk02bB/dCXwfKwZcFwQ2jBPfGMwT4aU8EpLKvBtF29wUr0hcG3wK/B+42pwQJ60sFOTuPAqEfdQDD3EkBJk3w/yesJQgof0sGIqorB43qJwasKRsGEX7rB7FNEwdxVs8DSTgVCveszwTRmOkB1I6HB+t/FP47MicEqVBTB0PKTwYmsSkGr857BWz7mwDEkK8FoIy/BOrQ8waMZWcEKppTBTVEdwYm4pMASWofBwS+mwQxfusFRVOrAGFP4wAqEssC5LKLBUYVWv7B3X8HehSvBlFoFQXV8WsHSsGvB5+fqQVf/hsFU657A/hEwwTXchsFxTHLB2RXywPykk8E+g7/A5cOJwd6zPMEITYe/CP73wA==",
          "dtype": "f4"
         },
         "yaxis": "y"
        },
        {
         "hovertemplate": "color=9<br>x=%{x}<br>y=%{y}<extra></extra>",
         "legendgroup": "9",
         "marker": {
          "color": "#19d3f3",
          "line": {
           "width": 0
          },
          "opacity": 0.7,
          "size": 4,
          "symbol": "circle"
         },
         "mode": "markers",
         "name": "9",
         "showlegend": true,
         "type": "scattergl",
         "x": {
          "bdata": "wa6awQ0xucHmA4DBcIK0wZ7Sy8EW+JXBA8/Owd3Rw8ETNc7Bpb83wTFakcGgALvBnkO1wU4l6cHoaL/BGPeswSzWoMFFw9TBT6yWQeBAs8F3///BbC7wwd+RwcFIgrfB+V0EwpeVpcGcE5BBxuWjwR9v6cHLq4DBHA6RwcPdecHoMprBJXGPwcaChsFKFPTBilrIwa+EhsE6SvTAaue9wVbXqcF656bB1f+2wcvT5MFiiNDBJejDwRk6d8C4/57BkWygweacj0HdP93ByumRwbZLq8EYN7PB/x+RwaHy28HNeKnBaVXXwTLpqsFFQ63BZ8D3wUDV4cGQQ+jBL6WMwVTB1MGFnafBLqbHwTtumMH166fB306ywbjCZcGvNrnBjtONwR6Ik8GWydvBTRDewb3WtMFcg77BCnSywXjQ1MGXQlPB53XjwUEe3cE5c8jBkbC3wVnWpcF0K5TBeUiewbLfyMHEXM3B7V/SwUrO3sFRrADCQLu5wf0JwsFqvszBFLWpwWBPAcLeK4HBeP22wS9fyMGz5uTBMyrFwbuHqMHNj5nB7m/nwTRlncGUVJhBmCuLwaJ8rcHPDdjBa1lxwVDRFMKa6tLBZHzCwQsLlcHvhP5BuHqvwQdyz8HD8H7BKCPPwRPUj8F+h7XBOUYHwggoqcGy66jBJYXTwdXSlMFQXOLBEfynwS0XjMH+WejB7iqhwbaas8EXdgTCwsKgwZ3C7cHL4+nBYFy4wakgp8F9F53BN+GowVq1q8EyhLvBpxCCwbmn4sHlxZ/Brcq/wadwmMFS8HTAr0zwwWf2hcGmIYXBvQWcwQZwxsGgCbjBvBFmwcRV+MGQxLnB6oKQwfJBosFF3c/BuU3OwbCksMFXt9DBmo3Ywd1r0sGwi5RBQzDqweFYw8Gps57BHLinwfcpd8F+rpDBnIm8wf6kW8GkMlXBh2OWwU1h1cFicAHClt/ZwY2ricHh58nBcQChwf7N4sG+nejBmxcHwmF+0sEgrMzBr9b4Qb/zzMFIoqbBHY3NwTEYksE=",
          "dtype": "f4"
         },
         "xaxis": "x",
         "y": {
          "bdata": "2pzVP8JUh0FzYUVAWTz3wFchgEFWT6BAoAUHwUuzb0GYdl5BMHH+QGLe1L8YmmDAjSy8wG86lEDuJBPASscEwWC3pMDD7XbAtAcYQHJcCMEBfhS/VFaxQIaTe0CH7VFAHz+eQMdgG8EExnVAZuMQQBc4WMA5edO8O/zev/0SOUAR5C7BLVUDwQsugD/nUj1BK9AoQIlxKMCYXHLA6uy8QO9c8MBDo32/yLnMQIT3rECkbR1BxEXQvwf5KkH3/x7BMQodQf8dcUAwiQW/XTWnQLidMkFDPdS/IjlfwHmCqT/bCZ3AMLHGQALMHkFVR+DAdZi7QM4+TEGMqspAvhoMwLnsTUBwMuDATaj5wOSm+b9x6+VAgOYBP/qgMcEJTIZBzk/PwH4CIL/hvYVA6HZCwHCOH0E8CjhBSbQcv/0KJ79lqaxAXtUJQQ7ug79+emJBQdUOQcL5C8Gwy5JA1ywvwXuG6MC1909Ahlk0Ph03TkEz9ys/ZqcdwZuqXEEPRC6/AkZaQAveqkAPNB/Bj3MqQSqcgEECIVHA6ZfywHpxr0CssTzB43PuvyCusUAEKIVAh90Qwcmhq0A1S8u8obQ2QKndDcFDhH1BNugkQcWZYMFsexTC7fCZP2olucB61rO/wB8XwFymncBCG+nADSdXwGFVJEH60du/KPfYQIAIMMGk9hnAQxQCQaxISMGd77K//bEVwLlqkEEvMn1A8T88wdNejr+cvk5BueiWP0FjmkDiJAtBEp+9v5GiQ8DD9wlAzgAbwbLcdkHlvNw/u3wOQYpZRcD2nCtBtrTgQL8LH0JJ/e8/AmXBwFTFDkE9i54/X0wlwXcvmkDjvh7Bdo7AwMbEDEGe5ARBXn/CwIlgy8CXwoG/VklXQR5lKUGT5IxB3LuaQFeh6T6rvxHByl/vQIFGEcFG/AW/tzD6vsxBM8H9wzfBqt6+wI7PhMCJ6KJAjBPYP19S+MCw4ldAC1M1PTkA3kDrF0xB8r/rwB87kz9Csjw/qLErQZiLmb/SuibBlVBdQTl3IME=",
          "dtype": "f4"
         },
         "yaxis": "y"
        },
        {
         "hovertemplate": "color=5<br>x=%{x}<br>y=%{y}<extra></extra>",
         "legendgroup": "5",
         "marker": {
          "color": "#FF6692",
          "line": {
           "width": 0
          },
          "opacity": 0.7,
          "size": 4,
          "symbol": "circle"
         },
         "mode": "markers",
         "name": "5",
         "showlegend": true,
         "type": "scattergl",
         "x": {
          "bdata": "U34FQoWQDUIWbiRCfL0NQsWfG0KbNw1C3DwsQr8PJkK8p/9BAJEmQr+xJ0LfmxxC01kwQjOu4EEpzixCbU7xQSH9DkL5JJdBBtAvQmFWhUHb1uVBvnQsQsjZNUKFxvdBvbwbQjmPC0IpYzxCPawrQpen1EEgJCtCKzESQnh4I0JH/ERClZ4nQmyZ8UFXqSJCf0UPQogRH0Lqf/VBLRQkQqDB/EHM3RtC8DwoQqjX5EESCS5CxnAwQp8nFkID+DBCH9EzQpreJUKcTkhCbwYGQi/n8UEfKf9B1o4CQqPSEULNzyxCAJEsQiEPNkKALiFCsSMZQvrPLkJaci9CYfjZQYq2HEJYnPBB0jLlQXiKQEL6ZAJCqGbpQTmkFkI32TRC4BjqQX7a2UFdeh5CUEMDQqdsM0IBWz1CeZHvQazC7EEg6RpCDUzxQc0RKkJFdglCDBEhQiEcIkLCCANCEQuCQextEUJI+RdC0eQmQunGHkJQ/OxBLB8oQn8LPUKi8SJC1JpFQnTWAkIxXA5CsY4qQpbiA0IA6DtCUD0SQjPbGkL0oipC36c5Qgl/HEKOSBpC4s4ZQjqaF0L0wCxCcHwNQjc9BkINL+BBm9cLQqgUDkLZMYvBPfbJQdh8FEKsqQpCZ3YsQujKGUJA4vlBuKrjQTCARkJfAMlBUPAgQqlOq0AdPCpCbtYQQkhoF0J+8M5BD9aEwT7gCEIx6y5CKGhFQsgpKULvEwxCRDwDQg8KJEJyKilCUPj7QXUmOEL5LA5CJdEtQhnMPkLgDxFCGd/VQQ9vAUJR2SNC4vQwQvp6JkJMhzxCT3cmQghqv0HU6DVCTq8XQvU6QEK2LylCufoQQpvCJULSyxxCx/37QS4cGEKxuRlCWfIUQrM2KkJsQPpBQigQQmQ/JUIW5hhCVT0cQk/s/EEcjSZC31cwQivA6UFkVwBCKHdJQY6iGUI=",
          "dtype": "f4"
         },
         "xaxis": "x",
         "y": {
          "bdata": "QfLmvvHNBkClonJB2zgOQQrzgEEP1TtAJBKsQXO/IkExao1APrRJQTavYEFMYew/Oq6qQakmlEH4ZB1B8tLgQI77kED/Mz/CT/V0QdrJCEHye1dBQS+iQW4Dp0GQ9/K/AgVoQPtEGEFMa5xB2SWiQYZaZkFqBtdBgyJeQJWYikGVSQJBgStFQdZ1uUADmBrC6xYpQRBcbUGdRIRBlf5bQctc4EAhMn5AsuM8wRtT/UDCJMlB0bSGQVH6h0F5nEk/NkG4QZwDz0BSuhJBXK0dQbRkcz+fyQlBrwo7QUcElUCrcoRBbs7XQCB+t0HOTMS/0lM1wvU8y0DW/ppBEXfDQC/R1kGp/Vo+HIAuwdr1qUBvT2hBw7bWQPIkjj+yc6VBop5SQfNefLpjtaBBkaTHQB1ixUHghgBBfcaCQJn3AUESFktBDkiLQCea0kEbnZ1BRjoHwKt5cUEHhgRBgdvpQNYML0G/TKZBxDJdQXBk/0Agkbo+V2bRQbLFAUG9CpVBy62DQBIxaEEMKGdBmFGAQaPO2UDArptBrvruQNoE60B9M8FBhlKzQRUioUCEvYJB839OP2VIoj8n+tG/RHo+QGMjM0HPmoU9P/YlQXcJWEFx9LVAghgJQckJikFWI6hAyaDSQCIXS0H5S+ZAkE3OQBT+jL+P+wdC7aVBQWb0REG9h8NBpqMUQXWIV0GnfxtBEZXIQCn5NkHro51BEFOGQD24kUF8Y6dAFCcHQS+FHcK1IZdBBxoEQQu6akFWZExBzI5VQVUs/MAJZV5BITZKv7d7FkG+6MNBZ0CHQVavmEE5L5VBNKwPQcPyYkFkPr1BRYD/QBIUrEB3ESNBr5ZYQBBACkHPfsBA4TO2QBIf/EB9vA1AGH7WQP4wckFSTWpBZO/5QGWjzED1t6ZB5NRoQe2qukHlgq5BJWHOQS4OdkAC0cZA2jPOQbcIEEE=",
          "dtype": "f4"
         },
         "yaxis": "y"
        },
        {
         "hovertemplate": "color=6<br>x=%{x}<br>y=%{y}<extra></extra>",
         "legendgroup": "6",
         "marker": {
          "color": "#B6E880",
          "line": {
           "width": 0
          },
          "opacity": 0.7,
          "size": 4,
          "symbol": "circle"
         },
         "mode": "markers",
         "name": "6",
         "showlegend": true,
         "type": "scattergl",
         "x": {
          "bdata": "dF4AQrYqM0KsVPtBQRJEQgG79kFU8vVB6bwPQmLoB0IhQDdCXPkRQm4bAkLoAB1CHtMmQkbNJUIh8wNCShFDQn4NCkJIghlCOYUJQqVRLEK2aetBnLk3Qgw8IELxxTNCCQJPQsN6EkJaKKTBBgokQixMLUIYHQtC//w2QoCTF0Kq6jxCUFcyQkOMP0JQCwhC7X4lQhHaSEKwFARCHt4dQjSzGUJdofRBmBxIQqx7M0KzJvVBTOQGQgU2KkLw4ONBzVJNQtKqJkJqXS1CY08vQiTyFkKfuOFBqI4NQredKUIoss5BKGtNQlUt9EGruxpCElAvQlWTE0I9AklCd7npQdQo5UFbQENCIMs8QlMvSkIKFzJCkcXiQa0eIEI0QzhCaCoYQgx3E0K3pjNCFUkLQtqSDUKLBixCSWvvQQEdIUJIahhCvIRNQuQM70E/wj1CMC4CQmxuK0IgOxBCb72tQWEdDEIYJepBXLiHvybeHEKD3RNCIBhEQuruDELbpDhCGIkvQmsPR0I7+zNChwRJQlXT4kGF2FJCSM4vQnwhOELKmDZC/SpRQupcT0KZ6EVCMqHxQVaOIkL3tABC4lJAQgD4D0IGTv5BGY1PQvDuAEKUuR5CV/4hQmLaD0IBGgRCUlUsQhBkNEKGpjVC7DeiPzPR7UGXhQZCz4IDQraPQEKu20RCL4YPQk57G0JNQxNCF9ZCQoKO5UF8qgpCn0cxQkVRSkJTiT5CpwsUQox6LUJiDQRCNrY/QrM9J0L70RlCsVM9Qj+FLEKTB0RCwin+QfrFS0LeFfxBxLwLQjxX2EHQySxCn/g8QsvEC0K59x5C2aBDQjk8B0IF7yhCwb4eQheoBEJBZE5CRghCQknUKULAJj1C86w0QkPp90F4rTVCVl5LQjNIH0I3SAtCQ6koQjfqJ0LYww1CtKSXwah8SkKbAhtCAdQbQg==",
          "dtype": "f4"
         },
         "xaxis": "x",
         "y": {
          "bdata": "28iUwX5IRMFagaHBz1XRwOQSdcGPZ6XBcs0xwdSLicERZkDBdlJ8wLnMncHeIHXBquPLwI4VtcAT95HB726BwF5yhcFHqbjA/e2dwRJUocDLJIvBVxnhv9yiEsJRpK7ABl4pwTj4gcCil4zBJYuUwdFrd8Gp4qbB7b0mwYtc0cAEJH/BG7JUwXDkOcGPe77BFjQJwU5fhcDCaYLBamkQwZLmFsFxXZrBm9HswErOfb8YUJHB8OKWwYYiCsHY3HnBV6zwwMufWcG/AYTBxswiwUjN+MBQ2m7BvH6fwWAk2cAO4IbBYdUxwarkgMHU2CHBqUQUwGf7YcGgNUbARIGFwRNLhcF2wyrBJm5AwReKYsGIzUvBGKWMwRsgkcDg4X3A1QzewKDlRcHOxWK/+rPfwAaQNsGDMDbBN/R1wdiwicDsu1HBR5kfwcc1o8HdO4rBTqeTwYWxoMAZ7jvBAnkewRyxGMGvV5TBvzqPQIhaiMFf4GbBBMEDwcZTnsHzKzPBTTR4wcfnBMFRte6/G0NZwQlHbcFGDKnANSzrwMbkasDCRWHBIqCawOGR78DN7x3BST2fwR+q7sDBMm/BvZE8wNepR8H2UI/BWr4rwc+PgMEgU2jBp7sQwb7VgsG9DhvB9gLEwNVIdMEwex7Af1/0wX7yjMF75qHBF4AYwefHVsHd17DAOFAHwUkOG8F1SBjBGIZNwCXMosFGxo3BI2RnwQmJjMAut+zAbCtswVqIW8FV7xvBZ93vwOL53sC5rz7BGKrGwP/QdcFRviTBksZxwcQmucB3z4XB62OTwSm0ZsGt3ULBiCOEwX6/ScGX+KPA0QxIwQlqdcH7SYbBB/S/wExqpsF6XKPA/9eiwD5/XMF7QXbBZPRswC3GisF0fb7AUIipwDxte8Ealt7B8S+hwNtuB8GTkKbBSxNIwTjhOcD/rm/BuQ/iwA==",
          "dtype": "f4"
         },
         "yaxis": "y"
        },
        {
         "hovertemplate": "color=3<br>x=%{x}<br>y=%{y}<extra></extra>",
         "legendgroup": "3",
         "marker": {
          "color": "#FF97FF",
          "line": {
           "width": 0
          },
          "opacity": 0.7,
          "size": 4,
          "symbol": "circle"
         },
         "mode": "markers",
         "name": "3",
         "showlegend": true,
         "type": "scattergl",
         "x": {
          "bdata": "59O0QWTshEE99lNBp3iQQT1opkF4wUs/hPkLQXNnnkEFNC5BKuSwQX+QrkALPFBBFbNXQcZIxkHBpsRBJYDDwSQ3eEHHaldB3iNSQfJggUEDbMxB2HvWQfnfsEG7qvNBz3tvQenOmEHPWG9BOjltQS9ZuUE3hXFBoaWpQZmlTUEQItdBwCI5wF74JEHYupRBUAqtQbXhEEEh03NBT8WuQbAztEDP7gFBj8uKQR8yDsG2KoJBGyBCQbSyAkC+aS1BbM7aQA1efkGK3q1BUUGhQWRMoEEz1XBBcAleQRwZsUG2mdNBousbQostP0G4c+A/wnKIQQn7YkF7rFNBF5GrwazppUE0+SxBF8ZiQQM3QkH3j6xBrmvBQRXkDEHit1dBREE0Qc31YkGTW5RB4qAnQQad50AR3cFBmFRWQbcZwkB4k7JBk/oyQbqzX0HkLrVB7Z6cQfKFxkEEkZFByaYFQQLZhUEwfhNBxwucQRv5yEH2pt1B5l6dQYZy5kBMBuxBVeESQTQoV0HdtsdBGPaOQdvM70HkIRNBVzj4Qdo/vkFydGBB4J4/QJnaLEGVNlhBf4ueQYZUCkGZUo7BZFcBQblcPUHWTwFB+N5CQYfhekH9g5lBlve5QcHPk0E0zOBA1FhCQGhCIsEfeipB30OyQeVx1UG3Rm1BZOQiQLLSc0GAySdBu0wiQSOUp0Fl315B0BhRQcGXZEF/8c5BovunQXqxoUHQCqbBVux2Qb18R0GPp6JBIBv9QPdhu0EDXy9BJB1FQQeTiEHDGgNBvNTIQU3+xUF0QcpAp88AQV0lQEFRQYlBqFG9QYezuUFCq7ZBaPWvQYeZqEH0gpZBSV+zQQkRjEFVANhARl0YQjmtAcE6xXpBoyFLwgJzkEHkINVBxc24QfDMgEEYWoJB56HCQWVLyEDmcaDBMmCJQSt2vkG35jJC9IjQQfd0S0HTanRBhzqNQYcbsEGHLqhBaafzQWfY40DcT9JApEDKQZNLu0EmCjdBRMR0QfsTGEH7bKVBPYmIQQU4pUHbdpVBNqcbQfvdUkGXypRBRTeqQblge0Gz8FBB5uVOQSrFo0EcPihByfPRQdV9U0G2qeBB",
          "dtype": "f4"
         },
         "xaxis": "x",
         "y": {
          "bdata": "bhtmQbfJwkEmUahBJ8jMQWNSSUFyUc5BHF3UQUMMq0Ejgb5BJoepQS9PwUFKMPRBpPxqQZkImUFvzTZBE5SCwObx2MHD+uZBZe39QbOAt0Fyv9xBeta0QR9gKEGrXpBBYzOfQWPSpEHCTKhBDUHuQSD0vUGfbDBAZeGgQWnVd0FdacRBR6e/wfNvy0GTWlJBv7KRQbhKr0HllL9BvDJCQRK/v0FxOddBF71lQb9lu0F7m2pBb2SsQdFXpEArKN9BOSIhQcBtmUFtg6xBtsk5QXzN50H6uv5BhriuQTCIkkEwBbZBNozXQXXhjkF+TS3BhmhUQd3Ez0FdjfhBl7UpPsWcQkEu06lBPEG9QbG15kHpuG1BI1XtQYnS3kGJA4lBh53xQarbpT+7qORB+m2IQSa52UHOpDtBFEu+QeLVoUHGp+dBShPEQWUekUEUopdBbkXBQalZpUHrF5tBgFXrQUVSa0FyBtRBB7DlQV3vB0L4vaBBWji1QSOgukHdIZ5BGRWiQWV/0UG5qKZBWoKiQSpFmEHcFl1BlhygQfKb5UG7sTjA2T1iQd7eoUH1F4FBBSlVQR+5vkGlTB9BKy2RQZrSlkFpK8FBSRT2QSDe/0HC9NNBD8y+QZTHX0EPv8xB485pQbvtekFjgMxBZkWXQQ85SEHde91BJAVKQWdY60ED2IJBhDLtQWj8uEEJhIZBDCKjQfQqnEGEq+VBYShNQSETPUF1zR1CLHrXQfXojEFexDBB27nkQSSXkEGfLlpBic6cQcMI4UF4PYFB86bVQXtgt0GiBKVBYizBQc/HyEGI0vpAq/LfQeijsUHke7NB4ODKQUmXskF9ZuRBkQDPQVzsoEHInrBAEI4SQe41r0ElvIdB7pl8QVwZ2kFwIYlB0J3OQVlHlkGsGjVBut3BQY4z4EGCy9pBp7KvQU2ZzUHPxpdBJ+pdQYgs/EAjX+RBA17eQeEDg0HJj8tBkXSFQWsI1UHS7axBrVGSQfzUm0FFk7VBo5a+QQgQmEGEfQhCF8//QdP+0EFeZ3tBHwCaQU+1aUHQHW9B7c7jQQbbkkFCc8RBhr3aQbyPw0FcuY1BhNbfQWEMjkA1E5tB",
          "dtype": "f4"
         },
         "yaxis": "y"
        },
        {
         "hovertemplate": "color=8<br>x=%{x}<br>y=%{y}<extra></extra>",
         "legendgroup": "8",
         "marker": {
          "color": "#FECB52",
          "line": {
           "width": 0
          },
          "opacity": 0.7,
          "size": 4,
          "symbol": "circle"
         },
         "mode": "markers",
         "name": "8",
         "showlegend": true,
         "type": "scattergl",
         "x": {
          "bdata": "NZ+3v9DPzUGzFrhAW1obQVcct0B45qpAHRsOQaCJQEEimWRA0vCaQdAAv7/d6VlB2QHZP+UpPcFJUnRByF6nQPiKJEKNOwhBFOC/vz7X40H50r1ADnqnQf/4x0Fm/AE/HRdyQbjYXEER5wFB3KxzQZEtGcDrSy9BB9BcQSnNrr4lewdB/rqJQDp5WECAY8U/O8vzQGy0KEHQo5dA3/t4QSxA9D+AI2pBR9WQQIVhXUGuRTtBHVkNQMvdIkHdF/hAJKzjuGyYeEEp25JBNy/SQC7h5sBdP+NAFUrPQOm8TUGcr9Y/E2RTQYu5RkCfc7c/huLRPxKXBcIUYcO+l0cIQE/rk0EPa9w/mu6wwGn30kHrQRtBqCg7QbXqjkGXsDRAnHMwQWQmCULGLs5AeL8ZQX6U60B3iUVBZqfpQecgRUFKyzhBlDEvQUGnmUAbeYNBZcQdwJ6SCcLw9+pA8IWKQJTeTcDIfkVBGBf3QNBo+EAdcUFAZmVAv3Hu4EHh5vS/VJQtQTYupj83CKhBlQI+QQ/P00DPDfk/5pmOQLqZHEGJP/xA5fYjQY06f0BYeN5B4/8yQU4wjUBa24BA8lmkQJnICUK7RNJBHuJrQHM/V0FKADhBni8TQP8ygkAsxAFBbE36QAMmrEE/VEZAU/LOwLDLzEHAAqpAQKpNP0ovMUF/z5JAqkySQXuRg0HgYMlB+p+oQHNrKcAtJm9Bttm7QHjGvEASGSJCp2G6wAQqK0Gx/mdB08rtQA0YxrzAkbO/KvcSQfhFG0FlgqI+KZuVQWDWEEGhc01BOCCRPnMqY0EHpTBBLTRAQToCBEH5X8RAk4MHQRyVgUHsmfZAbyCeQP1000F2w7I/Rc+ZQX/tKEGvICRC8OGKQI3yqb6JjyJAcp0fQWrtGsH5zAlCWotYQecvq0FG3TlBcyckQWujuUDf/TJBHj6+P1I5IEDOx6FB8aMXQY22TUEKuDVBdptYP8frWEBD8h1BapJtQPS7i0Gmi5lAo5uGQAZF38CW0oJB",
          "dtype": "f4"
         },
         "xaxis": "x",
         "y": {
          "bdata": "0jD2QMf+lL+H3vNAE0UgP7kDbEDEB8s/njijwB8RUb43JYPA8c/0QRx7Fr+eCpJAMOVGvxE5s0AxBqZAcMJuv7zYN8GWwAdBwLbnvqBBWEAbkJVAusW7QFMSqL/eJvlAigFUwIi/g7/A0BDBOeQ2P7+w0MDzwWFAtRPewB9zJsCPsQLB+2BUvwXRED+k1/1AR5++QLxfVMBmHv7A7UnYwcT+vsCW5QFBFrb4QFg0ecDstv3AkiObwOl9xsB/eivAxY8TPngIMkFd3/dANRcHwVGrt0BVk87AhygVQZABi789nDRA39qmQDCBG0DTz/bAp2DhwBaYBr/7rR7AFSbOQKrE4j9GJ2K+WEE7wOJ8gEHXm5ZANt23P7iyDEFV8jNB2gCXQL3Ig0GFi97A13+Xv+X2wL9RNeZAcTo4wQwzC0B1SHnAOpfqQETE4EA5FtM+pyERPzC2okAWlLO+m+/xQBV2MryYdtm/qmOlv7RircC/VTFBJGDwQePLSEDs6+LAiyKlvrwdj0BXVJzAtzKEQKdyz0Ctqy3AgzPTwKHb7D9rViFAQ49LwEuE2sBgQLJBc5K8QMlwpMCStRjAdt2DwC1vekFgUYBB2VGkQCkq48Aorbc/AHbgv5/KnMDwXsrAqFkAwG4NbEFBEARBkVa6QPN/asDSTnTApfYMwow8UD5pJdI/oa0TQPqqtT/WX6S/AbdqPwZG9j/aE1DA7EZnQB06vMDcEcRBhIy9QGlK70Cv8pNAmiarwIlnn76AL4m/PJSgwIMIZL+bIY9AoCbpQHguNEBkgEU/1jVDP115W79qoyNBBS2gwOx5csDCuIrA5O+2P9NrMj4bD8dADMW4QHAdgEHpGdc+MJLxQTYDFEHCJhrCMrNZQOBD/kCW0wVBF6+3QO9/2UBLIn9BF6o6wV3BuUAqgLbARDUGQAF5qsBit+nAk5MnwVHaC0HhXI1BzKaQQOduX0Ah/0dAbs//QMfNe0A9f/rAoI3OQJQtzr9gzmO/NNgAQZmEcsBgPAVB",
          "dtype": "f4"
         },
         "yaxis": "y"
        }
       ],
       "layout": {
        "height": 650,
        "legend": {
         "title": {
          "text": "color"
         },
         "tracegroupgap": 0
        },
        "margin": {
         "b": 0,
         "l": 0,
         "r": 0,
         "t": 50
        },
        "template": {
         "data": {
          "bar": [
           {
            "error_x": {
             "color": "#f2f5fa"
            },
            "error_y": {
             "color": "#f2f5fa"
            },
            "marker": {
             "line": {
              "color": "rgb(17,17,17)",
              "width": 0.5
             },
             "pattern": {
              "fillmode": "overlay",
              "size": 10,
              "solidity": 0.2
             }
            },
            "type": "bar"
           }
          ],
          "barpolar": [
           {
            "marker": {
             "line": {
              "color": "rgb(17,17,17)",
              "width": 0.5
             },
             "pattern": {
              "fillmode": "overlay",
              "size": 10,
              "solidity": 0.2
             }
            },
            "type": "barpolar"
           }
          ],
          "carpet": [
           {
            "aaxis": {
             "endlinecolor": "#A2B1C6",
             "gridcolor": "#506784",
             "linecolor": "#506784",
             "minorgridcolor": "#506784",
             "startlinecolor": "#A2B1C6"
            },
            "baxis": {
             "endlinecolor": "#A2B1C6",
             "gridcolor": "#506784",
             "linecolor": "#506784",
             "minorgridcolor": "#506784",
             "startlinecolor": "#A2B1C6"
            },
            "type": "carpet"
           }
          ],
          "choropleth": [
           {
            "colorbar": {
             "outlinewidth": 0,
             "ticks": ""
            },
            "type": "choropleth"
           }
          ],
          "contour": [
           {
            "colorbar": {
             "outlinewidth": 0,
             "ticks": ""
            },
            "colorscale": [
             [
              0,
              "#0d0887"
             ],
             [
              0.1111111111111111,
              "#46039f"
             ],
             [
              0.2222222222222222,
              "#7201a8"
             ],
             [
              0.3333333333333333,
              "#9c179e"
             ],
             [
              0.4444444444444444,
              "#bd3786"
             ],
             [
              0.5555555555555556,
              "#d8576b"
             ],
             [
              0.6666666666666666,
              "#ed7953"
             ],
             [
              0.7777777777777778,
              "#fb9f3a"
             ],
             [
              0.8888888888888888,
              "#fdca26"
             ],
             [
              1,
              "#f0f921"
             ]
            ],
            "type": "contour"
           }
          ],
          "contourcarpet": [
           {
            "colorbar": {
             "outlinewidth": 0,
             "ticks": ""
            },
            "type": "contourcarpet"
           }
          ],
          "heatmap": [
           {
            "colorbar": {
             "outlinewidth": 0,
             "ticks": ""
            },
            "colorscale": [
             [
              0,
              "#0d0887"
             ],
             [
              0.1111111111111111,
              "#46039f"
             ],
             [
              0.2222222222222222,
              "#7201a8"
             ],
             [
              0.3333333333333333,
              "#9c179e"
             ],
             [
              0.4444444444444444,
              "#bd3786"
             ],
             [
              0.5555555555555556,
              "#d8576b"
             ],
             [
              0.6666666666666666,
              "#ed7953"
             ],
             [
              0.7777777777777778,
              "#fb9f3a"
             ],
             [
              0.8888888888888888,
              "#fdca26"
             ],
             [
              1,
              "#f0f921"
             ]
            ],
            "type": "heatmap"
           }
          ],
          "histogram": [
           {
            "marker": {
             "pattern": {
              "fillmode": "overlay",
              "size": 10,
              "solidity": 0.2
             }
            },
            "type": "histogram"
           }
          ],
          "histogram2d": [
           {
            "colorbar": {
             "outlinewidth": 0,
             "ticks": ""
            },
            "colorscale": [
             [
              0,
              "#0d0887"
             ],
             [
              0.1111111111111111,
              "#46039f"
             ],
             [
              0.2222222222222222,
              "#7201a8"
             ],
             [
              0.3333333333333333,
              "#9c179e"
             ],
             [
              0.4444444444444444,
              "#bd3786"
             ],
             [
              0.5555555555555556,
              "#d8576b"
             ],
             [
              0.6666666666666666,
              "#ed7953"
             ],
             [
              0.7777777777777778,
              "#fb9f3a"
             ],
             [
              0.8888888888888888,
              "#fdca26"
             ],
             [
              1,
              "#f0f921"
             ]
            ],
            "type": "histogram2d"
           }
          ],
          "histogram2dcontour": [
           {
            "colorbar": {
             "outlinewidth": 0,
             "ticks": ""
            },
            "colorscale": [
             [
              0,
              "#0d0887"
             ],
             [
              0.1111111111111111,
              "#46039f"
             ],
             [
              0.2222222222222222,
              "#7201a8"
             ],
             [
              0.3333333333333333,
              "#9c179e"
             ],
             [
              0.4444444444444444,
              "#bd3786"
             ],
             [
              0.5555555555555556,
              "#d8576b"
             ],
             [
              0.6666666666666666,
              "#ed7953"
             ],
             [
              0.7777777777777778,
              "#fb9f3a"
             ],
             [
              0.8888888888888888,
              "#fdca26"
             ],
             [
              1,
              "#f0f921"
             ]
            ],
            "type": "histogram2dcontour"
           }
          ],
          "mesh3d": [
           {
            "colorbar": {
             "outlinewidth": 0,
             "ticks": ""
            },
            "type": "mesh3d"
           }
          ],
          "parcoords": [
           {
            "line": {
             "colorbar": {
              "outlinewidth": 0,
              "ticks": ""
             }
            },
            "type": "parcoords"
           }
          ],
          "pie": [
           {
            "automargin": true,
            "type": "pie"
           }
          ],
          "scatter": [
           {
            "marker": {
             "line": {
              "color": "#283442"
             }
            },
            "type": "scatter"
           }
          ],
          "scatter3d": [
           {
            "line": {
             "colorbar": {
              "outlinewidth": 0,
              "ticks": ""
             }
            },
            "marker": {
             "colorbar": {
              "outlinewidth": 0,
              "ticks": ""
             }
            },
            "type": "scatter3d"
           }
          ],
          "scattercarpet": [
           {
            "marker": {
             "colorbar": {
              "outlinewidth": 0,
              "ticks": ""
             }
            },
            "type": "scattercarpet"
           }
          ],
          "scattergeo": [
           {
            "marker": {
             "colorbar": {
              "outlinewidth": 0,
              "ticks": ""
             }
            },
            "type": "scattergeo"
           }
          ],
          "scattergl": [
           {
            "marker": {
             "line": {
              "color": "#283442"
             }
            },
            "type": "scattergl"
           }
          ],
          "scattermap": [
           {
            "marker": {
             "colorbar": {
              "outlinewidth": 0,
              "ticks": ""
             }
            },
            "type": "scattermap"
           }
          ],
          "scattermapbox": [
           {
            "marker": {
             "colorbar": {
              "outlinewidth": 0,
              "ticks": ""
             }
            },
            "type": "scattermapbox"
           }
          ],
          "scatterpolar": [
           {
            "marker": {
             "colorbar": {
              "outlinewidth": 0,
              "ticks": ""
             }
            },
            "type": "scatterpolar"
           }
          ],
          "scatterpolargl": [
           {
            "marker": {
             "colorbar": {
              "outlinewidth": 0,
              "ticks": ""
             }
            },
            "type": "scatterpolargl"
           }
          ],
          "scatterternary": [
           {
            "marker": {
             "colorbar": {
              "outlinewidth": 0,
              "ticks": ""
             }
            },
            "type": "scatterternary"
           }
          ],
          "surface": [
           {
            "colorbar": {
             "outlinewidth": 0,
             "ticks": ""
            },
            "colorscale": [
             [
              0,
              "#0d0887"
             ],
             [
              0.1111111111111111,
              "#46039f"
             ],
             [
              0.2222222222222222,
              "#7201a8"
             ],
             [
              0.3333333333333333,
              "#9c179e"
             ],
             [
              0.4444444444444444,
              "#bd3786"
             ],
             [
              0.5555555555555556,
              "#d8576b"
             ],
             [
              0.6666666666666666,
              "#ed7953"
             ],
             [
              0.7777777777777778,
              "#fb9f3a"
             ],
             [
              0.8888888888888888,
              "#fdca26"
             ],
             [
              1,
              "#f0f921"
             ]
            ],
            "type": "surface"
           }
          ],
          "table": [
           {
            "cells": {
             "fill": {
              "color": "#506784"
             },
             "line": {
              "color": "rgb(17,17,17)"
             }
            },
            "header": {
             "fill": {
              "color": "#2a3f5f"
             },
             "line": {
              "color": "rgb(17,17,17)"
             }
            },
            "type": "table"
           }
          ]
         },
         "layout": {
          "annotationdefaults": {
           "arrowcolor": "#f2f5fa",
           "arrowhead": 0,
           "arrowwidth": 1
          },
          "autotypenumbers": "strict",
          "coloraxis": {
           "colorbar": {
            "outlinewidth": 0,
            "ticks": ""
           }
          },
          "colorscale": {
           "diverging": [
            [
             0,
             "#8e0152"
            ],
            [
             0.1,
             "#c51b7d"
            ],
            [
             0.2,
             "#de77ae"
            ],
            [
             0.3,
             "#f1b6da"
            ],
            [
             0.4,
             "#fde0ef"
            ],
            [
             0.5,
             "#f7f7f7"
            ],
            [
             0.6,
             "#e6f5d0"
            ],
            [
             0.7,
             "#b8e186"
            ],
            [
             0.8,
             "#7fbc41"
            ],
            [
             0.9,
             "#4d9221"
            ],
            [
             1,
             "#276419"
            ]
           ],
           "sequential": [
            [
             0,
             "#0d0887"
            ],
            [
             0.1111111111111111,
             "#46039f"
            ],
            [
             0.2222222222222222,
             "#7201a8"
            ],
            [
             0.3333333333333333,
             "#9c179e"
            ],
            [
             0.4444444444444444,
             "#bd3786"
            ],
            [
             0.5555555555555556,
             "#d8576b"
            ],
            [
             0.6666666666666666,
             "#ed7953"
            ],
            [
             0.7777777777777778,
             "#fb9f3a"
            ],
            [
             0.8888888888888888,
             "#fdca26"
            ],
            [
             1,
             "#f0f921"
            ]
           ],
           "sequentialminus": [
            [
             0,
             "#0d0887"
            ],
            [
             0.1111111111111111,
             "#46039f"
            ],
            [
             0.2222222222222222,
             "#7201a8"
            ],
            [
             0.3333333333333333,
             "#9c179e"
            ],
            [
             0.4444444444444444,
             "#bd3786"
            ],
            [
             0.5555555555555556,
             "#d8576b"
            ],
            [
             0.6666666666666666,
             "#ed7953"
            ],
            [
             0.7777777777777778,
             "#fb9f3a"
            ],
            [
             0.8888888888888888,
             "#fdca26"
            ],
            [
             1,
             "#f0f921"
            ]
           ]
          },
          "colorway": [
           "#636efa",
           "#EF553B",
           "#00cc96",
           "#ab63fa",
           "#FFA15A",
           "#19d3f3",
           "#FF6692",
           "#B6E880",
           "#FF97FF",
           "#FECB52"
          ],
          "font": {
           "color": "#f2f5fa"
          },
          "geo": {
           "bgcolor": "rgb(17,17,17)",
           "lakecolor": "rgb(17,17,17)",
           "landcolor": "rgb(17,17,17)",
           "showlakes": true,
           "showland": true,
           "subunitcolor": "#506784"
          },
          "hoverlabel": {
           "align": "left"
          },
          "hovermode": "closest",
          "mapbox": {
           "style": "dark"
          },
          "paper_bgcolor": "rgb(17,17,17)",
          "plot_bgcolor": "rgb(17,17,17)",
          "polar": {
           "angularaxis": {
            "gridcolor": "#506784",
            "linecolor": "#506784",
            "ticks": ""
           },
           "bgcolor": "rgb(17,17,17)",
           "radialaxis": {
            "gridcolor": "#506784",
            "linecolor": "#506784",
            "ticks": ""
           }
          },
          "scene": {
           "xaxis": {
            "backgroundcolor": "rgb(17,17,17)",
            "gridcolor": "#506784",
            "gridwidth": 2,
            "linecolor": "#506784",
            "showbackground": true,
            "ticks": "",
            "zerolinecolor": "#C8D4E3"
           },
           "yaxis": {
            "backgroundcolor": "rgb(17,17,17)",
            "gridcolor": "#506784",
            "gridwidth": 2,
            "linecolor": "#506784",
            "showbackground": true,
            "ticks": "",
            "zerolinecolor": "#C8D4E3"
           },
           "zaxis": {
            "backgroundcolor": "rgb(17,17,17)",
            "gridcolor": "#506784",
            "gridwidth": 2,
            "linecolor": "#506784",
            "showbackground": true,
            "ticks": "",
            "zerolinecolor": "#C8D4E3"
           }
          },
          "shapedefaults": {
           "line": {
            "color": "#f2f5fa"
           }
          },
          "sliderdefaults": {
           "bgcolor": "#C8D4E3",
           "bordercolor": "rgb(17,17,17)",
           "borderwidth": 1,
           "tickwidth": 0
          },
          "ternary": {
           "aaxis": {
            "gridcolor": "#506784",
            "linecolor": "#506784",
            "ticks": ""
           },
           "baxis": {
            "gridcolor": "#506784",
            "linecolor": "#506784",
            "ticks": ""
           },
           "bgcolor": "rgb(17,17,17)",
           "caxis": {
            "gridcolor": "#506784",
            "linecolor": "#506784",
            "ticks": ""
           }
          },
          "title": {
           "x": 0.05
          },
          "updatemenudefaults": {
           "bgcolor": "#506784",
           "borderwidth": 0
          },
          "xaxis": {
           "automargin": true,
           "gridcolor": "#283442",
           "linecolor": "#506784",
           "ticks": "",
           "title": {
            "standoff": 15
           },
           "zerolinecolor": "#283442",
           "zerolinewidth": 2
          },
          "yaxis": {
           "automargin": true,
           "gridcolor": "#283442",
           "linecolor": "#506784",
           "ticks": "",
           "title": {
            "standoff": 15
           },
           "zerolinecolor": "#283442",
           "zerolinewidth": 2
          }
         }
        },
        "title": {
         "text": "Latent Space (t-SNE)"
        },
        "width": 850,
        "xaxis": {
         "anchor": "y",
         "domain": [
          0,
          1
         ],
         "title": {
          "text": "z1"
         }
        },
        "yaxis": {
         "anchor": "x",
         "domain": [
          0,
          1
         ],
         "title": {
          "text": "z2"
         }
        }
       }
      },
      "image/png": "[encoded data removed]"
     },
     "metadata": {},
     "output_type": "display_data"
    }
   ],
   "source": [
    "plot_latent_space(vae, test_dl, use_3d=False, reducer='tsne')"
   ]
  },
  {
   "cell_type": "code",
   "execution_count": 32,
   "id": "3f2c6a6b91636c46",
   "metadata": {
    "ExecuteTime": {
     "end_time": "2025-10-10T15:28:01.490162Z",
     "start_time": "2025-10-10T15:28:01.488179Z"
    }
   },
   "outputs": [
    {
     "name": "stdout",
     "output_type": "stream",
     "text": [
      "Saving to: models/safetensors/vae/InspoResNetVAE_vae_test_l13_base_16_block_2.safetensors\n"
     ]
    }
   ],
   "source": [
    "vae_save_name =  f'{vae.__class__.__name__}_{run_name}'\n",
    "vae_path = os.path.join(model_save_path, f'vae/{vae_save_name}.safetensors')\n",
    "if os.path.exists(vae_path):\n",
    "    print(f\"Path: {vae_path} \\n already exists! Appending run_id to make unique\")\n",
    "    vae_path = vae_path.split('.safetensors')[0] + str(wandb.run.id) + '.safetensors'\n",
    "print(f\"Saving to: {vae_path}\")"
   ]
  },
  {
   "cell_type": "code",
   "execution_count": 33,
   "id": "bbed106df9ed1c6c",
   "metadata": {},
   "outputs": [],
   "source": [
    "save_file(vae.state_dict(), vae_path)"
   ]
  },
  {
   "cell_type": "markdown",
   "id": "c6880ab42c71b1d6",
   "metadata": {},
   "source": [
    "### Encode VAE"
   ]
  },
  {
   "cell_type": "code",
   "execution_count": 34,
   "id": "e7e1403e47e6ed12",
   "metadata": {},
   "outputs": [
    {
     "name": "stdout",
     "output_type": "stream",
     "text": [
      "Processing train split...\n",
      "\n"
     ]
    },
    {
     "name": "stderr",
     "output_type": "stream",
     "text": [
      "Loader: MNIST train Batch 469/469: 100%|██████████████████████████████████████████████████████████████████████████████████████████████████████████████████████████████████████| 469/469 [00:01<00:00, 251.02it/s]\n"
     ]
    },
    {
     "name": "stdout",
     "output_type": "stream",
     "text": [
      "Processing test split...\n",
      "\n"
     ]
    },
    {
     "name": "stderr",
     "output_type": "stream",
     "text": [
      "Loader: MNIST test Batch 79/79: 100%|███████████████████████████████████████████████████████████████████████████████████████████████████████████████████████████████████████████| 79/79 [00:00<00:00, 243.78it/s]\n"
     ]
    }
   ],
   "source": [
    "vae.eval()\n",
    "encode_dataset(vae, train_dl, test_dl, suffix=suffix)"
   ]
  },
  {
   "cell_type": "markdown",
   "id": "509476dd47161936",
   "metadata": {},
   "source": [
    "### Flow Matching"
   ]
  },
  {
   "cell_type": "code",
   "execution_count": null,
   "id": "b83bad509a4198d4",
   "metadata": {},
   "outputs": [],
   "source": [
    "# load vae if needed\n",
    "name_of_vae_tensor = 'sp_vae.safetensors'\n",
    "path_to_vae = os.path.join(model_save_path, '/vae/', name_of_vae_tensor)\n",
    "vae = ResNetVAE().to(device)\n",
    "vae.load_state_dict(load_file(vae_path))\n",
    "vae.eval()"
   ]
  },
  {
   "cell_type": "code",
   "execution_count": 35,
   "id": "83ee395949645a8e",
   "metadata": {},
   "outputs": [],
   "source": [
    "# load latent encoded data\n",
    "latent_data_path = os.path.join('data', vae.encoder.__class__.__name__ + '_' + suffix + '/MNIST/')\n",
    "latent_train_ds, latent_test_ds = load_encoded_dataset(latent_data_path)\n",
    "latent_train_dl = DataLoader(latent_train_ds, batch_size=batch_size, shuffle=True)\n",
    "latent_test_dl  = DataLoader(latent_test_ds, batch_size=batch_size, shuffle=False)"
   ]
  },
  {
   "cell_type": "code",
   "execution_count": 36,
   "id": "8217fb04fa0b57c3",
   "metadata": {},
   "outputs": [],
   "source": [
    "project = 'dl_experimentation'\n",
    "def train_flow(model, train_loader, test_loader, name='flow_model', pretrained_model=None, epochs=20, lr=0.001, warp_fn=None, new_points_every=1, spatial=True):\n",
    "    wandb.finish()\n",
    "    wandb.init(project=project, name=name, reinit='finish_previous')\n",
    "    wandb.config.update({\n",
    "        \"epochs\": epochs,\n",
    "        \"batch_size\": train_loader.batch_size,\n",
    "        \"learning_rate\": lr,\n",
    "        \"model\": model.__class__.__name__,\n",
    "        \"optimizer\": \"Adam\"\n",
    "    })\n",
    "\n",
    "    criterion = nn.MSELoss()\n",
    "    optimizer = optim.Adam(model.parameters(), lr=lr)\n",
    "\n",
    "    global_step = 1\n",
    "\n",
    "    for epoch in range(epochs):\n",
    "        # Training phase\n",
    "        model.train()\n",
    "        pbar = tqdm(train_loader, desc=f'Epoch {epoch+1}/{epochs}', leave=False)\n",
    "\n",
    "        for batch_idx, (data, _) in enumerate(pbar):\n",
    "            optimizer.zero_grad()\n",
    "\n",
    "            # Get data and create a sample from it to calc movement\n",
    "            target_x = data.to(device)\n",
    "            sampled_x = torch.randn_like(target_x)\n",
    "            B = sampled_x.size(0)\n",
    "\n",
    "            if global_step % new_points_every == 0:\n",
    "                if pretrained_model:   # ReFlow\n",
    "                    target_x = integrate_path(pretrained_model, sampled_x, step_fn=rk4_step, warp_fn=warp_time, n_steps=20)\n",
    "\n",
    "            t  = torch.rand(B, 1, device=sampled_x.device, dtype=sampled_x.dtype)\n",
    "\n",
    "            if warp_fn: t = warp_fn(t)\n",
    "            \n",
    "            if spatial: \n",
    "                # t4 = torch.zeros_like(sampled_x) + t\n",
    "                t4 = t.view(B, 1, 1, 1)\n",
    "                interpolated_x = sampled_x * (1 - t4) + target_x * t4\n",
    "            else:\n",
    "                interpolated_x = sampled_x * (1-t) + target_x * t\n",
    "\n",
    "            \n",
    "            line_directions = target_x - sampled_x\n",
    "            \n",
    "            drift = model(interpolated_x, t)\n",
    "            loss = criterion(drift, line_directions)\n",
    "\n",
    "            loss.backward()\n",
    "            optimizer.step()\n",
    "\n",
    "            with torch.no_grad():\n",
    "                cos_sim = F.cosine_similarity(drift, line_directions, dim=1).mean()\n",
    "\n",
    "            wandb.log({\n",
    "                \"step\": global_step,\n",
    "                \"train_loss\": loss.item(),\n",
    "                \"cos_sim\": cos_sim.item(),\n",
    "                \"drift\": drift.norm(dim=1).mean().item(),\n",
    "            })\n",
    "            global_step += 1\n",
    "\n",
    "    return model"
   ]
  },
  {
   "cell_type": "code",
   "execution_count": 37,
   "id": "83c5f120e74e7280",
   "metadata": {},
   "outputs": [],
   "source": [
    "flow = FlatVelocityNet(13).to(device)"
   ]
  },
  {
   "cell_type": "code",
   "execution_count": 40,
   "id": "261bd767b0b677b5",
   "metadata": {},
   "outputs": [],
   "source": [
    "flow_name = f'flow_{suffix}'\n",
    "train_flow(flow, latent_train_dl, latent_test_dl, name=flow_name, epochs=100, spatial=False)"
   ]
  },
  {
   "cell_type": "code",
   "execution_count": 41,
   "id": "4c608b35e32cef3b",
   "metadata": {},
   "outputs": [
    {
     "name": "stdout",
     "output_type": "stream",
     "text": [
      "Saving to: models/safetensors/flow/FlatVelocityNet_flow_l13_base_16_block_2.safetensors\n"
     ]
    }
   ],
   "source": [
    "flow_save_name =  f'{flow.__class__.__name__}_{flow_name}'\n",
    "flow_path = os.path.join(model_save_path, f'flow/{flow_save_name}.safetensors')\n",
    "if os.path.exists(flow_path):\n",
    "    print(f\"Path: {flow_path} \\n already exists! Appending run_id to make unique\")\n",
    "    flow_path = flow_path.split('.safetensors')[0] + str(wandb.run.id) + '.safetensors'\n",
    "print(f\"Saving to: {flow_path}\")"
   ]
  },
  {
   "cell_type": "code",
   "execution_count": 42,
   "id": "3804733a85e8cdbb",
   "metadata": {},
   "outputs": [],
   "source": [
    "save_file(flow.state_dict(), flow_path)"
   ]
  },
  {
   "cell_type": "markdown",
   "id": "5d6ddb4d062f4e6e",
   "metadata": {
    "jp-MarkdownHeadingCollapsed": true
   },
   "source": [
    "#### Pretrained Model"
   ]
  },
  {
   "cell_type": "code",
   "execution_count": null,
   "id": "797c9dc82fdd7b02",
   "metadata": {},
   "outputs": [],
   "source": [
    "name_of_flow_tensor = 'flow_2.safetensors'\n",
    "path_to_flow = os.path.join(model_save_path, '/flow/', name_of_flow_tensor)"
   ]
  },
  {
   "cell_type": "code",
   "execution_count": null,
   "id": "6a06dab455c20304",
   "metadata": {},
   "outputs": [],
   "source": [
    "teacher_flow = ConvFlowNet(1).to(device)\n",
    "teacher_flow.load_state_dict(load_file())"
   ]
  },
  {
   "cell_type": "code",
   "execution_count": null,
   "id": "61af454d337d167a",
   "metadata": {},
   "outputs": [],
   "source": []
  },
  {
   "cell_type": "markdown",
   "id": "a540bd159320cb82",
   "metadata": {},
   "source": [
    "#### Visualize Flow"
   ]
  },
  {
   "cell_type": "code",
   "execution_count": 43,
   "id": "27512484e35889f",
   "metadata": {},
   "outputs": [],
   "source": [
    "basic = BasicModel(vae, flow, (13,)).to(device)"
   ]
  },
  {
   "cell_type": "code",
   "execution_count": 70,
   "id": "595f758d44013b8b",
   "metadata": {},
   "outputs": [
    {
     "data": {
      "image/png": "[encoded data removed]",
      "text/plain": [
       "<Figure size 1000x400 with 10 Axes>"
      ]
     },
     "metadata": {},
     "output_type": "display_data"
    }
   ],
   "source": [
    "samples = basic.generate_samples(10, 15)\n",
    "plot_generated(samples)"
   ]
  },
  {
   "cell_type": "code",
   "execution_count": 56,
   "id": "eb6675544e083e46",
   "metadata": {},
   "outputs": [
    {
     "ename": "NameError",
     "evalue": "name 'flow1' is not defined",
     "output_type": "error",
     "traceback": [
      "\u001B[31m---------------------------------------------------------------------------\u001B[39m",
      "\u001B[31mNameError\u001B[39m                                 Traceback (most recent call last)",
      "\u001B[36mCell\u001B[39m\u001B[36m \u001B[39m\u001B[32mIn[56]\u001B[39m\u001B[32m, line 2\u001B[39m\n\u001B[32m      1\u001B[39m \u001B[38;5;66;03m## For comparing two flows\u001B[39;00m\n\u001B[32m----> \u001B[39m\u001B[32m2\u001B[39m x1, x2 = comparative_generate_samples(\u001B[43mflow1\u001B[49m, flow2, vae, \u001B[32m5\u001B[39m, \u001B[32m10\u001B[39m)\n\u001B[32m      3\u001B[39m \u001B[38;5;28mprint\u001B[39m(\u001B[33m\"\u001B[39m\u001B[33mNormal Flow\u001B[39m\u001B[33m\"\u001B[39m)\n\u001B[32m      4\u001B[39m plot_generated(x1)\n",
      "\u001B[31mNameError\u001B[39m: name 'flow1' is not defined"
     ]
    }
   ],
   "source": [
    "## For comparing two flows\n",
    "x1, x2 = comparative_generate_samples(flow1, flow2, vae, 5, 10)\n",
    "print(\"Normal Flow\")\n",
    "plot_generated(x1)\n",
    "print(\"Re Flow\")\n",
    "plot_generated(x2)"
   ]
  },
  {
   "cell_type": "code",
   "execution_count": null,
   "id": "198c5570-76f9-4b9e-b59f-8d6cfe6a2562",
   "metadata": {},
   "outputs": [],
   "source": []
  }
 ],
 "metadata": {
  "kernelspec": {
   "display_name": "Python 3 (ipykernel)",
   "language": "python",
   "name": "python3"
  },
  "language_info": {
   "codemirror_mode": {
    "name": "ipython",
    "version": 3
   },
   "file_extension": ".py",
   "mimetype": "text/x-python",
   "name": "python",
   "nbconvert_exporter": "python",
   "pygments_lexer": "ipython3",
   "version": "3.13.7"
  }
 },
 "nbformat": 4,
 "nbformat_minor": 5
}
