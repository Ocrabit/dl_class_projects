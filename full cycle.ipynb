{
 "cells": [
  {
   "cell_type": "code",
   "id": "1ee462f7003a232b",
   "metadata": {
    "ExecuteTime": {
     "end_time": "2025-10-12T01:47:59.726497Z",
     "start_time": "2025-10-12T01:47:56.386389Z"
    }
   },
   "source": [
    "import os.path\n",
    "\n",
    "import torch\n",
    "import wandb\n",
    "import torchvision\n",
    "from torchvision.transforms import ToTensor, RandomAffine, RandomErasing\n",
    "from torch import nn, optim, utils\n",
    "from torch.utils.data import DataLoader\n",
    "from torch.nn.utils import clip_grad_norm_\n",
    "from torchvision.datasets import MNIST\n",
    "import torch.nn.functional as F\n",
    "from torch_ema import ExponentialMovingAverage\n",
    "from tqdm import tqdm\n",
    "from safetensors.torch import save_file, load_file\n",
    "\n",
    "\n",
    "# Customs\n",
    "from helpers import load_encoded_dataset, encode_dataset\n",
    "from helpers import rk4_step, integrate_path, warp_time, BasicModel\n",
    "from helpers import plot_latent_space, comparative_generate_samples, plot_generated, create_model_suffix\n",
    "\n",
    "from models import ResNetVAE, log_example_images, InspoResNetVAE\n",
    "from models import SimpleFlowModel, FlatVelocityNet, ConvFlowNet"
   ],
   "outputs": [
    {
     "name": "stderr",
     "output_type": "stream",
     "text": [
      "C:\\Users\\ocrab\\AppData\\Roaming\\Python\\Python313\\site-packages\\pydantic\\_internal\\_generate_schema.py:2249: UnsupportedFieldAttributeWarning: The 'repr' attribute with value False was provided to the `Field()` function, which has no effect in the context it was used. 'repr' is field-specific metadata, and can only be attached to a model field using `Annotated` metadata or by assignment. This may have happened because an `Annotated` type alias using the `type` statement was used, or if the `Field()` function was attached to a single member of a union type.\n",
      "  warnings.warn(\n",
      "C:\\Users\\ocrab\\AppData\\Roaming\\Python\\Python313\\site-packages\\pydantic\\_internal\\_generate_schema.py:2249: UnsupportedFieldAttributeWarning: The 'frozen' attribute with value True was provided to the `Field()` function, which has no effect in the context it was used. 'frozen' is field-specific metadata, and can only be attached to a model field using `Annotated` metadata or by assignment. This may have happened because an `Annotated` type alias using the `type` statement was used, or if the `Field()` function was attached to a single member of a union type.\n",
      "  warnings.warn(\n"
     ]
    }
   ],
   "execution_count": 1
  },
  {
   "cell_type": "code",
   "id": "538eef30a1284b44",
   "metadata": {
    "ExecuteTime": {
     "end_time": "2025-10-12T01:48:00.122539Z",
     "start_time": "2025-10-12T01:47:59.793355Z"
    }
   },
   "source": [
    "device = torch.device('cuda' if torch.cuda.is_available() else 'mps' if torch.backends.mps.is_available() else 'cpu')\n",
    "\n",
    "model_save_path = 'models/safetensors/'\n",
    "\n",
    "wandb.login()\n",
    "wandb.finish()"
   ],
   "outputs": [
    {
     "name": "stderr",
     "output_type": "stream",
     "text": [
      "wandb: Currently logged in as: marcocassar (marcocassar-belmont-university) to https://api.wandb.ai. Use `wandb login --relogin` to force relogin\n"
     ]
    }
   ],
   "execution_count": 2
  },
  {
   "cell_type": "code",
   "id": "7b5ecd97e0199247",
   "metadata": {
    "ExecuteTime": {
     "end_time": "2025-10-12T01:48:04.856832Z",
     "start_time": "2025-10-12T01:48:04.824201Z"
    }
   },
   "source": [
    "train_transforms = torchvision.transforms.Compose([\n",
    "    ToTensor(),\n",
    "    # uncomment next lines for extra augmentations\n",
    "    #RandomAffine(degrees=15, translate=(0.1, 0.1)),\n",
    "    #RandomErasing(p=0.2, scale=(0.02, 0.1))\n",
    "])\n",
    "train_ds = MNIST(root='./data', train=True,  download=True, transform=train_transforms)\n",
    "test_ds  = MNIST(root='./data', train=False, download=True, transform=ToTensor())\n",
    "print(f\"Data set lengths: train: {len(train_ds)}, test: {len(test_ds)}\")\n",
    "\n",
    "batch_size = 128\n",
    "train_dl = DataLoader(train_ds, batch_size=batch_size, num_workers=2, shuffle=True, persistent_workers=True)\n",
    "test_dl = DataLoader(test_ds, batch_size=batch_size, num_workers=2, shuffle=False, persistent_workers=True)"
   ],
   "outputs": [
    {
     "name": "stdout",
     "output_type": "stream",
     "text": [
      "Data set lengths: train: 60000, test: 10000\n"
     ]
    }
   ],
   "execution_count": 3
  },
  {
   "cell_type": "markdown",
   "id": "5cc2dfa4996952b",
   "metadata": {},
   "source": [
    "### VAE"
   ]
  },
  {
   "cell_type": "code",
   "id": "5bd3586ab63181b5",
   "metadata": {
    "ExecuteTime": {
     "end_time": "2025-10-12T01:48:06.126044Z",
     "start_time": "2025-10-12T01:48:06.119618Z"
    }
   },
   "source": [
    "project = \"vae_conv_testing\"\n",
    "recon_criterion = F.binary_cross_entropy_with_logits\n",
    "\n",
    "def train_vae_old(\n",
    "    model, train_loader, val_loader, name=None,\n",
    "    epochs=20, lr=2e-3, weight_decay=5e-5,\n",
    "    beta_final=0.005, warmup_epochs=10, grad_clip=5.0, ema=0.97, spatial=False\n",
    "):\n",
    "    device = next(model.parameters()).device\n",
    "\n",
    "    # ---- W&B ----\n",
    "    wandb.finish()\n",
    "    wandb.init(project=project, name=name, reinit='finish_previous')\n",
    "    wandb.config.update({\n",
    "        \"epochs\": epochs,\n",
    "        \"batch_size\": batch_size,\n",
    "        \"learning_rate\": lr,\n",
    "        \"model\": model.__class__.__name__,\n",
    "        \"optimizer\": \"Adam\",\n",
    "        \"device\": str(device),\n",
    "    })\n",
    "\n",
    "    optimizer = optim.Adam(model.parameters(), lr=lr, weight_decay=weight_decay)\n",
    "    global_step = 0\n",
    "    train_loss_avg = None\n",
    "\n",
    "    for epoch in range(epochs):\n",
    "        model.train()\n",
    "\n",
    "        beta = beta_final * min((epoch + 1) / warmup_epochs, 1.0)\n",
    "\n",
    "        pbar = tqdm(train_loader, desc=f\"Epoch {epoch+1}/{epochs}\")\n",
    "        for batch_idx, (data, _) in enumerate(pbar):\n",
    "            data = data.to(device)\n",
    "            optimizer.zero_grad()\n",
    "\n",
    "            z, x_hat, mu, log_var, z_hat = model(data)\n",
    "\n",
    "            recon_loss = recon_criterion(x_hat, data, reduction=\"sum\") / data.size(0)\n",
    "            \n",
    "            kl = -0.5 * (1 + log_var - mu.pow(2) - log_var.exp())\n",
    "            kl = kl.view(kl.size(0), -1).sum(dim=1).mean()\n",
    "            \n",
    "            loss = recon_loss + beta * kl\n",
    "\n",
    "            # loss, recon_loss, kl = vae_loss(data, x_hat, mu, log_var, beta)\n",
    "\n",
    "            loss.backward()\n",
    "            # if grad_clip is not None:\n",
    "            #     clip_grad_norm_(model.parameters(), grad_clip)\n",
    "            optimizer.step()\n",
    "\n",
    "            train_loss_avg = loss.item() if train_loss_avg is None else ema * train_loss_avg + (1 - ema) * loss.item()\n",
    "\n",
    "            wandb.log({\n",
    "                \"step\": global_step,\n",
    "                \"train_loss_ema\": train_loss_avg,\n",
    "                \"train_loss\": loss.item(),\n",
    "                \"recon_loss\": recon_loss.item(),\n",
    "                \"kl_loss\": kl.item(),\n",
    "                \"beta\": beta,\n",
    "                \"beta*kl\": (beta * kl).item(),\n",
    "            })\n",
    "            global_step += 1\n",
    "            pbar.set_postfix(Loss=f\"{train_loss_avg:.4f}\", Recon=f\"{recon_loss.item():.4f}\", KLw=f\"{(beta*kl).item():.5f}\")\n",
    "\n",
    "        # ---- validation ----\n",
    "        model.eval()\n",
    "        val_loss = val_recon = val_kl = 0.0\n",
    "        mu_stats = []\n",
    "\n",
    "        with torch.no_grad():\n",
    "            for data, _ in val_loader:\n",
    "                data = data.to(device)\n",
    "                z, x_hat, mu, log_var, z_hat = model(data)\n",
    "\n",
    "                recon = recon_criterion(x_hat, data)\n",
    "                kl = -0.5 * torch.mean(1 + log_var - mu.pow(2) - log_var.exp())\n",
    "                loss = recon + beta * kl\n",
    "\n",
    "                val_loss += loss.item(); val_recon += recon.item(); val_kl += kl.item()\n",
    "                mu_stats.append(mu)\n",
    "\n",
    "        n = len(val_loader)\n",
    "        val_loss /= n; val_recon /= n; val_kl /= n\n",
    "\n",
    "        mu_all = torch.cat(mu_stats, dim=0)\n",
    "        mu_mean = mu_all.mean().item(); mu_std = mu_all.std().item()\n",
    "\n",
    "        wandb.log({\n",
    "            \"epoch\": epoch + 1,\n",
    "            \"val_loss\": val_loss,\n",
    "            \"val_recon_loss\": val_recon,\n",
    "            \"val_kl_loss\": val_kl,\n",
    "            \"mu_mean\": mu_mean,\n",
    "            \"mu_std\": mu_std,\n",
    "        })\n",
    "        # print(f\"Epoch {epoch+1:02d} | beta {beta:.3f} | val {val_loss:.4f} | recon {val_recon:.4f} | KL {val_kl:.4f} | μ_mean {mu_mean:.3f} μ_std {mu_std:.3f}\")\n",
    "\n",
    "        # visualize with sigmoid at eval-time only\n",
    "        log_example_images(model, val_loader.dataset, epoch + 1, spatial=spatial, n=5)\n",
    "\n",
    "    wandb.finish()\n",
    "    return val_loss"
   ],
   "outputs": [],
   "execution_count": 4
  },
  {
   "metadata": {
    "ExecuteTime": {
     "end_time": "2025-10-12T01:51:11.438913Z",
     "start_time": "2025-10-12T01:51:11.431088Z"
    }
   },
   "cell_type": "code",
   "source": [
    "def train_vae(\n",
    "    model, train_loader, val_loader, name=None,\n",
    "    epochs=20, lr=2e-3, weight_decay=5e-5,\n",
    "    beta_final=1.0, warmup_epochs=5, param_ema_decay=0.9999\n",
    "):\n",
    "    device = next(model.parameters()).device\n",
    "    \n",
    "    # Count parameters\n",
    "    total_params = sum(p.numel() for p in model.parameters())\n",
    "    latent_dim = model.latent_dim\n",
    "\n",
    "    # Determine if spatial\n",
    "    spatial = False\n",
    "    if hasattr(model, 'latent_shape'):\n",
    "        if len(model.latent_shape) > 1:\n",
    "            spatial = True\n",
    "\n",
    "    # W&B setup\n",
    "    wandb.finish()\n",
    "    wandb.init(project=project, name=name, reinit='finish_previous')\n",
    "\n",
    "    config_dict = {\n",
    "        \"epochs\": epochs,\n",
    "        \"batch_size\": train_loader.batch_size,\n",
    "        \"learning_rate\": lr,\n",
    "        \"model\": model.__class__.__name__,\n",
    "        \"optimizer\": \"Adam\",\n",
    "        \"device\": str(device),\n",
    "        \"total_params\": total_params,\n",
    "        \"latent_dim\": latent_dim,\n",
    "        \"latent_shape\": model.latent_shape,\n",
    "        \"param_ema_decay\": param_ema_decay,\n",
    "    }\n",
    "    if hasattr(model, 'config'):  # Add model config if avail\n",
    "        config_dict[\"model_config\"] = model.config\n",
    "    wandb.config.update(config_dict)\n",
    "    \n",
    "    recon_criterion = F.binary_cross_entropy_with_logits\n",
    "    optimizer = optim.Adam(model.parameters(), lr=lr, weight_decay=weight_decay)\n",
    "    ema = ExponentialMovingAverage(model.parameters(), decay=param_ema_decay)\n",
    "    \n",
    "    global_step = 0\n",
    "\n",
    "    for epoch in range(epochs):\n",
    "        model.train()\n",
    "        beta = beta_final * min((epoch + 1) / warmup_epochs, 1.0)\n",
    "        \n",
    "        pbar = tqdm(train_loader, desc=f\"Epoch {epoch+1}/{epochs}\")\n",
    "        for batch_idx, (data, _) in enumerate(pbar):\n",
    "            data = data.to(device)\n",
    "            optimizer.zero_grad()\n",
    "            \n",
    "            z, x_hat, mu, log_var, z_hat = model(data)\n",
    "            \n",
    "            recon_loss = recon_criterion(x_hat, data, reduction=\"sum\") / data.size(0)\n",
    "            kl = -0.5 * (1 + log_var - mu.pow(2) - log_var.exp())\n",
    "            kl = kl.view(kl.size(0), -1).sum(dim=1).mean()\n",
    "            loss = recon_loss + beta * kl\n",
    "            \n",
    "            loss.backward()\n",
    "            optimizer.step()\n",
    "            ema.update()\n",
    "            \n",
    "            wandb.log({\n",
    "                \"step\": global_step,\n",
    "                \"epoch\": epoch + 1,\n",
    "                \"val_mode\": False,\n",
    "                \"train_loss\": loss.item(),\n",
    "                \"recon_loss\": recon_loss.item(),\n",
    "                \"kl_loss\": kl.item(),\n",
    "                \"beta\": beta,\n",
    "                \"beta*kl\": (beta * kl).item(),\n",
    "            })\n",
    "            global_step += 1\n",
    "            pbar.set_postfix(Loss=f\"{loss.item():.4f}\", Recon=f\"{recon_loss.item():.4f}\", KLw=f\"{(beta*kl).item():.5f}\")\n",
    "        \n",
    "        # Validation with EMA parameters\n",
    "        model.eval()\n",
    "        val_loss = val_recon = val_kl = 0.0\n",
    "        mu_stats = []\n",
    "        mse_total = mae_total = ssim_total = psnr_total = 0.0\n",
    "        num_samples = 0\n",
    "        \n",
    "        with ema.average_parameters():\n",
    "            with torch.no_grad():\n",
    "                for data, _ in val_loader:\n",
    "                    data = data.to(device)\n",
    "                    z, x_hat, mu, log_var, z_hat = model(data)\n",
    "                    \n",
    "                    recon = recon_criterion(x_hat, data)\n",
    "                    kl = -0.5 * torch.mean(1 + log_var - mu.pow(2) - log_var.exp())\n",
    "                    loss = recon + beta * kl\n",
    "                    \n",
    "                    val_loss += loss.item()\n",
    "                    val_recon += recon.item()\n",
    "                    val_kl += kl.item()\n",
    "                    mu_stats.append(mu)\n",
    "                    \n",
    "                    # Reconstruction quality metrics\n",
    "                    x_hat_sigmoid = torch.sigmoid(x_hat)\n",
    "                    \n",
    "                    mse = F.mse_loss(x_hat_sigmoid, data, reduction='sum')\n",
    "                    mse_total += mse.item()\n",
    "                    \n",
    "                    mae = F.l1_loss(x_hat_sigmoid, data, reduction='sum')\n",
    "                    mae_total += mae.item()\n",
    "                    \n",
    "                    psnr = 10 * torch.log10(1.0 / (F.mse_loss(x_hat_sigmoid, data) + 1e-8))\n",
    "                    psnr_total += psnr.item() * data.size(0)\n",
    "                    \n",
    "                    # Correlation coefficient\n",
    "                    data_flat = data.view(data.size(0), -1)\n",
    "                    recon_flat = x_hat_sigmoid.view(data.size(0), -1)\n",
    "                    \n",
    "                    data_mean = data_flat.mean(dim=1, keepdim=True)\n",
    "                    recon_mean = recon_flat.mean(dim=1, keepdim=True)\n",
    "                    data_centered = data_flat - data_mean\n",
    "                    recon_centered = recon_flat - recon_mean\n",
    "                    correlation = (data_centered * recon_centered).sum(dim=1) / (\n",
    "                        torch.sqrt((data_centered**2).sum(dim=1)) * torch.sqrt((recon_centered**2).sum(dim=1)) + 1e-8\n",
    "                    )\n",
    "                    ssim_total += correlation.sum().item()\n",
    "                    \n",
    "                    num_samples += data.size(0)\n",
    "        \n",
    "        n = len(val_loader)\n",
    "        val_loss /= n\n",
    "        val_recon /= n\n",
    "        val_kl /= n\n",
    "        \n",
    "        mse_avg = mse_total / num_samples\n",
    "        mae_avg = mae_total / num_samples\n",
    "        psnr_avg = psnr_total / num_samples\n",
    "        ssim_avg = ssim_total / num_samples\n",
    "        \n",
    "        mu_all = torch.cat(mu_stats, dim=0)\n",
    "        mu_mean = mu_all.mean().item()\n",
    "        mu_std = mu_all.std().item()\n",
    "        \n",
    "        # Composite loss with complexity penalties\n",
    "        param_penalty = total_params / 1e6 * 0.1\n",
    "        latent_penalty = latent_dim / 100 * 0.05\n",
    "        composite_loss = val_loss + param_penalty + latent_penalty\n",
    "        \n",
    "        wandb.log({\n",
    "            \"epoch\": epoch + 1,\n",
    "            \"val_mode\": True,\n",
    "            \"val_loss\": val_loss,\n",
    "            \"composite_loss\": composite_loss,\n",
    "            \"param_penalty\": param_penalty,\n",
    "            \"latent_penalty\": latent_penalty,\n",
    "            \"val_recon_loss\": val_recon,\n",
    "            \"val_kl_loss\": val_kl,\n",
    "            \"mu_mean\": mu_mean,\n",
    "            \"mu_std\": mu_std,\n",
    "            \"val_mse\": mse_avg,\n",
    "            \"val_mae\": mae_avg,\n",
    "            \"val_psnr\": psnr_avg,\n",
    "            \"val_correlation\": ssim_avg,\n",
    "        })\n",
    "\n",
    "        with ema.average_parameters():\n",
    "            log_example_images(model, val_loader.dataset, epoch + 1, spatial=spatial, n=5)\n",
    "    \n",
    "    wandb.finish()\n",
    "    return model, ema"
   ],
   "id": "211b46fa1bff21cf",
   "outputs": [],
   "execution_count": 9
  },
  {
   "cell_type": "code",
   "id": "e7a735ba08de6ec9",
   "metadata": {
    "ExecuteTime": {
     "end_time": "2025-10-12T01:51:13.638515Z",
     "start_time": "2025-10-12T01:51:13.624853Z"
    }
   },
   "source": [
    "specifications = {\n",
    "    \"base_channels\": 16, \n",
    "    \"blocks_per_level\": 2, \n",
    "    \"groups\": 1\n",
    "}\n",
    "latent_shape = (1,7,7)\n",
    "vae = InspoResNetVAE(latent_shape=latent_shape, **specifications).to(device)\n",
    "# latent_dim=3, act=nn.GELU, use_skips=True, use_bn=True, base_channels=32, blocks_per_level=3, groups=1, dropout=0.4"
   ],
   "outputs": [],
   "execution_count": 10
  },
  {
   "cell_type": "code",
   "id": "e5336126-9fb2-497c-8acc-7c8e0867138d",
   "metadata": {
    "ExecuteTime": {
     "end_time": "2025-10-12T01:51:15.234462Z",
     "start_time": "2025-10-12T01:51:15.230730Z"
    }
   },
   "source": [
    "total_params = sum(p.numel() for p in vae.parameters())\n",
    "trainable_params = sum(p.numel() for p in vae.parameters() if p.requires_grad)\n",
    "print(f\"Total parameters: {total_params}\")\n",
    "print(f\"Trainable parameters: {trainable_params}\")"
   ],
   "outputs": [
    {
     "name": "stdout",
     "output_type": "stream",
     "text": [
      "Total parameters: 394563\n",
      "Trainable parameters: 394563\n"
     ]
    }
   ],
   "execution_count": 11
  },
  {
   "cell_type": "code",
   "id": "e9bb5a39acd45894",
   "metadata": {
    "ExecuteTime": {
     "end_time": "2025-10-12T01:52:23.772245Z",
     "start_time": "2025-10-12T01:51:20.465644Z"
    }
   },
   "source": [
    "suffix = create_model_suffix(latent_shape, specifications)\n",
    "run_name = f\"vae_test_{suffix}\"\n",
    "vae, ema = train_vae(vae, train_dl, test_dl, name=run_name, epochs=5, warmup_epochs=5, beta_final=1)"
   ],
   "outputs": [
    {
     "data": {
      "text/plain": [
       "<IPython.core.display.HTML object>"
      ],
      "text/html": []
     },
     "metadata": {},
     "output_type": "display_data"
    },
    {
     "data": {
      "text/plain": [
       "<IPython.core.display.HTML object>"
      ],
      "text/html": [
       "Tracking run with wandb version 0.22.2"
      ]
     },
     "metadata": {},
     "output_type": "display_data"
    },
    {
     "data": {
      "text/plain": [
       "<IPython.core.display.HTML object>"
      ],
      "text/html": [
       "Run data is saved locally in <code>E:\\Pycharm\\dl_class_projects\\dl_experimentation\\wandb\\run-20251011_205120-yq6zshhe</code>"
      ]
     },
     "metadata": {},
     "output_type": "display_data"
    },
    {
     "data": {
      "text/plain": [
       "<IPython.core.display.HTML object>"
      ],
      "text/html": [
       "Syncing run <strong><a href='https://wandb.ai/marcocassar-belmont-university/vae_conv_testing/runs/yq6zshhe' target=\"_blank\">vae_test_l7x7_ba16_bl2_gr1</a></strong> to <a href='https://wandb.ai/marcocassar-belmont-university/vae_conv_testing' target=\"_blank\">Weights & Biases</a> (<a href='https://wandb.me/developer-guide' target=\"_blank\">docs</a>)<br>"
      ]
     },
     "metadata": {},
     "output_type": "display_data"
    },
    {
     "data": {
      "text/plain": [
       "<IPython.core.display.HTML object>"
      ],
      "text/html": [
       " View project at <a href='https://wandb.ai/marcocassar-belmont-university/vae_conv_testing' target=\"_blank\">https://wandb.ai/marcocassar-belmont-university/vae_conv_testing</a>"
      ]
     },
     "metadata": {},
     "output_type": "display_data"
    },
    {
     "data": {
      "text/plain": [
       "<IPython.core.display.HTML object>"
      ],
      "text/html": [
       " View run at <a href='https://wandb.ai/marcocassar-belmont-university/vae_conv_testing/runs/yq6zshhe' target=\"_blank\">https://wandb.ai/marcocassar-belmont-university/vae_conv_testing/runs/yq6zshhe</a>"
      ]
     },
     "metadata": {},
     "output_type": "display_data"
    },
    {
     "name": "stderr",
     "output_type": "stream",
     "text": [
      "Epoch 1/5: 100%|██████████| 469/469 [00:08<00:00, 56.26it/s, KLw=13.26149, Loss=78.4214, Recon=65.1599] \n",
      "Epoch 2/5: 100%|██████████| 469/469 [00:06<00:00, 74.96it/s, KLw=20.15932, Loss=87.0532, Recon=66.8938]\n",
      "Epoch 3/5: 100%|██████████| 469/469 [00:06<00:00, 74.03it/s, KLw=25.59144, Loss=94.9093, Recon=69.3179] \n",
      "Epoch 4/5: 100%|██████████| 469/469 [00:06<00:00, 72.52it/s, KLw=29.44088, Loss=102.0469, Recon=72.6060]\n",
      "Epoch 5/5: 100%|██████████| 469/469 [00:06<00:00, 74.85it/s, KLw=31.26113, Loss=105.9496, Recon=74.6884]\n"
     ]
    },
    {
     "data": {
      "text/plain": [
       "<IPython.core.display.HTML object>"
      ],
      "text/html": []
     },
     "metadata": {},
     "output_type": "display_data"
    },
    {
     "data": {
      "text/plain": [
       "<IPython.core.display.HTML object>"
      ],
      "text/html": [
       "<br>    <style><br>        .wandb-row {<br>            display: flex;<br>            flex-direction: row;<br>            flex-wrap: wrap;<br>            justify-content: flex-start;<br>            width: 100%;<br>        }<br>        .wandb-col {<br>            display: flex;<br>            flex-direction: column;<br>            flex-basis: 100%;<br>            flex: 1;<br>            padding: 10px;<br>        }<br>    </style><br><div class=\"wandb-row\"><div class=\"wandb-col\"><h3>Run history:</h3><br/><table class=\"wandb\"><tr><td>beta</td><td>▁▁▁▁▁▁▁▁▁▁▃▃▃▃▃▅▅▅▅▅▅▅▅▅▆▆▆▆▆▆▆█████████</td></tr><tr><td>beta*kl</td><td>▁▁▃▃▃▃▃▃▅▅▅▅▅▅▅▄▄▅▆▆▆▆▆▆▆▇▇▇▇▇▇▇█████▇▇█</td></tr><tr><td>composite_loss</td><td>▁▄▅▇█</td></tr><tr><td>epoch</td><td>▁▁▁▁▁▁▁▁▁▁▃▃▃▃▃▅▅▅▅▅▅▅▅▅▅▆▆▆▆▆▆▆▆███████</td></tr><tr><td>kl_loss</td><td>▂▇██████▅▅▅▅▅▃▃▃▃▃▃▃▃▃▂▂▂▂▂▂▂▂▂▂▁▁▁▁▁▁▁▁</td></tr><tr><td>latent_penalty</td><td>▁▁▁▁▁</td></tr><tr><td>mu_mean</td><td>█▅▆▅▁</td></tr><tr><td>mu_std</td><td>█▄▃▂▁</td></tr><tr><td>param_penalty</td><td>▁▁▁▁▁</td></tr><tr><td>recon_loss</td><td>█▄▄▂▂▁▂▁▁▁▂▂▂▂▂▂▂▂▂▂▂▂▂▂▂▃▃▂▃▂▂▂▂▃▂▃▂▃▃▃</td></tr><tr><td>+9</td><td>...</td></tr></table><br/></div><div class=\"wandb-col\"><h3>Run summary:</h3><br/><table class=\"wandb\"><tr><td>beta</td><td>1</td></tr><tr><td>beta*kl</td><td>31.26113</td></tr><tr><td>composite_loss</td><td>0.81693</td></tr><tr><td>epoch</td><td>5</td></tr><tr><td>kl_loss</td><td>31.26113</td></tr><tr><td>latent_penalty</td><td>0.0245</td></tr><tr><td>mu_mean</td><td>-0.03881</td></tr><tr><td>mu_std</td><td>0.73185</td></tr><tr><td>param_penalty</td><td>0.03946</td></tr><tr><td>recon_loss</td><td>74.68845</td></tr><tr><td>+10</td><td>...</td></tr></table><br/></div></div>"
      ]
     },
     "metadata": {},
     "output_type": "display_data"
    },
    {
     "data": {
      "text/plain": [
       "<IPython.core.display.HTML object>"
      ],
      "text/html": [
       " View run <strong style=\"color:#cdcd00\">vae_test_l7x7_ba16_bl2_gr1</strong> at: <a href='https://wandb.ai/marcocassar-belmont-university/vae_conv_testing/runs/yq6zshhe' target=\"_blank\">https://wandb.ai/marcocassar-belmont-university/vae_conv_testing/runs/yq6zshhe</a><br> View project at: <a href='https://wandb.ai/marcocassar-belmont-university/vae_conv_testing' target=\"_blank\">https://wandb.ai/marcocassar-belmont-university/vae_conv_testing</a><br>Synced 5 W&B file(s), 5 media file(s), 0 artifact file(s) and 0 other file(s)"
      ]
     },
     "metadata": {},
     "output_type": "display_data"
    },
    {
     "data": {
      "text/plain": [
       "<IPython.core.display.HTML object>"
      ],
      "text/html": [
       "Find logs at: <code>.\\wandb\\run-20251011_205120-yq6zshhe\\logs</code>"
      ]
     },
     "metadata": {},
     "output_type": "display_data"
    }
   ],
   "execution_count": 12
  },
  {
   "cell_type": "code",
   "id": "60e472d7a0183bbb",
   "metadata": {
    "ExecuteTime": {
     "end_time": "2025-10-12T01:26:20.452182Z",
     "start_time": "2025-10-12T01:26:15.458492Z"
    }
   },
   "source": [
    "plot_latent_space(vae, test_dl, use_3d=False, reducer='tsne')"
   ],
   "outputs": [
    {
     "data": {
      "application/vnd.plotly.v1+json": {
       "data": [
        {
         "hovertemplate": "color=7<br>x=%{x}<br>y=%{y}<extra></extra>",
         "legendgroup": "7",
         "marker": {
          "color": "#636efa",
          "opacity": 0.7,
          "symbol": "circle",
          "line": {
           "width": 0
          },
          "size": 4
         },
         "mode": "markers",
         "name": "7",
         "showlegend": true,
         "x": {
          "dtype": "f4",
          "bdata": "x4MjQr/bJ0KrkCRC+svOQQ5xHELOLwhC/E0mQkTxwkEnMSpCKZgkQlhv2EEk4a9BT2gBQrCzGEI61iJCp14KQlddHkLVdxZCCEfCQXTIJUJ8CCNCSv7KQRkHx0HhkAtC6C0EQkDf3EHdeQpCeHsSQlJjK0KrDxhCmUsWQlBPIkLN+A1CmNP6QZKwKkI0CSJC9oIfQn1MH0KdMdVBtnkZQiKHFEKXnyNCHLUDQnYYD0KpbAFCIM0IQn0vvUEzGiZC0OAkQnVlw0ESgSBCzMwWQroFQ0J7YPtBYFsLQnxClkFwCBtC2KnPQca/HULmj+VBhGIqQoS2FkK4ow1COh1tQWMv/0E6uwtCVnLuQX0iFUJtdIFBdpTLQdEjFkLYGBxCkV0aQoyfKEFxIuxBYKcKQtB7GUKTHgRCIucdQnu0KEIizw9C7k4nQt7Q+UEt3wtChuvGQfWhIELyRNtBOwQIQsHO0EGuvyNCu0suQmJ/H0La1BtCV6EbQvnSIUIX3BRCLRG/QfUDFEJSQu9B3sELQketJUJEwfNB3izOQSqM9UFHqABCzk4lQtFihz+YZ/tBihIMQvjXJkK3X9dBeWeuQbxnFELkCDRCh7oCQiN3FkJ2GiNCh+DHPtTVoz8kDBVCEliiQZ2cBkIJPCpCWfHMQdT3wUGXhdlBeImgQZJRlkExLhFCsKUJQukfLEKPP+JBrBYRQjHN1UE1z99AqngAQnO0CkI5DpZBDVsOQlOOB0KWkfBBaA8HQvcHKELJQdlBHJT4QQy32EHabt9AzhaQQfcFLUL1RelBxRDzQWADEUIJqAVC5ZbzQWDed0H8HCdCugjWQRSkGEIuGPpB2f8EQuGG0kE1Sw9CXZe+QVGxIEKEFhpCMN0HQh3bDEJLaudBokGYQeRvHUI2FwtC5LsGQjRSAUI46OdBDUCFQaZEx0ErADVCGYEKQuhyKUIypTFCrKrdQR9/EcE1iRJCepsMQq7HDEIHJChC8aQQQqDuJkLqFxZC8+sAQp3q8kENGd5B5uEhQocOkkH9JgBCr+YqQisvE0JhGhZC5mEiQgWvBEIDYIFBmUPUQSmGH0KyUSxCUtzuQQ=="
         },
         "xaxis": "x",
         "y": {
          "dtype": "f4",
          "bdata": "RlhmwVElfcGCALDBNEhDPpr/k8H2yFHBX1XSwS8lRL9BboPBd+EMwOEioMDdHBjCrpzGwVbCIsFl+M7ALfaqP2pyoMCHR7/BYW6ZwUrdKcFcsMfBQjvXv6GWC0DC8f/AEePSwfLTb8CJdlbBSBZfwRPiQ8AKVJXB0vd4wfnAwMG38oLBWac0wX2d38Do3IzAew4iwJbsfMEgeCrC6z3AwagJVsH/3bjBv88uwcnIzMHwgrLBmHFswVH5fz+qyNDBZcxuwTzWPz7qrdbBbhaxwCy8DEIrFHDBYDi+wQ7yBME1Zr3BwVJWv0HIzcC67UfAwNicwUb3qsEExMfBPj6RwSwwWsEolP7A6RCCwDBWbMHVTjBCWC63wYn3JMEMWNDBZOqiwYQ4jMGthLvBfhOswWOvUMGwPdTBo3KPwVo4ksG9ncPBCPQ3wAgI6MH85CDBFfqHwN0zp8GH0om/T1GqwQg/kT9BhK/ApXqmwfmiNcGVOaDBymm5wEw4g8Hv9abB0D0rPhrXmcDtVdHBBjWzwVRMVcDc48fASHUpwuCmrMFflZrBOg6twIGv6ME/qonBS+oxwWJ5l8EvsDI+bqNZPykOP8Fdi4nBMLFOwZiugcHygQrBrtiPwbPp28FNqrTB7U9KwTWUmsGtWrTBTW4UwJGFHUD676nBzHcdQoD1pL9OvnnBrXQRQp3/68CvQxhAjUeVwRAwDEFYAp3B85h+wcgn6ME9QQXBNJ87wd/tFsF9adTB2xSAwU8ffcFEKLLAjRKfwSKLycGzDZ3B2rYbwq3RlsHgoGXBY/+bQZlfU8FvYjDBD07JwD5e6sG38q3BCA1QwfVvuMHG2IHBINhlwdF0tcF0vWTBR4rnPncTNMFPwl7BN0LMwUBEj8Fzlj1AN+5GwtldvMGN2yTBBNKKwassgcFGvlpAvFVRwvCGyMESM4nB8ca4P69aGcBsB6TAI4Rnv0+YLsIRqDXB3wjowZWTR8EVCYLAwU+NwSkIq8FzPGTBJaBBwSvyfcGYiAfAyhfMwSMARMKpQ8TBu4m2v/9hjMGV6Z7BWgaUwMqSesF8QjfATaiMwA8Cn8FajYrBsT5zwQ=="
         },
         "yaxis": "y",
         "type": "scattergl"
        },
        {
         "hovertemplate": "color=2<br>x=%{x}<br>y=%{y}<extra></extra>",
         "legendgroup": "2",
         "marker": {
          "color": "#EF553B",
          "opacity": 0.7,
          "symbol": "circle",
          "line": {
           "width": 0
          },
          "size": 4
         },
         "mode": "markers",
         "name": "2",
         "showlegend": true,
         "x": {
          "dtype": "f4",
          "bdata": "R7SpQEm7EsG+w+FA0EYoQiQMiUDxKbnAvo40QUrsAsDzutrApu3SPyL8u8BeIoVBdmG2P0sCCD9foBpAdoqlPx1lcsBUhmQ+svIWwG8j9kDPaLRAgFVWQLaaoEG30sRAYRyVQJSrRb+kxA4/8ESJQBxkl0DaQsE/MbzmQJ6arz/hQy1B9sDrQDukJsI0BgNCie9/QNUlKUGaJbNB0RwCQSr2DkGZaipBNpkXwIxU0sB2f6vAVDe6QH9SocDH5BPBMXyuQE1D9EDM0uhAr3ALQZqkPkEHjpA/98RLQDOFE0A6evhAnOrBQEf8G8EWv3FBRcDYwEI8U0CfcKTAYsgWQo/SVkEveNJA1I5FQYNR1kAUEx7BfVhevn2/U8AOmZNAAjklQRtiv0EWknFBAz7iQWtudD+o2VRBjmRFQR4GBkAJgCxBBiNnQQvtpcB623rAQNjFP9K8ysAupdtA49MuQfT+lL4Nqt1AgFX1wBIQEEGEt57AKz8IwVPJNEFQoEvAciG8Pjjar8ADFTHA4n+tQMaCyz+6xFhAjaTuQIEqyMAAQcpAi6QeQUPfjcC3+18/Xw8gQbnLOkGlP4jAxsSRQPWoxUDspfHActIkwOP1hkAIOoBAN7/qwG0/KUKCNDxB7hy9wCx6HcHhEAvAeOYxQUXQHEEpnytBWQtPQf0zmMCwD55AfTspP8ZdkECvcTNBANeFQN7mh0AcAx7AjWSxQFxWuUFgpiZBtJbGQLmAjr8YBz1B28izQS8/6UDBnGTAHe5yv8DvFUEGSBVBeKdIQSfDbEDENypCuastwLvblUAylJvAM/CtwJc8b0HNaeVAq8//wB1ZE0F+6ylALgsnwNsMUUE85bm/s3VzQfee98DWoO1AqCNmQZd3lUDbPTVAeWzOP0GLcUFfY/7AlMrAv1G6XsCMwDNBUMUUQRdLIkBjaEvBmzfjwct258CI3lO/yitJQJsPF8KTr5Y/2eBvwEF200CRwH9BicodQSvYMUEgcMjAakynwNZxOD/I/zBBumaRQE/IKkJFtGVB5LlAQSMs7r/7feq+ll6lvqkTq77gMaNAovxAQc/iUEGlJ4xAqrchQdvZqj9kB6pAZgsuQNOUDcAh315BlAbOQKkwHMHiCxNBrxx8QMclMcBcCwnB9/WpQI+OcsLlKVVA"
         },
         "xaxis": "x",
         "y": {
          "dtype": "f4",
          "bdata": "zP0GQoX3OELUxPNBdOc2QGn8JkJty0tCxeI0QiPXMUIGeUlCdEU5wRC0O0IIDsfBL1QNQo5mLELx3/9BwV7rQfpjKUKeQUdCyeIbQmRqzUHH9zJC4oQjQsNkHULPuBJCPtjqQX/7PULwIjVCi6oOQhzrNkJfXAxC2PI2QovREEIdPjZCC2gRQq0cg0GEssI/P74ZQifv90FWh3fApeQXQllwHUKrCTZCSuIbQsDAJEL6zUJCaYTeQUjgKUK9QjlCei8zQsxkTkEuEAtCLAIEQi9GB0JrPc5BqY7KQc4wQUKqOhNCuuY5QsgzLEKDNSFCXC8rQiVgykE8ZU9CeuXVwEdV2UHF6DlCDyctQe2s/0E370ZC5mg8Qs/yMkIUTPNBuLkRQqKD0UGSLyFCYNH2wYN4zkF1tghCPm/PQVYVQkLJ48hBetDWQTcASULvTRZCL9YAQtmrKkJztClCAz7kQZcQ6EGlM89BSIhDQoB5A0JABS5C33FBQkFFB0ITHjpCI/YzQkHuMUKCnSdClb0MQgn9N0IrVT1CAG/tQRD4I0ITEtlBenliQTHxOUL+Jt+/aAnmQd1hCUKIZRVCdS0qQowKyUEIDx1C3jtNQgM1EkJmy+BBgWNBQoew+D9QselBG8MgQs4bR0IBMEdCLhr2Qb6oIUJyLeRBNtEIQgEbLUIRHSRCZBopQmEkCUKq5QxC9p/tQXeOv0F+sjpCLakrQoLr0kGsWCNCk8wJQg5NOUJi2xpCzC55wAQOMkLdvT1CjnxGQqanFkK0BBNCK9IbQt56MEIlkYw/NuZMQqxV3kHrYFJCyOy1QI9FLEI+SupBDTJEQmhlAkJ1V91B7EhFQt6AAUJ8DS9C7kbeQRIbHELScAlCXcrVQbdFBUIslv9BTl8uQlOELULc4EZCEcghQpt/M0LmXMtB9IcQQmF4JUJf6QBC0ufIQe02O0Jr+TlCUOkGQukFUcALOf9BiKw6QsLl/UE0yi9Cd8MXQil8EULMLQBCaiJJQqC1JkIMYSVCEPvjQZr7IT+6i81B48PbQULzYMFw8jhCYcDOQdsfR0LZxw5CjkPZQamwzkHFQ8NBJik3QlRH+kHzrzZC4LM/Qlm/UEJVWt1Bw1wUQl0rLEKCTyJCDAA/QlWMFkLxmSpCxVolQj7dDMHG0jhC"
         },
         "yaxis": "y",
         "type": "scattergl"
        },
        {
         "hovertemplate": "color=1<br>x=%{x}<br>y=%{y}<extra></extra>",
         "legendgroup": "1",
         "marker": {
          "color": "#00cc96",
          "opacity": 0.7,
          "symbol": "circle",
          "line": {
           "width": 0
          },
          "size": 4
         },
         "mode": "markers",
         "name": "1",
         "showlegend": true,
         "x": {
          "dtype": "f4",
          "bdata": "0YsEQsR9CUKZqTZC4bMUQgkcKUJ5ZxVCk+EwQnnxBELuTh9C6oADQkTqE0IIzRRCQMcVQmsBJkKJRPpBccgxQhKYD0IhhgJCUL4TQnNYH0KO8R1CnNoFQiihKkJ8dyVCPrQpQkvWEEK2WiRCC3Q6QoUp8kFBESxCN0MHQm7K70GRkPxBdLonQpVFF0IgBDpCS4c3QrC1K0IPYx9Cu9cjQsEfH0JEtiJC4GgzQiZrMUJHgStCcH4oQmGkIUJe9TlCjqYXQguiIEJEpd5BW2UgQuinBkJnKxlCc/YQQvQm6EGVmQZCxp41Qj2aLUIFHSVC9BsqQooWFELarhVCXH0MQj5VEEI1zflBxJ0IQrDBHkLZsvBBE4nRQffmMkKkMhhC5OkhQisT8UGiYhlC9qIfQm94KEKRRzhC4pEvQkKdE0LV6CtCvnIhQnGpCUIxXy9CFwscQqgqF0LfcA9CO2QhQrsKC0IL+fZBongOQvfTFUIWJvVBMP0uQgE0G0JgTxVCjfMrQphCJ0JuJRlCS0QHQsEZREJ42/ZBFsMsQiCtJUKxIAlCTBD6QZXPEEIiqvZB/aQiQisYKUJ9ojBCxDr2QbxYKkKHtQ1CVs8NQj8cJkLORyRCDrMDQiyKB0KIB/JBSxABQln9D0KkBhpCIFwpQpVgD0JIIx1CIgAXQhjwHkJrpjpCT1HuQY8kAULkpAFCeVL+QSCCDkKmmQtCH80HQl8EGkKrFCRCQSQgQvEBEEJb9hRCrjwhQsjdJEJzySpCbNEQQmC9JEJgyglC3HsmQhtIOkJrSwBCMOQmQipKJUKbMiRCs0opQhz4GUKeLylCHfH0QfWSDkL7cwVC998iQtwR/0HsTwNCBQINQpEWDEIhJCxCx0cqQpG0FkIsGRVCLakiQvPcCUKnyh9Ch3MxQgRv40FUJh9CVescQspWOELwHwhCF28SQvbtD0JgVi1CsooDQsdWC0IW8gtCyN38Qe/oFELAZBxC2RD/QQ47GkLkvh1CmGr4Qcr1EULZFQdChBg8QpefO0J5CxRCANsaQnjLC0IQqylC7LELQvJfIkLNiw9CENUrQrEPJEJt5jtC4Q30QUfME0I+4vxBE9caQjthGUJXafJBalkcQluIDkKBZylCd3kPQp0+C0I5PwlC5wshQtcYGkKEUiFCtl3KQeHqIkJTLiZCeD3nQTQYEkJB0e1B7GsuQra4DkIptBlCEmAaQlBLEkJzaCpCRWw0QiHN10HPLC9C"
         },
         "xaxis": "x",
         "y": {
          "dtype": "f4",
          "bdata": "GYqKQTsufUHbj8lBtuMdQnBFI0I3JRdCAGGsQQKn+kGREy9C6MmaQb3F+0HXh1dBxXUrQjd6K0KmoEhBHaiyQXenTEH8p7ZBHBEbQuewA0KV0BdCIKb3QSmdy0EJDuBBts0mQut7K0HrsyxCsVy5QfijSkFubwFC+cCKQVHcb0ESkIFBxSgHQukxEEI5nsxBNKHSQdE1BkLKKKJBF1QDQkS8h0HBjxNCSofaQZngykEhUdZBPsnGQQiD0EHBrNpBDvWOQWM3J0LH4yFBIgfuQTlpw0EtpNJBEjvBQSODTEGJqsRBUnP/QVNfuUFPNgFCGawJQn82lEGt8WJBkpoLQrxK7EGmSF1Bi+iTQbeO6kEGiF5B+lgkQT9d0UFw9pZBVa8fQmgpFkEYGzNCBGwkQn8VGELNW/VB/LDSQfTKm0GGGehBfFkFQinfnkGjTghCvcUoQiq+skEDXZpBpoYVQpRjLUHtwq1Bh6ifQTBLE0KfzXZB/569QRa6BEI31SdCCcX6QaShlUGLciZC7/X+QasM5UEWm6dBA5zDQbdUukFv/ZNBoxKIQYqHN0HMBklBR8mkQaN51UGysvFBGgB+QazzAEKzdK9BCpy0QfgHBEIVMBRCfg81Qhd0p0GjD4BBGBu5QbV6WEEZqx5CvLf6QaIyFkIOZC5CY8siQpgWFUL+6LxB9JUxQf5cgkGfma1BtgmoQTXB7EH6OghCGuvzQQOLukH9ge9BvwYPQvefy0H0DEtBqtiJQQ7y+0G/E51BrB8PQjkfGkI1LwJC7YTKQapZ20EbCCRBPHTBQYIni0GbjwhCnTzKQarAQUHN7+lBGMxdQal8pkG8i45BtSAjQszrRkEmGLRBuWAvQX1O7EHEVg9CEKjPQaRIUUHUucNBfbwMQsLzBEK5KvJBFJQOQtqCOkGDHc1B5s8ZQoZe9EH3mptBJeMWQmmgxEEMfqZBFRs1QqKk5kHvuxBConifQWxsjUGI5iBCVmy7QeR5nEGKHqBBxyMvQf8oz0FIbZ1BrSDxQY3wBUJWWABChK0xQi9ttEGsbSZC/PzzQf23BULMtEJB/vkDQjacD0J2vuVBREE3QZ/NhkFOZLhBF1kuQsd+t0FuFSlBnUnnQW2unUEdGrFBC7ELQgBip0EnlVRBLs+8QQCTJEJfrcZBma8tQaq6uUHhp49BmR0vQYMnokGmHApB/1mYQa/mkUG7whlCAGkTQgB3TkEzPhJCp5gMQhgHD0HOTOVB"
         },
         "yaxis": "y",
         "type": "scattergl"
        },
        {
         "hovertemplate": "color=0<br>x=%{x}<br>y=%{y}<extra></extra>",
         "legendgroup": "0",
         "marker": {
          "color": "#ab63fa",
          "opacity": 0.7,
          "symbol": "circle",
          "line": {
           "width": 0
          },
          "size": 4
         },
         "mode": "markers",
         "name": "0",
         "showlegend": true,
         "x": {
          "dtype": "f4",
          "bdata": "rFJPwnvbZ8KS4FjCaglqwvjbRcJVYD3Cq9OAwg6FZMIn/V/CDD+DworrQcL4FEHCtzM+wmnOdML4RIHCDjxFwv35SsJiuizCUqN9wmpng8ISEFDCafVHwhxpc8InJ4HCdxiEwlmbZMI25UjCDZ8nwqCYVMK6aC/Cxhk7wvbYa8J3U4TCZwFbwvglaMKHAGfCBXdDwn5ONsKqBGHCUX5PwugbrMHKBC3C32towuJ2S8JRcmzC6egqwrz5gsJIZULCLMRDwqqugMKaAmTC0RNcwvt7tcFdA3HCFb1iwjnCU8KwgLbBNUdOwmlJgMJRAS/Ci59wwu1xR8JgFm3CBVa3wdOFgMLobTTCQTx+wlrYYcLVcYPCv1VGwhuuhMJpPmnCk/Z3wi+gPsL6o2DCen5uwqzsQMJcsDbCl3VJwtr5ZMKrSG/CFTJ+wqyGWsJvejvCoYRxwicOPcI+p3jC461Kwm1/gMLO/3vCQTiAwh93OML++zLCuFJJwuJzOsKutjnC3L09wm41t8FJ8j3CufEvwoADZMIlt3XCd39owlq/dcLcQVLCPUFZwlykS8I38XvCk4MtwjRwJMJM+UvC3sZewps2YMKJ43fC2wJjwknjWcJ1BivCdCq0wSNyQMIybTjC+5FOwtCSVcIo5T3CFEiAwrP3g8LdJXrCN1JHwh6lWcJYYYLCq5clwhqaJMIksjzC78o4wtSxSsKQFEnCNWB5wimhQMKVWW3CEWNAwpcIG8KMyH3CIoEkwql6WsLt13bCXnpswrU0fsJ3xnLCjOJmwsgqWsJmD37CiiRFwviPtcEs7C/CqUc6wpn0SsJJxkfC425mwnwjZsIfA0jC/Zdwwn/7gsIufrPBFoJgwnUSPsLgR0vCjXaBwuOcgsLLlnrCQDNIwj6DK8JljoLCxu8xwoU3c8Kqv4LCwwtuwg=="
         },
         "xaxis": "x",
         "y": {
          "dtype": "f4",
          "bdata": "uJhxQIuz+L+CJhA/wYmlQMLXfr8tnLi+TpjHwLxIE0AMhJC/yodwwAEQ1j/X5vY+XoAIQGyypsCVNJxAjyTqwI1C6r9iP37ABUwPwKpXtsDKqT9AycTiv3SPYEBWDcLAmf85vxaFh0Cna3U/1aQJQZAcJ77KVl+/h9Puv0lrr8CeJpC/3qaUQNyAMMBxWoFAf54EP6i5oL94o3LAiEkPP5DLA8KepR7AGRoOwC1eo8BSxzLAepcgQErMx8Byu2NATd9FQC+RA8D48lS/wt60P3nvBsKURVzAC7/GwOIRCsCUcAHCF3DyP6HIuD/oea69EvOoQPsd68Bglii/oFsKwrglccDmE1HAXcCUQIXSEMAR1KzAVBOrwEZsS8AAvUzAO9S2QIRWRsAi6C7A2vW0QHN1Z0CVzENAMOoUwUlEtcC/w4zAqr2HQNEhl7+T8obAasW3QHjmsz+psATAjSGjwKUi5sB2uju+ozmGvSvQ7T+gXcM/SxNBvW/qqEDgXazAL+d1wFPkBsKZK5nAiCgOP58DVUDPiuC/Yl+XwOxi+cCBpuk/v+WrQNqhqT+FFB7AKlEgQCCMPMDbW5o/1Ki+vmmNHEBKQrFA1uC9P67hrEDAxLm/5H/9wRuKqL+O9aY/FZodvvNP9b+UhsDAnK+WP3DtzcDYKobAkWUQQNcRW7/2nPo/JuzZwBddfcAEBjtAvYyTQGB7gUC9cBTBAxnWwHunf8BkVxtAsmvoP0YY8sF0M2VASdo2wCDU378+a7LApzX5Pu/GlsAproLAErVSvkGdAEC/JKfAEu/GPmU198HWJXfARMeaQP0+jkBw43bAP9WPwBkr878LaO3AADwewObohsCqFAHChAEUPsW8xkCp/dRAjcaCQByj+T57uHW/jMURwL0XdsAqXADB9u91wH6es0CZ3QbBnLNFvw=="
         },
         "yaxis": "y",
         "type": "scattergl"
        },
        {
         "hovertemplate": "color=4<br>x=%{x}<br>y=%{y}<extra></extra>",
         "legendgroup": "4",
         "marker": {
          "color": "#FFA15A",
          "opacity": 0.7,
          "symbol": "circle",
          "line": {
           "width": 0
          },
          "size": 4
         },
         "mode": "markers",
         "name": "4",
         "showlegend": true,
         "x": {
          "dtype": "f4",
          "bdata": "sGSeQBBuvT9IrA1B0Lw2QXPArUBMfKTBMnfwQDOL5EETuca8VEiJv69NgkE1sTpAYi8UPgD6u0BvEmO/hWUSQWKPkEHwcUhBsgAUwIVLfEGrvHpBDEieQY2JIUFGWBQ+SGEiQR5UIkHazktB6II4QWQRhj81bn9BdOXYQITyo8FnKiFAJwjdQfXBnEBKaPXAXI6nQa2GIULxca5B3jkJQV58fEHencjANaeHQbEKtkD6Kcu/I0pgQCZA5sAwEYVB8f3SQFAzNkEUuEZB34IAQiPOycDVrS5BMUhgQXtPpUFq/WpBoMs2QXNQwEAei4C+iXYWQGXb774EpnhBVlNTwOb9q0FrmKdBLJo9QcZdocFSbu9Ai/UZQdNbFEE25JpB6E/uQPueJkDpwK1BlOoDQOgttEFh9F7AOLDvPqiiIMB+LrhBRyiyQTk2I0HRoThBBe+JQVOFdMAY2CNBZKGbQJxRfUHBSi3AhuMTwI28CkEeBqJAsFRYwJJykEExAJ9BTM8YQbNt27+Z/6lBb2nMwEViU0Ex3YVBquGtQOmUtsCtRUBBRVKOQRguv0F4dDxBD28vQC+7Ob+lBbY/Ta6jQSGsA0ETX6JB+VZbQNzIWT9nyXlBijaKQKyRXsA65F1B6uEsQcSEj0AoytBAA1MWwq74m0F4xVBAq/IsQclVwMBJpubAZAYUQpm9GUBzMbdBOoXkQLX5iUHDn4JB/jGGQfyV10DhAC1As+ObQb535kDxzffAeNtJQXo+qkGneE9BqRJ/QZZcgUGSvBdBTdA5QVCjEEDK8m5AL9i1QExn/0D0v+RBYATgPqhQA0EJe74/2M3zwCcoXUGR7njAk0JAQRwPM8AziMRBzv1/QVXPrkHDSglBjZYhQtVwLsAc4AE84Me1PxTgFUGNWIXAtb5hQNxWTEH50KLBHGQdQXmpd0FbTupARWenQbYEZEGpCYdB7z0ZQZH2E0L33BFBfgSoQehhZkFuphNABiXaQExZTEF3YLK/Eg2AQdaWXkEbAqO/Edptv3L7B740yoZBqLe3QUxqr0E63+NAj6QRQqz0qj/XSi9BH9iOQYapi0B2sQ9BU0kCQjxrCUGX/aRBNtjUP0AidkHbovHB0+uvQd2oyT9eti1B+D3NPtzn00Az0JlBaSq5QQ=="
         },
         "xaxis": "x",
         "y": {
          "dtype": "f4",
          "bdata": "J6gowouLQcJnC/rBzcYPwus57MEFgwTC0L3+wX+wEsLzDh3CF5oXwhmR8cEB3CbCFjMUwkHoBMK8tx7C4Qi7wUZAgsFu+tXBz1kqwuyHwsCi7BXBs3DlwbJQ2cGWJyTCsni4wUxh/8Gw2AbCoFLQwaweK8KY0nzBrL0EwqAMnMHjlB/CfqAQwrAU8MEQzizCROY5wkZGtkDs6c3BVrDXwU4txcDBEi7Cc9jzwZz87MFYXBbCREAjwqGqIsIu+3HA11cSwvcDQcELWxDCPJvsv75ZJ8KqdQPCqyvTwSxH6sBrAADCjG6ywZAKG8L2bjXCfSEfwpg9EsIho1rB2a4lwhgDycHhzeXB+AkJwh4knsFQoOLBhmK/wUaFFsLWa/C/mqrswQ1nN8KE1c7Bl2sUwjYp/sGEBCrCkzYfwqs4G8KzTRLCD5/6we8BssFRiNHBpFJwwfpBGMJoQ9TBfC/Uwbt28cELyg/CfDsPwqatIsJLEd/BNtQVwhsIUMBz91y/FhkOwtf3GML6fDXC1f8rwnqa+8HdU0nBl6bYwardMcJJ4wvCELtMwVNQMsK/6d7BwZc3wkdHD8Luoj/CFNIuwUPGFsINgtnAxIQOwgCZMcKEtlrBWPbqwXKXJMKfDvPBjW8WwvU7FMK+vtTBnc04wV6HysGygxTCt9OzwVPILsJc1CvCSlNXwPAkJMJnF4u/Q40twr8NM8EytjrB2kfnP6G8zMH76xnCs0TlwcF9GMLS0x/CbBndwSQywsHXm7zB0Gr0wdvZgsB4lwbC78/gwVziDsJhchHCfVEfwqBv/8HNIhDCuhocwqHlJMLxhiHCoU0gwhIrCMJDOSnC/rFCwm0oN8LYCDPCFoGdwJ3mA8L4cg/ClBa1QMnpNsLhISjCN39AwqGVIsJkqhvCCEQLwh+4ycGDCp3BGuwEwmEHb8EqwSDCoOkBwsCUgcGMxjvBPPoKwkUgRsCe7hfCwMP4wCStNsHdPd3Bxisuwiw6CMJz9yfCxTdPwe9m78F7eSnCg8UywqjMNcJPCuzB/Hr3wXH99cG5syDCnXCHwAxfGcIGCsrBokNTwBUCFMIv6vTBDv7vvzwC9cF/T+bBy9gLwjVEAcJIjAPChn7twWvrFcLOzB/CLK8pwvt5z8Hly8vB0KQBwg=="
         },
         "yaxis": "y",
         "type": "scattergl"
        },
        {
         "hovertemplate": "color=9<br>x=%{x}<br>y=%{y}<extra></extra>",
         "legendgroup": "9",
         "marker": {
          "color": "#19d3f3",
          "opacity": 0.7,
          "symbol": "circle",
          "line": {
           "width": 0
          },
          "size": 4
         },
         "mode": "markers",
         "name": "9",
         "showlegend": true,
         "x": {
          "dtype": "f4",
          "bdata": "41PCQUmzz0H+K51BhS5YQYyav0FMEo9BxZ5wQZL7xkEJLbFBDemXQaT3gkHeXntB1sdQQdRfu0GU0p9BLG+ZQeHexEEHvmlBv/tZwagCjEFasoZB5cLJQXC+n0H5MpJBX1XTQZFbU0HhiVXBqGqmQWDaukH1AZ9B8KWBQQTpnEF6QENBf8WPQWlzoEFfFz5CO06tQYDgkkHmTd1BAirQQRxWmEFz+5VBMzHRQTJijkHp5q9Bu4+SQWDGEcAwq0pB31OoQXQKWsGtUpJBlTSMQbqOukGgc4pBqW1lQavvjkGEp5tBxe7DQWnBrkGGP0pBS/LMQVN9vkHtEstBSA+TQQsTp0EduVBBCJVfQfSzcUGzZrVBSxmjQQ+sU0EvC9BBIXGKQUICd0FzIZFBmZGdQXJWskEucbZBrpSbQXoQkkGQ1L5BZK23QYTDjEHWlbhBMLeoQUGOUkGCBYxBJCJLQaWTWkEAYK5B7XCKQY3gu0ETRXtBj6V3QSO3vUHswJVBVMSoQVI2y0H5hjBB5q6uQY3BwEGhtaFBr21dQU3WsEFBGiJBhiOdQbx1pEGKDyXC2NA1QRUatEFFVphBKLyeQbIjTUGKBL5BxBnqQMdRQkFqES3C3PmWQcqumD+GueBBKtqbQSlJZUH+w1lB/KOAQS+9sUEDYIRB7Q6IQQ1ALUEgRapBeGmsQdGCt0FetplBfiR4QaCk0kEM7tNBoSAjQZx8okGnm75B67KmQRemrEGQY6RBiCuFQat9c0EgjpdBQ+QwQX4Ry0EWzLVB6dGiQRPtgkEpxVrAJYbSQZi7VMEj/p1BBVaFQU1gqEHuyqdBzn8mQWlOwkEWM15BuJaPQd1mqEH/tdZBMliWP499SEE/WJZBraauQSkUukHXGtzBWC/HQR/jbMBrlYxB/YyyQRrZJEHaF3lBfgOYQbRfT0Hos0xBxW6KQRkfZEEZw8tBhEaRQaatiEHidqxBAv+iQY9bx0FcPb1BLXlSQWlZlUHqB5pBCGKawNKPkkFv/0FBSxmyQX/ynUE="
         },
         "xaxis": "x",
         "y": {
          "dtype": "f4",
          "bdata": "AdAowiFI7cCoz5HBdhIewqlS+MDoiLHBnlvjwRLEFEBpUBrBLcM7wPX5L8JL+EDCBfciwmGWEMIcvhXCBIuOwXGnJ8JjGCTCd4RbwSJ7m8FfAhjC6gAXwgmDQcLVeULCG4ANwnOjK8JDpd7AeLIbwpqiMsIK5qrBeMszwj8JfsGRQDjCyzgqwmiorcFyPQVCg6IfwrTrM8Ld0gHCG2bgwcDoicF2Fh/Cw/vNwXuHDcLsoFDBYRoBwjnnoEBo9S7CYJGNwTa928DNehTCHXm0wVBMgMEVyR/Ch2E9wq0L+MGLtgnC3IDdwfiAbMFKDiDCCNIKwtpPO8HUuOnB0EU0wsxXDsI/ihnCkAc0wkaDO8IeR4rBuvAgwpydQsKlD+bAUXQowgxULMLRTBfCRd8ywswtecEhLE/BVnEZwrEmA8I6PnDBwCWmwR0JFMJSL93AxattwcgwK8KB1bXBfBA5wr4OJsJXRxHC538HwkvkOsFevRLCZowTwtDe0sCMbAHCb4IIwsV7BcKVxi3CuVhTwbx618BZsDHCmIA1wnuHmcGIiSjCrKkvwuQqnsEZ8idBT/o4wmnmncGoSxHCl9lxwdaw8cH8XxrBqjsXwdr9rsGK3SVBQ4sZwph39cGWQwLC+3UlwjwwQsJQ4xzC+BIOwhfNd8GpGTrC4sQKwpmSKsL+/RXCsM1BwZ95GcLvjC3C4EE4wnmUUsEGrhPC9NonwhkNNMJFLiXB1CQlwrbxmsEUWobBWIk8woZVHMJPzT7CTXk7wuyJZsFTOx/Cc7JjwT3uRMIBep5AzSHrwSel5UElj6XB7u8fwovNU8FGuyPCou8+ws8gDsJxrS7CMdM2ws40hcE+oazBysn1wSRdIcL0nw/CGNUDwUStXsHMbWhBtN0XwjOcI8FqjNfB8LmHwbelM8JXCSvCKsL9wcYcSMLwyUjCSgwjwvG6JcIUbAnCX0X1wdOaLMLEyg/C8CoewkkO2sFJZr/Ba7LdwQx/9cHCkJnBl1TXQJ4OBcIG8ibC+LMkwS7qBcI="
         },
         "yaxis": "y",
         "type": "scattergl"
        },
        {
         "hovertemplate": "color=5<br>x=%{x}<br>y=%{y}<extra></extra>",
         "legendgroup": "5",
         "marker": {
          "color": "#FF6692",
          "opacity": 0.7,
          "symbol": "circle",
          "line": {
           "width": 0
          },
          "size": 4
         },
         "mode": "markers",
         "name": "5",
         "showlegend": true,
         "x": {
          "dtype": "f4",
          "bdata": "s2ggPhYTCsI2Dh7Ba4mRwRPIJcGXogbCMCxgQQQyfMH1IaLBuyUrwRFEJ8EWCsHBVYIrQaRpmcE48hXBrY5dwUrv+8FcNyJBZjFswf7V28FeM/fBgFcQQRQLL0GhezzBkEG/wYbbjMETejFBa04OQVP6kcG2JR9BOs8Gwmf2R8F8XbDBvAAswRNOocGDKXjCJY9KwYJ+lcGNG/nByQwrwY1Py8FHRrzBd3YzwtC8wsEAfhxBRo6oQJ0/n8FqcsjBV/dLQfYgY8Hle63Bow6JwZUpgcGBvXDB+FtnwbBK7sHdMlvBn+R5wR9ZSEH3MsrBFepkwhAep8EHoQJBMXQTQejxu0BSaTrB5g0NwnkKHsIrQsPB6LqkwYnhucH/2i5B2BbzwXFA4sBTba5A61/NwTgfMEHwq8vAOr6ewaKHUMHk+YvBjzqewW4JEEFLZCY/bGDIwTqaiME68W3BKoTOwWfincHqEo/BnMkkwd0MhMFQlOjBY6UGQUpQysDq471AjwobwvAiwMGy70DBuBFpwRGREMG5tzFB0uvVwWs+lsHpYSJBCojDQCoPpcE6y5fBB1OwwbFttsGAn9XBzFAHwtfiS8H9Ov/ASblGwbi+HsERJ3lBqo2AwcvCrcFGOLXBQb8GwjYeiMFUOG7B38ZVwRvp2sEOLevBYIwZwSZMgED9pZrBlzACwoFmicF6uWXCJ9WmwSR3UMFBqwFBTpccwtMlR8ErmLjBqQOKwQY0d8IxgwZB1y5mwU+RyECRMTnBSCDewCBGCcJWb2DBvDq4wR1Nj8E8TsZAinm5QOKmGEFM1ObAwfQqweeSFsI2LzpBdVSTwYi/HsJNIAjBVmQFwvFjgcGvepLBF/TqwdWzj8GIyrnBRtXIwaQNcMFEeO7BYjbGwT75scEKrTdBhguZwa6I4cFa/kRBGiQrQbjgosFCFGLBuaPBwRl1esE="
         },
         "xaxis": "x",
         "y": {
          "dtype": "f4",
          "bdata": "9DQUwa1VM0F/d0dB0/1DQZThV0HaazpBUs4KPrXockGE56VAv1YhQReYQEHdRIpAPhUZQHLkO0GyfTRB48fNQIFcOEFXfJDAxvElQZB7GUEawUlBVL1XQDukd0CA4HFBifu/QJ+3REGma7tAgkhjQLQXfsCvFD3AATwmQQDTCEHPcB1CR9EXQQ1dgUCpmgA/3RheQcGQy0B/xnRBr1gpQXOIpEBDP71AbV3rQEMxS0EYD36/1CL1P1imrECyVl/BrNqGv2BPV0F6VCBC8dJGQbjQ4kDULtFA45yiQPwN+kCqviRB/KhgQTEuO79sHW3AHDIQQUhBEkLdBlNAMZm/QA3tB8CSSIBB4DYqQb2WzsD2ACNBKy6CQHvliUCc45FA5jtYQZsnu8Fwb55AGryTQKJyoD6atXxBuTULQIKzvEBDE8RAw8ZAQB121L9nxNfBVlFpwJ1EFUFUNONAcfIgQZwI/UA4xUlAgNYzQRwMOUEndsxAg0/rv2PZfUGXbZlASjSpwONCI0EKLlZBy5g8Qb2ZDkHV87ZAyy8MQVBWI0FeWw8/9FYhQCIVK0FiAeJAJDSWwNovm0AUzU3BVNI6QYFvNUGITLPB8FprQXc0XUFcx6bBBjh/QbnKXEHrPT5Ah39UQdcZuUBNkAlB7+bOQOpI8sBX8BZC3LMdQaCMoEBaM/zB9P3HwOyp3UBCyAxBS5IGQZxKNEH4WmFAugm1wHNtEUFpGEhAglI7QRvi9j4rjH5Adg7GQNE0pj5NhEVBhIhaQbjX2sCvcU1Brgm8PieSWEFtjBvAEM6+P9JHQD9i+F9BJxRCQTDOqkG+i9k+NJwoQVk+0sDUNEVB1M4pQadsWUGJCxdB/ULwQM8fL0F7tJxAVebuQF6+KEERfBNByefgQNcp1EC1ig1AVgqAQAryLkAbNOQ/y8DCv/q0ST9YfAlBc72TQY3FPkE="
         },
         "yaxis": "y",
         "type": "scattergl"
        },
        {
         "hovertemplate": "color=6<br>x=%{x}<br>y=%{y}<extra></extra>",
         "legendgroup": "6",
         "marker": {
          "color": "#B6E880",
          "opacity": 0.7,
          "symbol": "circle",
          "line": {
           "width": 0
          },
          "size": 4
         },
         "mode": "markers",
         "name": "6",
         "showlegend": true,
         "x": {
          "dtype": "f4",
          "bdata": "L8INwmD0BMIJLgDCgqv7wT8YC8JBXQvC/5UKwm5yC8JgSAnC1ZsXwl3vD8KXIw/C3YcPwsEdD8LSBQfCvUcBwu9z/cHRkBfCOUkBwndwCMI31xTCSpTvwVU5GcLUzOXBfizuwdoeF8LGR+/BbksdwlScCcJGgAvCpPkBwhQiHMKCqR7CDDkIwkZfAcLDmb/BmC4RwmxvBsKTfvvBAoEdwvTpGcJ4/QbC5gb3wUwS1sFNoQnC0hoJwoj3A8KhAhXCSKf3wZ6nAsJKrA3CfjcDwjOgDMKgvhDCmdMFwkex68Fwha3B8P8AwsB4CsJzrRbCstfbwSNlBMLoOwrCuH8Ywu8sGcLxg/TBWfkBwiinAcIMYfTBms8Xwm6OE8KXPOTBp7UcwtV7BcLCdNjBG97xwQh7G8Ku7xbCIqcCwsuWD8JMBwfCC/TqwX2CBMITbiPCEPAPwu2VCsKt7wzCEeqewaWEBMLRnQbCxqvhwcbUJcIW0APCjgf4wcfeAcK3wQ3CvwAUwrnr8cFgi9TBBicOwmPxEsLt1/lBCMysweQu5cFbxBHCRgfnwarzAMLOTfHBk/wGwl6UCMIDrAPCGNv/wb4uAcLuqg3Cz/fswQrpAMJtTgzCGeshwrW9BcJ4zifC3djowaWKD8LOL9rB45bpwQUbEMKlhQTCtEkowr3a/cEhmu3BS1YAwvhzGMJz0xzCSSUCwqVWzMEbIQbCrlcJwqBbBMJB3AnCABvzwX8QAcJwFijCiT4HwnIT7sESTgjCEKQMwkzrCsKR7e3B89EEwjEh6cEWmgzCHIIEwpOPpsEmAgXCjywhwk5Y+8F7NBHCXrf0wZG0FMI/5vDBjqALwom29cFnWOnBAqvuwaPbAsKBEAHCphHmwRJ0EsKNA+rBaXjswcpY+MEmCRHCjDUMwqlQB8JHE//BHqvvweaX+MFflfPBtf4Qwg=="
         },
         "xaxis": "x",
         "y": {
          "dtype": "f4",
          "bdata": "WFAFwhMis8GI+wfCX/4/wblQFMJzZALC9+GNwchm9MHzyabBwGSVwbWqAcIira3BBoNawVT9UsHfLPbBE9eBwa08AcJodmrBoBD6waooPMHNNQnCtCSgwKC7+cHxq1nB0aTUwDnrlcF3CArC37zbwRl658FR3vzB/AGTwdKlqcGZVQ7B1XKnwdVvRcER9QDCTxeFwXtlA8EbDBPCT/rMwb/N0MH/bQHC0OYzwd+5LcGeEQrCwFnewW7elMGogBLCxz0gwU/dqsFnOejBbQ6YwULLpsFwqw7CDo3swQD9gsFKvxTC+7wuwaJFFML4StbB19E/wa3PxcEBpRXBj9gMwuY+CsK1flTBoFxRwW8vusEa55PB6SgHwvBgcsFYPVDBD++zwf/hyMFywzLBwgiXwTMmv8E5NcvBxZgXwnWwbsH6fMLBs+zIwNNEBsJ8pgvB6VAEwqFEScG7UcjBttj+wfu7G8KXkADCroS0wR1i88C4xMDBJ+4JwSJP/cF0q5bBk5X4wfaNO8HOUibB2IyIwW3JEsJZRhRBJO+CwBdREMFs5cTBele4wJoRFsGkaRnBeZoDwnpZi8E94hPC8KuOwRFW3cEAIwvC30TZwJdiFsIwx63BAqa9wZ0T1MF7eafBCAFwwR10tcGLshjBYmILwoN0DMI/DvLBF66mwdDOYcEKhirBLXTFwdah0sEtfg/CTYx+wY7oDMIF09rBf2/SwdtzCsFIyQLBARqgwc0AocHRJKfB/Qv8wIXIgsF4xsPBERUKwR4M3MFWpzDBDAQUwj9QOcEOQQ/C6Y7kwdQeFcI8Z5/BFx0Lwf7T2cEwJ3PBmFNhwX0i/cEoUBTCNgifwVtG/cFCxP7AMMo/wQizo8ETK1/BPKMlwV0dB8LZeFjBas0gwYRipsFfu7PB3i9FwVa/lsEBLgnCsmavwUEXkcB9fIHBjBWcwQ=="
         },
         "yaxis": "y",
         "type": "scattergl"
        },
        {
         "hovertemplate": "color=3<br>x=%{x}<br>y=%{y}<extra></extra>",
         "legendgroup": "3",
         "marker": {
          "color": "#FF97FF",
          "opacity": 0.7,
          "symbol": "circle",
          "line": {
           "width": 0
          },
          "size": 4
         },
         "mode": "markers",
         "name": "3",
         "showlegend": true,
         "x": {
          "dtype": "f4",
          "bdata": "URQSwvhHk8HxCNTBm/+qwe9zCsLwRARAezOzwV6Px8HcG+rBfMS9wabLpsFpdoLBHFPKwe8l/sG6QAnCpHtjwMfxocGO7c/BlBGAwftYnMGlCrTBh/2jwdWCFMIxze/BWc/zwfpq2cG1yRXC7+aVwSoOuMFjsTXBiSX2wfAW5kAytbjB8yiBQXl3y8GSmA7CVHvzwTxa3MHFhdHBKd8Cwgd4psGK2K3Bsqv+wUrosEE1YfzB4JTHwbXQQMFWlbXBmEQ3wTzZE8JNFcrBMawNwt/IxcF186bBT736wdLK/cEdFKfBkOybwac1WMGvh/dAodP7wfBy28ExL4LBE/WsQexuDsKTCtvB1/bLwbeKgcENOAbCqm3KwSsilcEf2LzBaAJ3wa0IscECI7rBACmYwYJWW8Ft4A3CgzEQwnSQssEP58XBcDXgweg/8cGDA/bBXlqbwRRr7cGxFQPClbKOwaVI/MEp373BKivDwTVz5sFG3IHBNj/HwU7OAcIHfcHBsneywYRkyME3s+jBGaEEwkAFssGdTFHBoeTGwRit4sHtL63BGxf6wEcHbcHa5MTBN0kQwm8G1cGeM+dAwKOawemxZ8E59wXCpuJ8wbTni8EZ+8XB5FiywRb2DsJsaLPBISb7wIAaf0FXQKnBl1nzwU8hBsGr5szBb0wvP3wBmcHJJ0bBtPqAwZyegsFgZcHBTsDQwX1IyMGFYs3BTecOwhO6DcKglkvBylrbwbbWWcGWewzCDuipwTeM5MH86z/BcglwwcgjucHj0aHBeRG2weih2MF4nLbBtY7Fwfvo28GA5t/BtUa6wett2MGCG97BApK2wTskzcFv77/B9R+WwRBOA8KAYEfB5ouWwXMvfkH51NjB7Tt5wencw8F6yNnBWjmkwaDmFcLdkPHBSY/OwSRTlMFSCeBBgxK4wdDgs8ED8atBnr2GwWIwB8IQEL7By4vAwVVnAsJXLonBO/r3weEIVMGqZsDBsPvawUEm8cFCsdjBJdnOwchHrcFhWO/BqR2Mwa68xMFAOQ7CqoSrwcbby8EKSw3CjvjIwW4TFsKjlObBAvy4wXEnjsFvQZDB2r+twa5slsH4foLB"
         },
         "xaxis": "x",
         "y": {
          "dtype": "f4",
          "bdata": "pBaxQXIa3UFdP6JBDywOQviDqEGcRytCbLG2QSlk8UET7qpBqVHYQat3y0Gq89hBrxF/QXx9BEI1z+lBh3GjQaeuvUGf4sFBmaflQe9i40FnFhpCwpj4QWc5nUGGnYFBRNwLQo1g00EczMpBloz8Qe/52UFEK7tBMfjqQZqUaMFaZdxBsiyPQXCTrUGKYcJBydv3QabMjkFTqrRBLpCcQU2/zEGAmLtBNejPQe2GLEBOVtVBIZClQVmrykHLGAlCTFWlQdS2ykHaCcxBcDiZQY0zEkKpXgpCFfSHQYKx/0EnZfhBltbRQTQ1mkEJ501B12fcQUtD6EE9neRBNvoqwiEVpUE3D5NBXeazQUozxEHUILNBdIQEQkDjskFJDnlB0inJQQmDcUHUBQpC3VuaQa/w/UH89OlB5afLQYfFmUHKMBRCp3KyQamZ2EHzQPtBtKbeQZ5yAEKXKPJBZ863QZBX0kGjP69BsHkNQmy+FULDsZtBXUb6QfE6sUG39tBB/4SbQSXhlkFECfhBGQ7qQUK6REF2taxBxHzbQYbMBkKkG2hBbxelQcsrr0HFsoFB8sa3QUMYrUE+uGjBYFOhQaQTvEHzBqpBJezcQd4DCELW1glCCyfuQZMhxEEhirhB8e6kQbW7ikGEbsRBQCPzQRYUyUFgJe1BYQ2ZwbZH/UEt6phBGZLCQUeAmkG/KoBB8/OhQaLel0HCighC26qqQRammUHgyN5B/z/rQZrYmUFTDZJBk/6zQch9AUJ7IKNBVj2+QXWq+UF4XJVBBDkZQpFS/UFLx6dBMhOwQbFBmUHZENxBlMkSQnnK+UEsi/lBFwTkQe0/+kFGUwpCvQLmQVGn6kHX6MJBpiyIQfYViUErpc1BkbPMQbQP/0HthhFCEVfkQbFl2EE9eMNB3Wv/QSPrskHLqy3BrZrKQYNu5UFd50VAuzAOwIbN0EGiLgNC/V0BQo4lAEJM7OJBgQZ6QRFK/0FgIrVBH9oRQlR/8kHgFqlBsdG4QbYQqUFyBKpBic4HQrc/BUIh5tNBGXKiQS4HekHK29RBe58OQvhZ2UHXa5pB8YaKQSRV2kFa0JVBgDIDQhj1xEH5JrpB"
         },
         "yaxis": "y",
         "type": "scattergl"
        },
        {
         "hovertemplate": "color=8<br>x=%{x}<br>y=%{y}<extra></extra>",
         "legendgroup": "8",
         "marker": {
          "color": "#FECB52",
          "opacity": 0.7,
          "symbol": "circle",
          "line": {
           "width": 0
          },
          "size": 4
         },
         "mode": "markers",
         "name": "8",
         "showlegend": true,
         "x": {
          "dtype": "f4",
          "bdata": "JRe8QBaUCcCsHB6/qicIwbVgwL/nlQU+/zJmwHweS8HkqUTB47QHwatRN8EUJ1PBtgOVwMGlJUG9+CTBcpHyQOd9HcI5ZuHBdLJtwGuqpcF106y/KeH8wT4RhcEWaJRArhD4wMtXDsEo4uQ+ntsCwRnOQb8O/TXBL59UwarzdsDlLTY/Cpy6wGyoRMBLA4RA2+PUwJKT179d2PzApckawklQMkDUTd/BcHwkQPeoccFsx4DBH9WkwTGUAsBDVPe/W2StvXVjK8H2kOPBc2AMvshAm0C05bW/SW2LvwdOk8BcJs3AsdW9wBHApMHZRdlAGLDFQJN/isCK2ILApYbJv9l7/ME/J3nA4weHQRVGjMGIUxzBawQlwf5m1sEazoe+DTJ9wZsCYcBoKxbB9W6uwGVQBsDe/AXC6k0NwnjiR8HYhH3ASXpiwcGpcT+d1h/BTOjBwWww2UEF8CY+c/PxP876FsAnYojA49WpwIn1ZMCb4oG9BbG0v1LvYMACKDRBzLYSwQJ1ucDyoJvB+AQKwZEI8T/4xDNA3v8rwbz4IcGTMQHBPPuav2i6i8HKwAc/MoqUwYY0CsFEYt3AbP0BwSjIaMDrs5LBwKn6wFdTVMEtuz/B/DWHwObZh8BNJHHA4xkavyaJCsI6wGk/hF2ZQCOGDL5PavnADjELwfuvGcGZVpK/6lVdwbNUYcFpBIzBRnF3P8LkEUJlyEXBKWvyv5R4Z8HYvuBAkzyPQHymbcHyoyrB+e43wbmvYj0NHTBA2mYNwSdYxsALgb8/4VElwuQ0G8ENikHBgtIBwOnrx8B6WCXBdnqwv1AZNsHaghnA998FwcZZIMEl0QHBYCIYv0rQjsEb/odBt3MkwS63M8HoVHPC/FEKvxiHpUAimDpAMps5wSdjJUEoWmnAgBuiwKSy4MFoXAzAMxhdwTzNq8Ajn2/BS0bzQJ3cF0AFZuDBttcawcreW8H+6W7BlGeJQODz3MBkHqA/JTCMQH8aR8EANbvAbiLtP5SRjUGKR9jB"
         },
         "xaxis": "x",
         "y": {
          "dtype": "f4",
          "bdata": "zB4bQc+EDMHtwh5B+ILJwISi4EA/nYbArZMYv3JqKr+kFWQ/szRbQG0DL8C6GJu+3o2YwKjwuMDFES5AY44nQfzxAkDAuCZBkIA3wL7X9T2cuApBQRsOQSl0sTyKPRhBqSzhwB8RksDCjRk+RpE9PW/4AcF02wPBG4Iuwalec0DVz6Q/sehBwJTcsMCaHSFBrCDgvjntv8BRuhzBFEdmv8w+OEHaHjpByUgzQSguF8FHWfLAuOLTwFQdYj80Zdy/RYt/QM4KrEFaggVCO3bNv0C/WUH2V6q/jJA3QUeltD8tAprAUhS2u5YtsUEy9TlB8PpGQYgP9cG2eHNAFV3hQBviGkEOuhrA7lEZQTL6UMDsPjjBJUu8wKUUPEG3DcVA0RiYwK3rPkG8YAfAwEkFwYF777+GmcxBRPYSQQBuu8AnIBhB50NmwKFUHEHNqcg/zqBXwConDMKLUfRAWH8gQYLXTsGX8d0/Sc9tvh9PPr8AptVADvgjQWm0HMF+zD/BHpLkwDL2fECKrTXBnP+VQM5l7EA4IJhAJ3IPwYLn/cB3fR/BdAfDwNcxvsBeQTlBErV2PdG0RkByMhzA+fbZv9j7MUHVCj/ApuJpwLr+LMHXNQLBNRKTwGnhRUC+4qm9Vx01wCCVo0H9oytBttdSQePoAcHBbeq/+fCtQOKezMDUL9U+TzjXwKvDHsBqE8C+TIONwH1rMEKAWwTBRXuYPzz3IsAzrflAAZlLQc3VbcC2jBk/9kaVwGzsf0B/SNXAkSe+P0XC+sClTgtBtCYiQXjWJcH6G+a/LktlQIz5/D8VznO9yMACQPUPpsCZPWQ+jf4FwSgeqj+KX4zACNsTQVveRsDUiShBBFxCQEUpkb9wSXa/oeG0QONyAEEyNg5BciwwwdCGpsAokDZBzFoBwgxFEkEjznTA1pSZvvrWj8AO9RHBjpMkQWHm50ABksxBZK01wQanob8R9QPB8s4MQagzT8AGPMo/dA8sQe5x1T80ahLAD84mQVwWFkH6ZDdB"
         },
         "yaxis": "y",
         "type": "scattergl"
        }
       ],
       "layout": {
        "template": {
         "data": {
          "barpolar": [
           {
            "marker": {
             "line": {
              "color": "rgb(17,17,17)",
              "width": 0.5
             },
             "pattern": {
              "fillmode": "overlay",
              "size": 10,
              "solidity": 0.2
             }
            },
            "type": "barpolar"
           }
          ],
          "bar": [
           {
            "error_x": {
             "color": "#f2f5fa"
            },
            "error_y": {
             "color": "#f2f5fa"
            },
            "marker": {
             "line": {
              "color": "rgb(17,17,17)",
              "width": 0.5
             },
             "pattern": {
              "fillmode": "overlay",
              "size": 10,
              "solidity": 0.2
             }
            },
            "type": "bar"
           }
          ],
          "carpet": [
           {
            "aaxis": {
             "endlinecolor": "#A2B1C6",
             "gridcolor": "#506784",
             "linecolor": "#506784",
             "minorgridcolor": "#506784",
             "startlinecolor": "#A2B1C6"
            },
            "baxis": {
             "endlinecolor": "#A2B1C6",
             "gridcolor": "#506784",
             "linecolor": "#506784",
             "minorgridcolor": "#506784",
             "startlinecolor": "#A2B1C6"
            },
            "type": "carpet"
           }
          ],
          "choropleth": [
           {
            "colorbar": {
             "outlinewidth": 0,
             "ticks": ""
            },
            "type": "choropleth"
           }
          ],
          "contourcarpet": [
           {
            "colorbar": {
             "outlinewidth": 0,
             "ticks": ""
            },
            "type": "contourcarpet"
           }
          ],
          "contour": [
           {
            "colorbar": {
             "outlinewidth": 0,
             "ticks": ""
            },
            "colorscale": [
             [
              0,
              "#0d0887"
             ],
             [
              0.1111111111111111,
              "#46039f"
             ],
             [
              0.2222222222222222,
              "#7201a8"
             ],
             [
              0.3333333333333333,
              "#9c179e"
             ],
             [
              0.4444444444444444,
              "#bd3786"
             ],
             [
              0.5555555555555556,
              "#d8576b"
             ],
             [
              0.6666666666666666,
              "#ed7953"
             ],
             [
              0.7777777777777778,
              "#fb9f3a"
             ],
             [
              0.8888888888888888,
              "#fdca26"
             ],
             [
              1,
              "#f0f921"
             ]
            ],
            "type": "contour"
           }
          ],
          "heatmap": [
           {
            "colorbar": {
             "outlinewidth": 0,
             "ticks": ""
            },
            "colorscale": [
             [
              0,
              "#0d0887"
             ],
             [
              0.1111111111111111,
              "#46039f"
             ],
             [
              0.2222222222222222,
              "#7201a8"
             ],
             [
              0.3333333333333333,
              "#9c179e"
             ],
             [
              0.4444444444444444,
              "#bd3786"
             ],
             [
              0.5555555555555556,
              "#d8576b"
             ],
             [
              0.6666666666666666,
              "#ed7953"
             ],
             [
              0.7777777777777778,
              "#fb9f3a"
             ],
             [
              0.8888888888888888,
              "#fdca26"
             ],
             [
              1,
              "#f0f921"
             ]
            ],
            "type": "heatmap"
           }
          ],
          "histogram2dcontour": [
           {
            "colorbar": {
             "outlinewidth": 0,
             "ticks": ""
            },
            "colorscale": [
             [
              0,
              "#0d0887"
             ],
             [
              0.1111111111111111,
              "#46039f"
             ],
             [
              0.2222222222222222,
              "#7201a8"
             ],
             [
              0.3333333333333333,
              "#9c179e"
             ],
             [
              0.4444444444444444,
              "#bd3786"
             ],
             [
              0.5555555555555556,
              "#d8576b"
             ],
             [
              0.6666666666666666,
              "#ed7953"
             ],
             [
              0.7777777777777778,
              "#fb9f3a"
             ],
             [
              0.8888888888888888,
              "#fdca26"
             ],
             [
              1,
              "#f0f921"
             ]
            ],
            "type": "histogram2dcontour"
           }
          ],
          "histogram2d": [
           {
            "colorbar": {
             "outlinewidth": 0,
             "ticks": ""
            },
            "colorscale": [
             [
              0,
              "#0d0887"
             ],
             [
              0.1111111111111111,
              "#46039f"
             ],
             [
              0.2222222222222222,
              "#7201a8"
             ],
             [
              0.3333333333333333,
              "#9c179e"
             ],
             [
              0.4444444444444444,
              "#bd3786"
             ],
             [
              0.5555555555555556,
              "#d8576b"
             ],
             [
              0.6666666666666666,
              "#ed7953"
             ],
             [
              0.7777777777777778,
              "#fb9f3a"
             ],
             [
              0.8888888888888888,
              "#fdca26"
             ],
             [
              1,
              "#f0f921"
             ]
            ],
            "type": "histogram2d"
           }
          ],
          "histogram": [
           {
            "marker": {
             "pattern": {
              "fillmode": "overlay",
              "size": 10,
              "solidity": 0.2
             }
            },
            "type": "histogram"
           }
          ],
          "mesh3d": [
           {
            "colorbar": {
             "outlinewidth": 0,
             "ticks": ""
            },
            "type": "mesh3d"
           }
          ],
          "parcoords": [
           {
            "line": {
             "colorbar": {
              "outlinewidth": 0,
              "ticks": ""
             }
            },
            "type": "parcoords"
           }
          ],
          "pie": [
           {
            "automargin": true,
            "type": "pie"
           }
          ],
          "scatter3d": [
           {
            "line": {
             "colorbar": {
              "outlinewidth": 0,
              "ticks": ""
             }
            },
            "marker": {
             "colorbar": {
              "outlinewidth": 0,
              "ticks": ""
             }
            },
            "type": "scatter3d"
           }
          ],
          "scattercarpet": [
           {
            "marker": {
             "colorbar": {
              "outlinewidth": 0,
              "ticks": ""
             }
            },
            "type": "scattercarpet"
           }
          ],
          "scattergeo": [
           {
            "marker": {
             "colorbar": {
              "outlinewidth": 0,
              "ticks": ""
             }
            },
            "type": "scattergeo"
           }
          ],
          "scattergl": [
           {
            "marker": {
             "line": {
              "color": "#283442"
             }
            },
            "type": "scattergl"
           }
          ],
          "scattermapbox": [
           {
            "marker": {
             "colorbar": {
              "outlinewidth": 0,
              "ticks": ""
             }
            },
            "type": "scattermapbox"
           }
          ],
          "scattermap": [
           {
            "marker": {
             "colorbar": {
              "outlinewidth": 0,
              "ticks": ""
             }
            },
            "type": "scattermap"
           }
          ],
          "scatterpolargl": [
           {
            "marker": {
             "colorbar": {
              "outlinewidth": 0,
              "ticks": ""
             }
            },
            "type": "scatterpolargl"
           }
          ],
          "scatterpolar": [
           {
            "marker": {
             "colorbar": {
              "outlinewidth": 0,
              "ticks": ""
             }
            },
            "type": "scatterpolar"
           }
          ],
          "scatter": [
           {
            "marker": {
             "line": {
              "color": "#283442"
             }
            },
            "type": "scatter"
           }
          ],
          "scatterternary": [
           {
            "marker": {
             "colorbar": {
              "outlinewidth": 0,
              "ticks": ""
             }
            },
            "type": "scatterternary"
           }
          ],
          "surface": [
           {
            "colorbar": {
             "outlinewidth": 0,
             "ticks": ""
            },
            "colorscale": [
             [
              0,
              "#0d0887"
             ],
             [
              0.1111111111111111,
              "#46039f"
             ],
             [
              0.2222222222222222,
              "#7201a8"
             ],
             [
              0.3333333333333333,
              "#9c179e"
             ],
             [
              0.4444444444444444,
              "#bd3786"
             ],
             [
              0.5555555555555556,
              "#d8576b"
             ],
             [
              0.6666666666666666,
              "#ed7953"
             ],
             [
              0.7777777777777778,
              "#fb9f3a"
             ],
             [
              0.8888888888888888,
              "#fdca26"
             ],
             [
              1,
              "#f0f921"
             ]
            ],
            "type": "surface"
           }
          ],
          "table": [
           {
            "cells": {
             "fill": {
              "color": "#506784"
             },
             "line": {
              "color": "rgb(17,17,17)"
             }
            },
            "header": {
             "fill": {
              "color": "#2a3f5f"
             },
             "line": {
              "color": "rgb(17,17,17)"
             }
            },
            "type": "table"
           }
          ]
         },
         "layout": {
          "annotationdefaults": {
           "arrowcolor": "#f2f5fa",
           "arrowhead": 0,
           "arrowwidth": 1
          },
          "autotypenumbers": "strict",
          "coloraxis": {
           "colorbar": {
            "outlinewidth": 0,
            "ticks": ""
           }
          },
          "colorscale": {
           "diverging": [
            [
             0,
             "#8e0152"
            ],
            [
             0.1,
             "#c51b7d"
            ],
            [
             0.2,
             "#de77ae"
            ],
            [
             0.3,
             "#f1b6da"
            ],
            [
             0.4,
             "#fde0ef"
            ],
            [
             0.5,
             "#f7f7f7"
            ],
            [
             0.6,
             "#e6f5d0"
            ],
            [
             0.7,
             "#b8e186"
            ],
            [
             0.8,
             "#7fbc41"
            ],
            [
             0.9,
             "#4d9221"
            ],
            [
             1,
             "#276419"
            ]
           ],
           "sequential": [
            [
             0,
             "#0d0887"
            ],
            [
             0.1111111111111111,
             "#46039f"
            ],
            [
             0.2222222222222222,
             "#7201a8"
            ],
            [
             0.3333333333333333,
             "#9c179e"
            ],
            [
             0.4444444444444444,
             "#bd3786"
            ],
            [
             0.5555555555555556,
             "#d8576b"
            ],
            [
             0.6666666666666666,
             "#ed7953"
            ],
            [
             0.7777777777777778,
             "#fb9f3a"
            ],
            [
             0.8888888888888888,
             "#fdca26"
            ],
            [
             1,
             "#f0f921"
            ]
           ],
           "sequentialminus": [
            [
             0,
             "#0d0887"
            ],
            [
             0.1111111111111111,
             "#46039f"
            ],
            [
             0.2222222222222222,
             "#7201a8"
            ],
            [
             0.3333333333333333,
             "#9c179e"
            ],
            [
             0.4444444444444444,
             "#bd3786"
            ],
            [
             0.5555555555555556,
             "#d8576b"
            ],
            [
             0.6666666666666666,
             "#ed7953"
            ],
            [
             0.7777777777777778,
             "#fb9f3a"
            ],
            [
             0.8888888888888888,
             "#fdca26"
            ],
            [
             1,
             "#f0f921"
            ]
           ]
          },
          "colorway": [
           "#636efa",
           "#EF553B",
           "#00cc96",
           "#ab63fa",
           "#FFA15A",
           "#19d3f3",
           "#FF6692",
           "#B6E880",
           "#FF97FF",
           "#FECB52"
          ],
          "font": {
           "color": "#f2f5fa"
          },
          "geo": {
           "bgcolor": "rgb(17,17,17)",
           "lakecolor": "rgb(17,17,17)",
           "landcolor": "rgb(17,17,17)",
           "showlakes": true,
           "showland": true,
           "subunitcolor": "#506784"
          },
          "hoverlabel": {
           "align": "left"
          },
          "hovermode": "closest",
          "mapbox": {
           "style": "dark"
          },
          "paper_bgcolor": "rgb(17,17,17)",
          "plot_bgcolor": "rgb(17,17,17)",
          "polar": {
           "angularaxis": {
            "gridcolor": "#506784",
            "linecolor": "#506784",
            "ticks": ""
           },
           "bgcolor": "rgb(17,17,17)",
           "radialaxis": {
            "gridcolor": "#506784",
            "linecolor": "#506784",
            "ticks": ""
           }
          },
          "scene": {
           "xaxis": {
            "backgroundcolor": "rgb(17,17,17)",
            "gridcolor": "#506784",
            "gridwidth": 2,
            "linecolor": "#506784",
            "showbackground": true,
            "ticks": "",
            "zerolinecolor": "#C8D4E3"
           },
           "yaxis": {
            "backgroundcolor": "rgb(17,17,17)",
            "gridcolor": "#506784",
            "gridwidth": 2,
            "linecolor": "#506784",
            "showbackground": true,
            "ticks": "",
            "zerolinecolor": "#C8D4E3"
           },
           "zaxis": {
            "backgroundcolor": "rgb(17,17,17)",
            "gridcolor": "#506784",
            "gridwidth": 2,
            "linecolor": "#506784",
            "showbackground": true,
            "ticks": "",
            "zerolinecolor": "#C8D4E3"
           }
          },
          "shapedefaults": {
           "line": {
            "color": "#f2f5fa"
           }
          },
          "sliderdefaults": {
           "bgcolor": "#C8D4E3",
           "bordercolor": "rgb(17,17,17)",
           "borderwidth": 1,
           "tickwidth": 0
          },
          "ternary": {
           "aaxis": {
            "gridcolor": "#506784",
            "linecolor": "#506784",
            "ticks": ""
           },
           "baxis": {
            "gridcolor": "#506784",
            "linecolor": "#506784",
            "ticks": ""
           },
           "bgcolor": "rgb(17,17,17)",
           "caxis": {
            "gridcolor": "#506784",
            "linecolor": "#506784",
            "ticks": ""
           }
          },
          "title": {
           "x": 0.05
          },
          "updatemenudefaults": {
           "bgcolor": "#506784",
           "borderwidth": 0
          },
          "xaxis": {
           "automargin": true,
           "gridcolor": "#283442",
           "linecolor": "#506784",
           "ticks": "",
           "title": {
            "standoff": 15
           },
           "zerolinecolor": "#283442",
           "zerolinewidth": 2
          },
          "yaxis": {
           "automargin": true,
           "gridcolor": "#283442",
           "linecolor": "#506784",
           "ticks": "",
           "title": {
            "standoff": 15
           },
           "zerolinecolor": "#283442",
           "zerolinewidth": 2
          }
         }
        },
        "xaxis": {
         "anchor": "y",
         "domain": [
          0,
          1
         ],
         "title": {
          "text": "z1"
         }
        },
        "yaxis": {
         "anchor": "x",
         "domain": [
          0,
          1
         ],
         "title": {
          "text": "z2"
         }
        },
        "legend": {
         "title": {
          "text": "color"
         },
         "tracegroupgap": 0
        },
        "margin": {
         "t": 50,
         "l": 0,
         "r": 0,
         "b": 0
        },
        "width": 850,
        "height": 650,
        "title": {
         "text": "Latent Space (t-SNE)"
        }
       },
       "config": {
        "plotlyServerURL": "https://plot.ly"
       }
      }
     },
     "metadata": {},
     "output_type": "display_data"
    }
   ],
   "execution_count": 14
  },
  {
   "cell_type": "code",
   "execution_count": 32,
   "id": "3f2c6a6b91636c46",
   "metadata": {
    "ExecuteTime": {
     "end_time": "2025-10-10T15:28:01.490162Z",
     "start_time": "2025-10-10T15:28:01.488179Z"
    }
   },
   "outputs": [
    {
     "name": "stdout",
     "output_type": "stream",
     "text": [
      "Saving to: models/safetensors/vae/InspoResNetVAE_vae_test_l13_base_16_block_2.safetensors\n"
     ]
    }
   ],
   "source": [
    "vae_save_name =  f'{vae.__class__.__name__}_{run_name}'\n",
    "vae_path = os.path.join(model_save_path, f'vae/{vae_save_name}.safetensors')\n",
    "if os.path.exists(vae_path):\n",
    "    print(f\"Path: {vae_path} \\n already exists! Appending run_id to make unique\")\n",
    "    vae_path = vae_path.split('.safetensors')[0] + str(wandb.run.id) + '.safetensors'\n",
    "print(f\"Saving to: {vae_path}\")"
   ]
  },
  {
   "cell_type": "code",
   "execution_count": 33,
   "id": "bbed106df9ed1c6c",
   "metadata": {},
   "outputs": [],
   "source": [
    "save_file(vae.state_dict(), vae_path)"
   ]
  },
  {
   "cell_type": "markdown",
   "id": "c6880ab42c71b1d6",
   "metadata": {},
   "source": [
    "### Encode VAE"
   ]
  },
  {
   "cell_type": "code",
   "execution_count": 34,
   "id": "e7e1403e47e6ed12",
   "metadata": {},
   "outputs": [
    {
     "name": "stdout",
     "output_type": "stream",
     "text": [
      "Processing train split...\n",
      "\n"
     ]
    },
    {
     "name": "stderr",
     "output_type": "stream",
     "text": [
      "Loader: MNIST train Batch 469/469: 100%|██████████████████████████████████████████████████████████████████████████████████████████████████████████████████████████████████████| 469/469 [00:01<00:00, 251.02it/s]\n"
     ]
    },
    {
     "name": "stdout",
     "output_type": "stream",
     "text": [
      "Processing test split...\n",
      "\n"
     ]
    },
    {
     "name": "stderr",
     "output_type": "stream",
     "text": [
      "Loader: MNIST test Batch 79/79: 100%|███████████████████████████████████████████████████████████████████████████████████████████████████████████████████████████████████████████| 79/79 [00:00<00:00, 243.78it/s]\n"
     ]
    }
   ],
   "source": [
    "vae.eval()\n",
    "encode_dataset(vae, train_dl, test_dl, suffix=suffix)"
   ]
  },
  {
   "cell_type": "markdown",
   "id": "509476dd47161936",
   "metadata": {},
   "source": [
    "### Flow Matching"
   ]
  },
  {
   "cell_type": "code",
   "execution_count": null,
   "id": "b83bad509a4198d4",
   "metadata": {},
   "outputs": [],
   "source": [
    "# load vae if needed\n",
    "name_of_vae_tensor = 'sp_vae.safetensors'\n",
    "path_to_vae = os.path.join(model_save_path, '/vae/', name_of_vae_tensor)\n",
    "vae = ResNetVAE().to(device)\n",
    "vae.load_state_dict(load_file(vae_path))\n",
    "vae.eval()"
   ]
  },
  {
   "cell_type": "code",
   "execution_count": 35,
   "id": "83ee395949645a8e",
   "metadata": {},
   "outputs": [],
   "source": [
    "# load latent encoded data\n",
    "latent_data_path = os.path.join('data', vae.encoder.__class__.__name__ + '_' + suffix + '/MNIST/')\n",
    "latent_train_ds, latent_test_ds = load_encoded_dataset(latent_data_path)\n",
    "latent_train_dl = DataLoader(latent_train_ds, batch_size=batch_size, shuffle=True)\n",
    "latent_test_dl  = DataLoader(latent_test_ds, batch_size=batch_size, shuffle=False)"
   ]
  },
  {
   "cell_type": "code",
   "execution_count": 36,
   "id": "8217fb04fa0b57c3",
   "metadata": {},
   "outputs": [],
   "source": [
    "project = 'dl_experimentation'\n",
    "def train_flow(model, train_loader, test_loader, name='flow_model', pretrained_model=None, epochs=20, lr=0.001, warp_fn=None, new_points_every=1, spatial=True):\n",
    "    wandb.finish()\n",
    "    wandb.init(project=project, name=name, reinit='finish_previous')\n",
    "    wandb.config.update({\n",
    "        \"epochs\": epochs,\n",
    "        \"batch_size\": train_loader.batch_size,\n",
    "        \"learning_rate\": lr,\n",
    "        \"model\": model.__class__.__name__,\n",
    "        \"optimizer\": \"Adam\"\n",
    "    })\n",
    "\n",
    "    criterion = nn.MSELoss()\n",
    "    optimizer = optim.Adam(model.parameters(), lr=lr)\n",
    "\n",
    "    global_step = 1\n",
    "\n",
    "    for epoch in range(epochs):\n",
    "        # Training phase\n",
    "        model.train()\n",
    "        pbar = tqdm(train_loader, desc=f'Epoch {epoch+1}/{epochs}', leave=False)\n",
    "\n",
    "        for batch_idx, (data, _) in enumerate(pbar):\n",
    "            optimizer.zero_grad()\n",
    "\n",
    "            # Get data and create a sample from it to calc movement\n",
    "            target_x = data.to(device)\n",
    "            sampled_x = torch.randn_like(target_x)\n",
    "            B = sampled_x.size(0)\n",
    "\n",
    "            if global_step % new_points_every == 0:\n",
    "                if pretrained_model:   # ReFlow\n",
    "                    target_x = integrate_path(pretrained_model, sampled_x, step_fn=rk4_step, warp_fn=warp_time, n_steps=20)\n",
    "\n",
    "            t  = torch.rand(B, 1, device=sampled_x.device, dtype=sampled_x.dtype)\n",
    "\n",
    "            if warp_fn: t = warp_fn(t)\n",
    "            \n",
    "            if spatial: \n",
    "                # t4 = torch.zeros_like(sampled_x) + t\n",
    "                t4 = t.view(B, 1, 1, 1)\n",
    "                interpolated_x = sampled_x * (1 - t4) + target_x * t4\n",
    "            else:\n",
    "                interpolated_x = sampled_x * (1-t) + target_x * t\n",
    "\n",
    "            \n",
    "            line_directions = target_x - sampled_x\n",
    "            \n",
    "            drift = model(interpolated_x, t)\n",
    "            loss = criterion(drift, line_directions)\n",
    "\n",
    "            loss.backward()\n",
    "            optimizer.step()\n",
    "\n",
    "            with torch.no_grad():\n",
    "                cos_sim = F.cosine_similarity(drift, line_directions, dim=1).mean()\n",
    "\n",
    "            wandb.log({\n",
    "                \"step\": global_step,\n",
    "                \"train_loss\": loss.item(),\n",
    "                \"cos_sim\": cos_sim.item(),\n",
    "                \"drift\": drift.norm(dim=1).mean().item(),\n",
    "            })\n",
    "            global_step += 1\n",
    "\n",
    "    return model"
   ]
  },
  {
   "cell_type": "code",
   "execution_count": 37,
   "id": "83c5f120e74e7280",
   "metadata": {},
   "outputs": [],
   "source": [
    "flow = FlatVelocityNet(13).to(device)"
   ]
  },
  {
   "cell_type": "code",
   "execution_count": 40,
   "id": "261bd767b0b677b5",
   "metadata": {},
   "outputs": [],
   "source": [
    "flow_name = f'flow_{suffix}'\n",
    "train_flow(flow, latent_train_dl, latent_test_dl, name=flow_name, epochs=100, spatial=False)"
   ]
  },
  {
   "cell_type": "code",
   "execution_count": 41,
   "id": "4c608b35e32cef3b",
   "metadata": {},
   "outputs": [
    {
     "name": "stdout",
     "output_type": "stream",
     "text": [
      "Saving to: models/safetensors/flow/FlatVelocityNet_flow_l13_base_16_block_2.safetensors\n"
     ]
    }
   ],
   "source": [
    "flow_save_name =  f'{flow.__class__.__name__}_{flow_name}'\n",
    "flow_path = os.path.join(model_save_path, f'flow/{flow_save_name}.safetensors')\n",
    "if os.path.exists(flow_path):\n",
    "    print(f\"Path: {flow_path} \\n already exists! Appending run_id to make unique\")\n",
    "    flow_path = flow_path.split('.safetensors')[0] + str(wandb.run.id) + '.safetensors'\n",
    "print(f\"Saving to: {flow_path}\")"
   ]
  },
  {
   "cell_type": "code",
   "execution_count": 42,
   "id": "3804733a85e8cdbb",
   "metadata": {},
   "outputs": [],
   "source": [
    "save_file(flow.state_dict(), flow_path)"
   ]
  },
  {
   "cell_type": "markdown",
   "id": "5d6ddb4d062f4e6e",
   "metadata": {
    "jp-MarkdownHeadingCollapsed": true
   },
   "source": [
    "#### Pretrained Model"
   ]
  },
  {
   "cell_type": "code",
   "execution_count": null,
   "id": "797c9dc82fdd7b02",
   "metadata": {},
   "outputs": [],
   "source": [
    "name_of_flow_tensor = 'flow_2.safetensors'\n",
    "path_to_flow = os.path.join(model_save_path, '/flow/', name_of_flow_tensor)"
   ]
  },
  {
   "cell_type": "code",
   "execution_count": null,
   "id": "6a06dab455c20304",
   "metadata": {},
   "outputs": [],
   "source": [
    "teacher_flow = ConvFlowNet(1).to(device)\n",
    "teacher_flow.load_state_dict(load_file())"
   ]
  },
  {
   "cell_type": "code",
   "execution_count": null,
   "id": "61af454d337d167a",
   "metadata": {},
   "outputs": [],
   "source": []
  },
  {
   "cell_type": "markdown",
   "id": "a540bd159320cb82",
   "metadata": {},
   "source": [
    "#### Visualize Flow"
   ]
  },
  {
   "cell_type": "code",
   "execution_count": 43,
   "id": "27512484e35889f",
   "metadata": {},
   "outputs": [],
   "source": [
    "basic = BasicModel(vae, flow, (13,)).to(device)"
   ]
  },
  {
   "cell_type": "code",
   "execution_count": 70,
   "id": "595f758d44013b8b",
   "metadata": {},
   "outputs": [
    {
     "data": {
      "image/png": "[encoded data removed]",
      "text/plain": [
       "<Figure size 1000x400 with 10 Axes>"
      ]
     },
     "metadata": {},
     "output_type": "display_data"
    }
   ],
   "source": [
    "samples = basic.generate_samples(10, 15)\n",
    "plot_generated(samples)"
   ]
  },
  {
   "cell_type": "code",
   "execution_count": 56,
   "id": "eb6675544e083e46",
   "metadata": {},
   "outputs": [
    {
     "ename": "NameError",
     "evalue": "name 'flow1' is not defined",
     "output_type": "error",
     "traceback": [
      "\u001B[31m---------------------------------------------------------------------------\u001B[39m",
      "\u001B[31mNameError\u001B[39m                                 Traceback (most recent call last)",
      "\u001B[36mCell\u001B[39m\u001B[36m \u001B[39m\u001B[32mIn[56]\u001B[39m\u001B[32m, line 2\u001B[39m\n\u001B[32m      1\u001B[39m \u001B[38;5;66;03m## For comparing two flows\u001B[39;00m\n\u001B[32m----> \u001B[39m\u001B[32m2\u001B[39m x1, x2 = comparative_generate_samples(\u001B[43mflow1\u001B[49m, flow2, vae, \u001B[32m5\u001B[39m, \u001B[32m10\u001B[39m)\n\u001B[32m      3\u001B[39m \u001B[38;5;28mprint\u001B[39m(\u001B[33m\"\u001B[39m\u001B[33mNormal Flow\u001B[39m\u001B[33m\"\u001B[39m)\n\u001B[32m      4\u001B[39m plot_generated(x1)\n",
      "\u001B[31mNameError\u001B[39m: name 'flow1' is not defined"
     ]
    }
   ],
   "source": [
    "## For comparing two flows\n",
    "x1, x2 = comparative_generate_samples(flow1, flow2, vae, 5, 10)\n",
    "print(\"Normal Flow\")\n",
    "plot_generated(x1)\n",
    "print(\"Re Flow\")\n",
    "plot_generated(x2)"
   ]
  },
  {
   "cell_type": "code",
   "execution_count": null,
   "id": "198c5570-76f9-4b9e-b59f-8d6cfe6a2562",
   "metadata": {},
   "outputs": [],
   "source": []
  }
 ],
 "metadata": {
  "kernelspec": {
   "display_name": "Python 3 (ipykernel)",
   "language": "python",
   "name": "python3"
  },
  "language_info": {
   "codemirror_mode": {
    "name": "ipython",
    "version": 3
   },
   "file_extension": ".py",
   "mimetype": "text/x-python",
   "name": "python",
   "nbconvert_exporter": "python",
   "pygments_lexer": "ipython3",
   "version": "3.13.7"
  }
 },
 "nbformat": 4,
 "nbformat_minor": 5
}
