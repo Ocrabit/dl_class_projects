{
 "cells": [
  {
   "cell_type": "code",
   "id": "1ee462f7003a232b",
   "metadata": {
    "ExecuteTime": {
     "end_time": "2025-10-14T00:42:47.795127Z",
     "start_time": "2025-10-14T00:42:36.486660Z"
    }
   },
   "source": [
    "import os.path\n",
    "\n",
    "import torch\n",
    "import wandb\n",
    "import torchvision\n",
    "from torchvision.transforms import ToTensor, RandomAffine, RandomErasing\n",
    "from torch import nn, optim, utils\n",
    "from torch.utils.data import DataLoader\n",
    "from torch.nn.utils import clip_grad_norm_\n",
    "from torchvision.datasets import MNIST\n",
    "import torch.nn.functional as F\n",
    "from torch_ema import ExponentialMovingAverage\n",
    "from tqdm.notebook import tqdm\n",
    "from safetensors.torch import save_file, load_file\n",
    "\n",
    "\n",
    "# Customs\n",
    "from helpers import load_encoded_dataset, encode_dataset\n",
    "from helpers import rk4_step, integrate_path, warp_time, BasicModel\n",
    "from helpers import plot_latent_space, comparative_generate_samples, plot_generated, create_model_suffix, load_checkpoint\n",
    "\n",
    "from models import ResNetVAE, log_example_images, InspoResNetVAE\n",
    "from models import SimpleFlowModel, FlatVelocityNet, ConvFlowNet\n",
    "from models import test_inference, test_inference_spatial\n",
    "\n",
    "from flow_train.train import train as flow_train"
   ],
   "outputs": [
    {
     "name": "stderr",
     "output_type": "stream",
     "text": [
      "C:\\Users\\ocrab\\AppData\\Roaming\\Python\\Python313\\site-packages\\pydantic\\_internal\\_generate_schema.py:2249: UnsupportedFieldAttributeWarning: The 'repr' attribute with value False was provided to the `Field()` function, which has no effect in the context it was used. 'repr' is field-specific metadata, and can only be attached to a model field using `Annotated` metadata or by assignment. This may have happened because an `Annotated` type alias using the `type` statement was used, or if the `Field()` function was attached to a single member of a union type.\n",
      "  warnings.warn(\n",
      "C:\\Users\\ocrab\\AppData\\Roaming\\Python\\Python313\\site-packages\\pydantic\\_internal\\_generate_schema.py:2249: UnsupportedFieldAttributeWarning: The 'frozen' attribute with value True was provided to the `Field()` function, which has no effect in the context it was used. 'frozen' is field-specific metadata, and can only be attached to a model field using `Annotated` metadata or by assignment. This may have happened because an `Annotated` type alias using the `type` statement was used, or if the `Field()` function was attached to a single member of a union type.\n",
      "  warnings.warn(\n"
     ]
    }
   ],
   "execution_count": 1
  },
  {
   "cell_type": "code",
   "id": "538eef30a1284b44",
   "metadata": {
    "ExecuteTime": {
     "end_time": "2025-10-14T00:42:48.295Z",
     "start_time": "2025-10-14T00:42:47.802955Z"
    }
   },
   "source": [
    "device = torch.device('cuda' if torch.cuda.is_available() else 'mps' if torch.backends.mps.is_available() else 'cpu')\n",
    "\n",
    "model_save_path = 'models/safetensors/'\n",
    "\n",
    "wandb.login()\n",
    "wandb.finish()"
   ],
   "outputs": [
    {
     "name": "stderr",
     "output_type": "stream",
     "text": [
      "wandb: Currently logged in as: marcocassar (marcocassar-belmont-university) to https://api.wandb.ai. Use `wandb login --relogin` to force relogin\n"
     ]
    }
   ],
   "execution_count": 2
  },
  {
   "cell_type": "code",
   "id": "7b5ecd97e0199247",
   "metadata": {
    "ExecuteTime": {
     "end_time": "2025-10-14T00:42:48.636868Z",
     "start_time": "2025-10-14T00:42:48.569618Z"
    }
   },
   "source": [
    "train_transforms = torchvision.transforms.Compose([\n",
    "    ToTensor(),\n",
    "    # uncomment next lines for extra augmentations\n",
    "    #RandomAffine(degrees=15, translate=(0.1, 0.1)),\n",
    "    #RandomErasing(p=0.2, scale=(0.02, 0.1))\n",
    "])\n",
    "train_ds = MNIST(root='./data', train=True,  download=True, transform=train_transforms)\n",
    "test_ds  = MNIST(root='./data', train=False, download=True, transform=ToTensor())\n",
    "print(f\"Data set lengths: train: {len(train_ds)}, test: {len(test_ds)}\")\n",
    "\n",
    "batch_size = 128\n",
    "train_dl = DataLoader(train_ds, batch_size=batch_size, num_workers=2, shuffle=True, persistent_workers=True)\n",
    "test_dl = DataLoader(test_ds, batch_size=batch_size, num_workers=2, shuffle=False, persistent_workers=True)"
   ],
   "outputs": [
    {
     "name": "stdout",
     "output_type": "stream",
     "text": [
      "Data set lengths: train: 60000, test: 10000\n"
     ]
    }
   ],
   "execution_count": 3
  },
  {
   "cell_type": "markdown",
   "id": "5cc2dfa4996952b",
   "metadata": {
    "jp-MarkdownHeadingCollapsed": true
   },
   "source": [
    "### VAE"
   ]
  },
  {
   "cell_type": "code",
   "id": "5bd3586ab63181b5",
   "metadata": {
    "ExecuteTime": {
     "end_time": "2025-10-14T00:42:48.650250Z",
     "start_time": "2025-10-14T00:42:48.645196Z"
    }
   },
   "source": [
    "project = \"vae_conv_testing\"\n",
    "recon_criterion = F.binary_cross_entropy_with_logits\n",
    "\n",
    "def train_vae_old(\n",
    "    model, train_loader, val_loader, name=None,\n",
    "    epochs=20, lr=2e-3, weight_decay=5e-5,\n",
    "    beta_final=0.005, warmup_epochs=10, grad_clip=5.0, ema=0.97, spatial=False\n",
    "):\n",
    "    device = next(model.parameters()).device\n",
    "\n",
    "    # ---- W&B ----\n",
    "    wandb.finish()\n",
    "    wandb.init(project=project, name=name, reinit='finish_previous')\n",
    "    wandb.config.update({\n",
    "        \"epochs\": epochs,\n",
    "        \"batch_size\": batch_size,\n",
    "        \"learning_rate\": lr,\n",
    "        \"model\": model.__class__.__name__,\n",
    "        \"optimizer\": \"Adam\",\n",
    "        \"device\": str(device),\n",
    "    })\n",
    "\n",
    "    optimizer = optim.Adam(model.parameters(), lr=lr, weight_decay=weight_decay)\n",
    "    global_step = 0\n",
    "    train_loss_avg = None\n",
    "\n",
    "    for epoch in range(epochs):\n",
    "        model.train()\n",
    "\n",
    "        beta = beta_final * min((epoch + 1) / warmup_epochs, 1.0)\n",
    "\n",
    "        pbar = tqdm(train_loader, desc=f\"Epoch {epoch+1}/{epochs}\")\n",
    "        for batch_idx, (data, _) in enumerate(pbar):\n",
    "            data = data.to(device)\n",
    "            optimizer.zero_grad()\n",
    "\n",
    "            z, x_hat, mu, log_var, z_hat = model(data)\n",
    "\n",
    "            recon_loss = recon_criterion(x_hat, data, reduction=\"sum\") / data.size(0)\n",
    "            \n",
    "            kl = -0.5 * (1 + log_var - mu.pow(2) - log_var.exp())\n",
    "            kl = kl.view(kl.size(0), -1).sum(dim=1).mean()\n",
    "            \n",
    "            loss = recon_loss + beta * kl\n",
    "\n",
    "            # loss, recon_loss, kl = vae_loss(data, x_hat, mu, log_var, beta)\n",
    "\n",
    "            loss.backward()\n",
    "            # if grad_clip is not None:\n",
    "            #     clip_grad_norm_(model.parameters(), grad_clip)\n",
    "            optimizer.step()\n",
    "\n",
    "            train_loss_avg = loss.item() if train_loss_avg is None else ema * train_loss_avg + (1 - ema) * loss.item()\n",
    "\n",
    "            wandb.log({\n",
    "                \"step\": global_step,\n",
    "                \"train_loss_ema\": train_loss_avg,\n",
    "                \"train_loss\": loss.item(),\n",
    "                \"recon_loss\": recon_loss.item(),\n",
    "                \"kl_loss\": kl.item(),\n",
    "                \"beta\": beta,\n",
    "                \"beta*kl\": (beta * kl).item(),\n",
    "            })\n",
    "            global_step += 1\n",
    "            pbar.set_postfix(Loss=f\"{train_loss_avg:.4f}\", Recon=f\"{recon_loss.item():.4f}\", KLw=f\"{(beta*kl).item():.5f}\")\n",
    "\n",
    "        # ---- validation ----\n",
    "        model.eval()\n",
    "        val_loss = val_recon = val_kl = 0.0\n",
    "        mu_stats = []\n",
    "\n",
    "        with torch.no_grad():\n",
    "            for data, _ in val_loader:\n",
    "                data = data.to(device)\n",
    "                z, x_hat, mu, log_var, z_hat = model(data)\n",
    "\n",
    "                recon = recon_criterion(x_hat, data)\n",
    "                kl = -0.5 * torch.mean(1 + log_var - mu.pow(2) - log_var.exp())\n",
    "                loss = recon + beta * kl\n",
    "\n",
    "                val_loss += loss.item(); val_recon += recon.item(); val_kl += kl.item()\n",
    "                mu_stats.append(mu)\n",
    "\n",
    "        n = len(val_loader)\n",
    "        val_loss /= n; val_recon /= n; val_kl /= n\n",
    "\n",
    "        mu_all = torch.cat(mu_stats, dim=0)\n",
    "        mu_mean = mu_all.mean().item(); mu_std = mu_all.std().item()\n",
    "\n",
    "        wandb.log({\n",
    "            \"epoch\": epoch + 1,\n",
    "            \"val_loss\": val_loss,\n",
    "            \"val_recon_loss\": val_recon,\n",
    "            \"val_kl_loss\": val_kl,\n",
    "            \"mu_mean\": mu_mean,\n",
    "            \"mu_std\": mu_std,\n",
    "        })\n",
    "        # print(f\"Epoch {epoch+1:02d} | beta {beta:.3f} | val {val_loss:.4f} | recon {val_recon:.4f} | KL {val_kl:.4f} | μ_mean {mu_mean:.3f} μ_std {mu_std:.3f}\")\n",
    "\n",
    "        # visualize with sigmoid at eval-time only\n",
    "        log_example_images(model, val_loader.dataset, epoch + 1, spatial=spatial, n=5)\n",
    "\n",
    "    wandb.finish()\n",
    "    return val_loss"
   ],
   "outputs": [],
   "execution_count": 4
  },
  {
   "cell_type": "code",
   "id": "211b46fa1bff21cf",
   "metadata": {
    "ExecuteTime": {
     "end_time": "2025-10-14T00:42:48.660655Z",
     "start_time": "2025-10-14T00:42:48.654289Z"
    }
   },
   "source": [
    "def train_vae(\n",
    "    model, train_loader, val_loader, name=None,\n",
    "    epochs=20, lr=2e-3, weight_decay=5e-5,\n",
    "    beta_final=1.0, warmup_epochs=5, param_ema_decay=0.9999\n",
    "):\n",
    "    device = next(model.parameters()).device\n",
    "    \n",
    "    # Count parameters\n",
    "    total_params = sum(p.numel() for p in model.parameters())\n",
    "    latent_dim = model.latent_dim\n",
    "\n",
    "    spatial = len(model.latent_shape) > 1 if hasattr(model, 'latent_shape') else False\n",
    "\n",
    "    # W&B setup\n",
    "    wandb.finish()\n",
    "    wandb.init(project=project, name=name, reinit='finish_previous')\n",
    "\n",
    "    config_dict = {\n",
    "        \"epochs\": epochs,\n",
    "        \"batch_size\": train_loader.batch_size,\n",
    "        \"learning_rate\": lr,\n",
    "        \"model\": model.__class__.__name__,\n",
    "        \"optimizer\": \"Adam\",\n",
    "        \"device\": str(device),\n",
    "        \"total_params\": total_params,\n",
    "        \"latent_dim\": latent_dim,\n",
    "        \"latent_shape\": model.latent_shape,\n",
    "        \"param_ema_decay\": param_ema_decay,\n",
    "    }\n",
    "    if hasattr(model, 'config'):  # Add model config if avail\n",
    "        config_dict[\"model_config\"] = model.config\n",
    "    wandb.config.update(config_dict)\n",
    "    \n",
    "    recon_criterion = F.binary_cross_entropy_with_logits\n",
    "    optimizer = optim.Adam(model.parameters(), lr=lr, weight_decay=weight_decay)\n",
    "    ema = ExponentialMovingAverage(model.parameters(), decay=param_ema_decay)\n",
    "    \n",
    "    global_step = 0\n",
    "\n",
    "    for epoch in range(epochs):\n",
    "        model.train()\n",
    "        beta = beta_final * min((epoch + 1) / warmup_epochs, 1.0)\n",
    "        \n",
    "        pbar = tqdm(train_loader, desc=f\"Epoch {epoch+1}/{epochs}\")\n",
    "        for batch_idx, (data, _) in enumerate(pbar):\n",
    "            data = data.to(device)\n",
    "            optimizer.zero_grad()\n",
    "            \n",
    "            z, x_hat, mu, log_var, z_hat = model(data)\n",
    "            \n",
    "            recon_loss = recon_criterion(x_hat, data, reduction=\"sum\") / data.size(0)\n",
    "            kl = -0.5 * (1 + log_var - mu.pow(2) - log_var.exp())\n",
    "            kl = kl.view(kl.size(0), -1).sum(dim=1).mean()\n",
    "            loss = recon_loss + beta * kl\n",
    "            \n",
    "            loss.backward()\n",
    "            optimizer.step()\n",
    "            ema.update()\n",
    "            \n",
    "            wandb.log({\n",
    "                \"step\": global_step,\n",
    "                \"epoch\": epoch + 1,\n",
    "                \"val_mode\": False,\n",
    "                \"train_loss\": loss.item(),\n",
    "                \"recon_loss\": recon_loss.item(),\n",
    "                \"kl_loss\": kl.item(),\n",
    "                \"beta\": beta,\n",
    "                \"beta*kl\": (beta * kl).item(),\n",
    "            })\n",
    "            global_step += 1\n",
    "            pbar.set_postfix(Loss=f\"{loss.item():.4f}\", Recon=f\"{recon_loss.item():.4f}\", KLw=f\"{(beta*kl).item():.5f}\")\n",
    "        \n",
    "        # Validation with EMA parameters\n",
    "        model.eval()\n",
    "        val_loss = val_recon = val_kl = 0.0\n",
    "        mu_stats = []\n",
    "        mse_total = mae_total = ssim_total = psnr_total = 0.0\n",
    "        num_samples = 0\n",
    "        \n",
    "        with ema.average_parameters():\n",
    "            with torch.no_grad():\n",
    "                for data, _ in val_loader:\n",
    "                    data = data.to(device)\n",
    "                    z, x_hat, mu, log_var, z_hat = model(data)\n",
    "                    \n",
    "                    recon = recon_criterion(x_hat, data)\n",
    "                    kl = -0.5 * torch.mean(1 + log_var - mu.pow(2) - log_var.exp())\n",
    "                    loss = recon + beta * kl\n",
    "                    \n",
    "                    val_loss += loss.item()\n",
    "                    val_recon += recon.item()\n",
    "                    val_kl += kl.item()\n",
    "                    mu_stats.append(mu)\n",
    "                    \n",
    "                    # Reconstruction quality metrics\n",
    "                    x_hat_sigmoid = torch.sigmoid(x_hat)\n",
    "                    \n",
    "                    mse = F.mse_loss(x_hat_sigmoid, data, reduction='sum')\n",
    "                    mse_total += mse.item()\n",
    "                    \n",
    "                    mae = F.l1_loss(x_hat_sigmoid, data, reduction='sum')\n",
    "                    mae_total += mae.item()\n",
    "                    \n",
    "                    psnr = 10 * torch.log10(1.0 / (F.mse_loss(x_hat_sigmoid, data) + 1e-8))\n",
    "                    psnr_total += psnr.item() * data.size(0)\n",
    "                    \n",
    "                    # Correlation coefficient\n",
    "                    data_flat = data.view(data.size(0), -1)\n",
    "                    recon_flat = x_hat_sigmoid.view(data.size(0), -1)\n",
    "                    \n",
    "                    data_mean = data_flat.mean(dim=1, keepdim=True)\n",
    "                    recon_mean = recon_flat.mean(dim=1, keepdim=True)\n",
    "                    data_centered = data_flat - data_mean\n",
    "                    recon_centered = recon_flat - recon_mean\n",
    "                    correlation = (data_centered * recon_centered).sum(dim=1) / (\n",
    "                        torch.sqrt((data_centered**2).sum(dim=1)) * torch.sqrt((recon_centered**2).sum(dim=1)) + 1e-8\n",
    "                    )\n",
    "                    ssim_total += correlation.sum().item()\n",
    "                    \n",
    "                    num_samples += data.size(0)\n",
    "        \n",
    "        n = len(val_loader)\n",
    "        val_loss /= n\n",
    "        val_recon /= n\n",
    "        val_kl /= n\n",
    "        \n",
    "        mse_avg = mse_total / num_samples\n",
    "        mae_avg = mae_total / num_samples\n",
    "        psnr_avg = psnr_total / num_samples\n",
    "        ssim_avg = ssim_total / num_samples\n",
    "        \n",
    "        mu_all = torch.cat(mu_stats, dim=0)\n",
    "        mu_mean = mu_all.mean().item()\n",
    "        mu_std = mu_all.std().item()\n",
    "        \n",
    "        # Composite loss with complexity penalties\n",
    "        param_penalty = total_params / 1e6 * 0.1\n",
    "        latent_penalty = latent_dim / 100 * 0.05\n",
    "        composite_loss = val_loss + param_penalty + latent_penalty\n",
    "        \n",
    "        wandb.log({\n",
    "            \"epoch\": epoch + 1,\n",
    "            \"val_mode\": True,\n",
    "            \"val_loss\": val_loss,\n",
    "            \"composite_loss\": composite_loss,\n",
    "            \"param_penalty\": param_penalty,\n",
    "            \"latent_penalty\": latent_penalty,\n",
    "            \"val_recon_loss\": val_recon,\n",
    "            \"val_kl_loss\": val_kl,\n",
    "            \"mu_mean\": mu_mean,\n",
    "            \"mu_std\": mu_std,\n",
    "            \"val_mse\": mse_avg,\n",
    "            \"val_mae\": mae_avg,\n",
    "            \"val_psnr\": psnr_avg,\n",
    "            \"val_correlation\": ssim_avg,\n",
    "        })\n",
    "\n",
    "        with ema.average_parameters():\n",
    "            log_example_images(model, val_loader.dataset, epoch + 1, spatial=spatial, n=5)\n",
    "    \n",
    "    wandb.finish()\n",
    "    return model, ema"
   ],
   "outputs": [],
   "execution_count": 5
  },
  {
   "cell_type": "code",
   "id": "e7a735ba08de6ec9",
   "metadata": {
    "ExecuteTime": {
     "end_time": "2025-10-14T00:43:14.554835Z",
     "start_time": "2025-10-14T00:43:14.470519Z"
    }
   },
   "source": [
    "specifications = {\n",
    "    \"latent_shape\": (1,7,7),\n",
    "    \"base_channels\": 16, \n",
    "    \"blocks_per_level\": 2, \n",
    "    \"groups\": 1\n",
    "}\n",
    "latent_shape = (1,7,7)\n",
    "vae = InspoResNetVAE(**specifications).to(device)\n",
    "# latent_dim=3, act=nn.GELU, use_skips=True, use_bn=True, base_channels=32, blocks_per_level=3, groups=1, dropout=0.4"
   ],
   "outputs": [],
   "execution_count": 6
  },
  {
   "cell_type": "code",
   "id": "e5336126-9fb2-497c-8acc-7c8e0867138d",
   "metadata": {
    "ExecuteTime": {
     "end_time": "2025-10-14T00:43:16.233758Z",
     "start_time": "2025-10-14T00:43:16.230087Z"
    }
   },
   "source": [
    "total_params = sum(p.numel() for p in vae.parameters())\n",
    "trainable_params = sum(p.numel() for p in vae.parameters() if p.requires_grad)\n",
    "print(f\"Total parameters: {total_params}\")\n",
    "print(f\"Trainable parameters: {trainable_params}\")"
   ],
   "outputs": [
    {
     "name": "stdout",
     "output_type": "stream",
     "text": [
      "Total parameters: 394563\n",
      "Trainable parameters: 394563\n"
     ]
    }
   ],
   "execution_count": 7
  },
  {
   "cell_type": "code",
   "id": "e9bb5a39acd45894",
   "metadata": {
    "ExecuteTime": {
     "end_time": "2025-10-14T00:44:13.686361Z",
     "start_time": "2025-10-14T00:43:30.852643Z"
    }
   },
   "source": [
    "suffix = create_model_suffix(specifications)\n",
    "run_name = f\"vae_test_{suffix}\"\n",
    "vae, ema = train_vae(vae, train_dl, test_dl, name=run_name, epochs=5, warmup_epochs=5, beta_final=1)"
   ],
   "outputs": [
    {
     "data": {
      "text/plain": [
       "<IPython.core.display.HTML object>"
      ],
      "text/html": []
     },
     "metadata": {},
     "output_type": "display_data"
    },
    {
     "data": {
      "text/plain": [
       "<IPython.core.display.HTML object>"
      ],
      "text/html": [
       "Tracking run with wandb version 0.22.2"
      ]
     },
     "metadata": {},
     "output_type": "display_data"
    },
    {
     "data": {
      "text/plain": [
       "<IPython.core.display.HTML object>"
      ],
      "text/html": [
       "Run data is saved locally in <code>E:\\Pycharm\\dl_class_projects\\dl_experimentation\\wandb\\run-20251013_194330-znrpusm6</code>"
      ]
     },
     "metadata": {},
     "output_type": "display_data"
    },
    {
     "data": {
      "text/plain": [
       "<IPython.core.display.HTML object>"
      ],
      "text/html": [
       "Syncing run <strong><a href='https://wandb.ai/marcocassar-belmont-university/vae_conv_testing/runs/znrpusm6' target=\"_blank\">vae_test_l7x7_ba16_bl2_gr1</a></strong> to <a href='https://wandb.ai/marcocassar-belmont-university/vae_conv_testing' target=\"_blank\">Weights & Biases</a> (<a href='https://wandb.me/developer-guide' target=\"_blank\">docs</a>)<br>"
      ]
     },
     "metadata": {},
     "output_type": "display_data"
    },
    {
     "data": {
      "text/plain": [
       "<IPython.core.display.HTML object>"
      ],
      "text/html": [
       " View project at <a href='https://wandb.ai/marcocassar-belmont-university/vae_conv_testing' target=\"_blank\">https://wandb.ai/marcocassar-belmont-university/vae_conv_testing</a>"
      ]
     },
     "metadata": {},
     "output_type": "display_data"
    },
    {
     "data": {
      "text/plain": [
       "<IPython.core.display.HTML object>"
      ],
      "text/html": [
       " View run at <a href='https://wandb.ai/marcocassar-belmont-university/vae_conv_testing/runs/znrpusm6' target=\"_blank\">https://wandb.ai/marcocassar-belmont-university/vae_conv_testing/runs/znrpusm6</a>"
      ]
     },
     "metadata": {},
     "output_type": "display_data"
    },
    {
     "data": {
      "text/plain": [
       "Epoch 1/5:   0%|          | 0/469 [00:00<?, ?it/s]"
      ],
      "application/vnd.jupyter.widget-view+json": {
       "version_major": 2,
       "version_minor": 0,
       "model_id": "8219dfbf4b2042a4a1cd024c79196140"
      }
     },
     "metadata": {},
     "output_type": "display_data"
    },
    {
     "data": {
      "text/plain": [
       "Epoch 2/5:   0%|          | 0/469 [00:00<?, ?it/s]"
      ],
      "application/vnd.jupyter.widget-view+json": {
       "version_major": 2,
       "version_minor": 0,
       "model_id": "dd95bf9783d347f6a3c0935e3878cdc6"
      }
     },
     "metadata": {},
     "output_type": "display_data"
    },
    {
     "data": {
      "text/plain": [
       "Epoch 3/5:   0%|          | 0/469 [00:00<?, ?it/s]"
      ],
      "application/vnd.jupyter.widget-view+json": {
       "version_major": 2,
       "version_minor": 0,
       "model_id": "36f39d2247d64aac9dd1dcc84fe99629"
      }
     },
     "metadata": {},
     "output_type": "display_data"
    },
    {
     "data": {
      "text/plain": [
       "Epoch 4/5:   0%|          | 0/469 [00:00<?, ?it/s]"
      ],
      "application/vnd.jupyter.widget-view+json": {
       "version_major": 2,
       "version_minor": 0,
       "model_id": "f7854df975354e869eed0e5e06d86294"
      }
     },
     "metadata": {},
     "output_type": "display_data"
    },
    {
     "data": {
      "text/plain": [
       "Epoch 5/5:   0%|          | 0/469 [00:00<?, ?it/s]"
      ],
      "application/vnd.jupyter.widget-view+json": {
       "version_major": 2,
       "version_minor": 0,
       "model_id": "8d39cf05f427441d8f4a52420ce2e01f"
      }
     },
     "metadata": {},
     "output_type": "display_data"
    },
    {
     "data": {
      "text/plain": [
       "<IPython.core.display.HTML object>"
      ],
      "text/html": []
     },
     "metadata": {},
     "output_type": "display_data"
    },
    {
     "data": {
      "text/plain": [
       "<IPython.core.display.HTML object>"
      ],
      "text/html": [
       "<br>    <style><br>        .wandb-row {<br>            display: flex;<br>            flex-direction: row;<br>            flex-wrap: wrap;<br>            justify-content: flex-start;<br>            width: 100%;<br>        }<br>        .wandb-col {<br>            display: flex;<br>            flex-direction: column;<br>            flex-basis: 100%;<br>            flex: 1;<br>            padding: 10px;<br>        }<br>    </style><br><div class=\"wandb-row\"><div class=\"wandb-col\"><h3>Run history:</h3><br/><table class=\"wandb\"><tr><td>beta</td><td>▁▁▁▁▁▁▁▁▁▁▁▁▃▃▃▃▃▅▅▅▅▅▅▅▅▅▅▆▆▆▆▆▆▆██████</td></tr><tr><td>beta*kl</td><td>▁▂▂▂▂▂▂▂▂▂▄▄▄▄▄▅▆▅▆▅▅▆▇▆▇▇▇▇▇▇▇▇█▇▇█████</td></tr><tr><td>composite_loss</td><td>▁▃▅▇█</td></tr><tr><td>epoch</td><td>▁▁▁▁▁▁▁▁▁▁▃▃▃▃▃▃▃▃▅▅▅▅▅▆▆▆▆▆▆▆▆▆▆▆██████</td></tr><tr><td>kl_loss</td><td>▅▇██▇█▇▇▅▅▅▅▅▃▃▃▃▃▃▃▃▃▃▃▂▂▂▂▂▂▂▂▁▁▁▁▁▁▁▁</td></tr><tr><td>latent_penalty</td><td>▁▁▁▁▁</td></tr><tr><td>mu_mean</td><td>█▅▁▄▄</td></tr><tr><td>mu_std</td><td>█▅▃▁▁</td></tr><tr><td>param_penalty</td><td>▁▁▁▁▁</td></tr><tr><td>recon_loss</td><td>█▂▁▁▁▁▁▁▁▁▁▁▁▁▁▁▁▁▁▁▁▁▁▁▁▁▁▁▁▁▁▁▁▁▁▁▁▁▁▁</td></tr><tr><td>+9</td><td>...</td></tr></table><br/></div><div class=\"wandb-col\"><h3>Run summary:</h3><br/><table class=\"wandb\"><tr><td>beta</td><td>1</td></tr><tr><td>beta*kl</td><td>31.93892</td></tr><tr><td>composite_loss</td><td>0.81795</td></tr><tr><td>epoch</td><td>5</td></tr><tr><td>kl_loss</td><td>31.93892</td></tr><tr><td>latent_penalty</td><td>0.0245</td></tr><tr><td>mu_mean</td><td>-0.00905</td></tr><tr><td>mu_std</td><td>0.75228</td></tr><tr><td>param_penalty</td><td>0.03946</td></tr><tr><td>recon_loss</td><td>77.9321</td></tr><tr><td>+10</td><td>...</td></tr></table><br/></div></div>"
      ]
     },
     "metadata": {},
     "output_type": "display_data"
    },
    {
     "data": {
      "text/plain": [
       "<IPython.core.display.HTML object>"
      ],
      "text/html": [
       " View run <strong style=\"color:#cdcd00\">vae_test_l7x7_ba16_bl2_gr1</strong> at: <a href='https://wandb.ai/marcocassar-belmont-university/vae_conv_testing/runs/znrpusm6' target=\"_blank\">https://wandb.ai/marcocassar-belmont-university/vae_conv_testing/runs/znrpusm6</a><br> View project at: <a href='https://wandb.ai/marcocassar-belmont-university/vae_conv_testing' target=\"_blank\">https://wandb.ai/marcocassar-belmont-university/vae_conv_testing</a><br>Synced 5 W&B file(s), 5 media file(s), 0 artifact file(s) and 0 other file(s)"
      ]
     },
     "metadata": {},
     "output_type": "display_data"
    },
    {
     "data": {
      "text/plain": [
       "<IPython.core.display.HTML object>"
      ],
      "text/html": [
       "Find logs at: <code>.\\wandb\\run-20251013_194330-znrpusm6\\logs</code>"
      ]
     },
     "metadata": {},
     "output_type": "display_data"
    }
   ],
   "execution_count": 8
  },
  {
   "cell_type": "code",
   "id": "60e472d7a0183bbb",
   "metadata": {
    "ExecuteTime": {
     "end_time": "2025-10-14T00:44:24.820185Z",
     "start_time": "2025-10-14T00:44:20.037026Z"
    }
   },
   "source": [
    "plot_latent_space(vae, test_dl, use_3d=False, reducer='tsne')"
   ],
   "outputs": [
    {
     "data": {
      "application/vnd.plotly.v1+json": {
       "data": [
        {
         "hovertemplate": "color=7<br>x=%{x}<br>y=%{y}<extra></extra>",
         "legendgroup": "7",
         "marker": {
          "color": "#636efa",
          "opacity": 0.7,
          "symbol": "circle",
          "line": {
           "width": 0
          },
          "size": 4
         },
         "mode": "markers",
         "name": "7",
         "showlegend": true,
         "x": {
          "dtype": "f4",
          "bdata": "C2YfQqcFJEK+cCVC4Na6QcLbGkLJmgVCG/UeQkpRq0GWSiZC5e8qQkzjyEEtMrJBGyv4QYKz7kFsaR1CxZoEQoHIG0JXdBBCkN7rQfhmJELRJBxCK+ezQc/6u0F3rQxCymTzQTiY0EHX5QdCkswQQtz0KEKSehpCBIEWQsS1HUKHVgpCxPP4QWNzI0K/ph9Cdrf0QU/VHULGJNFBilIUQpibDkKMLiFCeU4CQgttEUJtpPxB638FQrxxrkGdQB5CklYgQto0s0F+mxdCFKEUQvQ/MkJLkuRBsvwLQj9MzUHj1BZC68C1QS0+GkImi91BIP4nQp2LF0LduQ9CAcFpQXoX+UE9wwxCDjrjQQyzFUJDiIVB8brEQaL5EUI4AxNC+KkcQmrBzUFSfupBVlAHQgBBGELTo/JBwCMbQnVOJkJdPBJCN3QmQmi3DkJ6jApCf73ZQZW3IUIeCsVBHisEQh9lwEFDUR5CZ1ouQoCxHkK0uRxClFIXQh20GkKGwhJCnkCvQdMgEEIzY/9BYcYHQkyrJEKuYeRB2JHLQU8t6kF25vtBG54gQoZRgkGlMuxB+J4IQqyXJEKCrb9BqsetQYjlFEI1BTFCE+QAQrVOFkJZ7iFC7Ar9QfonSb6F6gpCKSuTQTD3A0JV4yZClUG1QcAGuEG6k9RBlymYQU4/f0FcRhFChMg1QsWkCELygtpBhuULQh/J0UH+YklAFyf4QciviUEWAs1BuAkLQvenBkKGUwJCfgwBQrjuI0K23sdB5ZztQZqW00H8l0hAS4C0QYOFKkKuD+NB5of/QUwAD0JsYgRCjyDkQaYZV0HDFihC7v7IQW2sFkJzm/FBPUcDQo04zEE0fgxCTlSvQWmFH0KKlBBCOvzfQbQJCUIudeNBHV6kQeX3GUIOWwlC8AIEQk79+UFUC+RBVC7MQSl0u0HCcjJCaTsFQnsBK0JNeyVCSXzHQWCM/MCn7xBCUecrQgMkCEJztiRCg3YMQnnxJ0LpbxVC//QAQo7Z60FaJstBo2EaQnainEFP5PZBq6UuQnrtDkJDAQ1CZ3cfQqEwAEIVSU9BPGHKQeQtIEInCChCunHsQQ=="
         },
         "xaxis": "x",
         "y": {
          "dtype": "f4",
          "bdata": "x86RQS8HnEGFrdNBAtMSQF69tEGan4JBxPjzQdRgOkClqKBBFrYXQe1l0UDkxiVCKs/8QZ+5c0FelqJA0/UfQZW22kCu39tBIpXRQXPFaUG14+hBZBCZQGYZYz7uhi5BrAkHQkeVp0BxA4VB9sh6Qffp+kAOkL5BVdGIQW5w4EEJ5ZVBB4dXQbQYwEDMzPNAnepSQZ6Un0ES7yVCJfLcQVMLg0Em9dlB+49KQe8fwEFEWbtBFXuUQa/rcz/rOfFBeR6SQT9jA0Cv5/RBPiQBQY4tEMKchIZBAEe9QcGyOUHEt9lB5cVyQBk/AkHQIblAauC8QfHwz0Gq1cRB0Fy1QWkXh0Gc7y1BHoLWQFrTgkE7iz3CZwXAQRjzSUGK8ulBG7XFQYlsr0G2pvJBa021QaDseUEFqAdCy2uuQQ4LskGWDcxBusUMQZod+0EHqUpBPxzuPx1RykFhbXBAWBG2Qfa8vz+F28VAx07JQRPhbUGG+MJBTf3fQGQxn0HQybFBwo/sPyt0y0D0nOVBDfzLQdHKEUHymgpBRlIpQjLBvkE8ratBvkvQQHGvzUHOpH9BGRFfQWDmuUHCkipAUp7cvh1QZEFLS6ZBOzByQbf6i0EamEZBS13lQaun2UHPyNBB712CQfCjq0E+BN9BmSW3QFRzo75nOLxBksMqwpuQjEDzuZBB+m8Nwr2k6kGziTXA1m+oQZuMG8EA0p5BChGWQZmI30HwpzpBWFJlQThgO0FGO+dBqpWGQQbPm0HlZttAzKixQXtJ1EFCzZ5BV/YuQk1OtkG7KJhBODykwca3bkESq1BBkqoLQTm2CkLJ8NNBThR0QVaZ3kExJo9B6IeQQTEOu0FD1YlBLs3JP8fjbUES2IVBkpsGQklAo0HCpVvA3I5RQtMQ2UEaHU9Bk0edQRqvkkGuXHrA01dJQj/X1EHWaqVBA8IaQUc8CUGbyXZAVxNjQGlFRUJzxVhBHSvZQRO2dUH3qPlAV3GgQWHPz0FUantBRGdnQaZ2kEE2qZJAc8bsQcnwTkLa3PlBT0EJQWS/nUH4Sa9BNPX5QEiQlEEHtLFAisK7QPa2wUHsGadB+Z2aQQ=="
         },
         "yaxis": "y",
         "type": "scattergl"
        },
        {
         "hovertemplate": "color=2<br>x=%{x}<br>y=%{y}<extra></extra>",
         "legendgroup": "2",
         "marker": {
          "color": "#EF553B",
          "opacity": 0.7,
          "symbol": "circle",
          "line": {
           "width": 0
          },
          "size": 4
         },
         "mode": "markers",
         "name": "2",
         "showlegend": true,
         "x": {
          "dtype": "f4",
          "bdata": "SS04QYPTjr82uT9B4Xw1QnNK6kBL783AhddgQQ8DpD+hNKPAwfrKvzqVAb8dv1VB53nCQBgyWEDqihVBE270QIdO2L3QcGzAo1tCQfEc10DTSANB9OTeQLwhmEHGu1dBLgQdQen+HUBssCdAVFwcQfQj2kBDQsNAzJUQQZ0vvkDOtE9BTcVOQQ/XHcIjHgBCSt19QdMMjUFvQ/NBFgd2Qc83f0FOslBBNI5DQd+TAL9CnIbA1tAQQX8jpb9aoqO/Jmr8QKIjbEDh30xBlCNlQUdlg0GzDv0/j2g3QN4IbEDxOXNB/Ff2QPGjy7+tlqhBZZYcwOahR0Dxz9zAOw8WQvlKqkHLLARB1XT3QDkaP0GBrabAcZQpQGPOwT8fzCtB0QB7QficbEE6P6hBYRfHQV6MAECeuohBcJeiQaybS0DdvZRBabiyQbuiysC2lFRBmPkOQWLu2L8hbxJBKq2eQUalRz42OLtAm1k6wKDfaUGS9gDAw/pCwJ3LfkEpBRpA934mQLQ3OsBq8hE/q5IxQTTCPkBh06xAsjRZQdbdJ765vANB0UrjQRkfScI7TNbAEzWhQSt8gUGV8FFBOKDlQHH3sEB4sxa+C/mnwEZ4FUG63QVBoDYjwF5qNEIirpJBKvrbPhMKpcBM1HHAKzSQQQ3+S0FwUp9BVzeHQdtxw78zGANBNuNtQOSPMkF9pYpBRPErQZzWiUDdqd8/GaIBQQiceEETrVRBqSo9QTgpb0CVgopBlmDkQRihIEEGbk8/8GpuwK/fWkHyP2JB7WmNQdfEF0GxZjNCi+GgwJviEkEm5OnAf43FwL2fe0GJaElB4yODwK9MbUF+6qxAanmKwGfleUHk9Lc/MLKyQeit3bwKT01BVriyQUGpOkFoHyBB/kaUQLm/ekEPz5HAG+c+QSh0rz9z8pZBmWVYQagfx0BZVLDBRK8wwerY7b4wMUJAwq4bQaHgMsJ9tgdBlbKtP30BPUFhrYRBr6d0QX7cgkGThazAUbDFwMT0kEDqo2BB0bIOQfPJMUIGEbBBal2cQfND/T+hxD5AJMYMQA/1bsDJxCZBQ6KeQTDEpkFWepZAwi9GQXByBkF/HuxAj6yHQOlhx8Ce5atB7ZlcQQaKyb/DjkNB4+6uQErZZEEyOn+/3PkKQRPRbsKzcbpA"
         },
         "xaxis": "x",
         "y": {
          "dtype": "f4",
          "bdata": "ps4Kwmyj7sFH1dnBSx6gQNtcIMKQ+BTCuMYownlPGMJO1Q7CbVFnQbhPBsJ2FchBGQX8wcc4D8KBm+zB62nawauvGsLqHDLCjd2Kwe/Nv8EMbi/CXRkdwmXNKsJU0wDCoBnYwZ9GJ8JC7RnCaZUEwi/GLMIdyvnBHaE0wm2TAMIucinCza0Dwt0LLMFBTitBepMgwr/zCcLCUIQ/AKoLwg5WFcLZwinCRXeLwSMPKsK7JBfCTgXGwQPiHMJgd+7BcWsuwk7JbcHAmfrBMFLnwSu59MEXfubB2sHJwa77LsJ55QfCslA1wjSOD8Ln0h/CW7wjwoy5ysFxaRzCoW8VQdwK7cHgJDbCZg1HwTQ45cHLQQPCdz4jwsemBcK0F9DBMocHwtsPusHv5B/CvxMBQp456cHWOezBDt7fweZkL8LyZNbBXNrmwQBNGMJ2+5nB3mTxwfi1JcJ/tCbCYw8BwtDuzcEr08nBNpUFwnVV5sGnahrCf4IJwow+98HPbA3CCx4ZwuD3GMI7+R3CYIcAwnTEHMJ6OjHCgDK+wbwUK8LQt8LBD+WkQPf1L0BiGoVA/o8Ewii3+sHE8pvBfQAmwtvFw8EvmTHCJ3olwvfgBMKCntXBiFMFwnWls0AUzgHCH4ctwuPUA8ILLSXCHPMKwhSPGcINpwHC/6TvwVtgG8IVLB/CbDcRwhUIBcLtRgPCxMnIwftf0sFXkg/CtQMnwsQBtsEdXBrCLqz8wToVJMKpeBfCv6XkP9hPMsKTmQvCggQvwvc8D8LGOwrCi9gYwowULcIEccpAGoAlwiQrzMHW3h7CC3S6wXPBN8JUKb/BPT0HwkUt5MHfi+LBQs4ZwtGljsE+8iPCTA3xwUgFNMIZJ/PBSnTlwTrRB8IuzebBR+0gwvgYOMJ3uwfC10kgwh2+BMKQ09jBfg0LwlPBHMIELtrBqQP/wcWj+MH3QCbCIrwIwsgKWkFlCfHB38QLwlA84sEA8jzC/ycPwmPIBcLXycHBcUkWwrbAEsKEpBvC+8zVwZos4UAM3NzBzKLswY9kR0GiDiPC01HxweuSMMIY+AHCXprpwVHA4cH78szBomAqwqZ77MGhqCvCIywvwjkdJsL7dfDBL1UCwlquD8IT0xvCrGMzwuAslMGzuRPCmOUfwscIfEANHi3C"
         },
         "yaxis": "y",
         "type": "scattergl"
        },
        {
         "hovertemplate": "color=1<br>x=%{x}<br>y=%{y}<extra></extra>",
         "legendgroup": "1",
         "marker": {
          "color": "#00cc96",
          "opacity": 0.7,
          "symbol": "circle",
          "line": {
           "width": 0
          },
          "size": 4
         },
         "mode": "markers",
         "name": "1",
         "showlegend": true,
         "x": {
          "dtype": "f4",
          "bdata": "LVMGQu4oDEISQ0xCE+JFQry4P0KXd0VCLQ1EQnSuKEIDH0tC3csHQoa2NkLXvhFCiXhWQjm0Q0KhC/tBV1ZGQneuDUKOJyJCkDhBQtuuQUKTAlBCZ0EpQgipQEJjrEBCLVo/QpmrDEKZ50VCNdFMQvrD9EEtM0ZCY4EHQunH+UG7NwRCm6xKQm3wPkLValBCGzdPQj7RS0IxUCtCujRDQtBdIkL/KVBC8wpMQnBkSEKRhURCab48QopNP0IvGVJCIagbQvqWUEI3M9pBRHM5Qr7OJEKu6S9CFO8ZQoV76kFIXCZCpVZTQqbmQEJVoENC9r5LQgjdF0LygxRC1TE0Qh/sLkJkovBBxq4MQnYmOkI6e/lB6N/JQXnOSUJ7pR5C+wFUQqTo6EF5alJCefJRQkSBUUJoQVBCiyhHQjQiFkLPGEhC8tVCQgEODELXJlBCB79HQjbFJkLV4xJCfjdPQiNcB0IP+x5CknYSQuB/QULoSf9BMZ5DQk19TUK0FVZC50RHQtUfL0IQpktC+3QrQmqvW0KUgB1Cel1CQo2nNkIVUgtCwOUFQovPD0IQUvdB9twvQrOPQUJrJ19C7HwAQhLVRELQ3Q9CwK8SQsVWRkKgGE5CaSlEQsXvCkIYdf9BZUAlQp5tDUK/IE1CF1lFQl1cPUIgvE1CnwhGQnN7UkLdGE5C/lfrQblBBkKmiiZCGrEeQkN3LUI7JTJCZKYpQqDaKkInqDVC+ABGQuYiHUKlkhJC7YsmQtdKQEIH6zVCat45Qs4nV0JL8C5C4hk8Qv4AU0ISuPdBRUs7QrqxJ0IbYkdCUkE+Qn0XGkJKWkVC0Ez1QY6RE0ILQgpCQeBPQtJVAEKTXiRCbOsJQhdcK0Kyy1FCp6NBQlZnFUIR2BhCGDRJQq5qL0JkuTtCIMJWQh8v4EF+zzxCMJ9OQkg4UELO+wtCVKZBQgyhGkK1dzxCfBZEQsseKUKqWzhCCdEbQozjGEJ1HlBClF0kQmNyI0KA0ShCZvDzQQx+H0IxMgpCu5VUQqFIT0L3KTdCfoxQQnFjE0LXwj9Cig4tQvrqREJvuxFCNNRIQpGRS0JECVVCYVDxQd/mFkLVtyFCtEZQQr+oKUKr4+xBg3U8Qi+6EUIVBztCrN02Qg8VD0I/VAdCQ3U1Qn8nS0IYjTtCGTzEQa+SN0JdaitCPeDiQet6FUIkNeVBUaM4Qq/MEELoiEtC8klIQg7WD0LC6lFCb8hWQltW1UFYgEZC"
         },
         "xaxis": "x",
         "y": {
          "dtype": "f4",
          "bdata": "28iMwV/ZgcECHZnBYIESwptQGsLZIA3CQZ6IwdW/68HAYyLCIhqdwWg5x8HgxEzBk3Mbwj/+H8Ki3VHBSHiOwWeIO8GNoZjB2I0Rwr3S8sE3EAnCPqrowYHVpsGhUMXBJ30dwtdYIcFpfCDCuquKwfuHXcEJ5d/Bo32PwZxrg8EwXXbBWAjywUZbBsJXY5nB2iOiwQp+4sGp95HBM/btwTzTYMHQxgLCFUGtwSkJnsHNGa3BlIekwd9nu8FbVKnBcbuDwd7oGsI//DHB89vhwR/+scE0cbzBH9C4weglXMFw07HBE6vKwSqFl8HHlOrBtc/nwXrQisHVOVPBsLIBwt6Ky8E14HrB6z+VwR1f3MEdW2zBT+Exwa+apcG2eovBKKsRwsEpI8EYDSXCNS0Xwt3X/MHR1sPBNJCowemHlcGaO8bB1xH4wWvKosHXHuLBALcbwnjteMGheZnBjWMGwmI6J8ESZ6fB0sefwceCCcKYWHjBrbmawQ/97MGXWxfCVFrWwVvPZcHi7BnCrJruwdVUAcLZ2ZXBJ1KhwUjlpsEN7ZXBcbVvwX6YJMFWvFXB9MeRwVfurcEnRs/BUNaBwT0o38GH2K/BRGe0wai+7cG8wALCzwgywtF9rcGey4bBTauZwbOoQ8EuiRHCKDvawVXeDsK/bCHCp/kWwoNYBcJxTI7BAntAwcVdfMEF+aXBcniiwd9ZzsFKbf7B+priwdQQg8FvvOPB+qgCwvuKwsEkIELBustdwVss5cGbeIHBza4GwqiyBcJAxfLBO7iewc5+qcHOTyrB/42qwbUkUcG8MPbBC7CiwcQ5M8Hx1MnBmWlwwV5JpsGvW43Bi1AXwtT2TsFq/ZPBLKklwX9g08Es4e7BrnepwT3rQcGgaK/BcoT7wS7q98EQ6OLBLwTnwcqbTsFdT7vB+TYLwrmiw8FH0Z7B5S4Owvddu8FePYXB0ycywnnV0sEbMgzCnBydwUvuhcFVlxLCWV6cwbMFjsGd+Y/BrtQ4wd4UxsG56KDBnm69wSSQ1MGZMMrBp50jwsges8F3jhzCSxLYwc5A9MHPBifBJ/3gwRFg/8FXmLLBo0hDwfpofsGxap3BW/kfwlbWgcG9pDPB4m3TwXotncHr6Y/B5ZEEwnurqMFWiUnBA0GtwXmwFsJYubTBFcQzwbVeocHef1vBC9Y/wRSDnsEPcRnBweRxwXVNkMG49AzCIC8IwppfPcGqZvXBThvZwf81IcEOpr/B"
         },
         "yaxis": "y",
         "type": "scattergl"
        },
        {
         "hovertemplate": "color=0<br>x=%{x}<br>y=%{y}<extra></extra>",
         "legendgroup": "0",
         "marker": {
          "color": "#ab63fa",
          "opacity": 0.7,
          "symbol": "circle",
          "line": {
           "width": 0
          },
          "size": 4
         },
         "mode": "markers",
         "name": "0",
         "showlegend": true,
         "x": {
          "dtype": "f4",
          "bdata": "m2NkwukNdcI0gmrC7c90wl+mVcK0Q03Cv7OJwhP4dcINLmvC7gOMwmRlVsKHd1fCNL1UwrnCgcJ28FfCVSQ+wqRsVsLqHD7CX4qEwlgGjcLTH2LC4hBTwv+EhcK2l4nCu0WFwl6yeMLLQV/CYPkswvIhYcIlwTbCdaJDwgL7fMKMOYbCDCFqwsvDdsIGxXrC31pawshEK8K02HTCkaZewqLLqsFgQzrCCSF2wukeSMJpanjCPh1LwgVZi8LbZVPCe8VUwoVbh8JYBm7CCzttwqgOscFP6n/CdC18wmZycMJOV7DB8a9iwgwSdMLSES3CDRNewsy5P8JNtHTCySOxwYbWiMLkDkbCv99awke5ccJVuYzCzWJDwp0rjMKRdnfC87dZwl3EQsLrdnHC2Y1ewiv3UcLwFk/CuRVAwttPfcIAcYDCx7lcwqvraMITKD3CjTNcwuDiVMJ5MILC0odHwgRDisJhXoLC41yHwlp/U8LLflDCNF5kwk2HXcKPnDfCKPE/whUys8Hx0D7CBepNwlREdcKIboDCa8h5wgidf8La5mXCghNqwtu5YMKFq4PCYh1OwrAPMcJKnV/CGXJows7IcsItq1rCVStowpsXa8J1BTXC8H2twSmcTcKWLVHCulZfwt+WccKkkzvCO22CwqRfi8IxGHzCYtNZwrZbbMJ6eGbCeBk2wiYFNcLtO1rCHeVYwuVCZ8IIZ0DCFdmEwis1QsLIjnrC4vBTwsj0FsLU8F/CaD0xwjQ/bMIjC4PCepFwwv5/h8Kea4HCmL1wwo22bsKJmYfCEFJbwtnbqcFF6UDCTjpawpVuacJb1E3CpIl4wpd6csJ4DULCJ8h7wrKti8KaJK7BBnpnwky2dsLS+EHC9fJYwmauhsJSw4LCU51RwuwoPMJSm43C1nVBwumNW8IDIo7CzAp2wg=="
         },
         "xaxis": "x",
         "y": {
          "dtype": "f4",
          "bdata": "jFyxQG+MM8ChQq7A8ZRPQK4FMT67YZI/1ekGwOIUBT9sj5/A61qgwJXzK0ArvVNAQmR6QM8lOsB/zfzANgF2wOFDfb9eJrBAZ57ZwKMvGsCh8qdACIFCv0mbFL5X7BXADYQWwftdIUDurF1AvClhwU6qe78YOxBA68ThPlnD18DftxPB8Fj0wHyfRMD1NhdAJsZsQKu9BkAcNp7AxYX8P6M4C0IWA5FATc4ewAAATMDTMIzAxxkfQWBuOMDDePE/dn2eP25w38AnNoLArCPGPjqTDkK+aqHAuNgJvzzft793AglCaFYWQCE5FcHptR9AAj9fwDl8hsAAmufAHFESQhr9icANLZFAi1vwwHkxacD1Gk/AGGc7wGYfwMAYkYXAfUqvwGoyVL2mDqLA2u0zwDcbHUCTFplA/ynCwFxHl7974LnAOpXrwJ4e6r+Q3nY+6f99wNQkiEAqUebAUxdCwAUxRb8QkhXBz2UDv+TUvUANdt5AGpwMPsfp80B9NK0+KLBPvm3xDkKPUVK/+Z/LQCnu0z+/gPbATK+3wA28aD9mnAhAaY4GwfQEN0ChZNbAtdEWQd9Yo0BbMiJA/IaFwAzPQj/7n7TAdbpavznUBsFq5idA+mwGQjoLJL/69LZAVJOWQLsh27/FINi/7uVCP/vCRMD5nHPAQ8U1Pya/0L8XszDB/CEmQRshyUAnWbFABFX2QHnYhUCxIbzAEDkcwD0ZaL90SL1A18Y3QHeVBkJ6r+bANMKgQIozD8BJOj7ABBT/wNniNMDbPYTAXdHZwHgPgz9XD9m/vew+QDu0A0KVNppAbkr0QMHehECCMCPAOzfBwIh7IsA2iXvANw45wNMgjcAHOghCXcBBwHPlzkA+oNlAuNQGwXltlMClrA/BoVKTv0o6rEBFVIy/5CSKQGl9icD1ZkS/AgXzwA=="
         },
         "yaxis": "y",
         "type": "scattergl"
        },
        {
         "hovertemplate": "color=4<br>x=%{x}<br>y=%{y}<extra></extra>",
         "legendgroup": "4",
         "marker": {
          "color": "#FFA15A",
          "opacity": 0.7,
          "symbol": "circle",
          "line": {
           "width": 0
          },
          "size": 4
         },
         "mode": "markers",
         "name": "4",
         "showlegend": true,
         "x": {
          "dtype": "f4",
          "bdata": "EC66QDyVe0BIN4ZAHnX1QCHmJ0DqwprB3+y0QLl5zkH7PMi+WWscwN64PEF9JZ2//Wk3wCihZT/hH6G9bGK1QCjVfkFP7vNAkl2yv3rAWEFOr1RBgMhUQWCfmkCllaa9J5bBQH0kskDPrtBAm6PaQI+Olj8QdRlBK7MxQKXC1MCG9Nq/FinCQRWcVkB0zuDAikELQGieFUL4wc9BR/xWQJu9WUEQutvAAy5FQfOoIUCugh7AuXm+vlw9lMDRG19Bgqp7wBoK/UBGvgdBjAC2QYsioMAaSQVBJ8EXQQh/i0Hdl9lAJfwDQU5nXsCM8cA+ngGvv2eRDsAGe0pB8SoXwIvUykESCGNBVgC+QIwCysADG6VALzicQKTQXsCC5YVBjbZOQKbyWEBbss9BIpvNPzIYaUGkijLADHD0PKdXe8A6wq5BxhRhQVgT2ECKp9ZAeH6BQe+Ml8C+d5pA8KtqPw+bOEGaRbHA9YGswB7iAUEmEt8+3u1qwMfacUGX+ohBVUiwPx6kSsCXOKRBoa+9wMYXDkFGc1BB1DKHP22X8cC74eNAqBliQQh1KUHne+FAbuxeQNRGw78UHmJAhyiDQf5Ss8AKdYhBPzpZQPUbmz8ttktButQaQDgzD8BRLhJBgJTbv6DUakD5axFAG14mwuvILUHFgzxAn2TSQCpR1MDalL3ABLsQQunnFMDHoJhBK5/sQMm4SEGNxUNBj6E1QV4kUkDmOP4/R5RRQfIgw8B8IpjAjx3+QHzUvUHP6wpB/ZczQRZcWkEtft9AGvHbQLi6cEBIqlBAEkqawEA8eUC+kstBjiJuP0hc6kDH26q/Co+VwK2MuUC0X0PAdLc5QaCIpj2lRyRBNZ5cQfchYkH8C8LA6ZMVQqwZtTxDFMI+RJFfQAIjC0EW6IjAqiaQQPhyKEGwds/A/5reQEUbV0E8oeC/FnZLQfEJUUGCbU5BjdLfPzWKEEL+h2XAtyKNQQVaNEH/+DA/nLXgQJQfwkB3gGm/vNJJQRcfFUHBwcm+SxIav5uOET/YijZBskNtQaMfWEG4k9S/6IAOQjj/BEDkIdlAGJ9sQZnOZ0Cl5Y1A3sy3Qc/3dkAQvltBur+CQDPt4UDIcezBaMpQQWTWez/8t/BAPlNcP8uQS0ABaitB0R14QQ=="
         },
         "xaxis": "x",
         "y": {
          "dtype": "f4",
          "bdata": "QmszQkvrQEKNeRBCPPIfQgW8AkIvWw5CLWMJQvvjEkLJtC9CUyc4QgPyCEJNNCFCgxMuQmBGDkKbpSpClE+7QT8UlEF/iedBnrpAQrIdFEFg8jhBN/fZQdTS4UEQojZCQqXEQdEKEULlMxtCJOveQYHyPUKnDblBqVQRQkDfsEG/MCVC08UTQigm/0FpSUdCMKcxQm15T8BsAexBFOLYQVMVFkGYc05C1XEFQuSYBEKINzZC9L4iQjcQUkLFYtJAag4ZQvNNj0F1lhtC/2wgQTZtTUJPChNCwCPhQSuwJEE49whCzkPDQTZFG0L0hktCQNwlQiwDMkL6O49BpY9IQidV6kGiW95BAP0fQjXBskHQdMxBtr3BQdF2EEKHpJ9Aj48JQmAjTUK/uuxBU48lQq229EFoHEVCKJcvQmMdMkKK/x5C8d7yQQdbxEGoMuBB6S6EQU1aO0Ln8t9Bb7vxQTTuB0ItiTRChu8zQo3eKULJfv1B+kM6QiIDwUChyYtAzWgZQkn6NkJwtDtCy/lLQp9IC0Igu4JByoT1QeubUEKDRR5CaXl+Qa3bFEKJHe1BLY5NQqFkMELtR0JC0z5UQXX2DkJA3RlBabQlQgIiR0J9Do9Br/P8QWG+SUKq9AdCjuYOQhxxHUJBRudBQg11QeEb+EHCXyBCIgjIQboaT0IG+khCTcadQPbaIkIFGaJAwPQ1QgQdaEHZ+HhBd/buQPLR7EGk7SBC3KzYQdi6F0LpZ1ZCHV3wQXh/5EGGQstBsikIQggl5EALdBFCmBPwQYjAKELLGCNCQ10gQu/dE0KvvxFCQogvQlCVJkJLaihCICVVQj6vF0Kp90ZCF4hTQnslVUJpHRVC6UACQVCZ/EF27g1CrIpOwJmUVEKKJTpCXIhBQmB8KUKpxT5CfiojQs3Go0H82LFBoZsPQldzlkGDnxVCTykCQlz+nUHxEXtB+sEYQi0OkkC8QRBC9VYtQQKZikFPv95Bj304QnTCG0IADz1CVymIQRyOBkLtiT5CIxhKQj6uS0LcpgRCDqzuQchj7UHhRRZC3/S7QLNPKkL+j9lBeBvEQIjEHUIiEQ1Cl4MlQd03DkK9K95BFjcsQqwnC0LeIw1CZofnQb2pJ0ItlDBC6pY8QuOV60EkhvhBzJP1QQ=="
         },
         "yaxis": "y",
         "type": "scattergl"
        },
        {
         "hovertemplate": "color=9<br>x=%{x}<br>y=%{y}<extra></extra>",
         "legendgroup": "9",
         "marker": {
          "color": "#19d3f3",
          "opacity": 0.7,
          "symbol": "circle",
          "line": {
           "width": 0
          },
          "size": 4
         },
         "mode": "markers",
         "name": "9",
         "showlegend": true,
         "x": {
          "dtype": "f4",
          "bdata": "0lTEQa9PtEH1aJFB465XQT9LpUG9Z45BbzFzQTqWvkHcEp5B68yFQZridkGUvUxBcMdRQf6up0E0a4lBec2LQUXXUEFHimZBAxeDweNKgEEPQDPBeJe4QRrJqkEQSZ5Bnee2QaJ5SUEODIXBfiucQeZ4q0EKaaFBY7JvQZmohkFgqDtB7amJQdrToEEGZE1CkZWjQTjEkkEPJ6ZBgG69QTCLi0EW54dBAe/IQcMSj0FeMaRBhkmLQWkqRr+nT09B1b6ZQQwlg8F/q5FBWBSPQS1drEE3goJBCP1pQYxScEHCXE5ByTW0QXV3oUEdh0hBuXGzQU03rEHjgbhB3o2TQelOnUEcD0dBmHd2QfpGcUE7taRB2rCZQTi4TUEF3rNBrxyCQY6xZUE3x5pBHZeVQSStpEFA/6tBltqPQQ53iEGbbbRB9+2sQb2oiUES8J9BN9adQeNTS0F53Y9BqqRDQYYDWkERfadBQOaNQTqFqkEcJIFB8vR9QR2MoUGNs4ZBsrCVQcl8qUHfIi1BkC2hQR4dpkHHN5dBJLlxQZSsn0HFhiVBZFqNQXOrlUGrYSvCRpQyQR5JokGrm5JB63SRQS0CCUGlJpJBLJ+zQe6TCkHGyzHC8LqXQdrvQEEuLp9BoQCPQc1GW0FFfVRBrPRrQU+xpUFbjY9BguaGQQa+KEFBOqJBGFubQc7quUELcoVBLFmGQQoBxUHajrpBuwcjQXpNmkG9Fo5BQDedQWeHnkE0YZNB4gSSQfdzdkEBS6hB0l0tQf9TvUE2ralBdFSWQS2ZjkFIZinABMHAQXfwS8GDE6JBp9l3Qb9enUH3NZ1B84EiQUUpq0ExcUFBEoOSQaBPl0EijNBB34pAQXEBR0GxzI5BmDCUQaM9rkEPQ5XBevKtQV92S8C4M5JBc0KkQWlRH0EPO21BfGGIQW3pTUHjZ0xB/jeCQeZYYkGufK1BqNF2Qd+0g0GnfalBPEiVQUPquUH964xBcDcFQYv/gEG4YIpBHJHtwHoOhUGqr0RB5WqhQdbpcUE="
         },
         "xaxis": "x",
         "y": {
          "dtype": "f4",
          "bdata": "x1k5Qt+y+kB3+rFB7/wnQryYEkE8Nc5B6Z4PQjeuXzzHaktB/TK/QIt6REIGNUhCjX0uQj2eGEItvCJCpeatQalBFUJPhzFCrU4eQVQZpUGFT2BBDJUFQnYxSkKr4U1CcEQQQq/pN0IfjP5A164lQrhyNkLa0uJBgUpJQpzOn0GYrUZCuJBDQoqG3kEABFfBSw8pQmMXQUIOYvJBxWb0QbgXqkFnGChC4zXXQesTFEIclIJBKxgGQuOxAsEiMjlCdaCsQdcIBEHa6h1CXKTRQf/cmEELZylCw45NQvLuB0J0chNCh8XuQQbGkEHNJCtCp9EKQkSgXUE1YP1BdOs/QsoDF0J/YSVC7kA4QrPsTUKKEqZBJ3cqQtNiUUIq9/FAZT9DQoFPQUJvRBxC+TM6Qg3MlkFPFnxBGyUlQn6ACUI4JphBt4q9QU9kHUK8titBdb2UQRbUNkKhRdNBkoRGQjWpMkJCAyNCmbcOQpOtXkHyqhdCduoYQm1+IkH07wdCcXQHQl6ICEICfTJCqYKDQVwtDEFGrjlCkM86Qnihv0EzQSpCUMs5QmMTwUHYf4DBRbxIQlnVwkHLMRpCbYKRQXa0AUKP/EhB4Xp6QZvRwUFWB37BKkwiQsASHkLug+5BBUwsQt19T0JRTydCBMwZQvAElUHc2TBCFJoRQmAiL0I7GR5CQQJyQXzoJEIw4jpCZ7cyQlVweEHTKhhCrpkqQlntPEJ3DF1BfSAvQnOzvEEoEqJBdoozQvKzJkIJ0ERC+4BLQgsWikGpRShCqlqNQVHPUUK2/rbAfoX9QVnxy8HDMNNBjMQpQpcOhUGrzS1CoQNPQoITFEKU2jxCVo1EQs85okEHYMFBz2EeQlviK0JxABpCh1c1QfiJi0GBvBNBTGgZQvlaMkHJfPhBpk+jQTmmM0I4cUFCltIDQl51V0JrT1hCnGgsQj81M0KnKwtCWb0HQqsSSEJw+yFCNSwpQqp47EEeK2RBICjzQWKqBULQv7dBVVK5wUG9C0LUMDBCA1lVQQZeAEI="
         },
         "yaxis": "y",
         "type": "scattergl"
        },
        {
         "hovertemplate": "color=5<br>x=%{x}<br>y=%{y}<extra></extra>",
         "legendgroup": "5",
         "marker": {
          "color": "#FF6692",
          "opacity": 0.7,
          "symbol": "circle",
          "line": {
           "width": 0
          },
          "size": 4
         },
         "mode": "markers",
         "name": "5",
         "showlegend": true,
         "x": {
          "dtype": "f4",
          "bdata": "4HvNv2QYJ8Jd76fBbD7YwWv/osGx0iLCq/FVQaYSyMHNPeTB2sKpwcWSq8HN0cPB+4EYQa9w7MG4n6DBVSn4wUzpIMInjO9Atr/DweZlF8K1IBnCck71QDs2EUFUuaDBdFa9wUpi2MGkTCJBnP/xQB6RnsE1rP5AgfMkwod9tcFQDJDBhNyowYrS5cHPaHnCZNvGwchl08G2phPC/g6rwfcGAcJeQLzBYfA3wpkq/cEcTwtBMEOBQG4S3sEVyu3Bll1EQc4cs8E1GjNB1xThwdRa5MFdQPTBEOD/wfXjEcKVqLvBClO7wdNhQkEK3tDBK3lwwh5NlcGuBdpAvanbQDqphECNiAjCsKYqwlJVO8JZqgfC2Y7uwbJWu8EbShtB03kUwvkyI0HZY2VAhAICwlY8G0E4E4HBE7jpwdlc/8Gc7t/BMP/nwePp+EAeLTy/fD3PwUc90sGYLezB1R8IwhDCycF+OtrBUf2owfKR0MFNoArCGQfpQJXpgMF4j3hAOl1Dwh2OBsLVpbnBX86+wVOemsFQNCFB5lISwthW2sE2NQ9BmjaIQBX96MHlhM3Bvwe8wSoKtsE8Z/XBLH0jwqEd2sGIBGPBdYbHwdWSosEEOCBA2gHMwQ+MpsE4db/BvAohwkMX5MF8RfPBDFj7wc4vBMKc39vB8n+dwerANcCdrhZB96gLwuZo3cFfNHTCSrsJwsZI1cHVbNZAVjc/wrcYtsFkK8LB3v/lwS3Yd8Jjft1A2O/4wZSft0BOLLfB0e6bwTjEFML2qMXBOLvPwUaYA8IN/49A5v6iQD0ZBkFwg5nBd4avweHmlME21ihBT4/awZP3OsKE/5zBZWQjwj/LwsHwI9fBriYQwk0o18EiErjBB/7XwZg3xcHkdBjCE+bVwSzQs8HtbCBBOaXdwffpycF6MSlBK7AYQTWXuMGr+/DB3GTswcFwycE="
         },
         "xaxis": "x",
         "y": {
          "dtype": "f4",
          "bdata": "aXgCQV2xnsGDJxLBJWcSwXlfIsH3/Z3BurpWQDzgRcGjKMS/7STXwAzhEMGOcOE/HmAKwE22CMEuPvvAq2K/wJ0GmME+wZ5AtKOywD5SZcHmW57BNbhPwA6nd8D28zXBek5qPwDYFcF7+MTAspBhwDw2rUDgqldAeLyWwUZ7isDQeBfCk+zLwNW2O797QD7Bq1IYwVJUM8BtgafB55jxwNRNEMBtqU8/wSJ4wQu/i8F9dMI/75inv/gm179Mi25BupiHP9IfKsEacAbBedgPwV+6qsD7KenATMPswA2LhsHC38vAIVk9wT8cVD+H5ThBArxAwZZxD8LCRF/AgWu7wE3sFcHzZebAnXGewSLyJEHHZmnBV02gv1aGEEBWA6XAiaegwRYjP0KObqvAMObFvz4iSz87dAzCAk9sP+NKvcAWKmXAQIdZPvws8j8LzNZB5x07Qer5n8DvP+nAQFg2wQq+csA7pyQ/YRv+wBxA8cCTwenAHR3qPyodDcLl+5vA/cIjQangZsF+uA3BqNjfwHhdw8DBPL/AJRlzwXFu5sAKGxA/qrDivzIaIMFAzlLAfkwtQa0vC0CtkF5BFtKfwZtHKMHRNK9B8nwiwfK/JsEhWaVAscBYwXtCdcG8Yn9A90OqwWy6XsAX3oLAg5SxwOE+80BMeRzCGgfYwFCEAcFtK2BAtn7LQAEHkMB6pEDBNH2DwcUcHsG+0WfAJbMjQSyPp8AZZ3VAZU8CwUsDPsHgKYnARfrawOlKJD5zWArBvuJYwB7KB0FDcwvBtly7v6EAQcDVtRHBjN3Kv2gN1rxBj3nAaLUZwaqtgEE4M30+Y5DswIYiJUEo9hDBSmiWwc7OOcF5OsrAVnWDwWN3/sA8BfQ/vv10QMVXt8DrXnzBsThyQMfSAb/c6eS//yb9vrJC+cHFmo+/74IMQHiWyUA8MKbA/XqOwVe45sA="
         },
         "yaxis": "y",
         "type": "scattergl"
        },
        {
         "hovertemplate": "color=6<br>x=%{x}<br>y=%{y}<extra></extra>",
         "legendgroup": "6",
         "marker": {
          "color": "#B6E880",
          "opacity": 0.7,
          "symbol": "circle",
          "line": {
           "width": 0
          },
          "size": 4
         },
         "mode": "markers",
         "name": "6",
         "showlegend": true,
         "x": {
          "dtype": "f4",
          "bdata": "4+QIwowtC8KWfffB2FETwj7ZB8JkHAbCU4cTwkZ1CsJ6iBDCFgAgwvm8CsI2hBXCOrccwi1AHsI7LQTCo3oJwtRz9cFXnybCOIT6wd/aGsKBXxLCheeMwXnnFsIa7gXCUt2CwW5KH8Lnz+nB738dwoAwBsLcBgfCewgJwk1jI8LocCjCquYOwjbwGMJY9b7BGAkawmmiEMIYWfXBTDEfwpsNGMKA/wHCfOMOwoN6AsJwAQTCMl0JwjP9CsKbGhLCxIwNwgsFBsLTsAbCQp8JwsPjEsJbXg7CArUBwuslEcLAe7/B+aMYwjEFCcJvtxbCl4kGwj4NB8LwlxbCFrgTwlNDF8Lz2Q/CJYkbwkKtB8LzWALCdpoXwn6mIcK6FwPCLVshwuH4B8L4zgPCg/T8wb7gF8Jpbx3C6T/5wWNqH8ISlgrCG5GCwRg5/cEhsy3CZv8KwvRCHMKsBhTCwIAVQeDb/cHf7QHCru73wUfEMsIduwbCNVkXwlBK+8FZpg7CtpAQwn6mDcL7ugDCXIMXwqaHD8Jc1fFBBqS4wbnK/8HVqBHCuvp8wQvuEMJq7wvCuSABwmuKEMLKNQDCtzsFwuYQAcKWpArCP6mBwdnM9sEprBLC1B8mwl9iBsLiXS/CDdwMwl/JFMKT9vvBh0viwSyVDsLcuQHCbssvwuJWFcJv/wnChvwBwqtEGMKwLwLC7AYLwje9wcG1DwbCT2MKwjACDsJsXRTCeqf6wW81BMIYii/CiRMSwrsLEsJZIQvC5QoUwpWpCsJe2gzCxy0Bwkk7B8JMgQnCsRMDwmsS/8CKZQrCOKQswukd+sEj/x/CZkYRwjEvEMIgB+TBSFETwpSJ68F26nfBSmAJwnULBsJvghPCkI0EwqAQD8LtVgbCPtAHwlVo/sFrtBfCKW8dwjdVD8JHzfXBLq4Ywps/jMHK7hLC9sYWwg=="
         },
         "xaxis": "x",
         "y": {
          "dtype": "f4",
          "bdata": "QPYQQo0ft0GDGRNC32BAQU9gH0Lq/g1CDeukQfYyBEJnwrxBqLKuQdg1DkIIk8lB4ziPQaaxiUEZ/ARCdsCBQbF8CUIFGJJBTWIFQm4lbkEy4RRC3TPiwJt/CEKhTF9B7mrBwFAMr0HudhRC5XbjQTzu+kEqgwlC4MOlQQoxwEGJ1jZBmui9QdmkQEHeOghCbNmcQQEn50Du7BtC3zX2QWIw70FSkQxCus82QXrWE0FHyBRCgZbxQYsFp0E+cR5Cto4qQd3QvEEnG/9BbiWqQXuEv0H52xlCxSYAQm2ThEFNwPhBTk02QWzrHUKypvZBViUcQelY1UH2judAB/ESQo36FkIcUlhBvX9HQYehx0HZLahBU28VQn7ymEGaPlhB92rJQTN42UEPpRdBrPafQUEL6EEdRvFBEB4iQouVmUHEgNNB+JvbwAxoEEKHxitB2/gRQoWRekF6lOhByruAQO9CKEIylwpCXibCQeMCMkFnQtFBXDwaQeCGBkLohLNBhfEFQqzwQEFqLBJBNH+dQQxwHkI3LxjBKiFAQT3lMUHpId1BQpPvwLGtGkE1ZDNBnmgOQvDToEHMMyBCjUybQbQL7EGrWhdCJNTCwE4PIUKHOchBqwXiQVxG5EHHeMFBQuhpQaZQ0EFKtSRBfKYVQsFdF0JBCgJCMpzBQRzZU0HOazxBTAbTQShS9EGCVydCSpqCQQSRFULVX+lBrmDlQZuHAEFjx+dAcnWjQYNSsEHrD8FBrOjvQFSqg0F8JthBFAbCQN797UHUu0ZBgHkgQrWqRkGiphhC8FryQQ8HDUIdA7JBcbgzQS1P4EG2rJpBCCxfQbvbCUKVXB9CDQWyQfxRCkLxcdHAabJLQVfds0EnmytBCzI3QR88EkK0CWJBqUk3QX0ZsEHm9s9BBRB/QR3aqUEyNhRC4fK+QSmsBMFnDntBcyCyQQ=="
         },
         "yaxis": "y",
         "type": "scattergl"
        },
        {
         "hovertemplate": "color=3<br>x=%{x}<br>y=%{y}<extra></extra>",
         "legendgroup": "3",
         "marker": {
          "color": "#FF97FF",
          "opacity": 0.7,
          "symbol": "circle",
          "line": {
           "width": 0
          },
          "size": 4
         },
         "mode": "markers",
         "name": "3",
         "showlegend": true,
         "x": {
          "dtype": "f4",
          "bdata": "zPYUwo2PkcG1SOzB1zimwYCYF8KrQaNAZT/KwQvcxMFHdwDCAAGZwWaHs8HT8YjBvGK9wW8c8sFeaQTCd4KWwaevx8F0e6rBGnh3wfxiisHZwJnB0UCDwSvQIMLRJw/CxSPIwSZL0MHx4xXCvqGVwd99msG4vMzB0ojxwYb340BhQJfBV66DQV8h3MHPlA/CQG3twRXj+sF0A97Bu+MVwgLfssGWt8LBhVcBwhILnUGaBf3Bp1fYwdiOH8HptcbBRQRNwbOHE8IyKunB74YfwsVktME80KDB5agQwgdO8sGluYXBQSyhwUZCisHJrodASU/+wbTf0cHGWX3BsXKvQe5nGsJ0UPbBD4TjwSPRm8H14wzCo/a5wa0urMEmdK/B6U2SwZBCp8HpiLDBztOUwW9ys8HMqwjCJi8IwkTiz8GQPLPBs9j3wXyV8sH11u7Bk2ybwZUX6MFNb/zBC7akwZYr/sGB79HB2f20wQfy1MEmimXBxpXAweFEC8L9mvDBCCrQwbFZ6MFMe9vBGocAwnTM9cGvLXLBQ0D7wXyX38Fro6LBj7pcwV6AesGXP7bBsmATwj144sHFEOhAfia2wUE/iMEGfhLCk0OFwWGMdsGhPrXBNZ+IwSihD8L8VMbBI7FewTW4hEFsbLzBguLuwQC4RcH3zLnBMRB/QX0YlsGqfITB4j6ZwcBNbcELjbTBU8DpwSsV58GwHbvB69kYwokRH8JgrVLBpefOwTiUisG5CyPCPD/JwZEd38Gxnm7B0m2MwYfBs8EDiM3B+P6bwYc51MFmnM3Bj1DWwYvR8sGltNfB/oqnweYC1MFqR9zBGKyRwTTex8G2Ha/BvreHwcQ1/sGjfSXBNfbewQjnhEFsutrBZXiSwVNTu8EN4sTBCdZ+wZQPFMIJlCHCKmXBwcuGq8EPwt1BK1G+wfg9jcGqIZxBmHiVwd9wBMIQwrPB3I63wb45+MF894XBV2kRwgTXscGTydDBN+PGwWRe7MGevunBLa3cwWfxxMEudwTCg9B4weXzs8GjGA7CTKW/wb4TvsG5zg3Cqbm4wbEWFMI76/3BG5Lgwf/KkMFQvpLBv92lwUmKyMHzRYTB"
         },
         "xaxis": "x",
         "y": {
          "dtype": "f4",
          "bdata": "C/nkwcv4z8FhT7PBs2YOwnQx28EaTR3CXv66wWwJ8MHA38HBl7zhwZSpyMFP9L7B4hqNwX4vEMKPbwTCsGYmQTCHz8GdZ6XBwGTFwVNN1MEa3BbCIoTywdCU5sE1nKvBnAwJwpSl6MFhZfvB1Nv8wVqg58FkmeXBJED5wZz3TEGaMefBpw+EwdwyusGhou/B6cYCwux9n8Gg8LHBWWTMwZc1ycFSXLzB+2LiwbadIr7mLOjBz7KnwaOwi8H6tQ/C4dpYwXPN+8FHic/B+EHXwd8kF8L5JQrCKiSzwVz8CMI56/PBJ7vIwZZhcsG7dGvBg//twQuhCsIWPMbB1DZBQnG33sFoZqLBCh6twfxPp8G6At3BXtsIwp3pt8EJoovB0L+mwWl8h8GaWw3CgeKDwQK64sGDMAjCyWv5wczjmMEouRjCOQ3EwXax5cGeDAbCfALMwdGECMJZuAbCm8KxwZ1d48F3UbjBNHASwmwCG8LYnajBwCb+wYRW1cFLVG7BGc6bwR9CmsHeifTBnRACwuDKV8GsRVfBL0BYwVl4DsJbdnrBMyKJwSYLj8FDX5LBqA3owTEivcG8EU5BhvOiwZRtmcF3qtbBhg/CweYwAcJArQ7CWbfqwUnX8cGPObnB76uJwRH6dMHKgsLBQQYAwqI4rMF1YPPB++IgQp6//MHs4WDBxk6mwcC6qcEKYI/BbAmvwQ9fm8GoqAzCMknnwW5p18H1Gb/BomILwt6/ccHR29XBCobFwfBIB8LjS1/BF1KdwdzN8sER14XBfBQXwr+aAsIQvKnB1Lu7wRJKpsHcXu7BcLQUwrtfAMLy9QLC2VrhwUs1AMIhGw/C6GrRwacCAsJ0vIHBOhxywR6ycsGfaeLBolatwWHvAcJIpBrCM5nZwSNSBMLlp3DBFOIDwlXLtsF+ynBAG+iswT6P4MHp8qi+xEhcQPmp7sG0owPCLBYCwt+/C8KG7MjBs1arwZZr28GAfsTBH80awjaP/8FsX7rB39iuwd0uqsHGocHBXx8CwvSMCcKOXv3BwYihwaLvisGwL/3BRLMTwvjABMLuzK3Brc6RwZqUxMGi7IXBXJwEwlWx3cG+t6XB"
         },
         "yaxis": "y",
         "type": "scattergl"
        },
        {
         "hovertemplate": "color=8<br>x=%{x}<br>y=%{y}<extra></extra>",
         "legendgroup": "8",
         "marker": {
          "color": "#FECB52",
          "opacity": 0.7,
          "symbol": "circle",
          "line": {
           "width": 0
          },
          "size": 4
         },
         "mode": "markers",
         "name": "8",
         "showlegend": true,
         "x": {
          "dtype": "f4",
          "bdata": "43oBQMIVh8B6J6nAoicIwRnm28BlnPy/9sUgwbt7XsGheU7BRCtQwYXpP8F0xlnBP/J5wID50ECzaXPBqLZVQNOVSsIjKBrCAQGtwDU5vMESa9HAlmodwpa3pcEpbZy+yFUqwbihB8G31R7AM9gNwbRDJsDqDDDBq0BZwaOVPcDkSB/ATrGvwJkEkcA+Xbm/U1oSwSQwccDzotbAJgY4wqggD8BoCxXCE/DUv2CUZsG7+kvBIi2uwbvk+cAQzcLAVQTmvkETQMFHEeLBwV/mwEsiCb+6l+jA+6adwJD26cBnOZXAwW0nwbXJBMHIzMg/Cf4NP+UBNcHd+UvA1ifRwGwTHcLrTbvA7CN9QRoElcEMKfjATisnwZNLJMIsj7bAESJjwS4HO8HrfxjBALWpwNP6yMBYHBPC124xwpdXX8EiOSjBqDoQwmk2ccCwiGPBYNPKwb70u0FkQaHA7noywC8Xnj8b8uLA0QsFwZC+HMHS5K/AamrJwI0tZsCMo/xALtINwaGMe8AWr1vBL6EvwbOXhsBaxETAFfwpwdNKHcHDcuTAkIRVwBYCWsEY2cTALWqxwRl2UME6683A7bsDwU//N8EORJrBnM3RwNOQV8FOpDnBk/1/wHaFgsAdliXB61QfwNDgGcLhSoDA99vovtfUs787WvHA0yWnwFM5H8EOCPXAyVR/wYxjgcHhH6fBMRqNv8v/h8FkJzvBLxX9wCd8gcEPoU1A/T1Dv+CpeMFZ42fB0y42wd7oi762SBzAlBxDwZiZz8AvlDu/dVYrwu6q+cDHAoHBGA/Lv6rbBcGTe3DB+40LwSEnNcHGEenAEw4AweJIYMGLcgfBhkG4wKzhmMEgXpW8cPd1wSA/hcH3FX3CXP6zwKT52j56iD3AO9KuwWPv3UCowjjBVeUnwWb7G8KNebS90Q9jwfKJh8Adq2PBs8ErQJZMVMDN89bB9E/4wB9UWsH0J0HBADCivsGw0cCyhb/AwFn6v9FpTMHwfrnAPlVNwAIThEHlohPC"
         },
         "xaxis": "x",
         "y": {
          "dtype": "f4",
          "bdata": "nds8wV3tD0GhAEjBQCfKQEvLDcGGpmRAkiFEv5YZD0AKYgJA8vwkwD3gTECY4SVAQ1+BP6zIw0AQa86/hnhRwalK/EB8gzfBB+j6PneVxUAy6yjBJEOEwR2bBEDce0LBivP3QCnBSj9AXaq/jI8JwVpa6UAOJSFBRh4TQegrhsD5BOO/U8Twv98ib0CH8EPBL2zOwA16s0BCewtBcyH1QKaPY8G9lUvB3xhawZr4LkG00D1BHAEoQYfgQsDDWwZA5FejwIX7XsHkqQzCOORQQOF3e8G6hBxA1n9ewds1l77a5Ju/Cq7KwNVKNsHdf2fBWrNuwapUcUHXFI3A2KAYwTqLgMGKQcO9qkjbwDSQmkAcpzxBpdC/QMsBa8GGVOzA0JCxQDqmJsFjdRZAMonLQBesA0AhGCLBCHWdwc2I7EBAYArBYkBBwQAaSMETXCK/UR5HQUrbDkK6ygjBOTJNwXFHMkGMjC6+QRh1QJuw077YuADBXrdQwVTvJEHM7Y5BwQnhQNYst8CjmXtBozXAP62lJME8GwfBg0REQXxlF0EW7BxBvQK4QPf6VUG45nXBOzjcQNQeBsAIIgLAoWucv9mAGsHt3qJAREm+wMc7FUGrNipB1avMPRF4c8A7dty/TWG+QFW92MHa2jjB2nF2wdMm3kCyTp6/Mh+cwW5Mz0C2EvHAdtQJQXm4PkAG2oRAPnR+QHcIvj7TqQ5BiH4BwdJIc0A64CHBiF5hwec7s0DZYKY+6yeQQLhZqMBQdrA/cNKCv5av2EB0rhDBMpJ4wfypKUFGDAFASoxXwCyBCz9C1zw9x495wPCGoEBa8xLADRkPQTJuQb9SMbzATWk7wbHxnEBP/C7AlMf1v6RYcD8vvg3BpIXQwMafLcGF8SzB5V/sQG/Mt0BmZR3BeW+GQWTNWsEwr04/gZ9XQOk/fT/LMS5BW91QweQrG8FKZ9rBFlw4Qccxf0ArzzJBSTU9wY7smsDsxFTAH4lGwRzFisCGMCnASMpLwbhs3sBjU13B"
         },
         "yaxis": "y",
         "type": "scattergl"
        }
       ],
       "layout": {
        "template": {
         "data": {
          "barpolar": [
           {
            "marker": {
             "line": {
              "color": "rgb(17,17,17)",
              "width": 0.5
             },
             "pattern": {
              "fillmode": "overlay",
              "size": 10,
              "solidity": 0.2
             }
            },
            "type": "barpolar"
           }
          ],
          "bar": [
           {
            "error_x": {
             "color": "#f2f5fa"
            },
            "error_y": {
             "color": "#f2f5fa"
            },
            "marker": {
             "line": {
              "color": "rgb(17,17,17)",
              "width": 0.5
             },
             "pattern": {
              "fillmode": "overlay",
              "size": 10,
              "solidity": 0.2
             }
            },
            "type": "bar"
           }
          ],
          "carpet": [
           {
            "aaxis": {
             "endlinecolor": "#A2B1C6",
             "gridcolor": "#506784",
             "linecolor": "#506784",
             "minorgridcolor": "#506784",
             "startlinecolor": "#A2B1C6"
            },
            "baxis": {
             "endlinecolor": "#A2B1C6",
             "gridcolor": "#506784",
             "linecolor": "#506784",
             "minorgridcolor": "#506784",
             "startlinecolor": "#A2B1C6"
            },
            "type": "carpet"
           }
          ],
          "choropleth": [
           {
            "colorbar": {
             "outlinewidth": 0,
             "ticks": ""
            },
            "type": "choropleth"
           }
          ],
          "contourcarpet": [
           {
            "colorbar": {
             "outlinewidth": 0,
             "ticks": ""
            },
            "type": "contourcarpet"
           }
          ],
          "contour": [
           {
            "colorbar": {
             "outlinewidth": 0,
             "ticks": ""
            },
            "colorscale": [
             [
              0.0,
              "#0d0887"
             ],
             [
              0.1111111111111111,
              "#46039f"
             ],
             [
              0.2222222222222222,
              "#7201a8"
             ],
             [
              0.3333333333333333,
              "#9c179e"
             ],
             [
              0.4444444444444444,
              "#bd3786"
             ],
             [
              0.5555555555555556,
              "#d8576b"
             ],
             [
              0.6666666666666666,
              "#ed7953"
             ],
             [
              0.7777777777777778,
              "#fb9f3a"
             ],
             [
              0.8888888888888888,
              "#fdca26"
             ],
             [
              1.0,
              "#f0f921"
             ]
            ],
            "type": "contour"
           }
          ],
          "heatmap": [
           {
            "colorbar": {
             "outlinewidth": 0,
             "ticks": ""
            },
            "colorscale": [
             [
              0.0,
              "#0d0887"
             ],
             [
              0.1111111111111111,
              "#46039f"
             ],
             [
              0.2222222222222222,
              "#7201a8"
             ],
             [
              0.3333333333333333,
              "#9c179e"
             ],
             [
              0.4444444444444444,
              "#bd3786"
             ],
             [
              0.5555555555555556,
              "#d8576b"
             ],
             [
              0.6666666666666666,
              "#ed7953"
             ],
             [
              0.7777777777777778,
              "#fb9f3a"
             ],
             [
              0.8888888888888888,
              "#fdca26"
             ],
             [
              1.0,
              "#f0f921"
             ]
            ],
            "type": "heatmap"
           }
          ],
          "histogram2dcontour": [
           {
            "colorbar": {
             "outlinewidth": 0,
             "ticks": ""
            },
            "colorscale": [
             [
              0.0,
              "#0d0887"
             ],
             [
              0.1111111111111111,
              "#46039f"
             ],
             [
              0.2222222222222222,
              "#7201a8"
             ],
             [
              0.3333333333333333,
              "#9c179e"
             ],
             [
              0.4444444444444444,
              "#bd3786"
             ],
             [
              0.5555555555555556,
              "#d8576b"
             ],
             [
              0.6666666666666666,
              "#ed7953"
             ],
             [
              0.7777777777777778,
              "#fb9f3a"
             ],
             [
              0.8888888888888888,
              "#fdca26"
             ],
             [
              1.0,
              "#f0f921"
             ]
            ],
            "type": "histogram2dcontour"
           }
          ],
          "histogram2d": [
           {
            "colorbar": {
             "outlinewidth": 0,
             "ticks": ""
            },
            "colorscale": [
             [
              0.0,
              "#0d0887"
             ],
             [
              0.1111111111111111,
              "#46039f"
             ],
             [
              0.2222222222222222,
              "#7201a8"
             ],
             [
              0.3333333333333333,
              "#9c179e"
             ],
             [
              0.4444444444444444,
              "#bd3786"
             ],
             [
              0.5555555555555556,
              "#d8576b"
             ],
             [
              0.6666666666666666,
              "#ed7953"
             ],
             [
              0.7777777777777778,
              "#fb9f3a"
             ],
             [
              0.8888888888888888,
              "#fdca26"
             ],
             [
              1.0,
              "#f0f921"
             ]
            ],
            "type": "histogram2d"
           }
          ],
          "histogram": [
           {
            "marker": {
             "pattern": {
              "fillmode": "overlay",
              "size": 10,
              "solidity": 0.2
             }
            },
            "type": "histogram"
           }
          ],
          "mesh3d": [
           {
            "colorbar": {
             "outlinewidth": 0,
             "ticks": ""
            },
            "type": "mesh3d"
           }
          ],
          "parcoords": [
           {
            "line": {
             "colorbar": {
              "outlinewidth": 0,
              "ticks": ""
             }
            },
            "type": "parcoords"
           }
          ],
          "pie": [
           {
            "automargin": true,
            "type": "pie"
           }
          ],
          "scatter3d": [
           {
            "line": {
             "colorbar": {
              "outlinewidth": 0,
              "ticks": ""
             }
            },
            "marker": {
             "colorbar": {
              "outlinewidth": 0,
              "ticks": ""
             }
            },
            "type": "scatter3d"
           }
          ],
          "scattercarpet": [
           {
            "marker": {
             "colorbar": {
              "outlinewidth": 0,
              "ticks": ""
             }
            },
            "type": "scattercarpet"
           }
          ],
          "scattergeo": [
           {
            "marker": {
             "colorbar": {
              "outlinewidth": 0,
              "ticks": ""
             }
            },
            "type": "scattergeo"
           }
          ],
          "scattergl": [
           {
            "marker": {
             "line": {
              "color": "#283442"
             }
            },
            "type": "scattergl"
           }
          ],
          "scattermapbox": [
           {
            "marker": {
             "colorbar": {
              "outlinewidth": 0,
              "ticks": ""
             }
            },
            "type": "scattermapbox"
           }
          ],
          "scattermap": [
           {
            "marker": {
             "colorbar": {
              "outlinewidth": 0,
              "ticks": ""
             }
            },
            "type": "scattermap"
           }
          ],
          "scatterpolargl": [
           {
            "marker": {
             "colorbar": {
              "outlinewidth": 0,
              "ticks": ""
             }
            },
            "type": "scatterpolargl"
           }
          ],
          "scatterpolar": [
           {
            "marker": {
             "colorbar": {
              "outlinewidth": 0,
              "ticks": ""
             }
            },
            "type": "scatterpolar"
           }
          ],
          "scatter": [
           {
            "marker": {
             "line": {
              "color": "#283442"
             }
            },
            "type": "scatter"
           }
          ],
          "scatterternary": [
           {
            "marker": {
             "colorbar": {
              "outlinewidth": 0,
              "ticks": ""
             }
            },
            "type": "scatterternary"
           }
          ],
          "surface": [
           {
            "colorbar": {
             "outlinewidth": 0,
             "ticks": ""
            },
            "colorscale": [
             [
              0.0,
              "#0d0887"
             ],
             [
              0.1111111111111111,
              "#46039f"
             ],
             [
              0.2222222222222222,
              "#7201a8"
             ],
             [
              0.3333333333333333,
              "#9c179e"
             ],
             [
              0.4444444444444444,
              "#bd3786"
             ],
             [
              0.5555555555555556,
              "#d8576b"
             ],
             [
              0.6666666666666666,
              "#ed7953"
             ],
             [
              0.7777777777777778,
              "#fb9f3a"
             ],
             [
              0.8888888888888888,
              "#fdca26"
             ],
             [
              1.0,
              "#f0f921"
             ]
            ],
            "type": "surface"
           }
          ],
          "table": [
           {
            "cells": {
             "fill": {
              "color": "#506784"
             },
             "line": {
              "color": "rgb(17,17,17)"
             }
            },
            "header": {
             "fill": {
              "color": "#2a3f5f"
             },
             "line": {
              "color": "rgb(17,17,17)"
             }
            },
            "type": "table"
           }
          ]
         },
         "layout": {
          "annotationdefaults": {
           "arrowcolor": "#f2f5fa",
           "arrowhead": 0,
           "arrowwidth": 1
          },
          "autotypenumbers": "strict",
          "coloraxis": {
           "colorbar": {
            "outlinewidth": 0,
            "ticks": ""
           }
          },
          "colorscale": {
           "diverging": [
            [
             0,
             "#8e0152"
            ],
            [
             0.1,
             "#c51b7d"
            ],
            [
             0.2,
             "#de77ae"
            ],
            [
             0.3,
             "#f1b6da"
            ],
            [
             0.4,
             "#fde0ef"
            ],
            [
             0.5,
             "#f7f7f7"
            ],
            [
             0.6,
             "#e6f5d0"
            ],
            [
             0.7,
             "#b8e186"
            ],
            [
             0.8,
             "#7fbc41"
            ],
            [
             0.9,
             "#4d9221"
            ],
            [
             1,
             "#276419"
            ]
           ],
           "sequential": [
            [
             0.0,
             "#0d0887"
            ],
            [
             0.1111111111111111,
             "#46039f"
            ],
            [
             0.2222222222222222,
             "#7201a8"
            ],
            [
             0.3333333333333333,
             "#9c179e"
            ],
            [
             0.4444444444444444,
             "#bd3786"
            ],
            [
             0.5555555555555556,
             "#d8576b"
            ],
            [
             0.6666666666666666,
             "#ed7953"
            ],
            [
             0.7777777777777778,
             "#fb9f3a"
            ],
            [
             0.8888888888888888,
             "#fdca26"
            ],
            [
             1.0,
             "#f0f921"
            ]
           ],
           "sequentialminus": [
            [
             0.0,
             "#0d0887"
            ],
            [
             0.1111111111111111,
             "#46039f"
            ],
            [
             0.2222222222222222,
             "#7201a8"
            ],
            [
             0.3333333333333333,
             "#9c179e"
            ],
            [
             0.4444444444444444,
             "#bd3786"
            ],
            [
             0.5555555555555556,
             "#d8576b"
            ],
            [
             0.6666666666666666,
             "#ed7953"
            ],
            [
             0.7777777777777778,
             "#fb9f3a"
            ],
            [
             0.8888888888888888,
             "#fdca26"
            ],
            [
             1.0,
             "#f0f921"
            ]
           ]
          },
          "colorway": [
           "#636efa",
           "#EF553B",
           "#00cc96",
           "#ab63fa",
           "#FFA15A",
           "#19d3f3",
           "#FF6692",
           "#B6E880",
           "#FF97FF",
           "#FECB52"
          ],
          "font": {
           "color": "#f2f5fa"
          },
          "geo": {
           "bgcolor": "rgb(17,17,17)",
           "lakecolor": "rgb(17,17,17)",
           "landcolor": "rgb(17,17,17)",
           "showlakes": true,
           "showland": true,
           "subunitcolor": "#506784"
          },
          "hoverlabel": {
           "align": "left"
          },
          "hovermode": "closest",
          "mapbox": {
           "style": "dark"
          },
          "paper_bgcolor": "rgb(17,17,17)",
          "plot_bgcolor": "rgb(17,17,17)",
          "polar": {
           "angularaxis": {
            "gridcolor": "#506784",
            "linecolor": "#506784",
            "ticks": ""
           },
           "bgcolor": "rgb(17,17,17)",
           "radialaxis": {
            "gridcolor": "#506784",
            "linecolor": "#506784",
            "ticks": ""
           }
          },
          "scene": {
           "xaxis": {
            "backgroundcolor": "rgb(17,17,17)",
            "gridcolor": "#506784",
            "gridwidth": 2,
            "linecolor": "#506784",
            "showbackground": true,
            "ticks": "",
            "zerolinecolor": "#C8D4E3"
           },
           "yaxis": {
            "backgroundcolor": "rgb(17,17,17)",
            "gridcolor": "#506784",
            "gridwidth": 2,
            "linecolor": "#506784",
            "showbackground": true,
            "ticks": "",
            "zerolinecolor": "#C8D4E3"
           },
           "zaxis": {
            "backgroundcolor": "rgb(17,17,17)",
            "gridcolor": "#506784",
            "gridwidth": 2,
            "linecolor": "#506784",
            "showbackground": true,
            "ticks": "",
            "zerolinecolor": "#C8D4E3"
           }
          },
          "shapedefaults": {
           "line": {
            "color": "#f2f5fa"
           }
          },
          "sliderdefaults": {
           "bgcolor": "#C8D4E3",
           "bordercolor": "rgb(17,17,17)",
           "borderwidth": 1,
           "tickwidth": 0
          },
          "ternary": {
           "aaxis": {
            "gridcolor": "#506784",
            "linecolor": "#506784",
            "ticks": ""
           },
           "baxis": {
            "gridcolor": "#506784",
            "linecolor": "#506784",
            "ticks": ""
           },
           "bgcolor": "rgb(17,17,17)",
           "caxis": {
            "gridcolor": "#506784",
            "linecolor": "#506784",
            "ticks": ""
           }
          },
          "title": {
           "x": 0.05
          },
          "updatemenudefaults": {
           "bgcolor": "#506784",
           "borderwidth": 0
          },
          "xaxis": {
           "automargin": true,
           "gridcolor": "#283442",
           "linecolor": "#506784",
           "ticks": "",
           "title": {
            "standoff": 15
           },
           "zerolinecolor": "#283442",
           "zerolinewidth": 2
          },
          "yaxis": {
           "automargin": true,
           "gridcolor": "#283442",
           "linecolor": "#506784",
           "ticks": "",
           "title": {
            "standoff": 15
           },
           "zerolinecolor": "#283442",
           "zerolinewidth": 2
          }
         }
        },
        "xaxis": {
         "anchor": "y",
         "domain": [
          0.0,
          1.0
         ],
         "title": {
          "text": "z1"
         }
        },
        "yaxis": {
         "anchor": "x",
         "domain": [
          0.0,
          1.0
         ],
         "title": {
          "text": "z2"
         }
        },
        "legend": {
         "title": {
          "text": "color"
         },
         "tracegroupgap": 0
        },
        "margin": {
         "t": 50,
         "l": 0,
         "r": 0,
         "b": 0
        },
        "width": 850,
        "height": 650,
        "title": {
         "text": "Latent Space (t-SNE)"
        }
       },
       "config": {
        "plotlyServerURL": "https://plot.ly"
       }
      }
     },
     "metadata": {},
     "output_type": "display_data"
    }
   ],
   "execution_count": 9
  },
  {
   "cell_type": "code",
   "execution_count": null,
   "id": "3f2c6a6b91636c46",
   "metadata": {
    "ExecuteTime": {
     "end_time": "2025-10-10T15:28:01.490162Z",
     "start_time": "2025-10-10T15:28:01.488179Z"
    }
   },
   "outputs": [],
   "source": [
    "vae_save_name =  f'{vae.__class__.__name__}_{run_name}'\n",
    "vae_path = os.path.join(model_save_path, f'vae/{vae_save_name}.safetensors')\n",
    "if os.path.exists(vae_path):\n",
    "    print(f\"Path: {vae_path} \\n already exists! Appending run_id to make unique\")\n",
    "    vae_path = vae_path.split('.safetensors')[0] + str(wandb.run.id) + '.safetensors'\n",
    "print(f\"Saving to: {vae_path}\")"
   ]
  },
  {
   "cell_type": "code",
   "execution_count": 33,
   "id": "bbed106df9ed1c6c",
   "metadata": {},
   "outputs": [],
   "source": [
    "save_file(vae.state_dict(), vae_path)"
   ]
  },
  {
   "cell_type": "markdown",
   "id": "c6880ab42c71b1d6",
   "metadata": {
    "jp-MarkdownHeadingCollapsed": true
   },
   "source": [
    "### Encode VAE"
   ]
  },
  {
   "cell_type": "code",
   "execution_count": 34,
   "id": "e7e1403e47e6ed12",
   "metadata": {},
   "outputs": [
    {
     "name": "stdout",
     "output_type": "stream",
     "text": [
      "Processing train split...\n",
      "\n"
     ]
    },
    {
     "name": "stderr",
     "output_type": "stream",
     "text": [
      "Loader: MNIST train Batch 469/469: 100%|██████████████████████████████████████████████████████████████████████████████████████████████████████████████████████████████████████| 469/469 [00:01<00:00, 251.02it/s]\n"
     ]
    },
    {
     "name": "stdout",
     "output_type": "stream",
     "text": [
      "Processing test split...\n",
      "\n"
     ]
    },
    {
     "name": "stderr",
     "output_type": "stream",
     "text": [
      "Loader: MNIST test Batch 79/79: 100%|███████████████████████████████████████████████████████████████████████████████████████████████████████████████████████████████████████████| 79/79 [00:00<00:00, 243.78it/s]\n"
     ]
    }
   ],
   "source": [
    "vae.eval()\n",
    "encode_dataset(vae, train_dl, test_dl, suffix=suffix)"
   ]
  },
  {
   "cell_type": "markdown",
   "id": "509476dd47161936",
   "metadata": {
    "jp-MarkdownHeadingCollapsed": true
   },
   "source": [
    "### Flow Matching"
   ]
  },
  {
   "cell_type": "code",
   "execution_count": null,
   "id": "cd32228ccbf3786a",
   "metadata": {},
   "outputs": [],
   "source": []
  },
  {
   "cell_type": "code",
   "execution_count": null,
   "id": "b83bad509a4198d4",
   "metadata": {},
   "outputs": [],
   "source": [
    "# load vae if needed\n",
    "name_of_vae_tensor = 'sp_vae.safetensors'\n",
    "path_to_vae = os.path.join(model_save_path, '/vae/', name_of_vae_tensor)\n",
    "vae = ResNetVAE().to(device)\n",
    "vae.load_state_dict(load_file(vae_path))\n",
    "vae.eval()"
   ]
  },
  {
   "cell_type": "code",
   "execution_count": 35,
   "id": "83ee395949645a8e",
   "metadata": {},
   "outputs": [],
   "source": [
    "# load latent encoded data\n",
    "latent_data_path = os.path.join('data', vae.encoder.__class__.__name__ + '_' + suffix + '/MNIST/')\n",
    "latent_train_ds, latent_test_ds = load_encoded_dataset(latent_data_path)\n",
    "latent_train_dl = DataLoader(latent_train_ds, batch_size=batch_size, shuffle=True)\n",
    "latent_test_dl  = DataLoader(latent_test_ds, batch_size=batch_size, shuffle=False)"
   ]
  },
  {
   "cell_type": "code",
   "execution_count": 56,
   "id": "8217fb04fa0b57c3",
   "metadata": {},
   "outputs": [],
   "source": [
    "project = 'flow_experimentation'\n",
    "def train_flow(model, train_loader, test_loader, name='flow_model', pretrained_model=None, epochs=20, lr=0.001, warp_fn=None, new_points_every=1, spatial=True):\n",
    "    wandb.finish()\n",
    "    wandb.init(project=project, name=name, reinit='finish_previous')\n",
    "    wandb.config.update({\n",
    "        \"epochs\": epochs,\n",
    "        \"batch_size\": train_loader.batch_size,\n",
    "        \"learning_rate\": lr,\n",
    "        \"model\": model.__class__.__name__,\n",
    "        \"optimizer\": \"Adam\"\n",
    "    })\n",
    "\n",
    "    criterion = nn.MSELoss()\n",
    "    optimizer = optim.Adam(model.parameters(), lr=lr)\n",
    "\n",
    "    global_step = 1\n",
    "\n",
    "    for epoch in range(epochs):\n",
    "        # Training phase\n",
    "        model.train()\n",
    "        pbar = tqdm(train_loader, desc=f'Epoch {epoch+1}/{epochs}', leave=False)\n",
    "\n",
    "        for batch_idx, (data, _) in enumerate(pbar):\n",
    "            optimizer.zero_grad()\n",
    "\n",
    "            # Get data and create a sample from it to calc movement\n",
    "            target_x = data.to(device)\n",
    "            sampled_x = torch.randn_like(target_x)\n",
    "            B = sampled_x.size(0)\n",
    "\n",
    "            if global_step % new_points_every == 0:\n",
    "                if pretrained_model:   # ReFlow\n",
    "                    target_x = integrate_path(pretrained_model, sampled_x, step_fn=rk4_step, warp_fn=warp_time, n_steps=20)\n",
    "\n",
    "            t  = torch.rand(B, 1, device=sampled_x.device, dtype=sampled_x.dtype)\n",
    "\n",
    "            if warp_fn: t = warp_fn(t)\n",
    "            \n",
    "            if spatial: \n",
    "                # t4 = torch.zeros_like(sampled_x) + t\n",
    "                t4 = t.view(B, 1, 1, 1)\n",
    "                interpolated_x = sampled_x * (1 - t4) + target_x * t4\n",
    "            else:\n",
    "                interpolated_x = sampled_x * (1-t) + target_x * t\n",
    "\n",
    "            \n",
    "            line_directions = target_x - sampled_x\n",
    "            \n",
    "            drift = model(interpolated_x, t)\n",
    "            loss = criterion(drift, line_directions)\n",
    "\n",
    "            loss.backward()\n",
    "            optimizer.step()\n",
    "\n",
    "            with torch.no_grad():\n",
    "                cos_sim = F.cosine_similarity(drift, line_directions, dim=1).mean()\n",
    "\n",
    "            wandb.log({\n",
    "                \"step\": global_step,\n",
    "                \"train_loss\": loss.item(),\n",
    "                \"cos_sim\": cos_sim.item(),\n",
    "                \"drift\": drift.norm(dim=1).mean().item(),\n",
    "            })\n",
    "            global_step += 1\n",
    "\n",
    "    return model"
   ]
  },
  {
   "cell_type": "code",
   "execution_count": 37,
   "id": "83c5f120e74e7280",
   "metadata": {},
   "outputs": [],
   "source": [
    "flow = FlatVelocityNet(13).to(device)"
   ]
  },
  {
   "cell_type": "code",
   "execution_count": 40,
   "id": "261bd767b0b677b5",
   "metadata": {},
   "outputs": [],
   "source": [
    "flow_name = f'flow_{suffix}'\n",
    "train_flow(flow, latent_train_dl, latent_test_dl, name=flow_name, epochs=100, spatial=False)"
   ]
  },
  {
   "cell_type": "code",
   "execution_count": 41,
   "id": "4c608b35e32cef3b",
   "metadata": {},
   "outputs": [
    {
     "name": "stdout",
     "output_type": "stream",
     "text": [
      "Saving to: models/safetensors/flow/FlatVelocityNet_flow_l13_base_16_block_2.safetensors\n"
     ]
    }
   ],
   "source": [
    "flow_save_name =  f'{flow.__class__.__name__}_{flow_name}'\n",
    "flow_path = os.path.join(model_save_path, f'flow/{flow_save_name}.safetensors')\n",
    "if os.path.exists(flow_path):\n",
    "    print(f\"Path: {flow_path} \\n already exists! Appending run_id to make unique\")\n",
    "    flow_path = flow_path.split('.safetensors')[0] + str(wandb.run.id) + '.safetensors'\n",
    "print(f\"Saving to: {flow_path}\")"
   ]
  },
  {
   "cell_type": "code",
   "execution_count": 42,
   "id": "3804733a85e8cdbb",
   "metadata": {},
   "outputs": [],
   "source": [
    "save_file(flow.state_dict(), flow_path)"
   ]
  },
  {
   "cell_type": "markdown",
   "id": "5d6ddb4d062f4e6e",
   "metadata": {
    "jp-MarkdownHeadingCollapsed": true
   },
   "source": [
    "#### Pretrained Model"
   ]
  },
  {
   "cell_type": "code",
   "execution_count": null,
   "id": "797c9dc82fdd7b02",
   "metadata": {},
   "outputs": [],
   "source": [
    "name_of_flow_tensor = 'flow_2.safetensors'\n",
    "path_to_flow = os.path.join(model_save_path, '/flow/', name_of_flow_tensor)"
   ]
  },
  {
   "cell_type": "code",
   "execution_count": null,
   "id": "6a06dab455c20304",
   "metadata": {},
   "outputs": [],
   "source": [
    "teacher_flow = ConvFlowNet(1).to(device)\n",
    "teacher_flow.load_state_dict(load_file())"
   ]
  },
  {
   "cell_type": "code",
   "execution_count": null,
   "id": "61af454d337d167a",
   "metadata": {},
   "outputs": [],
   "source": []
  },
  {
   "cell_type": "markdown",
   "id": "a540bd159320cb82",
   "metadata": {},
   "source": [
    "#### Visualize Flow"
   ]
  },
  {
   "cell_type": "code",
   "execution_count": 43,
   "id": "27512484e35889f",
   "metadata": {},
   "outputs": [],
   "source": [
    "basic = BasicModel(vae, flow, (13,)).to(device)"
   ]
  },
  {
   "cell_type": "code",
   "execution_count": 70,
   "id": "595f758d44013b8b",
   "metadata": {},
   "outputs": [
    {
     "data": {
      "image/png": "[encoded data removed]",
      "text/plain": [
       "<Figure size 1000x400 with 10 Axes>"
      ]
     },
     "metadata": {},
     "output_type": "display_data"
    }
   ],
   "source": [
    "samples = basic.generate_samples(10, 15)\n",
    "plot_generated(samples)"
   ]
  },
  {
   "cell_type": "code",
   "execution_count": null,
   "id": "eb6675544e083e46",
   "metadata": {},
   "outputs": [],
   "source": [
    "## For comparing two flows\n",
    "x1, x2 = comparative_generate_samples(flow1, flow2, vae, 5, 10)\n",
    "print(\"Normal Flow\")\n",
    "plot_generated(x1)\n",
    "print(\"Re Flow\")\n",
    "plot_generated(x2)"
   ]
  },
  {
   "cell_type": "code",
   "execution_count": null,
   "id": "198c5570-76f9-4b9e-b59f-8d6cfe6a2562",
   "metadata": {},
   "outputs": [],
   "source": []
  },
  {
   "cell_type": "markdown",
   "id": "f20bdfb3ff17d653",
   "metadata": {},
   "source": [
    "### Play Eval Time"
   ]
  },
  {
   "cell_type": "markdown",
   "id": "9a0c0e28d2178433",
   "metadata": {},
   "source": [
    "#### Train flow for final models"
   ]
  },
  {
   "cell_type": "markdown",
   "id": "1b6dcd2f-6f42-4364-8232-e86617661456",
   "metadata": {},
   "source": [
    "##### Vae load"
   ]
  },
  {
   "cell_type": "code",
   "execution_count": 5,
   "id": "11df7f8df06ea563",
   "metadata": {
    "ExecuteTime": {
     "end_time": "2025-10-12T19:11:21.005857Z",
     "start_time": "2025-10-12T19:11:20.834821Z"
    }
   },
   "outputs": [
    {
     "name": "stdout",
     "output_type": "stream",
     "text": [
      "Checkpoint loaded: models/7x7_epoch_2000.pt (epoch 2000)\n",
      "Checkpoint loaded: models/49_epoch_2000.pt (epoch 2000)\n"
     ]
    }
   ],
   "source": [
    "path_to_7x7 = 'models/7x7_epoch_2000.pt'\n",
    "path_to_49 = 'models/49_epoch_2000.pt'\n",
    "\n",
    "vae_7x7_config = dict(\n",
    "    latent_shape=(1, 7, 7),\n",
    "    base_channels=32,\n",
    "    blocks_per_level=1,\n",
    "    groups=4,\n",
    "    dropout=0.294905,\n",
    "    act=nn.SiLU\n",
    ")\n",
    "\n",
    "vae_49_config = dict(\n",
    "    latent_shape=49,\n",
    "    base_channels=32,\n",
    "    blocks_per_level=1,\n",
    "    groups=4,\n",
    "    dropout=0.294905,\n",
    "    act=nn.SiLU,\n",
    ")\n",
    "\n",
    "\n",
    "# Load models, emas, and checkpoints\n",
    "vae_7x7 = InspoResNetVAE(**vae_7x7_config).to(device)\n",
    "ema_7x7 = ExponentialMovingAverage(vae_7x7.parameters(), decay=0.9999).to(device)\n",
    "checkpoint_7x7 = load_checkpoint(path_to_7x7, vae_7x7, ema=ema_7x7, device=device)\n",
    "\n",
    "vae_49 = InspoResNetVAE(**vae_49_config).to(device)\n",
    "ema_49 = ExponentialMovingAverage(vae_49.parameters(), decay=0.9999).to(device)\n",
    "checkpoint_49 = load_checkpoint(path_to_49, vae_49, ema=ema_49, device=device)"
   ]
  },
  {
   "cell_type": "markdown",
   "id": "2b8de6d2-5b7e-4434-9cdf-6f590dfd0c6a",
   "metadata": {
    "jp-MarkdownHeadingCollapsed": true
   },
   "source": [
    "##### minor analysis / data encode"
   ]
  },
  {
   "cell_type": "code",
   "execution_count": 7,
   "id": "fbeeba60-392e-4e46-89f7-6343e613517c",
   "metadata": {
    "ExecuteTime": {
     "end_time": "2025-10-12T19:11:21.763107Z",
     "start_time": "2025-10-12T19:11:21.120792Z"
    }
   },
   "outputs": [
    {
     "name": "stdout",
     "output_type": "stream",
     "text": [
      "vae for 7x7\n"
     ]
    },
    {
     "data": {
      "image/png": "[encoded data removed]",
      "text/plain": [
       "<Figure size 1500x600 with 15 Axes>"
      ]
     },
     "metadata": {},
     "output_type": "display_data"
    },
    {
     "name": "stdout",
     "output_type": "stream",
     "text": [
      "\n",
      "vae for 49\n"
     ]
    },
    {
     "data": {
      "image/png": "[encoded data removed]",
      "text/plain": [
       "<Figure size 1500x400 with 10 Axes>"
      ]
     },
     "metadata": {},
     "output_type": "display_data"
    }
   ],
   "source": [
    "print('vae for 7x7')\n",
    "test_inference_spatial(vae_7x7, train_ds, range(5))\n",
    "# plot_latent_space(vae_7x7, test_dl, use_3d=False, reducer='tsne')\n",
    "\n",
    "print('\\nvae for 49')\n",
    "test_inference(vae_49, train_ds, range(5))\n",
    "# plot_latent_space(vae_49, test_dl, use_3d=False, reducer='tsne')\n"
   ]
  },
  {
   "cell_type": "code",
   "execution_count": null,
   "id": "81348b6d-5a66-4ce0-893c-20375e26b557",
   "metadata": {
    "ExecuteTime": {
     "end_time": "2025-10-12T19:11:28.059759Z",
     "start_time": "2025-10-12T19:11:21.859577Z"
    }
   },
   "outputs": [],
   "source": [
    "encode_dataset(vae_7x7, train_dl, test_dl, suffix='final', ema=ema_7x7)\n",
    "encode_dataset(vae_49, train_dl, test_dl, suffix='final', ema=ema_49)"
   ]
  },
  {
   "cell_type": "markdown",
   "id": "7a4fcd4d-681d-478b-b190-58be585bedd8",
   "metadata": {},
   "source": [
    "##### Now for flow training"
   ]
  },
  {
   "cell_type": "code",
   "execution_count": 6,
   "id": "f3701806-c8fc-4c40-a1a5-e774ab9008e2",
   "metadata": {
    "ExecuteTime": {
     "end_time": "2025-10-12T19:13:12.285187Z",
     "start_time": "2025-10-12T19:13:12.279903Z"
    }
   },
   "outputs": [
    {
     "name": "stdout",
     "output_type": "stream",
     "text": [
      "Loaded 7x7 latent data with shape: (60000, 7, 7)\n",
      "Loaded 49 latent data with shape: (60000, 49)\n"
     ]
    }
   ],
   "source": [
    "# load latent encoded data lets start with 49\n",
    "latent_data_path_49 = os.path.join('data', vae_49.encoder.__class__.__name__ + '_' + 'final' + '/MNIST/')\n",
    "train_ds_49, test_ds_49 = load_encoded_dataset(latent_data_path_49)\n",
    "train_dl_49 = DataLoader(train_ds_49, batch_size=batch_size, shuffle=True)\n",
    "test_dl_49  = DataLoader(test_ds_49, batch_size=batch_size, shuffle=False)\n",
    "\n",
    "# Now 7x7\n",
    "latent_data_path_7x7 = os.path.join('data', vae_7x7.encoder.__class__.__name__ + '_' + 'final' + '/MNIST/')\n",
    "train_ds_7x7, test_ds_7x7 = load_encoded_dataset(latent_data_path_7x7)\n",
    "train_dl_7x7 = DataLoader(train_ds_7x7, batch_size=batch_size, shuffle=True)\n",
    "test_dl_7x7  = DataLoader(test_ds_7x7, batch_size=batch_size, shuffle=False)\n",
    "\n",
    "print(f\"Loaded 7x7 latent data with shape: {train_dl_7x7.dataset.data.shape}\")\n",
    "print(f\"Loaded 49 latent data with shape: {train_dl_49.dataset.data.shape}\")"
   ]
  },
  {
   "cell_type": "code",
   "execution_count": 7,
   "id": "1f28dd5c-cdf5-4d7e-a5b7-2d6909aa243a",
   "metadata": {
    "ExecuteTime": {
     "end_time": "2025-10-12T19:13:14.119973Z",
     "start_time": "2025-10-12T19:13:14.117443Z"
    }
   },
   "outputs": [],
   "source": [
    "class LinearResidualBlock(nn.Module):\n",
    "    \"\"\"Linear version of ResidualBlock for flat flow models\"\"\"\n",
    "    def __init__(self, dim, use_skip=True, use_ln=True, act=nn.SiLU):\n",
    "        super().__init__()\n",
    "        self.fc1 = nn.Linear(dim, dim, bias=not use_ln)\n",
    "        self.ln1 = nn.LayerNorm(dim) if use_ln else nn.Identity()\n",
    "        self.fc2 = nn.Linear(dim, dim, bias=not use_ln)\n",
    "        self.ln2 = nn.LayerNorm(dim) if use_ln else nn.Identity()\n",
    "        self.use_skip = use_skip\n",
    "        self.act = act\n",
    "\n",
    "    def forward(self, x):\n",
    "        if self.use_skip: x0 = x\n",
    "        out = self.act()(self.ln1(self.fc1(x)))\n",
    "        out = self.ln2(self.fc2(out))\n",
    "        if self.use_skip: out = out + x0\n",
    "        return self.act()(out)\n",
    "\n",
    "\n",
    "class InspoFlatVelocityNet(nn.Module):\n",
    "    \"\"\"Flat flow model inspired by InspoResNetVAEEncoder architecture\"\"\"\n",
    "\n",
    "    def __init__(self, input_dim, base_channels=64, blocks_per_level=1, use_skips=True, use_ln=True,\n",
    "                 act=nn.SiLU, groups=1, time_embed_dim=32):\n",
    "        super().__init__()\n",
    "\n",
    "        # Time embedding\n",
    "        self.time_embed = nn.Sequential(\n",
    "            nn.Linear(1, time_embed_dim),\n",
    "            act(),\n",
    "            nn.Linear(time_embed_dim, time_embed_dim)\n",
    "        )\n",
    "\n",
    "        # Input projection with time\n",
    "        self.fc_in = nn.Linear(input_dim + time_embed_dim, base_channels, bias=not use_ln)\n",
    "        self.ln_in = nn.LayerNorm(base_channels) if use_ln else nn.Identity()\n",
    "\n",
    "        # Levels with transitions (like InspoResNetVAEEncoder)\n",
    "        channels = [base_channels, base_channels * 2, base_channels * 4]  # len(channels) = num levels\n",
    "        self.levels = nn.ModuleList(\n",
    "            [nn.ModuleList([LinearResidualBlock(ch, use_skips, use_ln, act=act)\n",
    "                           for _ in range(blocks_per_level)])\n",
    "             for ch in channels])\n",
    "        self.transitions = nn.ModuleList(\n",
    "            [nn.Linear(channels[i], channels[i + 1], bias=not use_ln) for i in range(len(channels) - 1)])\n",
    "\n",
    "        # Output projection\n",
    "        self.fc_out = nn.Linear(base_channels * 4, input_dim)\n",
    "\n",
    "        self.act = act\n",
    "        self.groups = groups\n",
    "\n",
    "    def forward(self, x, t):\n",
    "        # Time embedding\n",
    "        t = t.expand(x.size(0), 1)\n",
    "        t_embed = self.time_embed(t)\n",
    "\n",
    "        # Concatenate input with time embedding\n",
    "        x = torch.cat([x, t_embed], dim=-1)\n",
    "\n",
    "        # Input projection\n",
    "        x = self.act()(self.ln_in(self.fc_in(x)))\n",
    "\n",
    "        # Process through levels with transitions\n",
    "        for i in range(len(self.levels)):\n",
    "            if i > 0:  # transition to next level\n",
    "                x = self.transitions[i - 1](x)\n",
    "            for block in self.levels[i]:\n",
    "                x = block(x)\n",
    "\n",
    "        # Output projection\n",
    "        return self.fc_out(x)"
   ]
  },
  {
   "cell_type": "code",
   "execution_count": 32,
   "id": "e33e98f5-b73b-42c9-b0d6-f7092b8bf5b7",
   "metadata": {
    "ExecuteTime": {
     "end_time": "2025-10-12T19:13:15.582560Z",
     "start_time": "2025-10-12T19:13:15.580293Z"
    }
   },
   "outputs": [
    {
     "name": "stdout",
     "output_type": "stream",
     "text": [
      "Total parameters: 64241\n",
      "Trainable parameters: 64241\n"
     ]
    }
   ],
   "source": [
    "# flow_49 = FlatVelocityNet(49)\n",
    "\n",
    "# flow_config = dict(\n",
    "#     learning_rate=1e-3,\n",
    "#     weight_decay=0.0,\n",
    "#     epochs=10,\n",
    "#     batch_size=128,\n",
    "#     n_steps=20,\n",
    "#     use_time_warp=False,\n",
    "#     reflow_every=0,  # 0 = no reflow, >0 = reflow every N steps\n",
    "# )\n",
    "\n",
    "flow_49 = InspoFlatVelocityNet(\n",
    "    input_dim=49,\n",
    "    base_channels=32,\n",
    "    blocks_per_level=1,\n",
    "    use_skips=True,\n",
    "    use_ln=True\n",
    "\n",
    ")\n",
    "\n",
    "flow_config = dict(\n",
    "    learning_rate=1e-3,\n",
    "    weight_decay=0.0,\n",
    "    epochs=10,\n",
    "    batch_size=128,\n",
    "    n_steps=20,\n",
    "    use_time_warp=False,\n",
    "    reflow_every=0,  # 0 = no reflow, >0 = reflow every N steps\n",
    ")\n",
    "\n",
    "total_params = sum(p.numel() for p in flow_49.parameters())\n",
    "trainable_params = sum(p.numel() for p in flow_49.parameters() if p.requires_grad)\n",
    "print(f\"Total parameters: {total_params}\")\n",
    "print(f\"Trainable parameters: {trainable_params}\")"
   ]
  },
  {
   "cell_type": "code",
   "execution_count": 15,
   "id": "c40a4366-b3ed-495d-a6a8-69ab6ef61f69",
   "metadata": {},
   "outputs": [],
   "source": [
    "import copy\n",
    "parent = copy.deepcopy(flow_49)"
   ]
  },
  {
   "cell_type": "code",
   "execution_count": 33,
   "id": "11492cd3-4a67-4aec-8d11-a0b4c0eef70f",
   "metadata": {},
   "outputs": [
    {
     "data": {
      "text/html": [],
      "text/plain": [
       "<IPython.core.display.HTML object>"
      ]
     },
     "metadata": {},
     "output_type": "display_data"
    },
    {
     "data": {
      "text/html": [
       "Tracking run with wandb version 0.22.2"
      ],
      "text/plain": [
       "<IPython.core.display.HTML object>"
      ]
     },
     "metadata": {},
     "output_type": "display_data"
    },
    {
     "data": {
      "text/html": [
       "Run data is saved locally in <code>E:\\Pycharm\\dl_class_projects\\dl_experimentation\\wandb\\run-20251012_151735-99rn30sf</code>"
      ],
      "text/plain": [
       "<IPython.core.display.HTML object>"
      ]
     },
     "metadata": {},
     "output_type": "display_data"
    },
    {
     "data": {
      "text/html": [
       "Syncing run <strong><a href='https://wandb.ai/marcocassar-belmont-university/flow_experimentation/runs/99rn30sf' target=\"_blank\">lunar-bird-44</a></strong> to <a href='https://wandb.ai/marcocassar-belmont-university/flow_experimentation' target=\"_blank\">Weights & Biases</a> (<a href='https://wandb.me/developer-guide' target=\"_blank\">docs</a>)<br>"
      ],
      "text/plain": [
       "<IPython.core.display.HTML object>"
      ]
     },
     "metadata": {},
     "output_type": "display_data"
    },
    {
     "data": {
      "text/html": [
       " View project at <a href='https://wandb.ai/marcocassar-belmont-university/flow_experimentation' target=\"_blank\">https://wandb.ai/marcocassar-belmont-university/flow_experimentation</a>"
      ],
      "text/plain": [
       "<IPython.core.display.HTML object>"
      ]
     },
     "metadata": {},
     "output_type": "display_data"
    },
    {
     "data": {
      "text/html": [
       " View run at <a href='https://wandb.ai/marcocassar-belmont-university/flow_experimentation/runs/99rn30sf' target=\"_blank\">https://wandb.ai/marcocassar-belmont-university/flow_experimentation/runs/99rn30sf</a>"
      ],
      "text/plain": [
       "<IPython.core.display.HTML object>"
      ]
     },
     "metadata": {},
     "output_type": "display_data"
    },
    {
     "name": "stdout",
     "output_type": "stream",
     "text": [
      "Using device: cuda\n",
      "Training InspoFlatVelocityNet with 64,241 parameters\n",
      "Latent data shape: torch.Size([128, 49]), spatial: False\n"
     ]
    },
    {
     "name": "stderr",
     "output_type": "stream",
     "text": [
      "                                                                                                                       "
     ]
    },
    {
     "name": "stdout",
     "output_type": "stream",
     "text": [
      "Model saved to: E:\\Pycharm\\dl_class_projects\\dl_experimentation\\models/safetensors/flow/standalone\\lunar-bird-44.safetensors\n"
     ]
    },
    {
     "data": {
      "text/html": [],
      "text/plain": [
       "<IPython.core.display.HTML object>"
      ]
     },
     "metadata": {},
     "output_type": "display_data"
    },
    {
     "data": {
      "text/html": [
       "<br>    <style><br>        .wandb-row {<br>            display: flex;<br>            flex-direction: row;<br>            flex-wrap: wrap;<br>            justify-content: flex-start;<br>            width: 100%;<br>        }<br>        .wandb-col {<br>            display: flex;<br>            flex-direction: column;<br>            flex-basis: 100%;<br>            flex: 1;<br>            padding: 10px;<br>        }<br>    </style><br><div class=\"wandb-row\"><div class=\"wandb-col\"><h3>Run history:</h3><br/><table class=\"wandb\"><tr><td>cos_sim</td><td>▁▂▃▅▆▆▆▆▆▆▆▇▇▇▇▇▇▇▇▇▇▇█▇▇██▇██▇▇████████</td></tr><tr><td>drift_norm</td><td>▁▃▄▅▆▆▅▅▅▆▆▆▆▆▇▇▇█▇▆▇█▇▇▇▇▇████▇▇██▇▇██▇</td></tr><tr><td>epoch</td><td>▁▁▁▁▁▂▂▂▂▂▃▃▃▃▃▃▃▃▃▃▃▄▄▄▄▅▅▆▆▆▆▆▇▇▇▇▇███</td></tr><tr><td>step</td><td>▁▁▁▁▂▂▂▂▂▂▂▃▃▃▄▄▄▄▄▄▅▅▅▅▅▅▆▆▆▆▇▇▇▇▇█████</td></tr><tr><td>train_loss</td><td>█▇▅▆▆▆▄▄▅▆▄▅▂▃▃▃▅▃▂▄▃▃▄▂▁▄▃▃▃▃▃▂▃▃▃▁▂▂▃▃</td></tr><tr><td>val_cos_sim</td><td>▁█</td></tr><tr><td>val_loss</td><td>█▁</td></tr></table><br/></div><div class=\"wandb-col\"><h3>Run summary:</h3><br/><table class=\"wandb\"><tr><td>cos_sim</td><td>0.44939</td></tr><tr><td>drift_norm</td><td>4.0044</td></tr><tr><td>epoch</td><td>10</td></tr><tr><td>step</td><td>4689</td></tr><tr><td>train_loss</td><td>1.37221</td></tr><tr><td>val_cos_sim</td><td>0.47404</td></tr><tr><td>val_loss</td><td>1.28237</td></tr></table><br/></div></div>"
      ],
      "text/plain": [
       "<IPython.core.display.HTML object>"
      ]
     },
     "metadata": {},
     "output_type": "display_data"
    },
    {
     "data": {
      "text/html": [
       " View run <strong style=\"color:#cdcd00\">lunar-bird-44</strong> at: <a href='https://wandb.ai/marcocassar-belmont-university/flow_experimentation/runs/99rn30sf' target=\"_blank\">https://wandb.ai/marcocassar-belmont-university/flow_experimentation/runs/99rn30sf</a><br> View project at: <a href='https://wandb.ai/marcocassar-belmont-university/flow_experimentation' target=\"_blank\">https://wandb.ai/marcocassar-belmont-university/flow_experimentation</a><br>Synced 5 W&B file(s), 0 media file(s), 0 artifact file(s) and 0 other file(s)"
      ],
      "text/plain": [
       "<IPython.core.display.HTML object>"
      ]
     },
     "metadata": {},
     "output_type": "display_data"
    },
    {
     "data": {
      "text/html": [
       "Find logs at: <code>.\\wandb\\run-20251012_151735-99rn30sf\\logs</code>"
      ],
      "text/plain": [
       "<IPython.core.display.HTML object>"
      ]
     },
     "metadata": {},
     "output_type": "display_data"
    },
    {
     "data": {
      "text/plain": [
       "InspoFlatVelocityNet(\n",
       "  (time_embed): Sequential(\n",
       "    (0): Linear(in_features=1, out_features=32, bias=True)\n",
       "    (1): SiLU()\n",
       "    (2): Linear(in_features=32, out_features=32, bias=True)\n",
       "  )\n",
       "  (fc_in): Linear(in_features=81, out_features=32, bias=False)\n",
       "  (ln_in): LayerNorm((32,), eps=1e-05, elementwise_affine=True)\n",
       "  (levels): ModuleList(\n",
       "    (0): ModuleList(\n",
       "      (0): LinearResidualBlock(\n",
       "        (fc1): Linear(in_features=32, out_features=32, bias=False)\n",
       "        (ln1): LayerNorm((32,), eps=1e-05, elementwise_affine=True)\n",
       "        (fc2): Linear(in_features=32, out_features=32, bias=False)\n",
       "        (ln2): LayerNorm((32,), eps=1e-05, elementwise_affine=True)\n",
       "      )\n",
       "    )\n",
       "    (1): ModuleList(\n",
       "      (0): LinearResidualBlock(\n",
       "        (fc1): Linear(in_features=64, out_features=64, bias=False)\n",
       "        (ln1): LayerNorm((64,), eps=1e-05, elementwise_affine=True)\n",
       "        (fc2): Linear(in_features=64, out_features=64, bias=False)\n",
       "        (ln2): LayerNorm((64,), eps=1e-05, elementwise_affine=True)\n",
       "      )\n",
       "    )\n",
       "    (2): ModuleList(\n",
       "      (0): LinearResidualBlock(\n",
       "        (fc1): Linear(in_features=128, out_features=128, bias=False)\n",
       "        (ln1): LayerNorm((128,), eps=1e-05, elementwise_affine=True)\n",
       "        (fc2): Linear(in_features=128, out_features=128, bias=False)\n",
       "        (ln2): LayerNorm((128,), eps=1e-05, elementwise_affine=True)\n",
       "      )\n",
       "    )\n",
       "  )\n",
       "  (transitions): ModuleList(\n",
       "    (0): Linear(in_features=32, out_features=64, bias=False)\n",
       "    (1): Linear(in_features=64, out_features=128, bias=False)\n",
       "  )\n",
       "  (fc_out): Linear(in_features=128, out_features=49, bias=True)\n",
       ")"
      ]
     },
     "execution_count": 33,
     "metadata": {},
     "output_type": "execute_result"
    }
   ],
   "source": [
    "flow_train(flow_49, train_dl_49, test_dl_49, config=flow_config\n",
    "           # , pretrained_model=parent\n",
    "          )"
   ]
  },
  {
   "cell_type": "code",
   "execution_count": 34,
   "id": "90d23c34-dec6-4c0b-ab52-3c7e3911820c",
   "metadata": {},
   "outputs": [],
   "source": [
    "basic = BasicModel(vae_49, flow_49, (49,)).to(device)"
   ]
  },
  {
   "cell_type": "code",
   "execution_count": 35,
   "id": "5aec869a-d36c-4b13-9661-1b06a5a7cf81",
   "metadata": {},
   "outputs": [
    {
     "data": {
      "image/png": "[encoded data removed]",
      "text/plain": [
       "<Figure size 1000x400 with 10 Axes>"
      ]
     },
     "metadata": {},
     "output_type": "display_data"
    }
   ],
   "source": [
    "samples = basic.generate_samples(10, 15)\n",
    "plot_generated(samples)"
   ]
  },
  {
   "cell_type": "code",
   "execution_count": 24,
   "id": "887c795f-59cc-4cfd-9abe-0ae0afd63818",
   "metadata": {},
   "outputs": [
    {
     "data": {
      "image/png": "[encoded data removed]",
      "text/plain": [
       "<Figure size 1000x400 with 10 Axes>"
      ]
     },
     "metadata": {},
     "output_type": "display_data"
    }
   ],
   "source": [
    "samples = basic.generate_samples(10, 15)\n",
    "plot_generated(samples)"
   ]
  },
  {
   "cell_type": "markdown",
   "id": "546fd9f2097cee11",
   "metadata": {
    "jp-MarkdownHeadingCollapsed": true
   },
   "source": [
    "#### Old Play"
   ]
  },
  {
   "cell_type": "code",
   "execution_count": 4,
   "id": "3ae343321fbd1f76",
   "metadata": {},
   "outputs": [],
   "source": [
    "# dainty-sweep-158 (cjugxj69)\n",
    "dainty_sweep = dict(\n",
    "    latent_shape=(49,),\n",
    "    base_channels=32,\n",
    "    blocks_per_level=1,\n",
    "    groups=4,\n",
    "    dropout=0.294905,\n",
    "    act=nn.SiLU,\n",
    "\n",
    "    # batch_size=128,\n",
    "    # learning_rate=0.004303,\n",
    "    # weight_decay=0.000039,\n",
    "    # epochs=25,\n",
    "\n",
    "    # beta_final=0.105,\n",
    "    # warmup_epochs=5,\n",
    "    # ema=0.97,\n",
    ")\n",
    "\n",
    "# silver-sweep-152 (yd9u1vxj)\n",
    "silver_sweep = dict(\n",
    "    latent_shape=(49,),\n",
    "    base_channels=32,\n",
    "    blocks_per_level=2,\n",
    "    groups=1,\n",
    "    dropout=0.235134,\n",
    "    act=nn.SiLU,\n",
    "\n",
    "    # batch_size=128,\n",
    "    # learning_rate=0.000764,\n",
    "    # weight_decay=0.000085,\n",
    "    # epochs=25,\n",
    "\n",
    "    # beta_final=0.105,\n",
    "    # warmup_epochs=5,\n",
    "    # ema=0.97,\n",
    ")\n",
    "\n",
    "# stoic-sweep-74 (k8btel7f)\n",
    "stoic_sweep = dict(\n",
    "    latent_shape=(49,),\n",
    "    base_channels=32,\n",
    "    blocks_per_level=3,\n",
    "    groups=1,\n",
    "    dropout=0.218544,\n",
    "    act=nn.GELU,\n",
    "\n",
    "    # batch_size=128,\n",
    "    # learning_rate=0.000595,\n",
    "    # weight_decay=0.000041,\n",
    "    # epochs=25,\n",
    "\n",
    "    # beta_final=0.105,\n",
    "    # warmup_epochs=5,\n",
    "    # ema=0.97,\n",
    ")\n",
    "\n",
    "# earthy-sweep-151 (bzkr37oe)\n",
    "earthy_sweep = dict(\n",
    "    latent_shape=(49,),\n",
    "    base_channels=24,\n",
    "    blocks_per_level=1,\n",
    "    groups=4,\n",
    "    dropout=0.327277,\n",
    "    act=nn.GELU,\n",
    "\n",
    "    # batch_size=128,\n",
    "    # learning_rate=0.009207,\n",
    "    # weight_decay=0.000002,\n",
    "    # epochs=25,\n",
    "\n",
    "    # beta_final=0.105,\n",
    "    # warmup_epochs=5,\n",
    "    # ema=0.97,\n",
    ")\n",
    "\n",
    "# glowing-sweep-110 (zf81gxm4)\n",
    "glowing_sweep = dict(\n",
    "    latent_shape=(49,),\n",
    "    base_channels=16,\n",
    "    blocks_per_level=3,\n",
    "    groups=4,\n",
    "    dropout=0.432183,\n",
    "    act=nn.ReLU,\n",
    "\n",
    "    # batch_size=128,\n",
    "    # learning_rate=0.007816,\n",
    "    # weight_decay=0.000016,\n",
    "    # epochs=25,\n",
    "\n",
    "    # beta_final=0.105,\n",
    "    # warmup_epochs=5,\n",
    "    # ema=0.97,\n",
    ")"
   ]
  },
  {
   "cell_type": "code",
   "execution_count": 5,
   "id": "8ac8b6335503a015",
   "metadata": {},
   "outputs": [],
   "source": [
    "loaded_vaes = []\n",
    "configs_to_load = [dainty_sweep, silver_sweep, stoic_sweep, earthy_sweep, glowing_sweep]\n",
    "names = ['dainty-sweep','silver-sweep', 'stoic-sweep', 'earthy-sweep', 'glowing-sweep']\n",
    "\n",
    "for i, config in enumerate(configs_to_load):\n",
    "    loaded_vae = InspoResNetVAE(**configs_to_load[i]).to(device)\n",
    "    vae_path = f'/Users/marcocassar/Projects/DLAIE/self/dl_experimentation/models/safetensors/vae/6_trained/standalone_{names[i]}.safetensors'\n",
    "    loaded_vae.load_state_dict(load_file(vae_path))\n",
    "    loaded_vaes.append(loaded_vae)"
   ]
  },
  {
   "cell_type": "code",
   "execution_count": null,
   "id": "303d74f56ab2115c",
   "metadata": {},
   "outputs": [],
   "source": [
    "for i, vae_ in enumerate(loaded_vaes):\n",
    "    print(f\"Vae: {names[i]}\")\n",
    "    display(plot_latent_space(vae_, test_dl, use_3d=False, reducer='tsne'))\n",
    "\n",
    "# Encode each\n",
    "for i, vae_ in enumerate(loaded_vaes):\n",
    "    print(f\"Vae: {names[i]}\")\n",
    "    vae_.eval()\n",
    "    suffix = create_model_suffix(configs_to_load[i])\n",
    "    print(f\"Using suffix: {suffix}\")\n",
    "    encode_dataset(vae_, train_dl, test_dl, suffix=suffix)\n",
    "\n",
    "def load_and_train(vae_model, flow_model, suffix, flow_name=None, pretrained_flow_model=None, epochs=5):\n",
    "    latent_data_path = os.path.join('data', vae_model.encoder.__class__.__name__ + '_' + suffix + '/MNIST/')\n",
    "    latent_train_ds, latent_test_ds = load_encoded_dataset(latent_data_path)\n",
    "    latent_train_dl = DataLoader(latent_train_ds, batch_size=batch_size, shuffle=True)\n",
    "    latent_test_dl  = DataLoader(latent_test_ds, batch_size=batch_size, shuffle=False)\n",
    "\n",
    "    if not flow_name: flow_name = suffix\n",
    "\n",
    "    train_flow(flow_model, latent_train_dl, latent_test_dl, name=flow_name, pretrained_model=pretrained_flow_model, epochs=epochs, spatial=False)"
   ]
  },
  {
   "cell_type": "code",
   "execution_count": 41,
   "id": "b513e65674cee951",
   "metadata": {
    "scrolled": true
   },
   "outputs": [
    {
     "data": {
      "text/html": [],
      "text/plain": [
       "<IPython.core.display.HTML object>"
      ]
     },
     "metadata": {},
     "output_type": "display_data"
    },
    {
     "data": {
      "text/html": [
       "Tracking run with wandb version 0.22.2"
      ],
      "text/plain": [
       "<IPython.core.display.HTML object>"
      ]
     },
     "metadata": {},
     "output_type": "display_data"
    },
    {
     "data": {
      "text/html": [
       "Run data is saved locally in <code>/Users/marcocassar/Projects/DLAIE/self/dl_experimentation/wandb/run-20251012_115757-tgvurqrd</code>"
      ],
      "text/plain": [
       "<IPython.core.display.HTML object>"
      ]
     },
     "metadata": {},
     "output_type": "display_data"
    },
    {
     "data": {
      "text/html": [
       "Syncing run <strong><a href='https://wandb.ai/marcocassar-belmont-university/flow_experimentation/runs/tgvurqrd' target=\"_blank\">dainty-sweep</a></strong> to <a href='https://wandb.ai/marcocassar-belmont-university/flow_experimentation' target=\"_blank\">Weights & Biases</a> (<a href='https://wandb.me/developer-guide' target=\"_blank\">docs</a>)<br>"
      ],
      "text/plain": [
       "<IPython.core.display.HTML object>"
      ]
     },
     "metadata": {},
     "output_type": "display_data"
    },
    {
     "data": {
      "text/html": [
       " View project at <a href='https://wandb.ai/marcocassar-belmont-university/flow_experimentation' target=\"_blank\">https://wandb.ai/marcocassar-belmont-university/flow_experimentation</a>"
      ],
      "text/plain": [
       "<IPython.core.display.HTML object>"
      ]
     },
     "metadata": {},
     "output_type": "display_data"
    },
    {
     "data": {
      "text/html": [
       " View run at <a href='https://wandb.ai/marcocassar-belmont-university/flow_experimentation/runs/tgvurqrd' target=\"_blank\">https://wandb.ai/marcocassar-belmont-university/flow_experimentation/runs/tgvurqrd</a>"
      ],
      "text/plain": [
       "<IPython.core.display.HTML object>"
      ]
     },
     "metadata": {},
     "output_type": "display_data"
    },
    {
     "name": "stderr",
     "output_type": "stream",
     "text": [
      "                                                                                                                                                                       "
     ]
    },
    {
     "data": {
      "text/html": [],
      "text/plain": [
       "<IPython.core.display.HTML object>"
      ]
     },
     "metadata": {},
     "output_type": "display_data"
    },
    {
     "data": {
      "text/html": [
       "<br>    <style><br>        .wandb-row {<br>            display: flex;<br>            flex-direction: row;<br>            flex-wrap: wrap;<br>            justify-content: flex-start;<br>            width: 100%;<br>        }<br>        .wandb-col {<br>            display: flex;<br>            flex-direction: column;<br>            flex-basis: 100%;<br>            flex: 1;<br>            padding: 10px;<br>        }<br>    </style><br><div class=\"wandb-row\"><div class=\"wandb-col\"><h3>Run history:</h3><br/><table class=\"wandb\"><tr><td>cos_sim</td><td>▁▃▃▃▃▄▃▄▆▆▅▆▆▆▆▇▆▆▆█▇▇▇▇▇▇▇▇▇▇███▇█▇▇▇▇█</td></tr><tr><td>drift</td><td>▁▂▃▂▃▃▄▄▅▅▅▆▆▇▆▆▇▇▇▇▇▇▇▇▇▇▇▇▇███████████</td></tr><tr><td>step</td><td>▁▁▁▁▁▂▂▃▃▃▃▃▄▄▄▄▄▄▄▄▅▅▅▅▅▅▆▆▆▆▇▇▇▇▇▇████</td></tr><tr><td>train_loss</td><td>█▇▇█▆▅▄▄▄▄▃▃▃▃▂▃▃▁▃▃▂▂▂▂▃▃▄▃▂▃▂▂▂▂▂▁▄▃▂▂</td></tr></table><br/></div><div class=\"wandb-col\"><h3>Run summary:</h3><br/><table class=\"wandb\"><tr><td>cos_sim</td><td>0.58586</td></tr><tr><td>drift</td><td>5.12682</td></tr><tr><td>step</td><td>46900</td></tr><tr><td>train_loss</td><td>1.08055</td></tr></table><br/></div></div>"
      ],
      "text/plain": [
       "<IPython.core.display.HTML object>"
      ]
     },
     "metadata": {},
     "output_type": "display_data"
    },
    {
     "data": {
      "text/html": [
       " View run <strong style=\"color:#cdcd00\">dainty-sweep</strong> at: <a href='https://wandb.ai/marcocassar-belmont-university/flow_experimentation/runs/tgvurqrd' target=\"_blank\">https://wandb.ai/marcocassar-belmont-university/flow_experimentation/runs/tgvurqrd</a><br> View project at: <a href='https://wandb.ai/marcocassar-belmont-university/flow_experimentation' target=\"_blank\">https://wandb.ai/marcocassar-belmont-university/flow_experimentation</a><br>Synced 5 W&B file(s), 0 media file(s), 0 artifact file(s) and 0 other file(s)"
      ],
      "text/plain": [
       "<IPython.core.display.HTML object>"
      ]
     },
     "metadata": {},
     "output_type": "display_data"
    },
    {
     "data": {
      "text/html": [
       "Find logs at: <code>./wandb/run-20251012_115757-tgvurqrd/logs</code>"
      ],
      "text/plain": [
       "<IPython.core.display.HTML object>"
      ]
     },
     "metadata": {},
     "output_type": "display_data"
    },
    {
     "data": {
      "text/html": [],
      "text/plain": [
       "<IPython.core.display.HTML object>"
      ]
     },
     "metadata": {},
     "output_type": "display_data"
    },
    {
     "data": {
      "text/html": [
       "Tracking run with wandb version 0.22.2"
      ],
      "text/plain": [
       "<IPython.core.display.HTML object>"
      ]
     },
     "metadata": {},
     "output_type": "display_data"
    },
    {
     "data": {
      "text/html": [
       "Run data is saved locally in <code>/Users/marcocassar/Projects/DLAIE/self/dl_experimentation/wandb/run-20251012_120018-ia27bmxg</code>"
      ],
      "text/plain": [
       "<IPython.core.display.HTML object>"
      ]
     },
     "metadata": {},
     "output_type": "display_data"
    },
    {
     "data": {
      "text/html": [
       "Syncing run <strong><a href='https://wandb.ai/marcocassar-belmont-university/flow_experimentation/runs/ia27bmxg' target=\"_blank\">silver-sweep</a></strong> to <a href='https://wandb.ai/marcocassar-belmont-university/flow_experimentation' target=\"_blank\">Weights & Biases</a> (<a href='https://wandb.me/developer-guide' target=\"_blank\">docs</a>)<br>"
      ],
      "text/plain": [
       "<IPython.core.display.HTML object>"
      ]
     },
     "metadata": {},
     "output_type": "display_data"
    },
    {
     "data": {
      "text/html": [
       " View project at <a href='https://wandb.ai/marcocassar-belmont-university/flow_experimentation' target=\"_blank\">https://wandb.ai/marcocassar-belmont-university/flow_experimentation</a>"
      ],
      "text/plain": [
       "<IPython.core.display.HTML object>"
      ]
     },
     "metadata": {},
     "output_type": "display_data"
    },
    {
     "data": {
      "text/html": [
       " View run at <a href='https://wandb.ai/marcocassar-belmont-university/flow_experimentation/runs/ia27bmxg' target=\"_blank\">https://wandb.ai/marcocassar-belmont-university/flow_experimentation/runs/ia27bmxg</a>"
      ],
      "text/plain": [
       "<IPython.core.display.HTML object>"
      ]
     },
     "metadata": {},
     "output_type": "display_data"
    },
    {
     "name": "stderr",
     "output_type": "stream",
     "text": [
      "                                                                                                                                                                       "
     ]
    },
    {
     "data": {
      "text/html": [],
      "text/plain": [
       "<IPython.core.display.HTML object>"
      ]
     },
     "metadata": {},
     "output_type": "display_data"
    },
    {
     "data": {
      "text/html": [
       "<br>    <style><br>        .wandb-row {<br>            display: flex;<br>            flex-direction: row;<br>            flex-wrap: wrap;<br>            justify-content: flex-start;<br>            width: 100%;<br>        }<br>        .wandb-col {<br>            display: flex;<br>            flex-direction: column;<br>            flex-basis: 100%;<br>            flex: 1;<br>            padding: 10px;<br>        }<br>    </style><br><div class=\"wandb-row\"><div class=\"wandb-col\"><h3>Run history:</h3><br/><table class=\"wandb\"><tr><td>cos_sim</td><td>▁▃▃▄▄▅▅▅▆▅▆▅▅▅▆▆▆▆▆▆▆▆▇▅▆▇▆▇▇▆██▇▆▇▆▆█▆▇</td></tr><tr><td>drift</td><td>▁▂▃▄▄▄▅▆▆▆▆▆▆▆▆▆▇▆▇▇▇▇▇▇▇▇▇▇▇▇▇▇█▇▇██▇██</td></tr><tr><td>step</td><td>▁▁▁▁▁▂▂▂▂▂▃▃▃▃▃▃▄▄▄▄▄▅▅▅▆▆▆▆▆▆▆▆▆▇▇▇▇▇██</td></tr><tr><td>train_loss</td><td>█▇▇▅▆▆▅▅▃▄▄▆▆▃▄▃▃▃▃▃▄▂▁▃▃▂▃▃▂▃▃▂▂▃▂▂▁▄▂▁</td></tr></table><br/></div><div class=\"wandb-col\"><h3>Run summary:</h3><br/><table class=\"wandb\"><tr><td>cos_sim</td><td>0.59158</td></tr><tr><td>drift</td><td>5.27407</td></tr><tr><td>step</td><td>46900</td></tr><tr><td>train_loss</td><td>1.0518</td></tr></table><br/></div></div>"
      ],
      "text/plain": [
       "<IPython.core.display.HTML object>"
      ]
     },
     "metadata": {},
     "output_type": "display_data"
    },
    {
     "data": {
      "text/html": [
       " View run <strong style=\"color:#cdcd00\">silver-sweep</strong> at: <a href='https://wandb.ai/marcocassar-belmont-university/flow_experimentation/runs/ia27bmxg' target=\"_blank\">https://wandb.ai/marcocassar-belmont-university/flow_experimentation/runs/ia27bmxg</a><br> View project at: <a href='https://wandb.ai/marcocassar-belmont-university/flow_experimentation' target=\"_blank\">https://wandb.ai/marcocassar-belmont-university/flow_experimentation</a><br>Synced 5 W&B file(s), 0 media file(s), 0 artifact file(s) and 0 other file(s)"
      ],
      "text/plain": [
       "<IPython.core.display.HTML object>"
      ]
     },
     "metadata": {},
     "output_type": "display_data"
    },
    {
     "data": {
      "text/html": [
       "Find logs at: <code>./wandb/run-20251012_120018-ia27bmxg/logs</code>"
      ],
      "text/plain": [
       "<IPython.core.display.HTML object>"
      ]
     },
     "metadata": {},
     "output_type": "display_data"
    },
    {
     "data": {
      "text/html": [],
      "text/plain": [
       "<IPython.core.display.HTML object>"
      ]
     },
     "metadata": {},
     "output_type": "display_data"
    },
    {
     "data": {
      "text/html": [
       "Tracking run with wandb version 0.22.2"
      ],
      "text/plain": [
       "<IPython.core.display.HTML object>"
      ]
     },
     "metadata": {},
     "output_type": "display_data"
    },
    {
     "data": {
      "text/html": [
       "Run data is saved locally in <code>/Users/marcocassar/Projects/DLAIE/self/dl_experimentation/wandb/run-20251012_120237-wujukmvl</code>"
      ],
      "text/plain": [
       "<IPython.core.display.HTML object>"
      ]
     },
     "metadata": {},
     "output_type": "display_data"
    },
    {
     "data": {
      "text/html": [
       "Syncing run <strong><a href='https://wandb.ai/marcocassar-belmont-university/flow_experimentation/runs/wujukmvl' target=\"_blank\">stoic-sweep</a></strong> to <a href='https://wandb.ai/marcocassar-belmont-university/flow_experimentation' target=\"_blank\">Weights & Biases</a> (<a href='https://wandb.me/developer-guide' target=\"_blank\">docs</a>)<br>"
      ],
      "text/plain": [
       "<IPython.core.display.HTML object>"
      ]
     },
     "metadata": {},
     "output_type": "display_data"
    },
    {
     "data": {
      "text/html": [
       " View project at <a href='https://wandb.ai/marcocassar-belmont-university/flow_experimentation' target=\"_blank\">https://wandb.ai/marcocassar-belmont-university/flow_experimentation</a>"
      ],
      "text/plain": [
       "<IPython.core.display.HTML object>"
      ]
     },
     "metadata": {},
     "output_type": "display_data"
    },
    {
     "data": {
      "text/html": [
       " View run at <a href='https://wandb.ai/marcocassar-belmont-university/flow_experimentation/runs/wujukmvl' target=\"_blank\">https://wandb.ai/marcocassar-belmont-university/flow_experimentation/runs/wujukmvl</a>"
      ],
      "text/plain": [
       "<IPython.core.display.HTML object>"
      ]
     },
     "metadata": {},
     "output_type": "display_data"
    },
    {
     "name": "stderr",
     "output_type": "stream",
     "text": [
      "                                                                                                                                                                       "
     ]
    },
    {
     "data": {
      "text/html": [],
      "text/plain": [
       "<IPython.core.display.HTML object>"
      ]
     },
     "metadata": {},
     "output_type": "display_data"
    },
    {
     "data": {
      "text/html": [
       "<br>    <style><br>        .wandb-row {<br>            display: flex;<br>            flex-direction: row;<br>            flex-wrap: wrap;<br>            justify-content: flex-start;<br>            width: 100%;<br>        }<br>        .wandb-col {<br>            display: flex;<br>            flex-direction: column;<br>            flex-basis: 100%;<br>            flex: 1;<br>            padding: 10px;<br>        }<br>    </style><br><div class=\"wandb-row\"><div class=\"wandb-col\"><h3>Run history:</h3><br/><table class=\"wandb\"><tr><td>cos_sim</td><td>▁▂▂▄▃▄▄▃▆▆▅▆▅▅▅▅▆▆▆▅▇▆▆▆█▆▇▇▆▆█▆▆▇▅▆▇██▆</td></tr><tr><td>drift</td><td>▁▂▄▄▄▅▅▅▅▆▆▆▇▆▆▆▆▇▆▆▆▇▇▆▆▇▇▇▇▇██▇▇▇▇▇▇▇▇</td></tr><tr><td>step</td><td>▁▁▁▁▁▁▂▂▃▃▃▃▃▃▃▃▄▄▄▄▄▅▅▅▅▅▅▅▅▆▆▇▇▇▇▇▇▇██</td></tr><tr><td>train_loss</td><td>█▄▃▄▃▃▃▃▂▃▂▂▂▂▂▂▂▂▂▁▂▁▂▁▂▂▁▂▂▁▂▁▁▁▂▁▁▁▁▂</td></tr></table><br/></div><div class=\"wandb-col\"><h3>Run summary:</h3><br/><table class=\"wandb\"><tr><td>cos_sim</td><td>0.60802</td></tr><tr><td>drift</td><td>5.23447</td></tr><tr><td>step</td><td>46900</td></tr><tr><td>train_loss</td><td>0.98634</td></tr></table><br/></div></div>"
      ],
      "text/plain": [
       "<IPython.core.display.HTML object>"
      ]
     },
     "metadata": {},
     "output_type": "display_data"
    },
    {
     "data": {
      "text/html": [
       " View run <strong style=\"color:#cdcd00\">stoic-sweep</strong> at: <a href='https://wandb.ai/marcocassar-belmont-university/flow_experimentation/runs/wujukmvl' target=\"_blank\">https://wandb.ai/marcocassar-belmont-university/flow_experimentation/runs/wujukmvl</a><br> View project at: <a href='https://wandb.ai/marcocassar-belmont-university/flow_experimentation' target=\"_blank\">https://wandb.ai/marcocassar-belmont-university/flow_experimentation</a><br>Synced 5 W&B file(s), 0 media file(s), 0 artifact file(s) and 0 other file(s)"
      ],
      "text/plain": [
       "<IPython.core.display.HTML object>"
      ]
     },
     "metadata": {},
     "output_type": "display_data"
    },
    {
     "data": {
      "text/html": [
       "Find logs at: <code>./wandb/run-20251012_120237-wujukmvl/logs</code>"
      ],
      "text/plain": [
       "<IPython.core.display.HTML object>"
      ]
     },
     "metadata": {},
     "output_type": "display_data"
    },
    {
     "data": {
      "text/html": [],
      "text/plain": [
       "<IPython.core.display.HTML object>"
      ]
     },
     "metadata": {},
     "output_type": "display_data"
    },
    {
     "data": {
      "text/html": [
       "Tracking run with wandb version 0.22.2"
      ],
      "text/plain": [
       "<IPython.core.display.HTML object>"
      ]
     },
     "metadata": {},
     "output_type": "display_data"
    },
    {
     "data": {
      "text/html": [
       "Run data is saved locally in <code>/Users/marcocassar/Projects/DLAIE/self/dl_experimentation/wandb/run-20251012_120501-4fxwko0k</code>"
      ],
      "text/plain": [
       "<IPython.core.display.HTML object>"
      ]
     },
     "metadata": {},
     "output_type": "display_data"
    },
    {
     "data": {
      "text/html": [
       "Syncing run <strong><a href='https://wandb.ai/marcocassar-belmont-university/flow_experimentation/runs/4fxwko0k' target=\"_blank\">earthy-sweep</a></strong> to <a href='https://wandb.ai/marcocassar-belmont-university/flow_experimentation' target=\"_blank\">Weights & Biases</a> (<a href='https://wandb.me/developer-guide' target=\"_blank\">docs</a>)<br>"
      ],
      "text/plain": [
       "<IPython.core.display.HTML object>"
      ]
     },
     "metadata": {},
     "output_type": "display_data"
    },
    {
     "data": {
      "text/html": [
       " View project at <a href='https://wandb.ai/marcocassar-belmont-university/flow_experimentation' target=\"_blank\">https://wandb.ai/marcocassar-belmont-university/flow_experimentation</a>"
      ],
      "text/plain": [
       "<IPython.core.display.HTML object>"
      ]
     },
     "metadata": {},
     "output_type": "display_data"
    },
    {
     "data": {
      "text/html": [
       " View run at <a href='https://wandb.ai/marcocassar-belmont-university/flow_experimentation/runs/4fxwko0k' target=\"_blank\">https://wandb.ai/marcocassar-belmont-university/flow_experimentation/runs/4fxwko0k</a>"
      ],
      "text/plain": [
       "<IPython.core.display.HTML object>"
      ]
     },
     "metadata": {},
     "output_type": "display_data"
    },
    {
     "name": "stderr",
     "output_type": "stream",
     "text": [
      "                                                                                                                                                                       "
     ]
    },
    {
     "data": {
      "text/html": [],
      "text/plain": [
       "<IPython.core.display.HTML object>"
      ]
     },
     "metadata": {},
     "output_type": "display_data"
    },
    {
     "data": {
      "text/html": [
       "<br>    <style><br>        .wandb-row {<br>            display: flex;<br>            flex-direction: row;<br>            flex-wrap: wrap;<br>            justify-content: flex-start;<br>            width: 100%;<br>        }<br>        .wandb-col {<br>            display: flex;<br>            flex-direction: column;<br>            flex-basis: 100%;<br>            flex: 1;<br>            padding: 10px;<br>        }<br>    </style><br><div class=\"wandb-row\"><div class=\"wandb-col\"><h3>Run history:</h3><br/><table class=\"wandb\"><tr><td>cos_sim</td><td>▁▅▅▆▆▆▇▇▇▇▇▇▇▇▇▇▇▇▇▇▇▇▇▇█▇▇▇▇█▇█▇█████▇█</td></tr><tr><td>drift</td><td>▁▂▃▄▅▆▆▇▆▇▇▆▇▆▇▇▇▇▇▇███▇█▇█▇██▇▇▇█▇██▇██</td></tr><tr><td>step</td><td>▁▁▁▁▁▂▂▂▂▂▃▃▃▃▃▄▄▄▄▄▄▄▄▄▅▅▅▅▆▆▆▇▇▇▇▇████</td></tr><tr><td>train_loss</td><td>▇█▆▆▆▅▅▄▆▄▄▄▅▃▃▄▃▄▂▄▃▃▄▂▃▂▃▃▂▃▄▃▃▄▃▁▂▃▁▂</td></tr></table><br/></div><div class=\"wandb-col\"><h3>Run summary:</h3><br/><table class=\"wandb\"><tr><td>cos_sim</td><td>0.579</td></tr><tr><td>drift</td><td>5.19974</td></tr><tr><td>step</td><td>46900</td></tr><tr><td>train_loss</td><td>1.12348</td></tr></table><br/></div></div>"
      ],
      "text/plain": [
       "<IPython.core.display.HTML object>"
      ]
     },
     "metadata": {},
     "output_type": "display_data"
    },
    {
     "data": {
      "text/html": [
       " View run <strong style=\"color:#cdcd00\">earthy-sweep</strong> at: <a href='https://wandb.ai/marcocassar-belmont-university/flow_experimentation/runs/4fxwko0k' target=\"_blank\">https://wandb.ai/marcocassar-belmont-university/flow_experimentation/runs/4fxwko0k</a><br> View project at: <a href='https://wandb.ai/marcocassar-belmont-university/flow_experimentation' target=\"_blank\">https://wandb.ai/marcocassar-belmont-university/flow_experimentation</a><br>Synced 5 W&B file(s), 0 media file(s), 0 artifact file(s) and 0 other file(s)"
      ],
      "text/plain": [
       "<IPython.core.display.HTML object>"
      ]
     },
     "metadata": {},
     "output_type": "display_data"
    },
    {
     "data": {
      "text/html": [
       "Find logs at: <code>./wandb/run-20251012_120501-4fxwko0k/logs</code>"
      ],
      "text/plain": [
       "<IPython.core.display.HTML object>"
      ]
     },
     "metadata": {},
     "output_type": "display_data"
    },
    {
     "data": {
      "text/html": [],
      "text/plain": [
       "<IPython.core.display.HTML object>"
      ]
     },
     "metadata": {},
     "output_type": "display_data"
    },
    {
     "data": {
      "text/html": [
       "Tracking run with wandb version 0.22.2"
      ],
      "text/plain": [
       "<IPython.core.display.HTML object>"
      ]
     },
     "metadata": {},
     "output_type": "display_data"
    },
    {
     "data": {
      "text/html": [
       "Run data is saved locally in <code>/Users/marcocassar/Projects/DLAIE/self/dl_experimentation/wandb/run-20251012_120723-ryx28vd5</code>"
      ],
      "text/plain": [
       "<IPython.core.display.HTML object>"
      ]
     },
     "metadata": {},
     "output_type": "display_data"
    },
    {
     "data": {
      "text/html": [
       "Syncing run <strong><a href='https://wandb.ai/marcocassar-belmont-university/flow_experimentation/runs/ryx28vd5' target=\"_blank\">glowing-sweep</a></strong> to <a href='https://wandb.ai/marcocassar-belmont-university/flow_experimentation' target=\"_blank\">Weights & Biases</a> (<a href='https://wandb.me/developer-guide' target=\"_blank\">docs</a>)<br>"
      ],
      "text/plain": [
       "<IPython.core.display.HTML object>"
      ]
     },
     "metadata": {},
     "output_type": "display_data"
    },
    {
     "data": {
      "text/html": [
       " View project at <a href='https://wandb.ai/marcocassar-belmont-university/flow_experimentation' target=\"_blank\">https://wandb.ai/marcocassar-belmont-university/flow_experimentation</a>"
      ],
      "text/plain": [
       "<IPython.core.display.HTML object>"
      ]
     },
     "metadata": {},
     "output_type": "display_data"
    },
    {
     "data": {
      "text/html": [
       " View run at <a href='https://wandb.ai/marcocassar-belmont-university/flow_experimentation/runs/ryx28vd5' target=\"_blank\">https://wandb.ai/marcocassar-belmont-university/flow_experimentation/runs/ryx28vd5</a>"
      ],
      "text/plain": [
       "<IPython.core.display.HTML object>"
      ]
     },
     "metadata": {},
     "output_type": "display_data"
    },
    {
     "name": "stderr",
     "output_type": "stream",
     "text": [
      "                                                                                                                                                                       "
     ]
    }
   ],
   "source": [
    "flow_models = []\n",
    "for i, vae_ in enumerate(loaded_vaes):\n",
    "    suffix = create_model_suffix(configs_to_load[i])\n",
    "    name = names[i]\n",
    "    flow_models.append(FlatVelocityNet(vae_.latent_dim).to(device))\n",
    "    load_and_train(vae_, flow_models[i], suffix, flow_name=name, epochs=100)"
   ]
  },
  {
   "cell_type": "code",
   "execution_count": 42,
   "id": "77f04cf914b7e5b2",
   "metadata": {},
   "outputs": [
    {
     "name": "stdout",
     "output_type": "stream",
     "text": [
      "Saving to: models/safetensors/flow/FlatVelocityNet_dainty-sweep.safetensors\n",
      "Saving to: models/safetensors/flow/FlatVelocityNet_silver-sweep.safetensors\n",
      "Saving to: models/safetensors/flow/FlatVelocityNet_stoic-sweep.safetensors\n",
      "Saving to: models/safetensors/flow/FlatVelocityNet_earthy-sweep.safetensors\n",
      "Saving to: models/safetensors/flow/FlatVelocityNet_glowing-sweep.safetensors\n"
     ]
    }
   ],
   "source": [
    "for i, flow_ in enumerate(flow_models):\n",
    "    flow_name = names[i]\n",
    "    flow_save_name =  f'{flow_.__class__.__name__}_{flow_name}'\n",
    "    flow_path = os.path.join(model_save_path, f'flow/{flow_save_name}.safetensors')\n",
    "    if os.path.exists(flow_path):\n",
    "        print(f\"Path: {flow_path} \\n already exists! Breaking!\")\n",
    "        break\n",
    "        # flow_path = flow_path.split('.safetensors')[0] + str(wandb.run.id) + '.safetensors'\n",
    "    print(f\"Saving to: {flow_path}\")\n",
    "    save_file(flow_.state_dict(), flow_path)"
   ]
  }
 ],
 "metadata": {
  "kernelspec": {
   "display_name": "Python 3 (ipykernel)",
   "language": "python",
   "name": "python3"
  },
  "language_info": {
   "codemirror_mode": {
    "name": "ipython",
    "version": 3
   },
   "file_extension": ".py",
   "mimetype": "text/x-python",
   "name": "python",
   "nbconvert_exporter": "python",
   "pygments_lexer": "ipython3",
   "version": "3.13.3"
  }
 },
 "nbformat": 4,
 "nbformat_minor": 5
}
