{
 "cells": [
  {
   "cell_type": "markdown",
   "id": "6a609cc5dd159025",
   "metadata": {},
   "source": [
    "## Use Custom Dataloading.py"
   ]
  },
  {
   "metadata": {},
   "cell_type": "code",
   "outputs": [],
   "execution_count": null,
   "source": "",
   "id": "352dfead4f947fa"
  },
  {
   "cell_type": "code",
   "id": "de2e39d37591a7a",
   "metadata": {
    "ExecuteTime": {
     "end_time": "2025-10-09T22:06:44.502620Z",
     "start_time": "2025-10-09T22:06:44.450052Z"
    }
   },
   "source": [
    "from vae_scott import ResNetVAE\n",
    "from custom_dataloading import encode_dataset\n",
    "from torch.utils.data import DataLoader\n",
    "from torchvision.datasets import MNIST\n",
    "from torchvision.transforms import ToTensor\n",
    "import torchvision\n",
    "import torch"
   ],
   "outputs": [],
   "execution_count": 5
  },
  {
   "cell_type": "code",
   "id": "c642d0ab71dbb7d2",
   "metadata": {
    "ExecuteTime": {
     "end_time": "2025-10-09T05:04:49.160968Z",
     "start_time": "2025-10-09T05:04:48.990664Z"
    }
   },
   "source": [
    "device = torch.device('cuda' if torch.cuda.is_available() else 'mps' if torch.backends.mps.is_available() else 'cpu')\n",
    "vae = ResNetVAE(latent_dim=7, spatial=True).to(device)\n",
    "vae.load_state_dict(torch.load('models/spatial_ae_7.pth', map_location=device))\n",
    "vae.eval()"
   ],
   "outputs": [
    {
     "data": {
      "text/plain": [
       "ResNetVAE(\n",
       "  (encoder): ResNetVAEEncoderSpatial(\n",
       "    (conv1): Conv2d(1, 32, kernel_size=(3, 3), stride=(1, 1), padding=(1, 1), bias=False)\n",
       "    (bn1): BatchNorm2d(32, eps=1e-05, momentum=0.1, affine=True, track_running_stats=True)\n",
       "    (levels): ModuleList(\n",
       "      (0): ModuleList(\n",
       "        (0-3): 4 x ResidualBlock(\n",
       "          (conv1): Conv2d(32, 32, kernel_size=(3, 3), stride=(1, 1), padding=(1, 1), bias=False)\n",
       "          (bn1): BatchNorm2d(32, eps=1e-05, momentum=0.1, affine=True, track_running_stats=True)\n",
       "          (conv2): Conv2d(32, 32, kernel_size=(3, 3), stride=(1, 1), padding=(1, 1), bias=False)\n",
       "          (bn2): BatchNorm2d(32, eps=1e-05, momentum=0.1, affine=True, track_running_stats=True)\n",
       "        )\n",
       "      )\n",
       "      (1): ModuleList(\n",
       "        (0-3): 4 x ResidualBlock(\n",
       "          (conv1): Conv2d(64, 64, kernel_size=(3, 3), stride=(1, 1), padding=(1, 1), bias=False)\n",
       "          (bn1): BatchNorm2d(64, eps=1e-05, momentum=0.1, affine=True, track_running_stats=True)\n",
       "          (conv2): Conv2d(64, 64, kernel_size=(3, 3), stride=(1, 1), padding=(1, 1), bias=False)\n",
       "          (bn2): BatchNorm2d(64, eps=1e-05, momentum=0.1, affine=True, track_running_stats=True)\n",
       "        )\n",
       "      )\n",
       "      (2): ModuleList(\n",
       "        (0-3): 4 x ResidualBlock(\n",
       "          (conv1): Conv2d(128, 128, kernel_size=(3, 3), stride=(1, 1), padding=(1, 1), bias=False)\n",
       "          (bn1): BatchNorm2d(128, eps=1e-05, momentum=0.1, affine=True, track_running_stats=True)\n",
       "          (conv2): Conv2d(128, 128, kernel_size=(3, 3), stride=(1, 1), padding=(1, 1), bias=False)\n",
       "          (bn2): BatchNorm2d(128, eps=1e-05, momentum=0.1, affine=True, track_running_stats=True)\n",
       "        )\n",
       "      )\n",
       "    )\n",
       "    (transitions): ModuleList(\n",
       "      (0): Conv2d(32, 64, kernel_size=(1, 1), stride=(1, 1), bias=False)\n",
       "      (1): Conv2d(64, 128, kernel_size=(1, 1), stride=(1, 1), bias=False)\n",
       "    )\n",
       "    (channel_proj): Conv2d(128, 2, kernel_size=(1, 1), stride=(1, 1))\n",
       "  )\n",
       "  (decoder): ResNetVAEDecoderSpatial(\n",
       "    (channel_proj): Conv2d(1, 128, kernel_size=(1, 1), stride=(1, 1))\n",
       "    (levels): ModuleList(\n",
       "      (0): ModuleList(\n",
       "        (0-3): 4 x ResidualBlock(\n",
       "          (conv1): Conv2d(128, 128, kernel_size=(3, 3), stride=(1, 1), padding=(1, 1), bias=False)\n",
       "          (bn1): BatchNorm2d(128, eps=1e-05, momentum=0.1, affine=True, track_running_stats=True)\n",
       "          (conv2): Conv2d(128, 128, kernel_size=(3, 3), stride=(1, 1), padding=(1, 1), bias=False)\n",
       "          (bn2): BatchNorm2d(128, eps=1e-05, momentum=0.1, affine=True, track_running_stats=True)\n",
       "        )\n",
       "      )\n",
       "      (1): ModuleList(\n",
       "        (0-3): 4 x ResidualBlock(\n",
       "          (conv1): Conv2d(64, 64, kernel_size=(3, 3), stride=(1, 1), padding=(1, 1), bias=False)\n",
       "          (bn1): BatchNorm2d(64, eps=1e-05, momentum=0.1, affine=True, track_running_stats=True)\n",
       "          (conv2): Conv2d(64, 64, kernel_size=(3, 3), stride=(1, 1), padding=(1, 1), bias=False)\n",
       "          (bn2): BatchNorm2d(64, eps=1e-05, momentum=0.1, affine=True, track_running_stats=True)\n",
       "        )\n",
       "      )\n",
       "      (2): ModuleList(\n",
       "        (0-3): 4 x ResidualBlock(\n",
       "          (conv1): Conv2d(32, 32, kernel_size=(3, 3), stride=(1, 1), padding=(1, 1), bias=False)\n",
       "          (bn1): BatchNorm2d(32, eps=1e-05, momentum=0.1, affine=True, track_running_stats=True)\n",
       "          (conv2): Conv2d(32, 32, kernel_size=(3, 3), stride=(1, 1), padding=(1, 1), bias=False)\n",
       "          (bn2): BatchNorm2d(32, eps=1e-05, momentum=0.1, affine=True, track_running_stats=True)\n",
       "        )\n",
       "      )\n",
       "    )\n",
       "    (transitions): ModuleList(\n",
       "      (0): Conv2d(128, 64, kernel_size=(1, 1), stride=(1, 1), bias=False)\n",
       "      (1): Conv2d(64, 32, kernel_size=(1, 1), stride=(1, 1), bias=False)\n",
       "    )\n",
       "    (final_conv): Conv2d(32, 1, kernel_size=(3, 3), stride=(1, 1), padding=(1, 1))\n",
       "  )\n",
       ")"
      ]
     },
     "execution_count": 2,
     "metadata": {},
     "output_type": "execute_result"
    }
   ],
   "execution_count": 2
  },
  {
   "cell_type": "code",
   "id": "f0612f4e3adf0e2b",
   "metadata": {
    "ExecuteTime": {
     "end_time": "2025-10-09T05:04:49.183964Z",
     "start_time": "2025-10-09T05:04:49.170190Z"
    }
   },
   "source": [
    "# load original dataset\n",
    "train_transforms = torchvision.transforms.Compose([ToTensor()])\n",
    "\n",
    "train_ds = MNIST(root='./data', train=True,  download=True, transform=train_transforms)\n",
    "test_ds  = MNIST(root='./data', train=False, download=True, transform=ToTensor())\n",
    "print(f\"Data set lengths: train: {len(train_ds)}, test: {len(test_ds)}\")\n",
    "\n",
    "\n",
    "\n",
    "batch_size = 128   # could make this bigger; note for MNIST on Colab we're disk-speed limited, not GPU-limited\n",
    "train_dl = DataLoader(train_ds, batch_size=batch_size, num_workers=2, shuffle=True, persistent_workers=True)\n",
    "test_dl = DataLoader(test_ds, batch_size=batch_size, num_workers=2, shuffle=False, persistent_workers=True)"
   ],
   "outputs": [
    {
     "name": "stdout",
     "output_type": "stream",
     "text": [
      "Data set lengths: train: 60000, test: 10000\n"
     ]
    }
   ],
   "execution_count": 3
  },
  {
   "cell_type": "code",
   "id": "f8c9b001c348d68",
   "metadata": {
    "ExecuteTime": {
     "end_time": "2025-10-09T05:04:57.630978Z",
     "start_time": "2025-10-09T05:04:51.684392Z"
    }
   },
   "source": "encode_dataset(vae, train_dl, test_dl, suffix='sp7')",
   "outputs": [
    {
     "name": "stdout",
     "output_type": "stream",
     "text": [
      "[encode] train -> data/ResNetVAEEncoderSpatial_sp7/MNIST/train | N=60000, latent=1x7x7, dtype=<class 'numpy.float32'>\n"
     ]
    },
    {
     "name": "stderr",
     "output_type": "stream",
     "text": [
      "Encoding train: 100%|██████████| 469/469 [00:03<00:00, 133.27it/s]\n"
     ]
    },
    {
     "name": "stdout",
     "output_type": "stream",
     "text": [
      "[encode] test -> data/ResNetVAEEncoderSpatial_sp7/MNIST/test | N=10000, latent=1x7x7, dtype=<class 'numpy.float32'>\n"
     ]
    },
    {
     "name": "stderr",
     "output_type": "stream",
     "text": [
      "Encoding test: 100%|██████████| 79/79 [00:01<00:00, 55.75it/s]\n"
     ]
    }
   ],
   "execution_count": 4
  },
  {
   "cell_type": "markdown",
   "id": "48a16337718356d4",
   "metadata": {
    "jp-MarkdownHeadingCollapsed": true
   },
   "source": [
    "### Code for above func before it became .py file"
   ]
  },
  {
   "cell_type": "code",
   "execution_count": 131,
   "id": "initial_id",
   "metadata": {
    "ExecuteTime": {
     "end_time": "2025-10-06T20:01:01.112232Z",
     "start_time": "2025-10-06T20:01:01.109860Z"
    },
    "collapsed": true,
    "jupyter": {
     "outputs_hidden": true
    }
   },
   "outputs": [],
   "source": [
    "# from vae_scott import ResidualBlock, ResNetVAEEncoder, ResNetVAEDecoder, ResNetVAEEncoderSpatial, ResNetVAEDecoderSpatial, ResNetVAE\n",
    "from vae_scott import ResNetVAE, test_inference, test_inference_spatial, log_example_images\n",
    "import wandb\n",
    "\n",
    "import torch\n",
    "from torch import nn, optim, utils\n",
    "from torch.utils.data import DataLoader\n",
    "from torchvision.datasets import MNIST\n",
    "from torchvision.transforms import ToTensor, RandomAffine, RandomErasing\n",
    "import torchvision\n",
    "import matplotlib.pyplot as plt\n",
    "import torch.nn.functional as F\n",
    "\n",
    "from tqdm import tqdm\n",
    "import numpy as np\n",
    "import os\n",
    "from numpy.lib.format import open_memmap"
   ]
  },
  {
   "cell_type": "code",
   "execution_count": 129,
   "id": "e11d268d3996a527",
   "metadata": {
    "ExecuteTime": {
     "end_time": "2025-10-06T19:56:37.449983Z",
     "start_time": "2025-10-06T19:56:37.445841Z"
    }
   },
   "outputs": [],
   "source": [
    "class EncodedDataset(torch.utils.data.Dataset):\n",
    "    def __init__(self, dataset_path, split=\"train\", add_channel=True, mmap=True):\n",
    "        \"\"\"\n",
    "        General dataset loader for encoded .npy latent datasets.\n",
    "\n",
    "        Args:\n",
    "            dataset_path (str): Path to dataset folder, e.g. '../data/ResNetVAEEncoderSpatial/MNIST'\n",
    "            split (str): 'train' or 'test'\n",
    "            add_channel (bool): Whether to add a channel dim (for (7,7) → (1,7,7))\n",
    "            mmap (bool): Whether to memory-map large files instead of loading into RAM\n",
    "\n",
    "        Path Structure\n",
    "        <encoder_name>/\n",
    "         └── <dataset_name>/\n",
    "              ├── train/\n",
    "              │    ├── data.npy\n",
    "              │    └── target.npy\n",
    "              └── test/\n",
    "                   ├── data.npy\n",
    "                   └── target.npy\n",
    "        \"\"\"\n",
    "        self.dataset_path = dataset_path\n",
    "        self.split = split\n",
    "        self.add_channel = add_channel\n",
    "\n",
    "        # Expected structure: <dataset_path>/<split>/data.npy + target.npy\n",
    "        base = os.path.join(dataset_path, split)\n",
    "        self.data_path = os.path.join(base, \"data.npy\")\n",
    "        self.target_path = os.path.join(base, \"target.npy\")\n",
    "\n",
    "        if not os.path.exists(self.data_path) or not os.path.exists(self.target_path):\n",
    "            raise FileNotFoundError(f\"Expected data.npy and target.npy in: {base}\")\n",
    "\n",
    "        mmap_mode = \"r\" if mmap else None\n",
    "        self.data = np.load(self.data_path, mmap_mode=mmap_mode)\n",
    "        self.targets = np.load(self.target_path, mmap_mode=mmap_mode)\n",
    "\n",
    "        assert len(self.data) == len(self.targets), \"Data and targets must be same length\"\n",
    "\n",
    "    def __len__(self):\n",
    "        return len(self.targets)\n",
    "\n",
    "    def __getitem__(self, idx):\n",
    "        x = self.data[idx]\n",
    "        if self.add_channel and x.ndim == 2:\n",
    "            x = np.expand_dims(x, 0)  # (1, H, W)\n",
    "        x = torch.tensor(x, dtype=torch.float32)\n",
    "        y = torch.tensor(self.targets[idx], dtype=torch.long)\n",
    "        return x, y"
   ]
  },
  {
   "cell_type": "code",
   "execution_count": 115,
   "id": "7880517b8ac00be1",
   "metadata": {
    "ExecuteTime": {
     "end_time": "2025-10-06T19:45:17.393474Z",
     "start_time": "2025-10-06T19:45:17.235080Z"
    }
   },
   "outputs": [
    {
     "data": {
      "text/plain": [
       "ResNetVAE(\n",
       "  (encoder): ResNetVAEEncoderSpatial(\n",
       "    (conv1): Conv2d(1, 32, kernel_size=(3, 3), stride=(1, 1), padding=(1, 1), bias=False)\n",
       "    (bn1): BatchNorm2d(32, eps=1e-05, momentum=0.1, affine=True, track_running_stats=True)\n",
       "    (levels): ModuleList(\n",
       "      (0): ModuleList(\n",
       "        (0-3): 4 x ResidualBlock(\n",
       "          (conv1): Conv2d(32, 32, kernel_size=(3, 3), stride=(1, 1), padding=(1, 1), bias=False)\n",
       "          (bn1): BatchNorm2d(32, eps=1e-05, momentum=0.1, affine=True, track_running_stats=True)\n",
       "          (conv2): Conv2d(32, 32, kernel_size=(3, 3), stride=(1, 1), padding=(1, 1), bias=False)\n",
       "          (bn2): BatchNorm2d(32, eps=1e-05, momentum=0.1, affine=True, track_running_stats=True)\n",
       "        )\n",
       "      )\n",
       "      (1): ModuleList(\n",
       "        (0-3): 4 x ResidualBlock(\n",
       "          (conv1): Conv2d(64, 64, kernel_size=(3, 3), stride=(1, 1), padding=(1, 1), bias=False)\n",
       "          (bn1): BatchNorm2d(64, eps=1e-05, momentum=0.1, affine=True, track_running_stats=True)\n",
       "          (conv2): Conv2d(64, 64, kernel_size=(3, 3), stride=(1, 1), padding=(1, 1), bias=False)\n",
       "          (bn2): BatchNorm2d(64, eps=1e-05, momentum=0.1, affine=True, track_running_stats=True)\n",
       "        )\n",
       "      )\n",
       "      (2): ModuleList(\n",
       "        (0-3): 4 x ResidualBlock(\n",
       "          (conv1): Conv2d(128, 128, kernel_size=(3, 3), stride=(1, 1), padding=(1, 1), bias=False)\n",
       "          (bn1): BatchNorm2d(128, eps=1e-05, momentum=0.1, affine=True, track_running_stats=True)\n",
       "          (conv2): Conv2d(128, 128, kernel_size=(3, 3), stride=(1, 1), padding=(1, 1), bias=False)\n",
       "          (bn2): BatchNorm2d(128, eps=1e-05, momentum=0.1, affine=True, track_running_stats=True)\n",
       "        )\n",
       "      )\n",
       "    )\n",
       "    (transitions): ModuleList(\n",
       "      (0): Conv2d(32, 64, kernel_size=(1, 1), stride=(1, 1), bias=False)\n",
       "      (1): Conv2d(64, 128, kernel_size=(1, 1), stride=(1, 1), bias=False)\n",
       "    )\n",
       "    (channel_proj): Conv2d(128, 2, kernel_size=(1, 1), stride=(1, 1))\n",
       "  )\n",
       "  (decoder): ResNetVAEDecoderSpatial(\n",
       "    (channel_proj): Conv2d(1, 128, kernel_size=(1, 1), stride=(1, 1))\n",
       "    (levels): ModuleList(\n",
       "      (0): ModuleList(\n",
       "        (0-3): 4 x ResidualBlock(\n",
       "          (conv1): Conv2d(128, 128, kernel_size=(3, 3), stride=(1, 1), padding=(1, 1), bias=False)\n",
       "          (bn1): BatchNorm2d(128, eps=1e-05, momentum=0.1, affine=True, track_running_stats=True)\n",
       "          (conv2): Conv2d(128, 128, kernel_size=(3, 3), stride=(1, 1), padding=(1, 1), bias=False)\n",
       "          (bn2): BatchNorm2d(128, eps=1e-05, momentum=0.1, affine=True, track_running_stats=True)\n",
       "        )\n",
       "      )\n",
       "      (1): ModuleList(\n",
       "        (0-3): 4 x ResidualBlock(\n",
       "          (conv1): Conv2d(64, 64, kernel_size=(3, 3), stride=(1, 1), padding=(1, 1), bias=False)\n",
       "          (bn1): BatchNorm2d(64, eps=1e-05, momentum=0.1, affine=True, track_running_stats=True)\n",
       "          (conv2): Conv2d(64, 64, kernel_size=(3, 3), stride=(1, 1), padding=(1, 1), bias=False)\n",
       "          (bn2): BatchNorm2d(64, eps=1e-05, momentum=0.1, affine=True, track_running_stats=True)\n",
       "        )\n",
       "      )\n",
       "      (2): ModuleList(\n",
       "        (0-3): 4 x ResidualBlock(\n",
       "          (conv1): Conv2d(32, 32, kernel_size=(3, 3), stride=(1, 1), padding=(1, 1), bias=False)\n",
       "          (bn1): BatchNorm2d(32, eps=1e-05, momentum=0.1, affine=True, track_running_stats=True)\n",
       "          (conv2): Conv2d(32, 32, kernel_size=(3, 3), stride=(1, 1), padding=(1, 1), bias=False)\n",
       "          (bn2): BatchNorm2d(32, eps=1e-05, momentum=0.1, affine=True, track_running_stats=True)\n",
       "        )\n",
       "      )\n",
       "    )\n",
       "    (transitions): ModuleList(\n",
       "      (0): Conv2d(128, 64, kernel_size=(1, 1), stride=(1, 1), bias=False)\n",
       "      (1): Conv2d(64, 32, kernel_size=(1, 1), stride=(1, 1), bias=False)\n",
       "    )\n",
       "    (final_conv): Conv2d(32, 1, kernel_size=(3, 3), stride=(1, 1), padding=(1, 1))\n",
       "  )\n",
       ")"
      ]
     },
     "execution_count": 115,
     "metadata": {},
     "output_type": "execute_result"
    }
   ],
   "source": [
    "device = torch.device('cuda' if torch.cuda.is_available() else 'mps' if torch.backends.mps.is_available() else 'cpu')\n",
    "ae_spatial_49 = ResNetVAE(latent_dim=49).to(device)\n",
    "ae_spatial_49.load_state_dict(torch.load('models/spatial_ae_49.pth', map_location=device))\n",
    "ae_spatial_49.eval()"
   ]
  },
  {
   "cell_type": "code",
   "execution_count": 116,
   "id": "ea1b4256ef82d20a",
   "metadata": {
    "ExecuteTime": {
     "end_time": "2025-10-06T19:45:21.415275Z",
     "start_time": "2025-10-06T19:45:21.393701Z"
    }
   },
   "outputs": [
    {
     "name": "stdout",
     "output_type": "stream",
     "text": [
      "Data set lengths: train: 60000, test: 10000\n"
     ]
    }
   ],
   "source": [
    "train_transforms = torchvision.transforms.Compose([\n",
    "    ToTensor(),\n",
    "    # uncomment next lines for extra augmentations\n",
    "    #RandomAffine(degrees=15, translate=(0.1, 0.1)),\n",
    "    #RandomErasing(p=0.2, scale=(0.02, 0.1))\n",
    "])\n",
    "\n",
    "train_ds = MNIST(root='./data', train=True,  download=True, transform=train_transforms)\n",
    "test_ds  = MNIST(root='./data', train=False, download=True, transform=ToTensor())\n",
    "print(f\"Data set lengths: train: {len(train_ds)}, test: {len(test_ds)}\")\n",
    "\n",
    "\n",
    "\n",
    "batch_size = 128   # could make this bigger; note for MNIST on Colab we're disk-speed limited, not GPU-limited\n",
    "train_dl = DataLoader(train_ds, batch_size=batch_size, num_workers=2, shuffle=True, persistent_workers=True)\n",
    "test_dl = DataLoader(test_ds, batch_size=batch_size, num_workers=2, shuffle=False, persistent_workers=True)"
   ]
  },
  {
   "cell_type": "code",
   "execution_count": 132,
   "id": "4b41d5c116961894",
   "metadata": {
    "ExecuteTime": {
     "end_time": "2025-10-06T20:01:09.853851Z",
     "start_time": "2025-10-06T20:01:09.848824Z"
    }
   },
   "outputs": [],
   "source": [
    "@torch.no_grad()\n",
    "def get_latent_dtype_dim(encoder, loader):\n",
    "    encoder.eval()  # Safety eval\n",
    "\n",
    "    x, _ = next(iter(loader))\n",
    "    x = x.to(device, dtype=torch.float32)\n",
    "    mu, _ = encoder(x)\n",
    "    return mu.dtype, tuple(mu.squeeze(1).shape[1:])\n",
    "\n",
    "@torch.no_grad()\n",
    "def encode_dataset(model, train_dataloader, test_dataloader, dir_='data/'):\n",
    "    # Some cheap checks\n",
    "    assert hasattr(model, \"encoder\"), \"Model must have an encoder attribute\"\n",
    "    assert model.encoder is not None, \"Model encoder cannot be None\"\n",
    "\n",
    "    encoder = model.encoder\n",
    "    encoder.eval()\n",
    "\n",
    "    model_dir = model.encoder.__class__.__name__\n",
    "\n",
    "    for loader, mode in [(train_dataloader, 'train'), (test_dataloader, 'test')]:\n",
    "        print(f\"Processing {mode} split...\\n\")\n",
    "        dataset_dir = loader.dataset.__class__.__name__\n",
    "        base_dir = os.path.join(dir_, model_dir, dataset_dir, mode)\n",
    "        os.makedirs(base_dir, exist_ok=True)\n",
    "\n",
    "        batches = len(loader)\n",
    "        batch = i = 0\n",
    "        pbar = tqdm(loader, desc=f\"Loader: {dataset_dir} {mode}\", total=batches)\n",
    "\n",
    "        latent_torch_dtype, latent_img_dim = get_latent_dtype_dim(encoder, loader)\n",
    "        latent_torch_dtype = str(latent_torch_dtype).replace(\"torch.\", \"\")\n",
    "        dtype_target = str(loader.dataset.targets.dtype).replace(\"torch.\", \"\")\n",
    "        N = loader.dataset.data.shape[0]\n",
    "\n",
    "        data_mm   = open_memmap(os.path.join(base_dir, \"data.npy\"),   mode=\"w+\", dtype=latent_torch_dtype, shape=(N, *latent_img_dim))\n",
    "        target_mm = open_memmap(os.path.join(base_dir, \"target.npy\"), mode=\"w+\", dtype=dtype_target, shape=(N,))\n",
    "\n",
    "        for batch_idx, (data, target) in enumerate(pbar):\n",
    "            data = data.to(device)\n",
    "\n",
    "            mu, _ = encoder(data)\n",
    "            mu = mu.squeeze(1)\n",
    "\n",
    "            b = mu.size(0)  # latent_batch_size\n",
    "            data_mm[i:i+b] = mu.detach().cpu().numpy()\n",
    "            target_mm[i:i+b] = target.detach().cpu().numpy()\n",
    "            i += b\n",
    "\n",
    "            batch += 1\n",
    "            pbar.set_description(f'Loader: {dataset_dir} {mode} Batch {batch_idx+1}/{batches}')  # Update pbar\n",
    "\n",
    "        # Finish write\n",
    "        data_mm.flush()\n",
    "        target_mm.flush()\n",
    "        pbar.close()"
   ]
  },
  {
   "cell_type": "code",
   "execution_count": 133,
   "id": "16cc0deef3dd6c4e",
   "metadata": {
    "ExecuteTime": {
     "end_time": "2025-10-06T20:01:18.798351Z",
     "start_time": "2025-10-06T20:01:14.386854Z"
    }
   },
   "outputs": [
    {
     "name": "stdout",
     "output_type": "stream",
     "text": [
      "Processing train split...\n",
      "\n"
     ]
    },
    {
     "name": "stderr",
     "output_type": "stream",
     "text": [
      "Loader: MNIST train Batch 469/469: 100%|██████████| 469/469 [00:03<00:00, 124.91it/s]\n"
     ]
    },
    {
     "name": "stdout",
     "output_type": "stream",
     "text": [
      "Processing test split...\n",
      "\n"
     ]
    },
    {
     "name": "stderr",
     "output_type": "stream",
     "text": [
      "Loader: MNIST test Batch 79/79: 100%|██████████| 79/79 [00:00<00:00, 121.91it/s]\n"
     ]
    }
   ],
   "source": [
    "encode_dataset(ae_spatial_49, train_dl, test_dl)"
   ]
  },
  {
   "cell_type": "code",
   "execution_count": 134,
   "id": "96a045c88c70d747",
   "metadata": {
    "ExecuteTime": {
     "end_time": "2025-10-06T20:01:37.606939Z",
     "start_time": "2025-10-06T20:01:37.592415Z"
    }
   },
   "outputs": [],
   "source": [
    "root = \"data/ResNetVAEEncoderSpatial/MNIST\"\n",
    "\n",
    "train_ds = EncodedDataset(root, split=\"train\")\n",
    "test_ds  = EncodedDataset(root, split=\"test\")\n",
    "\n",
    "train_dl = DataLoader(train_ds, batch_size=128, shuffle=True, pin_memory=True)\n",
    "test_dl  = DataLoader(test_ds, batch_size=128, shuffle=False, pin_memory=True)"
   ]
  },
  {
   "cell_type": "code",
   "execution_count": 27,
   "id": "4c0a719b49c703ca",
   "metadata": {
    "ExecuteTime": {
     "end_time": "2025-10-06T17:46:56.130211Z",
     "start_time": "2025-10-06T17:46:56.087681Z"
    }
   },
   "outputs": [
    {
     "name": "stdout",
     "output_type": "stream",
     "text": [
      "2\n"
     ]
    },
    {
     "data": {
      "text/plain": [
       "<matplotlib.image.AxesImage at 0x129373610>"
      ]
     },
     "execution_count": 27,
     "metadata": {},
     "output_type": "execute_result"
    },
    {
     "data": {
      "image/png": "[encoded data removed]",
      "text/plain": [
       "<Figure size 640x480 with 1 Axes>"
      ]
     },
     "jetTransient": {
      "display_id": null
     },
     "metadata": {},
     "output_type": "display_data"
    }
   ],
   "source": [
    "from matplotlib import pyplot as plt\n",
    "img = x_batch[0].squeeze()\n",
    "print(y_batch[0].item())\n",
    "plt.imshow(img, cmap='gray')"
   ]
  }
 ],
 "metadata": {
  "kernelspec": {
   "display_name": "Python 3 (ipykernel)",
   "language": "python",
   "name": "python3"
  },
  "language_info": {
   "codemirror_mode": {
    "name": "ipython",
    "version": 3
   },
   "file_extension": ".py",
   "mimetype": "text/x-python",
   "name": "python",
   "nbconvert_exporter": "python",
   "pygments_lexer": "ipython3",
   "version": "3.13.7"
  }
 },
 "nbformat": 4,
 "nbformat_minor": 5
}
