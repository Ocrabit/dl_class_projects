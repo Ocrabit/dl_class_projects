{
 "cells": [
  {
   "cell_type": "code",
   "execution_count": 93,
   "id": "10a0c0d1bd7d35fa",
   "metadata": {
    "ExecuteTime": {
     "end_time": "2025-10-08T17:17:37.364926Z",
     "start_time": "2025-10-08T17:17:37.361927Z"
    }
   },
   "outputs": [],
   "source": [
    "from transformers import FlaubertModel\n",
    "\n",
    "from custom_dataloading import load_encoded_dataset\n",
    "from torch.utils.data import DataLoader\n",
    "import torchvision\n",
    "import wandb\n",
    "import torch\n",
    "from torch import nn, optim, utils\n",
    "import matplotlib.pyplot as plt\n",
    "import torch.nn.functional as F\n",
    "from tqdm import tqdm\n",
    "import numpy as np"
   ]
  },
  {
   "cell_type": "code",
   "execution_count": 94,
   "id": "36decbcafe244d4b",
   "metadata": {
    "ExecuteTime": {
     "end_time": "2025-10-08T04:32:32.227198Z",
     "start_time": "2025-10-08T04:32:32.217926Z"
    }
   },
   "outputs": [],
   "source": [
    "from safetensors.torch import save_file"
   ]
  },
  {
   "cell_type": "code",
   "execution_count": 95,
   "id": "298cba1ed1b97749",
   "metadata": {
    "ExecuteTime": {
     "end_time": "2025-10-08T04:35:37.417624Z",
     "start_time": "2025-10-08T04:35:37.220387Z"
    }
   },
   "outputs": [],
   "source": [
    "tensors = torch.load(\"models/vae_7.pth\")\n",
    "save_file(tensors, 'models/safetensors/vae_7.safetensors')"
   ]
  },
  {
   "cell_type": "code",
   "execution_count": 96,
   "id": "b2b07730-6151-4f97-9060-e74d778b70f3",
   "metadata": {
    "ExecuteTime": {
     "end_time": "2025-10-08T17:17:52.951061Z",
     "start_time": "2025-10-08T17:17:52.948504Z"
    }
   },
   "outputs": [],
   "source": [
    "latent_dim = 7"
   ]
  },
  {
   "cell_type": "code",
   "execution_count": 97,
   "id": "59b59383b1deceba",
   "metadata": {
    "ExecuteTime": {
     "end_time": "2025-10-08T23:32:56.527331Z",
     "start_time": "2025-10-08T23:32:56.337751Z"
    }
   },
   "outputs": [
    {
     "data": {
      "text/plain": [
       "ResNetVAE(\n",
       "  (encoder): ResNetVAEEncoder(\n",
       "    (conv1): Conv2d(1, 32, kernel_size=(3, 3), stride=(1, 1), padding=(1, 1), bias=False)\n",
       "    (bn1): BatchNorm2d(32, eps=1e-05, momentum=0.1, affine=True, track_running_stats=True)\n",
       "    (levels): ModuleList(\n",
       "      (0): ModuleList(\n",
       "        (0-3): 4 x ResidualBlock(\n",
       "          (conv1): Conv2d(32, 32, kernel_size=(3, 3), stride=(1, 1), padding=(1, 1), bias=False)\n",
       "          (bn1): BatchNorm2d(32, eps=1e-05, momentum=0.1, affine=True, track_running_stats=True)\n",
       "          (conv2): Conv2d(32, 32, kernel_size=(3, 3), stride=(1, 1), padding=(1, 1), bias=False)\n",
       "          (bn2): BatchNorm2d(32, eps=1e-05, momentum=0.1, affine=True, track_running_stats=True)\n",
       "        )\n",
       "      )\n",
       "      (1): ModuleList(\n",
       "        (0-3): 4 x ResidualBlock(\n",
       "          (conv1): Conv2d(64, 64, kernel_size=(3, 3), stride=(1, 1), padding=(1, 1), bias=False)\n",
       "          (bn1): BatchNorm2d(64, eps=1e-05, momentum=0.1, affine=True, track_running_stats=True)\n",
       "          (conv2): Conv2d(64, 64, kernel_size=(3, 3), stride=(1, 1), padding=(1, 1), bias=False)\n",
       "          (bn2): BatchNorm2d(64, eps=1e-05, momentum=0.1, affine=True, track_running_stats=True)\n",
       "        )\n",
       "      )\n",
       "      (2): ModuleList(\n",
       "        (0-3): 4 x ResidualBlock(\n",
       "          (conv1): Conv2d(128, 128, kernel_size=(3, 3), stride=(1, 1), padding=(1, 1), bias=False)\n",
       "          (bn1): BatchNorm2d(128, eps=1e-05, momentum=0.1, affine=True, track_running_stats=True)\n",
       "          (conv2): Conv2d(128, 128, kernel_size=(3, 3), stride=(1, 1), padding=(1, 1), bias=False)\n",
       "          (bn2): BatchNorm2d(128, eps=1e-05, momentum=0.1, affine=True, track_running_stats=True)\n",
       "        )\n",
       "      )\n",
       "    )\n",
       "    (transitions): ModuleList(\n",
       "      (0): Conv2d(32, 64, kernel_size=(1, 1), stride=(1, 1), bias=False)\n",
       "      (1): Conv2d(64, 128, kernel_size=(1, 1), stride=(1, 1), bias=False)\n",
       "    )\n",
       "    (global_avg_pool): AdaptiveAvgPool2d(output_size=1)\n",
       "    (fc): Linear(in_features=128, out_features=14, bias=True)\n",
       "  )\n",
       "  (decoder): ResNetVAEDecoder(\n",
       "    (fc): Linear(in_features=7, out_features=6272, bias=True)\n",
       "    (levels): ModuleList(\n",
       "      (0): ModuleList(\n",
       "        (0-3): 4 x ResidualBlock(\n",
       "          (conv1): Conv2d(128, 128, kernel_size=(3, 3), stride=(1, 1), padding=(1, 1), bias=False)\n",
       "          (bn1): BatchNorm2d(128, eps=1e-05, momentum=0.1, affine=True, track_running_stats=True)\n",
       "          (conv2): Conv2d(128, 128, kernel_size=(3, 3), stride=(1, 1), padding=(1, 1), bias=False)\n",
       "          (bn2): BatchNorm2d(128, eps=1e-05, momentum=0.1, affine=True, track_running_stats=True)\n",
       "        )\n",
       "      )\n",
       "      (1): ModuleList(\n",
       "        (0-3): 4 x ResidualBlock(\n",
       "          (conv1): Conv2d(64, 64, kernel_size=(3, 3), stride=(1, 1), padding=(1, 1), bias=False)\n",
       "          (bn1): BatchNorm2d(64, eps=1e-05, momentum=0.1, affine=True, track_running_stats=True)\n",
       "          (conv2): Conv2d(64, 64, kernel_size=(3, 3), stride=(1, 1), padding=(1, 1), bias=False)\n",
       "          (bn2): BatchNorm2d(64, eps=1e-05, momentum=0.1, affine=True, track_running_stats=True)\n",
       "        )\n",
       "      )\n",
       "      (2): ModuleList(\n",
       "        (0-3): 4 x ResidualBlock(\n",
       "          (conv1): Conv2d(32, 32, kernel_size=(3, 3), stride=(1, 1), padding=(1, 1), bias=False)\n",
       "          (bn1): BatchNorm2d(32, eps=1e-05, momentum=0.1, affine=True, track_running_stats=True)\n",
       "          (conv2): Conv2d(32, 32, kernel_size=(3, 3), stride=(1, 1), padding=(1, 1), bias=False)\n",
       "          (bn2): BatchNorm2d(32, eps=1e-05, momentum=0.1, affine=True, track_running_stats=True)\n",
       "        )\n",
       "      )\n",
       "    )\n",
       "    (transitions): ModuleList(\n",
       "      (0): Conv2d(128, 64, kernel_size=(1, 1), stride=(1, 1), bias=False)\n",
       "      (1): Conv2d(64, 32, kernel_size=(1, 1), stride=(1, 1), bias=False)\n",
       "    )\n",
       "    (final_conv): Conv2d(32, 1, kernel_size=(3, 3), stride=(1, 1), padding=(1, 1))\n",
       "  )\n",
       ")"
      ]
     },
     "execution_count": 97,
     "metadata": {},
     "output_type": "execute_result"
    }
   ],
   "source": [
    "from vae_scott import ResNetVAE\n",
    "device = torch.device('cuda' if torch.cuda.is_available() else 'mps' if torch.backends.mps.is_available() else 'cpu')\n",
    "vae = ResNetVAE(latent_dim=latent_dim, spatial=False).to(device)\n",
    "vae.load_state_dict(torch.load(f'models/vae_{latent_dim}.pth', map_location=device))\n",
    "vae.eval()"
   ]
  },
  {
   "cell_type": "code",
   "execution_count": 98,
   "id": "16cb0f5e81623104",
   "metadata": {
    "ExecuteTime": {
     "end_time": "2025-10-08T23:33:05.846504Z",
     "start_time": "2025-10-08T23:33:05.828301Z"
    }
   },
   "outputs": [],
   "source": [
    "from custom_dataloading import load_encoded_dataset\n",
    "\n",
    "train_ds, test_ds = load_encoded_dataset(f'data/ResNetVAEEncoder_ld{latent_dim}/MNIST/')\n",
    "batch_size = 128\n",
    "\n",
    "train_dl = DataLoader(train_ds, batch_size=batch_size, shuffle=True)\n",
    "test_dl  = DataLoader(test_ds, batch_size=batch_size, shuffle=False)"
   ]
  },
  {
   "cell_type": "code",
   "execution_count": 99,
   "id": "e2026de9-3e84-47a6-bf23-3fe779a30ecb",
   "metadata": {
    "ExecuteTime": {
     "end_time": "2025-10-08T23:33:07.272770Z",
     "start_time": "2025-10-08T23:33:07.269773Z"
    }
   },
   "outputs": [
    {
     "data": {
      "text/plain": [
       "(60000, 7)"
      ]
     },
     "execution_count": 99,
     "metadata": {},
     "output_type": "execute_result"
    }
   ],
   "source": [
    "train_dl.dataset.data.shape"
   ]
  },
  {
   "cell_type": "code",
   "execution_count": 73,
   "id": "4aec6803c7b0fb7c",
   "metadata": {
    "ExecuteTime": {
     "end_time": "2025-10-08T23:33:42.366980Z",
     "start_time": "2025-10-08T23:33:42.358672Z"
    }
   },
   "outputs": [],
   "source": [
    "for data, target in train_dl:\n",
    "    data.to(device)\n",
    "    sampled_x = torch.randn_like(data)\n",
    "    break"
   ]
  },
  {
   "cell_type": "code",
   "execution_count": 100,
   "id": "a1ac9815b3590fcb",
   "metadata": {
    "ExecuteTime": {
     "end_time": "2025-10-08T23:35:40.083044Z",
     "start_time": "2025-10-08T23:35:40.080879Z"
    }
   },
   "outputs": [],
   "source": [
    "from flow_helpers import integrate_path, rk4_step"
   ]
  },
  {
   "cell_type": "code",
   "execution_count": 101,
   "id": "34d27f85dd54b6b9",
   "metadata": {
    "ExecuteTime": {
     "end_time": "2025-10-08T23:34:52.526120Z",
     "start_time": "2025-10-08T23:34:52.523730Z"
    }
   },
   "outputs": [],
   "source": [
    "model = FlatVelocityNet(latent_dim)"
   ]
  },
  {
   "cell_type": "code",
   "execution_count": 102,
   "id": "f310a7da01884a04",
   "metadata": {
    "ExecuteTime": {
     "end_time": "2025-10-08T23:35:24.033186Z",
     "start_time": "2025-10-08T23:35:24.020123Z"
    }
   },
   "outputs": [
    {
     "data": {
      "text/plain": [
       "<All keys matched successfully>"
      ]
     },
     "execution_count": 102,
     "metadata": {},
     "output_type": "execute_result"
    }
   ],
   "source": [
    "model.load_state_dict(torch.load(f'models/flow_{latent_dim}.pth', map_location=device))"
   ]
  },
  {
   "cell_type": "code",
   "execution_count": 103,
   "id": "7b452644579687e5",
   "metadata": {
    "ExecuteTime": {
     "end_time": "2025-10-08T23:49:36.340495Z",
     "start_time": "2025-10-08T23:49:36.337113Z"
    }
   },
   "outputs": [],
   "source": [
    "\n",
    "@torch.no_grad()\n",
    "def spatial_integrate_path(model, initial_points, step_fn=rk4_step, n_steps=100,\n",
    "                   save_trajectories=False, warp_fn=None):\n",
    "    \"\"\"this 'sampling' routine is primarily used for visualization.\"\"\"\n",
    "    device = next(model.parameters()).device\n",
    "    model_dtype = next(model.parameters()).dtype\n",
    "\n",
    "    y = initial_points.to(device=device, dtype=model_dtype).clone()\n",
    "\n",
    "    ts = torch.linspace(0, 1, n_steps, device=device, dtype=model_dtype)\n",
    "    if warp_fn: ts = warp_fn(ts)\n",
    "\n",
    "    def f(y_, t_scalar):\n",
    "        B = y_.shape[0]\n",
    "        # Make a per-batch t vector; float dtype usually expected\n",
    "        t_vec = torch.full((B,), float(t_scalar), device=y_.device, dtype=y_.dtype)\n",
    "\n",
    "        if y_.dim() == 2:  # [B, D] non-spatial\n",
    "            return model(y_, t_vec)  # -> [B, D]\n",
    "        elif y_.dim() == 3:  # [B, H, W] -> assume C=1\n",
    "            out = model(y_.unsqueeze(1), t_vec)  # -> [B, 1, H, W]\n",
    "            return out.squeeze(1)  # -> [B, H, W]\n",
    "        elif y_.dim() == 4:  # [B, C, H, W]\n",
    "            return model(y_, t_vec)  # -> [B, C, H, W]\n",
    "        else:\n",
    "            raise ValueError(f\"Unsupported state shape {y_.shape}\")\n",
    "\n",
    "    if save_trajectories: trajectories = [y.detach().clone()]\n",
    "\n",
    "    for i in range(len(ts) - 1):\n",
    "        t, dt = ts[i], ts[i + 1] - ts[i]\n",
    "        y = step_fn(f, y, t, dt)\n",
    "        if save_trajectories: trajectories.append(y.detach().clone())\n",
    "    if save_trajectories: return y, torch.stack(trajectories).cpu()\n",
    "    return y"
   ]
  },
  {
   "cell_type": "code",
   "execution_count": 84,
   "id": "5a89fce1af75fd6f",
   "metadata": {
    "ExecuteTime": {
     "end_time": "2025-10-08T23:50:04.713543Z",
     "start_time": "2025-10-08T23:50:04.710475Z"
    }
   },
   "outputs": [
    {
     "data": {
      "text/plain": [
       "torch.Size([128, 7])"
      ]
     },
     "execution_count": 84,
     "metadata": {},
     "output_type": "execute_result"
    }
   ],
   "source": [
    "sampled_x.shape"
   ]
  },
  {
   "cell_type": "code",
   "execution_count": 85,
   "id": "85a3472e1a7812be",
   "metadata": {
    "ExecuteTime": {
     "end_time": "2025-10-08T23:57:42.175352Z",
     "start_time": "2025-10-08T23:57:42.170749Z"
    }
   },
   "outputs": [],
   "source": [
    "import torch\n",
    "\n",
    "@torch.no_grad()\n",
    "def integrate_path(model, initial_points, step_fn=rk4_step, n_steps=100, save_trajectories=False, warp_fn=None):\n",
    "    \"\"\"\n",
    "    Unified integrator for both:\n",
    "      - non-spatial: [B, D]\n",
    "      - spatial: [B, C, H, W]  (or [B, H, W], treated as C=1)\n",
    "\n",
    "    Assumes model forward is: model(z, t_vec) -> same shape as z (or [B,1,H,W] for [B,H,W]).\n",
    "    \"\"\"\n",
    "    p = next(model.parameters())\n",
    "    device, model_dtype = p.device, p.dtype\n",
    "\n",
    "    y = initial_points.to(device=device, dtype=model_dtype).clone()\n",
    "    model.eval()\n",
    "\n",
    "    ts = torch.linspace(0, 1, n_steps, device=device, dtype=model_dtype)\n",
    "    if warp_fn:\n",
    "        ts = warp_fn(ts)\n",
    "\n",
    "\n",
    "    t_cache = {\"tensor\": None, \"B\": None}  # use to cache tensor shape\n",
    "\n",
    "    def adapted_model(y_, t_scalar):\n",
    "        B = y_.shape[0]\n",
    "\n",
    "        if t_cache[\"tensor\"] is None or t_cache[\"B\"] != B or t_cache[\"tensor\"].device != y_.device:\n",
    "            t_cache[\"tensor\"] = torch.empty((B, 1), device=y_.device, dtype=y_.dtype)\n",
    "            t_cache[\"B\"] = B\n",
    "        t_vec = t_cache[\"tensor\"]\n",
    "        t_vec.fill_(float(t_scalar))  # in-place fill\n",
    "        if y_.dim() == 2:                      # [B, D]\n",
    "            return model(y_, t_vec)            # -> [B, D]\n",
    "        elif y_.dim() == 3:                    # [B, H, W]  (assume C=1)\n",
    "            out = model(y_.unsqueeze(1), t_vec)  # -> [B, 1, H, W]\n",
    "            return out.squeeze(1)                 # -> [B, H, W]\n",
    "        elif y_.dim() == 4:                    # [B, C, H, W]\n",
    "            return model(y_, t_vec)            # -> [B, C, H, W]\n",
    "        else:\n",
    "            raise ValueError(f\"Unsupported state shape {tuple(y_.shape)}\")\n",
    "\n",
    "    if save_trajectories: trajectories = [y.detach().clone()]\n",
    "\n",
    "    for i in range(len(ts) - 1):\n",
    "        t, dt = ts[i], ts[i + 1] - ts[i]\n",
    "        y = step_fn(adapted_model, y, t, dt)\n",
    "        if save_trajectories: trajectories.append(y.detach().clone())\n",
    "    if save_trajectories: return y, torch.stack(trajectories).cpu()\n",
    "\n",
    "    return y"
   ]
  },
  {
   "cell_type": "code",
   "execution_count": 87,
   "id": "757207a17ab62ddb",
   "metadata": {
    "ExecuteTime": {
     "end_time": "2025-10-08T23:58:03.694583Z",
     "start_time": "2025-10-08T23:58:03.691573Z"
    }
   },
   "outputs": [
    {
     "data": {
      "text/plain": [
       "torch.Size([128, 7])"
      ]
     },
     "execution_count": 87,
     "metadata": {},
     "output_type": "execute_result"
    }
   ],
   "source": [
    "sampled_x.shape"
   ]
  },
  {
   "cell_type": "code",
   "execution_count": null,
   "id": "5e8edbac9b3ef9af",
   "metadata": {
    "ExecuteTime": {
     "end_time": "2025-10-08T23:57:52.916903Z",
     "start_time": "2025-10-08T23:57:52.904461Z"
    }
   },
   "outputs": [],
   "source": [
    "sampled_x = torch.randn_like(data)\n",
    "t = torch.rand(sampled_x.size(0), 1, device=device)\n",
    "integrate_path(model, sampled_x, n_steps=10, step_fn=rk4_step)"
   ]
  },
  {
   "cell_type": "code",
   "execution_count": 104,
   "id": "b2d10aa3-1a07-42b5-bc41-3ec273c2d348",
   "metadata": {
    "ExecuteTime": {
     "end_time": "2025-10-08T23:34:35.477901Z",
     "start_time": "2025-10-08T23:34:35.473291Z"
    }
   },
   "outputs": [],
   "source": [
    "import torch.nn as nn\n",
    "import torch.nn.functional as F\n",
    "\n",
    "class FlatVelocityNet(nn.Module):\n",
    "    def __init__(self, input_dim, h_dim=64):\n",
    "        super().__init__()\n",
    "        self.fc_in  = nn.Linear(input_dim + 1, h_dim)\n",
    "        self.fc2    = nn.Linear(h_dim, h_dim)\n",
    "        self.fc3    = nn.Linear(h_dim, h_dim)\n",
    "        self.fc_out = nn.Linear(h_dim, input_dim)\n",
    "    \n",
    "    def forward(self, x, t, act=F.gelu):\n",
    "        t = t.expand(x.size(0), 1)  # Ensure t has the correct dimensions\n",
    "        x = torch.cat([x, t], dim=1)\n",
    "        x = act(self.fc_in(x))\n",
    "        x = act(self.fc2(x))\n",
    "        x = act(self.fc3(x))\n",
    "        return self.fc_out(x)\n",
    "\n",
    "class SimpleFlowModel(nn.Module):\n",
    "    def __init__(self, latent_dim=3, n_hidden=32, n_layers=3, act=nn.LeakyReLU):\n",
    "        super(SimpleFlowModel, self).__init__()\n",
    "        self.latent_dim = latent_dim\n",
    "        self.layers = nn.Sequential(\n",
    "            nn.Linear(latent_dim+1, n_hidden), act(),\n",
    "            *[nn.Sequential(nn.Linear(n_hidden, n_hidden), act()) for _ in range(n_layers-1)],\n",
    "            nn.Linear(n_hidden, latent_dim),)\n",
    "\n",
    "    def forward(self, x, t, act=F.gelu):\n",
    "        t = t.expand(x.size(0), 1)  # Ensure t has the correct dimensions\n",
    "        x = torch.cat([x, t], dim=1)\n",
    "        return self.layers(x)"
   ]
  },
  {
   "cell_type": "code",
   "execution_count": 34,
   "id": "173feeb4-fe6a-4b14-b1d3-ec80c8dbdd39",
   "metadata": {
    "ExecuteTime": {
     "end_time": "2025-10-08T04:20:53.129145Z",
     "start_time": "2025-10-08T04:20:53.122128Z"
    }
   },
   "outputs": [],
   "source": [
    "import torch, numpy as np\n",
    "from sklearn.decomposition import PCA\n",
    "from sklearn.manifold import TSNE\n",
    "import plotly.express as px\n",
    "\n",
    "@torch.no_grad()\n",
    "def plot_latent_tsne3d(\n",
    "    model,\n",
    "    dataloader,                # e.g. test_dl\n",
    "    n_samples=2000,\n",
    "    pca_dim=50,                # set None to skip PCA\n",
    "    perplexity=30,\n",
    "    learning_rate=200,\n",
    "    random_state=42,           # reproducible t-SNE\n",
    "    device=None,\n",
    "    title=\"Latent Space (t-SNE 3D)\"\n",
    "):\n",
    "    was_training = model.training\n",
    "    model.eval()\n",
    "    if device is None:\n",
    "        device = next(model.parameters()).device\n",
    "\n",
    "    Zs, Ys = [], []\n",
    "    total = 0\n",
    "    for xb, yb in dataloader:\n",
    "        if total >= n_samples: break\n",
    "        xb = xb.to(device)\n",
    "        enc_out = model.encoder(xb)\n",
    "        if isinstance(enc_out, (tuple, list)) and len(enc_out) >= 2:\n",
    "            mu, logvar = enc_out[:2]\n",
    "            z = mu\n",
    "        else:\n",
    "            z = enc_out  # AE case\n",
    "\n",
    "        if z.dim() > 2:                    # [B,C,H,W] -> [B, C*H*W]\n",
    "            z = z.view(z.size(0), -1)\n",
    "\n",
    "        Zs.append(z.detach().cpu())\n",
    "        Ys.append(yb.detach().cpu())\n",
    "        total += z.size(0)\n",
    "\n",
    "    if not Zs:\n",
    "        print(\"No data found—check dataloader / n_samples.\")\n",
    "        if was_training: model.train()\n",
    "        return\n",
    "\n",
    "    Z = torch.cat(Zs, 0)[:n_samples].numpy()\n",
    "    Y = torch.cat(Ys, 0)[:n_samples].numpy()\n",
    "\n",
    "    # optional PCA pre-step (commonly recommended before t-SNE)\n",
    "    if pca_dim is not None and Z.shape[1] > pca_dim:\n",
    "        Z = PCA(n_components=pca_dim, random_state=random_state).fit_transform(Z)\n",
    "\n",
    "    Z_tsne = TSNE(\n",
    "        n_components=3,\n",
    "        perplexity=perplexity,\n",
    "        learning_rate=learning_rate,\n",
    "        init=\"pca\",\n",
    "        random_state=random_state,\n",
    "        n_iter=1000,\n",
    "        verbose=0\n",
    "    ).fit_transform(Z)\n",
    "\n",
    "    fig = px.scatter_3d(\n",
    "        x=Z_tsne[:,0], y=Z_tsne[:,1], z=Z_tsne[:,2],\n",
    "        color=Y.astype(str),\n",
    "        opacity=0.75, template=\"plotly_dark\"\n",
    "    )\n",
    "    fig.update_traces(marker=dict(size=3, line=dict(width=0)))\n",
    "    fig.update_layout(\n",
    "        width=900, height=650,\n",
    "        scene=dict(xaxis_title=\"tSNE-1\", yaxis_title=\"tSNE-2\", zaxis_title=\"tSNE-3\",\n",
    "                   aspectmode=\"cube\"),\n",
    "        title=title\n",
    "    )\n",
    "    fig.show()\n",
    "\n",
    "    if was_training: model.train()\n",
    "    return fig"
   ]
  },
  {
   "cell_type": "code",
   "execution_count": 105,
   "id": "3f59b1e3-4d76-4fda-b00f-e99b782b7387",
   "metadata": {
    "ExecuteTime": {
     "end_time": "2025-10-08T04:20:54.504308Z",
     "start_time": "2025-10-08T04:20:54.492879Z"
    }
   },
   "outputs": [
    {
     "data": {
      "text/plain": [
       "FlatVelocityNet(\n",
       "  (fc_in): Linear(in_features=8, out_features=64, bias=True)\n",
       "  (fc2): Linear(in_features=64, out_features=64, bias=True)\n",
       "  (fc3): Linear(in_features=64, out_features=64, bias=True)\n",
       "  (fc_out): Linear(in_features=64, out_features=7, bias=True)\n",
       ")"
      ]
     },
     "execution_count": 105,
     "metadata": {},
     "output_type": "execute_result"
    }
   ],
   "source": [
    "flow_model = FlatVelocityNet(latent_dim)\n",
    "flow_model.to(device)"
   ]
  },
  {
   "cell_type": "code",
   "execution_count": 106,
   "id": "6fe47e46-2651-40a3-a0e9-efa90bdc2552",
   "metadata": {
    "ExecuteTime": {
     "end_time": "2025-10-08T04:20:55.783728Z",
     "start_time": "2025-10-08T04:20:55.778301Z"
    }
   },
   "outputs": [],
   "source": [
    "@torch.no_grad()\n",
    "def fwd_euler_step(model, current_points, current_t, dt):\n",
    "    velocity = model(current_points, current_t)\n",
    "    return current_points + velocity * dt \n",
    "@torch.no_grad()\n",
    "def rk4_step(f, y, t, dt):\n",
    "    # f: callable (y, t) -> dy/dt  (aka model forward haha)\n",
    "    k1 = f(y, t)\n",
    "    k2 = f(y + 0.5*dt*k1, t + 0.5*dt)\n",
    "    k3 = f(y + 0.5*dt*k2, t + 0.5*dt)\n",
    "    k4 = f(y + dt*k3,     t + dt)\n",
    "    return y + (dt/6)*(k1 + 2*k2 + 2*k3 + k4)\n",
    "    \n",
    "@torch.no_grad()\n",
    "def integrate_path(model, initial_points, step_fn=rk4_step, n_steps=100,\n",
    "                   save_trajectories=False, warp_fn=None):\n",
    "    \"\"\"this 'sampling' routine is primarily used for visualization.\"\"\"\n",
    "    device = next(model.parameters()).device\n",
    "    current_points = initial_points.clone()\n",
    "    ts =  torch.linspace(0,1,n_steps).to(device)\n",
    "    if warp_fn: ts = warp_fn(ts)\n",
    "    if save_trajectories: trajectories = [current_points]    \n",
    "    for i in range(len(ts)-1):\n",
    "        current_points = step_fn(model, current_points, ts[i], ts[i+1]-ts[i])\n",
    "        if save_trajectories: trajectories.append(current_points)\n",
    "    if save_trajectories: return current_points, torch.stack(trajectories).cpu()\n",
    "    return current_points \n",
    "\n",
    "@torch.no_grad()\n",
    "def warp_time(t, dt=None, s=.5):\n",
    "    \"\"\"Parametric Time Warping: s = slope in the middle. \n",
    "        s=1 is linear time, s < 1 goes slower near the middle, s>1 goes slower near the ends\n",
    "        s = 1.5 gets very close to the \"cosine schedule\", i.e. (1-cos(pi*t))/2, i.e. sin^2(pi/2*x)\"\"\"\n",
    "    if s<0 or s>1.5: raise ValueError(f\"s={s} is out of bounds.\")\n",
    "    tw = 4*(1-s)*t**3 + 6*(s-1)*t**2 + (3-2*s)*t \n",
    "    if dt:                           # warped time-step requested; use derivative\n",
    "        return tw,  dt * 12*(1-s)*t**2 + 12*(s-1)*t + (3-2*s) \n",
    "    return tw"
   ]
  },
  {
   "cell_type": "code",
   "execution_count": 107,
   "id": "a26fb8cf-8725-4bea-9740-ec59adf8810c",
   "metadata": {
    "ExecuteTime": {
     "end_time": "2025-10-08T04:20:56.324728Z",
     "start_time": "2025-10-08T04:20:56.319699Z"
    }
   },
   "outputs": [],
   "source": [
    "project = 'spatial_vae_conv_testing'\n",
    "def train_flow_model(model, train_loader, test_loader, name='flow_model', epochs=20, lr=0.001, warp_fn=None):\n",
    "    wandb.finish()\n",
    "    wandb.init(project=project, name=name, reinit='finish_previous')\n",
    "    wandb.config.update({\n",
    "        \"epochs\": epochs,\n",
    "        \"batch_size\": train_loader.batch_size,\n",
    "        \"learning_rate\": lr,\n",
    "        \"model\": model.__class__.__name__,\n",
    "        \"optimizer\": \"Adam\"\n",
    "    })\n",
    "    \n",
    "    criterion = nn.MSELoss()\n",
    "    optimizer = optim.Adam(model.parameters(), lr=lr)\n",
    "\n",
    "    global_step = 1\n",
    "    \n",
    "    for epoch in range(epochs):\n",
    "        # Training phase\n",
    "        model.train()\n",
    "        pbar = tqdm(train_loader, desc=f'Epoch {epoch+1}/{epochs}')\n",
    "\n",
    "        for batch_idx, (data, _) in enumerate(pbar):\n",
    "            optimizer.zero_grad()\n",
    "            \n",
    "            # Get data and create a sample from it to calc movement\n",
    "            target_x = data.to(device)\n",
    "            sampled_x = torch.randn_like(target_x)\n",
    "            \n",
    "            t  = torch.rand(sampled_x.size(0), 1, device=device)\n",
    "            if warp_fn: t = warp_fn(t)\n",
    "\n",
    "            interpolated_x = sampled_x * (1 - t) + target_x * t\n",
    "            line_directions = target_x - sampled_x\n",
    "            \n",
    "            drift = model(interpolated_x, t)\n",
    "            loss = criterion(drift, line_directions)\n",
    "\n",
    "            loss.backward()\n",
    "            optimizer.step()\n",
    "            \n",
    "            with torch.no_grad():\n",
    "                cos_sim = F.cosine_similarity(drift, line_directions, dim=1).mean()\n",
    "                \n",
    "            wandb.log({\n",
    "                \"step\": global_step,\n",
    "                \"train_loss\": loss.item(),\n",
    "                \"cos_sim\": cos_sim.item(),\n",
    "                \"drift\": drift.norm(dim=1).mean().item(),\n",
    "            })\n",
    "            global_step += 1\n",
    "\n",
    "    return model"
   ]
  },
  {
   "cell_type": "code",
   "execution_count": 38,
   "id": "7212f957-cc57-450a-90ab-d6e323c3b4c5",
   "metadata": {
    "ExecuteTime": {
     "end_time": "2025-10-08T04:20:57.330176Z",
     "start_time": "2025-10-08T04:20:57.324323Z"
    }
   },
   "outputs": [],
   "source": [
    "project = 'spatial_vae_conv_testing'\n",
    "def train_reflow_model(model, train_loader, test_loader, pretrained_model=None, name='flow_model', epochs=20, lr=0.001, new_points_every=1, warp_fn=None):\n",
    "    # Move to device\n",
    "    device = next(model.parameters()).device\n",
    "    model.to(device)\n",
    "    if pretrained_model is not None:\n",
    "        pretrained_model.to(device)\n",
    "        pretrained_model.eval()\n",
    "    \n",
    "    wandb.finish()\n",
    "    wandb.init(project=project, name=name, reinit='finish_previous')\n",
    "    wandb.config.update({\n",
    "        \"epochs\": epochs,\n",
    "        \"batch_size\": train_loader.batch_size,\n",
    "        \"learning_rate\": lr,\n",
    "        \"model\": model.__class__.__name__,\n",
    "        \"optimizer\": \"Adam\"\n",
    "    })\n",
    "    \n",
    "    criterion = nn.MSELoss()\n",
    "    optimizer = optim.Adam(model.parameters(), lr=lr)\n",
    "\n",
    "    global_step = 1\n",
    "    \n",
    "    for epoch in range(epochs):\n",
    "        # Training phase\n",
    "        model.train()\n",
    "        pbar = tqdm(train_loader, desc=f'Epoch {epoch+1}/{epochs}')\n",
    "\n",
    "        for batch_idx, (data, _) in enumerate(pbar):\n",
    "            optimizer.zero_grad()\n",
    "            \n",
    "            target_x = data.to(device)\n",
    "\n",
    "            if global_step % new_points_every == 0:\n",
    "                sampled_x = torch.randn_like(target_x)\n",
    "                if pretrained_model:   # ReFlow\n",
    "                    target_x = integrate_path(pretrained_model, sampled_x, step_fn=rk4_step, warp_fn=warp_time, n_steps=20)\n",
    "            \n",
    "            t  = torch.rand(sampled_x.size(0), 1, device=device)\n",
    "            if warp_fn: t = warp_fn(t)\n",
    "\n",
    "            interpolated_x = sampled_x * (1 - t) + target_x * t\n",
    "            line_directions = target_x - sampled_x\n",
    "            \n",
    "            drift = model(interpolated_x, t)\n",
    "            loss = criterion(drift, line_directions)\n",
    "\n",
    "            loss.backward()\n",
    "            optimizer.step()\n",
    "            \n",
    "            with torch.no_grad():\n",
    "                cos_sim = F.cosine_similarity(drift, line_directions, dim=1).mean()\n",
    "                \n",
    "            wandb.log({\n",
    "                \"step\": global_step,\n",
    "                \"train_loss\": loss.item(),\n",
    "                \"cos_sim\": cos_sim.item(),\n",
    "                \"drift\": drift.norm(dim=1).mean().item(),\n",
    "            })\n",
    "            global_step += 1\n",
    "\n",
    "    return model"
   ]
  },
  {
   "cell_type": "code",
   "execution_count": 108,
   "id": "fde90f461f533052",
   "metadata": {
    "ExecuteTime": {
     "end_time": "2025-10-08T04:21:41.576315Z",
     "start_time": "2025-10-08T04:21:09.030016Z"
    }
   },
   "outputs": [
    {
     "data": {
      "text/html": [],
      "text/plain": [
       "<IPython.core.display.HTML object>"
      ]
     },
     "metadata": {},
     "output_type": "display_data"
    },
    {
     "data": {
      "text/html": [
       "<br>    <style><br>        .wandb-row {<br>            display: flex;<br>            flex-direction: row;<br>            flex-wrap: wrap;<br>            justify-content: flex-start;<br>            width: 100%;<br>        }<br>        .wandb-col {<br>            display: flex;<br>            flex-direction: column;<br>            flex-basis: 100%;<br>            flex: 1;<br>            padding: 10px;<br>        }<br>    </style><br><div class=\"wandb-row\"><div class=\"wandb-col\"><h3>Run history:</h3><br/><table class=\"wandb\"><tr><td>cos_sim</td><td>▁███████████████████████████████████████</td></tr><tr><td>drift</td><td>▁▂▅▆▆▇▇█▇█▇█▇██▇███▇▇▇▇▇▇▇▇█▇▇█▇▇█▇▇▇██▇</td></tr><tr><td>step</td><td>▁▁▁▁▂▂▂▂▂▂▃▃▃▃▃▃▃▃▃▄▄▄▄▅▅▅▆▆▆▆▇▇▇▇▇▇▇▇██</td></tr><tr><td>train_loss</td><td>█▃▂▂▂▂▂▁▁▁▁▁▁▁▁▁▁▁▁▁▁▁▁▁▁▁▁▁▁▁▁▁▁▁▁▁▁▁▁▁</td></tr></table><br/></div><div class=\"wandb-col\"><h3>Run summary:</h3><br/><table class=\"wandb\"><tr><td>cos_sim</td><td>0.99811</td></tr><tr><td>drift</td><td>5.77149</td></tr><tr><td>step</td><td>9380</td></tr><tr><td>train_loss</td><td>0.02371</td></tr></table><br/></div></div>"
      ],
      "text/plain": [
       "<IPython.core.display.HTML object>"
      ]
     },
     "metadata": {},
     "output_type": "display_data"
    },
    {
     "data": {
      "text/html": [
       " View run <strong style=\"color:#cdcd00\">simple_reflow_7</strong> at: <a href='https://wandb.ai/marcocassar-belmont-university/spatial_vae_conv_testing/runs/8vodxp40' target=\"_blank\">https://wandb.ai/marcocassar-belmont-university/spatial_vae_conv_testing/runs/8vodxp40</a><br> View project at: <a href='https://wandb.ai/marcocassar-belmont-university/spatial_vae_conv_testing' target=\"_blank\">https://wandb.ai/marcocassar-belmont-university/spatial_vae_conv_testing</a><br>Synced 5 W&B file(s), 0 media file(s), 0 artifact file(s) and 0 other file(s)"
      ],
      "text/plain": [
       "<IPython.core.display.HTML object>"
      ]
     },
     "metadata": {},
     "output_type": "display_data"
    },
    {
     "data": {
      "text/html": [
       "Find logs at: <code>./wandb/run-20251007_232158-8vodxp40/logs</code>"
      ],
      "text/plain": [
       "<IPython.core.display.HTML object>"
      ]
     },
     "metadata": {},
     "output_type": "display_data"
    },
    {
     "data": {
      "text/html": [],
      "text/plain": [
       "<IPython.core.display.HTML object>"
      ]
     },
     "metadata": {},
     "output_type": "display_data"
    },
    {
     "data": {
      "text/html": [
       "Tracking run with wandb version 0.22.1"
      ],
      "text/plain": [
       "<IPython.core.display.HTML object>"
      ]
     },
     "metadata": {},
     "output_type": "display_data"
    },
    {
     "data": {
      "text/html": [
       "Run data is saved locally in <code>/Users/marcocassar/Projects/DLAIE/self/flow_experimentation/wandb/run-20251009_142635-jyveby3y</code>"
      ],
      "text/plain": [
       "<IPython.core.display.HTML object>"
      ]
     },
     "metadata": {},
     "output_type": "display_data"
    },
    {
     "data": {
      "text/html": [
       "Syncing run <strong><a href='https://wandb.ai/marcocassar-belmont-university/spatial_vae_conv_testing/runs/jyveby3y' target=\"_blank\">flow:)_7</a></strong> to <a href='https://wandb.ai/marcocassar-belmont-university/spatial_vae_conv_testing' target=\"_blank\">Weights & Biases</a> (<a href='https://wandb.me/developer-guide' target=\"_blank\">docs</a>)<br>"
      ],
      "text/plain": [
       "<IPython.core.display.HTML object>"
      ]
     },
     "metadata": {},
     "output_type": "display_data"
    },
    {
     "data": {
      "text/html": [
       " View project at <a href='https://wandb.ai/marcocassar-belmont-university/spatial_vae_conv_testing' target=\"_blank\">https://wandb.ai/marcocassar-belmont-university/spatial_vae_conv_testing</a>"
      ],
      "text/plain": [
       "<IPython.core.display.HTML object>"
      ]
     },
     "metadata": {},
     "output_type": "display_data"
    },
    {
     "data": {
      "text/html": [
       " View run at <a href='https://wandb.ai/marcocassar-belmont-university/spatial_vae_conv_testing/runs/jyveby3y' target=\"_blank\">https://wandb.ai/marcocassar-belmont-university/spatial_vae_conv_testing/runs/jyveby3y</a>"
      ],
      "text/plain": [
       "<IPython.core.display.HTML object>"
      ]
     },
     "metadata": {},
     "output_type": "display_data"
    },
    {
     "name": "stderr",
     "output_type": "stream",
     "text": [
      "Epoch 1/20: 100%|██████████| 469/469 [00:01<00:00, 329.94it/s]\n",
      "Epoch 2/20: 100%|██████████| 469/469 [00:01<00:00, 339.70it/s]\n",
      "Epoch 3/20: 100%|██████████| 469/469 [00:01<00:00, 367.18it/s]\n",
      "Epoch 4/20: 100%|██████████| 469/469 [00:01<00:00, 357.45it/s]\n",
      "Epoch 5/20: 100%|██████████| 469/469 [00:01<00:00, 359.49it/s]\n",
      "Epoch 6/20: 100%|██████████| 469/469 [00:01<00:00, 356.26it/s]\n",
      "Epoch 7/20: 100%|██████████| 469/469 [00:01<00:00, 361.35it/s]\n",
      "Epoch 8/20: 100%|██████████| 469/469 [00:01<00:00, 356.90it/s]\n",
      "Epoch 9/20: 100%|██████████| 469/469 [00:01<00:00, 321.34it/s]\n",
      "Epoch 10/20: 100%|██████████| 469/469 [00:01<00:00, 281.80it/s]\n",
      "Epoch 11/20: 100%|██████████| 469/469 [00:01<00:00, 354.09it/s]\n",
      "Epoch 12/20: 100%|██████████| 469/469 [00:01<00:00, 347.39it/s]\n",
      "Epoch 13/20: 100%|██████████| 469/469 [00:01<00:00, 357.64it/s]\n",
      "Epoch 14/20: 100%|██████████| 469/469 [00:01<00:00, 368.62it/s]\n",
      "Epoch 15/20: 100%|██████████| 469/469 [00:01<00:00, 351.54it/s]\n",
      "Epoch 16/20: 100%|██████████| 469/469 [00:01<00:00, 350.82it/s]\n",
      "Epoch 17/20: 100%|██████████| 469/469 [00:01<00:00, 355.20it/s]\n",
      "Epoch 18/20: 100%|██████████| 469/469 [00:01<00:00, 357.05it/s]\n",
      "Epoch 19/20: 100%|██████████| 469/469 [00:01<00:00, 350.91it/s]\n",
      "Epoch 20/20: 100%|██████████| 469/469 [00:01<00:00, 331.48it/s]\n"
     ]
    },
    {
     "data": {
      "text/plain": [
       "FlatVelocityNet(\n",
       "  (fc_in): Linear(in_features=8, out_features=64, bias=True)\n",
       "  (fc2): Linear(in_features=64, out_features=64, bias=True)\n",
       "  (fc3): Linear(in_features=64, out_features=64, bias=True)\n",
       "  (fc_out): Linear(in_features=64, out_features=7, bias=True)\n",
       ")"
      ]
     },
     "execution_count": 108,
     "metadata": {},
     "output_type": "execute_result"
    }
   ],
   "source": [
    "train_flow_model(flow_model, train_dl, test_dl, name=f'flow:)_{latent_dim}')"
   ]
  },
  {
   "cell_type": "code",
   "execution_count": 12,
   "id": "c87d6992-9f21-464e-a2a6-ba48bc744d3d",
   "metadata": {
    "ExecuteTime": {
     "end_time": "2025-10-08T03:54:30.501331Z",
     "start_time": "2025-10-08T03:53:55.301795Z"
    }
   },
   "outputs": [
    {
     "name": "stderr",
     "output_type": "stream",
     "text": [
      "\u001b[34m\u001b[1mwandb\u001b[0m: Currently logged in as: \u001b[33mmarcocassar\u001b[0m (\u001b[33mmarcocassar-belmont-university\u001b[0m) to \u001b[32mhttps://api.wandb.ai\u001b[0m. Use \u001b[1m`wandb login --relogin`\u001b[0m to force relogin\n"
     ]
    },
    {
     "data": {
      "text/html": [],
      "text/plain": [
       "<IPython.core.display.HTML object>"
      ]
     },
     "jetTransient": {
      "display_id": "9a57fae12467beb031ada837707d6159"
     },
     "metadata": {},
     "output_type": "display_data"
    },
    {
     "data": {
      "text/html": [
       "Tracking run with wandb version 0.22.1"
      ],
      "text/plain": [
       "<IPython.core.display.HTML object>"
      ]
     },
     "jetTransient": {
      "display_id": null
     },
     "metadata": {},
     "output_type": "display_data"
    },
    {
     "data": {
      "text/html": [
       "Run data is saved locally in <code>/Users/marcocassar/Projects/DLAIE/self/flow_experimentation/wandb/run-20251007_225356-4jp7v86o</code>"
      ],
      "text/plain": [
       "<IPython.core.display.HTML object>"
      ]
     },
     "jetTransient": {
      "display_id": null
     },
     "metadata": {},
     "output_type": "display_data"
    },
    {
     "data": {
      "text/html": [
       "Syncing run <strong><a href='https://wandb.ai/marcocassar-belmont-university/spatial_vae_conv_testing/runs/4jp7v86o' target=\"_blank\">flow_vae_7</a></strong> to <a href='https://wandb.ai/marcocassar-belmont-university/spatial_vae_conv_testing' target=\"_blank\">Weights & Biases</a> (<a href='https://wandb.me/developer-guide' target=\"_blank\">docs</a>)<br>"
      ],
      "text/plain": [
       "<IPython.core.display.HTML object>"
      ]
     },
     "jetTransient": {
      "display_id": null
     },
     "metadata": {},
     "output_type": "display_data"
    },
    {
     "data": {
      "text/html": [
       " View project at <a href='https://wandb.ai/marcocassar-belmont-university/spatial_vae_conv_testing' target=\"_blank\">https://wandb.ai/marcocassar-belmont-university/spatial_vae_conv_testing</a>"
      ],
      "text/plain": [
       "<IPython.core.display.HTML object>"
      ]
     },
     "jetTransient": {
      "display_id": null
     },
     "metadata": {},
     "output_type": "display_data"
    },
    {
     "data": {
      "text/html": [
       " View run at <a href='https://wandb.ai/marcocassar-belmont-university/spatial_vae_conv_testing/runs/4jp7v86o' target=\"_blank\">https://wandb.ai/marcocassar-belmont-university/spatial_vae_conv_testing/runs/4jp7v86o</a>"
      ],
      "text/plain": [
       "<IPython.core.display.HTML object>"
      ]
     },
     "jetTransient": {
      "display_id": null
     },
     "metadata": {},
     "output_type": "display_data"
    },
    {
     "name": "stderr",
     "output_type": "stream",
     "text": [
      "Epoch 1/20: 100%|██████████| 469/469 [00:02<00:00, 179.26it/s]\n",
      "Epoch 2/20: 100%|██████████| 469/469 [00:01<00:00, 274.16it/s]\n",
      "Epoch 3/20: 100%|██████████| 469/469 [00:01<00:00, 283.09it/s]\n",
      "Epoch 4/20: 100%|██████████| 469/469 [00:01<00:00, 303.51it/s]\n",
      "Epoch 5/20: 100%|██████████| 469/469 [00:01<00:00, 284.50it/s]\n",
      "Epoch 6/20: 100%|██████████| 469/469 [00:01<00:00, 280.69it/s]\n",
      "Epoch 7/20: 100%|██████████| 469/469 [00:01<00:00, 286.78it/s]\n",
      "Epoch 8/20: 100%|██████████| 469/469 [00:01<00:00, 318.37it/s]\n",
      "Epoch 9/20: 100%|██████████| 469/469 [00:01<00:00, 317.10it/s]\n",
      "Epoch 10/20: 100%|██████████| 469/469 [00:01<00:00, 319.87it/s]\n",
      "Epoch 11/20: 100%|██████████| 469/469 [00:01<00:00, 316.97it/s]\n",
      "Epoch 12/20: 100%|██████████| 469/469 [00:01<00:00, 318.83it/s]\n",
      "Epoch 13/20: 100%|██████████| 469/469 [00:01<00:00, 318.03it/s]\n",
      "Epoch 14/20: 100%|██████████| 469/469 [00:02<00:00, 209.23it/s]\n",
      "Epoch 15/20: 100%|██████████| 469/469 [00:01<00:00, 253.76it/s]\n",
      "Epoch 16/20: 100%|██████████| 469/469 [00:01<00:00, 286.42it/s]\n",
      "Epoch 17/20: 100%|██████████| 469/469 [00:01<00:00, 281.50it/s]\n",
      "Epoch 18/20: 100%|██████████| 469/469 [00:01<00:00, 298.28it/s]\n",
      "Epoch 19/20: 100%|██████████| 469/469 [00:01<00:00, 278.17it/s]\n",
      "Epoch 20/20: 100%|██████████| 469/469 [00:01<00:00, 277.99it/s]\n"
     ]
    },
    {
     "data": {
      "text/plain": [
       "FlatVelocityNet(\n",
       "  (fc_in): Linear(in_features=8, out_features=64, bias=True)\n",
       "  (fc2): Linear(in_features=64, out_features=64, bias=True)\n",
       "  (fc3): Linear(in_features=64, out_features=64, bias=True)\n",
       "  (fc_out): Linear(in_features=64, out_features=7, bias=True)\n",
       ")"
      ]
     },
     "execution_count": 12,
     "metadata": {},
     "output_type": "execute_result"
    }
   ],
   "source": [
    "train_flow_model(flow_model, train_dl, test_dl, name='flow_vae_7')"
   ]
  },
  {
   "cell_type": "code",
   "execution_count": 43,
   "id": "376cc59b867d7ac0",
   "metadata": {
    "ExecuteTime": {
     "end_time": "2025-10-08T04:24:43.966647Z",
     "start_time": "2025-10-08T04:24:43.961270Z"
    }
   },
   "outputs": [],
   "source": [
    "# torch.save(simple_flow.state_dict(), f\"models/simple_flow_{latent_dim}.pth\")\n",
    "torch.save(new_model.state_dict(), f\"models/simple_reflow_{latent_dim}.pth\")"
   ]
  },
  {
   "cell_type": "code",
   "execution_count": 42,
   "id": "f2c5998c-948c-4ec1-a0bb-ce9c6e597141",
   "metadata": {
    "ExecuteTime": {
     "end_time": "2025-10-08T04:24:43.949069Z",
     "start_time": "2025-10-08T04:21:57.627674Z"
    }
   },
   "outputs": [
    {
     "data": {
      "text/html": [],
      "text/plain": [
       "<IPython.core.display.HTML object>"
      ]
     },
     "jetTransient": {
      "display_id": "37a5c0a328de31e4504352040a1ad937"
     },
     "metadata": {},
     "output_type": "display_data"
    },
    {
     "data": {
      "text/html": [
       "<br>    <style><br>        .wandb-row {<br>            display: flex;<br>            flex-direction: row;<br>            flex-wrap: wrap;<br>            justify-content: flex-start;<br>            width: 100%;<br>        }<br>        .wandb-col {<br>            display: flex;<br>            flex-direction: column;<br>            flex-basis: 100%;<br>            flex: 1;<br>            padding: 10px;<br>        }<br>    </style><br><div class=\"wandb-row\"><div class=\"wandb-col\"><h3>Run history:</h3><br/><table class=\"wandb\"><tr><td>cos_sim</td><td>▁▇█▆▇▇▇▇▇▇▇▇▇▇██▇▇█▇▇▆▇▇▇██▇▇▇▇▇▇▆▇▇▇▇▇▇</td></tr><tr><td>drift</td><td>▁▃▄▆▄▅▆▅▆▄▅▅▄▆▅▆▅▆▅█▆▅▇▆▆▆▆▇▇▇▅▅▅▅▆▆▆▆▆▆</td></tr><tr><td>step</td><td>▁▁▁▁▂▂▂▂▂▂▃▃▄▄▄▄▄▄▅▅▅▅▅▅▅▅▅▆▆▆▇▇▇▇▇█████</td></tr><tr><td>train_loss</td><td>█▃▃▃▃▃▃▃▂▃▂▂▂▂▂▃▃▂▃▁▂▃▃▂▂▁▂▂▂▂▃▂▁▂▂▂▁▂▂▂</td></tr></table><br/></div><div class=\"wandb-col\"><h3>Run summary:</h3><br/><table class=\"wandb\"><tr><td>cos_sim</td><td>0.79415</td></tr><tr><td>drift</td><td>6.60859</td></tr><tr><td>step</td><td>9380</td></tr><tr><td>train_loss</td><td>3.08127</td></tr></table><br/></div></div>"
      ],
      "text/plain": [
       "<IPython.core.display.HTML object>"
      ]
     },
     "jetTransient": {
      "display_id": null
     },
     "metadata": {},
     "output_type": "display_data"
    },
    {
     "data": {
      "text/html": [
       " View run <strong style=\"color:#cdcd00\">simple_flow_7</strong> at: <a href='https://wandb.ai/marcocassar-belmont-university/spatial_vae_conv_testing/runs/up2p9lza' target=\"_blank\">https://wandb.ai/marcocassar-belmont-university/spatial_vae_conv_testing/runs/up2p9lza</a><br> View project at: <a href='https://wandb.ai/marcocassar-belmont-university/spatial_vae_conv_testing' target=\"_blank\">https://wandb.ai/marcocassar-belmont-university/spatial_vae_conv_testing</a><br>Synced 5 W&B file(s), 0 media file(s), 0 artifact file(s) and 0 other file(s)"
      ],
      "text/plain": [
       "<IPython.core.display.HTML object>"
      ]
     },
     "jetTransient": {
      "display_id": null
     },
     "metadata": {},
     "output_type": "display_data"
    },
    {
     "data": {
      "text/html": [
       "Find logs at: <code>./wandb/run-20251007_232109-up2p9lza/logs</code>"
      ],
      "text/plain": [
       "<IPython.core.display.HTML object>"
      ]
     },
     "jetTransient": {
      "display_id": null
     },
     "metadata": {},
     "output_type": "display_data"
    },
    {
     "data": {
      "text/html": [],
      "text/plain": [
       "<IPython.core.display.HTML object>"
      ]
     },
     "jetTransient": {
      "display_id": "8f0c87e5233c7445a57c2b2840d88352"
     },
     "metadata": {},
     "output_type": "display_data"
    },
    {
     "data": {
      "text/html": [
       "Tracking run with wandb version 0.22.1"
      ],
      "text/plain": [
       "<IPython.core.display.HTML object>"
      ]
     },
     "jetTransient": {
      "display_id": null
     },
     "metadata": {},
     "output_type": "display_data"
    },
    {
     "data": {
      "text/html": [
       "Run data is saved locally in <code>/Users/marcocassar/Projects/DLAIE/self/flow_experimentation/wandb/run-20251007_232158-8vodxp40</code>"
      ],
      "text/plain": [
       "<IPython.core.display.HTML object>"
      ]
     },
     "jetTransient": {
      "display_id": null
     },
     "metadata": {},
     "output_type": "display_data"
    },
    {
     "data": {
      "text/html": [
       "Syncing run <strong><a href='https://wandb.ai/marcocassar-belmont-university/spatial_vae_conv_testing/runs/8vodxp40' target=\"_blank\">simple_reflow_7</a></strong> to <a href='https://wandb.ai/marcocassar-belmont-university/spatial_vae_conv_testing' target=\"_blank\">Weights & Biases</a> (<a href='https://wandb.me/developer-guide' target=\"_blank\">docs</a>)<br>"
      ],
      "text/plain": [
       "<IPython.core.display.HTML object>"
      ]
     },
     "jetTransient": {
      "display_id": null
     },
     "metadata": {},
     "output_type": "display_data"
    },
    {
     "data": {
      "text/html": [
       " View project at <a href='https://wandb.ai/marcocassar-belmont-university/spatial_vae_conv_testing' target=\"_blank\">https://wandb.ai/marcocassar-belmont-university/spatial_vae_conv_testing</a>"
      ],
      "text/plain": [
       "<IPython.core.display.HTML object>"
      ]
     },
     "jetTransient": {
      "display_id": null
     },
     "metadata": {},
     "output_type": "display_data"
    },
    {
     "data": {
      "text/html": [
       " View run at <a href='https://wandb.ai/marcocassar-belmont-university/spatial_vae_conv_testing/runs/8vodxp40' target=\"_blank\">https://wandb.ai/marcocassar-belmont-university/spatial_vae_conv_testing/runs/8vodxp40</a>"
      ],
      "text/plain": [
       "<IPython.core.display.HTML object>"
      ]
     },
     "jetTransient": {
      "display_id": null
     },
     "metadata": {},
     "output_type": "display_data"
    },
    {
     "name": "stderr",
     "output_type": "stream",
     "text": [
      "Epoch 1/20: 100%|██████████| 469/469 [00:08<00:00, 57.36it/s]\n",
      "Epoch 2/20: 100%|██████████| 469/469 [00:08<00:00, 56.94it/s]\n",
      "Epoch 3/20: 100%|██████████| 469/469 [00:08<00:00, 57.16it/s]\n",
      "Epoch 4/20: 100%|██████████| 469/469 [00:08<00:00, 56.78it/s]\n",
      "Epoch 5/20: 100%|██████████| 469/469 [00:08<00:00, 56.97it/s]\n",
      "Epoch 6/20: 100%|██████████| 469/469 [00:08<00:00, 56.96it/s]\n",
      "Epoch 7/20: 100%|██████████| 469/469 [00:08<00:00, 57.06it/s]\n",
      "Epoch 8/20: 100%|██████████| 469/469 [00:08<00:00, 56.84it/s]\n",
      "Epoch 9/20: 100%|██████████| 469/469 [00:08<00:00, 56.68it/s]\n",
      "Epoch 10/20: 100%|██████████| 469/469 [00:08<00:00, 56.78it/s]\n",
      "Epoch 11/20: 100%|██████████| 469/469 [00:08<00:00, 56.77it/s]\n",
      "Epoch 12/20: 100%|██████████| 469/469 [00:08<00:00, 56.41it/s]\n",
      "Epoch 13/20: 100%|██████████| 469/469 [00:08<00:00, 56.08it/s]\n",
      "Epoch 14/20: 100%|██████████| 469/469 [00:08<00:00, 56.49it/s]\n",
      "Epoch 15/20: 100%|██████████| 469/469 [00:08<00:00, 56.86it/s]\n",
      "Epoch 16/20: 100%|██████████| 469/469 [00:08<00:00, 56.66it/s]\n",
      "Epoch 18/20: 100%|██████████| 469/469 [00:08<00:00, 56.58it/s]\n",
      "Epoch 19/20: 100%|██████████| 469/469 [00:08<00:00, 55.86it/s]\n",
      "Epoch 20/20: 100%|██████████| 469/469 [00:08<00:00, 56.61it/s]\n"
     ]
    },
    {
     "data": {
      "text/plain": [
       "SimpleFlowModel(\n",
       "  (layers): Sequential(\n",
       "    (0): Linear(in_features=8, out_features=32, bias=True)\n",
       "    (1): LeakyReLU(negative_slope=0.01)\n",
       "    (2): Sequential(\n",
       "      (0): Linear(in_features=32, out_features=32, bias=True)\n",
       "      (1): LeakyReLU(negative_slope=0.01)\n",
       "    )\n",
       "    (3): Sequential(\n",
       "      (0): Linear(in_features=32, out_features=32, bias=True)\n",
       "      (1): LeakyReLU(negative_slope=0.01)\n",
       "    )\n",
       "    (4): Linear(in_features=32, out_features=7, bias=True)\n",
       "  )\n",
       ")"
      ]
     },
     "execution_count": 42,
     "metadata": {},
     "output_type": "execute_result"
    }
   ],
   "source": [
    "pretrained_flow_model = simple_flow\n",
    "new_model = SimpleFlowModel(latent_dim)\n",
    "new_model.to(device)\n",
    "train_reflow_model(new_model, train_dl, test_dl,pretrained_flow_model, name=f'simple_reflow_{latent_dim}')"
   ]
  },
  {
   "cell_type": "code",
   "execution_count": 109,
   "id": "adb67a87-de35-4b18-af66-3fffd43094b2",
   "metadata": {
    "ExecuteTime": {
     "end_time": "2025-10-08T02:36:51.820909Z",
     "start_time": "2025-10-08T02:36:51.815712Z"
    }
   },
   "outputs": [],
   "source": [
    "class MarcosModel(nn.Module):\n",
    "    def __init__(self, vae, flow_model, latent_dim=3):\n",
    "        super().__init__()\n",
    "\n",
    "        #--- REQUIRED INFO:\n",
    "        self.info = { \n",
    "            'team': 'Marco',  # REPLACE with your team name. This will be public\n",
    "            'names': 'Marco', # or single name. This will be kept private\n",
    "        }\n",
    "        self.latent_dim = latent_dim\n",
    "        self.device = 'mps'\n",
    "\n",
    "        #--- TEMP\n",
    "        self.vae = vae\n",
    "        self.flow_model = flow_model\n",
    "\n",
    "        # keep support for full auto-initialization:\n",
    "        # self.load_vae()\n",
    "        # self.load_flow_model()\n",
    "\n",
    "        # Integrate later\n",
    "    \n",
    "    def generate_samples(self, n_samples:int, n_steps=100) -> torch.Tensor:\n",
    "            z0 = torch.randn(n_samples, self.latent_dim, device=self.device)\n",
    "            z1 = integrate_path(self.flow_model, z0, n_steps=n_steps, step_fn=rk4_step)\n",
    "            gen_xhat = F.sigmoid(self.decode(z1).view(-1, 28, 28))\n",
    "            return gen_xhat\n",
    "\n",
    "    def encode(self, images: torch.Tensor) -> torch.Tensor:\n",
    "        # if your vae has linear layers, flatten first\n",
    "        # if your vae has conv layers, comment out next line\n",
    "        # images = images.view(images.size(0), -1)  \n",
    "        with torch.no_grad():\n",
    "            z = self.vae.encoder(images.to(self.device))\n",
    "            mu = z[:, :self.latent_dim]  # return only first half (mu)\n",
    "            return mu\n",
    "    \n",
    "    def decode(self, latents: torch.Tensor) -> torch.Tensor:\n",
    "        return self.vae.decoder(latents)\n",
    "\n",
    "    def to(self, device):\n",
    "        self.device = device \n",
    "        self.vae.to(self.device)\n",
    "        self.flow_model.to(self.device)\n",
    "        return self "
   ]
  },
  {
   "cell_type": "code",
   "execution_count": 110,
   "id": "3bc48a30-476a-41ef-9b30-8dcba4804f4c",
   "metadata": {
    "ExecuteTime": {
     "end_time": "2025-10-08T02:36:55.050977Z",
     "start_time": "2025-10-08T02:36:55.046704Z"
    }
   },
   "outputs": [],
   "source": [
    "import matplotlib.pyplot as plt\n",
    "\n",
    "def plot_generated(gen_xhat, nrow=5):\n",
    "    gen_xhat = gen_xhat.detach().cpu()\n",
    "\n",
    "    # assume shape (N, 28, 28)\n",
    "    n_samples = gen_xhat.size(0)\n",
    "    ncol = nrow\n",
    "    nrow = (n_samples + ncol - 1) // ncol\n",
    "\n",
    "    fig, axes = plt.subplots(nrow, ncol, figsize=(ncol*2, nrow*2))\n",
    "    axes = axes.flatten()\n",
    "\n",
    "    for i, ax in enumerate(axes):\n",
    "        if i < n_samples:\n",
    "            ax.imshow(gen_xhat[i], cmap=\"gray\")\n",
    "        ax.axis(\"off\")\n",
    "\n",
    "    plt.tight_layout()\n",
    "    plt.show()"
   ]
  },
  {
   "cell_type": "code",
   "execution_count": 111,
   "id": "376e990701f2300",
   "metadata": {
    "ExecuteTime": {
     "end_time": "2025-10-08T02:37:09.778310Z",
     "start_time": "2025-10-08T02:37:09.775190Z"
    }
   },
   "outputs": [],
   "source": [
    "test_model = MarcosModel(vae, flow_model, latent_dim=7)"
   ]
  },
  {
   "cell_type": "code",
   "execution_count": 120,
   "id": "3052585c-656e-4b75-a90c-9e75a2680598",
   "metadata": {},
   "outputs": [
    {
     "ename": "RuntimeError",
     "evalue": "Expected 3D (unbatched) or 4D (batched) input to conv2d, but got input of size: [1, 7]",
     "output_type": "error",
     "traceback": [
      "\u001b[31m---------------------------------------------------------------------------\u001b[39m",
      "\u001b[31mRuntimeError\u001b[39m                              Traceback (most recent call last)",
      "\u001b[36mCell\u001b[39m\u001b[36m \u001b[39m\u001b[32mIn[120]\u001b[39m\u001b[32m, line 57\u001b[39m\n\u001b[32m     55\u001b[39m         \u001b[38;5;28;01mif\u001b[39;00m was_training:\n\u001b[32m     56\u001b[39m             model.train()\n\u001b[32m---> \u001b[39m\u001b[32m57\u001b[39m \u001b[43mtest_inference\u001b[49m\u001b[43m(\u001b[49m\u001b[43mvae\u001b[49m\u001b[43m,\u001b[49m\u001b[43m \u001b[49m\u001b[43mtrain_ds\u001b[49m\u001b[43m)\u001b[49m\n",
      "\u001b[36mFile \u001b[39m\u001b[32m~/Projects/DLAIE/self/flow_experimentation/.venv/lib/python3.13/site-packages/torch/utils/_contextlib.py:120\u001b[39m, in \u001b[36mcontext_decorator.<locals>.decorate_context\u001b[39m\u001b[34m(*args, **kwargs)\u001b[39m\n\u001b[32m    117\u001b[39m \u001b[38;5;129m@functools\u001b[39m.wraps(func)\n\u001b[32m    118\u001b[39m \u001b[38;5;28;01mdef\u001b[39;00m\u001b[38;5;250m \u001b[39m\u001b[34mdecorate_context\u001b[39m(*args, **kwargs):\n\u001b[32m    119\u001b[39m     \u001b[38;5;28;01mwith\u001b[39;00m ctx_factory():\n\u001b[32m--> \u001b[39m\u001b[32m120\u001b[39m         \u001b[38;5;28;01mreturn\u001b[39;00m \u001b[43mfunc\u001b[49m\u001b[43m(\u001b[49m\u001b[43m*\u001b[49m\u001b[43margs\u001b[49m\u001b[43m,\u001b[49m\u001b[43m \u001b[49m\u001b[43m*\u001b[49m\u001b[43m*\u001b[49m\u001b[43mkwargs\u001b[49m\u001b[43m)\u001b[49m\n",
      "\u001b[36mCell\u001b[39m\u001b[36m \u001b[39m\u001b[32mIn[120]\u001b[39m\u001b[32m, line 21\u001b[39m, in \u001b[36mtest_inference\u001b[39m\u001b[34m(model, test_ds, idx, return_fig)\u001b[39m\n\u001b[32m     18\u001b[39m     x_batch = x_batch.unsqueeze(\u001b[32m1\u001b[39m)\n\u001b[32m     20\u001b[39m \u001b[38;5;66;03m# forward\u001b[39;00m\n\u001b[32m---> \u001b[39m\u001b[32m21\u001b[39m result = \u001b[43mmodel\u001b[49m\u001b[43m(\u001b[49m\u001b[43mx_batch\u001b[49m\u001b[43m)\u001b[49m\n\u001b[32m     22\u001b[39m \u001b[38;5;66;03m# unpack (assumes (z, recon_logits, mu, log_var, z_hat))\u001b[39;00m\n\u001b[32m     23\u001b[39m \u001b[38;5;28;01mif\u001b[39;00m \u001b[38;5;28misinstance\u001b[39m(result, (\u001b[38;5;28mlist\u001b[39m, \u001b[38;5;28mtuple\u001b[39m)):\n",
      "\u001b[36mFile \u001b[39m\u001b[32m~/Projects/DLAIE/self/flow_experimentation/.venv/lib/python3.13/site-packages/torch/nn/modules/module.py:1773\u001b[39m, in \u001b[36mModule._wrapped_call_impl\u001b[39m\u001b[34m(self, *args, **kwargs)\u001b[39m\n\u001b[32m   1771\u001b[39m     \u001b[38;5;28;01mreturn\u001b[39;00m \u001b[38;5;28mself\u001b[39m._compiled_call_impl(*args, **kwargs)  \u001b[38;5;66;03m# type: ignore[misc]\u001b[39;00m\n\u001b[32m   1772\u001b[39m \u001b[38;5;28;01melse\u001b[39;00m:\n\u001b[32m-> \u001b[39m\u001b[32m1773\u001b[39m     \u001b[38;5;28;01mreturn\u001b[39;00m \u001b[38;5;28;43mself\u001b[39;49m\u001b[43m.\u001b[49m\u001b[43m_call_impl\u001b[49m\u001b[43m(\u001b[49m\u001b[43m*\u001b[49m\u001b[43margs\u001b[49m\u001b[43m,\u001b[49m\u001b[43m \u001b[49m\u001b[43m*\u001b[49m\u001b[43m*\u001b[49m\u001b[43mkwargs\u001b[49m\u001b[43m)\u001b[49m\n",
      "\u001b[36mFile \u001b[39m\u001b[32m~/Projects/DLAIE/self/flow_experimentation/.venv/lib/python3.13/site-packages/torch/nn/modules/module.py:1784\u001b[39m, in \u001b[36mModule._call_impl\u001b[39m\u001b[34m(self, *args, **kwargs)\u001b[39m\n\u001b[32m   1779\u001b[39m \u001b[38;5;66;03m# If we don't have any hooks, we want to skip the rest of the logic in\u001b[39;00m\n\u001b[32m   1780\u001b[39m \u001b[38;5;66;03m# this function, and just call forward.\u001b[39;00m\n\u001b[32m   1781\u001b[39m \u001b[38;5;28;01mif\u001b[39;00m \u001b[38;5;129;01mnot\u001b[39;00m (\u001b[38;5;28mself\u001b[39m._backward_hooks \u001b[38;5;129;01mor\u001b[39;00m \u001b[38;5;28mself\u001b[39m._backward_pre_hooks \u001b[38;5;129;01mor\u001b[39;00m \u001b[38;5;28mself\u001b[39m._forward_hooks \u001b[38;5;129;01mor\u001b[39;00m \u001b[38;5;28mself\u001b[39m._forward_pre_hooks\n\u001b[32m   1782\u001b[39m         \u001b[38;5;129;01mor\u001b[39;00m _global_backward_pre_hooks \u001b[38;5;129;01mor\u001b[39;00m _global_backward_hooks\n\u001b[32m   1783\u001b[39m         \u001b[38;5;129;01mor\u001b[39;00m _global_forward_hooks \u001b[38;5;129;01mor\u001b[39;00m _global_forward_pre_hooks):\n\u001b[32m-> \u001b[39m\u001b[32m1784\u001b[39m     \u001b[38;5;28;01mreturn\u001b[39;00m \u001b[43mforward_call\u001b[49m\u001b[43m(\u001b[49m\u001b[43m*\u001b[49m\u001b[43margs\u001b[49m\u001b[43m,\u001b[49m\u001b[43m \u001b[49m\u001b[43m*\u001b[49m\u001b[43m*\u001b[49m\u001b[43mkwargs\u001b[49m\u001b[43m)\u001b[49m\n\u001b[32m   1786\u001b[39m result = \u001b[38;5;28;01mNone\u001b[39;00m\n\u001b[32m   1787\u001b[39m called_always_called_hooks = \u001b[38;5;28mset\u001b[39m()\n",
      "\u001b[36mFile \u001b[39m\u001b[32m~/Projects/DLAIE/self/flow_experimentation/vae_scott.py:165\u001b[39m, in \u001b[36mResNetVAE.forward\u001b[39m\u001b[34m(self, x)\u001b[39m\n\u001b[32m    164\u001b[39m \u001b[38;5;28;01mdef\u001b[39;00m\u001b[38;5;250m \u001b[39m\u001b[34mforward\u001b[39m(\u001b[38;5;28mself\u001b[39m, x):\n\u001b[32m--> \u001b[39m\u001b[32m165\u001b[39m     mu, log_var = \u001b[38;5;28;43mself\u001b[39;49m\u001b[43m.\u001b[49m\u001b[43mencoder\u001b[49m\u001b[43m(\u001b[49m\u001b[43mx\u001b[49m\u001b[43m)\u001b[49m\n\u001b[32m    166\u001b[39m     z = torch.cat([mu, log_var], dim=\u001b[32m1\u001b[39m)  \u001b[38;5;66;03m# this is unnecessary/redundant but our other Lesson code expects z\u001b[39;00m\n\u001b[32m    167\u001b[39m     z_hat = mu + torch.exp(\u001b[32m0.5\u001b[39m * log_var) * torch.randn_like(mu)\n",
      "\u001b[36mFile \u001b[39m\u001b[32m~/Projects/DLAIE/self/flow_experimentation/.venv/lib/python3.13/site-packages/torch/nn/modules/module.py:1773\u001b[39m, in \u001b[36mModule._wrapped_call_impl\u001b[39m\u001b[34m(self, *args, **kwargs)\u001b[39m\n\u001b[32m   1771\u001b[39m     \u001b[38;5;28;01mreturn\u001b[39;00m \u001b[38;5;28mself\u001b[39m._compiled_call_impl(*args, **kwargs)  \u001b[38;5;66;03m# type: ignore[misc]\u001b[39;00m\n\u001b[32m   1772\u001b[39m \u001b[38;5;28;01melse\u001b[39;00m:\n\u001b[32m-> \u001b[39m\u001b[32m1773\u001b[39m     \u001b[38;5;28;01mreturn\u001b[39;00m \u001b[38;5;28;43mself\u001b[39;49m\u001b[43m.\u001b[49m\u001b[43m_call_impl\u001b[49m\u001b[43m(\u001b[49m\u001b[43m*\u001b[49m\u001b[43margs\u001b[49m\u001b[43m,\u001b[49m\u001b[43m \u001b[49m\u001b[43m*\u001b[49m\u001b[43m*\u001b[49m\u001b[43mkwargs\u001b[49m\u001b[43m)\u001b[49m\n",
      "\u001b[36mFile \u001b[39m\u001b[32m~/Projects/DLAIE/self/flow_experimentation/.venv/lib/python3.13/site-packages/torch/nn/modules/module.py:1784\u001b[39m, in \u001b[36mModule._call_impl\u001b[39m\u001b[34m(self, *args, **kwargs)\u001b[39m\n\u001b[32m   1779\u001b[39m \u001b[38;5;66;03m# If we don't have any hooks, we want to skip the rest of the logic in\u001b[39;00m\n\u001b[32m   1780\u001b[39m \u001b[38;5;66;03m# this function, and just call forward.\u001b[39;00m\n\u001b[32m   1781\u001b[39m \u001b[38;5;28;01mif\u001b[39;00m \u001b[38;5;129;01mnot\u001b[39;00m (\u001b[38;5;28mself\u001b[39m._backward_hooks \u001b[38;5;129;01mor\u001b[39;00m \u001b[38;5;28mself\u001b[39m._backward_pre_hooks \u001b[38;5;129;01mor\u001b[39;00m \u001b[38;5;28mself\u001b[39m._forward_hooks \u001b[38;5;129;01mor\u001b[39;00m \u001b[38;5;28mself\u001b[39m._forward_pre_hooks\n\u001b[32m   1782\u001b[39m         \u001b[38;5;129;01mor\u001b[39;00m _global_backward_pre_hooks \u001b[38;5;129;01mor\u001b[39;00m _global_backward_hooks\n\u001b[32m   1783\u001b[39m         \u001b[38;5;129;01mor\u001b[39;00m _global_forward_hooks \u001b[38;5;129;01mor\u001b[39;00m _global_forward_pre_hooks):\n\u001b[32m-> \u001b[39m\u001b[32m1784\u001b[39m     \u001b[38;5;28;01mreturn\u001b[39;00m \u001b[43mforward_call\u001b[49m\u001b[43m(\u001b[49m\u001b[43m*\u001b[49m\u001b[43margs\u001b[49m\u001b[43m,\u001b[49m\u001b[43m \u001b[49m\u001b[43m*\u001b[49m\u001b[43m*\u001b[49m\u001b[43mkwargs\u001b[49m\u001b[43m)\u001b[49m\n\u001b[32m   1786\u001b[39m result = \u001b[38;5;28;01mNone\u001b[39;00m\n\u001b[32m   1787\u001b[39m called_always_called_hooks = \u001b[38;5;28mset\u001b[39m()\n",
      "\u001b[36mFile \u001b[39m\u001b[32m~/Projects/DLAIE/self/flow_experimentation/vae_scott.py:45\u001b[39m, in \u001b[36mResNetVAEEncoder.forward\u001b[39m\u001b[34m(self, x)\u001b[39m\n\u001b[32m     44\u001b[39m \u001b[38;5;28;01mdef\u001b[39;00m\u001b[38;5;250m \u001b[39m\u001b[34mforward\u001b[39m(\u001b[38;5;28mself\u001b[39m, x):\n\u001b[32m---> \u001b[39m\u001b[32m45\u001b[39m     x = \u001b[38;5;28mself\u001b[39m.act()(\u001b[38;5;28mself\u001b[39m.bn1(\u001b[38;5;28;43mself\u001b[39;49m\u001b[43m.\u001b[49m\u001b[43mconv1\u001b[49m\u001b[43m(\u001b[49m\u001b[43mx\u001b[49m\u001b[43m)\u001b[49m))\n\u001b[32m     46\u001b[39m     \u001b[38;5;28;01mfor\u001b[39;00m i \u001b[38;5;129;01min\u001b[39;00m \u001b[38;5;28mrange\u001b[39m(\u001b[38;5;28mlen\u001b[39m(\u001b[38;5;28mself\u001b[39m.levels)):\n\u001b[32m     47\u001b[39m         \u001b[38;5;28;01mif\u001b[39;00m i > \u001b[32m0\u001b[39m:  \u001b[38;5;66;03m# shrink down\u001b[39;00m\n",
      "\u001b[36mFile \u001b[39m\u001b[32m~/Projects/DLAIE/self/flow_experimentation/.venv/lib/python3.13/site-packages/torch/nn/modules/module.py:1773\u001b[39m, in \u001b[36mModule._wrapped_call_impl\u001b[39m\u001b[34m(self, *args, **kwargs)\u001b[39m\n\u001b[32m   1771\u001b[39m     \u001b[38;5;28;01mreturn\u001b[39;00m \u001b[38;5;28mself\u001b[39m._compiled_call_impl(*args, **kwargs)  \u001b[38;5;66;03m# type: ignore[misc]\u001b[39;00m\n\u001b[32m   1772\u001b[39m \u001b[38;5;28;01melse\u001b[39;00m:\n\u001b[32m-> \u001b[39m\u001b[32m1773\u001b[39m     \u001b[38;5;28;01mreturn\u001b[39;00m \u001b[38;5;28;43mself\u001b[39;49m\u001b[43m.\u001b[49m\u001b[43m_call_impl\u001b[49m\u001b[43m(\u001b[49m\u001b[43m*\u001b[49m\u001b[43margs\u001b[49m\u001b[43m,\u001b[49m\u001b[43m \u001b[49m\u001b[43m*\u001b[49m\u001b[43m*\u001b[49m\u001b[43mkwargs\u001b[49m\u001b[43m)\u001b[49m\n",
      "\u001b[36mFile \u001b[39m\u001b[32m~/Projects/DLAIE/self/flow_experimentation/.venv/lib/python3.13/site-packages/torch/nn/modules/module.py:1784\u001b[39m, in \u001b[36mModule._call_impl\u001b[39m\u001b[34m(self, *args, **kwargs)\u001b[39m\n\u001b[32m   1779\u001b[39m \u001b[38;5;66;03m# If we don't have any hooks, we want to skip the rest of the logic in\u001b[39;00m\n\u001b[32m   1780\u001b[39m \u001b[38;5;66;03m# this function, and just call forward.\u001b[39;00m\n\u001b[32m   1781\u001b[39m \u001b[38;5;28;01mif\u001b[39;00m \u001b[38;5;129;01mnot\u001b[39;00m (\u001b[38;5;28mself\u001b[39m._backward_hooks \u001b[38;5;129;01mor\u001b[39;00m \u001b[38;5;28mself\u001b[39m._backward_pre_hooks \u001b[38;5;129;01mor\u001b[39;00m \u001b[38;5;28mself\u001b[39m._forward_hooks \u001b[38;5;129;01mor\u001b[39;00m \u001b[38;5;28mself\u001b[39m._forward_pre_hooks\n\u001b[32m   1782\u001b[39m         \u001b[38;5;129;01mor\u001b[39;00m _global_backward_pre_hooks \u001b[38;5;129;01mor\u001b[39;00m _global_backward_hooks\n\u001b[32m   1783\u001b[39m         \u001b[38;5;129;01mor\u001b[39;00m _global_forward_hooks \u001b[38;5;129;01mor\u001b[39;00m _global_forward_pre_hooks):\n\u001b[32m-> \u001b[39m\u001b[32m1784\u001b[39m     \u001b[38;5;28;01mreturn\u001b[39;00m \u001b[43mforward_call\u001b[49m\u001b[43m(\u001b[49m\u001b[43m*\u001b[49m\u001b[43margs\u001b[49m\u001b[43m,\u001b[49m\u001b[43m \u001b[49m\u001b[43m*\u001b[49m\u001b[43m*\u001b[49m\u001b[43mkwargs\u001b[49m\u001b[43m)\u001b[49m\n\u001b[32m   1786\u001b[39m result = \u001b[38;5;28;01mNone\u001b[39;00m\n\u001b[32m   1787\u001b[39m called_always_called_hooks = \u001b[38;5;28mset\u001b[39m()\n",
      "\u001b[36mFile \u001b[39m\u001b[32m~/Projects/DLAIE/self/flow_experimentation/.venv/lib/python3.13/site-packages/torch/nn/modules/conv.py:548\u001b[39m, in \u001b[36mConv2d.forward\u001b[39m\u001b[34m(self, input)\u001b[39m\n\u001b[32m    547\u001b[39m \u001b[38;5;28;01mdef\u001b[39;00m\u001b[38;5;250m \u001b[39m\u001b[34mforward\u001b[39m(\u001b[38;5;28mself\u001b[39m, \u001b[38;5;28minput\u001b[39m: Tensor) -> Tensor:\n\u001b[32m--> \u001b[39m\u001b[32m548\u001b[39m     \u001b[38;5;28;01mreturn\u001b[39;00m \u001b[38;5;28;43mself\u001b[39;49m\u001b[43m.\u001b[49m\u001b[43m_conv_forward\u001b[49m\u001b[43m(\u001b[49m\u001b[38;5;28;43minput\u001b[39;49m\u001b[43m,\u001b[49m\u001b[43m \u001b[49m\u001b[38;5;28;43mself\u001b[39;49m\u001b[43m.\u001b[49m\u001b[43mweight\u001b[49m\u001b[43m,\u001b[49m\u001b[43m \u001b[49m\u001b[38;5;28;43mself\u001b[39;49m\u001b[43m.\u001b[49m\u001b[43mbias\u001b[49m\u001b[43m)\u001b[49m\n",
      "\u001b[36mFile \u001b[39m\u001b[32m~/Projects/DLAIE/self/flow_experimentation/.venv/lib/python3.13/site-packages/torch/nn/modules/conv.py:543\u001b[39m, in \u001b[36mConv2d._conv_forward\u001b[39m\u001b[34m(self, input, weight, bias)\u001b[39m\n\u001b[32m    531\u001b[39m \u001b[38;5;28;01mif\u001b[39;00m \u001b[38;5;28mself\u001b[39m.padding_mode != \u001b[33m\"\u001b[39m\u001b[33mzeros\u001b[39m\u001b[33m\"\u001b[39m:\n\u001b[32m    532\u001b[39m     \u001b[38;5;28;01mreturn\u001b[39;00m F.conv2d(\n\u001b[32m    533\u001b[39m         F.pad(\n\u001b[32m    534\u001b[39m             \u001b[38;5;28minput\u001b[39m, \u001b[38;5;28mself\u001b[39m._reversed_padding_repeated_twice, mode=\u001b[38;5;28mself\u001b[39m.padding_mode\n\u001b[32m   (...)\u001b[39m\u001b[32m    541\u001b[39m         \u001b[38;5;28mself\u001b[39m.groups,\n\u001b[32m    542\u001b[39m     )\n\u001b[32m--> \u001b[39m\u001b[32m543\u001b[39m \u001b[38;5;28;01mreturn\u001b[39;00m \u001b[43mF\u001b[49m\u001b[43m.\u001b[49m\u001b[43mconv2d\u001b[49m\u001b[43m(\u001b[49m\n\u001b[32m    544\u001b[39m \u001b[43m    \u001b[49m\u001b[38;5;28;43minput\u001b[39;49m\u001b[43m,\u001b[49m\u001b[43m \u001b[49m\u001b[43mweight\u001b[49m\u001b[43m,\u001b[49m\u001b[43m \u001b[49m\u001b[43mbias\u001b[49m\u001b[43m,\u001b[49m\u001b[43m \u001b[49m\u001b[38;5;28;43mself\u001b[39;49m\u001b[43m.\u001b[49m\u001b[43mstride\u001b[49m\u001b[43m,\u001b[49m\u001b[43m \u001b[49m\u001b[38;5;28;43mself\u001b[39;49m\u001b[43m.\u001b[49m\u001b[43mpadding\u001b[49m\u001b[43m,\u001b[49m\u001b[43m \u001b[49m\u001b[38;5;28;43mself\u001b[39;49m\u001b[43m.\u001b[49m\u001b[43mdilation\u001b[49m\u001b[43m,\u001b[49m\u001b[43m \u001b[49m\u001b[38;5;28;43mself\u001b[39;49m\u001b[43m.\u001b[49m\u001b[43mgroups\u001b[49m\n\u001b[32m    545\u001b[39m \u001b[43m\u001b[49m\u001b[43m)\u001b[49m\n",
      "\u001b[31mRuntimeError\u001b[39m: Expected 3D (unbatched) or 4D (batched) input to conv2d, but got input of size: [1, 7]"
     ]
    }
   ],
   "source": []
  },
  {
   "cell_type": "code",
   "execution_count": 112,
   "id": "d01f799a78c51e7f",
   "metadata": {
    "ExecuteTime": {
     "end_time": "2025-10-08T02:37:54.244082Z",
     "start_time": "2025-10-08T02:37:54.137498Z"
    }
   },
   "outputs": [
    {
     "data": {
      "image/png": "[encoded data removed]",
      "text/plain": [
       "<Figure size 1000x400 with 10 Axes>"
      ]
     },
     "metadata": {},
     "output_type": "display_data"
    }
   ],
   "source": [
    "plot_generated(test_model.generate_samples(10,8))"
   ]
  },
  {
   "cell_type": "code",
   "execution_count": 273,
   "id": "073b09d3-6705-488c-9112-c7134b31269b",
   "metadata": {},
   "outputs": [],
   "source": [
    "new_model_worker = MarcosModel(vae, new_model, latent_dim=latent_dim)\n",
    "model_worker = MarcosModel(vae, pretrained_flow_model, latent_dim=latent_dim)"
   ]
  },
  {
   "cell_type": "code",
   "execution_count": 275,
   "id": "a9904c27-6b36-4ac2-891e-9acd5d75b519",
   "metadata": {},
   "outputs": [
    {
     "name": "stdout",
     "output_type": "stream",
     "text": [
      "Old Samples\n"
     ]
    },
    {
     "data": {
      "image/png": "[encoded data removed]",
      "text/plain": [
       "<Figure size 1000x400 with 10 Axes>"
      ]
     },
     "metadata": {},
     "output_type": "display_data"
    },
    {
     "name": "stdout",
     "output_type": "stream",
     "text": [
      "New Samples\n"
     ]
    },
    {
     "data": {
      "image/png": "[encoded data removed]",
      "text/plain": [
       "<Figure size 1000x400 with 10 Axes>"
      ]
     },
     "metadata": {},
     "output_type": "display_data"
    }
   ],
   "source": [
    "new_samples = new_model_worker.generate_samples(10, 8)\n",
    "prev_samples = model_worker.generate_samples(10, 8)\n",
    "\n",
    "print(\"Old Samples\")\n",
    "plot_generated(prev_samples)\n",
    "\n",
    "print(\"New Samples\")\n",
    "plot_generated(new_samples)"
   ]
  },
  {
   "cell_type": "code",
   "execution_count": 99,
   "id": "3f164629-dd2a-4049-9346-a23f732920ac",
   "metadata": {},
   "outputs": [],
   "source": [
    "# class SimpleCNNFlowModel(nn.Module):\n",
    "#     def __init__(self, latent_dim=3, n_hidden=32, n_layers=3, act=nn.LeakyReLU):\n",
    "#         super(SimpleCNNFlowModel, self).__init__()\n",
    "#         self.latent_dim = latent_dim\n",
    "# Later try to do spatial        "
   ]
  },
  {
   "cell_type": "code",
   "execution_count": 8,
   "id": "f57ca3a6e504913f",
   "metadata": {
    "ExecuteTime": {
     "end_time": "2025-10-07T03:47:37.068248Z",
     "start_time": "2025-10-07T03:47:37.065744Z"
    }
   },
   "outputs": [],
   "source": [
    "class SimpleFlowModel(nn.Module):\n",
    "    def __init__(self, latent_dim=3, n_hidden=32, n_layers=3, act=nn.LeakyReLU):\n",
    "        super(SimpleFlowModel, self).__init__()\n",
    "        self.latent_dim = latent_dim\n",
    "        self.layers = nn.Sequential(\n",
    "            nn.Linear(latent_dim+1, n_hidden), act(),\n",
    "            *[nn.Sequential(nn.Linear(n_hidden, n_hidden), act()) for _ in range(n_layers-1)],\n",
    "            nn.Linear(n_hidden, latent_dim),)\n",
    "\n",
    "    def forward(self, x, t, act=F.gelu):\n",
    "        t = t.expand(x.size(0), 1)  # Ensure t has the correct dimensions\n",
    "        x = torch.cat([x, t], dim=1)\n",
    "        return self.layers(x)"
   ]
  },
  {
   "cell_type": "code",
   "execution_count": null,
   "id": "a5f48e75a340627d",
   "metadata": {},
   "outputs": [],
   "source": []
  },
  {
   "cell_type": "code",
   "execution_count": 308,
   "id": "add6f641-e918-4317-8fd7-339c9820caeb",
   "metadata": {},
   "outputs": [],
   "source": [
    "import torch\n",
    "import numpy as np\n",
    "import matplotlib.pyplot as plt\n",
    "from matplotlib import animation\n",
    "from IPython.display import HTML\n",
    "from matplotlib import rc\n",
    "from tqdm import tqdm\n",
    "\n",
    "@torch.no_grad()\n",
    "def create_latent_flow_animation(\n",
    "    flow_model,\n",
    "    latent_dataloader,  # Dataloader with (latents, labels) where latents is [B, D]\n",
    "    n_samples=500,\n",
    "    n_frames=50,\n",
    "    model2=None,  # Optional second flow model for comparison\n",
    "    titles=None,\n",
    "    save_file=None,\n",
    "    figsize=(5, 5),\n",
    "    device='mps',\n",
    "    reducer='tsne',  # 'pca' or 'tsne'\n",
    "    perplexity=30\n",
    "):\n",
    "    \"\"\"\n",
    "    Create animation showing how latents flow through your flow model.\n",
    "    Shows initial noise distribution flowing to target latent distribution.\n",
    "    Uses consistent 2D projection (fit once, apply to all trajectories).\n",
    "    \n",
    "    Args:\n",
    "        flow_model: Your trained flow model (takes x, t)\n",
    "        latent_dataloader: DataLoader yielding (latents, labels) \n",
    "                          where latents shape is [B, D] (e.g., [B, 7])\n",
    "        n_samples: Number of points to animate\n",
    "        n_frames: Number of animation frames\n",
    "        model2: Optional second flow model for comparison\n",
    "        save_file: If provided, saves animation as MP4\n",
    "        reducer: 'pca' or 'tsne' for dimensionality reduction\n",
    "        perplexity: Perplexity for t-SNE (ignored if reducer='pca')\n",
    "    \"\"\"\n",
    "    flow_model.eval()\n",
    "    if model2 is not None:\n",
    "        model2.eval()\n",
    "    \n",
    "    # 1) Extract latents from dataloader\n",
    "    print(\"Loading latents from dataloader...\")\n",
    "    latents, labels = [], []\n",
    "    for z_batch, y_batch in latent_dataloader:\n",
    "        if len(latents) * z_batch.size(0) >= n_samples:\n",
    "            remaining = n_samples - sum(z.size(0) for z in latents)\n",
    "            if remaining <= 0:\n",
    "                break\n",
    "            z_batch = z_batch[:remaining]\n",
    "            y_batch = y_batch[:remaining]\n",
    "        \n",
    "        latents.append(z_batch)\n",
    "        labels.append(y_batch)\n",
    "    \n",
    "    latents = torch.cat(latents, 0).to(device)\n",
    "    labels = torch.cat(labels, 0).cpu().numpy()\n",
    "    \n",
    "    print(f\"Got {len(latents)} latent points with dimension {latents.shape[1]}\")\n",
    "    \n",
    "    latent_dim = latents.shape[1]\n",
    "    \n",
    "    # 2) Generate trajectories in full latent space FIRST\n",
    "    print(\"Computing trajectories with RK4...\")\n",
    "    \n",
    "    # Start from noise in full latent space\n",
    "    noise_full = torch.randn_like(latents)\n",
    "    noise_full = noise_full * latents.std(dim=0, keepdim=True) + latents.mean(dim=0, keepdim=True)\n",
    "    \n",
    "    _, trajectories_full = integrate_path(\n",
    "        flow_model, noise_full, \n",
    "        step_fn=rk4_step, \n",
    "        n_steps=n_frames,\n",
    "        save_trajectories=True,\n",
    "        warp_fn=warp_time\n",
    "    )\n",
    "    \n",
    "    trajectories_full2 = None\n",
    "    if model2 is not None:\n",
    "        print(\"Computing trajectories for model 2...\")\n",
    "        _, trajectories_full2 = integrate_path(\n",
    "            model2, noise_full,\n",
    "            step_fn=rk4_step,\n",
    "            n_steps=n_frames, \n",
    "            save_trajectories=True,\n",
    "            warp_fn=warp_time\n",
    "        )\n",
    "    \n",
    "    # 3) Fit reducer on ALL data (target latents + all trajectory points) for consistency\n",
    "    if latent_dim > 2:\n",
    "        print(f\"Fitting {reducer.upper()} on all data for consistent projection...\")\n",
    "        \n",
    "        # Combine target latents + all trajectory frames for fitting\n",
    "        all_data = [latents.cpu().numpy()]\n",
    "        for i in range(len(trajectories_full)):\n",
    "            all_data.append(trajectories_full[i].cpu().numpy())\n",
    "        if trajectories_full2 is not None:\n",
    "            for i in range(len(trajectories_full2)):\n",
    "                all_data.append(trajectories_full2[i].cpu().numpy())\n",
    "        \n",
    "        all_data = np.vstack(all_data)\n",
    "        print(f\"Fitting on {len(all_data)} total points...\")\n",
    "        \n",
    "        if reducer.lower() == 'tsne':\n",
    "            from sklearn.manifold import TSNE\n",
    "            perplexity = min(perplexity, len(all_data) // 4)\n",
    "            projection = TSNE(\n",
    "                n_components=2, \n",
    "                perplexity=perplexity,\n",
    "                learning_rate=200,\n",
    "                random_state=42,\n",
    "                n_jobs=-1\n",
    "            )\n",
    "            all_data_2d = projection.fit_transform(all_data)\n",
    "            print(\"t-SNE fitting complete\")\n",
    "        else:\n",
    "            from sklearn.decomposition import PCA\n",
    "            projection = PCA(n_components=2)\n",
    "            all_data_2d = projection.fit_transform(all_data)\n",
    "            print(f\"PCA explained variance: {projection.explained_variance_ratio_.sum():.2%}\")\n",
    "        \n",
    "        # Split back into original components\n",
    "        n_latents = len(latents)\n",
    "        n_per_frame = len(trajectories_full[0])\n",
    "        \n",
    "        latents_2d = torch.tensor(all_data_2d[:n_latents], dtype=torch.float32, device=device)\n",
    "        \n",
    "        trajectories = []\n",
    "        offset = n_latents\n",
    "        for i in range(len(trajectories_full)):\n",
    "            traj_2d = all_data_2d[offset:offset+n_per_frame]\n",
    "            trajectories.append(torch.tensor(traj_2d, dtype=torch.float32, device=device))\n",
    "            offset += n_per_frame\n",
    "        \n",
    "        trajectories2 = None\n",
    "        if trajectories_full2 is not None:\n",
    "            trajectories2 = []\n",
    "            for i in range(len(trajectories_full2)):\n",
    "                traj_2d = all_data_2d[offset:offset+n_per_frame]\n",
    "                trajectories2.append(torch.tensor(traj_2d, dtype=torch.float32, device=device))\n",
    "                offset += n_per_frame\n",
    "        \n",
    "        # Get noise_2d for plot range\n",
    "        noise_2d = trajectories[0]\n",
    "        \n",
    "    else:\n",
    "        # Already 2D, no projection needed\n",
    "        latents_2d = latents\n",
    "        noise_2d = noise_full.to(device)\n",
    "        trajectories = [trajectories_full[i].to(device) for i in range(len(trajectories_full))]\n",
    "        trajectories2 = None\n",
    "        if trajectories_full2 is not None:\n",
    "            trajectories2 = [trajectories_full2[i].to(device) for i in range(len(trajectories_full2))]\n",
    "    \n",
    "    # 4) Setup plot\n",
    "    if titles is None:\n",
    "        titles = ['Flow Model']\n",
    "        if model2:\n",
    "            titles.append('Model 2')\n",
    "    \n",
    "    n_plots = 1 + (model2 is not None)\n",
    "    if model2:\n",
    "        figsize = (figsize[0] * 2, figsize[1])\n",
    "    \n",
    "    fig, axes = plt.subplots(1, n_plots, figsize=figsize)\n",
    "    if n_plots == 1:\n",
    "        axes = [axes]\n",
    "    plt.close()\n",
    "    \n",
    "    # Determine plot ranges (fixed across all frames)\n",
    "    all_points = torch.cat([noise_2d, latents_2d], dim=0).cpu().numpy()\n",
    "    max_range = max(abs(all_points).max(), 3.0)\n",
    "    \n",
    "    # Setup axes\n",
    "    for ax in axes:\n",
    "        ax.set_xlim(-max_range, max_range)\n",
    "        ax.set_ylim(-max_range, max_range)\n",
    "        ax.set_aspect('equal')\n",
    "    \n",
    "    # 5) Create animation\n",
    "    print(\"Generating animation frames...\")\n",
    "    \n",
    "    # Compute warped timesteps for display\n",
    "    ts = torch.linspace(0, 1, n_frames + 1)\n",
    "    ts_warped = warp_time(ts).numpy()\n",
    "    \n",
    "    # Progress bar for animation rendering\n",
    "    pbar = tqdm(total=n_frames, desc=\"Rendering frames\", unit=\"frame\")\n",
    "    \n",
    "    def init():\n",
    "        for ax in axes:\n",
    "            ax.clear()\n",
    "            ax.set_xlim(-max_range, max_range)\n",
    "            ax.set_ylim(-max_range, max_range)\n",
    "        return []\n",
    "    \n",
    "    def animate(frame):\n",
    "        pbar.update(1)  # Update progress bar\n",
    "        t_display = ts_warped[frame]\n",
    "        \n",
    "        for i, ax in enumerate(axes):\n",
    "            ax.clear()\n",
    "            ax.set_xlim(-max_range, max_range)\n",
    "            ax.set_ylim(-max_range, max_range)\n",
    "            ax.set_aspect('equal')\n",
    "            \n",
    "            reducer_label = reducer.upper() if latent_dim > 2 else \"\"\n",
    "            title = f\"{titles[i]} (t={t_display:.2f})\"\n",
    "            if reducer_label:\n",
    "                title += f\" [{reducer_label}]\"\n",
    "            ax.set_title(title)\n",
    "            \n",
    "            ax.set_xticks([])\n",
    "            ax.set_yticks([])\n",
    "            for spine in ['top', 'right', 'bottom', 'left']:\n",
    "                ax.spines[spine].set_visible(False)\n",
    "            \n",
    "            # Plot target latents (faint, always visible)\n",
    "            ax.scatter(latents_2d[:, 0].cpu(), latents_2d[:, 1].cpu(), \n",
    "                      c='lightgray', alpha=0.3, s=8, label='Target', zorder=1)\n",
    "            \n",
    "            # Plot flowing particles (brighter, on top)\n",
    "            if i == 0:\n",
    "                current = trajectories[frame]\n",
    "                ax.scatter(current[:, 0].cpu(), current[:, 1].cpu(), \n",
    "                          c=labels, cmap='tab10', alpha=0.7, s=15, \n",
    "                          edgecolors='white', linewidth=0.3, zorder=2)\n",
    "            else:\n",
    "                current = trajectories2[frame]\n",
    "                ax.scatter(current[:, 0].cpu(), current[:, 1].cpu(), \n",
    "                          c=labels, cmap='tab10', alpha=0.7, s=15,\n",
    "                          edgecolors='white', linewidth=0.3, zorder=2)\n",
    "        \n",
    "        return []\n",
    "    \n",
    "    anim = animation.FuncAnimation(fig, animate, init_func=init,\n",
    "                                   frames=n_frames, interval=50, blit=False)\n",
    "    \n",
    "    if save_file:\n",
    "        print(f\"Saving animation to {save_file}...\")\n",
    "        anim.save(save_file, writer='ffmpeg', fps=20)\n",
    "        pbar.close()\n",
    "        print(\"Done!\")\n",
    "        return HTML(f\"\"\"<center><video height=\"400\" controls loop>\n",
    "                    <source src=\"{save_file}\" type=\"video/mp4\">\n",
    "                    Your browser does not support the video tag.</video></center>\"\"\")\n",
    "    else:\n",
    "        pbar.close()\n",
    "        rc('animation', html='jshtml')\n",
    "        return HTML(anim.to_jshtml())"
   ]
  },
  {
   "cell_type": "code",
   "execution_count": 310,
   "id": "aeaf6c29-a7ff-43f7-99dc-aee5faa0a002",
   "metadata": {},
   "outputs": [
    {
     "name": "stdout",
     "output_type": "stream",
     "text": [
      "Loading latents from dataloader...\n",
      "Got 512 latent points with dimension 7\n",
      "Computing trajectories with RK4...\n",
      "Computing trajectories for model 2...\n",
      "Fitting TSNE on all data for consistent projection...\n",
      "Fitting on 512512 total points...\n",
      "t-SNE fitting complete\n",
      "Generating animation frames...\n",
      "Saving animation to flow_comparison.mp4...\n",
      "Done!\n"
     ]
    },
    {
     "data": {
      "text/html": [
       "<center><video height=\"400\" controls loop>\n",
       "                    <source src=\"flow_comparison.mp4\" type=\"video/mp4\">\n",
       "                    Your browser does not support the video tag.</video></center>"
      ],
      "text/plain": [
       "<IPython.core.display.HTML object>"
      ]
     },
     "execution_count": 310,
     "metadata": {},
     "output_type": "execute_result"
    }
   ],
   "source": [
    "create_latent_flow_animation(\n",
    "    flow_model=pretrained_flow_model,\n",
    "    latent_dataloader=train_dl,\n",
    "    model2=new_model,\n",
    "    n_samples=500,\n",
    "    n_frames=500,\n",
    "    titles=['Original Flow', 'Reflowed Model'],\n",
    "    save_file='flow_comparison.mp4',\n",
    "    device='mps'\n",
    ")"
   ]
  },
  {
   "cell_type": "code",
   "execution_count": null,
   "id": "43b81c41-e3e7-4d02-b27b-577105bf868c",
   "metadata": {},
   "outputs": [],
   "source": []
  }
 ],
 "metadata": {
  "kernelspec": {
   "display_name": "Python 3 (ipykernel)",
   "language": "python",
   "name": "python3"
  },
  "language_info": {
   "codemirror_mode": {
    "name": "ipython",
    "version": 3
   },
   "file_extension": ".py",
   "mimetype": "text/x-python",
   "name": "python",
   "nbconvert_exporter": "python",
   "pygments_lexer": "ipython3",
   "version": "3.13.7"
  }
 },
 "nbformat": 4,
 "nbformat_minor": 5
}
