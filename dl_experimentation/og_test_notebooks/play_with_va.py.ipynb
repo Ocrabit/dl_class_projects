{
 "cells": [
  {
   "cell_type": "code",
   "execution_count": 39,
   "id": "initial_id",
   "metadata": {
    "ExecuteTime": {
     "end_time": "2025-10-09T03:05:19.032211Z",
     "start_time": "2025-10-09T03:05:19.030333Z"
    }
   },
   "outputs": [],
   "source": [
    "# from vae_scott import ResidualBlock, ResNetVAEEncoder, ResNetVAEDecoder, ResNetVAEEncoderSpatial, ResNetVAEDecoderSpatial, ResNetVAE\n",
    "from vae_scott import ResNetVAE, test_inference, test_inference_spatial, log_example_images\n",
    "import wandb\n",
    "\n",
    "import torch\n",
    "from torch import nn, optim, utils\n",
    "from torch.utils.data import DataLoader\n",
    "from torchvision.datasets import MNIST\n",
    "from torchvision.transforms import ToTensor, RandomAffine, RandomErasing\n",
    "import torchvision\n",
    "import matplotlib.pyplot as plt\n",
    "import torch.nn.functional as F\n",
    "\n",
    "from tqdm import tqdm\n",
    "from torch.nn.utils import clip_grad_norm_"
   ]
  },
  {
   "cell_type": "code",
   "execution_count": 40,
   "id": "a4c12aa911b4478f",
   "metadata": {
    "ExecuteTime": {
     "end_time": "2025-10-09T03:05:20.907180Z",
     "start_time": "2025-10-09T03:05:20.905501Z"
    }
   },
   "outputs": [],
   "source": [
    "device = torch.device('cuda' if torch.cuda.is_available() else 'mps' if torch.backends.mps.is_available() else 'cpu')"
   ]
  },
  {
   "cell_type": "code",
   "execution_count": 41,
   "id": "1ae8948712f69845",
   "metadata": {
    "ExecuteTime": {
     "end_time": "2025-10-09T03:26:37.822752Z",
     "start_time": "2025-10-09T03:26:37.733924Z"
    }
   },
   "outputs": [],
   "source": [
    "spatial_vae = ResNetVAE().to(device)"
   ]
  },
  {
   "cell_type": "code",
   "execution_count": 4,
   "id": "86831005c9822ec3",
   "metadata": {
    "ExecuteTime": {
     "end_time": "2025-10-07T15:41:48.686953Z",
     "start_time": "2025-10-07T15:41:48.598825Z"
    }
   },
   "outputs": [],
   "source": [
    "vae_7 = ResNetVAE(latent_dim=7, spatial=False).to(device)"
   ]
  },
  {
   "cell_type": "code",
   "execution_count": 42,
   "id": "fc4777cdb45290f6",
   "metadata": {
    "ExecuteTime": {
     "end_time": "2025-10-09T03:26:39.476073Z",
     "start_time": "2025-10-09T03:26:39.473302Z"
    }
   },
   "outputs": [],
   "source": [
    "wandb.login()\n",
    "wandb.finish() # just in case we're aborting runs & restarting"
   ]
  },
  {
   "cell_type": "code",
   "id": "70acf7703e2bf64a",
   "metadata": {
    "ExecuteTime": {
     "end_time": "2025-10-09T04:09:41.633683Z",
     "start_time": "2025-10-09T04:09:41.614634Z"
    }
   },
   "source": [
    "# optional: define additional data augmentation transformers for the dataloader\n",
    "train_transforms = torchvision.transforms.Compose([\n",
    "    ToTensor(),\n",
    "    # uncomment next lines for extra augmentations\n",
    "    #RandomAffine(degrees=15, translate=(0.1, 0.1)),\n",
    "    #RandomErasing(p=0.2, scale=(0.02, 0.1))\n",
    "])\n",
    "\n",
    "train_ds = MNIST(root='./data', train=True,  download=True, transform=train_transforms)\n",
    "test_ds  = MNIST(root='./data', train=False, download=True, transform=ToTensor())\n",
    "val_ds = test_ds  #alias val for test\n",
    "print(f\"Data set lengths: train: {len(train_ds)}, test: {len(test_ds)}\")\n",
    "\n",
    "\n",
    "\n",
    "batch_size = 128   # could make this bigger; note for MNIST on Colab we're disk-speed limited, not GPU-limited\n",
    "train_dl = DataLoader(train_ds, batch_size=batch_size, num_workers=2, shuffle=True, persistent_workers=True)\n",
    "test_dl = DataLoader(test_ds, batch_size=batch_size, num_workers=2, shuffle=False, persistent_workers=True)\n",
    "val_dl = test_dl # alias val <--> test"
   ],
   "outputs": [
    {
     "name": "stdout",
     "output_type": "stream",
     "text": [
      "Data set lengths: train: 60000, test: 10000\n"
     ]
    }
   ],
   "execution_count": 50
  },
  {
   "cell_type": "code",
   "id": "9a152c5fda52eb17",
   "metadata": {
    "ExecuteTime": {
     "end_time": "2025-10-09T20:05:32.040359Z",
     "start_time": "2025-10-09T20:05:31.975569Z"
    }
   },
   "source": [
    "project = \"spatial_vae_conv_testing\"\n",
    "recon_criterion = F.binary_cross_entropy_with_logits\n",
    "\n",
    "def vae_loss(x, x_logits, mu, log_var, beta: float):\n",
    "    recon_loss = recon_criterion(x_logits, x)\n",
    "    kl_per_elem = -0.5 * (1 + log_var - mu.pow(2) - log_var.exp())\n",
    "    kl = kl_per_elem.view(kl_per_elem.size(0), -1).sum(dim=1).mean()\n",
    "    loss = recon_loss + beta * kl\n",
    "    return loss, recon_loss, kl\n",
    "\n",
    "def train_model_vae(\n",
    "    model, train_loader, val_loader, name=None,\n",
    "    epochs=20, lr=2e-3, weight_decay=5e-5,\n",
    "    beta_final=1.0, warmup_epochs=10, grad_clip=5.0, ema=0.97\n",
    "):\n",
    "    device = next(model.parameters()).device\n",
    "\n",
    "    # ---- W&B ----\n",
    "    wandb.finish()\n",
    "    wandb.init(project=project, name=name, reinit='finish_previous')\n",
    "    wandb.config.update({\n",
    "        \"epochs\": epochs,\n",
    "        \"batch_size\": batch_size,\n",
    "        \"learning_rate\": lr,\n",
    "        \"model\": model.__class__.__name__,\n",
    "        \"optimizer\": \"Adam\",\n",
    "        \"device\": str(device),\n",
    "    })\n",
    "\n",
    "    optimizer = optim.Adam(model.parameters(), lr=lr, weight_decay=weight_decay)\n",
    "    global_step = 0\n",
    "    train_loss_avg = None\n",
    "\n",
    "    for epoch in range(epochs):\n",
    "        model.train()\n",
    "\n",
    "        beta = beta_final * min((epoch + 1) / warmup_epochs, 1.0)\n",
    "\n",
    "        pbar = tqdm(train_loader, desc=f\"Epoch {epoch+1}/{epochs}\")\n",
    "        for batch_idx, (data, _) in enumerate(pbar):\n",
    "            data = data.to(device)\n",
    "            optimizer.zero_grad()\n",
    "\n",
    "            z, x_hat, mu, log_var, z_hat = model(data)\n",
    "\n",
    "            recon_loss = recon_criterion(x_hat, data)\n",
    "            kl = -0.5 * torch.mean(1 + log_var - mu.pow(2) - log_var.exp())\n",
    "            loss = recon_loss + beta * kl\n",
    "\n",
    "            # loss, recon_loss, kl = vae_loss(data, x_hat, mu, log_var, beta)\n",
    "\n",
    "            loss.backward()\n",
    "            # if grad_clip is not None:\n",
    "            #     clip_grad_norm_(model.parameters(), grad_clip)\n",
    "            optimizer.step()\n",
    "\n",
    "            train_loss_avg = loss.item() if train_loss_avg is None else ema * train_loss_avg + (1 - ema) * loss.item()\n",
    "\n",
    "            wandb.log({\n",
    "                \"step\": global_step,\n",
    "                \"train_loss_ema\": train_loss_avg,\n",
    "                \"train_loss\": loss.item(),\n",
    "                \"recon_loss\": recon_loss.item(),\n",
    "                \"kl_loss\": kl.item(),\n",
    "                \"beta\": beta,\n",
    "                \"beta*kl\": (beta * kl).item(),\n",
    "            })\n",
    "            global_step += 1\n",
    "            pbar.set_postfix(Loss=f\"{train_loss_avg:.4f}\", Recon=f\"{recon_loss.item():.4f}\", KLw=f\"{(beta*kl).item():.5f}\")\n",
    "\n",
    "        # ---- validation ----\n",
    "        model.eval()\n",
    "        val_loss = val_recon = val_kl = 0.0\n",
    "        mu_stats = []\n",
    "\n",
    "        with torch.no_grad():\n",
    "            for data, _ in val_loader:\n",
    "                data = data.to(device)\n",
    "                z, x_hat, mu, log_var, z_hat = model(data)\n",
    "\n",
    "                recon = recon_criterion(x_hat, data)\n",
    "                kl = -0.5 * torch.mean(1 + log_var - mu.pow(2) - log_var.exp())\n",
    "                loss = recon + beta * kl\n",
    "\n",
    "                val_loss += loss.item(); val_recon += recon.item(); val_kl += kl.item()\n",
    "                mu_stats.append(mu)\n",
    "\n",
    "        n = len(val_loader)\n",
    "        val_loss /= n; val_recon /= n; val_kl /= n\n",
    "\n",
    "        mu_all = torch.cat(mu_stats, dim=0)\n",
    "        mu_mean = mu_all.mean().item(); mu_std = mu_all.std().item()\n",
    "\n",
    "        wandb.log({\n",
    "            \"epoch\": epoch + 1,\n",
    "            \"val_loss\": val_loss,\n",
    "            \"val_recon_loss\": val_recon,\n",
    "            \"val_kl_loss\": val_kl,\n",
    "            \"mu_mean\": mu_mean,\n",
    "            \"mu_std\": mu_std,\n",
    "        })\n",
    "        print(f\"Epoch {epoch+1:02d} | beta {beta:.3f} | \"\n",
    "                f\"val {val_loss:.4f} | recon {val_recon:.4f} | KL {val_kl:.4f} | \"\n",
    "                f\"μ_mean {mu_mean:.3f} μ_std {mu_std:.3f}\")\n",
    "\n",
    "        # visualize with sigmoid at eval-time only\n",
    "        log_example_images(model, val_loader.dataset, epoch + 1, spatial=True, n=5)\n",
    "\n",
    "    wandb.finish()\n",
    "    return val_loss"
   ],
   "outputs": [],
   "execution_count": 52
  },
  {
   "metadata": {},
   "cell_type": "code",
   "outputs": [],
   "execution_count": null,
   "source": "",
   "id": "f97ea5b2df5353de"
  },
  {
   "cell_type": "code",
   "id": "9e94a2426867f8e0",
   "metadata": {
    "ExecuteTime": {
     "end_time": "2025-10-09T20:18:43.323159Z",
     "start_time": "2025-10-09T20:06:15.541552Z"
    }
   },
   "source": "train_model_vae(spatial_vae, train_dl, val_dl, name=\"test_vae_ld7_v1\", beta_final=0.005, epochs=20)",
   "outputs": [
    {
     "data": {
      "text/plain": [
       "<IPython.core.display.HTML object>"
      ],
      "text/html": []
     },
     "metadata": {},
     "output_type": "display_data",
     "jetTransient": {
      "display_id": "840aeceecf50ff1706ac74908146ed1f"
     }
    },
    {
     "data": {
      "text/plain": [
       "<IPython.core.display.HTML object>"
      ],
      "text/html": [
       "<br>    <style><br>        .wandb-row {<br>            display: flex;<br>            flex-direction: row;<br>            flex-wrap: wrap;<br>            justify-content: flex-start;<br>            width: 100%;<br>        }<br>        .wandb-col {<br>            display: flex;<br>            flex-direction: column;<br>            flex-basis: 100%;<br>            flex: 1;<br>            padding: 10px;<br>        }<br>    </style><br><div class=\"wandb-row\"><div class=\"wandb-col\"><h3>Run history:</h3><br/><table class=\"wandb\"><tr><td>beta</td><td>▁▁▁▂▂▂▃▃▃▃▃▃▄▄▅▅▆▆▆▆▆▇▇▇████████████████</td></tr><tr><td>beta*kl</td><td>█▂▂▂▁▁▁▁▁▁▁▁▁▁▁▁▂▁▁▁▁▁▁▁▁▁▁▁▁▁▁▁▁▁▁▁▁▁▁▁</td></tr><tr><td>epoch</td><td>▁▁▂▂▂▂▃▃▄▄▄▄▅▅▅▅▆▆▇▇▇▇██</td></tr><tr><td>kl_loss</td><td>█▅▃▂▂▁▂▁▁▁▁▁▁▁▁▁▁▁▁▁▁▁▁▁▁▁▁▁▁▁▁▁▁▁▁▁▁▁▁▁</td></tr><tr><td>mu_mean</td><td>█▆▃▄▅▅▄▁▂▃▅▆</td></tr><tr><td>mu_std</td><td>█▅▃▃▂▁▁▁▁▂▅▂</td></tr><tr><td>recon_loss</td><td>▄▂▆▃▄▅▂▃▆▅▃▄▅▂▅▄▅▆▆▆▃▅▇▂▂▄▆▅▆▃▃▆▅▁▄▂▄█▄▆</td></tr><tr><td>step</td><td>▁▂▂▂▂▂▂▃▃▃▄▄▄▄▄▄▄▄▄▅▅▅▅▅▅▅▅▆▆▆▆▆▇▇▇▇▇▇▇█</td></tr><tr><td>train_loss</td><td>█▃▃▂▁▃▂▂▂▂▂▃▃▁▂▃▂▁▂▃▂▃▂▂▁▂▃▃▁▂▃▁▁▃▂▃▁▂▃▂</td></tr><tr><td>train_loss_ema</td><td>█▁▁▁▁▁▁▁▁▁▁▁▁▁▁▁▁▁▁▁▁▁▁▁▁▁▁▁▁▁▁▁▁▁▁▁▁▁▁▁</td></tr><tr><td>+3</td><td>...</td></tr></table><br/></div><div class=\"wandb-col\"><h3>Run summary:</h3><br/><table class=\"wandb\"><tr><td>beta</td><td>0.5</td></tr><tr><td>beta*kl</td><td>4e-05</td></tr><tr><td>epoch</td><td>12</td></tr><tr><td>kl_loss</td><td>7e-05</td></tr><tr><td>mu_mean</td><td>0.00079</td></tr><tr><td>mu_std</td><td>0.00081</td></tr><tr><td>recon_loss</td><td>0.27256</td></tr><tr><td>step</td><td>6094</td></tr><tr><td>train_loss</td><td>0.2726</td></tr><tr><td>train_loss_ema</td><td>0.26263</td></tr><tr><td>+3</td><td>...</td></tr></table><br/></div></div>"
      ]
     },
     "metadata": {},
     "output_type": "display_data",
     "jetTransient": {
      "display_id": null
     }
    },
    {
     "data": {
      "text/plain": [
       "<IPython.core.display.HTML object>"
      ],
      "text/html": [
       " View run <strong style=\"color:#cdcd00\">vae_ld7_v5</strong> at: <a href='https://wandb.ai/marcocassar-belmont-university/spatial_vae_conv_testing/runs/lcquado1' target=\"_blank\">https://wandb.ai/marcocassar-belmont-university/spatial_vae_conv_testing/runs/lcquado1</a><br> View project at: <a href='https://wandb.ai/marcocassar-belmont-university/spatial_vae_conv_testing' target=\"_blank\">https://wandb.ai/marcocassar-belmont-university/spatial_vae_conv_testing</a><br>Synced 5 W&B file(s), 12 media file(s), 0 artifact file(s) and 0 other file(s)"
      ]
     },
     "metadata": {},
     "output_type": "display_data",
     "jetTransient": {
      "display_id": null
     }
    },
    {
     "data": {
      "text/plain": [
       "<IPython.core.display.HTML object>"
      ],
      "text/html": [
       "Find logs at: <code>./wandb/run-20251008_224539-lcquado1/logs</code>"
      ]
     },
     "metadata": {},
     "output_type": "display_data",
     "jetTransient": {
      "display_id": null
     }
    },
    {
     "data": {
      "text/plain": [
       "<IPython.core.display.HTML object>"
      ],
      "text/html": []
     },
     "metadata": {},
     "output_type": "display_data",
     "jetTransient": {
      "display_id": "09aba19714d9d1fa9be47932f12fce46"
     }
    },
    {
     "data": {
      "text/plain": [
       "<IPython.core.display.HTML object>"
      ],
      "text/html": [
       "Tracking run with wandb version 0.22.1"
      ]
     },
     "metadata": {},
     "output_type": "display_data",
     "jetTransient": {
      "display_id": null
     }
    },
    {
     "data": {
      "text/plain": [
       "<IPython.core.display.HTML object>"
      ],
      "text/html": [
       "Run data is saved locally in <code>/Users/marcocassar/Projects/DLAIE/self/flow_experimentation/wandb/run-20251009_150616-4esf4ddy</code>"
      ]
     },
     "metadata": {},
     "output_type": "display_data",
     "jetTransient": {
      "display_id": null
     }
    },
    {
     "data": {
      "text/plain": [
       "<IPython.core.display.HTML object>"
      ],
      "text/html": [
       "Syncing run <strong><a href='https://wandb.ai/marcocassar-belmont-university/spatial_vae_conv_testing/runs/4esf4ddy' target=\"_blank\">test_vae_ld7_v1</a></strong> to <a href='https://wandb.ai/marcocassar-belmont-university/spatial_vae_conv_testing' target=\"_blank\">Weights & Biases</a> (<a href='https://wandb.me/developer-guide' target=\"_blank\">docs</a>)<br>"
      ]
     },
     "metadata": {},
     "output_type": "display_data",
     "jetTransient": {
      "display_id": null
     }
    },
    {
     "data": {
      "text/plain": [
       "<IPython.core.display.HTML object>"
      ],
      "text/html": [
       " View project at <a href='https://wandb.ai/marcocassar-belmont-university/spatial_vae_conv_testing' target=\"_blank\">https://wandb.ai/marcocassar-belmont-university/spatial_vae_conv_testing</a>"
      ]
     },
     "metadata": {},
     "output_type": "display_data",
     "jetTransient": {
      "display_id": null
     }
    },
    {
     "data": {
      "text/plain": [
       "<IPython.core.display.HTML object>"
      ],
      "text/html": [
       " View run at <a href='https://wandb.ai/marcocassar-belmont-university/spatial_vae_conv_testing/runs/4esf4ddy' target=\"_blank\">https://wandb.ai/marcocassar-belmont-university/spatial_vae_conv_testing/runs/4esf4ddy</a>"
      ]
     },
     "metadata": {},
     "output_type": "display_data",
     "jetTransient": {
      "display_id": null
     }
    },
    {
     "name": "stderr",
     "output_type": "stream",
     "text": [
      "Epoch 1/20: 100%|██████████| 469/469 [00:36<00:00, 12.94it/s, KLw=0.00159, Loss=0.0785, Recon=0.0753]\n"
     ]
    },
    {
     "name": "stdout",
     "output_type": "stream",
     "text": [
      "Epoch 01 | beta 0.001 | val 0.0753 | recon 0.0736 | KL 3.2636 | μ_mean 0.006 μ_std 1.363\n"
     ]
    },
    {
     "name": "stderr",
     "output_type": "stream",
     "text": [
      "Epoch 2/20: 100%|██████████| 469/469 [00:32<00:00, 14.43it/s, KLw=0.00286, Loss=0.0764, Recon=0.0789]\n"
     ]
    },
    {
     "name": "stdout",
     "output_type": "stream",
     "text": [
      "Epoch 02 | beta 0.001 | val 0.0735 | recon 0.0707 | KL 2.7870 | μ_mean -0.056 μ_std 1.087\n"
     ]
    },
    {
     "name": "stderr",
     "output_type": "stream",
     "text": [
      "Epoch 3/20: 100%|██████████| 469/469 [00:32<00:00, 14.45it/s, KLw=0.00393, Loss=0.0760, Recon=0.0732]\n"
     ]
    },
    {
     "name": "stdout",
     "output_type": "stream",
     "text": [
      "Epoch 03 | beta 0.002 | val 0.0731 | recon 0.0693 | KL 2.5687 | μ_mean 0.097 μ_std 1.107\n"
     ]
    },
    {
     "name": "stderr",
     "output_type": "stream",
     "text": [
      "Epoch 4/20: 100%|██████████| 469/469 [00:32<00:00, 14.52it/s, KLw=0.00489, Loss=0.0758, Recon=0.0711]\n"
     ]
    },
    {
     "name": "stdout",
     "output_type": "stream",
     "text": [
      "Epoch 04 | beta 0.002 | val 0.0749 | recon 0.0701 | KL 2.4162 | μ_mean -0.059 μ_std 0.969\n"
     ]
    },
    {
     "name": "stderr",
     "output_type": "stream",
     "text": [
      "Epoch 5/20: 100%|██████████| 469/469 [00:32<00:00, 14.46it/s, KLw=0.00589, Loss=0.0771, Recon=0.0708]\n"
     ]
    },
    {
     "name": "stdout",
     "output_type": "stream",
     "text": [
      "Epoch 05 | beta 0.003 | val 0.0753 | recon 0.0695 | KL 2.3013 | μ_mean 0.111 μ_std 1.102\n"
     ]
    },
    {
     "name": "stderr",
     "output_type": "stream",
     "text": [
      "Epoch 6/20: 100%|██████████| 469/469 [00:37<00:00, 12.51it/s, KLw=0.00680, Loss=0.0771, Recon=0.0730]\n"
     ]
    },
    {
     "name": "stdout",
     "output_type": "stream",
     "text": [
      "Epoch 06 | beta 0.003 | val 0.0777 | recon 0.0709 | KL 2.2712 | μ_mean -0.043 μ_std 0.967\n"
     ]
    },
    {
     "name": "stderr",
     "output_type": "stream",
     "text": [
      "Epoch 7/20: 100%|██████████| 469/469 [00:38<00:00, 12.13it/s, KLw=0.00785, Loss=0.0787, Recon=0.0719]\n"
     ]
    },
    {
     "name": "stdout",
     "output_type": "stream",
     "text": [
      "Epoch 07 | beta 0.003 | val 0.0770 | recon 0.0693 | KL 2.1931 | μ_mean -0.032 μ_std 0.990\n"
     ]
    },
    {
     "name": "stderr",
     "output_type": "stream",
     "text": [
      "Epoch 8/20: 100%|██████████| 469/469 [00:38<00:00, 12.15it/s, KLw=0.00853, Loss=0.0799, Recon=0.0744]\n"
     ]
    },
    {
     "name": "stdout",
     "output_type": "stream",
     "text": [
      "Epoch 08 | beta 0.004 | val 0.0781 | recon 0.0697 | KL 2.1157 | μ_mean -0.091 μ_std 0.936\n"
     ]
    },
    {
     "name": "stderr",
     "output_type": "stream",
     "text": [
      "Epoch 9/20: 100%|██████████| 469/469 [00:36<00:00, 12.74it/s, KLw=0.00912, Loss=0.0811, Recon=0.0757]\n"
     ]
    },
    {
     "name": "stdout",
     "output_type": "stream",
     "text": [
      "Epoch 09 | beta 0.005 | val 0.0798 | recon 0.0705 | KL 2.0852 | μ_mean -0.049 μ_std 0.971\n"
     ]
    },
    {
     "name": "stderr",
     "output_type": "stream",
     "text": [
      "Epoch 10/20: 100%|██████████| 469/469 [00:36<00:00, 12.83it/s, KLw=0.00972, Loss=0.0813, Recon=0.0702]\n"
     ]
    },
    {
     "name": "stdout",
     "output_type": "stream",
     "text": [
      "Epoch 10 | beta 0.005 | val 0.0792 | recon 0.0697 | KL 1.9058 | μ_mean 0.013 μ_std 0.966\n"
     ]
    },
    {
     "name": "stderr",
     "output_type": "stream",
     "text": [
      "Epoch 11/20: 100%|██████████| 469/469 [00:34<00:00, 13.44it/s, KLw=0.00973, Loss=0.0817, Recon=0.0711]\n"
     ]
    },
    {
     "name": "stdout",
     "output_type": "stream",
     "text": [
      "Epoch 11 | beta 0.005 | val 0.0792 | recon 0.0696 | KL 1.9180 | μ_mean -0.093 μ_std 0.880\n"
     ]
    },
    {
     "name": "stderr",
     "output_type": "stream",
     "text": [
      "Epoch 12/20: 100%|██████████| 469/469 [00:34<00:00, 13.55it/s, KLw=0.00967, Loss=0.0809, Recon=0.0704]\n"
     ]
    },
    {
     "name": "stdout",
     "output_type": "stream",
     "text": [
      "Epoch 12 | beta 0.005 | val 0.0791 | recon 0.0694 | KL 1.9388 | μ_mean -0.003 μ_std 0.959\n"
     ]
    },
    {
     "name": "stderr",
     "output_type": "stream",
     "text": [
      "Epoch 13/20: 100%|██████████| 469/469 [00:34<00:00, 13.75it/s, KLw=0.00956, Loss=0.0810, Recon=0.0690]\n"
     ]
    },
    {
     "name": "stdout",
     "output_type": "stream",
     "text": [
      "Epoch 13 | beta 0.005 | val 0.0797 | recon 0.0701 | KL 1.9254 | μ_mean -0.091 μ_std 0.934\n"
     ]
    },
    {
     "name": "stderr",
     "output_type": "stream",
     "text": [
      "Epoch 14/20: 100%|██████████| 469/469 [00:35<00:00, 13.26it/s, KLw=0.00944, Loss=0.0806, Recon=0.0739]\n"
     ]
    },
    {
     "name": "stdout",
     "output_type": "stream",
     "text": [
      "Epoch 14 | beta 0.005 | val 0.0784 | recon 0.0693 | KL 1.8183 | μ_mean 0.033 μ_std 0.960\n"
     ]
    },
    {
     "name": "stderr",
     "output_type": "stream",
     "text": [
      "Epoch 15/20: 100%|██████████| 469/469 [00:34<00:00, 13.79it/s, KLw=0.00959, Loss=0.0810, Recon=0.0697]\n"
     ]
    },
    {
     "name": "stdout",
     "output_type": "stream",
     "text": [
      "Epoch 15 | beta 0.005 | val 0.0786 | recon 0.0691 | KL 1.9065 | μ_mean 0.095 μ_std 0.999\n"
     ]
    },
    {
     "name": "stderr",
     "output_type": "stream",
     "text": [
      "Epoch 16/20: 100%|██████████| 469/469 [00:34<00:00, 13.45it/s, KLw=0.00960, Loss=0.0811, Recon=0.0733]\n"
     ]
    },
    {
     "name": "stdout",
     "output_type": "stream",
     "text": [
      "Epoch 16 | beta 0.005 | val 0.0785 | recon 0.0691 | KL 1.8777 | μ_mean -0.030 μ_std 0.945\n"
     ]
    },
    {
     "name": "stderr",
     "output_type": "stream",
     "text": [
      "Epoch 17/20: 100%|██████████| 469/469 [00:33<00:00, 13.82it/s, KLw=0.00965, Loss=0.0811, Recon=0.0758]\n"
     ]
    },
    {
     "name": "stdout",
     "output_type": "stream",
     "text": [
      "Epoch 17 | beta 0.005 | val 0.0802 | recon 0.0706 | KL 1.9291 | μ_mean 0.051 μ_std 0.998\n"
     ]
    },
    {
     "name": "stderr",
     "output_type": "stream",
     "text": [
      "Epoch 18/20: 100%|██████████| 469/469 [00:34<00:00, 13.44it/s, KLw=0.00950, Loss=0.0805, Recon=0.0694]\n"
     ]
    },
    {
     "name": "stdout",
     "output_type": "stream",
     "text": [
      "Epoch 18 | beta 0.005 | val 0.0784 | recon 0.0689 | KL 1.8963 | μ_mean 0.150 μ_std 1.036\n"
     ]
    },
    {
     "name": "stderr",
     "output_type": "stream",
     "text": [
      "Epoch 19/20: 100%|██████████| 469/469 [00:34<00:00, 13.53it/s, KLw=0.00937, Loss=0.0812, Recon=0.0691]\n"
     ]
    },
    {
     "name": "stdout",
     "output_type": "stream",
     "text": [
      "Epoch 19 | beta 0.005 | val 0.0799 | recon 0.0702 | KL 1.9446 | μ_mean -0.019 μ_std 0.924\n"
     ]
    },
    {
     "name": "stderr",
     "output_type": "stream",
     "text": [
      "Epoch 20/20: 100%|██████████| 469/469 [00:37<00:00, 12.62it/s, KLw=0.00940, Loss=0.0804, Recon=0.0739]\n"
     ]
    },
    {
     "name": "stdout",
     "output_type": "stream",
     "text": [
      "Epoch 20 | beta 0.005 | val 0.0801 | recon 0.0710 | KL 1.8102 | μ_mean 0.089 μ_std 0.982\n"
     ]
    },
    {
     "data": {
      "text/plain": [
       "<IPython.core.display.HTML object>"
      ],
      "text/html": []
     },
     "metadata": {},
     "output_type": "display_data",
     "jetTransient": {
      "display_id": "9f127e0c6c1469548425e40eab249d84"
     }
    },
    {
     "data": {
      "text/plain": [
       "<IPython.core.display.HTML object>"
      ],
      "text/html": [
       "<br>    <style><br>        .wandb-row {<br>            display: flex;<br>            flex-direction: row;<br>            flex-wrap: wrap;<br>            justify-content: flex-start;<br>            width: 100%;<br>        }<br>        .wandb-col {<br>            display: flex;<br>            flex-direction: column;<br>            flex-basis: 100%;<br>            flex: 1;<br>            padding: 10px;<br>        }<br>    </style><br><div class=\"wandb-row\"><div class=\"wandb-col\"><h3>Run history:</h3><br/><table class=\"wandb\"><tr><td>beta</td><td>▁▁▁▁▂▂▃▃▃▃▄▅▅▅▆▆▆▇██████████████████████</td></tr><tr><td>beta*kl</td><td>▁▂▂▃▃▃▃▄▄▄▅▅▆▆▆▇▇▇██████████████▇███▇█▇▇</td></tr><tr><td>epoch</td><td>▁▁▁▁▂▂▂▂▂▂▃▃▃▃▄▄▄▄▄▄▅▅▅▅▅▅▆▆▆▆▇▇▇▇▇▇████</td></tr><tr><td>kl_loss</td><td>▁█▇▅▅▅▅▅▄▄▄▄▃▃▃▃▃▃▃▃▃▃▃▃▃▃▃▃▃▃▃▃▂▃▃▃▂▃▂▃</td></tr><tr><td>mu_mean</td><td>▄▂▆▂▇▂▃▁▂▄▁▄▁▅▆▃▅█▃▆</td></tr><tr><td>mu_std</td><td>█▄▄▂▄▂▃▂▂▂▁▂▂▂▃▂▃▃▂▂</td></tr><tr><td>recon_loss</td><td>█▇▂▁▁▁▁▁▁▁▁▁▁▁▁▁▁▁▁▁▁▁▁▁▁▁▁▁▁▁▁▁▁▁▁▁▁▁▁▁</td></tr><tr><td>step</td><td>▁▁▁▁▂▂▂▂▂▂▃▃▃▃▄▄▄▄▅▅▅▅▅▅▅▅▅▆▆▆▆▆▆▆▇▇▇███</td></tr><tr><td>train_loss</td><td>█▄▃▂▂▂▂▃▃▂▂▄▁▃▄▄▃▄▅▄▄▄▄▅▃▃▄▃▃▅▄▄▄▄▂▄▃▄▄▃</td></tr><tr><td>train_loss_ema</td><td>█▇▂▁▁▁▁▁▁▁▁▁▁▁▁▁▁▁▁▁▁▁▁▁▁▁▁▁▁▁▁▁▁▁▁▁▁▁▁▁</td></tr><tr><td>+3</td><td>...</td></tr></table><br/></div><div class=\"wandb-col\"><h3>Run summary:</h3><br/><table class=\"wandb\"><tr><td>beta</td><td>0.005</td></tr><tr><td>beta*kl</td><td>0.0094</td></tr><tr><td>epoch</td><td>20</td></tr><tr><td>kl_loss</td><td>1.87921</td></tr><tr><td>mu_mean</td><td>0.08902</td></tr><tr><td>mu_std</td><td>0.98219</td></tr><tr><td>recon_loss</td><td>0.07394</td></tr><tr><td>step</td><td>9379</td></tr><tr><td>train_loss</td><td>0.08333</td></tr><tr><td>train_loss_ema</td><td>0.08037</td></tr><tr><td>+3</td><td>...</td></tr></table><br/></div></div>"
      ]
     },
     "metadata": {},
     "output_type": "display_data",
     "jetTransient": {
      "display_id": null
     }
    },
    {
     "data": {
      "text/plain": [
       "<IPython.core.display.HTML object>"
      ],
      "text/html": [
       " View run <strong style=\"color:#cdcd00\">test_vae_ld7_v1</strong> at: <a href='https://wandb.ai/marcocassar-belmont-university/spatial_vae_conv_testing/runs/4esf4ddy' target=\"_blank\">https://wandb.ai/marcocassar-belmont-university/spatial_vae_conv_testing/runs/4esf4ddy</a><br> View project at: <a href='https://wandb.ai/marcocassar-belmont-university/spatial_vae_conv_testing' target=\"_blank\">https://wandb.ai/marcocassar-belmont-university/spatial_vae_conv_testing</a><br>Synced 5 W&B file(s), 20 media file(s), 0 artifact file(s) and 0 other file(s)"
      ]
     },
     "metadata": {},
     "output_type": "display_data",
     "jetTransient": {
      "display_id": null
     }
    },
    {
     "data": {
      "text/plain": [
       "<IPython.core.display.HTML object>"
      ],
      "text/html": [
       "Find logs at: <code>./wandb/run-20251009_150616-4esf4ddy/logs</code>"
      ]
     },
     "metadata": {},
     "output_type": "display_data",
     "jetTransient": {
      "display_id": null
     }
    },
    {
     "data": {
      "text/plain": [
       "0.08010079485328891"
      ]
     },
     "execution_count": 53,
     "metadata": {},
     "output_type": "execute_result"
    }
   ],
   "execution_count": 53
  },
  {
   "cell_type": "code",
   "execution_count": 7,
   "id": "a598406abae604f7",
   "metadata": {
    "ExecuteTime": {
     "end_time": "2025-10-09T02:07:01.361701Z",
     "start_time": "2025-10-09T01:56:54.421712Z"
    }
   },
   "outputs": [
    {
     "data": {
      "text/html": [],
      "text/plain": [
       "<IPython.core.display.HTML object>"
      ]
     },
     "jetTransient": {
      "display_id": "f181b12373a9b099b887287e97c72bd6"
     },
     "metadata": {},
     "output_type": "display_data"
    },
    {
     "data": {
      "text/html": [
       "Tracking run with wandb version 0.22.1"
      ],
      "text/plain": [
       "<IPython.core.display.HTML object>"
      ]
     },
     "jetTransient": {
      "display_id": null
     },
     "metadata": {},
     "output_type": "display_data"
    },
    {
     "data": {
      "text/html": [
       "Run data is saved locally in <code>/Users/marcocassar/Projects/DLAIE/self/flow_experimentation/wandb/run-20251008_205654-s0d5wnb8</code>"
      ],
      "text/plain": [
       "<IPython.core.display.HTML object>"
      ]
     },
     "jetTransient": {
      "display_id": null
     },
     "metadata": {},
     "output_type": "display_data"
    },
    {
     "data": {
      "text/html": [
       "Syncing run <strong><a href='https://wandb.ai/marcocassar-belmont-university/spatial_vae_conv_testing/runs/s0d5wnb8' target=\"_blank\">vae_ld7</a></strong> to <a href='https://wandb.ai/marcocassar-belmont-university/spatial_vae_conv_testing' target=\"_blank\">Weights & Biases</a> (<a href='https://wandb.me/developer-guide' target=\"_blank\">docs</a>)<br>"
      ],
      "text/plain": [
       "<IPython.core.display.HTML object>"
      ]
     },
     "jetTransient": {
      "display_id": null
     },
     "metadata": {},
     "output_type": "display_data"
    },
    {
     "data": {
      "text/html": [
       " View project at <a href='https://wandb.ai/marcocassar-belmont-university/spatial_vae_conv_testing' target=\"_blank\">https://wandb.ai/marcocassar-belmont-university/spatial_vae_conv_testing</a>"
      ],
      "text/plain": [
       "<IPython.core.display.HTML object>"
      ]
     },
     "jetTransient": {
      "display_id": null
     },
     "metadata": {},
     "output_type": "display_data"
    },
    {
     "data": {
      "text/html": [
       " View run at <a href='https://wandb.ai/marcocassar-belmont-university/spatial_vae_conv_testing/runs/s0d5wnb8' target=\"_blank\">https://wandb.ai/marcocassar-belmont-university/spatial_vae_conv_testing/runs/s0d5wnb8</a>"
      ],
      "text/plain": [
       "<IPython.core.display.HTML object>"
      ]
     },
     "jetTransient": {
      "display_id": null
     },
     "metadata": {},
     "output_type": "display_data"
    },
    {
     "name": "stderr",
     "output_type": "stream",
     "text": [
      "Epoch 1/15: 100%|██████████| 469/469 [00:37<00:00, 12.40it/s, Loss=0.1309, Recon=0.1292, KL*w=0.000000]  \n"
     ]
    },
    {
     "name": "stdout",
     "output_type": "stream",
     "text": [
      "Epoch 1: Val_Loss 0.1224 | Recon_Loss 0.1224 | kl_Loss 28.1414\n"
     ]
    },
    {
     "name": "stderr",
     "output_type": "stream",
     "text": [
      "Epoch 2/15: 100%|██████████| 469/469 [01:14<00:00,  6.33it/s, Loss=0.1137, Recon=0.1139, KL*w=0.000426]\n"
     ]
    },
    {
     "name": "stdout",
     "output_type": "stream",
     "text": [
      "Epoch 2: Val_Loss 0.1072 | Recon_Loss 0.1069 | kl_Loss 30.4952\n"
     ]
    },
    {
     "name": "stderr",
     "output_type": "stream",
     "text": [
      "Epoch 3/15: 100%|██████████| 469/469 [00:33<00:00, 14.19it/s, Loss=0.1056, Recon=0.1019, KL*w=0.000672]\n"
     ]
    },
    {
     "name": "stdout",
     "output_type": "stream",
     "text": [
      "Epoch 3: Val_Loss 0.1071 | Recon_Loss 0.1066 | kl_Loss 25.5284\n"
     ]
    },
    {
     "name": "stderr",
     "output_type": "stream",
     "text": [
      "Epoch 4/15: 100%|██████████| 469/469 [00:33<00:00, 14.02it/s, Loss=0.0998, Recon=0.1025, KL*w=0.000724]\n"
     ]
    },
    {
     "name": "stdout",
     "output_type": "stream",
     "text": [
      "Epoch 4: Val_Loss 0.1043 | Recon_Loss 0.1037 | kl_Loss 20.0791\n"
     ]
    },
    {
     "name": "stderr",
     "output_type": "stream",
     "text": [
      "Epoch 5/15: 100%|██████████| 469/469 [00:33<00:00, 14.15it/s, Loss=0.0950, Recon=0.0918, KL*w=0.000771]\n"
     ]
    },
    {
     "name": "stdout",
     "output_type": "stream",
     "text": [
      "Epoch 5: Val_Loss 0.1052 | Recon_Loss 0.1045 | kl_Loss 16.3287\n"
     ]
    },
    {
     "name": "stderr",
     "output_type": "stream",
     "text": [
      "Epoch 6/15: 100%|██████████| 469/469 [00:35<00:00, 13.24it/s, Loss=0.0920, Recon=0.0883, KL*w=0.000742]\n"
     ]
    },
    {
     "name": "stdout",
     "output_type": "stream",
     "text": [
      "Epoch 6: Val_Loss 0.0979 | Recon_Loss 0.0972 | kl_Loss 13.2757\n"
     ]
    },
    {
     "name": "stderr",
     "output_type": "stream",
     "text": [
      "Epoch 7/15: 100%|██████████| 469/469 [00:43<00:00, 10.84it/s, Loss=0.0896, Recon=0.0889, KL*w=0.000731]\n"
     ]
    },
    {
     "name": "stdout",
     "output_type": "stream",
     "text": [
      "Epoch 7: Val_Loss 0.0935 | Recon_Loss 0.0928 | kl_Loss 11.0033\n"
     ]
    },
    {
     "name": "stderr",
     "output_type": "stream",
     "text": [
      "Epoch 8/15: 100%|██████████| 469/469 [00:40<00:00, 11.50it/s, Loss=0.0872, Recon=0.0861, KL*w=0.000713]\n"
     ]
    },
    {
     "name": "stdout",
     "output_type": "stream",
     "text": [
      "Epoch 8: Val_Loss 0.0908 | Recon_Loss 0.0902 | kl_Loss 9.4906\n"
     ]
    },
    {
     "name": "stderr",
     "output_type": "stream",
     "text": [
      "Epoch 9/15: 100%|██████████| 469/469 [00:36<00:00, 12.92it/s, Loss=0.0853, Recon=0.0845, KL*w=0.000717]\n"
     ]
    },
    {
     "name": "stdout",
     "output_type": "stream",
     "text": [
      "Epoch 9: Val_Loss 0.0880 | Recon_Loss 0.0873 | kl_Loss 8.3698\n"
     ]
    },
    {
     "name": "stderr",
     "output_type": "stream",
     "text": [
      "Epoch 10/15: 100%|██████████| 469/469 [00:34<00:00, 13.60it/s, Loss=0.0840, Recon=0.0814, KL*w=0.000702]\n"
     ]
    },
    {
     "name": "stdout",
     "output_type": "stream",
     "text": [
      "Epoch 10: Val_Loss 0.0814 | Recon_Loss 0.0807 | kl_Loss 7.4903\n"
     ]
    },
    {
     "name": "stderr",
     "output_type": "stream",
     "text": [
      "Epoch 11/15: 100%|██████████| 469/469 [00:35<00:00, 13.35it/s, Loss=0.0829, Recon=0.0810, KL*w=0.000724]\n"
     ]
    },
    {
     "name": "stdout",
     "output_type": "stream",
     "text": [
      "Epoch 11: Val_Loss 0.0889 | Recon_Loss 0.0882 | kl_Loss 6.8302\n"
     ]
    },
    {
     "name": "stderr",
     "output_type": "stream",
     "text": [
      "Epoch 12/15: 100%|██████████| 469/469 [00:33<00:00, 13.98it/s, Loss=0.0816, Recon=0.0812, KL*w=0.000685]\n"
     ]
    },
    {
     "name": "stdout",
     "output_type": "stream",
     "text": [
      "Epoch 12: Val_Loss 0.0809 | Recon_Loss 0.0803 | kl_Loss 6.5026\n"
     ]
    },
    {
     "name": "stderr",
     "output_type": "stream",
     "text": [
      "Epoch 13/15: 100%|██████████| 469/469 [00:33<00:00, 13.92it/s, Loss=0.0806, Recon=0.0788, KL*w=0.000659]\n"
     ]
    },
    {
     "name": "stdout",
     "output_type": "stream",
     "text": [
      "Epoch 13: Val_Loss 0.0787 | Recon_Loss 0.0781 | kl_Loss 6.2990\n"
     ]
    },
    {
     "name": "stderr",
     "output_type": "stream",
     "text": [
      "Epoch 14/15: 100%|██████████| 469/469 [00:33<00:00, 13.88it/s, Loss=0.0794, Recon=0.0808, KL*w=0.000624]\n"
     ]
    },
    {
     "name": "stdout",
     "output_type": "stream",
     "text": [
      "Epoch 14: Val_Loss 0.0765 | Recon_Loss 0.0759 | kl_Loss 6.0408\n"
     ]
    },
    {
     "name": "stderr",
     "output_type": "stream",
     "text": [
      "Epoch 15/15: 100%|██████████| 469/469 [00:33<00:00, 13.89it/s, Loss=0.0788, Recon=0.0777, KL*w=0.000612]\n"
     ]
    },
    {
     "name": "stdout",
     "output_type": "stream",
     "text": [
      "Epoch 15: Val_Loss 0.0779 | Recon_Loss 0.0773 | kl_Loss 5.9806\n"
     ]
    },
    {
     "data": {
      "text/html": [],
      "text/plain": [
       "<IPython.core.display.HTML object>"
      ]
     },
     "jetTransient": {
      "display_id": "8bc43b126b289ba56268e3d056414ca5"
     },
     "metadata": {},
     "output_type": "display_data"
    },
    {
     "data": {
      "text/html": [
       "<br>    <style><br>        .wandb-row {<br>            display: flex;<br>            flex-direction: row;<br>            flex-wrap: wrap;<br>            justify-content: flex-start;<br>            width: 100%;<br>        }<br>        .wandb-col {<br>            display: flex;<br>            flex-direction: column;<br>            flex-basis: 100%;<br>            flex: 1;<br>            padding: 10px;<br>        }<br>    </style><br><div class=\"wandb-row\"><div class=\"wandb-col\"><h3>Run history:</h3><br/><table class=\"wandb\"><tr><td>epoch</td><td>▁▁▁▁▂▂▃▃▃▃▃▃▄▄▅▅▅▅▅▅▆▆▇▇▇▇▇▇██</td></tr><tr><td>kl_loss</td><td>▅▇█████▇▇▇▆▅▅▅▄▃▃▃▃▃▂▂▂▂▂▂▂▂▁▁▁▁▁▁▁▁▁▁▁▁</td></tr><tr><td>kl_weight</td><td>▁▁▁▂▂▂▂▃▃▃▅▅▅▅▅▆▆▇▇▇▇▇▇▇▇▇▇▇▇███████████</td></tr><tr><td>recon_loss</td><td>█▇▅▅▅▅▅▄▃▃▃▃▃▃▃▃▃▂▂▂▂▂▂▂▁▁▂▂▁▁▁▁▁▁▁▁▁▁▁▁</td></tr><tr><td>step</td><td>▁▁▁▂▂▂▃▃▃▃▃▃▃▄▄▄▄▄▄▄▄▄▅▅▅▅▆▆▆▆▇▇▇▇▇█████</td></tr><tr><td>train_loss</td><td>█▁▁▁▁▁▁▁▁▁▁▁▁▁▁▁▁▁▁▁▁▁▁▁▁▁▁▁▁▁▁▁▁▁▁▁▁▁▁▁</td></tr><tr><td>val_kl_loss</td><td>▇█▇▅▄▃▂▂▂▁▁▁▁▁▁</td></tr><tr><td>val_loss</td><td>█▆▆▅▅▄▄▃▃▂▃▂▁▁▁</td></tr><tr><td>val_recon_loss</td><td>█▆▆▅▅▄▄▃▃▂▃▂▁▁▁</td></tr><tr><td>weighted_kl_loss</td><td>▁▁▁▁▁▁▁▄▇▇█▇▇▇█▇▇▇▇▇▇█▇▇▇▇▆▇▇▇▆▆▆▆▆▆▆▆▆▆</td></tr></table><br/></div><div class=\"wandb-col\"><h3>Run summary:</h3><br/><table class=\"wandb\"><tr><td>epoch</td><td>15</td></tr><tr><td>kl_loss</td><td>6.11582</td></tr><tr><td>kl_weight</td><td>0.0001</td></tr><tr><td>recon_loss</td><td>0.07766</td></tr><tr><td>step</td><td>7034</td></tr><tr><td>train_loss</td><td>0.07876</td></tr><tr><td>val_kl_loss</td><td>5.98064</td></tr><tr><td>val_loss</td><td>0.07793</td></tr><tr><td>val_recon_loss</td><td>0.07733</td></tr><tr><td>weighted_kl_loss</td><td>0.00061</td></tr></table><br/></div></div>"
      ],
      "text/plain": [
       "<IPython.core.display.HTML object>"
      ]
     },
     "jetTransient": {
      "display_id": null
     },
     "metadata": {},
     "output_type": "display_data"
    },
    {
     "data": {
      "text/html": [
       " View run <strong style=\"color:#cdcd00\">vae_ld7</strong> at: <a href='https://wandb.ai/marcocassar-belmont-university/spatial_vae_conv_testing/runs/s0d5wnb8' target=\"_blank\">https://wandb.ai/marcocassar-belmont-university/spatial_vae_conv_testing/runs/s0d5wnb8</a><br> View project at: <a href='https://wandb.ai/marcocassar-belmont-university/spatial_vae_conv_testing' target=\"_blank\">https://wandb.ai/marcocassar-belmont-university/spatial_vae_conv_testing</a><br>Synced 5 W&B file(s), 15 media file(s), 0 artifact file(s) and 0 other file(s)"
      ],
      "text/plain": [
       "<IPython.core.display.HTML object>"
      ]
     },
     "jetTransient": {
      "display_id": null
     },
     "metadata": {},
     "output_type": "display_data"
    },
    {
     "data": {
      "text/html": [
       "Find logs at: <code>./wandb/run-20251008_205654-s0d5wnb8/logs</code>"
      ],
      "text/plain": [
       "<IPython.core.display.HTML object>"
      ]
     },
     "jetTransient": {
      "display_id": null
     },
     "metadata": {},
     "output_type": "display_data"
    },
    {
     "data": {
      "text/plain": [
       "0.07792766561991052"
      ]
     },
     "execution_count": 7,
     "metadata": {},
     "output_type": "execute_result"
    }
   ],
   "source": [
    "train_model_vae(spatial_vae, train_dl, val_dl, name=\"vae_ld7\", epochs=15)"
   ]
  },
  {
   "cell_type": "code",
   "id": "7e16f777dfbbb723",
   "metadata": {
    "ExecuteTime": {
     "end_time": "2025-10-09T20:19:59.116334Z",
     "start_time": "2025-10-09T20:19:59.113569Z"
    }
   },
   "source": [
    "from helpers import plot_latent_space"
   ],
   "outputs": [],
   "execution_count": 54
  },
  {
   "cell_type": "code",
   "id": "4d096573-60cb-455a-a6a4-6cb860f87a92",
   "metadata": {
    "scrolled": true,
    "ExecuteTime": {
     "end_time": "2025-10-09T21:00:47.036514Z",
     "start_time": "2025-10-09T21:00:43.414199Z"
    }
   },
   "source": "plot_latent_space(spatial_vae, test_dl, use_3d=True, reducer='tsne')",
   "outputs": [
    {
     "data": {
      "application/vnd.plotly.v1+json": {
       "data": [
        {
         "hovertemplate": "color=7<br>x=%{x}<br>y=%{y}<br>z=%{z}<extra></extra>",
         "legendgroup": "7",
         "marker": {
          "color": "#636efa",
          "opacity": 0.7,
          "symbol": "circle",
          "line": {
           "width": 0
          },
          "size": 4
         },
         "mode": "markers",
         "name": "7",
         "scene": "scene",
         "showlegend": true,
         "x": {
          "dtype": "f4",
          "bdata": "sRBlQRDldEFx329BisA3Qe7JgkEK0jdBQ9yMQdUt/kBlMXlBeJhBQS9rNUHtywVBkjw9QZXQX0HBYmZBTOxOQTGtPEH6I4RBzvV8QVqzaUE5iYFB7tXnQOUGKUFecFBBv988QWKkQUGVCkdB1J9cQbM5V0F5EmxBfHF3QXUVdkHsIk9Bi2o5QfXGXEEiMkBB3sw4QdPhgEGkmyhBNfuCQdfiX0GWrm5B+44+QZdTYkHpySlBQXw4QZxrBUHA8ItBSnpqQVk7/0Bz4mJBJfMrQetQykFszhxBFINrQf9Z6kAuboFBAp/xQNREXUF7ElJBastzQU5NekELr1hB9ge0QACuJ0FrjFNBj/NeQZmpcEEyaulAyXHsQGEvcUHtr1lB4jppQRGWx0EFJIlAhg1aQRwwdUHzrDZB6/ooQQAic0GNB1pB/+NDQQuAakH2sEtBLyz/QPdObUFXykBBltJBQfdMMkGBwThBp0SAQc9ackFHIm9BP2VWQaMCc0FcPXVBwSgDQTwlDUGJy0ZBQmhWQbo6REGXCVZBDBA2QRS8JEHL0S5BTxFGQZ2mcEBXtl5BFyZPQX3qckHvsjZBJDMWQb6zdUHcVV9BnRUyQd5wc0FtrHJB8ZVCQQvgSkBb4GpBHHHBQFwLOkExL3hBkubhQKjEJkGsoStBWDICwTAKL0EVBGVBEQi7Qe0qZEEGtARBGZtZQV6H7kAxaERAZp09QasYUEFYi+tArFtVQX0uUUFqzEtBBdJPQVrbdUEuijZBPFAoQW1vGUF3T0RA3ygxQbdVZkGFkThBeIlsQcDvVkF1PkBBgStTQbX2u0DvhGtBc4S3QPtRd0Ho2jFBcdIuQYNOJ0HEpUFBg7b8QNXheEGSf3lBJ3hNQenhVkF+GjlBMLMsQe7pgEGMjUVBx8ZBQWrwPUFj1jJByAHuvb5o8EA3zFpBDidSQQr2UUGRegxB5alDQVR/rsAN3WxBGbpWQZV4UkHbU1ZB1a1YQUska0FSJnJBtdY6QRMkK0HWSENBjYCGQaKaGkFEVThBGN9UQXEVX0EAvVhBN6RBQd9wR0FdbI9AioYxQaTgbEH97W1BEsE5QQ=="
         },
         "y": {
          "dtype": "f4",
          "bdata": "30buQPmyA0FkX1ZBMCE6QIg/KEGGpedAiOZcQcPl+T/C0wZBq3AUQfnumUAg8phBQ9VTQcxMuEBEZgdB7ZWUQAN7FEFwyj1BpVxDQe+ZKkGjyGlBQjEGQKFy/T/knMpATMhpQRrJg0A5V/dAlUbqQE99JkFA5h5B89YNQW5cV0H49gRBU/30QGgsIUFE+wpBdSr6QOQhBkFECqJBXddFQTQOAUHjbFZBl6bKQEB3G0FB5jpBY9AcQbxQDECDlFxBxmvkQH69+D/0Xj9Bd84XQX5oXsAhgAhB7yAuQetP4kC8d0pBBB4LQHog8EBw6YhAjFUzQaoJNEFejVVBLnQ7QaTsAkGKkcpALzKuQM+nB0EWO6rB/eMwQcdGsECN6i5BT4A3QV+usr5YdpJBWJ8zQeeX8EArKXRBvgALQR0KIEGMr1NBD+AWQXfrQUFuirdApaFwQHLHQ0HJJG9Aa1E4QSvvOECicPhA+ap+QbGSwUA+hzNB0yLcQOPBCUHb6ShBVQngP46r/0AwLlhB84tMQfd4IUFQELBAz/2nQWJNQkFvLi1BRpUHQVbokUHE68NAi8jAQDazKkFbbj5AmN6aPw0p2UB8zilBoYcFQW+zGkHNiPZAydtfQUzYk0EhtUdBh5/5QBXEMkFE+EhBQ+tCQG5Mzj++DBxBZ3V3wVXLq0B7Ag5BWy1qwPxlM0G177A/kBooQYm0JcGYrV9B6B4HQbH5YEEzR+VA6DfRQOwEn0CypFFBPXziQG5PA0EHT6tAUzQqQRbzHkFgxl9BY6t/QY6PLEE7nNlA77y2wEoY20BZz9FACVqvQCwvZkHXk1RB70QYQXCfUEGCGgBBp20UQSzxIUH7ARJBmpEVQGzFwUD1nwJBc6leQfFjG0GN8GRABle6QVzCSEGbj7dAlgYXQWJQBUGNAVpAA/OcQVL0IkGtPyRBSaeGQK/UGUGQtJbBO2aBQMxJmkHiGcRA7NReQYrZ4ECL9BhB4N0XQTt2T0Epzv5AYvj+QDU9+EC7h4NAQalaQcqTtkGps0xB66sbQY+kEEFSdDRBZgAAQTaMCEFMJDc/dn+BQKdZLkGyFxNBmgYGQQ=="
         },
         "z": {
          "dtype": "f4",
          "bdata": "FpJ8wMP/lMC0uD/APG0pwM17AMC97ga/L4favzNkp8AOkabAr7YFQSvnlMAPwDpACvnDPvAxNMA2veBAq18DQCgiyEB4Nio/+VO5wOmhv0AqTlq/g5J7wJNiUMBvQSJAvNpwPj56eMD1k1O+OxJRPw2XAUGEJNq/+uyYP7UVoL93+BI/ku5qQG8Nz0DDHeZAjFqPQPAlEsBEOo9A+oObPbSLjL8uQPW/jHrDP+HBnMCEiRnA4mO5vyfngcBBKdK/KFOBwBUbh8D5HwRBySi8QDYUvUBuE7PA7TP9P5RYSsCz2Pa+ERY8wPsK7UDp2lXAQPKewE6G9b47PTa/BRuRwOG/R79wKxxAVpilwEl7aD+fHrNAv16rP0VJw71aGfRAVY7Wv0hlqUBkBbXARdo8P4/WbL7cMhM/MKzqwMiWm8Dy4oa/RAD6QBTqzkAhq9M+IzgWwDxTKMCz2fW/nJCuPx+KWcAUS+BAE/hsv965CsBjLP6/HpXGQHq5c8Beo8g+M3ECwEPW2kANj3VAwnH0PvUM6UBiZ8nAaVJuQOEVEL+vMADAVqTQQL9tncB4GGLAiGO3v6vrZMBOUre/tR+AwECuLD+fB8bAzPiYPnA/AD8PJedAffV5QGnoj8A+hgA+eJDaPyXAqr6tz6TASx59wDmRHMDbIAVA0/TRQN1+0MBdbq8/fOalQMOt0kDkksq/djflPaESqkCipQbBkuozwG77YsBsu03AqPMxv5GKur4zb39Au/4UwGCWjMAKrqjAQwjrvg4s7T0OoQbB8VuAPyV9tMBOV53AJxMKQeX94T9AojA/hefOwAVeVUDnJHHARBSvwDTKAb7nGjfAbP8Mv55QBUBJPqc+raEmwILV9r8Xj6e/NeS6Ple1FL7ySUM7UwWKv2bkv78M8Qq/xojOv/PIFMChmew9PsVxwB8OLkAtINTAAiSmP5UFCEE7bkRA143cvyl2lcCESzU+59lfwDQ0sb8UEv1AVUCEv/QtYsDr4v8+q+MNQPztW8D3vj3ATRU5v9YIqL91JZU+aOMUQS6jsb8z31u/i3z0QDvkDMDHrkNALZR/wFzRR8ASw7TAtLB3wA=="
         },
         "type": "scatter3d"
        },
        {
         "hovertemplate": "color=2<br>x=%{x}<br>y=%{y}<br>z=%{z}<extra></extra>",
         "legendgroup": "2",
         "marker": {
          "color": "#EF553B",
          "opacity": 0.7,
          "symbol": "circle",
          "line": {
           "width": 0
          },
          "size": 4
         },
         "mode": "markers",
         "name": "2",
         "scene": "scene",
         "showlegend": true,
         "x": {
          "dtype": "f4",
          "bdata": "XwwsQSa7q0DgDzJByplMQU9QzkBB70++jvidQBMfm0DtzBm/jU5HQE8kCUBxNTTB/ZItQXf9ur4jZwZBN5WpQJjLj0Aj8L4+GgxlP8GJ0EDVHMRABz73QBpj88AxHdxAx0HqQNZYIECkcGdAGSgNQYgLnEB7iTBBFqG6QGkOIEGPDYBAM3gaQWHNaMGbzDZBZF8cQeE7HkFrpZhBpRQXQW0nJ0GSJphAwcN1P6E6qECv/4E/ZmOmQPQnoT/9oqpA5vu8QG4FD0EYNxRBN9zuQML5s0AGSZVALRxXQBTWPEAwmxhBqAipQOWqgEAD6gpBKUpJQPSwYUDKeRA+Sk5UQaeuC0Gq3rBA45wBQUbXBUGc7dc/2iTfP//nMUDUuyRBDZkEQUsCSUEtzwlBij9sQbQZgEDfupNAPPv9QOwXKEAMmM5AItUZQakbmj4NUeA/gZT1QDmVZEDikPhAJqwTQTXtNUBiN8RAdY0nP4516kCQiHE/vw2JP2hU0kBFINE+5bybQHgPJz8ekZVAdcASQY8xc0B+mINAE3IvQRE6m0Beha9AsqReQakbpMETEHvBAAAbQcxD0EBSR7E/dlPHQGZxtUDyzLdAoHERQJL7CUG0LMFA8F0lP2E+U0H5hxJBy2aSQNiFnz8f+cU/qT0hQaD96UDQGRVB6RucQL//jD99b/9AdJhFPbVFGkGLARdB5nhwQKZCeECz5bQ/GUjYQArvREF/PuhAidMRQSnL1z8kNzZBmwOZQRHswkC0uwdAcTkzP++t/UDc0gVBs5c4QY/Il0Dn5lNBu+8bQC2CqkDLETA+7cp4wJ2H7ED0do1AixyxPqxw4EBzibZArmzyv3flh0BHopxAg2MfQRtNG8FvAhZBZ+cQQeMeHEHW2ANBLoaPP59S2kCO0EA/dHYnQBrjIUBUHNRAP3TkQPQs1kD3sAS/SPeTwCmfnEBGcChAMzkVQWI0NUA3Yv5ADTgRP4feA0FHsudACn4PQXcgCEE0oDg9s+SPPuZII74wD+BAaZfNQN2rVEH3DQVBbnIBQQxj4j+YItg/jutfQBsoxT5QoRZBAqv9QNnnCkHyD5pAhhmJQMpkA0HpAa1A2pZAQEy8BkCZ4Q9BL6HcQIF+gUBx7vpATKSTQF64B0DlY41AYzD8QIY4psGx4HdA"
         },
         "y": {
          "dtype": "f4",
          "bdata": "PYeLwd0ee8GCdIDBum6IwQf7scHdKNDBZXyGwWt4nsHbOMnBCu3IQaIBu8Hw8EbBThGXwZlrrsFZ+4vBOn2PwbUFpMEXkLHB/1yRwffIbMEUHrjBVjmrwXAjgsGtfIrBiLSAwSLxw8G+QKDB2WmWwVdprsEQkJbBuKCxwUvIoMHF15HBg1aFwfkTOcElYKZA/1qewchLdMF2+wRBADyLwfI5jsF8/Y/BtJSRwTayt8HOo87BgYNzwTnrpsEskXvBK5a4wU24zb9Zsn7BhvVWwfK2esFTlYrB4URnweKDp8GPC4XBbVKuwStOtcFSarPBecOywZF7acHbZdDBigfXQBlYXsH1267BCMBQwavHYcGFyb/BcWS1wQPLo8FdrV/BssKDwXdzisHkbrPBP+AvQVNwh8F0wHTBlYxSwQ1XpMEWjFfBPoxNwWIH1cEP1YzBDmORwULhscF5tp7BkP19wQO+YcHD7HjBY5y5wcFBW8EWpqjBmsi6wagaccFfC7TB8UGVwXkGpcEep53B+R6OwQ5iocGVy6TBw7KGwYUbuMEtzW3BeEVCQOAAp8AdqCLA/aSGwUtPe8HYm4zBc+uywdRub8HHhLnBspLPwZhvm8FBjoTBSTa2wS5/GEFbbWrBlNO7weKIvsEV3rvBvWB3wVYKlcES4YLB4GN5wWliqME5t6zBvkGpwVTWjcGVK2TBRH0FwcNWe8H5krjBm32iwZ6+kMHTGY/BLkSCwfYMuMFP9pnBw7kEQc1MvcEZ+r7BdKC8wWQokcG2zIfB/uyWwfOiwsHAFxlBMTrQweyIgcGmL9PBMsnWwJ0sp8EXkXzBbda6wQeRXsHDXofB4IfFwZ+WesF4GaPBeulQwey+SMFkI2vBFCpLwbxlicE7xofBDKqzwb6nqsEizMDBkvaWwcuno8GtK1fBqTCGweUat8HBbqvBnIORwfk5hcHior/BP8CTwaQ1w8HwwJLBFb+1waGDdMH/RKrBGhePwajJesG628BB/tPUwejAo8FeK4zBQdGAwWPUGUHOcz7B/BVmwf1ak0ClbbTBLqiHwSkVssFDGpTBCDRiwajkUsFMaHTB6pKUwd9DkMFyw67BxUynwSQjz8FcnVjBgjyLwTONtcE4hJvBF12nwenni8HDBqrBImywwcYRzr+vvLDB"
         },
         "z": {
          "dtype": "f4",
          "bdata": "HnAVwFMvAsGmKoc/RLgiQDHomb64KU3AwYe0P0dcOMBWJkLABwnov0TwT8AXJsNAhlx7wLGgt7/4ronAvbtswE/EZsAzY+Q/Zc1nPw8358BXW9M/EfdQv4cz30DKiQ3AhYU5wORQQ79UwBK/DJc2wJa0jT9Wgn/A0EFZQKSVasCgs7g/dMlTv6GZdz95mLk/4HoKv99tjcDUli++DqS9PsXdoD+3hMo/9t5iP0zBR8DwLZbAt31DwImMUsBPZQXB7ZvCPyDplsBuAp6/HTAfv3yI9z7n4NjAv7PMwNtjyj/OES2/vwBDQH7FtcCBlS1ALd1awE65xsCWbBnAf9H5QA8ew8D0p1BAc0dBwJHnLMC/6MnAW9ZSvp7Mj8AoM6S/rtVdPsEpFECrxSpA0XklQK2+4cBoZ5c/nRu8wAJ0xT8xzYvAnDXawMYei8A/C0+/RQqRwJiEJsAxUdo/WzPGwL3U7sA2j6DAPmiGwF4VNL882HPA2+LhwGMTyT3R5AbAdY08wPrRhcAjtTLAKq0TwFCVHL7SQiA/3sTNP7NxMMDr2nXAWlB6wIf3L8Hchz3AQPnDwPodmz4PUZ+/DBllvew0p8BKQ07AZyjYv2zUF8DXWGTA2yuGwJpXQUFe7qrADXQBwIJW0MAs1gvAhC+MwKroRz9OmMjAKmR/P6wqXsBAm8O9C+Sev6ybX8AO0ZbASR7Bv71Nm8DcItq/l/cfv0Wy+j+vTBBAr1MUwLUdub6DM3M/LcUvvs+WIUBsB5vAUvjYPMrg8j5LzWA8uKOgP0oqmD96YTtBtZDrv0tQN8Dmy+a/ClCWwCX8aECgE+m/iKOXwFx/Tr/d87LAnm86wIlgxb5LkLK/jhnqwLyjn0ApwNq/95TMwDFtVcASHHnAoaIpvyHbhEAH3L3AHFh6P9+SksAcAI7AAQ/Evnd7Xr9K6U4/TdQDvs1x/8DeA86+7BZfwB+M3sAnoaPAzjYtwHerJ8DTQKtAKEXAPgXmAj/9altAFIqKwIF20L89dCNAo/xlwM/cM0F4LdnAWXzUwJ8n+cB6HW6/e7niwJz+7T+KOA3A6j+/wHWArcCyeJnAlzbAP3HXrMDdGYA/b0fNP2xjbr/YTObA73cJwPEduMBIV/c/UUjUP/SNwr7O+YXAX2/5Ppkv3r7wSwM/"
         },
         "type": "scatter3d"
        },
        {
         "hovertemplate": "color=1<br>x=%{x}<br>y=%{y}<br>z=%{z}<extra></extra>",
         "legendgroup": "1",
         "marker": {
          "color": "#00cc96",
          "opacity": 0.7,
          "symbol": "circle",
          "line": {
           "width": 0
          },
          "size": 4
         },
         "mode": "markers",
         "name": "1",
         "scene": "scene",
         "showlegend": true,
         "x": {
          "dtype": "f4",
          "bdata": "OOZGQTkYPEFnnJ1BTHnJQY1zz0F63MFBOo+QQfJfoEFjON1BjUtbQTUkqEF2eDNB5vrOQcfd3EE3RhNB2/aUQWvoJkFv/IJBPx7FQVakqkEx9bFB0ZCaQS+IjUE/4pFBiBDPQeU6JUFVOd1BoMCdQVQUI0ErzahBP0tKQdImMUF5izlBOzOxQbEvvUEopqFBat+cQYh1q0HEiYhB50CuQaddO0F7GrlBN/WiQQaHjUHjyZZBBreKQfVsiUGr9JRBTX9lQSd80kG1xfxA/faYQW4yh0EkKpBBpB2DQWIWEEHoA4lBZs2eQWjYj0GOIahB1fmvQdk2aUHcZEJB6ea7QWkPoEEiIyJBVThbQdZZmkFnayBBrYnnQLR9mkEw63RBlJzBQfwQBEE74+BB3DXMQWMGwUHo96dBsOGWQSKJc0FKeptBl0ewQciFXkFjJLZB1TDZQdNFbEHHp2ZBPQezQZwCIkEhKnlBTFtuQZczxEHPWDRBnc+SQUADqkGbYs5BXDClQWoya0HaBdNBt7aiQU2mrEH2MXdB5X+OQWu+ckG+v1tBdjBLQSjyIEGSMhVBEBOYQXbMlUFxvoRBfrQ4QdEoqkEqg21Bz9xyQcSJqkEyeLdBL4TcQcUHXkHhgj9BXUKIQbWCKkHJ6sdBUniiQSAgyUGKbd1BSrjQQff8tUHKTaJBCCYGQWcoPUF06X1B0qZ4QSPPoEHBzLdBL/ucQXrQg0EfyZxBACLAQRZPg0HZnSxBXFtYQSmeoEGqYEhBJ067QdPgu0Ex76xBfL2HQfncnkEcGQFBhN+DQYBnSkHy/bZBIM6OQbqUM0Eut5lBLZgeQeB2e0HaGVNB3HrNQXk1GUFuv4JBxFMiQfiepEF51bpBJmyOQRt+NUGFeYlB35C4QdHmskFi85pBSmSwQcZZ9kAS8IlB6Oy9QYElpEFC1FBBR2DGQWz3gEEwzIpB8ZDcQXw9pkFTir1BOMtsQY0zUkECk8dBgJqJQR0Hf0Erx4NBq7YMQQguiEEchlZBVn+rQdquvkGClKpBPMzeQVHwa0FcJ9RBHlGjQZaer0GEYxpBYGytQSZztUHiuphB4BYMQfDzYEE4bIZB1m/ZQVz0gUEsYv9AStedQadOaUFw/4BBo+G3QTBgXEEfbRFBkzpwQTazz0FQH4VBuBbnQAQxfUG+nFhB+N/yQKzmckEb8OZASLlrQe+TXEGMRsFBCEC5QWIVHEGBLr5Bn0SpQcM78UAmhJBB"
         },
         "y": {
          "dtype": "f4",
          "bdata": "6Pf2wLUpsMByKda+LlhYwI0cpsCdKGrAQ4advxjGw8BjTyvAOG2ywKutScCR+dvACh9jv1p4jcAet8zABIbPvxS0+8DEC+fAiry3wCUL0cCgRDrA1TvPwBi5msBLiqrA49S3wMH2nMCw8HjAmT6Uv8Om8sAFP8PAhcjwwMjD8cBZMBXB0nu/wPVJMsDMrui/RqoKwEzzrcBAbwTB44vfwL+aksBojGDA0cNewDF/XcC0dKXAGSKVwE7SNcAbVgjA1CwKwWoTJcA2ihHBVN3ywAkNsMCp5KrAtAPfwC22FMFd9azAq6pLwMuVXcDrDc3AGNqpwBS7/MB2ZcXAm0y4wDdwSsBHfNHA92TLwOsC9sCVkeTAI/wZwbR9RcBbMwrBCKfrv0zmDcH4UKW/fTIfwAT4o8BDunTA6D2AwMB90cB/D5vAcXbnwIM+psC3fMnAQcV8wCpl07/bz8/A9pZhwNGqvMAHq9XASbXIwPVtocClHAvB8JFVwO4ymcAJEeG/jlG3wDRzIcC54CjA16XUwBAfl7+eAwfBYPeFwGIKPcBnqtjAmlkXwRb+sMAJEt3ANSI+wIsVsMBVPtPAzSQHwTvd08Bm0Z3AOEqQwJODwsAq0HLAxtYFOyMakMD+9AfBesLzwIWJBMED7yrAjQPSwPe9osAq6x7Ak02RwEPYKMCGtNO/BrAAwX4uEMGvta3AnsPBwMo/ZMAgr8HAmhu/wP0jK8D6JOTAaBG6wN84+cBbSdzA5jVqwKIa0MBLbqnArBahwIzx8r8VvsnASUWuwCi0JMBtb+/AFV9MwAeogsAWS+DAPomlwLIqpMCdMKbAaT76wDK6xMDQPuDACAVlwGP73MDLCv/Agee8wNuWj8DSJ6PAFZqdwJs2yMDSP7rAInGxwG6hxcAo6u3AZc+OwMLd3cAH+R3Ad5lBwMy6bsAmNKjAkYKJwFPi7cBpMqa/ZDEwPT/HjsAjq4DAOgvewHy1BsE6TgnAl93twAsmBcHLdw/B0l/zwA737sBzPp/AjikowDvhmcD3i23AqQrQv7V2h8C2GLXAWtyWwHjb0MAJx7TA/W/EwIFFncCG//q/X4f8wM7nC8FuRPnAkL3/v0vaOMAIwf7Al3nvwLc218Ar8TTAz86twGu6eMBLpxHBwBUPwK2pUcAjglXAjX3IwGUWiMCJX2LAtAP2wEWfwMDgOQnBw4QHv3SD7cABwjzARPEswP1M7cD2+6LAgLOKwPX7H8HWlY3A"
         },
         "z": {
          "dtype": "f4",
          "bdata": "aV24QDujlUCxvBpADDFtQPBygz8CblJA+oUXQIpqskA50ms/ojfCQN0qh0AoVSVAP/zyPxd3kD+HMMNAESQPQEVlIkCdcrNAamsxQJtWAEC1hAFAil3EQFRgnD+M5bW+Qr69P601NUBwxKk/zKxWQBguuUDAF++/PQmsQKvX10CDNLdA14P7PiX+eb97Rvg/Fl3BP8U8Yb9hSqVAO6rRPsOHh0Ce18o/veW+P1TvdD6p/XE/beGHP1Y+X0Bj6vs7anSTQK0/Jz/uZL5AYx9/P9Wt6UDS52hA+DBVQK0nvUBoh+dA9h0qwEhsHkDe9NA+Y6Y/v9jcRUBmsh1AlCaPQI83p0BDFeZA1WWqQBCT9T+itd1AaxHSQE72BkCEuKpArJVPQJGjgkDzrQhAbXR5Pxtdvj7tS7K/boP3PswqbkBfF4O/LoShP+zqkkD4nx3AV70RQMd8iUCBKnJAP+DiP5VChUBdXfBAorSSQAWFEED7+N1AoaMgQCorOkAnEjFAuaKdvyNimD9Y1htArz/CQLWdUD/pfdxABqtHQHPzNEDNFqZAtRLKQHWZEUAszcZA912vQFyjkz+haIK/wSDNQLrvoL+xXZVA1CyyQBp6OT8rkS0/8UMLv/yKy0BAstNA1y/EQNprHUBbrSpA3Gazv/T9Z0Afoug/W28sQOiSfj9yTTtAKhLXQGpMsUC78vFAu4buQHNhtEC8O6BAWLTAQJKKo0AilYK/4szjP3ReLEBqUBlAUH+2P+RNAz9y15o/jmpgQD6Unz8z17hARkSZP0x1dkBChZZA7WjAP78btT+5ryC9f9PpP9Ormz+ozVW/QcDZQIFLjkAbXLJA2Y5FP96GrkC1j79AeLNUQLr9vkDnZXS/YHUqPzJVCUDZ7GxADTayP8ieqECNPJU/elslwI0Z6UAC2mhAb/kWQI80zb93lqdAZ01yQJ11RUAwL8Q/TMMTvyBJzECd/ZNAZO3eQCmwfUCF694/fH/WQA14q0DwYa9ATJegQEacAUBP2adAtOuxv+Od+b98coRAlVLxP7D3t0Arrkw/VBmrQHyNyD9T6vY/m2mEv2KCij+Bb1e/eCWwQHmLIEAEqtVAdyidP/AAmUCAkK9AFjQqQAWxjED5ctk/ZX2LQM/GmUABTldAdJNOQLf2C0BcAmJAOlXyQKqZRUBw96c/LPLdQJKHV0DR4IZAXdUHQCSajUBXIlBAXQwOv3C2DECBQ2a+SaJUwDrbpkCAuNS/"
         },
         "type": "scatter3d"
        },
        {
         "hovertemplate": "color=0<br>x=%{x}<br>y=%{y}<br>z=%{z}<extra></extra>",
         "legendgroup": "0",
         "marker": {
          "color": "#ab63fa",
          "opacity": 0.7,
          "symbol": "circle",
          "line": {
           "width": 0
          },
          "size": 4
         },
         "mode": "markers",
         "name": "0",
         "scene": "scene",
         "showlegend": true,
         "x": {
          "dtype": "f4",
          "bdata": "vx6NwU+QqsFUYp3BHhS1wcVrk8Ec3ZDBrSzBwUmjpME6Uq/BZA3AwWshjcFKb5HBFAaFwQD0vME8bsXBMJO2wT2MmsEwBIzBhR6ywVuSv8FYXovBi92Zwbd4vMFg1LvBMsKkwX/AlsHngJXBW8d9wdP/qcGklJDBIkmYwQk2qMGZkKrB1bOewfE9ocHyQJfBS2eRwfsUh8FaS5LBMmiXwQcQwsESIo/BwaSqwTodrsFWPajBTA9lwZJvw8EbCYTBcMyKwYDlqMGJWbLBrx+gwaB8usGnX7bBZmyWwbC9oMEYQMTB/xKNwT2wm8Fv8YbBCPG5wVcBucGjB63BO4O5wZdruMEEvYLBHHXAwVnGpsGpAsHBeQOtwb+9vsFv36nB+3rIwRYNmMGFaqLBSp63wWCtgsGGX6bBlMW2wb5iusEz87nBCojCwS5Dq8EijaHBfKO8wTzZiMFXMKvBOQGtwbvExcE5mJ/BDg/Ewex3gsGxW3/BbhChwYHdgcE1FKPB5niiwQ4AusF2XK7B6iOCwTE8m8GeRqjB0PC4wfbdp8H/wZrBQt2awUQCl8H4fLHBnflrweOvmMHb7JTBehyvwRVZoMGZVcbBBhKtwY+bncEcMZLB7pa+wdJgq8H57obBN4iawf2IoMH/ALHB3iSbwZr+u8F0lrLBnhOQwdlgpcEzw3PBwxWiwVWWlcG2OITBIwp4wSjRjsH7arbB1+2swRxcrcEcdbnBbBGKwUJciMFJfMrBVwWYwfi6rMEvwbzB+lakwdaFtsHt3r3BAJqjwXb7nMGxnLnBZvaVwXnPtMHWFYXBat59wcTNkcFFXLPBhFiwwTd5o8G8fbTB6qGvwfv9v8GQu73BuHuzwZL7j8EnU4jBG6THwb4essHsF6PBMqWcwcBOjsFDHrzBRR2Dwc0yvMEW5bnBaT2vwQ=="
         },
         "y": {
          "dtype": "f4",
          "bdata": "bnMhwNAZlcATidHAutETv9Z3ocAPBmHAVFU2wIGaUcADEKzAWUbJwOS3ccAYbTPAxC6GwOJEksAozW7Aj66QPcNGmMDjcWM+aOLdwDDXKcCqdyzAeVuWwDl9KcBeIEnAHp65wHrBIsAbgK+/FsvZwEKWzr81idu/TU3sv3AmB8EIjJnAJJUCwaAMoMC8GirAo0cPwB18/r8iScjAWMsowJVInT+MRTQ+YF2OwCMVzr/jArTA1iezvyh8WsDwRLbAqyiiwPtI+sA02anAZvwuwKRr3T+ZGdXAr5CawFoZlMB39hc/wxSRv9LVrsA/+fy/qWKBv1kR1DwC5eTA5pggQKYgosDMBB8/FYhGwC06tcBNdWrA8ct9v356usBgQbjAeH/fv6EiAsBDfczA9h/cvz56rMDB/ZrAmnC+P8ixC8GfnOPA17ZDwO9MScDiZ4W/wvKnv5o9U8Cn4O3AzbO0v2A3A8BlPs/ArhddwG5RNMAY2AzARHgpwKXrtsAtipw87Dmzv4bN2D9CTt+/sXIewC8YHcBNgMzAnPgEweMjScDKtXm/EysKwRdI87+LrNvA2oL4vw8bnj8uBBLAScGKwGcpc8CcL/O/zSIXwLo1AsFBgDE+BzCeu0uFgMAARAPAf6APPd8VkMAJT5K/LjiHwHaITsDKAYPAnLiHwES0ZMCNG8nAu7OjPnkBjD8oDGzAXjV8wKMnyb8ya7Q/W59lwC9y9r+1cwfBx76EwBvfv8DGFDLAYiN8PyiYW8BQEZ/ATOwBwZxefcCNlcDA9fbWwDa7N8CwakjA9VMOwJRToz5i1go+BRmiwJk9zb8e6U3A/izowGOXlcAcU7y9PH6kwJP4lMAfjg4/LPBcwHrs7cAfaw6/Y/N3wJW+rcAfJc/AIx2PwBRxxj4gDau/T34pP+gyO79YVkW/zb7jwA=="
         },
         "z": {
          "dtype": "f4",
          "bdata": "aCVgwGnFK8AvVZnAwcFRvvG36cBXdwDB6oeiPyxJpL8k9I/AWk9cP4P8xMDj3d/ArJXIwMaO7r8E5YfAFB7MwBD3xsBCHtjAyA8qP3Rs9j/7t4jAItXfwA2zg79/cck/vB+tP/1Vv77cZ7nAbFStwGPGlMBW3BDBRwz9wD+hCL/yXcU/8ZV7wLjsIMB8TXC+bJrUwKj8JMHElGvAgQimwKbD0z932wLBM0Y4wFrR08D23sa/KSvIwK2PDkDukKzARPikwPZ/iz9523DAMLxowIGoJkCymuu/g7YIwIHFtsDrWCNA9FKLwOkjTT6Q3yLBvjQVwHStvsDqlQ3ATL9EQPkAJz9vNbnAAqklwF7Wc8D6bwJApEG2wKJ1DUAFCx7AmMIxwD5X+cB4F4/AMfZlwB1VrMDldibB0lOkwKt4sb/KdtC/i/4dwLPSdcCkvvvAwLI5wBeM38D/7xi+T9TWwJMCgT/Kxyo/Ep1hPv1H8sDPdfbAfIeswHek5cAitRHByhT4wAqILkCMxQjBpEkIwcAyyL+N52e/iTq0v7AHYj897XTAiAFjwNG7m8AhLaQ+l6LQwLO3EsEsNKLAmgmSwLIY4b+cFSzA0vwkwLbQN8BDbhDBhugBQM7mF8Gb/OTA0eCowKaunsBdVg3BiGdMPj4XJUAeNeW+cOyewGudhMAwEBRATHWxwMVa/MAIlqbA/VjtwMzqccDJCKbAOceKP3f/BMGA04A/k4zEwOjlM8CeQg/A+AMQwQgkZcB+Kau/WvHav6tzDD6h1w3ApmxNwO1aU8Cj9Cq+vmjJwADeT0A+vc7ARBjYwNyELcAvI+nAbX2SwNS3XMCN17/AlIetv1DCnz/K5/Q/a7yHwPj+kMDrzInAvw2LwNm7Fj+4PwI/pwvkwIFq7MC1kqw/GF/HwCMePcAsm4s/ER8AwA=="
         },
         "type": "scatter3d"
        },
        {
         "hovertemplate": "color=4<br>x=%{x}<br>y=%{y}<br>z=%{z}<extra></extra>",
         "legendgroup": "4",
         "marker": {
          "color": "#FFA15A",
          "opacity": 0.7,
          "symbol": "circle",
          "line": {
           "width": 0
          },
          "size": 4
         },
         "mode": "markers",
         "name": "4",
         "scene": "scene",
         "showlegend": true,
         "x": {
          "dtype": "f4",
          "bdata": "j4ZTwCzrkr/uIze+ch8jQIGKAcDJwsTBx24bQGFFjT+0vgrAsKSMwErGdUCSw0rAKSoawAM7yL/5U4vAqbbUP6C2d0B7QZw/pIeOwC9haEDs/JVAPOexQD77Z77/NETA/mIeQOmRDD87gDw/YRYcP+be6b+HEx1AWfM5v9M2H8G/EEDAwgsLQZ6QDsCY97rAQ07TQOm9cUEiqZE/3iaXvao8ZECm4LbAWtZwQGRQAMAdk3vAqjaOwLtgo8AZlqVAAZ0vv7FLGL9sy/Y/jG8MQYKVu8Bz+a4/ZdHXQDZlD0G1ZlhAqn1JQAoIrL/8fKDALkE+wBOCQMD3cuI/naivwMiSkD8bj8JA1hMmvx1IGcHYWxZAmeoCP9Dsaj7WorNAtMOLvy9LbsBX65I/UgzxvkvpvEBkrbHAv/Q+wLbsi8DaYwxBRuyuQIMGlj9B+So/kOFCQMM/rMD0KyY+P2GSv0aja0CLmYrAb8dzwJrIXD/cW4y/NWqlwJCT10B6N7ZAazVDQMxbh8Aor/hACuiPwMQ3ZkDFqzdA0ApMv3uSz8DTMrU/RR1jQKwn/UCg+7w//HZswD6rHsAxsMS/feGjQBigpL7C1ApB1viUv1EJhMCvEeg/Ky84wCWqrcDQWoNAfy2bQAbTxL7PnLu+ntJpwftG1T8aUZS/H//8P4q9lsCwTJDAwFXOQNFXCcAHrrRAJftqwIaaE0EaBStA893RQFsapr9lKbe/UdTAQPReRb+WG4nAbDbpP7pBwT9tA3VA1a5RQPbukEBZ9QBAmQfpP0F2p79EEx6+Wwf7vzbOEb9Eo5o/NNM0wIKDJD+PoWTAR+yLwF0iDEDc77zAyNqOwO/D6cC9sw9BSYeCQKUNvUD+nypAxLBxQVkk5cBF+wXA4auhv7xW2j8tSMLA6k6YvxIFST/WVR3BTxspQMCt5z+2RQw9phAjQMG+iD+YqjdAzjNUQOVLx0DrKs1AV+AKQU0Stz8sS6O/RtljwPqoWT8GJ1bA9mUKQC3zgUDIHD7AxsegwG+lm8B0IHlAZv6vQOOKnED+XAy+QFniQJYBN8D42ck+lyKqQFG3yb4s+4k/oZcOQaz3Kb89Hr1AO0OIv7+TWUCGoprAXxa8QG/P27/hCDXA8fb/v7U0HLvYg/M/dqTMQA=="
         },
         "y": {
          "dtype": "f4",
          "bdata": "i/BuQf7HSUEy2VxBtO2LQbQeZUGQAuU/SHd5Qa9sZkGwu5hB/aKKQdRSXEGNkFBBnmhvQQknREGWIXtBWTQwQZFlBUHleUBBJkGNQbdiT0CTdVRADSVgQYQhS0HQHYBBT9wYQZiYYEFKEX5BkQA6QWV+hUFP1Q1BfgVXQRIiHUFkNF9BlVuLQRBKRUEWmpZB30K6QaS5FsEmD3tBkUs3QUEeUkDpLp1B0a1oQYDKaUFdHIhBEv5eQQVcpEFVA/A/EPuZQUYrsECYH4lBUeJHv5TymkEjQXNBq3coQdKujEAJHndBuHAYQeDJn0GTk1lBlVhiQZN1k0FMHP1Ar06CQdeiZkH9SGtBkSiMQYhJIEGbVBVBBS0rQVjGnUELsr0/z9pqQRZOTkFi7HpBJ8VrQYnDgEHwiIlBycaAQcONmUGcxp5BTamBQS50JkFGAD1BRGEEQag0lEFY70FB3Z0gQZTeY0E/AJpBZseXQVeeqkEoH05BY6aKQbhrUUDhwm0/c4+cQem0jkHetLFBowCbQRDpY0FyZdxA+TAoQfQSokFrTHtBuAXjQOTBsEHjR09BbpNMQfa6kkHTCFBBATXdQCnRoEFT0ERAsuGMQbWaX0EaTwFB5rNPQaHpfkF/nF5BkqRYQdSXgEHvMihBo2M7QLXPSUGN6YJB3dgVQRhFn0FrjJlBG2ouQQb6SEFFiPk/B7CAQdGiCUECcbVAc7JzPyOxQEE1FXFB8TBHQfhso0ERRqxBD3JLQWCpTkF4dRpBwSpZQVzF6T+EppFBHPVYQZkMjEGEWINBGfmoQfGIgEH8qGdBlW2IQU9sr0EGXGxBvhirQXARb0FlqYtBbpdsQTtDh0GYLKtBndEjQKRFg0FntZNBULMWwTBRh0FHWoRBB+xEQX/aqEGYAo9BWQeMQUXnGkE5CB5BRx6PQb8n90BIdqpBVx1lQeud+UAMUcdAFKSeQdRMNEEtZLtBgnGhQCUw6kBy0j5BSQOGQenlf0Eiyo1BfeDmQG4YXEG7zI1BqHBnQZOaVkFVdm1BDjGGQXeGgUFRDKlBh0oYQUAchkG7wTVB8LANQAr0fkEQS0JBSldmvzKcZUFpDGlBRvKVQRDrgUExP4dB7PCCQSsFbkHjA3BBLVuFQeqBJkHiKUBB4uB1QQ=="
         },
         "z": {
          "dtype": "f4",
          "bdata": "z9ZJQLKgfsCDIFU/BUPeQJ3VdUC4PY4/eVHCPz3ALcBEeBdA29qVP/xItUCOduu+Y0Tav+rDCEFImsG9QW7aQGL+gT8afW5APea6v9jEgD8e5QZACcIHQTIonECOGE6/cebOQAvuez9HMV5AWetSQNqyzr/OwlxAmgMaP3vgDEEZyjo+DHq7QP/laUCw1TvAnINcQGxWGUFcPiNBoJpawNSidD8Is/q/PFO7QHMmcUCOK/M/EkbxPWP/HT6ngB1AnJCLQLae9r8s/NdAbvayP3Dzxr+YcNJAhTFWQAidXz8ZOv0/WMOnQKriVUAhySHAjLxJPuCvkj1ne/g/AUbWv65L8ECNmhFBQrPlP4qBD0GYUrZAF2rEQCpstUCjDWo+DF1uQPI2hcDF6CJBg1Ktv/596UAuiPq/VmXsvsE8OkCIQIxAMbf6QGmfxUAFbFtAlrciQLALAUAM0ndAN4gMv3cIskBlwpk/9pSQP2fO7D85V4K/5D4qQIuuBkDQX5++nTDpQA4nwj9oCYxAltwTwIwn1j8QuXi+lH27vtCRBcBecsVAzmyhvbRno0DmE5xAuPiJwMANrj9O7YDAjUsdPoVFsEAHuBo/VFx0vyhPQsD0q+o/GLpmQMD45r/oqS9AQw8KQXkSDD6LfOE+F8qVQNG380BqObQ+NOOcQASUAcAE9D3Az5zxQMexzz4xfoG/+geBQFRessAE8Oe+/UcvQHEEQD++grs+B43vQCN9qEBFtu6+OoViQKVJ+0CbT6ZAB3XBQFkkHUDTl64/oUWAQLqelD9zYmu/UVcpQFMN9z8C1ibAQK/uPl0IJ0CNvxM/f0GCviUucL5aU+u/Hhz6P7jsIr8aYI9A6zxxPyNk00AxNPZANk4ZQQzsM7/ygTrAaE5+wGan+z8Yot0/noHJP9ylHz+Jrw1BLCMHQHvRMEDNcyJANt7TQG+ISEDMdJS+c4ngQEDU8ED9AHhAOV1pP04tWb+tUWBA+tpEQFdRV0C3HPG/Du8Cv+M+N0Cb1wXASycqwNVEJcAt4b5AdWkFQb0AAEG45SRAQSvsQCXC2D8//SZABYgMQI/DMr5M0hE/GKO9PwOlfz+HJQ5BMftMP+/6EEAVUXpA3XoRQS73h79ff4RAHoYawFepJT+wgOdAaOXnQA=="
         },
         "type": "scatter3d"
        },
        {
         "hovertemplate": "color=9<br>x=%{x}<br>y=%{y}<br>z=%{z}<extra></extra>",
         "legendgroup": "9",
         "marker": {
          "color": "#19d3f3",
          "opacity": 0.7,
          "symbol": "circle",
          "line": {
           "width": 0
          },
          "size": 4
         },
         "mode": "markers",
         "name": "9",
         "scene": "scene",
         "showlegend": true,
         "x": {
          "dtype": "f4",
          "bdata": "HkyXQLN00kDNVTlAhb6DQGes0UDN67ZA22d/QLLqNEEQ6+hAOxepQG7cv0CM69JAzlaoQEi8CUFyybFAPsZrQPJajEBR1ZpApZXLwMiOO0DuFQtB8qv4QLoBG0HWDhFB+xgJQfSMu0Bk0FXBHUjtQIne/kDuWUxA4V7kQJ5kUUDCxJJAynZnQE7An0AOOgBBPGUIQQ1lzUCH2um/xuT1QJyZVECwA8hAs+QlQX5syUCvsuBAMoKPQBfFgz8l9p1A4gyrQDVuVsHc+btAkpe8QCrAw0CS8ZFA+/7OQHoQskBbPilASdbUQMZxrEDC9zFAgab0QKFEAkGbtOZAo2zlQB26DkHNcRNAnGe7QFwS5UDcYKpA6+MAQRVr0EAYINRA/qeJQL45u0CPgg5BnJDiQH4iokB3mNNAi43ZQN/RoEAXRpRAn3XMQNHit0BdUK9AxZhhQBcgvED4wL1A7JieQJnDnUCnRQFBuSbBQBA3+EBZj7pARfVwQNzbxUAx1aJAC4K4QNPEB0EABQhAPS6+QOXL0ECDaPBA2Ry7QNEktkAWYi9A6vXUQAOmq0BueF/BbQeEQEeAwEBupcVAZMN7QDSbRUA0HgZB9r5QwJWvjEC8kmTBDznkQJRbkUDpfTZANai1QICw7UC50oNAx8BXQHFLrUDB9vhAEHrAQACKFECvMQRBYX2uQMp4IUG6VtNA5z7dQChRtUD2LQxBxY0pQLVx8UAjGN1A6OYNQXEfs0BH+IlAw8sHQaWogECV/BZBu92IQAsHZECYg+9A3xSIQI5kCkGOAwy/r1wMQXx8c79Yno1AQbSFQH5L2kBRcg1BskWVQDOmCkFB2vNAbpDoQDSJnUBjGupAf2STQPRYVED7mr1ACzr1QEgJ6kBTCJrAXesEQR13k0Bc5pFAqNejQAAE7T8UfrZAEl+bQCBO5UBTBOBAIAqQQHR9nUBm4gRBSTS0QES5U0DrkghBM9vnQMMJ4EDoiOpAdLgvQBcGskAuZJlAwD0IwELlrkCh8EpAJ87kQMDEyUA="
         },
         "y": {
          "dtype": "f4",
          "bdata": "is+/QTDymkB2ux1BMUKfQYmtrkDx+5VBUoyEQRGxhz8OertAFzUEQMtbrkEQMsFBLTWdQY1ogUFMOpRBrxQMQWn5sUFObKFB2SFRP9MTH0HV8LJBNUBtQVCas0EHorhBNhSJQbK+l0H9lu/Ap7GQQUvKrUEZnzNBqcGyQY7ZGkEyx71BabyxQbVHe0EcMiVBDN+VQahjuEFRkUZBjy1iQZbrBkHoLYpBiGc9QcNYc0Go7hRBm4iNQcpVzMAEXq1BS1MvQRzJ8MDU3KFB9FaWQeFWDEG6E6FBF+O2QSTbfkGi/ohBkulWQdCTAkFNoZRBdVlnQRpaCkHVQmJB0yezQdU6i0HiTJFBPrm0QWz9tkFF/QVB8EKVQf5ByUHJDoxAm/etQbH9pEFQcYhB03yuQRGf/kAfFPhAUQOTQZ7rjUGgcepAuTM7Qaq8oEGa229A4izlQCelmkHWtZhBtbC/QVTVoUF9+5FBTKxqQQGn9EAD2ptBlkKYQeCAiUAmXYVBnmSEQRHlc0FdaqpBH/X9QOf4k0DhGa5B1BS3QTpSM0EUDa5BFNmrQVHcKkH3UgfB6Km7QW0BOkGt4ptBs/sRQcNHT0FJJsFA/IKrwHV4HEELctvA2ryHQdh1g0EzGD5BDimlQd8YuUEF+ZtBS7GVQaFCEkFAmqNBxz9uQcxVokHdMp5BvtPeQEVflUHS66hB2+egQf5cGUHdVqNBmLiqQdvMrEHtaA5BOgGYQar0NUFLohtBKG2nQUJkkUFzwK5BaW3CQdqcEUEMa5ZBhtf+QPUNukEvX/HALYBiQaasNMHKpKRBGeCgQRCQEUGLgJJB5DXIQbmafkEqlbRBrlG6QWVpIEGFPzRBsneCQW1bmEHTwZxBHaq2QFaFFUFKw2zBXkqFQadYVkFX8oxBc50KQenorUFCLKpBtxOAQT4jxEEbmshBTDapQQyCo0HjjIJBz6B0QXXQtkGqLo9BHKyVQbq5V0EmvBVBZbFJQeigdEGDq0xB/YwBwcpGiUG74qRBfBLmQHcvkEE="
         },
         "z": {
          "dtype": "f4",
          "bdata": "HIgSQBCmV8CryL2/lZ+CQCR18L9pj4/AzHkyPzf75b8AHoA/BVj0Pt0MOL9s7ve+SPQYwGHyj74XSc8/4qItPwEGNkAYuPo8Rl41wXb4Nz8uEK/AXPOcv/RMaD2pFMi/mRuXQMNWvb9MwM3AAJcXvnIqqUAXDkfAhU8TwIzs0j6SIzm/EqI0PxiJlMACUEZAYQuGPtnhOkBl+wdBpzOPP9UCk7/Ltso+qCICQFB4Rj+Hr4+/nXVQQHro+cAqHwnAYFUEvxO3y8D1aSRAPV+UwN+sNMDh5wlABZD4v5zXWkATfXhAFwqhvjvd7L+2MjA/0UAPv92U1T9Ha0e97isIP6mf6D+8+q4/16RyP25Vub/V5LQ/rZGrO2GHy79Or2PAaEpkP2qWUcBD4B2+I6zBP7TFMcDA2oe/xA0DPwE3RUC/dYvAo2N+vzKJfUBtCVO/+dYWwITI1L8bSozAI+Lpvhwz7r+HoQxAacLhP6I1GD17QbNA/iakQDJcuL9+JRhAkGV0QF27fkAWl66/N8C/v1Em+L/ZfOI/dW4QPwYrCMCsHiFAx4WsPwk4hcAtCcnAkWxRv/4f1r/6v4xARLo1wOhWDUDbhnE/Nw/CQAGUqEBtj3fA5ozBPxRAj8AtFkHA+5fqP9zwKMDUBFxA1aAiQJGoVMAt2ca/n1U8P8cxyj5rbWhAJ1fLv7yaNj+LdUE/f9bfv2aWpsBJNwVASVogQAu0UkAsESVA1YZZv500c7+lOZI+gCnEv1CUuT2En76+7eTvvyZPWsD5UQ9A0Srtv+vw979NQ+PA1IBkQJSq2D6e7p1AEQEbQNAJCb8ZHDm/6k02wDWWtL2Bn3nAi38PP0VqXL7yOhA/rw2QwD8gFD+6hpFAXo5uPzWl3b9hVkW/wPewv7sa3r8a0N4/vZMHwGOHsb8uZ4m/cVFdQGpGBMD4SQnAVTmyP4rdvL8Ah4dAL+YvQNrXJT7xovw/qJIRv1rf8b3OIx9A3AMvQJWPLEAzJLK/XomjPwJdLEA3kElAzTmMv6UiQ0A="
         },
         "type": "scatter3d"
        },
        {
         "hovertemplate": "color=5<br>x=%{x}<br>y=%{y}<br>z=%{z}<extra></extra>",
         "legendgroup": "5",
         "marker": {
          "color": "#FF6692",
          "opacity": 0.7,
          "symbol": "circle",
          "line": {
           "width": 0
          },
          "size": 4
         },
         "mode": "markers",
         "name": "5",
         "scene": "scene",
         "showlegend": true,
         "x": {
          "dtype": "f4",
          "bdata": "JrFKwCxDQsHgKZ3A0JniwJ89UMBkljjBeiwlQDwYOsC1cpnAN0UYwEBNYcAb3A/BSx+LP+HfssAZX4zAx1OLwMOtMsGTFMrBdXamwNTghsCdkijBMrwgPyQ40z9Cgt/Azh3qwPQT7cBnxDNAcZCqPrYhG8G/XCFAwBRQwfYC5L9bPjvB74dhwJVBpsAGJpTBjvTFwLWHP8D6dD/B091ywPwGF8G6qejAkVg8wR/sZsA0+9I/n0BRvw4LkcBoIP7ADe4EQGTFk8DhIgLB2n/2wCP7hMBPCMPABKibwMMFNcHfhQHAQmSDwHfg4j9lWzfBS6CLwes7eMDsqiw/XXh5Pxtadz1poOLAQuhZwaAIPcGexUzBNqWUwLf8B8GLOq4/jf0cwcaojkCO0Wu+mU4Owah9/z8T7DQ/K5inwATHEcAgrJzAtpOiwIcYsD8kRDrAHXY3wfbRrMD1s7TAZBlwwPCUQcCNhtLAMm95wFCgocDEuTHBT76sPw3r78CySq6/0XAowQfeS8FpQqTApsQewPK4DsGaqC1ABogkwVGjw8BNYZ4/WWgCvhwiy8BpQC3AW5UowYIGCcGVVgvBBW1DwTVmVz/OgAHAuQrPwIbQXsBMCiPAxPsnwBHC5r+GPRfB7gMnwXOQncCW2v7AzWRhwMMfx8AZduvAPpqdwIZeUD3pBm9A6Islwd93m8CFTY7BkEsNwC+yAcF6W1s+qoYzwSujq79kYhvBsPz3wPXDj8FWP4G9ZMC1wBl6Fr8KzJrAO7O5wHZgQ8HVWajAvunzwPPsC8HRXro/JD2Dv0JPGT+ojlI/cUOowKTrU8FJgSlA/ozEwOlJPsGIHDq+/NFIwTpUgMDInq3AmJY2wfE6xcCFoQ3B8yzHwJDwpcDUc1DB3Tm3wAegh8CWtExAnLXAwMMg5MCRIUNADz+TPy+26MBwO5zA9vEJwG65hMA="
         },
         "y": {
          "dtype": "f4",
          "bdata": "ElM1QAbBBMHbLgNA3vOqwJHSfT9ZJPXA/os0P9szgcCAcrS/S/+svqdP8j4oI3vAtpgqvzFYjMCxn9C/0T3fv7l9xcAzhRw/wTgqQCfuV8CjZMLAiYocQF2sXLxpqCTAg8qewDOmncAEQ7O/K8KbPiYficClsos+LWL0wLKbIMByzfQ9+MWav9tBt7/WHOTAlwBDwAG7qD/tBDHBmSyavn2hXcAMkKPAp/u0wG+QhMGMTwe/3DqwPuJGm7+zUOVAeGnQP4/0icBc74HASOmFwB2iE7+JeBnAnfZBwPQS3sAfadE+sjihwI4J2D9Q0oy/UWsJwSa7VsHKphNAR+wYwHFNo78div+/bZ8Hwd7FtL8b/7bAZ0/7v9tjbsBBKTS/STkBwfoZsEH1pgrAv/J4wHMdmL+GeJe/5hkyP6JGrr8c5Ne9OJgyP20ngr/LuotAiPaZvzZL7z8f7g7AX+s8wK6fVUAgi/G+i/0CvlSnq8BaG6zASgi5vxPhvsBBT1K/ntwvwFp7tcAzbti/GbemP0u0WsC9za6/xurqwFJtrcDOF0e/pDnHPsZoaMBUpMA/vSK3v4vnf8CKO8JAWEX3wIIGhcCy29A/EspbwFaVjj8Vrg5AHwWLwGfoO8Hq8KrAPlcEwaZwgb704yPAZqrYv/SnMEDgJn/BhgsvvWEpIcABiT6/n5NRPSeQiT425P3A0Kk7QLiAn8CDsmw+njEMwNsEir8q9bfAqNF0wFMr+8CI+CS/C9UnwIUX879Fdsa/EWsrQCt6tj9yFT3A3I/zv99bb8BpKgLAmMhVv2WKfb9JZYq/7hUkwE8XgcFgLQ5ATXauwL9Kwr/UGYs+d5rtwGSsnMBWHRA/G8zCwIpJtsA/foPA9XYTQDX6J0BlDtnAeyDbwNStvsDdQIJAZ16Kv5XNx8DSwzRALt2DP5SrSb7Qwv2/8NCCv0fsTkA="
         },
         "z": {
          "dtype": "f4",
          "bdata": "vUNvv57Zx79sFNdAfN1tQDtktEDZLp6/h9KyQPNQZ0BeaJm/oJa0QNjVzUDoNaK+kMyrQODQcz5Y1tdA8iozQLsfKcBPLkBAlAygQM1Mkb+SHUnAozPVQOu7wUDWALlARHcvv6KLdUBEjwBBMP69QDJRX8D3MTdAwYVQv9kEnUBIOBFAMZLXQE4oQ7+xbzc/WtOkQC1EEUBgSlvABOe9QNhb6j/WbEa/yR4vwAluJkCHnThAUjiDQPG4/L/kzdxAw8qMQPZ6rkAk5wdBf+5SQC6Gf0C4weo/GlTuP5DxCr/Pj5NA1Q2oQJU/kUAdRqA/91HWvpoko0A0zNFAnv/ZQJ4Qmz9zTJVAjZbRv97WKkAPJltAVruXvubkg78BQ+9A5pctwJwUPsDJh+pA/HSvP45Sk0DKzwxB9A8Kv3WsS0A3xtA/f5ivvgMoJUDyKAJAtcgRvtd8D0DPjeo/6zoYv443FUB5/O2+g6DDQN9gS0BZXnQ/tH0JQDyVlEAdCMlABQINQDIwYkArvKVAy4OSQLKWh0BsYgBByjgAwCNZpj/404hABtiQQFlEREAjsQtALFKFv38/wL/j/eRAst3Xv5otSMCWtK4/aS6uQLJd6UBR35FADvlcQGC1hMAsEIfAgVwyv+Ul6T+dWCtAqHUzQNst6kB9GIJAYbDXQB9g20DfqW1AbOSnQE9lN0Cx84U+SgtLQKMbjEC+Or5AYdshQDoMoEC6mIDAl81DQPsLsz0wksBA/c0TQO9BS0CASqlAnDbrQNtwz0AaXKdAS+NQv2J7RUAvNcA/LlphQM3wgUCTjgRBdq/FQO2Uyj3TX6tAfOrJP7sIOkDjtO1ArL1Mvznaf0AngVNA157IPQ93EEAEyI2/YmDXP1VpnUASP0Q/fhk4wfqJsj8gt7tAN+o/v0/4lz+k8LZA2zDXPy4zGcAG6DZAiQ69PCG5KUA="
         },
         "type": "scatter3d"
        },
        {
         "hovertemplate": "color=6<br>x=%{x}<br>y=%{y}<br>z=%{z}<extra></extra>",
         "legendgroup": "6",
         "marker": {
          "color": "#B6E880",
          "opacity": 0.7,
          "symbol": "circle",
          "line": {
           "width": 0
          },
          "size": 4
         },
         "mode": "markers",
         "name": "6",
         "scene": "scene",
         "showlegend": true,
         "x": {
          "dtype": "f4",
          "bdata": "lg6kwalCS8HNNZrBr2kzwVzZssGukZ/B+U+DwR4QlMHZemPBUDRNwSaKmsF1sYDBgPJmwaGTUMHlNobBu8FEwdnKkMHb3VzBa3GMwSmeM8G7F6LBDE63wM3Yh8FKMBPB8Y0cwWjhUcG5SpnB6D+WwV6sjMEgVp/BEtE6wVj1gsGywE3BijRhweBZNsGb+b7BOi5TwepKO8FOZ7PB9buewfl4lcEFMJTBdxwfwWRPE8HnFajBGR6AwZR0R8E3uqzBGl8bwb9tXMGw55DBY/ZBwYuQcsGxLq3BmoaJwSwAMcHskqjBhAUlwT7qscEZZ4/BpkMVwbkHesF6ZE/B4gCgwTNnpcHagS3B0Ic5wTOAS8G17TrBuvygwWgUZMFCZgfBnDuFwa/fgcFB+hTBdWQmwRWKisHavI/Bx86wwa5MXcGAhYDBgDoDwY0jl8Hz6mHBOVKcwVJ6PcEWAYbBzAR3QASaqcEzz5PB2aYmwd5/ZMGU63fBcG9SwesijcHNI0rBPt+awR1pEMGEDw3B6IFqwXaTr8E96ONAZNUlwcXACsEwm4zBRsPxwMTRKcEUhQxBWLyVwby7fsEH/ajBBa0wwZBiiMEv4KnBwnIaweT8tcHHe3HBzJeWwThMdcHJAZLBY9kowUFcgcFj3wLBgSimwSMUqsHakoPBOSaSwVpJKcFHbhDBXo+AwTzIlMESRaTBM+NBwRdXrMGXKX3Bs/t3wZxeLcFDdkLBVdA7wZhUScFlZ5LBTME9wS3EM8GeV4HBTx49wVKThsHnjh3B5KGpwYk7E8HpLKnBynWAwRaSscGNa2PBO25YwaFpQ8EuvWDBrtg1wVPkn8F/h7fB7Tlowc/ri8H1lALBDDIGwYGVU8HXV0TBJd4DwWSXoMEpfBXBNokPwXPiXcFAcH3B5T1AwfKKXcGOr6PBYAV5wT4XD8EFLzTB2htcwQ=="
         },
         "y": {
          "dtype": "f4",
          "bdata": "CBEeQTeslUAFrypBAcNCQOUaFkHSVx9B3NSEQPNX/kDhf8hAclqFQOigFEEAIlBAv3RtQH9xm0CNBBxBn4LjQBwBAkEhh1tAMhklQZ37kkCRs+JAmAuzPgxHwcAOqKtAAs4lPqgdjkCvMDRBoUmWQFmpB0GNbR9BgGepQAwWokCtdZg+xe3YQBYBzj9gimy95mo3QLM2KEBztPNAF53ZQGbCs0ADTglBludCQO1Vl0AANiBBM0geQeoBxUBMSc5AB70CQA4jtEA6TQZBgQ6mQBEtvEDtxPhA7tUWQdsXx0ApEmtAtf4VP4TVA0FNKNhA/C6qQL7w80C9uElA4LnhQADUuED/LnRAbJHfP9mBhUB3lrhAKpOzQGoViUBHWqZAbTuoQE641UCrzpVAj+DiQKPDhEBHNuZAEnUFQZD1mkCzp8NAGjmeP6R7H0Gk2m2+J5IPQeAglkB2bOZAunOPvvYVA0FeyOBAasV7QPoIdj556e9AXhMeQFVIH0Hit4NAlgQMQd4kcUB4V5VAaCU6QP165kCnHc/Ay+Wfv/WrPEA33+xAUha6P3uqY0BCBUzAk0gTQUr3gkCERRpBMX2yQO2Bz0DBsxBBSzwdPuZzB0Fn/NxA9Hu6QA2qCEFM6z5AOsqqQNOu/0BUsHpAQlQ6QWOjAUGU2BhB1+s9QKkXC0AskFpAeBC3QDy1ukCnTupArf3dQMF5PkFBIxBBk9v4QMJUQUBM3PE/9N4FQXKvsEBj4zpAmG0GQDIk1UDe98RAPVciP1C8BEEVyWdAl64XQWXshUCEmhdB+JQRQRE4MkC3QIVAvsNAPUWf3UD4UpZAhPczQKriDkHZ9RVBWVqyQGCyLkE3jg9A7wGKQA6uzUB3y6E/fTBzQILF7EBwIqxAXmxOQBLw+EBXrgJBCc2eQCpSrUDXHCpBckAtQJZCV8D5evJACwKbQA=="
         },
         "z": {
          "dtype": "f4",
          "bdata": "G+9HP4/GzT/KJne/Ks/AQJyjmz9dqPi/NNHbvjdnLz+SZUdA+Bptv10Hfz4ynM0/DCKGQMcm4kCv4uU/5FrHQHP3PD/fPu1AkAG6P9k970BAwiI/FBLsQBgeHcAyTp9ATGH3QEO9Or83UWm/eghQQKKdTkCgwRHA4q7jPxeZbkAevzBAI35eQDqRkEBeEUdAIorpP4+n8UAwJiNAtQuKQOzQJUCiZ6++o9jKQFJQCEFXx2G/0UcIQCY6HUDHdCw/eo26QNBZEkD9lIlA90whQLa8SEC/080+dDYpQJQcpEDFXec/OKvsQId04T8AHCpAF7fqQKDXFz9xivZA0Tb3Pim+KT8uu6dAnOaDQANFez/PvX9AZQ8KP3Uhz0BeiKtA9OBOQGNaKz+lGfhAeo9uQBgtS74QjqZAnSMyQHEHwEA/Rfw/WwYBQf+KCb8dKDRACGjSPvko6EDE3Zy/KXFbQMTIdUALYgQ9sPihvuBNiECw2/Y+bFQFQfK3B0DjXIw/ghIsQN6JvUBuXQ5BT5oYQMOxTT8KxKpAPKXQv3Vq/ECTW6lATyICQRoeCkFoSLFANEo7v/QoL7/FDixAbY8nQBgOZT/cX2M+KZv7QKDhLkDkhzFAfUa2QBtuSz/JEca/pZqeQArhr0CcTAVBPMElv67wOb6PCZw+7eXHv2jXUUA94cJAGHcVP4sKLkBlq4JATKXDQPXzZT4KdyBAAMFcQGQm80DWgONAoraZQPBxU0AAU82/Q6PfQPYUpUCSrdY/y/X5QJQqYEDmQKdAS6QmQJl+k0Bu/4g/4ZQfQAAcCkApij1ASgk1QHldpj5LNsFAafF4QGzVIUBiIm9ACIFsQMXTsT0UPflAHMy8QFCTW0DDlIRAJybtQMKdxT/zGqZAhvTTQPEFWUAoDL5AtqrvQJbwaEDevOg/p1/9P3SXpEChd6lAELDDvg=="
         },
         "type": "scatter3d"
        },
        {
         "hovertemplate": "color=3<br>x=%{x}<br>y=%{y}<br>z=%{z}<extra></extra>",
         "legendgroup": "3",
         "marker": {
          "color": "#FF97FF",
          "opacity": 0.7,
          "symbol": "circle",
          "line": {
           "width": 0
          },
          "size": 4
         },
         "mode": "markers",
         "name": "3",
         "scene": "scene",
         "showlegend": true,
         "x": {
          "dtype": "f4",
          "bdata": "LRNPwXfYR8C4Ws3Awe+owAzYL8Go6g/A2v+qwEx8lMBgmQPBrmHTwE9AdcDENRDACfflQC31I8ErnTjBiyTcQQJMGsAXXazAt09av9PbcsCg1JPAHpkswLPoSsECRSTBacnpwHx1rMAXGT/B0A1OwLuNvsCwfpHAnSITwcSbGEE0ssrAKXiHQUlK0MBGvFDBn9sgwUvvBsF0denA044fwS4qc8CEsa3Ac4BJwTGzN0FoHEnB1oztwH9vFMB4krzAt2V7v7UeO8H8AvzAj7Q3wdJE/8BCDhnAh9g8wV25HsGAQZDAgphmwF0NEj0Hkh5BDXs8wQl8/8B5i6m/17ocQRblNcHdnQbBhdbhwMWOSMBMNS/B4U+RwI3IScCAz+TAR26TvxYOjcBqqNLAycmMwJESwsA81jDBkfogwYtB1cAGJvzAvGgGwRAXGMGBdRnBwPNuwFPQDMGtqi7BMCQxwF5ARcGFJqvABPD1wD1l3MBgu6nAekW6wO02IcHyrO7ANNrNwBu6AMHdZQnB5howwZtM28BIzYO+Ew8HwZ8PB8EXRdK/HhKaP8OhqsB5Zp3AVjhOwX3MzsBzvhhBl4Q5wCgMHsAWGCfBFtv2v8aOe7+7/tTAnZtUwDBWSMFob6HAguebP5AQ8kCWGtDA8twWwZwyrsAhG+/AhMOUQJiIgcDljP4++KUxwE+ikMCneuzAzqvpwNLKA8HZVMXAMN89wUpYN8EVGgHAntzRwDz+tT0LARzB6rRmwCitFcHgDlG/cG++wAjS9MBdBqXAF7SIwJLawsCSwZXAoNS6wBqYBMGImxXBXc2gwOcJscBdXgHBO1PVwFyZxMCgqfXAwjoWwCIHLcFw1BrAgOmuwKjf8kBDgMTAwqDGv8QP2sDW/iPBYHOYwEEqNMES9zvBe7e+wIeEOsCs6UpBXvqmwIfaOcDttCJBFREWwQNLU8HcCNvAFR/pwGQ9PcF9bPq/LKY2wcEx+79km6HANAEBwciDEsHugvjAbMbcwO3juMDvYBPBxW47wJrTvsBY0jbBAAeJwBgs5kDL7TzBzJsFwZXBL8GwSwLBXJr0wNpCPsBsX7fAOVWewB8NCsFvjbfA"
         },
         "y": {
          "dtype": "f4",
          "bdata": "rs9zwRh3R8Fn7WXBLaltwfBrfsG2yTvBPzZhwUlPIMFd2IjB5t4IweGjcME97ULBJ48qweWpaMHf4SHBQFjUwCKZacDft3nB0z4/wStRQcHBI07BA68KwbRUisEhFzvBvPZpwQbuMcH7cFnBFz8uwfvIGMGuRQnBQsMjwSNxX0G6egTB9oX1QCTFZMFs/UrB6dBIwQFNWME4uYHBMpltwXSTb8GruWLB5q4rwRpIuD83WTTBooZuwTkVFME2O2XBUR8RweqZVsEyrD7BLDt9wfQoUsHChUHBurZNwXkzV8FlJhTBTYVEwZwsGsHn5Qa/n68vwdgNX8F1UzzBI2KmQd4ee8GRvFfBF3lRwUjUbMGn1ILBEd0kwS16dsF/rSbBBn5bwQ83FsH5WErBXa9SwVxVLME/G2PBUFlZwXXyU8F561XB5FeDwZBTPMEPBkjBIPxCwdP1MsH7sDPB8npmwZTBLsFeomHBBhdAwURzd8GBtgbBqhBMwTjShcElDAHB/TtVwf3iOsGW0CbBHfMrwby2C8HqNjLBLQMRwe1kXsECZjzBSDMowXewLMHtDWnBB+ttwQufd8GqQF9B0q92wU+YJMFnKoHBMGBEwaeqHMHYt1vBiyUXwQ9EUsF9JHDBZdcnwUIqC0A2fErBwZw3wdHQ2cAezSLBHjOLQegGGcFBrzHBQMBnwV1CFsHq0yfBKpJkwV8NOsFfKF3Bs8NxwfR1fMEe1T/ByMthwQ7YG8EwI4bBCMNpwQyjRsFBdxfBlFQqwetTI8Gh6E7BCCVRwYorNcFN01DBnMNxwfn5V8EJ8h/BAhRuwUW7LcG3QkzBLOoQwe14SMGcm0TB890nwdWnNMFNEB/BF+9RwZj3CUBKJFzBCQZgwVHLPcEY+mTAAZ/BwAO1RsGfARbBd4w+wQPIccE7Z2hAlrNEwZ2WLsHwO4S+GDucwC+iPsGLRzrBJPQ3wdeCgMEufzXBw1BAwUgUYcFK9nPBYfpxwQXHOcFGzoTBB7V/wYCBQ8FRp4XBBj8PwYpDSsFKJlzBySxBwd5qKsGVLlXBVHI/wYbDQsGTI2DBsIktwaZETcGLtgHB/JNhwcpiG8GGKRrB"
         },
         "z": {
          "dtype": "f4",
          "bdata": "IDCev53HkL4cL9q/Tp2nQHWtRcDD4ZRA1KyUwP0wqb6yA4Y/J1YvPy7iLUBrmCRAJS70wCUC/j8zTE6/Xdh2PhMT2b42azi/81IZQEg/DsDofrJAMLzFPw2B8b+VfGLAid/6P948Wr74fB/A8xFPQNbMB0DMkUvAD5VBP20ruMD2mTpA0lK5wJqaZMANRvS9rJ4CQJparsBQrEa/wu1uwM0EK0CX27DA8CLTP7YqpMBks8w/8VxCwMBisMDbLc4/1MI0wHtHBsC1sh8+lnWewM0VvEB9QHtAeyqBwHYz+T+WqDNAHyJbwAq9CsDh3JXAAEWiPxKIAb/MBgtA9MnPvvZxS8DQ2InAwrpRwAvIwL8bZGO/v0xWPyQBU8BMOWzANfIQPrQ0W8DIxZZAABDOwNYkiEBtIo8/RfSmvzYZ28A4jMFAfkciv8JeW8CLBRNAosIkwIFckEBFnRM/EAFNwAZgAUCRZ3/AqTirQI5yg0Dh33u+9nTJP6BttL/4HUS/tyTVwHnNOcCZTTxAc6jHvsQMrr9t3lLAS3PcPDa/V0DbSYLAsM7BwI5km8C0SLC/dbSmv8XbX8A1LLfAZfBQv2uFg8DAER3AIIgKQL1sTUCngoRAjePOPr6WQr/I9rPAoHDCwCw+7sAk5mTAbGvwPz9XUMCQC+g/X3TQv1wrPUANeB7AnX8CwOw26r40S3TA8ZEowNbuPsC7Q4FARx0nwKrVl8DMG8W+0fDNP7f/CcB2C3PAyZCSwGtDYUB5ukrAOVM/wAU/WECJCunAglmzQIVnzj/EJ3vA3C9wwCtLdsCD8SxAMh+0QC5mIz/1YdE/tiIBQCMU/D93PpdA4SuiP0zD6b7DZZDA6AyCP7dl68CJ4Kq/kni0vTJ8ZEAr0qHAzJvCQOYBuL8OUbA/v0YcQBbBSsAPkaLA6HIKwNzrDL6FuJXAzR6qwLqnGD9Kd4VANgd3QA65Gj6cX+A/EQdRwK2GkcDp6UTA9RTFQD2O+z/C60Q+2oR3v8aZmMDHcQNACm5BQJAkZECi3GC/M/uUwDcU9MDlKV2/XC+pQD8zwb/NiSC/bIQewDvb/T/dFpS/93hzQFT8akBOnsy/"
         },
         "type": "scatter3d"
        },
        {
         "hovertemplate": "color=8<br>x=%{x}<br>y=%{y}<br>z=%{z}<extra></extra>",
         "legendgroup": "8",
         "marker": {
          "color": "#FECB52",
          "opacity": 0.7,
          "symbol": "circle",
          "line": {
           "width": 0
          },
          "size": 4
         },
         "mode": "markers",
         "name": "8",
         "scene": "scene",
         "showlegend": true,
         "x": {
          "dtype": "f4",
          "bdata": "TGLkQEUPjcDvDJs/NluLwP6RLT/SSEm/JzS7wHq4dMB/WJnAeOpnwJCVEMBPM23AHW2FQHqMR0DgobjAJFySP76YUMEFnGvBXoi6v7LwosC/RGk+3CFVweir1sADJXFA2gCUwOhRXcB1Gsy9zKg2wKDf679IvL7Ak0jGwNIL57914h9ACUixv6TFA8DAkVpAiOLcvxr/kz/9dwzAUhx9wcyiMUBHo4TAtvJnQC9AC8Ewd33Aczijvyb+ub+YqiNAPUgBQPlLN8AbALvAl+1XwEflz0A/unXAOJCHPykop7+zCWrAJkUkwJTjZL8SdMFANOW0QNtdCEEgudm/nQ0/P2hFRcFAWd6/Vgwuv2GOAMHJhInA+wC5wKaNL8FyMs8/YejUwFm0ScFpEaHAz25Dv3UnXcBpFPfA25Bjwdkg6cAJnLi/T3bZwP8lAUAQ9p7AoFb5wEHQDkEUcAs/WLxjQBkz3z8S0KM9S/9JwLWGrMAskL0/pEmqP8OOXMDhZ2G/30p2wLfDKsBdiAvBlrh2wCgbIEBO+dI+q0vJwAcPm8BKgGLAXCeePyN/+8AZym+/kAHnwEcM6MD2w5a/ectrwFbSiMBC/B7BUwO/PsqHxsCBM8LAJ+uWv+V7+782A6TAXVQ1QPi2O8Hw+jFABiHFQGOGlL8t9B3AGs3vwBzLncAU51C/onsCwb2D6cCSTQDB+TRYQFQ5ucCs3aDAFICrvsGV78CnAhZARkStQNf+9sD7xKLAK/a6wLvtAkDAA3ZBU/GrwHedxr9WpXRAV8BcwYDemcDnhMbAvDWQPagqeb/PyTTAoZkyQBUtx8A0ZOa/2/1AwDHSlsBQOOm/jYRQP5MMHcEm9ohBI+C5wB0Mt8BfDJfBSIgZPz3Tzz8PPw9AwM3wwGa3SUDWt0jBDJMowE3tccEsL6E/maHIwBnRRsBJXM/AUf3sQO8zGUB3SZvAoIGHwNoQ1cDHTEHA7V5QQCcZo77jD1q/ZbMNQKlUbMBTTVq/vCdwQMb/ir/w9qfA"
         },
         "y": {
          "dtype": "f4",
          "bdata": "43wjwP5IAz/9wLzAC4DmvyKtlcCnP1U/h+zbwIxGnMB4GKLAzey1wOKcEcBMH6bACUveQJGykz/Qz/zAvJkrP1QbDL8f+SnB6cPlwFJs0T9G2arA++z9wObLWMB7e3/AiIAsvpIuLcD2+arAgOOhwNL1Z0BCXqg/62M0PpBjecCrJ6a/K7Lwvhc9tMCEUp/AVUo2wLKMDUD8dUg/1qaIvmyyzMCJwInAIpa/wDp4EUCIRy/ALsJGveP5mMCO9l2/YDOYwPvXAsFWWz3B1B/EwNhYx8Cd3b3Aa83DwFcBI8C74ry/6CYxwHUkLr6xDFPA8XNgwDmts0ESHFbADqCVwBqbB8EMus/A0n5dQEkfkMC5Xps/uX8ywAyOCsHh0pPAC9YBv4HCjT9Ok5/ARdg2QKymg8C6JZC6A1vwwANeUsDbbkHAGxWcv9OersAHytrAeLDBwPwLikEYK6jARoy1wBqtkEDxuwbArtihwAmT1cBdIpzAyujawMwbPT8dzJ5ABkcBQKi4wMCvQgq/ALuRwApoM8CuULe/XCAHQL0KhT8GhAJASdcHQAiszb39gN3AkpWCvt+tzcAusiy/R9ttwOfM5sD2JG7AwHNPvwO/FT7Wo08/u7TswGGhf8A0u+rApiAevqMAhcEgHVzAJZLEwFn24D9pF1DAepQtwWiKGcBwZbI+2OCEwJ74n8C0y1nAg4arQC/klMC6OJA+ZVagwD88ncBA9hfAHQLCwONc0r+zXQ3AZYqMwMDvl8AiurNAJi7SwF5pyj88i5TAG3/lwH4DsD98VzHA9MsNwL6QJMBCKD/Al23rwJytbsBmj4fAKK52P8ao1MDIbybAPRG4wHgHfMDq8dC9apD+wOFikMB0m+bAe4jbv0ddrcAYIobAdJWMvG3Ykj+xbIw/l81FQFz5yMAVmd6/cdY+wMybHsBkhxtAb50awC89a8AYBo3BmxqWP5YQKMBj/4XBEUaOwOoBRL+GGILAFh+UwBF21MCAWXO/PPvDwLxhj0A5i5bA"
         },
         "z": {
          "dtype": "f4",
          "bdata": "Jq+lwDXdVMB2UW7A6g0CwRA8wMCfFKjAsWYXwXrL1cCUVALBpT0OwTrdOcHx4ezA7OqjwH9nLsCgt7HADYSXwOZFMz4YGMw/A48Rwfb2JcDsE4XAiQI/P2KRPMC4KUTAHYdRwMgh28Af3hrBVIu0wIZlKcDJaOjAXpwfwZocLsFp7hDBIZ/WwAgiKMHuH03A7m2ewEz1iMBhmOXABS8CwR1hr8CV1uO/a3WWwJ1Y1MCrCsnA4vYPwQlyEMEtgRTBHBYhweIYCsBeL0G+vAk8wa+LicC6ojnBTMYXwFo3B8FRX+HANtuBwMVtUMA2KW/A2IFhwOFpqsBOjDHBdVHBwPYcED+CvArBywaDwNUTusC+hhXB5zIIwQz0BEBw3eXA1OPswBK+RsBzWTrBZKPlwGEyJ8EsyZ3Ad41ov0uwBcFPs4/AD5jewFMskcAoMJTA7ocZwalho0BI5/TAHZSKwPY398Cw2BPBEEYlwbqEM8E/1u/ApGN2wF/8gsAy+RLA+93HwAZm98A1tw3B5M8MwXL3r8BkXqfAlvzgwDmI0cC0KezAJkOIwFFkDMHe1Zm/h1FmwP/E3MDFdN/A3LYPwdauJ78H/4DAPQzlwMd1G8H1gPHAwDAWwUL/J8H4kiDBad0YwYqzpL9q9pTAceeHwKCMk8BSiwXBd27aQLrUBcGDNJ/AUErswLmz18DwChnAsBGJQJqun8BDFcfAkuT2wNCZ3cAwl44/xJeFwOpoAcFi8ZDAjB0TwbfzIMG0XoXAgUQGwetu1sAHzqXA/2ptwP9TAsH3+rrAWBEVwTQx3cCHNevA0/wWwAI3D8HFnQrBSI/8wD5pmcAlLMDAiYePwHo+o8C43Bg/FhCzwJjDoMB/n7y/NCUKwe5g8b97rGvAd0OMwK4RKcAm7UnAFh8nwTCZFUBMyqzAca9XwCelFMHFh9vADxefwBLIdcBoWo2+iXATwTtdBsHoVSXAWSItwD5n4MCH6w3BUgNwwNeA3cBCrsbAe+F8wG3iKMCb3pa/"
         },
         "type": "scatter3d"
        }
       ],
       "layout": {
        "template": {
         "data": {
          "histogram2dcontour": [
           {
            "type": "histogram2dcontour",
            "colorbar": {
             "outlinewidth": 0,
             "ticks": ""
            },
            "colorscale": [
             [
              0.0,
              "#0d0887"
             ],
             [
              0.1111111111111111,
              "#46039f"
             ],
             [
              0.2222222222222222,
              "#7201a8"
             ],
             [
              0.3333333333333333,
              "#9c179e"
             ],
             [
              0.4444444444444444,
              "#bd3786"
             ],
             [
              0.5555555555555556,
              "#d8576b"
             ],
             [
              0.6666666666666666,
              "#ed7953"
             ],
             [
              0.7777777777777778,
              "#fb9f3a"
             ],
             [
              0.8888888888888888,
              "#fdca26"
             ],
             [
              1.0,
              "#f0f921"
             ]
            ]
           }
          ],
          "choropleth": [
           {
            "type": "choropleth",
            "colorbar": {
             "outlinewidth": 0,
             "ticks": ""
            }
           }
          ],
          "histogram2d": [
           {
            "type": "histogram2d",
            "colorbar": {
             "outlinewidth": 0,
             "ticks": ""
            },
            "colorscale": [
             [
              0.0,
              "#0d0887"
             ],
             [
              0.1111111111111111,
              "#46039f"
             ],
             [
              0.2222222222222222,
              "#7201a8"
             ],
             [
              0.3333333333333333,
              "#9c179e"
             ],
             [
              0.4444444444444444,
              "#bd3786"
             ],
             [
              0.5555555555555556,
              "#d8576b"
             ],
             [
              0.6666666666666666,
              "#ed7953"
             ],
             [
              0.7777777777777778,
              "#fb9f3a"
             ],
             [
              0.8888888888888888,
              "#fdca26"
             ],
             [
              1.0,
              "#f0f921"
             ]
            ]
           }
          ],
          "heatmap": [
           {
            "type": "heatmap",
            "colorbar": {
             "outlinewidth": 0,
             "ticks": ""
            },
            "colorscale": [
             [
              0.0,
              "#0d0887"
             ],
             [
              0.1111111111111111,
              "#46039f"
             ],
             [
              0.2222222222222222,
              "#7201a8"
             ],
             [
              0.3333333333333333,
              "#9c179e"
             ],
             [
              0.4444444444444444,
              "#bd3786"
             ],
             [
              0.5555555555555556,
              "#d8576b"
             ],
             [
              0.6666666666666666,
              "#ed7953"
             ],
             [
              0.7777777777777778,
              "#fb9f3a"
             ],
             [
              0.8888888888888888,
              "#fdca26"
             ],
             [
              1.0,
              "#f0f921"
             ]
            ]
           }
          ],
          "contourcarpet": [
           {
            "type": "contourcarpet",
            "colorbar": {
             "outlinewidth": 0,
             "ticks": ""
            }
           }
          ],
          "contour": [
           {
            "type": "contour",
            "colorbar": {
             "outlinewidth": 0,
             "ticks": ""
            },
            "colorscale": [
             [
              0.0,
              "#0d0887"
             ],
             [
              0.1111111111111111,
              "#46039f"
             ],
             [
              0.2222222222222222,
              "#7201a8"
             ],
             [
              0.3333333333333333,
              "#9c179e"
             ],
             [
              0.4444444444444444,
              "#bd3786"
             ],
             [
              0.5555555555555556,
              "#d8576b"
             ],
             [
              0.6666666666666666,
              "#ed7953"
             ],
             [
              0.7777777777777778,
              "#fb9f3a"
             ],
             [
              0.8888888888888888,
              "#fdca26"
             ],
             [
              1.0,
              "#f0f921"
             ]
            ]
           }
          ],
          "surface": [
           {
            "type": "surface",
            "colorbar": {
             "outlinewidth": 0,
             "ticks": ""
            },
            "colorscale": [
             [
              0.0,
              "#0d0887"
             ],
             [
              0.1111111111111111,
              "#46039f"
             ],
             [
              0.2222222222222222,
              "#7201a8"
             ],
             [
              0.3333333333333333,
              "#9c179e"
             ],
             [
              0.4444444444444444,
              "#bd3786"
             ],
             [
              0.5555555555555556,
              "#d8576b"
             ],
             [
              0.6666666666666666,
              "#ed7953"
             ],
             [
              0.7777777777777778,
              "#fb9f3a"
             ],
             [
              0.8888888888888888,
              "#fdca26"
             ],
             [
              1.0,
              "#f0f921"
             ]
            ]
           }
          ],
          "mesh3d": [
           {
            "type": "mesh3d",
            "colorbar": {
             "outlinewidth": 0,
             "ticks": ""
            }
           }
          ],
          "scatter": [
           {
            "marker": {
             "line": {
              "color": "#283442"
             }
            },
            "type": "scatter"
           }
          ],
          "parcoords": [
           {
            "type": "parcoords",
            "line": {
             "colorbar": {
              "outlinewidth": 0,
              "ticks": ""
             }
            }
           }
          ],
          "scatterpolargl": [
           {
            "type": "scatterpolargl",
            "marker": {
             "colorbar": {
              "outlinewidth": 0,
              "ticks": ""
             }
            }
           }
          ],
          "bar": [
           {
            "error_x": {
             "color": "#f2f5fa"
            },
            "error_y": {
             "color": "#f2f5fa"
            },
            "marker": {
             "line": {
              "color": "rgb(17,17,17)",
              "width": 0.5
             },
             "pattern": {
              "fillmode": "overlay",
              "size": 10,
              "solidity": 0.2
             }
            },
            "type": "bar"
           }
          ],
          "scattergeo": [
           {
            "type": "scattergeo",
            "marker": {
             "colorbar": {
              "outlinewidth": 0,
              "ticks": ""
             }
            }
           }
          ],
          "scatterpolar": [
           {
            "type": "scatterpolar",
            "marker": {
             "colorbar": {
              "outlinewidth": 0,
              "ticks": ""
             }
            }
           }
          ],
          "histogram": [
           {
            "marker": {
             "pattern": {
              "fillmode": "overlay",
              "size": 10,
              "solidity": 0.2
             }
            },
            "type": "histogram"
           }
          ],
          "scattergl": [
           {
            "marker": {
             "line": {
              "color": "#283442"
             }
            },
            "type": "scattergl"
           }
          ],
          "scatter3d": [
           {
            "type": "scatter3d",
            "line": {
             "colorbar": {
              "outlinewidth": 0,
              "ticks": ""
             }
            },
            "marker": {
             "colorbar": {
              "outlinewidth": 0,
              "ticks": ""
             }
            }
           }
          ],
          "scattermap": [
           {
            "type": "scattermap",
            "marker": {
             "colorbar": {
              "outlinewidth": 0,
              "ticks": ""
             }
            }
           }
          ],
          "scattermapbox": [
           {
            "type": "scattermapbox",
            "marker": {
             "colorbar": {
              "outlinewidth": 0,
              "ticks": ""
             }
            }
           }
          ],
          "scatterternary": [
           {
            "type": "scatterternary",
            "marker": {
             "colorbar": {
              "outlinewidth": 0,
              "ticks": ""
             }
            }
           }
          ],
          "scattercarpet": [
           {
            "type": "scattercarpet",
            "marker": {
             "colorbar": {
              "outlinewidth": 0,
              "ticks": ""
             }
            }
           }
          ],
          "carpet": [
           {
            "aaxis": {
             "endlinecolor": "#A2B1C6",
             "gridcolor": "#506784",
             "linecolor": "#506784",
             "minorgridcolor": "#506784",
             "startlinecolor": "#A2B1C6"
            },
            "baxis": {
             "endlinecolor": "#A2B1C6",
             "gridcolor": "#506784",
             "linecolor": "#506784",
             "minorgridcolor": "#506784",
             "startlinecolor": "#A2B1C6"
            },
            "type": "carpet"
           }
          ],
          "table": [
           {
            "cells": {
             "fill": {
              "color": "#506784"
             },
             "line": {
              "color": "rgb(17,17,17)"
             }
            },
            "header": {
             "fill": {
              "color": "#2a3f5f"
             },
             "line": {
              "color": "rgb(17,17,17)"
             }
            },
            "type": "table"
           }
          ],
          "barpolar": [
           {
            "marker": {
             "line": {
              "color": "rgb(17,17,17)",
              "width": 0.5
             },
             "pattern": {
              "fillmode": "overlay",
              "size": 10,
              "solidity": 0.2
             }
            },
            "type": "barpolar"
           }
          ],
          "pie": [
           {
            "automargin": true,
            "type": "pie"
           }
          ]
         },
         "layout": {
          "autotypenumbers": "strict",
          "colorway": [
           "#636efa",
           "#EF553B",
           "#00cc96",
           "#ab63fa",
           "#FFA15A",
           "#19d3f3",
           "#FF6692",
           "#B6E880",
           "#FF97FF",
           "#FECB52"
          ],
          "font": {
           "color": "#f2f5fa"
          },
          "hovermode": "closest",
          "hoverlabel": {
           "align": "left"
          },
          "paper_bgcolor": "rgb(17,17,17)",
          "plot_bgcolor": "rgb(17,17,17)",
          "polar": {
           "bgcolor": "rgb(17,17,17)",
           "angularaxis": {
            "gridcolor": "#506784",
            "linecolor": "#506784",
            "ticks": ""
           },
           "radialaxis": {
            "gridcolor": "#506784",
            "linecolor": "#506784",
            "ticks": ""
           }
          },
          "ternary": {
           "bgcolor": "rgb(17,17,17)",
           "aaxis": {
            "gridcolor": "#506784",
            "linecolor": "#506784",
            "ticks": ""
           },
           "baxis": {
            "gridcolor": "#506784",
            "linecolor": "#506784",
            "ticks": ""
           },
           "caxis": {
            "gridcolor": "#506784",
            "linecolor": "#506784",
            "ticks": ""
           }
          },
          "coloraxis": {
           "colorbar": {
            "outlinewidth": 0,
            "ticks": ""
           }
          },
          "colorscale": {
           "sequential": [
            [
             0.0,
             "#0d0887"
            ],
            [
             0.1111111111111111,
             "#46039f"
            ],
            [
             0.2222222222222222,
             "#7201a8"
            ],
            [
             0.3333333333333333,
             "#9c179e"
            ],
            [
             0.4444444444444444,
             "#bd3786"
            ],
            [
             0.5555555555555556,
             "#d8576b"
            ],
            [
             0.6666666666666666,
             "#ed7953"
            ],
            [
             0.7777777777777778,
             "#fb9f3a"
            ],
            [
             0.8888888888888888,
             "#fdca26"
            ],
            [
             1.0,
             "#f0f921"
            ]
           ],
           "sequentialminus": [
            [
             0.0,
             "#0d0887"
            ],
            [
             0.1111111111111111,
             "#46039f"
            ],
            [
             0.2222222222222222,
             "#7201a8"
            ],
            [
             0.3333333333333333,
             "#9c179e"
            ],
            [
             0.4444444444444444,
             "#bd3786"
            ],
            [
             0.5555555555555556,
             "#d8576b"
            ],
            [
             0.6666666666666666,
             "#ed7953"
            ],
            [
             0.7777777777777778,
             "#fb9f3a"
            ],
            [
             0.8888888888888888,
             "#fdca26"
            ],
            [
             1.0,
             "#f0f921"
            ]
           ],
           "diverging": [
            [
             0,
             "#8e0152"
            ],
            [
             0.1,
             "#c51b7d"
            ],
            [
             0.2,
             "#de77ae"
            ],
            [
             0.3,
             "#f1b6da"
            ],
            [
             0.4,
             "#fde0ef"
            ],
            [
             0.5,
             "#f7f7f7"
            ],
            [
             0.6,
             "#e6f5d0"
            ],
            [
             0.7,
             "#b8e186"
            ],
            [
             0.8,
             "#7fbc41"
            ],
            [
             0.9,
             "#4d9221"
            ],
            [
             1,
             "#276419"
            ]
           ]
          },
          "xaxis": {
           "gridcolor": "#283442",
           "linecolor": "#506784",
           "ticks": "",
           "title": {
            "standoff": 15
           },
           "zerolinecolor": "#283442",
           "automargin": true,
           "zerolinewidth": 2
          },
          "yaxis": {
           "gridcolor": "#283442",
           "linecolor": "#506784",
           "ticks": "",
           "title": {
            "standoff": 15
           },
           "zerolinecolor": "#283442",
           "automargin": true,
           "zerolinewidth": 2
          },
          "scene": {
           "xaxis": {
            "backgroundcolor": "rgb(17,17,17)",
            "gridcolor": "#506784",
            "linecolor": "#506784",
            "showbackground": true,
            "ticks": "",
            "zerolinecolor": "#C8D4E3",
            "gridwidth": 2
           },
           "yaxis": {
            "backgroundcolor": "rgb(17,17,17)",
            "gridcolor": "#506784",
            "linecolor": "#506784",
            "showbackground": true,
            "ticks": "",
            "zerolinecolor": "#C8D4E3",
            "gridwidth": 2
           },
           "zaxis": {
            "backgroundcolor": "rgb(17,17,17)",
            "gridcolor": "#506784",
            "linecolor": "#506784",
            "showbackground": true,
            "ticks": "",
            "zerolinecolor": "#C8D4E3",
            "gridwidth": 2
           }
          },
          "shapedefaults": {
           "line": {
            "color": "#f2f5fa"
           }
          },
          "annotationdefaults": {
           "arrowcolor": "#f2f5fa",
           "arrowhead": 0,
           "arrowwidth": 1
          },
          "geo": {
           "bgcolor": "rgb(17,17,17)",
           "landcolor": "rgb(17,17,17)",
           "subunitcolor": "#506784",
           "showland": true,
           "showlakes": true,
           "lakecolor": "rgb(17,17,17)"
          },
          "title": {
           "x": 0.05
          },
          "updatemenudefaults": {
           "bgcolor": "#506784",
           "borderwidth": 0
          },
          "sliderdefaults": {
           "bgcolor": "#C8D4E3",
           "borderwidth": 1,
           "bordercolor": "rgb(17,17,17)",
           "tickwidth": 0
          },
          "mapbox": {
           "style": "dark"
          }
         }
        },
        "scene": {
         "domain": {
          "x": [
           0.0,
           1.0
          ],
          "y": [
           0.0,
           1.0
          ]
         },
         "xaxis": {
          "title": {
           "text": "z1"
          }
         },
         "yaxis": {
          "title": {
           "text": "z2"
          }
         },
         "zaxis": {
          "title": {
           "text": "z3"
          }
         },
         "camera": {
          "eye": {
           "x": 1.5,
           "y": 1.5,
           "z": 1.2
          }
         },
         "aspectmode": "cube"
        },
        "legend": {
         "title": {
          "text": "color"
         },
         "tracegroupgap": 0
        },
        "margin": {
         "t": 50,
         "l": 0,
         "r": 0,
         "b": 0
        },
        "width": 900,
        "height": 650,
        "title": {
         "text": "Latent Space (t-SNE)"
        }
       },
       "config": {
        "plotlyServerURL": "https://plot.ly"
       }
      }
     },
     "metadata": {},
     "output_type": "display_data",
     "jetTransient": {
      "display_id": null
     }
    }
   ],
   "execution_count": 72
  },
  {
   "metadata": {
    "ExecuteTime": {
     "end_time": "2025-10-09T20:25:16.130888Z",
     "start_time": "2025-10-09T20:25:16.052122Z"
    }
   },
   "cell_type": "code",
   "source": [
    "from safetensors.torch import save_file\n",
    "\n",
    "save_file(spatial_vae.state_dict(), 'models/safetensors/vae/initial20epoch_vae.safetensors')"
   ],
   "id": "bf475d8b7523a57",
   "outputs": [],
   "execution_count": 71
  },
  {
   "metadata": {
    "ExecuteTime": {
     "end_time": "2025-10-09T04:05:12.988632Z",
     "start_time": "2025-10-09T04:05:12.833280Z"
    }
   },
   "cell_type": "code",
   "source": [
    "vae = ResNetVAE(latent_dim=7, spatial=True).to(device)\n",
    "vae.load_state_dict(torch.load(f'models/spatial_ae_{7}.pth', map_location=device))\n",
    "vae.eval()"
   ],
   "id": "82e3276aa083162c",
   "outputs": [
    {
     "data": {
      "text/plain": [
       "ResNetVAE(\n",
       "  (encoder): ResNetVAEEncoderSpatial(\n",
       "    (conv1): Conv2d(1, 32, kernel_size=(3, 3), stride=(1, 1), padding=(1, 1), bias=False)\n",
       "    (bn1): BatchNorm2d(32, eps=1e-05, momentum=0.1, affine=True, track_running_stats=True)\n",
       "    (levels): ModuleList(\n",
       "      (0): ModuleList(\n",
       "        (0-3): 4 x ResidualBlock(\n",
       "          (conv1): Conv2d(32, 32, kernel_size=(3, 3), stride=(1, 1), padding=(1, 1), bias=False)\n",
       "          (bn1): BatchNorm2d(32, eps=1e-05, momentum=0.1, affine=True, track_running_stats=True)\n",
       "          (conv2): Conv2d(32, 32, kernel_size=(3, 3), stride=(1, 1), padding=(1, 1), bias=False)\n",
       "          (bn2): BatchNorm2d(32, eps=1e-05, momentum=0.1, affine=True, track_running_stats=True)\n",
       "        )\n",
       "      )\n",
       "      (1): ModuleList(\n",
       "        (0-3): 4 x ResidualBlock(\n",
       "          (conv1): Conv2d(64, 64, kernel_size=(3, 3), stride=(1, 1), padding=(1, 1), bias=False)\n",
       "          (bn1): BatchNorm2d(64, eps=1e-05, momentum=0.1, affine=True, track_running_stats=True)\n",
       "          (conv2): Conv2d(64, 64, kernel_size=(3, 3), stride=(1, 1), padding=(1, 1), bias=False)\n",
       "          (bn2): BatchNorm2d(64, eps=1e-05, momentum=0.1, affine=True, track_running_stats=True)\n",
       "        )\n",
       "      )\n",
       "      (2): ModuleList(\n",
       "        (0-3): 4 x ResidualBlock(\n",
       "          (conv1): Conv2d(128, 128, kernel_size=(3, 3), stride=(1, 1), padding=(1, 1), bias=False)\n",
       "          (bn1): BatchNorm2d(128, eps=1e-05, momentum=0.1, affine=True, track_running_stats=True)\n",
       "          (conv2): Conv2d(128, 128, kernel_size=(3, 3), stride=(1, 1), padding=(1, 1), bias=False)\n",
       "          (bn2): BatchNorm2d(128, eps=1e-05, momentum=0.1, affine=True, track_running_stats=True)\n",
       "        )\n",
       "      )\n",
       "    )\n",
       "    (transitions): ModuleList(\n",
       "      (0): Conv2d(32, 64, kernel_size=(1, 1), stride=(1, 1), bias=False)\n",
       "      (1): Conv2d(64, 128, kernel_size=(1, 1), stride=(1, 1), bias=False)\n",
       "    )\n",
       "    (channel_proj): Conv2d(128, 2, kernel_size=(1, 1), stride=(1, 1))\n",
       "  )\n",
       "  (decoder): ResNetVAEDecoderSpatial(\n",
       "    (channel_proj): Conv2d(1, 128, kernel_size=(1, 1), stride=(1, 1))\n",
       "    (levels): ModuleList(\n",
       "      (0): ModuleList(\n",
       "        (0-3): 4 x ResidualBlock(\n",
       "          (conv1): Conv2d(128, 128, kernel_size=(3, 3), stride=(1, 1), padding=(1, 1), bias=False)\n",
       "          (bn1): BatchNorm2d(128, eps=1e-05, momentum=0.1, affine=True, track_running_stats=True)\n",
       "          (conv2): Conv2d(128, 128, kernel_size=(3, 3), stride=(1, 1), padding=(1, 1), bias=False)\n",
       "          (bn2): BatchNorm2d(128, eps=1e-05, momentum=0.1, affine=True, track_running_stats=True)\n",
       "        )\n",
       "      )\n",
       "      (1): ModuleList(\n",
       "        (0-3): 4 x ResidualBlock(\n",
       "          (conv1): Conv2d(64, 64, kernel_size=(3, 3), stride=(1, 1), padding=(1, 1), bias=False)\n",
       "          (bn1): BatchNorm2d(64, eps=1e-05, momentum=0.1, affine=True, track_running_stats=True)\n",
       "          (conv2): Conv2d(64, 64, kernel_size=(3, 3), stride=(1, 1), padding=(1, 1), bias=False)\n",
       "          (bn2): BatchNorm2d(64, eps=1e-05, momentum=0.1, affine=True, track_running_stats=True)\n",
       "        )\n",
       "      )\n",
       "      (2): ModuleList(\n",
       "        (0-3): 4 x ResidualBlock(\n",
       "          (conv1): Conv2d(32, 32, kernel_size=(3, 3), stride=(1, 1), padding=(1, 1), bias=False)\n",
       "          (bn1): BatchNorm2d(32, eps=1e-05, momentum=0.1, affine=True, track_running_stats=True)\n",
       "          (conv2): Conv2d(32, 32, kernel_size=(3, 3), stride=(1, 1), padding=(1, 1), bias=False)\n",
       "          (bn2): BatchNorm2d(32, eps=1e-05, momentum=0.1, affine=True, track_running_stats=True)\n",
       "        )\n",
       "      )\n",
       "    )\n",
       "    (transitions): ModuleList(\n",
       "      (0): Conv2d(128, 64, kernel_size=(1, 1), stride=(1, 1), bias=False)\n",
       "      (1): Conv2d(64, 32, kernel_size=(1, 1), stride=(1, 1), bias=False)\n",
       "    )\n",
       "    (final_conv): Conv2d(32, 1, kernel_size=(3, 3), stride=(1, 1), padding=(1, 1))\n",
       "  )\n",
       ")"
      ]
     },
     "execution_count": 47,
     "metadata": {},
     "output_type": "execute_result"
    }
   ],
   "execution_count": 47
  },
  {
   "metadata": {
    "ExecuteTime": {
     "end_time": "2025-10-09T04:10:01.419513Z",
     "start_time": "2025-10-09T04:09:57.162209Z"
    }
   },
   "cell_type": "code",
   "source": "plot_latent_space(vae, train_dl, use_3d=True, reducer='tsne')",
   "id": "d1b7f6d33db38e89",
   "outputs": [
    {
     "data": {
      "application/vnd.plotly.v1+json": {
       "data": [
        {
         "hovertemplate": "color=6<br>x=%{x}<br>y=%{y}<br>z=%{z}<extra></extra>",
         "legendgroup": "6",
         "marker": {
          "color": "#636efa",
          "opacity": 0.7,
          "symbol": "circle",
          "line": {
           "width": 0
          },
          "size": 4
         },
         "mode": "markers",
         "name": "6",
         "scene": "scene",
         "showlegend": true,
         "x": {
          "dtype": "f4",
          "bdata": "mUe0P3zp2j8vmYdAezrmQLwB3z9kFupAtYyiQMfqkECC31NASMC0QNlfKUB5/LY/icJnP4m+sUC9CUNAHbW/QDmAqr8M1d4/W/NdQPy94T9/MdRAuog0QGAhAsBNL5lAc8UOQbNlAT+ochdAXvqIQJNTn0CdZqo/ZfuuQBNnr0C/o+5AsIBwQBrEHUDph65Ah3irQG12JkBkrYNA+uzLQM0wr0BNLzJA75d1Pod7sUBboZxAi7uOQLuFXT9etrZAAl5pP6kpx0Bskh5BBNa9QJlyPz96w09APy25Ps5mc0D+ZEJAjInyQHixjkDl+C4+A3Rxvz9u4D/O8UFAlvFqQO4ckUDnF6hAeEC2PyHhkUB4S75A2LlQQPO4LkAN4FBAmUO8QFkCz79W4YxA5Qm8QGZQRT5nHaVAdkulQGLVwED8bL5AUPj7PrmGFkBDmnE/Yhx8QHq2gkA/ZyS+hWSzQGi/7z8jpK9AMWq9QGrbYEA9Cvg/P/lGQIz92z+U8OxAEh4pv+scG0DryK5AlMUbPhIxd0Br4cFApDzpPmrJMkBH3DtA+uvFQO+4r0A783BAAX/HQCK1yEB1dWRAQwShP2f4mUB4CmtA+CqHQKJqdz1EDdRAacBfP5bIYUAzz8k/HZQCwNA2pEBqc2lAafyOQAkArz7rsS9AmRKbPyGGfrxfD/Q/aW2jP7hBJD9cRmBAVroOQa2uEkAEg09AtoelQGy82L6P/11A4BUEQPh2oT8K3RBBKS1wQOnGqECRNO9AGqSDQJ1Qoj+bj+dAxJD5QAea5D50c1w/aoGLQFHpuUAwy6BAQomfQKGenkDU5g1Arbe/P+Hs1kBzHz1AWTHhQKytiECkMxNAZ5qHQCC1MD936/0/5XUoQO/zT0Aojc5A4TWDQIFNtEAYOgpAxKs1QFqSzzwbSZRARr63P+TeuEA8oj4/4I4Kv0C1jT7ZFJ4/buWWQIM+Mj/OQi9AzVw5QHmEgUBedWdAfByFQOXrhT6vftk/21jzPyhhKkDb1KE/fniSQCdEcD6jBZ0/G9LPQMGmr0BCBwdA4sZnP/979ED+flZAVXu5QOAgyj+Z2sBAlRsvQLdbkEDxaoVAGwSQPw=="
         },
         "y": {
          "dtype": "f4",
          "bdata": "DCt5QBqKvb/juirAi3R6vxEx7z5iCCPAtEcDQEjJzsChmW3AaePmv/h2qb9qA1w/72QrQGl/L7/tLa2+3i3fPuagREDYXQU9nQ3AwHQzCkBPTmPAlU8kwKNBlUB2BZjAyYqbwMST6r+WylLAsrfzPshXf8AL1n5AjjnXv7BiM755U9W+7iJKQHMyO8D2aLDASBHYP6HZDj8xRLu/yJuDvx3ZLsB9h0g/JFyNQJ93vMDw0hi/1HSwv+KlBMAmIgTA2OddvzfUdD5/zxLAP5qwwCm8AsAze6G+Phziv63lMMAHSSHAp2pqwN1zAsCzZjhAhW+rP0e1yz8vwI7ApVYWQNY/zcCx9ea/QIGSP34Huz/mJ6LAduVhP9adXECm/YjAjcOnwHY5ZUD0jqy/6nfaPwMIbr8uhL3AsWfMP15bzb+1BZ7ARiutP0R+aUBIzBXAMT3iv7R0q8ATiqJA/jdkwEpVYEAplLPAsyiQwLJflMDZTLS/OpNUQE/zcUAt5Di/oHcXQI32DcA3CAzAzOMqQAqfSUDjrDfA6e/HPkYga8BRHJzA6Bu9wMzxycAy25LAWzCkvxKnBT+SfsLAGXmrvxxbU74nuwO/4XgaQApecEAkjsnAjHYAwHjTgcB8mmxAuJGVQAmITMBcMrnA5Pddv+mDeT/60XO/HTs2QDzak0CF+CjAnE4gwPLtuT/KOZu9ckycwPKphD3hy4s/PrDGwGorhUA6TRO/sd1OQGGUBUB4AZ/AghahwJilL8A5VJzAKInNP4pQmb8kf5E+ISmsQMm7DECWZotA7MWmwIeUCMD0QfQ+pnhLP7Hmk8DY33c/vJxDQNycUsACQDDAZZhVwGR72T/hiDTA2cZkQA0PAUBZWc2/8h1QQNCClz51zs3A7dUeP8M7MD4Cto6/MJimPv5tlb+ZP44/ymw/QIgMeb+UH/u/Dp8KQNjme0BY4S/AzNa7v37qCT/p/I8+6mmCwI3p+b9nbKA/MmKwvvjRob+knVFASLkPwL+Sp7+zc5w/kz/UwJkxP79re1tATh9RwGRSF7+znqo/r7fFPz66lsCIN4nAcAIZP3pEN7+cwtm/LYtmwOSyW8B23D9A6013QA=="
         },
         "z": {
          "dtype": "f4",
          "bdata": "k4b+QM8xPkGKMnFBAVxsQd2Dh0E/Q31ByYBJQaHVhEFkunVBuFCPQeNeRUGaXVVBKis/QVxIk0FxVVhBBlBaQdRgZUHHToVBrRmaQY1fYkGD4HBBmIB0QWSOS0HB0o1BdhtxQWsjQEFD92VB5+okQepVkUGBLvhAV+JQQd+udUHEZHdBZTkmQQGQgkGq25hBiHhAQcavR0E/b4FBaq+DQfKMhkEEoFxBsi7dQKtZh0E7YYVB5tuMQeTSgUF5ApBB2b+CQdi+XEFbNP9AG0acQTWHgEEzbFRBHTKCQaXrekGC34ZB0nQHwFw8ekH50mhBJ3psQUr3YUC5AJNBFq4fQdz6hUFjUl1BBbCBQZmRSEEAlG1B0ulXQVbPLkHEfJJBtvaXQWlVXkEaiItBTHVZQaccZkFn1ZdB+oc/Qa6xVEFsbXlBYBFvQXE8HEEmMnNB0OMmQcKZgkEBTR9Bvi6BQT4aTkHa+4VB36tvQfepjkEWwENBx0kxQaw1CkGGWGtBy5FNQekUTEGUt1FBcPdvQd2bMkGbxoJBvIxnQc9zgEFntnxBaQuCQSuDiEE7AZBBwRZyQEoFTUH8YphBAqRTQSQNXkEcn4lBxio/QaX+WUFYa4FBzlY9QU3+eEFgSgxBgURMQUWDT0H0/JVBJxyCQbKWYkG3o2xB6PE6Qfx2TkHK1YRB1LmDQbuDW0HHfldBo35xQd0QWEGJYj9BjlKVQehJW0Epx1VBjBRLQf21KkHy5G9BcDeCQW3jUEEC/olBRzFJQUlMVUEHmWdB7+LUQH1+V0Glk1JBR9KcQTgwkEEIcURBQ3ciQbQKkUExmWNB1moxQahci0H9YV5BBkx7QV73SEEQmIVBVfYmQRGzVUFWA2ZBrahAQT5qb0EaIYJB5+EWQZPwU0G99nZBVs1HQVcbbkEtgS9BCVwoQdX4SUG+VDhBgwNQQTosXkF2nTFBJnyLQfu9akGgg4hBfp13QSW0gEGJMU1BZFNAQVctgkFqvR9BPb9DQcL4RkGLeYBBNDeWQb27WkHzg05BvcF3QaUXQ0FJO19Bqz5YQWxtikGEJpRBX+xSQaWihkHp0FRB+MuEQa8zdEHk3hxB9SpYQQ=="
         },
         "type": "scatter3d"
        },
        {
         "hovertemplate": "color=9<br>x=%{x}<br>y=%{y}<br>z=%{z}<extra></extra>",
         "legendgroup": "9",
         "marker": {
          "color": "#EF553B",
          "opacity": 0.7,
          "symbol": "circle",
          "line": {
           "width": 0
          },
          "size": 4
         },
         "mode": "markers",
         "name": "9",
         "scene": "scene",
         "showlegend": true,
         "x": {
          "dtype": "f4",
          "bdata": "McHTwEdOIMHYYyJA+60BwXH6NcGK3hLBqCUUwUraN8HIfLLAgbH7wCNwy8BWrXDAAtb9wEv2tsA1jDvArD6hwH7I3cBrLPLAMNnOv7BfgcAs9jPBJSoHwUNCX8BQRMLAWlQGwW9jCMF5borAQVriwDod9cCZbXDA1wgjwWXTpsCwHMHAoAQewd0xm8C3JgbBlQEjwYDtvcBKq6XAqy/SwCC0n8CqhgLBdxdQwOBXE8FGp8fA29GtwKmb88DbqtzAab7gwBniqMCDJTfBt3sjwet6/sC9RDbBScIEwYi5qcAfXTTBv+TXwHxaMsAgWi/BI5tKwKVI9sAV0KTA0fsBwYCoXcBciRXBCio0wUz/+cAVBwbBHWy3wN7GgcDSUbzABM9IwBdkN8A2sgPBY6A6wI3khMA0dmnAYKnAwBNAtMCxbGnAgXIMwRUNwsBb6UnBBqwfwerg/MAugbDAGhwowRhZ1MByXkzAmWUywc67E8HnE0zB8OvbwO8I+MB0k6fAsxrKwMSreMDD0QvBmzOrwCzxMsGlDwjB2cXZwMfiqsARcL7ASrsiweEJ6b+XDf3AvN8VwS9mMcGBQvHAiVsLwGk63MDcbiHBYiIgwTln+MA4PTXBzDccwOhsqcAlNybBz5TKwFUgh8APBsjABS+nwMzg78AXIwHBdMMhwZRaeMAWBhHB81p9wLFJvMCFo+nAOtoXwVWpCMGMMxHBfMfewMGzecAbs+vAGTmzwL5UGsEvTaLAtyERwVUqx8BHgITA2lMMwX3BrcD3rDLBcrDAwOyozMCRSNHATVNFwNW84cBs+OXAoJCKwI4yRcCzhNjAENy6wMZwKMGE7hhAO18WQX5D8r8sUTfAQnLowG95C8GPStrAm6L0wIZtc8CsazfBEmm0wBFjY8BPTMvAs9H5wAxQDsFcAo/Av6x7wGavPcFd+QbBVVj1QJx2CcE9d+5AiN0HwULcwcCcyKHA2MQywSJkh8AZL//AoE0XweD1r8A650TAhPHEwFYVE8HPYBHBx5YZwerNCsGa2DDB"
         },
         "y": {
          "dtype": "f4",
          "bdata": "GMn7wPoBBMGPiZ4/i+X0wPbmp8A/Xt3A13nEwG6P88DJ6tXAoKSGwAxChMD6/3PB+k6bwPUe38AKhmnBYwHGwNT+usDVgRfBiBOAwcZK+MARrRTBIt4AwTT8VsGhZhfBwuzWwJyOBMHVIxfB2t8wwWdd6cDndDjB7DzrwG5YJ8Fixy/BkOe/wA5DEsG8Y9vApQvywMvyFsErQCLB5VcWwdVmYMFqKB/BiHNxwWW7IMFbDa/A/hdEwZGtWcBUC67AYf6wwK4G2cDRmvDAxzQHwZCUKMHsi6XABr1kwOWwKMHpVAjBM1o4wdrIMcHkOfHATbxlwYDE6sAMvN/AdCYFwXWMNcEyJvnAmA6SwA1pucDS9MPAtKTswH92KcHQHRbByx5RwddMQ8HMDYbA/RR1wfHtFMHV4jjBn/xQwXJxMMGdzwPB4g7iwMcQCsFX8nDAVnEZwPcinsCr5g3BZ/j8wKOUNsHJ01PB0AIWwZ3C3cBnktDAlPfWwIQQmMDFTFnB7JVFwUyjPcFxJ7zAD4gcwU0c48C35/jA2+7uwMByM8GtVxzBUUTywLY8f8F3L+rAzYv3wIKIIsHA5+PAZUI+wa5rjcAghdvAoOf6v2z+/MDxE7nApRJ+wVo7BcH7RtXAY+8JweO1EcGUhn/AVsYqwWPmNsHPGDDBKTcUwYfI58BubCzBFjrowPUXpsBCmd3A4Hy/wDvVH8H0pyHBH6mmwE7eKsGNw4TAdAHqwDCx/8AqjyTB5ULjwMQ5CcHCJwDB1hrEwGnRJ8E4NhHBYQarwK3ct8CT247A6t5dwTgByMB0M6TAflgPwa7SBMEg8wTBCLstwWr408B7ayRANSBEwBblf8H7OlvBiYPzwBumPcHdy4rA97opwSheOMFtJAPBsyQGwbYsXcEA4lbAJa8Uwau//MA2WATB7UFYwbAV38C2ph/BpTxKQN4j4cAYNvVAxtA7wXusHsHBk0XB6464wP5lZsGuqy/BTx0twVIzLcH4tTjBPnJYwQyCPsCXlcvAtQM3wJm4G8FDYu/A"
         },
         "z": {
          "dtype": "f4",
          "bdata": "MPHnwAGEmz6K9AbBr4lQwNoX3D8hcFzA+e4WP35UiD+UGlTAO748wKapf8DQ7fPANjBWwDgsmcBtRhXBXF1lwA65xcBGUwrAofYdwa2fusDd5Ug/PycUwAsIJ8F2zoXAUI26v76oqb+RTMbA7HDCwD7w7b7zH/jAEJYWwRP54MDWN13AGwBMv6l+AsHbJoPAT7xHv1R7y793nKzANFuqvyUv78BES6DAyfEGwctJib/8BZvA8FMGwYeuFsB3JFTAMEVywC9vi8Dok6Q+Sh+9v/3WsMAhPdc/10ogwKfNA8EpZ/nA1BrcwEb2IsEFO90/4EocwbFBgr5yKJnArWJMP4GuMMEvW48+bsvyP3WUBz9V8qg/iGvOwF3JIsFrNfLAlEoEwU28JsHD/sW/S70HwXqV+cDXDwXBn78BwRHOgcBwH+zAvfYmP9Qc0sCWAYk/h2p0PqQdIsDl1wLB4+i1v5+C4cAMyhTBuVkdPwwWY8ACsYM+l/+mwLkiNsBtDvzAEjnhwFx28MCFlr2/WOv6wIJLQr+bT40/rHHsv2sYBMHTazvAwccHwKHTBMEFW6nAu6exv8JtP79o5aTA8h8AwdsdPsD77mK/Ac2cPvlGQMBlutc/ErEBwf/r9sDQF12/I/zhwLznz8Dz7V7AmBG9wIq538CzAQDAbJoIwKFu4MB6OW/AwHnowN1FV8AL/oLALzIywBv8lcA/5pu/9kZ/wPzIIMFpNyjA8AGiwKZLJb5YDsrAehCkv0SH6cBuy77AinifPhUCo8CwLX8/jGOPwLX7p8DUvri+fyglwVJUusC1Zw4/XQvfwOVk/8DrR/PAQMmKwJghjD+sW4/AegyHQAwwDsHlKCXB6i94v4pMesB49i++4+68wE+k88C0BQDBBaECwcP3I8FP1RzAA2kcwLBCaL/xZqDAAm0UwbdajT8zxZTAuLw0vz0y6T6IBSE/j3iDwI6Pm8CXRQ7BoAvVP2gz/sDhiQjAWmFOwLobB8G6wybBxFICwSKlfj/NZZ2/xYhkP87SNcA3Lxg/"
         },
         "type": "scatter3d"
        },
        {
         "hovertemplate": "color=2<br>x=%{x}<br>y=%{y}<br>z=%{z}<extra></extra>",
         "legendgroup": "2",
         "marker": {
          "color": "#00cc96",
          "opacity": 0.7,
          "symbol": "circle",
          "line": {
           "width": 0
          },
          "size": 4
         },
         "mode": "markers",
         "name": "2",
         "scene": "scene",
         "showlegend": true,
         "x": {
          "dtype": "f4",
          "bdata": "IhGZQBahnEB90gdB7Me+P23nP0DYpiJBu/s2QL+ghUDQayhBTaMyQeVm9UBjnh1BYhIPQYevAkG8cutAfsOwQFJ+0kBHqTZBVhc4QaX+KUEKkglBsOc5QSW66UClUotA864LQZhd0kBEJBtBHW/CQMrOlkAUlR5BdD0DQS0tmEDXc8dAZMkoQEy4LEHMgRBBbbweQfyEpkAX9RlBq3gKQWT60D/eoidBrCbSQI5mPUFRwrhA1pQiQbCqe0AyeTRBE1kgQYe+DEE2chlBbgT3P9EfAUFiZpVAF08pQUtFOkGj/hlBzXtMQP8+MUHIQA5BJVMRQb/vGkGybCpBDvFOQN6T50C1SwlBXGodQcAFK0FrK7lA2NTeQKjF60DumulAZZXMQFZNIEGahSZBW5QYQSgxJkAeKCxBlwCkQG+7K0FaDCFBIbaKQBbREUHHzKZAUjifQA8z7UBaDrJAmTNCQdBij0CUjxJBbQJbwFogLkEhOQpBMw4nQeGOIkFxxDJA050wQbZaFEGyERVBe4kKQZxoVsFZYq1A24YgQQc6OEC8twlBbJIrQIdPJUEez6lArYgOQTzshkCd8w5Bcj8GQRY5BkFRuPdAInQgQWaGAUEsytxAn1IkQSh1pEADgy5BvFcHQRTZOEHe5A1BN4yOQDzYPUE12htAK/9NQbOu5UBr/y1BafRxQBqd7EDWw5k/+WM2QZPYHEHAyg1BL4nIP6RaGUE/npI/eigOQdJLOECSneNAQ0kgQdDxVUAkRh8/Z1kyQY0WNUGo5wdBiDe8QJ//pkDtE59AErgNQckYn0AvVEFBGoYaQdhesUBeu5ZAXU41QO+eLkGwEABB2jqyQCRxakCErhFATZtpQHmwJEEkixBBNpUbQSO3IEGvTDpB8f6uQFT7fED+VgpBjlHwQP2UEUEv9qxANp4KQZWAGEEu+u1AiZUhQUsy3kD8WrBA/xi4QCIhg0DGVmFAVjRQQMK5MUFTWq1AUOYQQQLPlEA3i4pA7ZDnPy9QEEG00xtAK92dQIVnPUG/YidBinszQXA6N0HwzyhBW9TOP5KTekBvOiBBxD6eQAtQB0ESp8tAWC0aQQfiyUD9+sVAbPkSQdrzG0FbBS5BemgNQY4+MkH+7RxBKJqtQLr68kBgTJhA"
         },
         "y": {
          "dtype": "f4",
          "bdata": "72fxQBOz80DDIjNBTXcSQa4AD0E0LexAYi8UQdMyPUFxGrrA0q75QFuPAUHBTw3BAbszQQcD/0BVeBrBE+wkQVk970AF4zBBXRNcQeuQ+EDBvOnAqxkZQUH39kB/kfxAK9lJQdR48EAFoAZBibIIQZEw+ECN1VFBdFcGQUkkMEE3Qw9BgFoaQWpSQ0FP0WpBeVw4QbpuA0G/ik5BokzhwN5T8EBeBDBB8z4TQV18qEAeXQ5Bk5c3QZSNQkERez9BmGfpQFScaEFPYvdAaDoMQUXHBMGKUMdAaA1wQThAU0HnkEJBBWI2wT/oL0FgEB5BJpbiQGX4MUFkshhBB2A2waajE0EBA0tBv602QeZ2aUEmqRFB4NMaQURhLUE3swvBxLcLQdXj7UA06rjAD09FQVBRAkFWuGhBYkwCQUE6akHbmCtBsVU6QaHzB8E2I0FBboUEQV5BEsHW7AJB+n8hQVL4F0H+czZB0f0DQLnYbEHHG01Ba501QecgLkGUqBBBfyRKQXTbMkHcxi9BForlQJE+uj8IbBpBhpMOQU7O/UBHAelAXx8MQVoNS0FVB8tA4ypGQe9bGkF02ypBCfdGQUQbTEHikfhAeocWQbw6X0FpDShB5WdXQSrHFUFMI0NBqHVKQfIjUEFV4SlB4DXXQHa3qEB4fRRBoYDqv/PoA0F4cU1BEXw9QbNFAkHW3vlAZGZJQeyHQEGYejlAeU0SQQgpIkHg/PpATsb0QGR9DkGK/O/A7HH3QGAvIkEDzgtBskorQbb9P0HRs/fAwZ87QWivQEFMFkVBoQFKQSq25UCvy0dBdoBdQSh1PUGDUe9AqbkhQXzh+kDtbQfBJI0MQbAMEEEqOydBO1cPQeJYvMD0XyBBDfEjQaEmSUGir0hBchsYQTX+FEGe4yxBmEsUQU2LM0FNiDxBIs8+QT6tCcHNYRrBFUZUQYNMAkEyHwpBJUArQQ/IIEGXTEVB5SUUQWJQXUEX9QlBgmM1QR1dD0FFBdJAXJMRQYMdLUHGsRRB3TMUQQHHG0EnoVlBctdkQZyYYEHlVhVBRKUSQY+UQUGD6VNB8FUVQep+S0EOyeZAqOtgQbyfEkHjugpBX4oFQeiTP0HRMGlBVK05QIHAHUGiLutA/ms9QYgtWkGH8hNB"
         },
         "z": {
          "dtype": "f4",
          "bdata": "0AkgwdroDcE/pKHALlEKweH0WMHJ3wXB/8Q/wcbhGMHoDmBBN5ICwaZWFsGtq29BtrTvwGMEDMG4MHpBxglJwe6GScEDW6vAjhCIwKfeAsGdWlxBir8lwbyUTMHwS0rB0uzxwFTyR8G0ikbBuiDUwII/WMGgte3AvVlRwfZpS8GaOxfBtIlBwea8EsFcTPTAGbHYwGhDFME1QwPBaitfQXtLI8FC4jnBpgg7wYTiKUCRCxHBdkE/wVhfPMHByq/AATHwwMjQ78D0cQDB3vcqwYzNckH6DjDB8DcZwUzzK8Hhve3A92Cqv/On2MCpzDDBxTBNwU/bTcGPJh7BJEanv/yoZMHfrMTAS+LpwDnBGsEgCV7BoX81wXJrGsEYQXxBWSgzwb8ITcGUb2FBXhWZwP1QMsEJqRzBJ08QwRCfG8GTZw3Bu3YewTJCbEGypg3BiwcZwYBWekFHWg7BkJkvwewYC8GokSLBFOr2wDA5ocCgHfzA09g+wXnABsGnSlbB7RI0wd4mPcG+tlvBPi8BQNG7YsAIK77AabExwcyXOcFIEfk/NCFawTCQ2cCGakjB3UUHwa8xQcEs+mTBIZcGwfsbqsAkck7BbRcswTwb58CqeBnBrHOxwJm8XcG4kBDB8wNFwcdW2MA8LWbBEaEGwSj7KUBRQLfA3aJ5QGQ/O8F2i6XADxAowUpSE8EEQ+3AKi8dwRsng8BA9otAeUwNwWBa5sAvvunAfDJMwQS/OMFKEnxB3ogAwdvwN8H5mjTBpr21wK/psMC3jUtB4TEqwaReCsG1gz7BLiivwKOuSsF7B5nATvLNwGASNsGyC0XBQaE8wfVHA8GYSHRB0rbVwCKvUsGRyUTBaPRSwTAoYkEhqi/BfDnjwEioosDUyhnBA9fFwBMHK8H1WEXBohxkwYWFNMFPjj/BfVcGweqKaUFQH3lBSpP4wNS2E8EwASPBWEopwduPQ8Hv5zDBri8/wdVQl8DcjNrA1DAtwZwqEMGtqynB+I0fwdLtRMFZkbXA3Ccuwc+bKcFK0qrAlX0kwe39hsAjXyXBEqQSwW+9QMHk7PfALjMowc6SRMH/eTbB8hD0wGS1YMHdY0XBvGUFwcs7eMBQuqDAa8+KQMxkK8HUeUzBrf07wZdJ58BWrGTB"
         },
         "type": "scatter3d"
        },
        {
         "hovertemplate": "color=0<br>x=%{x}<br>y=%{y}<br>z=%{z}<extra></extra>",
         "legendgroup": "0",
         "marker": {
          "color": "#ab63fa",
          "opacity": 0.7,
          "symbol": "circle",
          "line": {
           "width": 0
          },
          "size": 4
         },
         "mode": "markers",
         "name": "0",
         "scene": "scene",
         "showlegend": true,
         "x": {
          "dtype": "f4",
          "bdata": "17wVQRmFXEE4YnBBYy2MQW1ob0EmwU9BOzGPQVuobUGjCSFBzaURQV5NW0Gf5nRBoN48QRd1dkH75odBjB4dQVu3e0FpCkJBSss/QSrWikFa8HZBGZ0MQaexWUEEfRZBGxmOQSvQNEEgKoBBkf0UQQeB+EAuJqk/afBNQR3eQUGsXV5BJgFuQdYPdkHHHIRB6TB0Qc9DjUFt9kdBn2GFQdccjkEpSSxBMj1KQcb5GEHnbExB70BlQbkFO0FdNY1BtZCRQYNQFUHcc4BBVnhoQQP0WEG7+45B046XQfukfEGcbR9BEb1CQVo2a0FgJApBO4xUQTjLjEH/7YdBFaQaQXq+CUEY83BBJ9EdQQbbJUHUTFZBMe9hQRt9PkFhaXdBNT9aQcbwaEFDdkFBiR2BQRnbb0Ft3idBjDNRQf5jT0FRzxpBOdyPQQL3jUF/HzhBBUcXQX3IeEE0LYZBw3crQcDogEHTL2NB0k5kQfyyZkGOlxlBDTUbQdI9c0Gxn21BQ45KQTi+IUFvBVtBlRhyQWZEUkGRPYFBUds1QbrxR0HX0jtBR8ELQWAWc0EPyHZBdRU6QUHTk0F7V1pBm24oQfXAgUH96EtBx7aMQVaJhEGgIBNB6FqIQaeGjEFqc2JBgIReQRk0RUHI55BBRiRcQcikYUHMIXdBiYAhQd2BfEERWIVBRehOQTcphEFo9h1BRVJCQYoSgUFXhppBCZGBQd/LTEFAH4RBSys3QTaYREGkEJRBBuB5QbuZj0HAiYFBQAhFQV3VeUHMvjNBEKRtQVrrm0GjLoFBG8tyQeJTQUG8aVJB79eYQUEKZEE1DwhBpLB+QQlyNUEssZBB5o0rQfk+ZEHrJD5BbB+CQatGKEHyUV5B/uFYQa8HNUE/8YlBWQBJQTQeTkH2PE5BghZjQQ3We0GYWUNBR5yEQZ5BQUESGS1B8P9zQc4rckG8dlhBdYd9QRTvgEFvhmRBHLttQXtFhUFLLnhBVndsQXBvjUHy0TNBvIKbQdUOikEevjJBx8F5QYQFXUFXhwxB6z4fQZD5gUGh7HRB"
         },
         "y": {
          "dtype": "f4",
          "bdata": "vwu0QJL0FcDC6NZAGJPkPwLyvEDLUkw/baUcP6+ApEC2zNe/VnyPPx/xN7+hO61AWnCiQD1Ih0D6W5pAg5l9QIWr3T+vfRo/nu6AQLU6ekC+Cg6+vhoTQKinvUA9JBU/jLR3v/hkgT6beai+3CwkQKOQXb21TbxANLJpQHZsREAd9Cw/JppkQPGOOD73LqZARkCoQIBCjkC4wGhAiIFCvYVofkBoLqlAAhsnwJ0eiECRVoVA90jfvcqxW7uV3JNAY4r4P0AcSEBeiZ6/tz5aQNtKmkCApDC/twmpQEN7bT+AXb++fNFjwDcqyEByKo2/VO2GQLPsyT+qIAS/fwdpQJ8IikB/1ws/VXWHQGdth7+u0q9AdOfaQPnpSECaq3pAtpHJQGg1JkBcKdu+h83HQByEur91hlxAsz+DQPbIab9XNTy/uUkNQOo9uD/ryTu/Kg5AwDzahj+PAL4/bNSRPtHZAz+2Se5AC8eWQFB+RD+ESp1AiSo+QCNzxEAYJBhAQkuHQGYGjb8TkY5AKmAEwFlfA7/JBm1AUM92QHEKX0A8V5G/H5WbQFFyY771pxk/h0ErvinmIUAbthHAWKthQDPzoj/G7rJAcFClP4QuyEBleyk/L6cEPkWvdEActqNAZvcYwGVK7EBqCQpATXPfQL5DeECtf2lAS6mwQJc/ej+PVpC/zt7ZQLaVS79OtMS/8luTQO1AC0D2NHhAlzjuv9H2dEDxWDi/ZBlJv75Cp0CB85hA9JqiQOWI8T+7nTK/b++mQPe1xL9gTKS/8s9HwKnDCECBihC/qEYVwB/WEz/Mj2VA5qQ0QPg/NUDez5C98XvivjC7qUBSH98/TIUgQKA2JUAHMZu/CooCwG+EIEAaoOBAEvqnv/bpmEClC6ZAXEndQCtxeUBymdBAZKSSQM2NB8AWiTRAmCCdQJ4dasDbOUZAYi2+QPHCHcCSrIM/ahwSQLHoBL/P4tZATWibP6DTVT827/BAtLzoQOSW7z/Rqko//7UMQL0fQr3QWB6/Y8DDPm7jzkBd1CdAA7pfQAo9tb4p6z+/"
         },
         "z": {
          "dtype": "f4",
          "bdata": "Hu/iQN8H/kCgUKNAOWj6QDkYm0B1fqVAVnbJQOnrsUCR0PBAnz36QNOds0CFOPZA2grMQJBp80Bak4ZAMEPtQGtbnEB00AdBj5CqQNfOpEBmVgZBTyrqQCABCUEQzvBA4XWkQJkw5ECytDVA6Oj1QDRg90DE7U1BO0XWQAGWqkAyU7FA2UTjQILK5EC1kZpA1Zb1QPl4nkCLYbRAPXnfQHjph0BW3uJAVdq6QC5DB0EdLgZBJPvZQDj21kAViaRAUkLsQM1Rz0CeeERA6xupQLoe/UDX07ZAUY+1QFGa+UBIgNdAYXu1QI6NqUCSXLdAD4wCQSWsj0D3YGZAzpveQNsb/UBHz/tAqV79QKRH8ECFocZAYxrdQFNkCEHYTZtAs14FQaXF7kDn4OtA2vPPQMmxo0DmReBANHHQQOAHi0Dajb5AP12rQH26gEAcrspAfcaIQInzsUDF+dVAX57SQO56h0DD0/dAU8jHQJa7pEClevNAVBXQQBunyUDEi/RAL3oHQbnwqUCmeMFAX8aaQJU2gEAGuZtAHBf2QDFhwUBviMpAZnTZQPvK2UAdznJANwzsQGYnlEAFFwFB95bmQDmBlUB+Y+BAe0PTQG/yyEBnne9AeYiDQCxprEDkkp5AXWT2QM7300A9isZAvQqUQFpYFEHRt6JAV6H3QJ5Po0A+bYxAXO7SQI7Pe0Bkw+FAm/gNQY5btkBz7YpAYZaQQAgYCkG3BWNAhPnGQCl17UD/zK1A1pqbQFWs+0DEu75AXmXOQGKLukDYHdFAEbOdQKPd00CEb2JAHdmTQCa6v0BOQMFA4CCZQFH8CEGwSehAHkeuQLJM6ECvltdAwgS7QLcECEHxqalAqsStQDqVwUCBGQdBD4DAQJfC9UAzk19AA6fTQAsDt0Cgts9A10DOQO4KeEBT5hJBmAuUQOmTtEBpi+1A5fzRQAYjmEAONpJAUi2zQPY3wkBKA65AVbuDQHNFx0AJ1uNAjADiQEWi/kBHn9ZA+nTOQBpZfUBc6dVA3o/TQCy2pUA1kOhAhBH1QGw9lUCnFcFA"
         },
         "type": "scatter3d"
        },
        {
         "hovertemplate": "color=3<br>x=%{x}<br>y=%{y}<br>z=%{z}<extra></extra>",
         "legendgroup": "3",
         "marker": {
          "color": "#FFA15A",
          "opacity": 0.7,
          "symbol": "circle",
          "line": {
           "width": 0
          },
          "size": 4
         },
         "mode": "markers",
         "name": "3",
         "scene": "scene",
         "showlegend": true,
         "x": {
          "dtype": "f4",
          "bdata": "P2b4QNhUikBbWIdAY8gcQX1bDkGoyvA/c7Y/QQxi8UD/uJ9AqUE0QEzxrEARRv1AL8TpQK9MhUClo8dASkOzQO3o7kAJZQJB0A4NweqvEEGn/gBB0q+PP7/u0D/AHRBBvn6oQP5oY8DCi5dAf5o1QaVy9EBUVhhBViYOQfcqjkAagNJASYM/QcpfXEDdk/5A2yGMQEq/Hz99qRRAm6CEQPxbzECWICg/k8BnQPblEkEKzIFAW+OmQMAmz0AGJOdAhyPYQNgLzEDMbiI/+M/xPwrs8z867ORAaWWtQOZ/8kCVoCRA8katQIyMpkA+ydZATez+QGyFGUF2PeJAyxkRQetk1kDZxwZBEIS2QJbFKL/wt25A594xQNLf00B+BbtAae18QEs9aT8TJMFACKRIQOxb7UAH4nNACuyDQHHga0AUrdJAxyP3QISFzEDSS+JAyDE+QWYyvEDoUgBBG1gWQQXD90BkoLRAJJOCQKMdP0GH8OVApD0WQJbSvUCBkqRAqe3jP/P6NUEELSw/S+fDQC6hj0CKx+xAa3KtQNPsl0C+P8xACvNOQDcPtUCPvRtANEikQEX0lUBGCvo/GN3mQAuk40D+BItAHM21QN7apkCE89FAqtMVwbaAEUHHruRA73Etv40LaUAsGepAD3n+QHK4Iz+UVYlA1c0/P/WWkkBwPq5Aj78hQOrlHkHHkQZBOlsKQTyKwkCicI9A69vdQN0OzUB6gcRA1lr8QEfHwEAI1KBAyGyqQLCGuEBfC7dATdXpQN7uaEAHLxhBi47GQIH/Z0BOTP1A/o9UQCLPD0GqWuRAJRZNQI765EC6HI5AL6IaweZhxECeHa5AFhjdQAEFqkBwCnxApTFfQE1fssC4pwVBFJBZQCbx/EDCM75AR+gUQLtntkDvk/FApJbcQPx/lEAOiJpA4m2mQGHGqEDjPSlBdIzzQEqwMUF/r+xAlGS5QNBlJEAZayNB7W8zQMGS00CgbthA7bHHP0iqqEB9rkc/qdKMQIL6EkG+pl9AbzvbQAyXrkB7Mu5A93CCwMLHA0HkJsNAtuUGQY3gxEDVvs9AGUrVQJzZyEB+e/dAHLYnQAla0EA="
         },
         "y": {
          "dtype": "f4",
          "bdata": "Z66GQNZKU0A5HQJBoLjiP1z9gkCJnZtALuouwMTi6j9CTL5AjkYnQS/JlUAFovK/PFqNQIsm2EDnXcu+Ob9rQKB4ekBxoh68J5ipPhhNsb782WBAs1EEQdppmUCYiko9ZnMnvg+gccGcOhJAv2FOwPstsz/yNlRAcbV/QDC0lkCDPZG/HH6PwE8Y40Aw2VJA5JfMQMoZDEFdaQVBWG3qQGhilUBDs9JA7Cc3v4Nehz0aMT6/UhsYQBB6mj7ibgu/z9qgQCqU4b8ZRwTAsuY8QE8Q+0D5+AC/AFobv2IMh0Dd8QfA1Pgzv5enmEC4S10/oV6JQLzrukCSLeo/2JT6PcffnECemypAD4VdwB47Pj7HKjdATSMqQa8q9r0fPilA4bzqQNI/BEHS0rtA1V08Pwfazz+Gkoa/xtejQHeFqkAbSVdAsQ2RPiVb+j9kGhO/toWIwMPxuUBWVItAJbQyQAr4WkBbn2g/zI1EwHSSjcA6xAhAODL0QEIngb9ClCK/G1j8QAxYasDVBxPAtqw9QL2uaEC8wANAHSg3QGwsakAbnJtAYcCKv6WjlUCHoOVAqJMFQC/JJUC/89s/9JFMv+oNK0CwK69A7bmvQKwQeUDGugtA66rHPlRcREAbMulA1VrfQBQJvD7x2Zk/7abJPyBt7b/iaijA563QQJYns0BeKky/0XL/QNiPv0AfcyVAkxs5QJJ2r0DZGhg9d2e7vsOsykCoJ4G/CNK7PxdJy79Q2AlAqMzDv6YKgj/83pFAqProPwnD5kDvpwRA6ddHQC9PCUA5EADARE8qP+EAKUCg84VAcQvsQCz/ib+X7YtAtw02wD+zmkCK7NI91q7bQNjSpkAqWcFA0iaAvveT1UBffilArYrHPkE/dUBsFDPAnXxsP3wTQD/VRlJA1WgkQJvffUCBid4/rwQiwGRhG0Bg7Ow/7jbbP0v8dT/qGc0/xo2dv89FJkAyyIC/5mMoQaMDIr+prCxARI7cQAneFsCxzUO/OAbSQHiQ4b0s8mVAGDygQNrm0kC//5NADO5Dwf6Htr8ZyZxAwCXQv7DyLMDZC4tADrDtPUOy0EDGvvi+Gu0EwBvKk74="
         },
         "z": {
          "dtype": "f4",
          "bdata": "ruk/vzCh18DJwbK/c2kDwAV9A8CQVKvA63CwwLosJcBSvSVALAD7v48jEcD0AM7AUeDtvauEUL+wHW6/+IqOwCzexb/f8dvAEPVvwLbQy8BZf4LA9JQSQBjarMAvPvPAXJT0wMYTF8G0iOLABx5JwPjtxMDXydbAPtWdwBRNpsAVErXAlgsSwC/XHD7Xqem/xW7vvqrKEkDzl/m9m8UXv4fjaMBlS0E/O/9YwLzXAMERcpzANkSewJhmUsATnpnA8eV6QIWsz8C2vsvAmqiowBTBHUCI4XDABDu4wCJtjMAkKJjA7QeywKnEssC0u/PACecPv9f9w78YOwLB6jr6wHFAcUCfBJTAub2gwGfK0kDPAa3A7+Rdv5F5WcBA5tnAeOUtvxrREEB4I0XAKLbCwML8KMAF/mHAQqX7wJwBlMD06zDAVBIxwGIH+sDMjRjBj3ETwN182T0xPK7AyXW4wAq63MCc55nAS8mYwLNoFMD8f9TA0h64vvhLfsDqkg3Blq0VQBZ9JMAN5dnA1ss7wOq1p8CudW3AVBbVwD7T/MCebjlAwhmVwC4kTMAPnay/rCTjwLAF3cAwmbvAv2EawRFG2MCorl3Au0dgQIlYncAALvHAWYZ3wIERysCtvbI+IiRUv8uKa8AFdOfAZ3VGwNQuvcBzhqHAeRgEQF8s9r8meb/ApYz9vRuHaL9fEaG/tKFGwPOqJryozeXAbk0XwZdpej4YSNPAM7PwwJJh8cCb9pzATWgIwajeB8GZz2PA2a6ewBZOfz/D59i/kGwhwMX+zcC10szA57qfwAi1McDVyEM/xlTmvnupmcAYwZ/AfJI5wRhkIUAJ1QDBVPOKPj4tXMBro42/34CgwOufwMAxRry/Ij6SwPEHkcBMoI/AwrK6wND/BMFUwqfAvtUdwJ7Gr8CIbNzA6HQfwfQxDsEItWLA0LGdwMLJgMAiP4bA+7y1wIBag8Alx5vAZyvgv34Um8BJWwPBy5VXvsM+HMHfDsvA63o8QLi27sDqGjLAagN5vvoEcj4geZw+byHdwPMLqMDvrUBAMri4wBg8wcCFRYjAJYbrwKJXNMC8D4bAB1KawFDm4MA="
         },
         "type": "scatter3d"
        },
        {
         "hovertemplate": "color=8<br>x=%{x}<br>y=%{y}<br>z=%{z}<extra></extra>",
         "legendgroup": "8",
         "marker": {
          "color": "#19d3f3",
          "opacity": 0.7,
          "symbol": "circle",
          "line": {
           "width": 0
          },
          "size": 4
         },
         "mode": "markers",
         "name": "8",
         "scene": "scene",
         "showlegend": true,
         "x": {
          "dtype": "f4",
          "bdata": "Y5vyPoQp3cBVZ1DAfmXIv3D50sBcWmK+mm/cv6cWWcDEEARBeAEav/cG2L+yPqLAnygmQa9vz7/+zHbAvxVKQVbZAcCPCIHAT4SDwB4wOEGfmrW/fOaNwIXyO8DvLPS/qF4jQVnUoj+QGXDA5eK8wIl5s78rIdrA3RNVQff7br8sjjjApXzHv7LjR8ASuALAYyvavox5YL9tc1fAwahPv5rbw75dWcC9O2NmwDsfYcCjb+e/pP9lv7bX+798vSq/124WPzgmicA1tVfACRLcv+smAcDfXlzATB+xv344U8BHM27AVnfCvxo2JUFYHNHAkIWnv9hygcBKKilBBA4lwLflZ8BlB5jAmjY9QSPkA8B63ci/39ocwI2If8BURhTAcjE+QUP7ssCN8lTAlKj1P+kjWcD4mq3AEbaMv7RMTcCCqW7ALjsDvwVRVsCXGNS/ipy7wAroJMCz1ji/5XlPv3pFj8CGeLC/q9OLwB0XyL9Ncxc/QH9AQXeTUcDH/PdAAvjOwKJEsr+bUJXAuqJgwERQMsDShDHAgnAbwOBLQcBIZKPAFDIfwLlVU0BXvcVATloTwG0Y9r9t9qjAqhJGwBcFVL9jI/a/BUZMwLuvVcDAHR2/CRQEwAzMF8Ctb8K+RcaUwHSW3r9VcdDA9ndkwFXxCMD5DZvASPH/vzJltD+TJ9K/a6yivzWPCr9hrITAry87wDv1ecAfKifAl9ZowI7xXL/0/1/AdDkEQUMYrMChsbvAjtrqv5Pf1cAj8zLA7L8bv20RoMAUMky/ieNlwDJNs8D2KYDAWK9lwMizZcAHSM+/RWVOwKaw5r9siZ7A8sVJwAgKnsDoNg7ArBCXv3efVsBgNCXAVn0dwJQ+O8ANh9m/"
         },
         "y": {
          "dtype": "f4",
          "bdata": "poiTQCCbsUBqrnFAiWbeQJzgNcHSAsVAz5PhQPlS8UAk4oHA7VTEP8v1JEDSzJhAoH8VwHH7QkBncr9Ayio2wKeJskAc4/VAVm6YQNpXHUG26CNAGE+tQPezKj+IT9pAUJ92wF3DtEDZDQRBaNTOQDyKiUBxh5pA0jItwDtuFECvuoS/DeePP+4W3EAaSO5AJ+4vQGZdB0DmVb9AiZzqP08+40DF6N9AocuIQNms10DD/YpAAr2kP1h5hD8nRsQ/WFZtQKEilT44ocFAXbINQCDOyUADJp1AR9oAQHICwkDF+eZAsPtFQLZILMBpQTbB1GQ+QMHXRUBLrhbAXUYBQe5ls0Ay4TxAacpkwH42Vz+7zdJAZcNuQLZFo0CaBqo/n9dYwI8UyEBw2cM/JMp6QN5u00B4tqBATQxoP/iz2UCE1Ko/fQCoP10GwkCCOt1AivW7QCLajUAIC/BA6xX7QC1TuEDYsAxAvBKXQDPhS0AdRGpAFkhFwJEEm0DnKSBA+H6IQIQ/XT+vLD1AdgbVQB6iSz/04atApTQsP0ZzyEAOU7ZACW/UQKjWqEBuf9m/bWDHQDa1zkCd+LlAlHEIQIAV8kBEJJhAVmZ0P3d/LUBnZrtAys5FQERMbEDEuL5AhOJDQAN200C/b5BAK0miQOUDrj+VZ5lAIZOcQEWdtkDJBhpA6mVlQAKwpEDSGqc/FE+9QB1Bt0B/EGRA7oGKQKy/DkC4xYFAVO+BwHKq20BWRrhABOx3QEyfv0BH2TZAxvG0QFcQ7EC9FgBAAR4CQVcgi0CfFqVAGHDvQBC+QECBE45ADknpQJqbpkCfFxBAJZ0sQDo9C0AdwcZA94bNQGp6u0BAR40/WiIDQR+weEDNSMpA"
         },
         "z": {
          "dtype": "f4",
          "bdata": "K+uFwOzZMr6tTKfACik/QE15dcCQb88+1WqIwPNXP8BYbVbAdbrgwImQfcC1FvM/54yMwO2XpsD3Z8A+JtGrwFloMEA2ECrASECBPpZ+lcBMo7nAJ9ZkwAsJ/sDE3Y/AOwGlwHX3ccAKiPY+zjDbv0uHr8AvDju+HdmIwLTcrcDEegDBQ8M1wNxNhj9Jdn7APyGCwDrJBsF48g1A9a0JwTKioMC3JKXAkc4TwA4rML7zocc/3tjRwITNjMCyULnADi0OwNFBk8AlfJk/2pOLwEzqCEDKaIHA/IL3v6vSej9XV5zAR3yyv41flMBujB/A6Gf7wOjIQMCDLIvAN5N8vwPrtMASuWXA1/+IwJZ8BcEWasPAxlz6vl0PgECkdNLAxs6RwBeVJcAVDtTA8WEYvxpt0r26ACNA1D0MwbAfqL/M+cjAAipnwMDd9j9K+5PAtIc2QKS9GL+T956/YiKfwEmxTMAFwNu/RF8UP6p0lMCiSgfA49imwAjcjsA33tVAZrwpvijhCsETQ07AEhqBvgO0/MDeHVe/LeHnwBbTe78zVrfA/SC8wEeKZECqcls/1+OMP1WsHkDABbfAt22gwCqhsr8LFi1AlurowGzayMD6f0a+yB3NwE6LrcBL3t29yqaEv6IlVsCwvbi9jdhQwMR1vsD3RIw/vTBIv/W4bcAfVevAhNKUwDi0scDQd8LAzsaqwEbiBsA7HafAjgkZwIQcBcHo+QDAS1FfwN+2179HjypAXEm0v3LFcD/RFM3Aya26vlp57r/uFarAYfJZPhZaF0Cem2pACnGRwFz/qMAcwaPA6B9JwOW/7b8pwZPAWOW6wObYlcBkeb3Acv/bwISkt8Du35nAS8mLvx/jWr9NCmE/"
         },
         "type": "scatter3d"
        },
        {
         "hovertemplate": "color=7<br>x=%{x}<br>y=%{y}<br>z=%{z}<extra></extra>",
         "legendgroup": "7",
         "marker": {
          "color": "#FF6692",
          "opacity": 0.7,
          "symbol": "circle",
          "line": {
           "width": 0
          },
          "size": 4
         },
         "mode": "markers",
         "name": "7",
         "scene": "scene",
         "showlegend": true,
         "x": {
          "dtype": "f4",
          "bdata": "ud8rwWowNMHo3lnB74ZjwdTRQMEVT1rBuRO2PiEDTcGWgAXBfw5fwfzmRcFeUj7B8DgKwVLGPcHQhivBA9qHwRatnz4BbVHBASJqwdb4e8EzC3bB7w9PwTzRYcHwTlbBUtxWwaBpWsEaTU3BWurWwN3kyMAGHkPBaz2zPqiQLMGF7k3Bl/0EwXNYTcEiADzBkoc0wYP2tsCSUXLBZ6xBwXJlZcGQK2bB5EFmwe3EBMF2ZOzAV9tTwcfXTMHI1OzAbhkrwb7rR8ECxDDB6PNGwbHlsMBU+TPBWt9MwXD6ccFKbHLBkUjCwKH8d8FjGPjAQKtHwXUZSsH9i+zA0M5qwcJYR8F95WjBHMhhwfnlVME/yYTBE7s8wZtNbsExStrAtrVpwYQPwcBOLl3B+rlpwRaN7MCAQTrB03NLwYhJY8FHJUjBE9nhwFCRmMDV4y7BhF/Fvc5zTMHy1u7Aa9LzwLYmTcEvuU7BtQg0wUUlh8GewHDBr7pgwV5eMcGdQCzB8B3VwEB9iME2TFDB0jdUwZmBTcFuN3PBwrNewWJCWMHcbn/BF14ywRoZKsFMrUbBioNPwZpPQcEmiTTBIbJOwTL+YMFr6jTBp1hjwXtlIsGaYUvB1GBgwZMPb8HelCrBsqJMwaSposDoNynB+OthwUVRTcHZ9zvBd15AwYACXsFkCQPBeUMvwUo6TsG2GD/BHx1SwbOEUMH7ekHB/tQ2wY0IEMGfW0XBVcA5wezvhMHwMmvBdJNOwc6ERsHBtjHBmXHtwMYv98BYiS3Br+ZfwQcThUG8j0bBwdCHwZ51Qz8LXl7BLWVTwa56w8Dv4SjBQa9mwZAIO8FIJkrBc8gnQRxCb8Ef26PAMo5YwdP7SMFP/TLBOGldwd7LO8FvvjbBU5xLwYtjtMBhNgPBJ9dYwdbDcsEvdATBYd0BwVMTMMEreFTBJ8NSwdsfMsHRd2jBrRQ9wb6lQsEzMXjBncqEwac4MMH7lDzBYQROwZh178BR323BpxZWwTYWRcEKNGXBkfPOwCBDLcFbnyjBkMbWwNMm0cDGY37BE/pIwT3zT8E6xuLAHsZPwSvS5sAlMzrBFcgawUMEP8FoGg/BsTP0wIAVcsEaQ2fBmaFcwYSkPcGrRUzBfbRXwb2lYcEGBjzBPwVSway/RME="
         },
         "y": {
          "dtype": "f4",
          "bdata": "CpeJwA3gscDbt/O/H6FXwKTGWsCtawM/OlfowKkV1MAQAcW+i3ZDv4tyiMA2dezA0/cQwfU99L9X/APAt1bovz9H58CFJsvA0RlZwMu2tb80dMPAdMvIwLtq6r8pqsHAjKMjv7nL9r8ge4q9dSRVwOavEcBT8XS/4/XnwNFVD8AprAQ+IQEDwax84MA9DNy/6cNIwEd6o8ALQNvAa2srvjzljMCSkYnAMU8sv4iF5L4qF5Q/BBDSwOC3p79fCii/in+1wOQfgsA92JzA9IDcvhIuw8AEIBHAYAZjwDJ3G8C9od3A9lvPvz88H78pFvW/kPyXvztPAMGW8aDAVvKGwNDKLMBpEC3A3inKv5xWZ79qu0nAH83awG1wF8Cw8SDBo7VPwM7KFcGnmejAZ6WlwKH4XT/4bJPALYaDwHk1nsBH7MLAx2gAwMSNI8FVkBvAmJQKQV6n1sBPDBy/y8cywCa9WD8lt2U/ms9MwCN6IcAcwSXAtvquPbzGQ8CUnVjAqOQBwKYMKcCThNbAIhm3wNCGdsCXBYrA6bQ3PBu0ND8wQeG/hYd2wM95lcAPmK7AewYtwL+Fr8CV16vAGCHpwMDjNr/6lSbBs1Jev5h3SsCnnPHAVCDCv7EHRsAMFC7AehSpwC+Ks0APrIzAZNbCwIOpgb/fYww/G+UCPzeLlcCeANjAx6N2wES52MAe3CjAASNvwKBLAMC9Sz7ALOeuwEFGgsCjMarAupYEwFQBDcC6smjA+AipwF9Br7+Ub0zAOEIowOeTB8DBOq/A+YPuwG1/GcD8xyPAujkewLj+KsD5bHrABBKHPg6qGsEzdxHAvmBmwFKGM8COL9fAyka2wLRHE8BUws3AhVUrwMnELr/rLGfAHoXpwGtxm8AfjiTAlJvAv3RAGcEbkdjAunp1wOO9/r8pmaTAxOkPweH3vcA6WXO/6weswOCmi8BMpCzAU2CBwJaFUcA9ahDAboZIwMmxrcDJkpXAoX7AwO7Qzb/SshDAI2a3wO1JK8CWloM+DwwIwZTzF8AvLf3AaqogwRI9QMAM9QDAPDEKwP2AbcAUiVPBcsmRwBH6KsDHXIPAxKx6wAsxXcC6iG/ASprvv09MGcBT/CfA7M/hvyFrd8BX06TAO1DawFk09MDRO2nAQed6PZSY7MA="
         },
         "z": {
          "dtype": "f4",
          "bdata": "vRybwDc1IsHF+ArBaxJ9vxtWwzs5vnTAggIPwSgvOsHYpAHBcziHwGSTVL/NmwzBR4b9wNUXSD/A8hfBYBciwHqvDsHlIxDBWLXCwAolesBO3wXBDu0Uwc+zBcH2JJfAqTqZwDWGG8ElQ7jAtfUxwXbRDMEv4rTAb+YOwaa3GMHXcIvALG4AQFVQ0sD3CEs/Oi9Av6flsr9XwwbBwoGSwDrm3cDm5tHACI/YwJRfA8GadSnBYY8RwTPvpMDpSCHBN5OdwDzLKsGaJ4TAdzgYwfEaub81phDBTvsDwejWQ8CPnvzAAH4MwQ62ScD0VSfB3JQHwWfdl75KL+G/3Yz9wO1aesD2+F6/08kuwZwTh8Dn4oTA1n4awb4ntsChHR3BVibPwL/PHMGgr6fAGPP2wKFvKMFKijnBPV6qv/WYucCW47/AJ/cXwVcaKMEZJS7BsvE4wXtgOMHG0R/BDODnwDKuhMBhWIXAsnKyvlsgL8CShIPAOadkwJpeRL++pQnBpHMSwUniNcD+IjXBkDz9wCw0BMEgrrnANZ1OwM2DmsCn2KHAurThwAXkksB+u0fAI9EHwSSDp8C1YiXBFwXrwDC20sB4hio+B1bYwNxwtb+Qh8jArw8cwcISrsD2IQ/B/8vYv7rGvsD6HIXAD6oJwfGny8AlP4fAFeSDwKyNA8HpgT/BWg/xwOuWK8GGFQnBUeXuwFv1HMEcchLBaeCPwFWTsb+L6DjAuL4MwezUOMCeZcLAHFO4wOtpv8DYfzLB3rX1wKlgKsEQZ5nAeZsowe+myUDHrITAvPMywO/T6MCEQw7BEYuIwE0SGsGjxQfBUi8OwRUoDMGe1ELBdnthQVDctcCcv/XAAjggwKeVFsHTn2zA0gemwB5pL8F4OBbBroixwCFtKcHRlj/BXa38wB2Sq8B0TeXA7EYCwYukisDlQazA6BXCwBlxCMCWSBy/Au0lwfr9n79aU1bAU3+DwD52psB4UTbBM8CEwNGMF8Hsq+W/b8vNvjtjRcDgt7zAgGcvwSjyL8GDf0XA1m8cwX+DJsGJvZDA6W+UwH/pFcHOBR7A5PgAwYwFK8HQqdbA78efwE2Mab8ioKm/Us8ZwYpgYMCeywrADukMwXxJMsEPH7y/lGwrwdadKsEpsi3BYravwAy3V78="
         },
         "type": "scatter3d"
        },
        {
         "hovertemplate": "color=4<br>x=%{x}<br>y=%{y}<br>z=%{z}<extra></extra>",
         "legendgroup": "4",
         "marker": {
          "color": "#B6E880",
          "opacity": 0.7,
          "symbol": "circle",
          "line": {
           "width": 0
          },
          "size": 4
         },
         "mode": "markers",
         "name": "4",
         "scene": "scene",
         "showlegend": true,
         "x": {
          "dtype": "f4",
          "bdata": "+cDvvwctxMBNBtK/L9cBwZJnuMA6B709/W4BwRYOo8BWLITAzk+BwAkcf8CwG7e/XYg5wbG6i8DaY7PAYo1qvxCbb8D3UWzBvUhnv36Gob+uln/Buezqv040bb/tZeG/sYDMv82ZocDCs0u/+m6oP+NMXb/qWd3A0Ab8v8ThyMBniYTAv6HCwLTRNMDN12HBCo7CP06s6L+w9Ny/ngUjwRxav8CyKbC/iA/mwFJzVcDLJ2a/gaWwwP1iKMC8oDO/GZJ0wJ6jO8D4jl8+4YatwCZluMDhpIHAxjtEwIdIesA4agzAyv4RP3wI0b/kWQXAiB6GwFxI78AnNEPADohoPimncsC2mww/46aBwIbcAL/0TuLAy9QCwOZZiT+70FfBTbz0vzJkecBBHwq/rZFFvxzbecBayZY9MMm6P0g0Db8JIPy/UyTzvzcjJsAjNibAZ2XCv4sYzr8VmlbAJ5kmwIQi+L+O4Xa/EVoBwMA8QMAQVDC/UBIxvwvApcATmqfAFGPHv7KvEL9QOyDBnlnEvQgKOsDgIQzA02/kwJp8AcELEYk/4z29vs47ycCb2MjA/V23vymHlsBjn+/A2oG4PcGOiMAFOoi+Uva1v8adX7+uvanAalNowNt9GsDmqRbAOsNzwMdsjb+E7M9AQEuRv6A6mT8cc/TAMWmRwJ+JMsCYV2vBKSwKwL0OSsDJHe/AB/mUv3CVysDAHnm/ad3CwETLDMCbFVbBfFpSwI873cCfddi/Cnm7vOicFcC4YzbA556nP1+LB0Genh3AZ9gtwJHSxsDSpEHAlJJQwDPrjMCSWkPAkFaEwKwEkr7GHF3Aj6wBwa+Fm782GYrAX/uTv3mTMMBGZYDAwWz3wKDEAcD0tgbAOfSCwMmyGcBNqc6/w+XbwDW8kcBuD1DAzdH6wDMs8sDV4kXABPAIwBU+Z8DJC7vA1BGkv6Xlg8C1o87ANqsXv/T0j79Ms2nAxPOuvwUlzcATr9HAgv+JwAaCKsDPEMXA5As3wCcnjMDAXt3A7CewwBJ2VcBpYjPApd52wA=="
         },
         "y": {
          "dtype": "f4",
          "bdata": "i3w6wYNNXsHlaRDBsNdnwDIzNcFqDHbBoXTPwP1kfcESeBjBAt+BwS+EXsHZCjrBgXaCwNdBJcFNa1zBQ44xwSRoG8EMhlXAxHJRwUrjVsHtBYNA30LlwBp2K8HiBC/BBPknwf//R8H8uDrB9YUnwb02MsHIcVfBlbBAwXWsVMH+xOvAygVpwR4ZZcGvKp7AKiQxwQNgfsHlPnvBcwdAQYvnNcBCUkjB0RtBwcqAAcHnUjnBJwF2wU0VNcELgEzBGPU5wSAG8cC6+n3BgVQ/wVMccMG53RvBQFk4waA5ycCfwEjBANA4wSKTLcErbmjBptFZwd1yRMGrHwLBatNNwdbDy8ByiIHBiuRHwQ3VYMEBvkLBe0V7wfpBNcHMNK7AaorxwJFPR8HVtk3BbNllwdd3ZsEWdCfBoz8xwY+mM8FmBULBGeYPwd1YLsGqDHPB1TrZwFqEL8E4nlDBV7v6wHiLDsE4iSvBxBkiwV/LgsE4BTDBLeY0wVK/VsGkfnbB4akpwVi7Y8Hv6SjASadWwfcDV8FoBz3B2NA/wdxrzsBbDzbBBtNfwY34k8Cy+y/BDK43wX+yYsEiECrB4ch6wXS3hMERSmXBFr8mwb5FUcEHX1PBco3kwJ03JMEJaRXBLxNGwSrIMsFCv98+gwlWwUv4L8E07UPBnKLfwJvSCcF9WYXAFNdMwd4y+MA+G+LAmdMtwXf0X8H9rWXBl+dnwdOWGMGEcLDASDrYwOG5L8HUhInBN5E8weIVJsEEp2PB5qkywWeqgz9RynrBhmX+wEJTSMHybFvB6kxRwRqpK8G3jVnBxVoeweODdMHxlnfBxA/PwOBpV8F7/ArB4d9OwWcuI8HkOB/BaIVNwXab7sAfTn3BW3tKwUl8gcHHuRjBLbSxwKFF3sDlMxzB8jg+wb5xRcFuFxzBAPLwwNrkg8HAIDHBQ95PwUzaPsEWSVXBbtNGweShZ8G0eQvBW3sXwbxmbMFLvljBLOsjwWkW/cCRkFTBpkkIwU3LFsGEilvB/bZ1wTS3eMEbYCXBIGhywQ=="
         },
         "z": {
          "dtype": "f4",
          "bdata": "zxj/wDThh8BAKys/3ZA3v3TIA0CXhQLBn9xsQOQnkMDCM/4/ATY1wK3cx78DeczAmlgQQBlykz/fd9LABoW2v8dGFkD9z1s/ZleKwBmiLMFr3VxBIjANPs9vE8EVs8U/c8UdwJPBs7+dUVm/PeHxwDGoHD3HiY8/pp2uwDCZKsDPe90/KhMwwCCyf8BdqP0/mmxjwL412sBXMRbBJ5NPQEU+BcFMnu3Ag8WAQK7E776azxLBA3g+wNtICD81uIPAtWgrwACvkz/uFQXBuAgxwLoq6r/gFaTAz7xOwBzkYcB0mfvA0aF2wIkCaMC64RDB19WsvwpsVEBO7MTAh7/xv9JCXcDOMwXBvvwWwNGbvcAQb9Y/qiTIwE1fdMDFnuQ/ueB+wAoYfz8iN9PASlYGwT3e279r9grBEllowGFbXsDTdvfAIAawvpB+GT9AHl/AEtnFPWctBcEOq7w+ZIqBQJDkxr+K/wTBmakZwQ+KkMCKWxDBywMUwRx4FT8NOhnALJtmPk2lhMBinFQ/0pgSwYlqJz982aXAnZPYP76ybECsocfAavKJwFbMNr9ORak/N0XGwEHqdL9g6ZU/yZ4EwYnILcD4S9XApYx0vo1ZucCK1yM/mPGpwB5xQcAQJsjALAg3wEaj5cBOETlB+CswweHw2sCxO6w/aFhbP0Fmzr9e9+Y/wazjwEPlxsDygWg/weMOwY/NRr+JlwTB4rc0wK6xaj8N0s4/0QypwDucuj+YCwXBsFx9wFzoQMAkN5XAjsxkwPa+EEGhkH7Amm97P5mXAT8no6TAuthSv8VrHsBzPKXA4FG4P/WdBcHwAAnAj4VtQAwhPcDxDwdAXvK9v1eRA8FxPVdA29SmP/QBhMAQnbXA7bmAwGRNPMCoERrAGJnAwPF5Wz9eM+Q/WfYtQIkFT0DDBfI/MK22PgfIWcAfCdc/Xx6bwO1q978dgDQ/BRgSwBYyCsEnUynA3nouwKOKtr/bbU0/mOFhQCBVgECsS4i/j/svv4RDBUAoS5y/EFtxwCcY+L8f65c/kaMCwA=="
         },
         "type": "scatter3d"
        },
        {
         "hovertemplate": "color=5<br>x=%{x}<br>y=%{y}<br>z=%{z}<extra></extra>",
         "legendgroup": "5",
         "marker": {
          "color": "#FF97FF",
          "opacity": 0.7,
          "symbol": "circle",
          "line": {
           "width": 0
          },
          "size": 4
         },
         "mode": "markers",
         "name": "5",
         "scene": "scene",
         "showlegend": true,
         "x": {
          "dtype": "f4",
          "bdata": "oQg1QHjo8b+Mqdu/5lSLv7wei8C/AP2/aRRbQJkECEFFJ5pAnHVmv+1vL8DsNMg/G+u/QMvMMUHMPJRA2DsuQbuQy77BujK//WIGwH8ZA8D91N6/mIkKwN0iNUD9H65AeTGJQOniKUFq5UJBKhgcQeqvhD/ZAIg9FMjIQLEziECmcOm/2YgwQWvTCkH0erg/IInSQLBNbkCoYO4/HB16wHCYHkECkHxAHc9ewLpcFEBfRxNBx0luvw2yN8AipJhAhyjgP/y2ScDDXOU+1g9NQCg/wUAgoG3AXXwhvXDelcAEPYjAfcJYwB+9q0A0HWTA0N5iwGr+hT45fYVAirGXQEyzS8AY8vFAvrdAP9aPPL8qBSdA8k9AQbFpNUAZHLy/BzZKQL9T5z/DXjpAM5hbwFz+hD7zyqNAUgmjwKWzdsCGeNc/WUOXQCCeQEG9Z0E94+E5QQBuJ8CSJfK/Knp1QMhwGUALW5u/l1+bQSbmWEBWFh9BKIhzwHUuL0EqE5vADs2kwAoz6D/EJ9g/XINUwNVJP0CvVj5BdiysP/KnlkAtij7ASO0pwO+IWz/S1WNA7rwowLQ67ECcgCZAd/OGQNWUXD/EFANBbYk2QI6Jl0B8IbDA3oEeQKHnPb+rAalA2GSmQOBIbsDn5dpAoGcMQQBMQUFVOBTADXIJQHGCE8B9iSPA+L0zQNV9K8AQe8o/P6mXQD2wwUCXmntAfwARQBUciT8IjjrAtnskwNDzmkBgfB1BY5YCQf3QhkCA34O+CWdqvqBiUkC/Fls/rP42QGZG4UDEwTVBA7gcQKsRRMApBwFA6t43v7tUzkD7Eva+8OzEQHBwoL+KPixB5p2+QEYuiECpwsFAfKsiQOK3cUBZLy7ABbRCv9oNkD/iskm/1joYQBwSf8DzHIPAi1tAwMOHLMDAjXvA1a4bQeF/NUHq2ARAKagBQYWU7j1ge23AMth2QOl3NEFdNW/AoYWRQN/HsL8MdjnAXrGSQD6m1D9AJvZAUKkkwCnTLT9jKQY/KwuEwIuHMMA="
         },
         "y": {
          "dtype": "f4",
          "bdata": "7nXsv+iNSD+pkk+/IHx+P7ZOiL9chnE/JYNsQJcewb95wAo/hfWwvwwb0T+rJuE8TCI8vhiUhr5A9VtAPYqXP03Io76YXag+aB15v9ECVMH8HAS/aw0FQVT76r/ehak7KXYeQF7xDcAjlZDAOFWFvzwXgz8mJOs/E3ojvm/AX0BhPglAQKlcv7xEI8ChM2lAtBVZwFgi8D+kDZS+idoYQPy4F8BQkXNAvHg0QKdr+j/r/JrAoWjav+ramz5wCT9AH3hwQEWfxT5VbYlA+rSkP1oZAcCfFCE/gW+aPX+ZSECudQtA4rH4P0FjKUBpMCU+Nsi+PtpN5T+Lrs4+MWdSQNS7lT/OE7G/vrtxvxdZFr/nPbO/Nie3v+Rfx7+G5qk/KaGSv8OkQ0AWNdQ/B+AaQLUiubwQkFBAzm9hQMdb/D8ZBwDAxcXOPX3bsL9rmvu/stNav/ok8b6E5w+/E2VQQIFMsL9AFCu/WJqCQDeUpz8m1ds/hNn8PzP8+L33f4i8GSllQHJncj9+OndADJTbP/5WJr4ygYy9jg3Iv9Q8QzyoJBZATHm0Pw8/cb+bGFtA1Z1zwJO9iD/rd+K/xzhAQE2F676QbVO+pxeBQH3fVUCPF92+me4wPyZwoUBp82NAL+1hQFh7BUCHwmbAvIgkwAiizr+2Bas/w88PQE8RfD+Ky2rAw5nrv9k0Tj31DVs+LM4eQPMmvr9PY3lAsERWQDHRCD866zS/yqkUQKBowT+hXmy/4ElXv4sqD0BlycM+0FYzwEN7H8AbdAi+9wwZQPDVwUAEygzA0RiYP87LAECZoxC/T0hAPnOMu78jKOBAr0Dcv85hvD+j0xTA5tb0vvLyCz/KKfu+wi09QJwqxD85esU/rp0PQNZrQL9LzHs+dXfMP+N6Dj6BqxlAZOgXQPsmwj/JZ7M/dqYqwMYZvb/bDrpAbafev9U05z9fOk8/LLqbvHWmRL+z1Dc/IskqvjBREj+iI68/D5X/vzR3gUBFqbe/POy0PgLEv78PHYdACf8iQARt+j8="
         },
         "z": {
          "dtype": "f4",
          "bdata": "a+aqv3++5kC6pRVAgxmMQDkEnUCQK/dA86WjQL6ZjT9wd4W/MwEjQIxnS0CYxrG/OiKaPrH+hr+GCEFAOeprwDQ6FkBgff4/riuDQM86LcFZpHvADkNrwC2mir9Gfic/eYb+PwjGLcDaRQfA76sMwBJYSD+o5wxAy9c+QGECN0B7U8ZAMiUdwGzGsr+wOA9AOZPVv+BlAMCMXCVAlvvWQCIIQMCw8TlAz/nXQH1vHECknLvAaF5CQMmQ1UCc64FAY8dbPwuVw0BcnGtBlr3owHEdaD/w+clAfiIbQMuolkCJXc5AL+sGQef/vz/SvVxAz65vQLcDEkBxONY/1BFQQFtr0EBMPPU+leNRwMsBtT/asRhAPUaRvzvk+D62YOo/rrFCQFpAE0BSawXAGuPEQA6zGkCNzuS/+9ScQAy8n0DROzE/j3jBvh87KsAw35g/pf02vyWDGEBmBSVAR9xHv0d9DkA6Yuo/+l6FQODP6MBXTPW/yZmeQENzcL9BU21AYwOeQLrPDUC5Efo+0wadQO7+xj/uIRrAdcGTwAF50Duro09AmjRRQHlUd0Ae7BrAHpCkwHgb2L/lMM89WYErv5JgbUA0rzs/6d2pQMRXh0AcBDlAcFMeQOv4Z0G8pjhAhkN2QIipA0HlCua/nFa1v7dNKsCNh5ZA66ciQKzVo0C6yKjAj6xevk6qlEBj8CW/6RCXQJiJDL8Xg0RAdxcUQDMOCT5IkfrAjsjxQFLPIUA/VRbA8u4rP+RcVz9eiVBALbuhPvFtxL/yPYlA2A6HP1XQ1z9OsyrAkP1eP9pwa0BOnC1AxLaYQDP0hkB3vXnALei6vq4UjkCMASHAy5bWP60e+z+gzfI/zF6LP1KB8j74McJA7fuNQBRTGsATIs5ApzBuP0rloUA5kO5ANsDbQCUl90BFrbZAGHQNwCbdHsBHYmbA4D1aP4UdFEBxJsBABEpUP4tdE8BkaYNANI+cPrxqoUCI1qlApukFwTxG50BsUfo+gPAGQMaCj8A5JeJAu6fsQPmK5UA="
         },
         "type": "scatter3d"
        },
        {
         "hovertemplate": "color=1<br>x=%{x}<br>y=%{y}<br>z=%{z}<extra></extra>",
         "legendgroup": "1",
         "marker": {
          "color": "#FECB52",
          "opacity": 0.7,
          "symbol": "circle",
          "line": {
           "width": 0
          },
          "size": 4
         },
         "mode": "markers",
         "name": "1",
         "scene": "scene",
         "showlegend": true,
         "x": {
          "dtype": "f4",
          "bdata": "3H5YwZjtGsHp/cPA7M4zwdS3EsEK+z7BZexbwdG7GsGYFz/BKykhwXB5IsFcXw/BmTVVwfD/WsGsCk7Bw73ywOlOAsG9AkvB6W/JwIR/Z8GRTx3BIvH6wMOaW8Gcoc7AIplLwa4KacE+Ol3B7tJVwf43fMG/r3vB86v9wCoiNcGsoBnBdAkGwZZ5IcFXIi/B8p8uwbKpTsHqydrAFzUmwXv7z8Dl5TbBSJMKwbm5XMHdKBvBFy40wa11NcEKDiTBBQUxwWVNUcFgsCzBZK8ZwdO+QcHCpSLBlUNFwUJlBMFsHGHBkFs+wdNjWcFn0zzByUlQwVzBR8Fj30XBeUbkwNOiEcEiHGjBnLeGQJdlG8H8OgXBHF0JwRgEX8HX783AZxlFwSSqQMG0CjXBYpABwQRnJ8Ead0vBlPTNwNPuUsHr0TXBvBXMwD0uz8CsNyXBF+AowfpRH8Eq4jrBZW5IwX31TMGORBbBYQhWwQUFMcFhdtbAZdUpwS2gJMGK9kjBb4s/wfAMVsGLOiPBQSlcwYfVNMFUxVLBUgsFwaQPSsF6l7rA80FEwUfnTcHirenAhxM5weQuG8FN//LA8/FIwaSvFsH6zlXBllBnwWWaOcFeXEvBwvwGwTUAJMEll+rADmUVwVZg6cApti3BwsUewQKr/MDtwtLATJBawSHEQMHWwPbAfLJHweojEsEyhVXBfY4JwTdbScHakydAhZNZwUVVQ8F9lsTADHZtwUv2WcFQgmHBtywIwTZSPMFrPBbBcPUKwWvSAcHih3LB8uMJweE5VMGr3QDBy5xxwbO3VcHEozXB35hIwbJrPcEitdnATZRDwTqZ3cAP1BfBplU5wS9JA8FxcVfBnXIKwW0QacHb4WnB7ttawUx8G8FR817BO4lAwTrxPMEMH0vBy1tWwZHPD8AwsRTBe+pbwdNDMMGKYATBXNZIwcmzXcFi0ijByc9Lv4M5V8E7DGPBV5RPwSrtK8GEJDHBILzNwF2yZcHlTgDBYCDtwNM6HMEL4AXB1NMmwVbBPsHCSATBjhkLwSHRSsEEteDAt6LzwAjTCcEo0eLA6QAGwf34BsFiWEPB"
         },
         "y": {
          "dtype": "f4",
          "bdata": "4jYmQKmiGEHjXXxBfeMiQeVPYUE8xzBAR7ubQG4kH0F2HQZBZ5gOQQcMUUHVqWBBDjLFQN3ttEBvH5lAmMMpQa2IT0HA8RpBp79vQTpIvECnuTZBrtZzQRFkAkGeR3JBZ9C2QPdidECJBptA8KdxQOm14UAGJeJAQRpjQYW+E0GY+0VBIVRCQYhYKEEHpAdBWuXlQMCfSEBbVVVBEAcUQVzqZUFmic9AqmhPQeqQo0BRJlJBc4GZQOcVPEHy0j5Bn5coQZ4twkAXjrxAoAHqQLbf0kBHzoRAzWsQQfs8akGpsd1AmawrQdz9gECzPSVBmUr6QOmm1ECI3IRAjeSDQVZfWEHzTpJAs8y8QA99OEEDk0xB0RE/QSivPEALlmNB3G70QMQZ10AJQQ1BsMNoQdnzJUGRNdJAYxlaQZaXW0CvjexA9L57QQzDSkGvWTxBalCaQJpP80DP/IVAQDOmQBFL7EAOXRVBis/sQFq/FkELQ4hB+PbmQCrYDEGv9ZpACmbEQGh2jEDuxztBK4GYQJHsMEGmp5pAJUlkQSA3ukCPBGNBc1oIQaiwBEFvfXlBYwKTQF7lVkHBsGhBh76rQI2Z9UALYqFA/AWVQKY09EDWQ41Aby1TQS7EFEGLeHBBZ1/sQH+ZYUG510JBsQJlQcIFPEEwe1JB7F2cQJooKUFLHBxBEYcBQa09D0E6IttAm+ptQeyNqkB3Ri5B+LVlQLIZpED212VBINx0QOCjA0GOdaZAKCBCQbOKI0FgZBhBYVdoQSfIPUHGR39A95VxQZEygkDQNDZBUhXUQJ5H7kCNGNdANKa9QGLIL0EAlX1BErqtQGzudUGDCT5BsVmLQJmWQ0FSBZNAGPZQQUuEaEAIYHRAom+HQLAqJEF2kEZAN8rOQDcdG0GPyMRA0v0rQJEsm0B5OE5B/o1gQN3J5EADky5BGn4VQd2wsUCuJ+9AyOmlQPd7w0DsanlAwiLRQJfr4UDmcgVBvkJwQepWmUAhTnRBiYt6QbD4QEFFvwxBuLDxQNuEJEF3PVdBIZ85QRbIE0H2AnNB094cQRp5R0HguHNBieBwQbXPXEHCpqNA"
         },
         "z": {
          "dtype": "f4",
          "bdata": "t/eBQRBe3UByUHFA9WEJQdN6xkB6vDdBly4XQS9d00B1CQBBlLntQD9z1UDbR9xAWdMRQe/KLUHWWVBB8ewLQfoso0DpWQFBbyl9QCorDUEVTqlA59moQMcvHUE2Z5hAnP5lQRYnXUGLLl5BoD9mQcoPGUGmABlBJHrCQNS6AUFeN2JATvzJQD81vEBFLyhBx7PcQLuiPkFnOatAChAQQc2QvkBoA0lBJqrDQLTHGEF2b8dALLtLQZbt3kAI7MVAWXH3QHc4EkEENCFBGeosQe3UR0Ei+TpBHiTMQKhin0C9sCxBG4/8QEHfOUFy/ctAX2MFQR6nEEF0/VVB1e2MQDU7ikANC2xBT6gCwemfp0DOjY1Ajf0HQVRaaUHJGn9AkXXOQHOWWEH8l+xALEs9QHHWGkFUVR9Br6zOQIxvYUFyrRFBnyKLQIyj3kCIFNpA/7lFQVgsHEELBwlBo5ExQatqNkEiigdBt0Q2Qdvyw0Amw4dAmVEIQZlu7UBlU05BgfYZQVDSMkG2ALZA7WEaQUMw90AlNFlBnMaMQEVtEEHEPN5A2O/2QCP6/kD8GYtAzIImQSv8w0CQgo9AKPAaQdmgGkFcADpBqsYuQZBp10DHcjFBL61aQFt93kAN591A+cAUQZe9vUC5eOhAOOeSQBkTwEAaq65ACrssQaIJAUHtnxVBXTPmQLLtx0AhTzZBU1irQKZHREEhFai+WwVSQTziI0HkutNAOS9bQdbyFkEkNkVBJ1fwQIUPA0Ef0f5ADyueQDc0yEC04VZB556PQA2WMUE/nvxAYrkrQT9bMkGGswFBvHIZQSk55kDgK7BAKRBHQVdKlUC6++RA7EFMQS0YAEEhgUdBzEGLQLXMUEGYqW1B0r4zQdY4sUDixWNBOmwkQdZpCEG9RUxBHGyBQRGrSkHdJeFAIcZdQVUE8UCFB8VAA/DIQMDcHUF0iBJBx2ppQR9FDEEaQ05B0Q9JQbROCEFjTC1BaJ/MQHaOWUHG2IZANjuvQEsE1UAonB5BU0ETQW3oFUEcdZRApt6LQKxeyEDx7lFAN/0VQcv/6kBp8YxAFZabQM9dRkATfApB"
         },
         "type": "scatter3d"
        }
       ],
       "layout": {
        "template": {
         "data": {
          "histogram2dcontour": [
           {
            "type": "histogram2dcontour",
            "colorbar": {
             "outlinewidth": 0,
             "ticks": ""
            },
            "colorscale": [
             [
              0.0,
              "#0d0887"
             ],
             [
              0.1111111111111111,
              "#46039f"
             ],
             [
              0.2222222222222222,
              "#7201a8"
             ],
             [
              0.3333333333333333,
              "#9c179e"
             ],
             [
              0.4444444444444444,
              "#bd3786"
             ],
             [
              0.5555555555555556,
              "#d8576b"
             ],
             [
              0.6666666666666666,
              "#ed7953"
             ],
             [
              0.7777777777777778,
              "#fb9f3a"
             ],
             [
              0.8888888888888888,
              "#fdca26"
             ],
             [
              1.0,
              "#f0f921"
             ]
            ]
           }
          ],
          "choropleth": [
           {
            "type": "choropleth",
            "colorbar": {
             "outlinewidth": 0,
             "ticks": ""
            }
           }
          ],
          "histogram2d": [
           {
            "type": "histogram2d",
            "colorbar": {
             "outlinewidth": 0,
             "ticks": ""
            },
            "colorscale": [
             [
              0.0,
              "#0d0887"
             ],
             [
              0.1111111111111111,
              "#46039f"
             ],
             [
              0.2222222222222222,
              "#7201a8"
             ],
             [
              0.3333333333333333,
              "#9c179e"
             ],
             [
              0.4444444444444444,
              "#bd3786"
             ],
             [
              0.5555555555555556,
              "#d8576b"
             ],
             [
              0.6666666666666666,
              "#ed7953"
             ],
             [
              0.7777777777777778,
              "#fb9f3a"
             ],
             [
              0.8888888888888888,
              "#fdca26"
             ],
             [
              1.0,
              "#f0f921"
             ]
            ]
           }
          ],
          "heatmap": [
           {
            "type": "heatmap",
            "colorbar": {
             "outlinewidth": 0,
             "ticks": ""
            },
            "colorscale": [
             [
              0.0,
              "#0d0887"
             ],
             [
              0.1111111111111111,
              "#46039f"
             ],
             [
              0.2222222222222222,
              "#7201a8"
             ],
             [
              0.3333333333333333,
              "#9c179e"
             ],
             [
              0.4444444444444444,
              "#bd3786"
             ],
             [
              0.5555555555555556,
              "#d8576b"
             ],
             [
              0.6666666666666666,
              "#ed7953"
             ],
             [
              0.7777777777777778,
              "#fb9f3a"
             ],
             [
              0.8888888888888888,
              "#fdca26"
             ],
             [
              1.0,
              "#f0f921"
             ]
            ]
           }
          ],
          "contourcarpet": [
           {
            "type": "contourcarpet",
            "colorbar": {
             "outlinewidth": 0,
             "ticks": ""
            }
           }
          ],
          "contour": [
           {
            "type": "contour",
            "colorbar": {
             "outlinewidth": 0,
             "ticks": ""
            },
            "colorscale": [
             [
              0.0,
              "#0d0887"
             ],
             [
              0.1111111111111111,
              "#46039f"
             ],
             [
              0.2222222222222222,
              "#7201a8"
             ],
             [
              0.3333333333333333,
              "#9c179e"
             ],
             [
              0.4444444444444444,
              "#bd3786"
             ],
             [
              0.5555555555555556,
              "#d8576b"
             ],
             [
              0.6666666666666666,
              "#ed7953"
             ],
             [
              0.7777777777777778,
              "#fb9f3a"
             ],
             [
              0.8888888888888888,
              "#fdca26"
             ],
             [
              1.0,
              "#f0f921"
             ]
            ]
           }
          ],
          "surface": [
           {
            "type": "surface",
            "colorbar": {
             "outlinewidth": 0,
             "ticks": ""
            },
            "colorscale": [
             [
              0.0,
              "#0d0887"
             ],
             [
              0.1111111111111111,
              "#46039f"
             ],
             [
              0.2222222222222222,
              "#7201a8"
             ],
             [
              0.3333333333333333,
              "#9c179e"
             ],
             [
              0.4444444444444444,
              "#bd3786"
             ],
             [
              0.5555555555555556,
              "#d8576b"
             ],
             [
              0.6666666666666666,
              "#ed7953"
             ],
             [
              0.7777777777777778,
              "#fb9f3a"
             ],
             [
              0.8888888888888888,
              "#fdca26"
             ],
             [
              1.0,
              "#f0f921"
             ]
            ]
           }
          ],
          "mesh3d": [
           {
            "type": "mesh3d",
            "colorbar": {
             "outlinewidth": 0,
             "ticks": ""
            }
           }
          ],
          "scatter": [
           {
            "marker": {
             "line": {
              "color": "#283442"
             }
            },
            "type": "scatter"
           }
          ],
          "parcoords": [
           {
            "type": "parcoords",
            "line": {
             "colorbar": {
              "outlinewidth": 0,
              "ticks": ""
             }
            }
           }
          ],
          "scatterpolargl": [
           {
            "type": "scatterpolargl",
            "marker": {
             "colorbar": {
              "outlinewidth": 0,
              "ticks": ""
             }
            }
           }
          ],
          "bar": [
           {
            "error_x": {
             "color": "#f2f5fa"
            },
            "error_y": {
             "color": "#f2f5fa"
            },
            "marker": {
             "line": {
              "color": "rgb(17,17,17)",
              "width": 0.5
             },
             "pattern": {
              "fillmode": "overlay",
              "size": 10,
              "solidity": 0.2
             }
            },
            "type": "bar"
           }
          ],
          "scattergeo": [
           {
            "type": "scattergeo",
            "marker": {
             "colorbar": {
              "outlinewidth": 0,
              "ticks": ""
             }
            }
           }
          ],
          "scatterpolar": [
           {
            "type": "scatterpolar",
            "marker": {
             "colorbar": {
              "outlinewidth": 0,
              "ticks": ""
             }
            }
           }
          ],
          "histogram": [
           {
            "marker": {
             "pattern": {
              "fillmode": "overlay",
              "size": 10,
              "solidity": 0.2
             }
            },
            "type": "histogram"
           }
          ],
          "scattergl": [
           {
            "marker": {
             "line": {
              "color": "#283442"
             }
            },
            "type": "scattergl"
           }
          ],
          "scatter3d": [
           {
            "type": "scatter3d",
            "line": {
             "colorbar": {
              "outlinewidth": 0,
              "ticks": ""
             }
            },
            "marker": {
             "colorbar": {
              "outlinewidth": 0,
              "ticks": ""
             }
            }
           }
          ],
          "scattermap": [
           {
            "type": "scattermap",
            "marker": {
             "colorbar": {
              "outlinewidth": 0,
              "ticks": ""
             }
            }
           }
          ],
          "scattermapbox": [
           {
            "type": "scattermapbox",
            "marker": {
             "colorbar": {
              "outlinewidth": 0,
              "ticks": ""
             }
            }
           }
          ],
          "scatterternary": [
           {
            "type": "scatterternary",
            "marker": {
             "colorbar": {
              "outlinewidth": 0,
              "ticks": ""
             }
            }
           }
          ],
          "scattercarpet": [
           {
            "type": "scattercarpet",
            "marker": {
             "colorbar": {
              "outlinewidth": 0,
              "ticks": ""
             }
            }
           }
          ],
          "carpet": [
           {
            "aaxis": {
             "endlinecolor": "#A2B1C6",
             "gridcolor": "#506784",
             "linecolor": "#506784",
             "minorgridcolor": "#506784",
             "startlinecolor": "#A2B1C6"
            },
            "baxis": {
             "endlinecolor": "#A2B1C6",
             "gridcolor": "#506784",
             "linecolor": "#506784",
             "minorgridcolor": "#506784",
             "startlinecolor": "#A2B1C6"
            },
            "type": "carpet"
           }
          ],
          "table": [
           {
            "cells": {
             "fill": {
              "color": "#506784"
             },
             "line": {
              "color": "rgb(17,17,17)"
             }
            },
            "header": {
             "fill": {
              "color": "#2a3f5f"
             },
             "line": {
              "color": "rgb(17,17,17)"
             }
            },
            "type": "table"
           }
          ],
          "barpolar": [
           {
            "marker": {
             "line": {
              "color": "rgb(17,17,17)",
              "width": 0.5
             },
             "pattern": {
              "fillmode": "overlay",
              "size": 10,
              "solidity": 0.2
             }
            },
            "type": "barpolar"
           }
          ],
          "pie": [
           {
            "automargin": true,
            "type": "pie"
           }
          ]
         },
         "layout": {
          "autotypenumbers": "strict",
          "colorway": [
           "#636efa",
           "#EF553B",
           "#00cc96",
           "#ab63fa",
           "#FFA15A",
           "#19d3f3",
           "#FF6692",
           "#B6E880",
           "#FF97FF",
           "#FECB52"
          ],
          "font": {
           "color": "#f2f5fa"
          },
          "hovermode": "closest",
          "hoverlabel": {
           "align": "left"
          },
          "paper_bgcolor": "rgb(17,17,17)",
          "plot_bgcolor": "rgb(17,17,17)",
          "polar": {
           "bgcolor": "rgb(17,17,17)",
           "angularaxis": {
            "gridcolor": "#506784",
            "linecolor": "#506784",
            "ticks": ""
           },
           "radialaxis": {
            "gridcolor": "#506784",
            "linecolor": "#506784",
            "ticks": ""
           }
          },
          "ternary": {
           "bgcolor": "rgb(17,17,17)",
           "aaxis": {
            "gridcolor": "#506784",
            "linecolor": "#506784",
            "ticks": ""
           },
           "baxis": {
            "gridcolor": "#506784",
            "linecolor": "#506784",
            "ticks": ""
           },
           "caxis": {
            "gridcolor": "#506784",
            "linecolor": "#506784",
            "ticks": ""
           }
          },
          "coloraxis": {
           "colorbar": {
            "outlinewidth": 0,
            "ticks": ""
           }
          },
          "colorscale": {
           "sequential": [
            [
             0.0,
             "#0d0887"
            ],
            [
             0.1111111111111111,
             "#46039f"
            ],
            [
             0.2222222222222222,
             "#7201a8"
            ],
            [
             0.3333333333333333,
             "#9c179e"
            ],
            [
             0.4444444444444444,
             "#bd3786"
            ],
            [
             0.5555555555555556,
             "#d8576b"
            ],
            [
             0.6666666666666666,
             "#ed7953"
            ],
            [
             0.7777777777777778,
             "#fb9f3a"
            ],
            [
             0.8888888888888888,
             "#fdca26"
            ],
            [
             1.0,
             "#f0f921"
            ]
           ],
           "sequentialminus": [
            [
             0.0,
             "#0d0887"
            ],
            [
             0.1111111111111111,
             "#46039f"
            ],
            [
             0.2222222222222222,
             "#7201a8"
            ],
            [
             0.3333333333333333,
             "#9c179e"
            ],
            [
             0.4444444444444444,
             "#bd3786"
            ],
            [
             0.5555555555555556,
             "#d8576b"
            ],
            [
             0.6666666666666666,
             "#ed7953"
            ],
            [
             0.7777777777777778,
             "#fb9f3a"
            ],
            [
             0.8888888888888888,
             "#fdca26"
            ],
            [
             1.0,
             "#f0f921"
            ]
           ],
           "diverging": [
            [
             0,
             "#8e0152"
            ],
            [
             0.1,
             "#c51b7d"
            ],
            [
             0.2,
             "#de77ae"
            ],
            [
             0.3,
             "#f1b6da"
            ],
            [
             0.4,
             "#fde0ef"
            ],
            [
             0.5,
             "#f7f7f7"
            ],
            [
             0.6,
             "#e6f5d0"
            ],
            [
             0.7,
             "#b8e186"
            ],
            [
             0.8,
             "#7fbc41"
            ],
            [
             0.9,
             "#4d9221"
            ],
            [
             1,
             "#276419"
            ]
           ]
          },
          "xaxis": {
           "gridcolor": "#283442",
           "linecolor": "#506784",
           "ticks": "",
           "title": {
            "standoff": 15
           },
           "zerolinecolor": "#283442",
           "automargin": true,
           "zerolinewidth": 2
          },
          "yaxis": {
           "gridcolor": "#283442",
           "linecolor": "#506784",
           "ticks": "",
           "title": {
            "standoff": 15
           },
           "zerolinecolor": "#283442",
           "automargin": true,
           "zerolinewidth": 2
          },
          "scene": {
           "xaxis": {
            "backgroundcolor": "rgb(17,17,17)",
            "gridcolor": "#506784",
            "linecolor": "#506784",
            "showbackground": true,
            "ticks": "",
            "zerolinecolor": "#C8D4E3",
            "gridwidth": 2
           },
           "yaxis": {
            "backgroundcolor": "rgb(17,17,17)",
            "gridcolor": "#506784",
            "linecolor": "#506784",
            "showbackground": true,
            "ticks": "",
            "zerolinecolor": "#C8D4E3",
            "gridwidth": 2
           },
           "zaxis": {
            "backgroundcolor": "rgb(17,17,17)",
            "gridcolor": "#506784",
            "linecolor": "#506784",
            "showbackground": true,
            "ticks": "",
            "zerolinecolor": "#C8D4E3",
            "gridwidth": 2
           }
          },
          "shapedefaults": {
           "line": {
            "color": "#f2f5fa"
           }
          },
          "annotationdefaults": {
           "arrowcolor": "#f2f5fa",
           "arrowhead": 0,
           "arrowwidth": 1
          },
          "geo": {
           "bgcolor": "rgb(17,17,17)",
           "landcolor": "rgb(17,17,17)",
           "subunitcolor": "#506784",
           "showland": true,
           "showlakes": true,
           "lakecolor": "rgb(17,17,17)"
          },
          "title": {
           "x": 0.05
          },
          "updatemenudefaults": {
           "bgcolor": "#506784",
           "borderwidth": 0
          },
          "sliderdefaults": {
           "bgcolor": "#C8D4E3",
           "borderwidth": 1,
           "bordercolor": "rgb(17,17,17)",
           "tickwidth": 0
          },
          "mapbox": {
           "style": "dark"
          }
         }
        },
        "scene": {
         "domain": {
          "x": [
           0.0,
           1.0
          ],
          "y": [
           0.0,
           1.0
          ]
         },
         "xaxis": {
          "title": {
           "text": "z1"
          }
         },
         "yaxis": {
          "title": {
           "text": "z2"
          }
         },
         "zaxis": {
          "title": {
           "text": "z3"
          }
         },
         "camera": {
          "eye": {
           "x": 1.5,
           "y": 1.5,
           "z": 1.2
          }
         },
         "aspectmode": "cube"
        },
        "legend": {
         "title": {
          "text": "color"
         },
         "tracegroupgap": 0
        },
        "margin": {
         "t": 50,
         "l": 0,
         "r": 0,
         "b": 0
        },
        "width": 900,
        "height": 650,
        "title": {
         "text": "Latent Space (t-SNE)"
        }
       },
       "config": {
        "plotlyServerURL": "https://plot.ly"
       }
      }
     },
     "metadata": {},
     "output_type": "display_data",
     "jetTransient": {
      "display_id": null
     }
    }
   ],
   "execution_count": 51
  },
  {
   "cell_type": "code",
   "id": "c5a3d921-3d7c-4159-bb1d-95a1af113e51",
   "metadata": {
    "ExecuteTime": {
     "end_time": "2025-10-09T04:05:17.177167Z",
     "start_time": "2025-10-09T04:05:17.115430Z"
    }
   },
   "source": "test_inference(vae, test_ds, [0,1,2,3,4])",
   "outputs": [
    {
     "data": {
      "text/plain": [
       "<Figure size 1100x420 with 10 Axes>"
      ],
      "image/png": "[encoded data removed]"
     },
     "metadata": {},
     "output_type": "display_data",
     "jetTransient": {
      "display_id": null
     }
    }
   ],
   "execution_count": 48
  },
  {
   "cell_type": "code",
   "execution_count": 46,
   "id": "62bfc720f907a2a7",
   "metadata": {
    "ExecuteTime": {
     "end_time": "2025-10-07T15:57:02.348254Z",
     "start_time": "2025-10-07T15:57:02.285027Z"
    }
   },
   "outputs": [
    {
     "data": {
      "image/png": "[encoded data removed]",
      "text/plain": [
       "<Figure size 1100x520 with 10 Axes>"
      ]
     },
     "metadata": {},
     "output_type": "display_data"
    }
   ],
   "source": [
    "test_inference_spatial(vae_7, test_ds, range(5))"
   ]
  },
  {
   "cell_type": "code",
   "execution_count": 47,
   "id": "673cf258-f729-4e6a-be87-10214cccf3ed",
   "metadata": {
    "ExecuteTime": {
     "end_time": "2025-10-07T15:58:05.165910Z",
     "start_time": "2025-10-07T15:58:05.053077Z"
    }
   },
   "outputs": [],
   "source": [
    "torch.save(vae_7.state_dict(), \"models/vae_7.pth\")"
   ]
  },
  {
   "cell_type": "code",
   "execution_count": 30,
   "id": "bea154cd-7fb8-435a-be4d-322599bea87e",
   "metadata": {},
   "outputs": [],
   "source": [
    "spatial_49 = ResNetVAE(latent_dim=49)"
   ]
  },
  {
   "cell_type": "code",
   "execution_count": 31,
   "id": "31c86e3d-a6a2-42c7-bf75-c320ecec60f9",
   "metadata": {},
   "outputs": [
    {
     "data": {
      "text/html": [],
      "text/plain": [
       "<IPython.core.display.HTML object>"
      ]
     },
     "metadata": {},
     "output_type": "display_data"
    },
    {
     "data": {
      "text/html": [
       "Tracking run with wandb version 0.22.1"
      ],
      "text/plain": [
       "<IPython.core.display.HTML object>"
      ]
     },
     "metadata": {},
     "output_type": "display_data"
    },
    {
     "data": {
      "text/html": [
       "Run data is saved locally in <code>/Users/marcocassar/Projects/DLAIE/self/flow_experimentation/wandb/run-20251005_154047-aky1xthj</code>"
      ],
      "text/plain": [
       "<IPython.core.display.HTML object>"
      ]
     },
     "metadata": {},
     "output_type": "display_data"
    },
    {
     "data": {
      "text/html": [
       "Syncing run <strong><a href='https://wandb.ai/marcocassar-belmont-university/spatial_vae_conv_testing/runs/aky1xthj' target=\"_blank\">spatial_l_49</a></strong> to <a href='https://wandb.ai/marcocassar-belmont-university/spatial_vae_conv_testing' target=\"_blank\">Weights & Biases</a> (<a href='https://wandb.me/developer-guide' target=\"_blank\">docs</a>)<br>"
      ],
      "text/plain": [
       "<IPython.core.display.HTML object>"
      ]
     },
     "metadata": {},
     "output_type": "display_data"
    },
    {
     "data": {
      "text/html": [
       " View project at <a href='https://wandb.ai/marcocassar-belmont-university/spatial_vae_conv_testing' target=\"_blank\">https://wandb.ai/marcocassar-belmont-university/spatial_vae_conv_testing</a>"
      ],
      "text/plain": [
       "<IPython.core.display.HTML object>"
      ]
     },
     "metadata": {},
     "output_type": "display_data"
    },
    {
     "data": {
      "text/html": [
       " View run at <a href='https://wandb.ai/marcocassar-belmont-university/spatial_vae_conv_testing/runs/aky1xthj' target=\"_blank\">https://wandb.ai/marcocassar-belmont-university/spatial_vae_conv_testing/runs/aky1xthj</a>"
      ],
      "text/plain": [
       "<IPython.core.display.HTML object>"
      ]
     },
     "metadata": {},
     "output_type": "display_data"
    },
    {
     "name": "stderr",
     "output_type": "stream",
     "text": [
      "Epoch 1/20: 100%|██████████| 469/469 [00:32<00:00, 14.63it/s, Loss=0.0746, Recon=0.0790, KL*w=0.000000]\n"
     ]
    },
    {
     "name": "stdout",
     "output_type": "stream",
     "text": [
      "Epoch 1: Val_Loss 0.0720 | Recon_Loss 0.0720 | kl_Loss 83.8868\n"
     ]
    },
    {
     "name": "stderr",
     "output_type": "stream",
     "text": [
      "Epoch 2/20: 100%|██████████| 469/469 [00:32<00:00, 14.60it/s, Loss=0.0722, Recon=0.0752, KL*w=0.000253]\n"
     ]
    },
    {
     "name": "stdout",
     "output_type": "stream",
     "text": [
      "Epoch 2: Val_Loss 0.0712 | Recon_Loss 0.0710 | kl_Loss 24.6912\n"
     ]
    },
    {
     "name": "stderr",
     "output_type": "stream",
     "text": [
      "Epoch 3/20: 100%|██████████| 469/469 [00:32<00:00, 14.54it/s, Loss=0.0712, Recon=0.0697, KL*w=0.000287]\n"
     ]
    },
    {
     "name": "stdout",
     "output_type": "stream",
     "text": [
      "Epoch 3: Val_Loss 0.0698 | Recon_Loss 0.0695 | kl_Loss 14.2651\n"
     ]
    },
    {
     "name": "stderr",
     "output_type": "stream",
     "text": [
      "Epoch 4/20: 100%|██████████| 469/469 [00:32<00:00, 14.56it/s, Loss=0.0705, Recon=0.0720, KL*w=0.000304]\n"
     ]
    },
    {
     "name": "stdout",
     "output_type": "stream",
     "text": [
      "Epoch 4: Val_Loss 0.0684 | Recon_Loss 0.0681 | kl_Loss 10.1817\n"
     ]
    },
    {
     "name": "stderr",
     "output_type": "stream",
     "text": [
      "Epoch 5/20: 100%|██████████| 469/469 [00:32<00:00, 14.24it/s, Loss=0.0702, Recon=0.0680, KL*w=0.000325]\n"
     ]
    },
    {
     "name": "stdout",
     "output_type": "stream",
     "text": [
      "Epoch 5: Val_Loss 0.0689 | Recon_Loss 0.0686 | kl_Loss 8.1732\n"
     ]
    },
    {
     "name": "stderr",
     "output_type": "stream",
     "text": [
      "Epoch 6/20: 100%|██████████| 469/469 [00:38<00:00, 12.19it/s, Loss=0.0696, Recon=0.0700, KL*w=0.000354]\n"
     ]
    },
    {
     "name": "stdout",
     "output_type": "stream",
     "text": [
      "Epoch 6: Val_Loss 0.0685 | Recon_Loss 0.0681 | kl_Loss 7.2257\n"
     ]
    },
    {
     "name": "stderr",
     "output_type": "stream",
     "text": [
      "Epoch 7/20: 100%|██████████| 469/469 [00:38<00:00, 12.22it/s, Loss=0.0701, Recon=0.0708, KL*w=0.000387]\n"
     ]
    },
    {
     "name": "stdout",
     "output_type": "stream",
     "text": [
      "Epoch 7: Val_Loss 0.0689 | Recon_Loss 0.0685 | kl_Loss 6.5761\n"
     ]
    },
    {
     "name": "stderr",
     "output_type": "stream",
     "text": [
      "Epoch 8/20: 100%|██████████| 469/469 [00:37<00:00, 12.45it/s, Loss=0.0696, Recon=0.0679, KL*w=0.000377]\n"
     ]
    },
    {
     "name": "stdout",
     "output_type": "stream",
     "text": [
      "Epoch 8: Val_Loss 0.0695 | Recon_Loss 0.0691 | kl_Loss 5.7444\n"
     ]
    },
    {
     "name": "stderr",
     "output_type": "stream",
     "text": [
      "Epoch 9/20: 100%|██████████| 469/469 [00:37<00:00, 12.64it/s, Loss=0.0693, Recon=0.0689, KL*w=0.000433]\n"
     ]
    },
    {
     "name": "stdout",
     "output_type": "stream",
     "text": [
      "Epoch 9: Val_Loss 0.0668 | Recon_Loss 0.0664 | kl_Loss 5.7425\n"
     ]
    },
    {
     "name": "stderr",
     "output_type": "stream",
     "text": [
      "Epoch 10/20: 100%|██████████| 469/469 [00:33<00:00, 13.80it/s, Loss=0.0690, Recon=0.0671, KL*w=0.000464]\n"
     ]
    },
    {
     "name": "stdout",
     "output_type": "stream",
     "text": [
      "Epoch 10: Val_Loss 0.0676 | Recon_Loss 0.0672 | kl_Loss 5.3850\n"
     ]
    },
    {
     "name": "stderr",
     "output_type": "stream",
     "text": [
      "Epoch 11/20: 100%|██████████| 469/469 [00:33<00:00, 14.14it/s, Loss=0.0692, Recon=0.0688, KL*w=0.000476]\n"
     ]
    },
    {
     "name": "stdout",
     "output_type": "stream",
     "text": [
      "Epoch 11: Val_Loss 0.0675 | Recon_Loss 0.0670 | kl_Loss 4.7649\n"
     ]
    },
    {
     "name": "stderr",
     "output_type": "stream",
     "text": [
      "Epoch 12/20: 100%|██████████| 469/469 [00:33<00:00, 14.02it/s, Loss=0.0689, Recon=0.0708, KL*w=0.000503]\n"
     ]
    },
    {
     "name": "stdout",
     "output_type": "stream",
     "text": [
      "Epoch 12: Val_Loss 0.0666 | Recon_Loss 0.0661 | kl_Loss 4.8154\n"
     ]
    },
    {
     "name": "stderr",
     "output_type": "stream",
     "text": [
      "Epoch 13/20: 100%|██████████| 469/469 [00:41<00:00, 11.33it/s, Loss=0.0682, Recon=0.0686, KL*w=0.000469]\n"
     ]
    },
    {
     "name": "stdout",
     "output_type": "stream",
     "text": [
      "Epoch 13: Val_Loss 0.0668 | Recon_Loss 0.0663 | kl_Loss 4.6779\n"
     ]
    },
    {
     "name": "stderr",
     "output_type": "stream",
     "text": [
      "Epoch 14/20: 100%|██████████| 469/469 [00:35<00:00, 13.39it/s, Loss=0.0686, Recon=0.0695, KL*w=0.000470]\n"
     ]
    },
    {
     "name": "stdout",
     "output_type": "stream",
     "text": [
      "Epoch 14: Val_Loss 0.0666 | Recon_Loss 0.0661 | kl_Loss 4.7066\n"
     ]
    },
    {
     "name": "stderr",
     "output_type": "stream",
     "text": [
      "Epoch 15/20: 100%|██████████| 469/469 [00:32<00:00, 14.22it/s, Loss=0.0685, Recon=0.0697, KL*w=0.000475]\n"
     ]
    },
    {
     "name": "stdout",
     "output_type": "stream",
     "text": [
      "Epoch 15: Val_Loss 0.0669 | Recon_Loss 0.0664 | kl_Loss 4.6970\n"
     ]
    },
    {
     "name": "stderr",
     "output_type": "stream",
     "text": [
      "Epoch 16/20: 100%|██████████| 469/469 [00:33<00:00, 14.08it/s, Loss=0.0680, Recon=0.0657, KL*w=0.000459]\n"
     ]
    },
    {
     "name": "stdout",
     "output_type": "stream",
     "text": [
      "Epoch 16: Val_Loss 0.0665 | Recon_Loss 0.0661 | kl_Loss 4.6106\n"
     ]
    },
    {
     "name": "stderr",
     "output_type": "stream",
     "text": [
      "Epoch 17/20: 100%|██████████| 469/469 [00:33<00:00, 13.87it/s, Loss=0.0685, Recon=0.0658, KL*w=0.000459]\n"
     ]
    },
    {
     "name": "stdout",
     "output_type": "stream",
     "text": [
      "Epoch 17: Val_Loss 0.0661 | Recon_Loss 0.0657 | kl_Loss 4.6227\n"
     ]
    },
    {
     "name": "stderr",
     "output_type": "stream",
     "text": [
      "Epoch 18/20: 100%|██████████| 469/469 [00:32<00:00, 14.25it/s, Loss=0.0685, Recon=0.0653, KL*w=0.000451]\n"
     ]
    },
    {
     "name": "stdout",
     "output_type": "stream",
     "text": [
      "Epoch 18: Val_Loss 0.0660 | Recon_Loss 0.0656 | kl_Loss 4.4788\n"
     ]
    },
    {
     "name": "stderr",
     "output_type": "stream",
     "text": [
      "Epoch 19/20: 100%|██████████| 469/469 [00:34<00:00, 13.50it/s, Loss=0.0684, Recon=0.0650, KL*w=0.000440]\n"
     ]
    },
    {
     "name": "stdout",
     "output_type": "stream",
     "text": [
      "Epoch 19: Val_Loss 0.0678 | Recon_Loss 0.0674 | kl_Loss 4.6379\n"
     ]
    },
    {
     "name": "stderr",
     "output_type": "stream",
     "text": [
      "Epoch 20/20: 100%|██████████| 469/469 [00:34<00:00, 13.41it/s, Loss=0.0681, Recon=0.0690, KL*w=0.000462]\n"
     ]
    },
    {
     "name": "stdout",
     "output_type": "stream",
     "text": [
      "Epoch 20: Val_Loss 0.0660 | Recon_Loss 0.0655 | kl_Loss 4.5222\n"
     ]
    },
    {
     "data": {
      "text/html": [],
      "text/plain": [
       "<IPython.core.display.HTML object>"
      ]
     },
     "metadata": {},
     "output_type": "display_data"
    },
    {
     "data": {
      "text/html": [
       "<br>    <style><br>        .wandb-row {<br>            display: flex;<br>            flex-direction: row;<br>            flex-wrap: wrap;<br>            justify-content: flex-start;<br>            width: 100%;<br>        }<br>        .wandb-col {<br>            display: flex;<br>            flex-direction: column;<br>            flex-basis: 100%;<br>            flex: 1;<br>            padding: 10px;<br>        }<br>    </style><br><div class=\"wandb-row\"><div class=\"wandb-col\"><h3>Run history:</h3><br/><table class=\"wandb\"><tr><td>epoch</td><td>▁▁▁▁▂▂▂▂▂▂▃▃▃▃▄▄▄▄▄▄▅▅▅▅▅▅▆▆▆▆▇▇▇▇▇▇████</td></tr><tr><td>kl_loss</td><td>█▄▃▃▂▂▂▂▁▁▁▁▁▁▁▁▁▁▁▁▁▁▁▁▁▁▁▁▁▁▁▁▁▁▁▁▁▁▁▁</td></tr><tr><td>kl_weight</td><td>▁▁▁▂▂▂▂▃▃▃▅▅▅▅▆▇████████████████████████</td></tr><tr><td>recon_loss</td><td>▆▅█▄▄▃▃▃▄▅▄▃▄▃▅▂▄▂▂▃▄▃▂▃▃▂▃▃▂▂▂▃▄▂▂▃▅▁▃▃</td></tr><tr><td>step</td><td>▁▁▂▂▂▂▃▃▃▃▃▃▃▄▄▄▄▄▄▄▅▅▅▅▅▅▆▆▆▆▆▆▆▇▇▇▇▇██</td></tr><tr><td>train_loss</td><td>█▂▁▁▁▁▁▁▁▁▁▁▁▁▁▁▁▁▁▁▁▁▁▁▁▁▁▁▁▁▁▁▁▁▁▁▁▁▁▁</td></tr><tr><td>val_kl_loss</td><td>█▃▂▂▁▁▁▁▁▁▁▁▁▁▁▁▁▁▁▁</td></tr><tr><td>val_loss</td><td>█▇▅▄▄▄▄▅▂▃▃▂▂▂▂▂▁▁▃▁</td></tr><tr><td>val_recon_loss</td><td>█▇▅▄▄▄▄▅▂▃▃▂▂▂▂▂▁▁▃▁</td></tr><tr><td>weighted_kl_loss</td><td>▁▁█▇▄▄▄▅▅▄▅▅▄▅▅▅▆▅▅▆▅▆▆▆▆▆▆▆▆▆▆▆▆▆▆▆▆▆▆▆</td></tr></table><br/></div><div class=\"wandb-col\"><h3>Run summary:</h3><br/><table class=\"wandb\"><tr><td>epoch</td><td>20</td></tr><tr><td>kl_loss</td><td>4.61753</td></tr><tr><td>kl_weight</td><td>0.0001</td></tr><tr><td>recon_loss</td><td>0.06899</td></tr><tr><td>step</td><td>9379</td></tr><tr><td>train_loss</td><td>0.06806</td></tr><tr><td>val_kl_loss</td><td>4.5222</td></tr><tr><td>val_loss</td><td>0.06599</td></tr><tr><td>val_recon_loss</td><td>0.06554</td></tr><tr><td>weighted_kl_loss</td><td>0.00046</td></tr></table><br/></div></div>"
      ],
      "text/plain": [
       "<IPython.core.display.HTML object>"
      ]
     },
     "metadata": {},
     "output_type": "display_data"
    },
    {
     "data": {
      "text/html": [
       " View run <strong style=\"color:#cdcd00\">spatial_l_49</strong> at: <a href='https://wandb.ai/marcocassar-belmont-university/spatial_vae_conv_testing/runs/aky1xthj' target=\"_blank\">https://wandb.ai/marcocassar-belmont-university/spatial_vae_conv_testing/runs/aky1xthj</a><br> View project at: <a href='https://wandb.ai/marcocassar-belmont-university/spatial_vae_conv_testing' target=\"_blank\">https://wandb.ai/marcocassar-belmont-university/spatial_vae_conv_testing</a><br>Synced 5 W&B file(s), 20 media file(s), 0 artifact file(s) and 0 other file(s)"
      ],
      "text/plain": [
       "<IPython.core.display.HTML object>"
      ]
     },
     "metadata": {},
     "output_type": "display_data"
    },
    {
     "data": {
      "text/html": [
       "Find logs at: <code>./wandb/run-20251005_154047-aky1xthj/logs</code>"
      ],
      "text/plain": [
       "<IPython.core.display.HTML object>"
      ]
     },
     "metadata": {},
     "output_type": "display_data"
    },
    {
     "ename": "NameError",
     "evalue": "name 'val_total' is not defined",
     "output_type": "error",
     "traceback": [
      "\u001B[31m---------------------------------------------------------------------------\u001B[39m",
      "\u001B[31mNameError\u001B[39m                                 Traceback (most recent call last)",
      "\u001B[36mCell\u001B[39m\u001B[36m \u001B[39m\u001B[32mIn[31]\u001B[39m\u001B[32m, line 1\u001B[39m\n\u001B[32m----> \u001B[39m\u001B[32m1\u001B[39m \u001B[43mtrain_model_vae\u001B[49m\u001B[43m(\u001B[49m\u001B[43mspatial_49\u001B[49m\u001B[43m,\u001B[49m\u001B[43m \u001B[49m\u001B[43mtrain_dl\u001B[49m\u001B[43m,\u001B[49m\u001B[43m \u001B[49m\u001B[43mval_dl\u001B[49m\u001B[43m,\u001B[49m\u001B[43m \u001B[49m\u001B[43mname\u001B[49m\u001B[43m=\u001B[49m\u001B[33;43m\"\u001B[39;49m\u001B[33;43mspatial_l_49\u001B[39;49m\u001B[33;43m\"\u001B[39;49m\u001B[43m,\u001B[49m\u001B[43mloss_func\u001B[49m\u001B[43m=\u001B[49m\u001B[33;43m'\u001B[39;49m\u001B[33;43mbce_with_logits\u001B[39;49m\u001B[33;43m'\u001B[39;49m\u001B[43m,\u001B[49m\u001B[43m \u001B[49m\u001B[43mepochs\u001B[49m\u001B[43m=\u001B[49m\u001B[32;43m20\u001B[39;49m\u001B[43m)\u001B[49m\n",
      "\u001B[36mCell\u001B[39m\u001B[36m \u001B[39m\u001B[32mIn[17]\u001B[39m\u001B[32m, line 131\u001B[39m, in \u001B[36mtrain_model_vae\u001B[39m\u001B[34m(model, train_loader, val_loader, name, loss_func, epochs, lr, base_kl_weight, warmup_epochs)\u001B[39m\n\u001B[32m    128\u001B[39m     log_example_images(model, val_loader.dataset, epoch + \u001B[32m1\u001B[39m, spatial=\u001B[38;5;28;01mTrue\u001B[39;00m, n=\u001B[32m5\u001B[39m)\n\u001B[32m    130\u001B[39m wandb.finish()\n\u001B[32m--> \u001B[39m\u001B[32m131\u001B[39m \u001B[38;5;28;01mreturn\u001B[39;00m \u001B[43mval_total\u001B[49m\n",
      "\u001B[31mNameError\u001B[39m: name 'val_total' is not defined"
     ]
    }
   ],
   "source": [
    "train_model_vae(spatial_49, train_dl, val_dl, name=\"spatial_l_49\",loss_func='bce_with_logits', epochs=20)"
   ]
  },
  {
   "cell_type": "code",
   "execution_count": 33,
   "id": "77edba51-220d-4d29-bba5-98bb97e3e055",
   "metadata": {},
   "outputs": [
    {
     "data": {
      "image/png": "[encoded data removed]",
      "text/plain": [
       "<Figure size 1100x780 with 15 Axes>"
      ]
     },
     "metadata": {},
     "output_type": "display_data"
    }
   ],
   "source": [
    "test_inference_spatial(spatial_49, test_ds, range(5))"
   ]
  },
  {
   "cell_type": "code",
   "execution_count": 35,
   "id": "acab2c65-b196-4fb6-adf8-3d17fa1b76a2",
   "metadata": {},
   "outputs": [],
   "source": [
    "torch.save(spatial_49.state_dict(), \"spatial_ae_49.pth\")"
   ]
  },
  {
   "cell_type": "code",
   "execution_count": null,
   "id": "254b54f57734536a",
   "metadata": {},
   "outputs": [],
   "source": [
    "from matplotlib import pyplot as plt\n",
    "img = train_dl.dataset.data[0].numpy()\n",
    "plt.imshow(img, cmap='gray')"
   ]
  },
  {
   "cell_type": "code",
   "execution_count": 8,
   "id": "87643a556cfa3d95",
   "metadata": {},
   "outputs": [],
   "source": [
    "from tqdm import tqdm\n",
    "\n",
    "project = 'spatial_vae_conv_testing'\n",
    "def train_model(model, train_loader, val_loader, name=None, epochs=20, lr=0.002):\n",
    "    # Initialize wandb\n",
    "    wandb.finish()\n",
    "    wandb.init(project=project, name=name, reinit='finish_previous')\n",
    "    wandb.config.update({\n",
    "        \"epochs\": epochs,\n",
    "        \"batch_size\": batch_size,\n",
    "        \"learning_rate\": lr,\n",
    "        \"model\": model.__class__.__name__,\n",
    "        \"optimizer\": \"Adam\"\n",
    "    })\n",
    "\n",
    "    criterion = nn.CrossEntropyLoss(label_smoothing=0.05)\n",
    "    # or mse\n",
    "    # criterion = nn.MSELoss()\n",
    "    optimizer = optim.Adam(model.parameters(), lr=lr, weight_decay=5e-5)\n",
    "\n",
    "    global_step = 0\n",
    "    exp_beta = 0.97  # Use for getting prettier avg train loss\n",
    "    train_loss_avg = None\n",
    "\n",
    "    for epoch in range(epochs):\n",
    "        # Training phase\n",
    "        model.train()\n",
    "        pbar = tqdm(train_loader, desc=f'Epoch {epoch+1}/{epochs}')\n",
    "\n",
    "        for batch_idx, (data, target) in enumerate(pbar):\n",
    "            data, target = data.to(device), target.to(device)\n",
    "\n",
    "            optimizer.zero_grad()\n",
    "            output = model(data)\n",
    "            loss = criterion(output, target)\n",
    "            loss.backward()\n",
    "            optimizer.step()\n",
    "\n",
    "            # Log every step\n",
    "            train_loss_avg = loss.item() if train_loss_avg is None else train_loss_avg * exp_beta + loss.item() * (1 - exp_beta)\n",
    "\n",
    "            with torch.no_grad():\n",
    "                train_acc = (output.argmax(dim=1).eq(target)).float().mean().item()\n",
    "                train_acc_avg = train_acc if train_acc_avg is None else train_acc_avg * exp_beta + train_acc * (1 - exp_beta)\n",
    "\n",
    "            wandb.log({\n",
    "                \"step\": global_step,\n",
    "                \"train_loss\": train_loss_avg,\n",
    "                \"train_acc\": train_acc_avg,\n",
    "                \"epoch\": epoch + 1\n",
    "            })\n",
    "\n",
    "            global_step += 1\n",
    "            pbar.set_postfix({'Train_Loss': f'{train_loss_avg:.4f}', 'Train_Acc': f'{train_acc_avg:.4f}'})\n",
    "\n",
    "        # Evaluation phase (once per epoch)\n",
    "        model.eval()\n",
    "        val_loss = 0\n",
    "        correct = 0\n",
    "        total = 0\n",
    "\n",
    "        with torch.no_grad():\n",
    "            for data, target in val_loader:\n",
    "                data, target = data.to(device), target.to(device)\n",
    "                output = model(data)\n",
    "                val_loss += criterion(output, target).item()\n",
    "                pred = output.argmax(dim=1, keepdim=True)\n",
    "                correct += pred.eq(target.view_as(pred)).sum().item()\n",
    "                total += target.size(0)\n",
    "\n",
    "        val_loss /= len(val_loader)\n",
    "        val_acc = 100. * correct / total\n",
    "\n",
    "        wandb.log({\n",
    "            \"epoch\": epoch + 1,\n",
    "            \"val_loss\": val_loss,\n",
    "            \"val_accuracy\": val_acc\n",
    "        })\n",
    "\n",
    "        print(f'Epoch {epoch+1}: Val Loss: {val_loss:.4f}, Val Acc: {val_acc:.2f}%')\n",
    "\n",
    "        log_example_images(model, val_loader.dataset, epoch + 1, spatial=True)\n",
    "\n",
    "    wandb.finish()\n",
    "    return val_acc"
   ]
  },
  {
   "cell_type": "code",
   "execution_count": null,
   "id": "4da14b57-049d-42ae-88d1-86b4b76b1879",
   "metadata": {},
   "outputs": [],
   "source": []
  }
 ],
 "metadata": {
  "kernelspec": {
   "display_name": "Python 3 (ipykernel)",
   "language": "python",
   "name": "python3"
  },
  "language_info": {
   "codemirror_mode": {
    "name": "ipython",
    "version": 3
   },
   "file_extension": ".py",
   "mimetype": "text/x-python",
   "name": "python",
   "nbconvert_exporter": "python",
   "pygments_lexer": "ipython3",
   "version": "3.13.7"
  }
 },
 "nbformat": 4,
 "nbformat_minor": 5
}
