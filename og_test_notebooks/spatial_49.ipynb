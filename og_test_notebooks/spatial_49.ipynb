{
 "cells": [
  {
   "cell_type": "code",
   "execution_count": 174,
   "id": "initial_id",
   "metadata": {
    "ExecuteTime": {
     "end_time": "2025-10-09T05:11:24.442490Z",
     "start_time": "2025-10-09T05:11:23.853767Z"
    }
   },
   "outputs": [],
   "source": [
    "from transformers.utils.hub import torch_cache_home\n",
    "\n",
    "from custom_dataloading import load_encoded_dataset\n",
    "from torch.utils.data import DataLoader\n",
    "import torchvision\n",
    "import wandb\n",
    "import torch\n",
    "from torch import nn, optim, utils\n",
    "import matplotlib.pyplot as plt\n",
    "import torch.nn.functional as F\n",
    "from tqdm import tqdm\n",
    "import numpy as np"
   ]
  },
  {
   "cell_type": "code",
   "execution_count": 16,
   "id": "7526f960d2632c7e",
   "metadata": {
    "ExecuteTime": {
     "end_time": "2025-10-09T05:11:24.903718Z",
     "start_time": "2025-10-09T05:11:24.741556Z"
    }
   },
   "outputs": [],
   "source": [
    "from helpers import *\n",
    "from vae_scott import ResNetVAE\n",
    "from custom_dataloading import load_encoded_dataset\n",
    "\n",
    "latent_dim = 7\n",
    "latent_ch = 1\n",
    "\n",
    "device = torch.device('cuda' if torch.cuda.is_available() else 'mps' if torch.backends.mps.is_available() else 'cpu')\n",
    "\n",
    "vae = ResNetVAE(latent_dim=latent_dim, spatial=True).to(device)\n",
    "vae.load_state_dict(torch.load(f'models/spatial_ae_{latent_dim}.pth', map_location=device))\n",
    "vae.eval()\n",
    "\n",
    "\n",
    "train_ds, test_ds = load_encoded_dataset(f'data/ResNetVAEEncoderSpatial_sp{latent_dim}/MNIST/')\n",
    "batch_size = 128\n",
    "train_dl = DataLoader(train_ds, batch_size=batch_size, shuffle=True)\n",
    "test_dl  = DataLoader(test_ds, batch_size=batch_size, shuffle=False)"
   ]
  },
  {
   "cell_type": "code",
   "execution_count": 17,
   "id": "163f0fd8af39986a",
   "metadata": {
    "ExecuteTime": {
     "end_time": "2025-10-09T05:11:43.124307Z",
     "start_time": "2025-10-09T05:11:43.122384Z"
    }
   },
   "outputs": [],
   "source": [
    "class ResConvBlock(nn.Module):\n",
    "    def __init__(self, ch, act=nn.SiLU, scale=0.1):\n",
    "        super().__init__()\n",
    "        self.conv = nn.Conv2d(ch, ch, kernel_size=3, padding=1)\n",
    "        self.act  = act()\n",
    "        self.scale = scale\n",
    "        nn.init.kaiming_normal_(self.conv.weight, nonlinearity='relu')\n",
    "        nn.init.zeros_(self.conv.bias)\n",
    "\n",
    "    def forward(self, x):\n",
    "        return x + self.scale * self.act(self.conv(x))"
   ]
  },
  {
   "cell_type": "code",
   "execution_count": null,
   "id": "a488c6ac-4d69-4b2b-9720-6e12ea41ffc1",
   "metadata": {},
   "outputs": [],
   "source": []
  },
  {
   "cell_type": "code",
   "execution_count": 8,
   "id": "efb6bd528ae7769b",
   "metadata": {
    "ExecuteTime": {
     "end_time": "2025-10-09T05:11:46.774989Z",
     "start_time": "2025-10-09T05:11:46.773300Z"
    }
   },
   "outputs": [],
   "source": [
    "# class ConvFlowModel(nn.Module):\n",
    "#     def __init__(self, latent_dim, base_channels=32, n_layers=3, act=F.gelu):\n",
    "#         super().__init__()\n",
    "#         self.latent_dim = latent_dim\n",
    "#         self.act = act\n",
    "#\n",
    "#         self.conv_in = nn.Conv2d(latent_dim + 1, base_channels, kernel_size=3, padding=1)\n",
    "#\n",
    "#         in_ch = base_channels\n",
    "#         layers = []\n",
    "#         for i in range(n_layers):\n",
    "#             out_ch = base_channels * (2 ** i)\n",
    "#             layers.append(ConvBlock(in_ch, out_ch, groups=groups, act=act))\n",
    "#         self.layers = nn.ModuleList()\n",
    "#         prev_ch = base_channels\n",
    "#         for ch in channels:\n",
    "#             self.layers.append(nn.Conv2d(prev_ch, ch, kernel_size=3, stride=1, padding=1))\n",
    "#             self.layers.append(act)\n",
    "#             prev_ch = ch\n",
    "#         self.layers.append(nn.Conv2d(prev_ch, latent_dim, kernel_size=3))\n",
    "#\n",
    "#     def forward(self, x, t):\n",
    "#         t = t.expand(x.size(0), 1)  # Ensure t has the correct dimensions\n",
    "#         x = torch.cat([x, t], dim=1)\n",
    "#         x = act(self.fc_in(x))\n",
    "#         x = act(self.fc2(x))\n",
    "#         x = act(self.fc3(x))\n",
    "#         return self.fc_out(x)"
   ]
  },
  {
   "cell_type": "code",
   "execution_count": 86,
   "id": "d0778e99698618c0",
   "metadata": {
    "ExecuteTime": {
     "end_time": "2025-10-09T05:12:24.048803Z",
     "start_time": "2025-10-09T05:12:24.045244Z"
    }
   },
   "outputs": [],
   "source": [
    "class ConvBlock(nn.Module):\n",
    "    def __init__(self, in_ch, out_ch, act=nn.SiLU):\n",
    "        super().__init__()\n",
    "        self.conv = nn.Conv2d(in_ch, out_ch, kernel_size=3, padding=1)\n",
    "        self.act = act()\n",
    "        # nn.init.kaiming_normal_(self.conv.weight, nonlinearity='relu')  # test later\n",
    "        nn.init.zeros_(self.conv.bias)  # start zero?\n",
    "\n",
    "    def forward(self, x):\n",
    "        return self.act(self.conv(x))\n",
    "\n",
    "class ConvFlowNet(nn.Module):\n",
    "    def __init__(self, latent_ch, hidden=32, depth=3, grow=True):\n",
    "        super().__init__()\n",
    "        self.in_conv  = nn.Conv2d(latent_ch + 1, hidden, 3, padding=1)\n",
    "        channels = [hidden * (2**i) for i in range(depth)] if grow else [hidden] * depth\n",
    "\n",
    "        self.blocks = nn.Sequential(\n",
    "            *[ConvBlock(in_ch, out_ch)\n",
    "              for in_ch, out_ch in zip(channels[:-1], channels[1:])]\n",
    "        )\n",
    "\n",
    "        self.out_conv = nn.Conv2d(channels[-1], latent_ch, 3, padding=1)\n",
    "        nn.init.zeros_(self.out_conv.weight)\n",
    "        nn.init.zeros_(self.out_conv.bias)\n",
    "\n",
    "    def forward(self, z, t):\n",
    "        # z: [B,C,H,W], t: [B] or [B,1]\n",
    "        B, C, H, W = z.shape\n",
    "        t_img = t.view(B, 1, 1, 1).expand(B, 1, H, W)\n",
    "        h = F.silu(self.in_conv(torch.cat([z, t_img], dim=1)))\n",
    "        h = self.blocks(h)\n",
    "        return self.out_conv(h)"
   ]
  },
  {
   "cell_type": "code",
   "execution_count": 87,
   "id": "e2effbfd0fc27539",
   "metadata": {
    "ExecuteTime": {
     "end_time": "2025-10-09T15:24:59.184086Z",
     "start_time": "2025-10-09T15:24:59.179269Z"
    }
   },
   "outputs": [],
   "source": [
    "project = 'spatial_vae_conv_testing'\n",
    "def train_flow_model(model, train_loader, test_loader, name='flow_model', pretrained_model=None, epochs=20, lr=0.001, warp_fn=None, new_points_every=1):\n",
    "    wandb.finish()\n",
    "    wandb.init(project=project, name=name, reinit='finish_previous')\n",
    "    wandb.config.update({\n",
    "        \"epochs\": epochs,\n",
    "        \"batch_size\": train_loader.batch_size,\n",
    "        \"learning_rate\": lr,\n",
    "        \"model\": model.__class__.__name__,\n",
    "        \"optimizer\": \"Adam\"\n",
    "    })\n",
    "\n",
    "    criterion = nn.MSELoss()\n",
    "    optimizer = optim.Adam(model.parameters(), lr=lr)\n",
    "\n",
    "    global_step = 1\n",
    "\n",
    "    for epoch in range(epochs):\n",
    "        # Training phase\n",
    "        model.train()\n",
    "        pbar = tqdm(train_loader, desc=f'Epoch {epoch+1}/{epochs}')\n",
    "\n",
    "        for batch_idx, (data, _) in enumerate(pbar):\n",
    "            optimizer.zero_grad()\n",
    "\n",
    "            # Get data and create a sample from it to calc movement\n",
    "            target_x = data.to(device)\n",
    "            sampled_x = torch.randn_like(target_x)\n",
    "            B = sampled_x.size(0)\n",
    "\n",
    "            if global_step % new_points_every == 0:\n",
    "                if pretrained_model:   # ReFlow\n",
    "                    target_x = integrate_path(pretrained_model, sampled_x, step_fn=rk4_step, warp_fn=warp_time, n_steps=20)\n",
    "\n",
    "            t  = torch.rand(B, 1, device=sampled_x.device, dtype=sampled_x.dtype)\n",
    "            \n",
    "            t4 = t.view(B, 1, 1, 1)\n",
    "            if warp_fn: t = warp_fn(t)\n",
    "                \n",
    "            interpolated_x = sampled_x * (1 - t4) + target_x * t4\n",
    "            line_directions = target_x - sampled_x\n",
    "\n",
    "            drift = model(interpolated_x, t)\n",
    "            loss = criterion(drift, line_directions)\n",
    "\n",
    "            loss.backward()\n",
    "            optimizer.step()\n",
    "\n",
    "            with torch.no_grad():\n",
    "                cos_sim = F.cosine_similarity(drift, line_directions, dim=1).mean()\n",
    "\n",
    "            wandb.log({\n",
    "                \"step\": global_step,\n",
    "                \"train_loss\": loss.item(),\n",
    "                \"cos_sim\": cos_sim.item(),\n",
    "                \"drift\": drift.norm(dim=1).mean().item(),\n",
    "            })\n",
    "            global_step += 1\n",
    "\n",
    "    return model"
   ]
  },
  {
   "cell_type": "code",
   "execution_count": 88,
   "id": "4b71843a5fe4336e",
   "metadata": {
    "ExecuteTime": {
     "end_time": "2025-10-09T15:24:59.588967Z",
     "start_time": "2025-10-09T15:24:59.559829Z"
    }
   },
   "outputs": [
    {
     "data": {
      "text/plain": [
       "ConvFlowNet(\n",
       "  (in_conv): Conv2d(2, 32, kernel_size=(3, 3), stride=(1, 1), padding=(1, 1))\n",
       "  (blocks): Sequential(\n",
       "    (0): ConvBlock(\n",
       "      (conv): Conv2d(32, 64, kernel_size=(3, 3), stride=(1, 1), padding=(1, 1))\n",
       "      (act): SiLU()\n",
       "    )\n",
       "    (1): ConvBlock(\n",
       "      (conv): Conv2d(64, 128, kernel_size=(3, 3), stride=(1, 1), padding=(1, 1))\n",
       "      (act): SiLU()\n",
       "    )\n",
       "  )\n",
       "  (out_conv): Conv2d(128, 1, kernel_size=(3, 3), stride=(1, 1), padding=(1, 1))\n",
       ")"
      ]
     },
     "execution_count": 88,
     "metadata": {},
     "output_type": "execute_result"
    }
   ],
   "source": [
    "model = ConvFlowNet(latent_ch)\n",
    "model.to(device)"
   ]
  },
  {
   "cell_type": "code",
   "execution_count": 92,
   "id": "51ad8cfb2c6c1142",
   "metadata": {
    "ExecuteTime": {
     "end_time": "2025-10-09T15:25:41.838785Z",
     "start_time": "2025-10-09T15:25:01.018030Z"
    }
   },
   "outputs": [
    {
     "data": {
      "text/html": [],
      "text/plain": [
       "<IPython.core.display.HTML object>"
      ]
     },
     "metadata": {},
     "output_type": "display_data"
    },
    {
     "data": {
      "text/html": [
       "<br>    <style><br>        .wandb-row {<br>            display: flex;<br>            flex-direction: row;<br>            flex-wrap: wrap;<br>            justify-content: flex-start;<br>            width: 100%;<br>        }<br>        .wandb-col {<br>            display: flex;<br>            flex-direction: column;<br>            flex-basis: 100%;<br>            flex: 1;<br>            padding: 10px;<br>        }<br>    </style><br><div class=\"wandb-row\"><div class=\"wandb-col\"><h3>Run history:</h3><br/><table class=\"wandb\"><tr><td>cos_sim</td><td>▁▃▄▃▂▂▄▅▅▄▅▄▄▄▅▅▃▆▇▅█▆▆▆▇▅▄▆▅▇▄▆▅▇▇▄▅▆▇▇</td></tr><tr><td>drift</td><td>▃▅▄▅▅▂▄▄▇▁▄▅▆▇▆▅▄▅▃▆█▇▇▇▆▇▇▅▇▅█▅▇▆▇▆▇▆▆▃</td></tr><tr><td>step</td><td>▁▁▂▃▃▃▃▃▃▃▄▄▄▄▄▅▅▅▅▅▅▅▆▆▆▆▆▆▆▇▇▇▇▇▇▇▇▇██</td></tr><tr><td>train_loss</td><td>█▆▅▅▆▄▅▇▅▆▇▅▅▅▅█▃▃▅▄▆▄▃▅▁▄▄▅▅▄▆▅▂▅▃▂▂▂▄▁</td></tr></table><br/></div><div class=\"wandb-col\"><h3>Run summary:</h3><br/><table class=\"wandb\"><tr><td>cos_sim</td><td>0.63308</td></tr><tr><td>drift</td><td>1.24535</td></tr><tr><td>step</td><td>2345</td></tr><tr><td>train_loss</td><td>1.16027</td></tr></table><br/></div></div>"
      ],
      "text/plain": [
       "<IPython.core.display.HTML object>"
      ]
     },
     "metadata": {},
     "output_type": "display_data"
    },
    {
     "data": {
      "text/html": [
       " View run <strong style=\"color:#cdcd00\">sp_flow_7_trial4</strong> at: <a href='https://wandb.ai/marcocassar-belmont-university/spatial_vae_conv_testing/runs/gswirgxm' target=\"_blank\">https://wandb.ai/marcocassar-belmont-university/spatial_vae_conv_testing/runs/gswirgxm</a><br> View project at: <a href='https://wandb.ai/marcocassar-belmont-university/spatial_vae_conv_testing' target=\"_blank\">https://wandb.ai/marcocassar-belmont-university/spatial_vae_conv_testing</a><br>Synced 5 W&B file(s), 0 media file(s), 0 artifact file(s) and 0 other file(s)"
      ],
      "text/plain": [
       "<IPython.core.display.HTML object>"
      ]
     },
     "metadata": {},
     "output_type": "display_data"
    },
    {
     "data": {
      "text/html": [
       "Find logs at: <code>./wandb/run-20251009_102502-gswirgxm/logs</code>"
      ],
      "text/plain": [
       "<IPython.core.display.HTML object>"
      ]
     },
     "metadata": {},
     "output_type": "display_data"
    },
    {
     "data": {
      "text/html": [],
      "text/plain": [
       "<IPython.core.display.HTML object>"
      ]
     },
     "metadata": {},
     "output_type": "display_data"
    },
    {
     "data": {
      "text/html": [
       "Tracking run with wandb version 0.22.1"
      ],
      "text/plain": [
       "<IPython.core.display.HTML object>"
      ]
     },
     "metadata": {},
     "output_type": "display_data"
    },
    {
     "data": {
      "text/html": [
       "Run data is saved locally in <code>/Users/marcocassar/Projects/DLAIE/self/flow_experimentation/wandb/run-20251009_104419-mwnlpfes</code>"
      ],
      "text/plain": [
       "<IPython.core.display.HTML object>"
      ]
     },
     "metadata": {},
     "output_type": "display_data"
    },
    {
     "data": {
      "text/html": [
       "Syncing run <strong><a href='https://wandb.ai/marcocassar-belmont-university/spatial_vae_conv_testing/runs/mwnlpfes' target=\"_blank\">sp_flow_7_ogConv</a></strong> to <a href='https://wandb.ai/marcocassar-belmont-university/spatial_vae_conv_testing' target=\"_blank\">Weights & Biases</a> (<a href='https://wandb.me/developer-guide' target=\"_blank\">docs</a>)<br>"
      ],
      "text/plain": [
       "<IPython.core.display.HTML object>"
      ]
     },
     "metadata": {},
     "output_type": "display_data"
    },
    {
     "data": {
      "text/html": [
       " View project at <a href='https://wandb.ai/marcocassar-belmont-university/spatial_vae_conv_testing' target=\"_blank\">https://wandb.ai/marcocassar-belmont-university/spatial_vae_conv_testing</a>"
      ],
      "text/plain": [
       "<IPython.core.display.HTML object>"
      ]
     },
     "metadata": {},
     "output_type": "display_data"
    },
    {
     "data": {
      "text/html": [
       " View run at <a href='https://wandb.ai/marcocassar-belmont-university/spatial_vae_conv_testing/runs/mwnlpfes' target=\"_blank\">https://wandb.ai/marcocassar-belmont-university/spatial_vae_conv_testing/runs/mwnlpfes</a>"
      ],
      "text/plain": [
       "<IPython.core.display.HTML object>"
      ]
     },
     "metadata": {},
     "output_type": "display_data"
    },
    {
     "name": "stderr",
     "output_type": "stream",
     "text": [
      "Epoch 1/20: 100%|██████████| 469/469 [00:02<00:00, 220.25it/s]\n",
      "Epoch 2/20: 100%|██████████| 469/469 [00:01<00:00, 259.76it/s]\n",
      "Epoch 3/20: 100%|██████████| 469/469 [00:01<00:00, 251.52it/s]\n",
      "Epoch 4/20: 100%|██████████| 469/469 [00:01<00:00, 254.63it/s]\n",
      "Epoch 5/20: 100%|██████████| 469/469 [00:01<00:00, 254.15it/s]\n",
      "Epoch 6/20: 100%|██████████| 469/469 [00:01<00:00, 251.62it/s]\n",
      "Epoch 7/20: 100%|██████████| 469/469 [00:01<00:00, 257.08it/s]\n",
      "Epoch 8/20: 100%|██████████| 469/469 [00:02<00:00, 195.46it/s]\n",
      "Epoch 9/20: 100%|██████████| 469/469 [00:01<00:00, 244.54it/s]\n",
      "Epoch 10/20: 100%|██████████| 469/469 [00:01<00:00, 248.75it/s]\n",
      "Epoch 11/20: 100%|██████████| 469/469 [00:01<00:00, 247.37it/s]\n",
      "Epoch 12/20: 100%|██████████| 469/469 [00:01<00:00, 246.91it/s]\n",
      "Epoch 13/20: 100%|██████████| 469/469 [00:01<00:00, 250.17it/s]\n",
      "Epoch 14/20: 100%|██████████| 469/469 [00:01<00:00, 247.23it/s]\n",
      "Epoch 15/20: 100%|██████████| 469/469 [00:01<00:00, 247.46it/s]\n",
      "Epoch 16/20: 100%|██████████| 469/469 [00:02<00:00, 213.07it/s]\n",
      "Epoch 17/20: 100%|██████████| 469/469 [00:01<00:00, 244.08it/s]\n",
      "Epoch 18/20: 100%|██████████| 469/469 [00:01<00:00, 239.25it/s]\n",
      "Epoch 19/20: 100%|██████████| 469/469 [00:01<00:00, 244.53it/s]\n",
      "Epoch 20/20: 100%|██████████| 469/469 [00:01<00:00, 243.22it/s]\n"
     ]
    },
    {
     "data": {
      "text/plain": [
       "ConvFlowNet(\n",
       "  (in_conv): Conv2d(2, 32, kernel_size=(3, 3), stride=(1, 1), padding=(1, 1))\n",
       "  (blocks): Sequential(\n",
       "    (0): ConvBlock(\n",
       "      (conv): Conv2d(32, 64, kernel_size=(3, 3), stride=(1, 1), padding=(1, 1))\n",
       "      (act): SiLU()\n",
       "    )\n",
       "    (1): ConvBlock(\n",
       "      (conv): Conv2d(64, 128, kernel_size=(3, 3), stride=(1, 1), padding=(1, 1))\n",
       "      (act): SiLU()\n",
       "    )\n",
       "  )\n",
       "  (out_conv): Conv2d(128, 1, kernel_size=(3, 3), stride=(1, 1), padding=(1, 1))\n",
       ")"
      ]
     },
     "execution_count": 92,
     "metadata": {},
     "output_type": "execute_result"
    }
   ],
   "source": [
    "train_flow_model(model, train_dl, test_dl, name=f'sp_flow_{latent_dim}_ogConv', epochs=20)"
   ]
  },
  {
   "cell_type": "code",
   "execution_count": 98,
   "id": "eda92f55-0282-4023-8392-a94e35725377",
   "metadata": {},
   "outputs": [
    {
     "data": {
      "text/html": [],
      "text/plain": [
       "<IPython.core.display.HTML object>"
      ]
     },
     "metadata": {},
     "output_type": "display_data"
    },
    {
     "data": {
      "text/html": [
       "<br>    <style><br>        .wandb-row {<br>            display: flex;<br>            flex-direction: row;<br>            flex-wrap: wrap;<br>            justify-content: flex-start;<br>            width: 100%;<br>        }<br>        .wandb-col {<br>            display: flex;<br>            flex-direction: column;<br>            flex-basis: 100%;<br>            flex: 1;<br>            padding: 10px;<br>        }<br>    </style><br><div class=\"wandb-row\"><div class=\"wandb-col\"><h3>Run history:</h3><br/><table class=\"wandb\"><tr><td>cos_sim</td><td>▁▆▆▆▆▆▆▇▇▆▆█▇▇▇▇█▇██▇█▇█▇▇▇▇▇▇▇▆▆▇▇▇▇▇▇▇</td></tr><tr><td>drift</td><td>▁▄▃▆▇▄▇▆▅▇▄▅▆▆▆▅▆█▅▇▇▆▇▆▇▅▇█▇▄▇▅▇▇▆▅▆▇▇▇</td></tr><tr><td>step</td><td>▁▁▁▁▂▂▂▂▃▃▃▃▄▄▄▄▅▅▅▅▅▅▅▅▅▆▆▆▆▆▆▆▆▆▇▇▇▇▇█</td></tr><tr><td>train_loss</td><td>██▅▅▄▃▃▃▄▂▃▃▄▃▃▃▃▂▃▃▃▃▂▃▃▂▁▂▃▃▂▃▂▂▂▁▂▂▂▁</td></tr></table><br/></div><div class=\"wandb-col\"><h3>Run summary:</h3><br/><table class=\"wandb\"><tr><td>cos_sim</td><td>0.6233</td></tr><tr><td>drift</td><td>1.22916</td></tr><tr><td>step</td><td>9380</td></tr><tr><td>train_loss</td><td>1.23371</td></tr></table><br/></div></div>"
      ],
      "text/plain": [
       "<IPython.core.display.HTML object>"
      ]
     },
     "metadata": {},
     "output_type": "display_data"
    },
    {
     "data": {
      "text/html": [
       " View run <strong style=\"color:#cdcd00\">sp_flow_7_ogConv</strong> at: <a href='https://wandb.ai/marcocassar-belmont-university/spatial_vae_conv_testing/runs/mwnlpfes' target=\"_blank\">https://wandb.ai/marcocassar-belmont-university/spatial_vae_conv_testing/runs/mwnlpfes</a><br> View project at: <a href='https://wandb.ai/marcocassar-belmont-university/spatial_vae_conv_testing' target=\"_blank\">https://wandb.ai/marcocassar-belmont-university/spatial_vae_conv_testing</a><br>Synced 5 W&B file(s), 0 media file(s), 0 artifact file(s) and 0 other file(s)"
      ],
      "text/plain": [
       "<IPython.core.display.HTML object>"
      ]
     },
     "metadata": {},
     "output_type": "display_data"
    },
    {
     "data": {
      "text/html": [
       "Find logs at: <code>./wandb/run-20251009_104419-mwnlpfes/logs</code>"
      ],
      "text/plain": [
       "<IPython.core.display.HTML object>"
      ]
     },
     "metadata": {},
     "output_type": "display_data"
    },
    {
     "data": {
      "text/html": [],
      "text/plain": [
       "<IPython.core.display.HTML object>"
      ]
     },
     "metadata": {},
     "output_type": "display_data"
    },
    {
     "data": {
      "text/html": [
       "Tracking run with wandb version 0.22.1"
      ],
      "text/plain": [
       "<IPython.core.display.HTML object>"
      ]
     },
     "metadata": {},
     "output_type": "display_data"
    },
    {
     "data": {
      "text/html": [
       "Run data is saved locally in <code>/Users/marcocassar/Projects/DLAIE/self/flow_experimentation/wandb/run-20251009_104832-5ca1fh9l</code>"
      ],
      "text/plain": [
       "<IPython.core.display.HTML object>"
      ]
     },
     "metadata": {},
     "output_type": "display_data"
    },
    {
     "data": {
      "text/html": [
       "Syncing run <strong><a href='https://wandb.ai/marcocassar-belmont-university/spatial_vae_conv_testing/runs/5ca1fh9l' target=\"_blank\">sp_reflow_7</a></strong> to <a href='https://wandb.ai/marcocassar-belmont-university/spatial_vae_conv_testing' target=\"_blank\">Weights & Biases</a> (<a href='https://wandb.me/developer-guide' target=\"_blank\">docs</a>)<br>"
      ],
      "text/plain": [
       "<IPython.core.display.HTML object>"
      ]
     },
     "metadata": {},
     "output_type": "display_data"
    },
    {
     "data": {
      "text/html": [
       " View project at <a href='https://wandb.ai/marcocassar-belmont-university/spatial_vae_conv_testing' target=\"_blank\">https://wandb.ai/marcocassar-belmont-university/spatial_vae_conv_testing</a>"
      ],
      "text/plain": [
       "<IPython.core.display.HTML object>"
      ]
     },
     "metadata": {},
     "output_type": "display_data"
    },
    {
     "data": {
      "text/html": [
       " View run at <a href='https://wandb.ai/marcocassar-belmont-university/spatial_vae_conv_testing/runs/5ca1fh9l' target=\"_blank\">https://wandb.ai/marcocassar-belmont-university/spatial_vae_conv_testing/runs/5ca1fh9l</a>"
      ],
      "text/plain": [
       "<IPython.core.display.HTML object>"
      ]
     },
     "metadata": {},
     "output_type": "display_data"
    },
    {
     "name": "stderr",
     "output_type": "stream",
     "text": [
      "Epoch 1/20: 100%|██████████| 469/469 [00:22<00:00, 21.28it/s]\n",
      "Epoch 2/20: 100%|██████████| 469/469 [00:21<00:00, 21.90it/s]\n",
      "Epoch 3/20: 100%|██████████| 469/469 [00:20<00:00, 22.40it/s]\n",
      "Epoch 4/20: 100%|██████████| 469/469 [00:20<00:00, 22.45it/s]\n",
      "Epoch 5/20: 100%|██████████| 469/469 [00:21<00:00, 21.96it/s]\n",
      "Epoch 6/20: 100%|██████████| 469/469 [00:22<00:00, 21.03it/s]\n",
      "Epoch 7/20: 100%|██████████| 469/469 [00:23<00:00, 20.02it/s]\n",
      "Epoch 8/20: 100%|██████████| 469/469 [00:21<00:00, 21.67it/s]\n",
      "Epoch 9/20: 100%|██████████| 469/469 [00:21<00:00, 22.22it/s]\n",
      "Epoch 10/20: 100%|██████████| 469/469 [00:21<00:00, 22.11it/s]\n",
      "Epoch 11/20: 100%|██████████| 469/469 [00:21<00:00, 21.82it/s]\n",
      "Epoch 12/20: 100%|██████████| 469/469 [00:23<00:00, 20.00it/s]\n",
      "Epoch 13/20: 100%|██████████| 469/469 [00:24<00:00, 19.05it/s]\n",
      "Epoch 14/20: 100%|██████████| 469/469 [00:24<00:00, 19.02it/s]\n",
      "Epoch 15/20: 100%|██████████| 469/469 [00:22<00:00, 21.26it/s]\n",
      "Epoch 16/20: 100%|██████████| 469/469 [00:22<00:00, 20.48it/s]\n",
      "Epoch 17/20: 100%|██████████| 469/469 [00:23<00:00, 19.61it/s]\n",
      "Epoch 18/20: 100%|██████████| 469/469 [00:26<00:00, 17.78it/s]\n",
      "Epoch 19/20: 100%|██████████| 469/469 [00:27<00:00, 16.80it/s]\n",
      "Epoch 20/20: 100%|██████████| 469/469 [00:26<00:00, 17.98it/s]\n"
     ]
    },
    {
     "data": {
      "text/plain": [
       "ConvFlowNet(\n",
       "  (in_conv): Conv2d(2, 32, kernel_size=(3, 3), stride=(1, 1), padding=(1, 1))\n",
       "  (blocks): Sequential(\n",
       "    (0): ConvBlock(\n",
       "      (conv): Conv2d(32, 64, kernel_size=(3, 3), stride=(1, 1), padding=(1, 1))\n",
       "      (act): SiLU()\n",
       "    )\n",
       "    (1): ConvBlock(\n",
       "      (conv): Conv2d(64, 128, kernel_size=(3, 3), stride=(1, 1), padding=(1, 1))\n",
       "      (act): SiLU()\n",
       "    )\n",
       "  )\n",
       "  (out_conv): Conv2d(128, 1, kernel_size=(3, 3), stride=(1, 1), padding=(1, 1))\n",
       ")"
      ]
     },
     "execution_count": 98,
     "metadata": {},
     "output_type": "execute_result"
    }
   ],
   "source": [
    "new_model = ConvFlowNet(latent_ch)\n",
    "new_model.to(device)\n",
    "train_flow_model(new_model, train_dl, test_dl, name=f'sp_reflow_{latent_dim}',pretrained_model=model, epochs=20)"
   ]
  },
  {
   "cell_type": "code",
   "execution_count": 157,
   "id": "8cb549ead17b9335",
   "metadata": {
    "ExecuteTime": {
     "end_time": "2025-10-09T00:51:29.086203Z",
     "start_time": "2025-10-09T00:51:29.070308Z"
    }
   },
   "outputs": [],
   "source": [
    "from safetensors.torch import save_file\n",
    "# save_file(model.state_dict(), 'models/safetensors/flow/sp_flow_7x7.safetensors')\n",
    "# save_file(new_model.state_dict(), 'models/safetensors/flow/sp_reflow_7x7.safetensors')\n",
    "state_dict_vae = torch.load(f'models/spatial_ae_{latent_dim}.pth')\n",
    "save_file(state_dict_vae, 'models/safetensors/vae/sp_vae.safetensors')\n",
    "\n",
    "\n",
    "# torch.save(model.state_dict(), 'models/sp_flow_7x7.pth')\n",
    "# torch.save(new_model.state_dict(), 'models/sp_flow_7x7.pth')"
   ]
  },
  {
   "cell_type": "code",
   "id": "55ebb7807721d316",
   "metadata": {
    "ExecuteTime": {
     "end_time": "2025-10-09T23:05:22.707489Z",
     "start_time": "2025-10-09T23:05:22.699940Z"
    }
   },
   "source": [
    "class MarcosModel(nn.Module):\n",
    "    def __init__(self, vae, flow_model, latent_dim=3):\n",
    "        super().__init__()\n",
    "\n",
    "        #--- REQUIRED INFO:\n",
    "        self.info = {\n",
    "            'team': 'Marco',  # REPLACE with your team name. This will be public\n",
    "            'names': 'Marco', # or single name. This will be kept private\n",
    "        }\n",
    "        self.latent_dim = latent_dim\n",
    "        self.latent_shape = (1,latent_dim,latent_dim)\n",
    "        self.device = 'mps'\n",
    "\n",
    "        #--- TEMP\n",
    "        self.vae = vae\n",
    "        self.flow_model = flow_model\n",
    "\n",
    "    def generate_samples(self, n_samples:int, n_steps=100) -> torch.Tensor:\n",
    "        self.flow_model.eval(); self.vae.eval()\n",
    "        z0 = torch.randn(n_samples, *self.latent_shape, device=self.device)\n",
    "        z1 = integrate_path(self.flow_model, z0, n_steps=n_steps, step_fn=rk4_step, latent_2d=True)\n",
    "        return F.sigmoid(self.decode(z1)).squeeze(1)\n",
    "        # return F.sigmoid(self.decode(z1)).view(-1, 28, 28)\n",
    "\n",
    "    def encode(self, images: torch.Tensor) -> torch.Tensor:\n",
    "        # if your vae has linear layers, flatten first\n",
    "        # if your vae has conv layers, comment out next line\n",
    "        # images = images.view(images.size(0), -1)\n",
    "        with torch.no_grad():\n",
    "            z = self.vae.encoder(images.to(self.device))\n",
    "            mu = z[:, :self.latent_dim]  # return only first half (mu)\n",
    "            return mu\n",
    "\n",
    "    def decode(self, latents: torch.Tensor) -> torch.Tensor:\n",
    "        return self.vae.decoder(latents)\n",
    "\n",
    "    def to(self, device):\n",
    "        self.device = device\n",
    "        self.vae.to(self.device)\n",
    "        self.flow_model.to(self.device)\n",
    "        return self"
   ],
   "outputs": [],
   "execution_count": 189
  },
  {
   "metadata": {},
   "cell_type": "code",
   "outputs": [],
   "execution_count": null,
   "source": "",
   "id": "33b9d693db6549bf"
  },
  {
   "metadata": {
    "ExecuteTime": {
     "end_time": "2025-10-09T23:05:30.824285Z",
     "start_time": "2025-10-09T23:05:30.821361Z"
    }
   },
   "cell_type": "code",
   "source": [
    "@torch.no_grad()\n",
    "def integrate_path(model, initial_points, step_fn=rk4_step, n_steps=100, save_trajectories=False, warp_fn=None, latent_2d=False):\n",
    "    p = next(model.parameters())\n",
    "    device, model_dtype = p.device, p.dtype\n",
    "\n",
    "    current_points = initial_points.to(device=device, dtype=model_dtype).clone()\n",
    "    model.eval()\n",
    "\n",
    "    ts = torch.linspace(0, 1, n_steps, device=device, dtype=model_dtype)\n",
    "    if warp_fn: ts = warp_fn(ts)\n",
    "    if latent_2d: t_batch = torch.empty((current_points.shape[0], 1), device=device, dtype=model_dtype)\n",
    "\n",
    "    for i in range(len(ts) - 1):\n",
    "        t, dt = ts[i], ts[i + 1] - ts[i]\n",
    "        if latent_2d: t = t_batch.fill_(t.item())\n",
    "\n",
    "        current_points = step_fn(model, current_points, t, dt)\n",
    "\n",
    "    return current_points"
   ],
   "id": "7f75074e8d0e88df",
   "outputs": [],
   "execution_count": 190
  },
  {
   "cell_type": "code",
   "id": "8c3aea18ac20c5f7",
   "metadata": {
    "ExecuteTime": {
     "end_time": "2025-10-09T23:05:30.827689Z",
     "start_time": "2025-10-09T23:05:30.825155Z"
    }
   },
   "source": [
    "import matplotlib.pyplot as plt\n",
    "\n",
    "def plot_generated(gen_xhat, nrow=5):\n",
    "    gen_xhat = gen_xhat.detach().cpu()\n",
    "\n",
    "    # assume shape (N, 28, 28)\n",
    "    n_samples = gen_xhat.size(0)\n",
    "    ncol = nrow\n",
    "    nrow = (n_samples + ncol - 1) // ncol\n",
    "\n",
    "    fig, axes = plt.subplots(nrow, ncol, figsize=(ncol*2, nrow*2))\n",
    "    axes = axes.flatten()\n",
    "\n",
    "    for i, ax in enumerate(axes):\n",
    "        if i < n_samples:\n",
    "            ax.imshow(gen_xhat[i], cmap=\"gray\")\n",
    "        ax.axis(\"off\")\n",
    "\n",
    "    plt.tight_layout()\n",
    "    plt.show()"
   ],
   "outputs": [],
   "execution_count": 191
  },
  {
   "metadata": {
    "ExecuteTime": {
     "end_time": "2025-10-09T23:33:42.775227Z",
     "start_time": "2025-10-09T23:33:42.773155Z"
    }
   },
   "cell_type": "code",
   "source": [
    "from helpers import BasicModel, plot_generated\n",
    "flow_temp_class = BasicModel(vae, model, latent_shape=(1,7,7))"
   ],
   "id": "830d057a2eb3dcd8",
   "outputs": [],
   "execution_count": 207
  },
  {
   "cell_type": "code",
   "id": "580489c38532114c",
   "metadata": {
    "ExecuteTime": {
     "end_time": "2025-10-09T23:05:30.830203Z",
     "start_time": "2025-10-09T23:05:30.828300Z"
    }
   },
   "source": [
    "flow_class = MarcosModel(vae, model, latent_dim=latent_dim)\n",
    "reflow_class = MarcosModel(vae, new_model, latent_dim=latent_dim)"
   ],
   "outputs": [],
   "execution_count": 192
  },
  {
   "metadata": {
    "ExecuteTime": {
     "end_time": "2025-10-09T23:05:47.437287Z",
     "start_time": "2025-10-09T23:05:47.404701Z"
    }
   },
   "cell_type": "code",
   "source": "plot_generated(flow_class.generate_samples(5,5))",
   "id": "a8faf6e953270a08",
   "outputs": [
    {
     "data": {
      "text/plain": [
       "<Figure size 1000x200 with 5 Axes>"
      ],
      "image/png": "[encoded data removed]"
     },
     "metadata": {},
     "output_type": "display_data",
     "jetTransient": {
      "display_id": null
     }
    }
   ],
   "execution_count": 194
  },
  {
   "cell_type": "code",
   "id": "9ac379e5-dafc-47e8-b441-86d4d159d99e",
   "metadata": {
    "ExecuteTime": {
     "end_time": "2025-10-09T22:58:52.071824Z",
     "start_time": "2025-10-09T22:58:52.068932Z"
    }
   },
   "source": [
    "def comparative_generate_samples(flow1, flow2, vae, n_samples:int, n_steps=100) -> torch.Tensor:\n",
    "    flow1.eval(); flow2.eval(); vae.eval()\n",
    "    z0 = torch.randn(n_samples, 1, latent_dim, latent_dim, device=device)\n",
    "    \n",
    "    z1 = integrate_path(flow1, z0.clone(), n_steps=n_steps, step_fn=rk4_step, latent_2d=True)\n",
    "    z2 = integrate_path(flow2, z0.clone(), n_steps=n_steps, step_fn=rk4_step, latent_2d=True)\n",
    "    \n",
    "    x1 = torch.sigmoid(vae.decoder(z1)).view(-1, 28, 28)\n",
    "    x2 = torch.sigmoid(vae.decoder(z2)).view(-1, 28, 28)\n",
    "    return x1, x2"
   ],
   "outputs": [],
   "execution_count": 184
  },
  {
   "cell_type": "code",
   "id": "712cbde7eac8a6b0",
   "metadata": {
    "ExecuteTime": {
     "end_time": "2025-10-09T23:01:36.496753Z",
     "start_time": "2025-10-09T23:01:36.421532Z"
    }
   },
   "source": [
    "x1, x2 = comparative_generate_samples(model, new_model, vae, 5, 10)\n",
    "print(\"Normal Flow\")\n",
    "plot_generated(x1)\n",
    "print(\"Re Flow\")\n",
    "plot_generated(x2)"
   ],
   "outputs": [
    {
     "name": "stdout",
     "output_type": "stream",
     "text": [
      "Normal Flow\n"
     ]
    },
    {
     "data": {
      "text/plain": [
       "<Figure size 1000x200 with 5 Axes>"
      ],
      "image/png": "[encoded data removed]"
     },
     "metadata": {},
     "output_type": "display_data",
     "jetTransient": {
      "display_id": null
     }
    },
    {
     "name": "stdout",
     "output_type": "stream",
     "text": [
      "Re Flow\n"
     ]
    },
    {
     "data": {
      "text/plain": [
       "<Figure size 1000x200 with 5 Axes>"
      ],
      "image/png": "[encoded data removed]"
     },
     "metadata": {},
     "output_type": "display_data",
     "jetTransient": {
      "display_id": null
     }
    }
   ],
   "execution_count": 188
  },
  {
   "cell_type": "code",
   "id": "f425d362-0c95-4ef2-a8b7-26126df90121",
   "metadata": {
    "ExecuteTime": {
     "end_time": "2025-10-09T22:59:08.481908Z",
     "start_time": "2025-10-09T22:59:08.410318Z"
    }
   },
   "source": [
    "from vae_scott import test_inference_spatial\n",
    "test_inference_spatial(vae, train_ds)"
   ],
   "outputs": [
    {
     "data": {
      "text/plain": [
       "<Figure size 220x780 with 3 Axes>"
      ],
      "image/png": "[encoded data removed]"
     },
     "metadata": {},
     "output_type": "display_data",
     "jetTransient": {
      "display_id": null
     }
    }
   ],
   "execution_count": 186
  },
  {
   "cell_type": "code",
   "execution_count": 169,
   "id": "1d634e0d-3490-4e16-ae18-f3b4d4411902",
   "metadata": {},
   "outputs": [
    {
     "data": {
      "text/plain": [
       "<function vae_scott.test_inference(model, test_ds, idx=None, return_fig=False)>"
      ]
     },
     "execution_count": 169,
     "metadata": {},
     "output_type": "execute_result"
    }
   ],
   "source": [
    "test_inference"
   ]
  },
  {
   "cell_type": "code",
   "execution_count": null,
   "id": "71c37b50-94bf-4d3d-802a-5d95ec39bf53",
   "metadata": {},
   "outputs": [],
   "source": []
  }
 ],
 "metadata": {
  "kernelspec": {
   "display_name": "Python 3 (ipykernel)",
   "language": "python",
   "name": "python3"
  },
  "language_info": {
   "codemirror_mode": {
    "name": "ipython",
    "version": 3
   },
   "file_extension": ".py",
   "mimetype": "text/x-python",
   "name": "python",
   "nbconvert_exporter": "python",
   "pygments_lexer": "ipython3",
   "version": "3.13.7"
  }
 },
 "nbformat": 4,
 "nbformat_minor": 5
}
