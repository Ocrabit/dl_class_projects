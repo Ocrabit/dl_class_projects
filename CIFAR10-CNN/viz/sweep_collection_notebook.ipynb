{
 "cells": [
  {
   "metadata": {},
   "cell_type": "markdown",
   "source": "## Note This is Depreciated",
   "id": "aea44245e07b4eb3"
  },
  {
   "metadata": {},
   "cell_type": "markdown",
   "source": "##### Imports",
   "id": "e4e54a4fec67721d"
  },
  {
   "metadata": {},
   "cell_type": "code",
   "outputs": [],
   "execution_count": null,
   "source": "# !pip install wandb",
   "id": "fe8b94aa3b95a1f"
  },
  {
   "metadata": {
    "ExecuteTime": {
     "end_time": "2025-10-03T22:07:24.636430Z",
     "start_time": "2025-10-03T22:07:24.445361Z"
    }
   },
   "cell_type": "code",
   "source": [
    "import json\n",
    "import pandas as pd"
   ],
   "id": "c1fa086a5897c265",
   "outputs": [],
   "execution_count": 2
  },
  {
   "metadata": {},
   "cell_type": "markdown",
   "source": "##### Optional Utilities",
   "id": "5c23c4db5097f40f"
  },
  {
   "metadata": {
    "ExecuteTime": {
     "end_time": "2025-10-03T22:07:27.766463Z",
     "start_time": "2025-10-03T22:07:27.282709Z"
    }
   },
   "cell_type": "code",
   "source": [
    "from wandb import Run\n",
    "\n",
    "# Needs a run object from wandb\n",
    "def get_metadata_from_run(run: Run):\n",
    "    with run.file(\"wandb-metadata.json\").download(root=\".\", replace=True) as f:\n",
    "        data = json.load(f)\n",
    "    return data\n",
    "\n",
    "# Save record to json\n",
    "def save_to_json(records: [], filename: str, indent: int = 2):\n",
    "    with open(f\"{filename}.json\", \"w\") as f:\n",
    "        json.dump(records, f, indent=indent)\n",
    "\n",
    "# Help func, prob should have just inlined it\n",
    "def last_row(history_list):\n",
    "    return history_list[-1] if history_list else {}"
   ],
   "id": "fba24ded748c8c1d",
   "outputs": [],
   "execution_count": 3
  },
  {
   "metadata": {},
   "cell_type": "markdown",
   "source": "#### Collect from WandB api and build df",
   "id": "63698d0973c8577f"
  },
  {
   "metadata": {
    "ExecuteTime": {
     "end_time": "2025-09-15T18:04:57.235444Z",
     "start_time": "2025-09-15T18:04:57.232452Z"
    }
   },
   "cell_type": "code",
   "outputs": [],
   "execution_count": 2,
   "source": [
    "# Insert post weblink should follow scheme org/project/id\n",
    "sweep_path = \"example-org-name/example-project-name/3d94i2u8\"  # end with id of run"
   ],
   "id": "648c25d0d497184a"
  },
  {
   "metadata": {
    "ExecuteTime": {
     "end_time": "2025-10-03T22:07:53.409600Z",
     "start_time": "2025-10-03T22:07:53.407912Z"
    }
   },
   "cell_type": "code",
   "source": "sweep_path = \"drscotthawley/resnetvae/jns9azzd\"",
   "id": "547f0f7a620406d2",
   "outputs": [],
   "execution_count": 4
  },
  {
   "metadata": {
    "ExecuteTime": {
     "end_time": "2025-10-03T22:07:54.918340Z",
     "start_time": "2025-10-03T22:07:54.558178Z"
    }
   },
   "cell_type": "code",
   "source": [
    "# Use wandb api\n",
    "from wandb.apis.public import Api\n",
    "sweep = Api().sweep(sweep_path)"
   ],
   "id": "25255758902d90aa",
   "outputs": [],
   "execution_count": 5
  },
  {
   "metadata": {
    "ExecuteTime": {
     "end_time": "2025-10-03T22:38:18.623443Z",
     "start_time": "2025-10-03T22:38:18.154593Z"
    }
   },
   "cell_type": "code",
   "source": [
    "tmp_path = 'marcocassar-belmont-university/dl_class_projects-CIFAR10-CNN/sweeps/3u0gu68u'\n",
    "sweep_me = Api().sweep(tmp_path)"
   ],
   "id": "32e270f42edd4555",
   "outputs": [],
   "execution_count": 66
  },
  {
   "metadata": {
    "ExecuteTime": {
     "end_time": "2025-10-03T22:38:28.575743Z",
     "start_time": "2025-10-03T22:38:28.574257Z"
    }
   },
   "cell_type": "code",
   "source": "runs_me = sweep_me.runs",
   "id": "88841d454a5a55ef",
   "outputs": [],
   "execution_count": 67
  },
  {
   "metadata": {
    "ExecuteTime": {
     "end_time": "2025-10-03T22:07:55.502905Z",
     "start_time": "2025-10-03T22:07:55.501145Z"
    }
   },
   "cell_type": "code",
   "source": [
    "# Collect runs from sweep\n",
    "runs = sweep.runs"
   ],
   "id": "16b618822d1a08f3",
   "outputs": [],
   "execution_count": 6
  },
  {
   "metadata": {
    "ExecuteTime": {
     "end_time": "2025-10-03T22:39:23.066215Z",
     "start_time": "2025-10-03T22:39:21.621939Z"
    }
   },
   "cell_type": "code",
   "source": [
    "# Create record array of sweep info | Takes a second if there is a lot of runs\n",
    "records = []\n",
    "\n",
    "for i, run in enumerate(runs_me):\n",
    "    print(f\"Run: {i+1} of {len(runs)}\")\n",
    "    config = run.config\n",
    "    if isinstance(config, str):\n",
    "        config = json.loads(config)\n",
    "    else:\n",
    "        config = dict(config)\n",
    "\n",
    "    rec = {\n",
    "        \"run_id\": run.id,\n",
    "        \"name\": run.name,\n",
    "        \"url\": run.url,\n",
    "        \"config\": config,\n",
    "        \"history\": []\n",
    "    }\n",
    "\n",
    "    for row in run.scan_history():\n",
    "        rec[\"history\"].append(row)\n",
    "\n",
    "    records.append(rec)\n",
    "    print(f\"history is {rec[\"history\"]}\")\n",
    "    break"
   ],
   "id": "9aa30ea8302b902b",
   "outputs": [
    {
     "name": "stdout",
     "output_type": "stream",
     "text": [
      "Run: 1 of 48\n",
      "history is [{'_timestamp': 1757369814.310271, 'train_loss': 1.987232540879408, 'test_accuracy': 31.02, 'train_accuracy': 26.996, '_step': 0, 'epoch': 1, '_runtime': 13.5769879, 'test_loss': 1.856789961741988}, {'_timestamp': 1757369826.1602318, 'train_loss': 1.7675872199675615, 'test_accuracy': 38.18, 'train_accuracy': 35.854, '_step': 1, 'epoch': 2, '_runtime': 25.4264448, 'test_loss': 1.6927686565241236}, {'_timestamp': 1757369838.4953878, 'train_loss': 1.6731136834529965, 'test_accuracy': 40.66, 'train_accuracy': 38.844, '_step': 2, 'epoch': 3, '_runtime': 37.761473, 'test_loss': 1.6367508210953634}, {'_timestamp': 1757369851.8818395, 'train_loss': 1.6222170637086835, 'test_accuracy': 41.89, 'train_accuracy': 41.156, '_step': 3, 'epoch': 4, '_runtime': 51.1481195, 'test_loss': 1.6045109367674324}, {'_timestamp': 1757369865.4788415, 'train_loss': 1.5843330402203533, 'test_accuracy': 43.05, 'train_accuracy': 42.878, '_step': 4, 'epoch': 5, '_runtime': 64.7450658, 'test_loss': 1.5667197506898527}, {'_timestamp': 1757369879.170066, 'train_loss': 1.5492500409750682, 'test_accuracy': 44.01, 'train_accuracy': 44.354, '_step': 5, 'epoch': 6, '_runtime': 78.4365866, 'test_loss': 1.5315414765837845}, {'_timestamp': 1757369892.7747796, 'train_loss': 1.5158919573135083, 'test_accuracy': 44.85, 'train_accuracy': 45.688, '_step': 6, 'epoch': 7, '_runtime': 92.0410793, 'test_loss': 1.505495468522333}, {'_timestamp': 1757369906.41317, 'train_loss': 1.4877494532433921, 'test_accuracy': 46.74, 'train_accuracy': 46.704, '_step': 7, 'epoch': 8, '_runtime': 105.6796822, 'test_loss': 1.4787032816820085}, {'_timestamp': 1757369919.8651028, 'train_loss': 1.462232872805632, 'test_accuracy': 47.7, 'train_accuracy': 47.594, '_step': 8, 'epoch': 9, '_runtime': 119.1315035, 'test_loss': 1.459113223537518}, {'_timestamp': 1757369933.3961284, 'train_loss': 1.4392228397871831, 'test_accuracy': 48.35, 'train_accuracy': 48.552, '_step': 9, 'epoch': 10, '_runtime': 132.6625819, 'test_loss': 1.4346189081289207}, {'_timestamp': 1757369947.12474, 'train_loss': 1.417762325547845, 'test_accuracy': 48.45, 'train_accuracy': 49.376, '_step': 10, 'epoch': 11, '_runtime': 146.3909595, 'test_loss': 1.4171531344674955}, {'_timestamp': 1757369960.7922926, 'train_loss': 1.3988774004189863, 'test_accuracy': 50.09, 'train_accuracy': 50.002, '_step': 11, 'epoch': 12, '_runtime': 160.0585461, 'test_loss': 1.3905760763557093}, {'_timestamp': 1757369974.4019372, 'train_loss': 1.3811329859296988, 'test_accuracy': 50.45, 'train_accuracy': 50.572, '_step': 12, 'epoch': 13, '_runtime': 173.6677642, 'test_loss': 1.3841695823487203}, {'_timestamp': 1757369987.9307468, 'train_loss': 1.364302570938759, 'test_accuracy': 51.27, 'train_accuracy': 51.382, '_step': 13, 'epoch': 14, '_runtime': 187.197031, 'test_loss': 1.3618085703272729}, {'_timestamp': 1757370001.5912502, 'train_loss': 1.3503050120437847, 'test_accuracy': 51.95, 'train_accuracy': 51.904, '_step': 14, 'epoch': 15, '_runtime': 200.8573385, 'test_loss': 1.3478657029996253}, {'_timestamp': 1757370015.4733508, 'train_loss': 1.3369035121729917, 'test_accuracy': 51.93, 'train_accuracy': 52.276, '_step': 15, 'epoch': 16, '_runtime': 214.7400521, 'test_loss': 1.33518233648531}, {'_timestamp': 1757370029.3425815, 'train_loss': 1.3251781047457625, 'test_accuracy': 52.35, 'train_accuracy': 52.62, '_step': 16, 'epoch': 17, '_runtime': 228.6088241, 'test_loss': 1.325006618621243}, {'_timestamp': 1757370042.9224274, 'train_loss': 1.3133746959516763, 'test_accuracy': 53.2, 'train_accuracy': 53.144, '_step': 17, 'epoch': 18, '_runtime': 242.189086, 'test_loss': 1.3186252587919782}, {'_timestamp': 1757370056.513484, 'train_loss': 1.3027864311204846, 'test_accuracy': 52.51, 'train_accuracy': 53.724, '_step': 18, 'epoch': 19, '_runtime': 255.7796952, 'test_loss': 1.3169525277083087}, {'_timestamp': 1757370070.002801, 'train_loss': 1.2903830866374628, 'test_accuracy': 53.99, 'train_accuracy': 53.898, '_step': 19, 'epoch': 20, '_runtime': 269.2693318, 'test_loss': 1.299930462412014}, {'_timestamp': 1757370083.6088734, 'train_loss': 1.284791066518525, 'test_accuracy': 53.64, 'train_accuracy': 54.308, '_step': 20, 'epoch': 21, '_runtime': 282.8752062, 'test_loss': 1.2966428182686969}, {'_timestamp': 1757370097.24601, 'train_loss': 1.2759834515774036, 'test_accuracy': 54.1, 'train_accuracy': 54.72, '_step': 21, 'epoch': 22, '_runtime': 296.5124561, 'test_loss': 1.2885719268185318}, {'_timestamp': 1757370110.7034776, 'train_loss': 1.2684085765458128, 'test_accuracy': 54.2, 'train_accuracy': 55.03, '_step': 22, 'epoch': 23, '_runtime': 309.9699506, 'test_loss': 1.281925141052076}, {'_timestamp': 1757370124.188298, 'train_loss': 1.2596111306753914, 'test_accuracy': 54.82, 'train_accuracy': 55.286, '_step': 23, 'epoch': 24, '_runtime': 323.4537516, 'test_loss': 1.2779182263999989}, {'_timestamp': 1757370137.6057293, 'train_loss': 1.256540460964603, 'test_accuracy': 53.35, 'train_accuracy': 55.198, '_step': 24, 'epoch': 25, '_runtime': 336.8722553, 'test_loss': 1.2798120360465566}, {'_timestamp': 1757370151.0637841, 'train_loss': 1.2471992868901518, 'test_accuracy': 54.49, 'train_accuracy': 55.766, '_step': 25, 'epoch': 26, '_runtime': 350.3299529, 'test_loss': 1.2895538222258258}, {'_timestamp': 1757370164.4802017, 'train_loss': 1.2405697470888153, 'test_accuracy': 55.34, 'train_accuracy': 55.928, '_step': 26, 'epoch': 27, '_runtime': 363.7465195, 'test_loss': 1.2581954894551806}, {'_timestamp': 1757370177.8604043, 'train_loss': 1.233703757567174, 'test_accuracy': 55.38, 'train_accuracy': 56.276, '_step': 27, 'epoch': 28, '_runtime': 377.1268253, 'test_loss': 1.2510777681496492}, {'_timestamp': 1757370191.2432923, 'train_loss': 1.2269729163945484, 'test_accuracy': 55.43, 'train_accuracy': 56.492, '_step': 28, 'epoch': 29, '_runtime': 390.5096184, 'test_loss': 1.238624070480371}, {'_timestamp': 1757370204.5703444, 'train_loss': 1.2201497593651647, 'test_accuracy': 56.27, 'train_accuracy': 56.812, '_step': 29, 'epoch': 30, '_runtime': 403.836469, 'test_loss': 1.2362092224655636}]\n"
     ]
    }
   ],
   "execution_count": 68
  },
  {
   "metadata": {
    "ExecuteTime": {
     "end_time": "2025-10-03T22:39:32.945794Z",
     "start_time": "2025-10-03T22:39:32.942116Z"
    }
   },
   "cell_type": "code",
   "source": "records",
   "id": "5d288ee7cebbabc4",
   "outputs": [
    {
     "data": {
      "text/plain": [
       "[{'run_id': 'pz9yom7x',\n",
       "  'name': 'peach-sweep-1',\n",
       "  'url': 'https://wandb.ai/marcocassar-belmont-university/dl_class_projects-CIFAR10-CNN/runs/pz9yom7x',\n",
       "  'config': {'seed': {'value': 42},\n",
       "   '_wandb': {'value': {'e': {'4qpgsjct3231tuo99p2rz9cgzptr9rav': {'os': 'Windows-11-10.0.26100-SP0',\n",
       "       'git': {'commit': '4a0b8596ae56cc85ed4f78fc24829e71c848b5c9',\n",
       "        'remote': 'https://github.com/Ocrabit/dl_class_projects.git'},\n",
       "       'gpu': 'NVIDIA GeForce RTX 4070 Ti SUPER',\n",
       "       'args': ['--activation=ReLU',\n",
       "        '--apply_dropout_at=2',\n",
       "        '--base_channels=32',\n",
       "        '--batch_size=64',\n",
       "        '--channel_mult=2',\n",
       "        '--dropout=0.2',\n",
       "        '--epochs=30',\n",
       "        '--kernel_size=3',\n",
       "        '--learning_rate=0.0005',\n",
       "        '--max_channels=128',\n",
       "        '--n_conv_layers=2',\n",
       "        '--padding=1',\n",
       "        '--seed=42',\n",
       "        '--stride=2'],\n",
       "       'disk': {'/': {'used': '66471600128', 'total': '2097151995904'}},\n",
       "       'host': 'marcodesktop',\n",
       "       'root': 'E:\\\\Pycharm\\\\dl_class_projects\\\\CIFAR10-CNN',\n",
       "       'email': 'marcocassar@mdcusa.net',\n",
       "       'memory': {'total': '68470157312'},\n",
       "       'python': 'CPython 3.13.3',\n",
       "       'program': 'E:\\\\Pycharm\\\\dl_class_projects\\\\CIFAR10-CNN\\\\train.py',\n",
       "       'codePath': 'CIFAR10-CNN\\\\train.py',\n",
       "       'writerId': '4qpgsjct3231tuo99p2rz9cgzptr9rav',\n",
       "       'cpu_count': 24,\n",
       "       'gpu_count': 1,\n",
       "       'startedAt': '2025-09-08T22:16:38.146563Z',\n",
       "       'executable': 'E:\\\\Pycharm\\\\dl_class_projects\\\\CIFAR10-CNN\\\\.venv\\\\Scripts\\\\python.exe',\n",
       "       'gpu_nvidia': [{'name': 'NVIDIA GeForce RTX 4070 Ti SUPER',\n",
       "         'uuid': 'GPU-98683465-747d-278f-318b-59000f784b2d',\n",
       "         'cudaCores': 8448,\n",
       "         'memoryTotal': '17171480576',\n",
       "         'architecture': 'Ada'}],\n",
       "       'cudaVersion': '12.9',\n",
       "       'codePathLocal': 'train.py',\n",
       "       'cpu_count_logical': 32}},\n",
       "     'm': [],\n",
       "     't': {'1': [1, 41],\n",
       "      '2': [1, 41],\n",
       "      '3': [2, 14, 16],\n",
       "      '4': '3.13.3',\n",
       "      '5': '0.21.3',\n",
       "      '8': [3],\n",
       "      '12': '0.21.3',\n",
       "      '13': 'windows-amd64'},\n",
       "     'cli_version': '0.21.3',\n",
       "     'python_version': '3.13.3'}},\n",
       "   'epochs': {'value': 30},\n",
       "   'stride': {'value': 2},\n",
       "   'dropout': {'value': 0.2},\n",
       "   'padding': {'value': 1},\n",
       "   'activation': {'value': 'ReLU'},\n",
       "   'batch_size': {'value': 64},\n",
       "   'kernel_size': {'value': 3},\n",
       "   'channel_mult': {'value': 2},\n",
       "   'max_channels': {'value': 128},\n",
       "   'base_channels': {'value': 32},\n",
       "   'learning_rate': {'value': 0.0005},\n",
       "   'n_conv_layers': {'value': 2},\n",
       "   'apply_dropout_at': {'value': 2}},\n",
       "  'history': [{'_timestamp': 1757369814.310271,\n",
       "    'train_loss': 1.987232540879408,\n",
       "    'test_accuracy': 31.02,\n",
       "    'train_accuracy': 26.996,\n",
       "    '_step': 0,\n",
       "    'epoch': 1,\n",
       "    '_runtime': 13.5769879,\n",
       "    'test_loss': 1.856789961741988},\n",
       "   {'_timestamp': 1757369826.1602318,\n",
       "    'train_loss': 1.7675872199675615,\n",
       "    'test_accuracy': 38.18,\n",
       "    'train_accuracy': 35.854,\n",
       "    '_step': 1,\n",
       "    'epoch': 2,\n",
       "    '_runtime': 25.4264448,\n",
       "    'test_loss': 1.6927686565241236},\n",
       "   {'_timestamp': 1757369838.4953878,\n",
       "    'train_loss': 1.6731136834529965,\n",
       "    'test_accuracy': 40.66,\n",
       "    'train_accuracy': 38.844,\n",
       "    '_step': 2,\n",
       "    'epoch': 3,\n",
       "    '_runtime': 37.761473,\n",
       "    'test_loss': 1.6367508210953634},\n",
       "   {'_timestamp': 1757369851.8818395,\n",
       "    'train_loss': 1.6222170637086835,\n",
       "    'test_accuracy': 41.89,\n",
       "    'train_accuracy': 41.156,\n",
       "    '_step': 3,\n",
       "    'epoch': 4,\n",
       "    '_runtime': 51.1481195,\n",
       "    'test_loss': 1.6045109367674324},\n",
       "   {'_timestamp': 1757369865.4788415,\n",
       "    'train_loss': 1.5843330402203533,\n",
       "    'test_accuracy': 43.05,\n",
       "    'train_accuracy': 42.878,\n",
       "    '_step': 4,\n",
       "    'epoch': 5,\n",
       "    '_runtime': 64.7450658,\n",
       "    'test_loss': 1.5667197506898527},\n",
       "   {'_timestamp': 1757369879.170066,\n",
       "    'train_loss': 1.5492500409750682,\n",
       "    'test_accuracy': 44.01,\n",
       "    'train_accuracy': 44.354,\n",
       "    '_step': 5,\n",
       "    'epoch': 6,\n",
       "    '_runtime': 78.4365866,\n",
       "    'test_loss': 1.5315414765837845},\n",
       "   {'_timestamp': 1757369892.7747796,\n",
       "    'train_loss': 1.5158919573135083,\n",
       "    'test_accuracy': 44.85,\n",
       "    'train_accuracy': 45.688,\n",
       "    '_step': 6,\n",
       "    'epoch': 7,\n",
       "    '_runtime': 92.0410793,\n",
       "    'test_loss': 1.505495468522333},\n",
       "   {'_timestamp': 1757369906.41317,\n",
       "    'train_loss': 1.4877494532433921,\n",
       "    'test_accuracy': 46.74,\n",
       "    'train_accuracy': 46.704,\n",
       "    '_step': 7,\n",
       "    'epoch': 8,\n",
       "    '_runtime': 105.6796822,\n",
       "    'test_loss': 1.4787032816820085},\n",
       "   {'_timestamp': 1757369919.8651028,\n",
       "    'train_loss': 1.462232872805632,\n",
       "    'test_accuracy': 47.7,\n",
       "    'train_accuracy': 47.594,\n",
       "    '_step': 8,\n",
       "    'epoch': 9,\n",
       "    '_runtime': 119.1315035,\n",
       "    'test_loss': 1.459113223537518},\n",
       "   {'_timestamp': 1757369933.3961284,\n",
       "    'train_loss': 1.4392228397871831,\n",
       "    'test_accuracy': 48.35,\n",
       "    'train_accuracy': 48.552,\n",
       "    '_step': 9,\n",
       "    'epoch': 10,\n",
       "    '_runtime': 132.6625819,\n",
       "    'test_loss': 1.4346189081289207},\n",
       "   {'_timestamp': 1757369947.12474,\n",
       "    'train_loss': 1.417762325547845,\n",
       "    'test_accuracy': 48.45,\n",
       "    'train_accuracy': 49.376,\n",
       "    '_step': 10,\n",
       "    'epoch': 11,\n",
       "    '_runtime': 146.3909595,\n",
       "    'test_loss': 1.4171531344674955},\n",
       "   {'_timestamp': 1757369960.7922926,\n",
       "    'train_loss': 1.3988774004189863,\n",
       "    'test_accuracy': 50.09,\n",
       "    'train_accuracy': 50.002,\n",
       "    '_step': 11,\n",
       "    'epoch': 12,\n",
       "    '_runtime': 160.0585461,\n",
       "    'test_loss': 1.3905760763557093},\n",
       "   {'_timestamp': 1757369974.4019372,\n",
       "    'train_loss': 1.3811329859296988,\n",
       "    'test_accuracy': 50.45,\n",
       "    'train_accuracy': 50.572,\n",
       "    '_step': 12,\n",
       "    'epoch': 13,\n",
       "    '_runtime': 173.6677642,\n",
       "    'test_loss': 1.3841695823487203},\n",
       "   {'_timestamp': 1757369987.9307468,\n",
       "    'train_loss': 1.364302570938759,\n",
       "    'test_accuracy': 51.27,\n",
       "    'train_accuracy': 51.382,\n",
       "    '_step': 13,\n",
       "    'epoch': 14,\n",
       "    '_runtime': 187.197031,\n",
       "    'test_loss': 1.3618085703272729},\n",
       "   {'_timestamp': 1757370001.5912502,\n",
       "    'train_loss': 1.3503050120437847,\n",
       "    'test_accuracy': 51.95,\n",
       "    'train_accuracy': 51.904,\n",
       "    '_step': 14,\n",
       "    'epoch': 15,\n",
       "    '_runtime': 200.8573385,\n",
       "    'test_loss': 1.3478657029996253},\n",
       "   {'_timestamp': 1757370015.4733508,\n",
       "    'train_loss': 1.3369035121729917,\n",
       "    'test_accuracy': 51.93,\n",
       "    'train_accuracy': 52.276,\n",
       "    '_step': 15,\n",
       "    'epoch': 16,\n",
       "    '_runtime': 214.7400521,\n",
       "    'test_loss': 1.33518233648531},\n",
       "   {'_timestamp': 1757370029.3425815,\n",
       "    'train_loss': 1.3251781047457625,\n",
       "    'test_accuracy': 52.35,\n",
       "    'train_accuracy': 52.62,\n",
       "    '_step': 16,\n",
       "    'epoch': 17,\n",
       "    '_runtime': 228.6088241,\n",
       "    'test_loss': 1.325006618621243},\n",
       "   {'_timestamp': 1757370042.9224274,\n",
       "    'train_loss': 1.3133746959516763,\n",
       "    'test_accuracy': 53.2,\n",
       "    'train_accuracy': 53.144,\n",
       "    '_step': 17,\n",
       "    'epoch': 18,\n",
       "    '_runtime': 242.189086,\n",
       "    'test_loss': 1.3186252587919782},\n",
       "   {'_timestamp': 1757370056.513484,\n",
       "    'train_loss': 1.3027864311204846,\n",
       "    'test_accuracy': 52.51,\n",
       "    'train_accuracy': 53.724,\n",
       "    '_step': 18,\n",
       "    'epoch': 19,\n",
       "    '_runtime': 255.7796952,\n",
       "    'test_loss': 1.3169525277083087},\n",
       "   {'_timestamp': 1757370070.002801,\n",
       "    'train_loss': 1.2903830866374628,\n",
       "    'test_accuracy': 53.99,\n",
       "    'train_accuracy': 53.898,\n",
       "    '_step': 19,\n",
       "    'epoch': 20,\n",
       "    '_runtime': 269.2693318,\n",
       "    'test_loss': 1.299930462412014},\n",
       "   {'_timestamp': 1757370083.6088734,\n",
       "    'train_loss': 1.284791066518525,\n",
       "    'test_accuracy': 53.64,\n",
       "    'train_accuracy': 54.308,\n",
       "    '_step': 20,\n",
       "    'epoch': 21,\n",
       "    '_runtime': 282.8752062,\n",
       "    'test_loss': 1.2966428182686969},\n",
       "   {'_timestamp': 1757370097.24601,\n",
       "    'train_loss': 1.2759834515774036,\n",
       "    'test_accuracy': 54.1,\n",
       "    'train_accuracy': 54.72,\n",
       "    '_step': 21,\n",
       "    'epoch': 22,\n",
       "    '_runtime': 296.5124561,\n",
       "    'test_loss': 1.2885719268185318},\n",
       "   {'_timestamp': 1757370110.7034776,\n",
       "    'train_loss': 1.2684085765458128,\n",
       "    'test_accuracy': 54.2,\n",
       "    'train_accuracy': 55.03,\n",
       "    '_step': 22,\n",
       "    'epoch': 23,\n",
       "    '_runtime': 309.9699506,\n",
       "    'test_loss': 1.281925141052076},\n",
       "   {'_timestamp': 1757370124.188298,\n",
       "    'train_loss': 1.2596111306753914,\n",
       "    'test_accuracy': 54.82,\n",
       "    'train_accuracy': 55.286,\n",
       "    '_step': 23,\n",
       "    'epoch': 24,\n",
       "    '_runtime': 323.4537516,\n",
       "    'test_loss': 1.2779182263999989},\n",
       "   {'_timestamp': 1757370137.6057293,\n",
       "    'train_loss': 1.256540460964603,\n",
       "    'test_accuracy': 53.35,\n",
       "    'train_accuracy': 55.198,\n",
       "    '_step': 24,\n",
       "    'epoch': 25,\n",
       "    '_runtime': 336.8722553,\n",
       "    'test_loss': 1.2798120360465566},\n",
       "   {'_timestamp': 1757370151.0637841,\n",
       "    'train_loss': 1.2471992868901518,\n",
       "    'test_accuracy': 54.49,\n",
       "    'train_accuracy': 55.766,\n",
       "    '_step': 25,\n",
       "    'epoch': 26,\n",
       "    '_runtime': 350.3299529,\n",
       "    'test_loss': 1.2895538222258258},\n",
       "   {'_timestamp': 1757370164.4802017,\n",
       "    'train_loss': 1.2405697470888153,\n",
       "    'test_accuracy': 55.34,\n",
       "    'train_accuracy': 55.928,\n",
       "    '_step': 26,\n",
       "    'epoch': 27,\n",
       "    '_runtime': 363.7465195,\n",
       "    'test_loss': 1.2581954894551806},\n",
       "   {'_timestamp': 1757370177.8604043,\n",
       "    'train_loss': 1.233703757567174,\n",
       "    'test_accuracy': 55.38,\n",
       "    'train_accuracy': 56.276,\n",
       "    '_step': 27,\n",
       "    'epoch': 28,\n",
       "    '_runtime': 377.1268253,\n",
       "    'test_loss': 1.2510777681496492},\n",
       "   {'_timestamp': 1757370191.2432923,\n",
       "    'train_loss': 1.2269729163945484,\n",
       "    'test_accuracy': 55.43,\n",
       "    'train_accuracy': 56.492,\n",
       "    '_step': 28,\n",
       "    'epoch': 29,\n",
       "    '_runtime': 390.5096184,\n",
       "    'test_loss': 1.238624070480371},\n",
       "   {'_timestamp': 1757370204.5703444,\n",
       "    'train_loss': 1.2201497593651647,\n",
       "    'test_accuracy': 56.27,\n",
       "    'train_accuracy': 56.812,\n",
       "    '_step': 29,\n",
       "    'epoch': 30,\n",
       "    '_runtime': 403.836469,\n",
       "    'test_loss': 1.2362092224655636}]}]"
      ]
     },
     "execution_count": 69,
     "metadata": {},
     "output_type": "execute_result"
    }
   ],
   "execution_count": 69
  },
  {
   "metadata": {
    "ExecuteTime": {
     "end_time": "2025-10-03T22:31:30.222440Z",
     "start_time": "2025-10-03T22:31:29.997630Z"
    }
   },
   "cell_type": "code",
   "source": [
    "for run in runs:\n",
    "    #json_test = dict(run.__dict__)\n",
    "    history_temp = run.scan_history()\n",
    "    break"
   ],
   "id": "ae10a5bbe7ed36ae",
   "outputs": [],
   "execution_count": 55
  },
  {
   "metadata": {
    "ExecuteTime": {
     "end_time": "2025-10-03T22:32:05.332179Z",
     "start_time": "2025-10-03T22:32:04.958110Z"
    }
   },
   "cell_type": "code",
   "source": [
    "for item in history_temp:\n",
    "    first_item = item\n",
    "    break"
   ],
   "id": "ae21597e334259fd",
   "outputs": [],
   "execution_count": 63
  },
  {
   "metadata": {
    "ExecuteTime": {
     "end_time": "2025-10-03T22:32:08.494564Z",
     "start_time": "2025-10-03T22:32:08.492076Z"
    }
   },
   "cell_type": "code",
   "source": "first_item",
   "id": "59379ad3eca16323",
   "outputs": [
    {
     "data": {
      "text/plain": [
       "{'_runtime': 0.814881012,\n",
       " 'reconstructions': None,\n",
       " 'train_kl': 0.4077010154724121,\n",
       " 'val_loss': None,\n",
       " 'val_recon': None,\n",
       " '_timestamp': 1759463926.7411144,\n",
       " 'val_kl': None,\n",
       " 'train_loss': 0.8081372976303101,\n",
       " 'step': 0,\n",
       " 'epoch': 1,\n",
       " 'train_recon': 0.8077296018600464,\n",
       " 'lr': None,\n",
       " '_step': 0}"
      ]
     },
     "execution_count": 64,
     "metadata": {},
     "output_type": "execute_result"
    }
   ],
   "execution_count": 64
  },
  {
   "metadata": {
    "ExecuteTime": {
     "end_time": "2025-10-03T22:28:36.410706Z",
     "start_time": "2025-10-03T22:28:36.407108Z"
    }
   },
   "cell_type": "code",
   "source": "json_test['_attrs']",
   "id": "c76da72e3531d4f3",
   "outputs": [
    {
     "data": {
      "text/plain": [
       "{'projectId': '42706326',\n",
       " 'id': 'UnVuOnYxOjl3ejRseTY3OnJlc25ldHZhZTpkcnNjb3R0aGF3bGV5',\n",
       " 'tags': [],\n",
       " 'name': '9wz4ly67',\n",
       " 'displayName': 'iconic-sweep-1',\n",
       " 'sweepName': 'jns9azzd',\n",
       " 'state': 'finished',\n",
       " 'config': '{\"lr\": {\"value\": 0.0001}, \"model\": {\"value\": \"ResNetVAE\"}, \"_wandb\": {\"value\": {\"e\": {\"gy2cx24m9c2slfwixhfrv56d22508p5o\": {\"os\": \"Linux-6.6.87.2-microsoft-standard-WSL2-x86_64-with-glibc2.35\", \"gpu\": \"NVIDIA GeForce RTX 4090 Laptop GPU\", \"args\": [\"--batch_size=64\", \"--lr=0.0001\", \"--scrunch_factor=0.001\"], \"disk\": {\"/\": {\"used\": \"459084271616\", \"total\": \"1081101176832\"}}, \"host\": \"hsrazer\", \"root\": \"/home/shawley/leaderboard\", \"email\": \"scott.hawley@belmont.edu\", \"memory\": {\"total\": \"16580198400\"}, \"python\": \"CPython 3.10.12\", \"program\": \"/home/shawley/leaderboard/cnnvae.py\", \"codePath\": \"cnnvae.py\", \"writerId\": \"gy2cx24m9c2slfwixhfrv56d22508p5o\", \"cpu_count\": 16, \"gpu_count\": 1, \"startedAt\": \"2025-10-03T03:58:45.298668Z\", \"executable\": \"/home/shawley/envs/dlaie/bin/python\", \"gpu_nvidia\": [{\"name\": \"NVIDIA GeForce RTX 4090 Laptop GPU\", \"uuid\": \"GPU-3d8d7d9f-ec93-39b6-78fe-aaa8b861425c\", \"memoryTotal\": \"17171480576\", \"architecture\": \"Ada\"}], \"cudaVersion\": \"13.0\", \"codePathLocal\": \"cnnvae.py\", \"cpu_count_logical\": 32}}, \"m\": [], \"t\": {\"1\": [1, 41], \"2\": [1, 41], \"3\": [2, 14, 16], \"4\": \"3.10.12\", \"5\": \"0.22.1\", \"12\": \"0.22.1\", \"13\": \"linux-x86_64\"}, \"cli_version\": \"0.22.1\", \"python_version\": \"3.10.12\"}}, \"epochs\": {\"value\": 50}, \"spatial\": {\"value\": true}, \"batch_size\": {\"value\": 64}, \"latent_dim\": {\"value\": 3}, \"weight_decay\": {\"value\": 0.00001}, \"scrunch_factor\": {\"value\": 0.001}}',\n",
       " 'group': None,\n",
       " 'jobType': None,\n",
       " 'commit': None,\n",
       " 'readOnly': True,\n",
       " 'createdAt': '2025-10-03T03:58:41Z',\n",
       " 'heartbeatAt': '2025-10-03T04:20:11Z',\n",
       " 'description': 'iconic-sweep-1',\n",
       " 'notes': None,\n",
       " 'systemMetrics': '{\"system.cpu\": 6.258640045490911, \"system.gpu.0.gpu\": 83, \"system.gpu.0.temp\": 74, \"system.disk.sdd.in\": 158.66796875, \"system.disk.sdd.out\": 62.6328125, \"system.gpu.0.memory\": 17, \"system.network.recv\": 1173593.0, \"system.network.sent\": 12638036.0, \"system.gpu.0.smClock\": 1860, \"system.disk./.usageGB\": 427.60426330566406, \"system.memory_percent\": 14.823118160033596, \"system.gpu.0.powerWatts\": 99.389, \"system.proc.cpu.threads\": 32, \"system.gpu.0.memoryClock\": 9000, \"system.proc.memory.rssMB\": 1527.33984375, \"system.gpu.0.powerPercent\": 84.98490795132922, \"system.disk./.usagePercent\": 44.74540828515918, \"system.proc.memory.percent\": 9.65930482472393, \"system.gpu.0.memoryAllocated\": 12.701824506900342, \"system.proc.memory.availableMB\": 13468.26171875, \"system.gpu.0.memoryAllocatedBytes\": 2181091328, \"system.gpu.0.enforcedPowerLimitWatts\": 116.949}',\n",
       " 'summaryMetrics': '{\"_runtime\":1285,\"_step\":46999,\"_timestamp\":1759465211.1838894,\"_wandb\":{\"runtime\":1285},\"epoch\":50,\"lr\":0.0000125,\"reconstructions\":{\"_type\":\"image-file\",\"format\":\"png\",\"height\":600,\"path\":\"media/images/reconstructions_46998_c00d371f8e36fd7d53b7.png\",\"sha256\":\"c00d371f8e36fd7d53b7ebfe67b0b99b77db8adbeca453d4b427f0ce504737b0\",\"size\":31095,\"width\":1500},\"step\":46899,\"train_kl\":2.709245204925537,\"train_loss\":0.06664103872454497,\"train_recon\":0.06309249997138977,\"val_kl\":2.707041565779668,\"val_loss\":0.06560335002222638,\"val_recon\":0.06289630834084407}',\n",
       " 'historyLineCount': 47000,\n",
       " 'user': {'name': 'Scott H. Hawley', 'username': 'drscotthawley'},\n",
       " 'historyKeys': {'keys': {'_runtime': {'typeCounts': [{'type': 'number',\n",
       "      'count': 47000}],\n",
       "    'monotonic': True,\n",
       "    'previousValue': 1285.257323443},\n",
       "   '_step': {'typeCounts': [{'type': 'number', 'count': 47000}],\n",
       "    'monotonic': True,\n",
       "    'previousValue': 46999},\n",
       "   '_timestamp': {'typeCounts': [{'type': 'number', 'count': 47000}],\n",
       "    'monotonic': True,\n",
       "    'previousValue': 1759465211.1838894},\n",
       "   'epoch': {'typeCounts': [{'type': 'number', 'count': 47000}],\n",
       "    'previousValue': 50},\n",
       "   'lr': {'typeCounts': [{'type': 'number', 'count': 50}],\n",
       "    'previousValue': 1.25e-05},\n",
       "   'reconstructions': {'typeCounts': [{'type': 'image-file',\n",
       "      'count': 50,\n",
       "      'nestedTypes': ['default']}],\n",
       "    'monotonic': True},\n",
       "   'step': {'typeCounts': [{'type': 'number', 'count': 46900}],\n",
       "    'monotonic': True,\n",
       "    'previousValue': 46899},\n",
       "   'system/cpu': {'typeCounts': [{'type': 'number', 'count': 170}]},\n",
       "   'system/disk./.usageGB': {'typeCounts': [{'type': 'number', 'count': 170}]},\n",
       "   'system/disk./.usagePercent': {'typeCounts': [{'type': 'number',\n",
       "      'count': 170}]},\n",
       "   'system/disk.sdd.in': {'typeCounts': [{'type': 'number', 'count': 170}]},\n",
       "   'system/disk.sdd.out': {'typeCounts': [{'type': 'number', 'count': 170}]},\n",
       "   'system/gpu.0.enforcedPowerLimitWatts': {'typeCounts': [{'type': 'number',\n",
       "      'count': 170}]},\n",
       "   'system/gpu.0.gpu': {'typeCounts': [{'type': 'number', 'count': 170}]},\n",
       "   'system/gpu.0.memory': {'typeCounts': [{'type': 'number', 'count': 170}]},\n",
       "   'system/gpu.0.memoryAllocated': {'typeCounts': [{'type': 'number',\n",
       "      'count': 170}]},\n",
       "   'system/gpu.0.memoryAllocatedBytes': {'typeCounts': [{'type': 'number',\n",
       "      'count': 170}]},\n",
       "   'system/gpu.0.memoryClock': {'typeCounts': [{'type': 'number',\n",
       "      'count': 170}]},\n",
       "   'system/gpu.0.powerPercent': {'typeCounts': [{'type': 'number',\n",
       "      'count': 170}]},\n",
       "   'system/gpu.0.powerWatts': {'typeCounts': [{'type': 'number',\n",
       "      'count': 170}]},\n",
       "   'system/gpu.0.smClock': {'typeCounts': [{'type': 'number', 'count': 170}]},\n",
       "   'system/gpu.0.temp': {'typeCounts': [{'type': 'number', 'count': 170}]},\n",
       "   'system/memory_percent': {'typeCounts': [{'type': 'number', 'count': 170}]},\n",
       "   'system/network.recv': {'typeCounts': [{'type': 'number', 'count': 170}]},\n",
       "   'system/network.sent': {'typeCounts': [{'type': 'number', 'count': 170}]},\n",
       "   'system/proc.cpu.threads': {'typeCounts': [{'type': 'number',\n",
       "      'count': 170}]},\n",
       "   'system/proc.memory.availableMB': {'typeCounts': [{'type': 'number',\n",
       "      'count': 170}]},\n",
       "   'system/proc.memory.percent': {'typeCounts': [{'type': 'number',\n",
       "      'count': 170}]},\n",
       "   'system/proc.memory.rssMB': {'typeCounts': [{'type': 'number',\n",
       "      'count': 170}]},\n",
       "   'train_kl': {'typeCounts': [{'type': 'number', 'count': 46900}],\n",
       "    'previousValue': 2.709245204925537},\n",
       "   'train_loss': {'typeCounts': [{'type': 'number', 'count': 46950}],\n",
       "    'previousValue': 0.06664103872454497},\n",
       "   'train_recon': {'typeCounts': [{'type': 'number', 'count': 46900}],\n",
       "    'previousValue': 0.06309249997138977},\n",
       "   'val_kl': {'typeCounts': [{'type': 'number', 'count': 50}],\n",
       "    'previousValue': 2.707041565779668},\n",
       "   'val_loss': {'typeCounts': [{'type': 'number', 'count': 50}],\n",
       "    'previousValue': 0.06560335002222638},\n",
       "   'val_recon': {'typeCounts': [{'type': 'number', 'count': 50}],\n",
       "    'previousValue': 0.06289630834084407}},\n",
       "  'lastStep': 46999,\n",
       "  'sets': []}}"
      ]
     },
     "execution_count": 54,
     "metadata": {},
     "output_type": "execute_result"
    }
   ],
   "execution_count": 54
  },
  {
   "metadata": {
    "ExecuteTime": {
     "end_time": "2025-10-03T22:40:27.538744Z",
     "start_time": "2025-10-03T22:40:27.532388Z"
    }
   },
   "cell_type": "code",
   "source": [
    "# Build some dfs\n",
    "summary_rows = []\n",
    "hist_rows = []\n",
    "\n",
    "for r in records:\n",
    "    cfg   = r.get(\"config\", {})\n",
    "    hist  = r.get(\"history\", [])\n",
    "    last  = last_row(hist)\n",
    "\n",
    "    # summary row\n",
    "    summary_rows.append({\n",
    "        \"run_id\": r[\"run_id\"],\n",
    "        \"name\": r.get(\"name\"),\n",
    "        \"url\": r.get(\"url\"),\n",
    "        **{str(k): v for k, v in cfg.items()},\n",
    "        **{str(k): v for k, v in last.items()},\n",
    "    })\n",
    "\n",
    "    # long history rows\n",
    "    for h in hist:\n",
    "        hist_rows.append({\n",
    "            \"run_id\": r[\"run_id\"],\n",
    "            \"name\": r.get(\"name\"),\n",
    "            \"url\": r.get(\"url\"),\n",
    "            **{str(k): v for k, v in cfg.items()},\n",
    "            **h,  # includes epoch, train_loss, test_accuracy, etc.\n",
    "        })\n",
    "\n",
    "summary_df = pd.DataFrame(summary_rows)\n",
    "hist_df    = pd.DataFrame(hist_rows)\n",
    "\n",
    "# Create Cols\n",
    "summary_df[\"runtime_min\"] = summary_df[\"_runtime\"] / 60\n",
    "hist_df[\"runtime_min\"] = hist_df[\"_runtime\"] / 60\n",
    "\n",
    "# Some Cleaning\n",
    "if \"_timestamp\" in summary_df.columns:\n",
    "    summary_df[\"_timestamp\"] = pd.to_datetime(summary_df[\"_timestamp\"], unit=\"s\")\n",
    "if \"_timestamp\" in hist_df.columns:\n",
    "    hist_df[\"_timestamp\"] = pd.to_datetime(hist_df[\"_timestamp\"], unit=\"s\")"
   ],
   "id": "8930fd45d968fab5",
   "outputs": [],
   "execution_count": 71
  },
  {
   "metadata": {
    "ExecuteTime": {
     "end_time": "2025-10-03T22:40:44.625225Z",
     "start_time": "2025-10-03T22:40:44.618339Z"
    }
   },
   "cell_type": "code",
   "source": "summary_df",
   "id": "e5d8e45826c9279f",
   "outputs": [
    {
     "data": {
      "text/plain": [
       "     run_id           name                                                url  \\\n",
       "0  pz9yom7x  peach-sweep-1  https://wandb.ai/marcocassar-belmont-universit...   \n",
       "\n",
       "            seed                                             _wandb  \\\n",
       "0  {'value': 42}  {'value': {'e': {'4qpgsjct3231tuo99p2rz9cgzptr...   \n",
       "\n",
       "          epochs        stride         dropout       padding  \\\n",
       "0  {'value': 30}  {'value': 2}  {'value': 0.2}  {'value': 1}   \n",
       "\n",
       "          activation  ... apply_dropout_at                    _timestamp  \\\n",
       "0  {'value': 'ReLU'}  ...     {'value': 2} 2025-09-08 22:23:24.570344448   \n",
       "\n",
       "  train_loss test_accuracy train_accuracy _step epoch    _runtime test_loss  \\\n",
       "0    1.22015         56.27         56.812    29    30  403.836469  1.236209   \n",
       "\n",
       "   runtime_min  \n",
       "0     6.730608  \n",
       "\n",
       "[1 rows x 27 columns]"
      ],
      "text/html": [
       "<div>\n",
       "<style scoped>\n",
       "    .dataframe tbody tr th:only-of-type {\n",
       "        vertical-align: middle;\n",
       "    }\n",
       "\n",
       "    .dataframe tbody tr th {\n",
       "        vertical-align: top;\n",
       "    }\n",
       "\n",
       "    .dataframe thead th {\n",
       "        text-align: right;\n",
       "    }\n",
       "</style>\n",
       "<table border=\"1\" class=\"dataframe\">\n",
       "  <thead>\n",
       "    <tr style=\"text-align: right;\">\n",
       "      <th></th>\n",
       "      <th>run_id</th>\n",
       "      <th>name</th>\n",
       "      <th>url</th>\n",
       "      <th>seed</th>\n",
       "      <th>_wandb</th>\n",
       "      <th>epochs</th>\n",
       "      <th>stride</th>\n",
       "      <th>dropout</th>\n",
       "      <th>padding</th>\n",
       "      <th>activation</th>\n",
       "      <th>...</th>\n",
       "      <th>apply_dropout_at</th>\n",
       "      <th>_timestamp</th>\n",
       "      <th>train_loss</th>\n",
       "      <th>test_accuracy</th>\n",
       "      <th>train_accuracy</th>\n",
       "      <th>_step</th>\n",
       "      <th>epoch</th>\n",
       "      <th>_runtime</th>\n",
       "      <th>test_loss</th>\n",
       "      <th>runtime_min</th>\n",
       "    </tr>\n",
       "  </thead>\n",
       "  <tbody>\n",
       "    <tr>\n",
       "      <th>0</th>\n",
       "      <td>pz9yom7x</td>\n",
       "      <td>peach-sweep-1</td>\n",
       "      <td>https://wandb.ai/marcocassar-belmont-universit...</td>\n",
       "      <td>{'value': 42}</td>\n",
       "      <td>{'value': {'e': {'4qpgsjct3231tuo99p2rz9cgzptr...</td>\n",
       "      <td>{'value': 30}</td>\n",
       "      <td>{'value': 2}</td>\n",
       "      <td>{'value': 0.2}</td>\n",
       "      <td>{'value': 1}</td>\n",
       "      <td>{'value': 'ReLU'}</td>\n",
       "      <td>...</td>\n",
       "      <td>{'value': 2}</td>\n",
       "      <td>2025-09-08 22:23:24.570344448</td>\n",
       "      <td>1.22015</td>\n",
       "      <td>56.27</td>\n",
       "      <td>56.812</td>\n",
       "      <td>29</td>\n",
       "      <td>30</td>\n",
       "      <td>403.836469</td>\n",
       "      <td>1.236209</td>\n",
       "      <td>6.730608</td>\n",
       "    </tr>\n",
       "  </tbody>\n",
       "</table>\n",
       "<p>1 rows × 27 columns</p>\n",
       "</div>"
      ]
     },
     "execution_count": 72,
     "metadata": {},
     "output_type": "execute_result"
    }
   ],
   "execution_count": 72
  },
  {
   "metadata": {
    "ExecuteTime": {
     "end_time": "2025-10-03T22:23:12.929138Z",
     "start_time": "2025-10-03T22:23:12.736609Z"
    }
   },
   "cell_type": "code",
   "outputs": [],
   "execution_count": 32,
   "source": [
    "# summary_df = summary_df[~(summary_df['name'] == 'peachy-sweep-46')]\n",
    "# hist_df = hist_df[~(hist_df['name'] == 'peachy-sweep-46')]"
   ],
   "id": "6054da3b9076807a"
  },
  {
   "metadata": {
    "ExecuteTime": {
     "end_time": "2025-10-03T22:23:43.038604Z",
     "start_time": "2025-10-03T22:23:13.749613Z"
    }
   },
   "cell_type": "code",
   "source": [
    "# To CSV\n",
    "summary_df.to_csv(\"summary.csv\", index=False)\n",
    "hist_df.to_csv(\"hist.csv\", index=False)"
   ],
   "id": "85f0a689a83a6701",
   "outputs": [],
   "execution_count": 33
  },
  {
   "metadata": {},
   "cell_type": "code",
   "outputs": [],
   "execution_count": null,
   "source": "",
   "id": "5612d2af01a0c9f4"
  }
 ],
 "metadata": {
  "kernelspec": {
   "display_name": "Python 3",
   "language": "python",
   "name": "python3"
  },
  "language_info": {
   "codemirror_mode": {
    "name": "ipython",
    "version": 2
   },
   "file_extension": ".py",
   "mimetype": "text/x-python",
   "name": "python",
   "nbconvert_exporter": "python",
   "pygments_lexer": "ipython2",
   "version": "2.7.6"
  }
 },
 "nbformat": 4,
 "nbformat_minor": 5
}
